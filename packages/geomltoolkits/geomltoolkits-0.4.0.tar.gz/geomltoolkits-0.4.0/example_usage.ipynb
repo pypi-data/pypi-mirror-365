{
 "cells": [
  {
   "cell_type": "code",
   "execution_count": null,
   "metadata": {},
   "outputs": [],
   "source": [
    "!pip install geomltoolkits"
   ]
  },
  {
   "cell_type": "code",
   "execution_count": null,
   "metadata": {},
   "outputs": [],
   "source": [
    "import os\n",
    "from geomltoolkits.downloader import tms as TMSDownloader\n",
    "from geomltoolkits.downloader import osm as OSMDownloader\n",
    "from geomltoolkits.regularizer import VectorizeMasks"
   ]
  },
  {
   "cell_type": "markdown",
   "metadata": {},
   "source": [
    "## Define area of interest to work on \n",
    "\n",
    "- Go to Open Aerial Map and then find TMS (Copy TMS Link)\n",
    "    For this example we are using this image : https://map.openaerialmap.org/#/85.52534580230713,27.63552012302292,14/square/12313122310120202/62d86c65d8499800053796c4?_k=okhkbl \n",
    "\n",
    "- Verify OSM is mapped properly in that area\n",
    "    Go to www.osm.org  , You can simply switch layer in OAM itself and see osm underneath \n",
    "    \n",
    "- Define area of interest where you want to generate training data \n",
    "    You can get your bbox from your geojson / area from here : https://kshitijrajsharma.github.io/geojson2bbox/ "
   ]
  },
  {
   "cell_type": "code",
   "execution_count": 2,
   "metadata": {},
   "outputs": [],
   "source": [
    "# Default parameters\n",
    "ZOOM = 18\n",
    "WORK_DIR = \"banepa\"\n",
    "TMS = \"https://tiles.openaerialmap.org/62d85d11d8499800053796c1/0/62d85d11d8499800053796c2/{z}/{x}/{y}\"\n",
    "# AOI = \"input.geojson\"\n",
    "bbox = [85.51678033745037,27.6313353660439,85.52323021107895,27.637438390948745]\n",
    "\n",
    "# Ensure working directory\n",
    "os.makedirs(WORK_DIR, exist_ok=True)"
   ]
  },
  {
   "cell_type": "markdown",
   "metadata": {},
   "source": [
    "### Generate chips images for your area of interest"
   ]
  },
  {
   "cell_type": "code",
   "execution_count": null,
   "metadata": {},
   "outputs": [
    {
     "name": "stdout",
     "output_type": "stream",
     "text": [
      "Total tiles fetched: 36\n"
     ]
    },
    {
     "name": "stderr",
     "output_type": "stream",
     "text": [
      "  0%|          | 0/36 [00:00<?, ?tile/s]/Users/krschap/hotosm/geoml-toolkits/env/lib/python3.12/site-packages/rasterio/__init__.py:358: NotGeoreferencedWarning: Dataset has no geotransform, gcps, or rpcs. The identity matrix will be returned.\n",
      "  dataset = get_writer_for_path(path, driver=driver)(\n",
      "100%|██████████| 36/36 [00:01<00:00, 23.44tile/s]\n"
     ]
    }
   ],
   "source": [
    "# Download tiles\n",
    "await TMSDownloader.download_tiles(\n",
    "        tms=TMS, \n",
    "        zoom=ZOOM, \n",
    "        out=WORK_DIR, \n",
    "        bbox=bbox, \n",
    "        georeference=True, \n",
    "        dump_tile_geometries_as_geojson==True,\n",
    "        prefix=\"OAM\"\n",
    "    )\n"
   ]
  },
  {
   "cell_type": "markdown",
   "metadata": {},
   "source": [
    "### Fetch labels \n",
    "\n",
    "Here we are using the same tiles.geojson that was used to fetch tiles , remember your bbox / geojson and tile boundary might be little bit different due to tile size and we want to make sure we have labels for the tile boundary hence input here would be tiles.geojson "
   ]
  },
  {
   "cell_type": "code",
   "execution_count": null,
   "metadata": {},
   "outputs": [
    {
     "name": "stdout",
     "output_type": "stream",
     "text": [
      "OSM Data Last Updated :  2025-01-23 12:58:06+00:00\n",
      "Dumping GeoJSON data to file... banepa/labels/osm-result.geojson\n",
      "Spllited GeoJSON wrt tiles saved to:  banepa/labels/split\n"
     ]
    },
    {
     "data": {
      "text/plain": [
       "'banepa/labels'"
      ]
     },
     "execution_count": 4,
     "metadata": {},
     "output_type": "execute_result"
    }
   ],
   "source": [
    "# Download OSM data for tile boundary\n",
    "tiles_geojson = os.path.join(WORK_DIR, \"tiles.geojson\")\n",
    "await OSMDownloader.download_osm_data(\n",
    "    geojson=tiles_geojson, \n",
    "    out=os.path.join(WORK_DIR, \"labels\"),\n",
    "    dump_results=True,\n",
    "    split_output_by_tiles=True,\n",
    "    split_prefix=\"OAM\"\n",
    ")\n"
   ]
  },
  {
   "cell_type": "markdown",
   "metadata": {},
   "source": [
    "### Regularize Footprints\n",
    "\n",
    "To regularize building footprints, you can use the `VectorizeMasks` class from the `regularizer` module. Here is an example:"
   ]
  },
  {
   "cell_type": "code",
   "execution_count": null,
   "metadata": {},
   "outputs": [],
   "source": [
    "import os\n",
    "from geomltoolkits.regularizer import VectorizeMasks\n",
    "\n",
    "# Define input and output files\n",
    "input_tiff = \"path/to/input.tiff\"\n",
    "output_geojson = \"path/to/output.geojson\"\n",
    "\n",
    "# Create a VectorizeMasks instance\n",
    "converter = VectorizeMasks(\n",
    "    simplify_tolerance=0.2,\n",
    "    min_area=1.0,\n",
    "    orthogonalize=True,\n",
    "    algorithm=\"potrace\",\n",
    "    tmp_dir=os.getcwd()\n",
    ")\n",
    "\n",
    "# Run the conversion\n",
    "converter.convert(input_tiff, output_geojson)\n"
   ]
  }
 ],
 "metadata": {
  "kernelspec": {
   "display_name": "env",
   "language": "python",
   "name": "python3"
  },
  "language_info": {
   "codemirror_mode": {
    "name": "ipython",
    "version": 3
   },
   "file_extension": ".py",
   "mimetype": "text/x-python",
   "name": "python",
   "nbconvert_exporter": "python",
   "pygments_lexer": "ipython3",
   "version": "3.12.5"
  }
 },
 "nbformat": 4,
 "nbformat_minor": 2
}
