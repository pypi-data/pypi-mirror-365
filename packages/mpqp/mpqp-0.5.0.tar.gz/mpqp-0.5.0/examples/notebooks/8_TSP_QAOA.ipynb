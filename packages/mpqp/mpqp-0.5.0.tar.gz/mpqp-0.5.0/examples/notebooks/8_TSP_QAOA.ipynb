{
  "cells": [
    {
      "cell_type": "markdown",
      "id": "fbdb6f47",
      "metadata": {},
      "source": [
        "# Solving combinatorial problems with QAOA\n",
        "\n",
        "This notebook demonstrates the process of solving a combinatorial problem described in the QUBO formulation using the QAOA algorithm."
      ]
    },
    {
      "cell_type": "markdown",
      "id": "88639eed",
      "metadata": {},
      "source": [
        "The Quantum Approximate Optimization Algorithm is an algorithm of the family of Variational Quantum Algorithms, and thus requires three main components to be executed:\n",
        "\n",
        "+ A cost function encoding the problem to solve, in this modeled by a cost hamiltonian $H_C$.\n",
        "+ An Ansatz describing the architecture of the parametrized quantum circuit, with a cost hamiltonian $H_C$ and a mixer hamiltonian $H_M$\n",
        "+ A classical optimizer use to find the best parameters of the circuit"
      ]
    },
    {
      "cell_type": "markdown",
      "id": "f213d2e9",
      "metadata": {},
      "source": [
        "In this example we will be tackling the traveling salesman problem (TSP) which aims at finding the cycle (path where the last vertex is the first one) with the lowest cost in a graph while visiting each vertex once. We will do this by using an approach based on QAOA."
      ]
    },
    {
      "cell_type": "code",
      "execution_count": 1,
      "id": "32a60f00",
      "metadata": {},
      "outputs": [],
      "source": [
        "import networkx  # used here to generate the graph\n",
        "import numpy as np\n",
        "import numpy.typing as npt\n",
        "import random"
      ]
    },
    {
      "cell_type": "markdown",
      "id": "0b88ad4e",
      "metadata": {},
      "source": [
        "Solving the Travelling Salesman Problem consists in finding the shortest hamiltonian path, a path where we visit each vertex of the graph only once, and return to the starting point. We chose to model such path as a list of indices of the vertices. \n",
        "First we will be generating the graph.\n",
        "For this example we will be taking a 3-vertex graph with positive weights."
      ]
    },
    {
      "cell_type": "code",
      "execution_count": 2,
      "id": "701af890",
      "metadata": {},
      "outputs": [
        {
          "name": "stdout",
          "output_type": "stream",
          "text": [
            "Graph with 3 nodes and 3 edges\n",
            "\n",
            "[([0, 1], 5), [[1, 0], 12], ([0, 2], 5), [[2, 0], 20], ([1, 2], 3), [[2, 1], 7]]\n"
          ]
        }
      ],
      "source": [
        "nbr_vertexs = 3\n",
        "G = networkx.fast_gnp_random_graph(\n",
        "    nbr_vertexs, 1\n",
        ")  # generates n vertexs with every vertex connected to each other\n",
        "cost_list = []\n",
        "for u, v, w in G.edges(data=True):\n",
        "    w['weight'] = random.randint(3, 10)\n",
        "    cost_list.append(([u, v], w['weight']))\n",
        "    cost_list.append([[v, u], w['weight'] + random.randint(-2, 15)])\n",
        "print(G)\n",
        "print()\n",
        "print(cost_list)"
      ]
    },
    {
      "cell_type": "markdown",
      "id": "c7d60811",
      "metadata": {},
      "source": [
        "Now that we have our graph with random weights, we need to get the adjacency matrix of this graph.\n",
        "\n",
        "This is a matrix that represent all of the weights between each vertices. We define the cost of a path to be the sum of the distances between each vertex of the path, plus the distance to come back to the starting point."
      ]
    },
    {
      "cell_type": "code",
      "execution_count": 3,
      "id": "997f5730",
      "metadata": {},
      "outputs": [
        {
          "name": "stdout",
          "output_type": "stream",
          "text": [
            "[[ 0  5  5]\n",
            " [12  0  3]\n",
            " [20  7  0]]\n"
          ]
        }
      ],
      "source": [
        "def generate_adjacency_matrix(\n",
        "    list_of_cost: list[tuple[list[int], int]], nb_cities: int\n",
        "):\n",
        "    \"\"\"Example of list of cost = [[[0,1],23], [[1,2], 52], [[0,2], 12]]\"\"\"\n",
        "\n",
        "    w_ij = np.zeros((nb_cities, nb_cities), dtype=int)\n",
        "\n",
        "    for i in list_of_cost:\n",
        "\n",
        "        cost = i[1]\n",
        "\n",
        "        w_ij[i[0][0], i[0][1]] = cost\n",
        "\n",
        "    return w_ij\n",
        "\n",
        "\n",
        "adj_matrix = generate_adjacency_matrix(cost_list, 3)\n",
        "\n",
        "\n",
        "print(adj_matrix)"
      ]
    },
    {
      "cell_type": "markdown",
      "id": "dccb2bae",
      "metadata": {},
      "source": [
        "Now that we have our matrix we will be generating our QUBO expression.\n",
        "A QUBO (quadratic unconstrained binary optimization) is a quadratic polynomial expression of binary variables, it is used to represent different combinatorial problems.\n",
        "\n",
        "The goal is to find the set of binary values that minimize the expression.\n",
        "\n",
        "For example if we have the expression : $2*x_0 - 3*x_1\\\\$\n",
        "Then the minimum value will be -3 with $x_0 = 0$ and $x_1 = 1$.\n",
        "\n",
        "\n",
        "For each path between two vertexs we need to define a QUBO monomial so we have 2*edges."
      ]
    },
    {
      "cell_type": "code",
      "execution_count": 4,
      "id": "b9d8d731",
      "metadata": {},
      "outputs": [
        {
          "name": "stdout",
          "output_type": "stream",
          "text": [
            "5*x0,1+5*x0,2+12*x1,0+3*x1,2+20*x2,0+7*x2,1\n",
            "[(5, ['x0,1']), (5, ['x0,2']), (12, ['x1,0']), (3, ['x1,2']), (20, ['x2,0']), (7, ['x2,1'])]\n"
          ]
        }
      ],
      "source": [
        "from mpqp.execution.vqa.qubo import Qubo, QuboAtom\n",
        "\n",
        "\n",
        "def generate_qubo_expression(adj_matrix: npt.NDArray[np.int64]) -> Qubo:\n",
        "    length = len(adj_matrix)\n",
        "    result = 0\n",
        "    for i in range(length):\n",
        "        for j in range(length):\n",
        "            if adj_matrix[i][j] == 0:\n",
        "                continue\n",
        "            current = adj_matrix[i][j] * QuboAtom(f'x{i},{j}')\n",
        "            if isinstance(result, int):\n",
        "                result = current\n",
        "            else:\n",
        "                result += current\n",
        "    return (\n",
        "        result if not isinstance(result, int) else 0 * QuboAtom(\"x\")\n",
        "    )  # if the adjacency matrix is empty\n",
        "\n",
        "\n",
        "expr = generate_qubo_expression(adj_matrix)\n",
        "\n",
        "print(expr)\n",
        "initial_coeffs = expr.get_terms_and_coefs()\n",
        "print(initial_coeffs)"
      ]
    },
    {
      "cell_type": "markdown",
      "id": "56c28e76",
      "metadata": {},
      "source": [
        "Now that we have our Qubo expression we need to implement the constraints of this problem, constraints here \n",
        "\n",
        "The first one is the fact that we have to go through each cities exactly once, in this case we express it as xor operators between every path that end with the same vertex.\n",
        "\n",
        "For example if the path $x_{0,1}$ is chosen then the path $x_{2,1}$ cannot be chosen because they both lead to the same vertex.\n",
        "\n",
        "The second constraint is the inverse because it is not possible to start from the same city twice so once again the path $x_{0,1}$ excludes the path $x_{0,2}$.\n",
        "\n",
        "The way penalties works is when minimizing the loss function (our QUBO) we can enforce some behavior so that the minimum of the function respects the rules of the problem.\n",
        "Here because we need to go through each cities once so it translates to xor operations with a negative coefficient hence if the xor is true it will decrease the value of the loss function.\n",
        "\n",
        "Note : The coefficient of penalties can decide if the minimization finds the correct answer, if the penalties are too high then the minimization won't find the difference between solutions as long as they respect the constraints. However, if the penalties are not high enough the minimum of the loss function can ignore the penalties."
      ]
    },
    {
      "cell_type": "code",
      "execution_count": 5,
      "id": "bc757450",
      "metadata": {},
      "outputs": [
        {
          "name": "stdout",
          "output_type": "stream",
          "text": [
            "x0,1 ^ x0,2\n",
            "x1,0 ^ x1,2\n",
            "x2,0 ^ x2,1\n",
            "x1,0 ^ x2,0\n",
            "x0,1 ^ x2,1\n",
            "x0,2 ^ x1,2\n"
          ]
        }
      ],
      "source": [
        "def add_constraints(expr: Qubo, nbr_vertexs: int) -> Qubo:\n",
        "    for i in range(nbr_vertexs):\n",
        "        if i != 0:\n",
        "            current = QuboAtom(f'x{i},0')\n",
        "        else:\n",
        "            current = QuboAtom(f'x{i},1')\n",
        "        for j in range(1, nbr_vertexs):\n",
        "            if i == j or (i == 0 and j == 1):\n",
        "                continue\n",
        "            path = QuboAtom(f'x{i},{j}')\n",
        "            print(f'{current.value} ^ {path.value}')\n",
        "            expr += -20 * (current ^ path)\n",
        "    for i in range(nbr_vertexs):\n",
        "        if i != 0:\n",
        "            current = QuboAtom(f'x0,{i}')\n",
        "        else:\n",
        "            current = QuboAtom(f'x1,{i}')\n",
        "        for j in range(1, nbr_vertexs):\n",
        "            if i == j or (i == 0 and j == 1):\n",
        "                continue\n",
        "            path = QuboAtom(f'x{j},{i}')\n",
        "            print(f'{current.value} ^ {path.value}')\n",
        "            expr += -20 * (current ^ path)\n",
        "    return expr\n",
        "\n",
        "\n",
        "expr = add_constraints(expr, nbr_vertexs)"
      ]
    },
    {
      "cell_type": "code",
      "execution_count": 7,
      "id": "45221814",
      "metadata": {},
      "outputs": [
        {
          "name": "stdout",
          "output_type": "stream",
          "text": [
            "Minimum cost: -96\n",
            "Associated state: 011001\n",
            "Associated values: {'x0,1': 0, 'x0,2': 1, 'x1,0': 1, 'x1,2': 0, 'x2,0': 0, 'x2,1': 1}\n",
            "\n",
            "The path chosen : 011001 is the best path : True\n"
          ]
        }
      ],
      "source": [
        "from mpqp.execution.vqa.qaoa import QaoaMixer, QaoaMixerType, qaoa_solver\n",
        "from mpqp.execution.devices import IBMDevice\n",
        "from mpqp.execution.vqa import Optimizer\n",
        "\n",
        "\n",
        "def test_results(res: str, coeffs: list[tuple[float, list[str]]]):\n",
        "    current_answer = 0\n",
        "    other = 0\n",
        "    for i in range(len(res)):\n",
        "        if res[i] == '0':\n",
        "            other += coeffs[i][0]\n",
        "        else:\n",
        "            current_answer += coeffs[i][0]\n",
        "    return current_answer <= other\n",
        "\n",
        "\n",
        "mixer = QaoaMixer(QaoaMixerType.MIXER_X)\n",
        "result = qaoa_solver(expr, 3, mixer, IBMDevice.AER_SIMULATOR, Optimizer.POWELL, [1.] * 6)\n",
        "\n",
        "print(result)\n",
        "print()\n",
        "print(\n",
        "    f\"The path chosen : {result.final_state} is the best path : {test_results(result.final_state, initial_coeffs)}\"\n",
        ")"
      ]
    }
  ],
  "metadata": {
    "kernelspec": {
      "display_name": "Python 3",
      "language": "python",
      "name": "python3"
    },
    "language_info": {
      "codemirror_mode": {
        "name": "ipython",
        "version": 3
      },
      "file_extension": ".py",
      "mimetype": "text/x-python",
      "name": "python",
      "nbconvert_exporter": "python",
      "pygments_lexer": "ipython3",
      "version": "3.11.9"
    }
  },
  "nbformat": 4,
  "nbformat_minor": 5
}
