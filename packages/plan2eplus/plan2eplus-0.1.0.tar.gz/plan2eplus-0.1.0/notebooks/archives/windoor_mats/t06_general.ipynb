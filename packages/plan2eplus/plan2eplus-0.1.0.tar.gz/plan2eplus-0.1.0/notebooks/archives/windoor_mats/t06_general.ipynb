{
 "cells": [
  {
   "cell_type": "code",
   "execution_count": 1,
   "metadata": {},
   "outputs": [],
   "source": [
    "import sys\n",
    "sys.path.append(\"/Users/julietnwagwuume-ezeoke/_UILCode/gqe-phd/geomeppy/_scripts\")\n",
    "\n",
    "from case_edits.epcase import EneryPlusCaseEditor\n",
    "from case_edits.recipes.from_min import create_case\n",
    "\n",
    "from case_edits.methods.materials import Materials\n",
    "from case_edits.methods.doors import Door, DoorAttributes\n",
    "from case_edits.methods.subsurface import Subsurface, SubsurfaceAttributes, SubsurfaceType\n",
    "from outputs.variables import OutputVars as ov"
   ]
  },
  {
   "cell_type": "code",
   "execution_count": 2,
   "metadata": {},
   "outputs": [],
   "source": [
    "TEST_CASE = \"tests/test10_general_subsurface\"\n",
    "SURFACE_CONSTRUCTIONS_CASE = \"cases/constructions/ASHRAE_2005_HOF_Materials.idf\""
   ]
  },
  {
   "cell_type": "code",
   "execution_count": 3,
   "metadata": {},
   "outputs": [
    {
     "name": "stdout",
     "output_type": "stream",
     "text": [
      "cases/tests/test10_general_subsurface/out.idf\n",
      "cases/tests/test10_general_subsurface/out.idf\n",
      "Added 5 walls \n",
      "Added 4 walls \n"
     ]
    }
   ],
   "source": [
    "outputs = [ov.surf_incident_solar_rad, ov.surf_net_thermal_rad, ov.zone_mean_air_temp, ov.in_surf_temp]\n",
    "output_names = [o.value for o in outputs]\n",
    "epcase = create_case(TEST_CASE, outputs=output_names)"
   ]
  },
  {
   "cell_type": "code",
   "execution_count": 4,
   "metadata": {},
   "outputs": [],
   "source": [
    "mat = Materials(epcase)\n",
    "mat.study_reference_idf(SURFACE_CONSTRUCTIONS_CASE)\n",
    "mat.get_construction_materials('Light Furnishings')\n",
    "c = mat.get_case_constructions()\n",
    "const = mat.case_constructions[-1]\n",
    "\n",
    "\n"
   ]
  },
  {
   "cell_type": "code",
   "execution_count": 8,
   "metadata": {},
   "outputs": [],
   "source": [
    "surf = epcase.geometry.zones.B_West.walls.B_West_West_W03"
   ]
  },
  {
   "cell_type": "code",
   "execution_count": 9,
   "metadata": {},
   "outputs": [],
   "source": [
    "window_data = SubsurfaceAttributes(type=SubsurfaceType.WINDOW, length=1, height=1)\n",
    "\n",
    "window_data.set_surface(surf)\n",
    "\n",
    "const = epcase.idf.getobject(\"CONSTRUCTION\", \"Project External Window\")\n",
    "window_data.set_construction(const)"
   ]
  },
  {
   "cell_type": "code",
   "execution_count": 10,
   "metadata": {},
   "outputs": [],
   "source": [
    "window = Subsurface(epcase=epcase,attrs=window_data)\n",
    "window.create_surface()"
   ]
  },
  {
   "cell_type": "code",
   "execution_count": 7,
   "metadata": {},
   "outputs": [],
   "source": [
    "# door_data = SubsurfaceAttributes(type=SubsurfaceType.WINDOW, length=1, height=2)\n",
    "\n",
    "\n",
    "# door_data.set_surface(surf)\n",
    "# const = epcase.idf.getobject(\"CONSTRUCTION\", \"Light Furnishings\")\n",
    "# door_data.set_construction(const)\n",
    "\n",
    "# door = Subsurface(epcase=epcase,attrs=door_data)\n",
    "# door.create_surface()"
   ]
  },
  {
   "cell_type": "code",
   "execution_count": 11,
   "metadata": {},
   "outputs": [
    {
     "data": {
      "text/plain": [
       "\n",
       "WINDOW,\n",
       "    Block West Storey 0 Wall 0003 Window,    !- Name\n",
       "    Project External Window,    !- Construction Name\n",
       "    Block West Storey 0 Wall 0003,    !- Building Surface Name\n",
       "    ,                         !- Frame and Divider Name\n",
       "    1.0,                      !- Multiplier\n",
       "    3,                        !- Starting X Coordinate\n",
       "    0.02,                     !- Starting Z Coordinate\n",
       "    1,                        !- Length\n",
       "    1;                        !- Height"
      ]
     },
     "execution_count": 11,
     "metadata": {},
     "output_type": "execute_result"
    }
   ],
   "source": [
    "window.obj0"
   ]
  },
  {
   "cell_type": "code",
   "execution_count": 12,
   "metadata": {},
   "outputs": [
    {
     "name": "stdout",
     "output_type": "stream",
     "text": [
      "\n",
      "/Applications/EnergyPlus-22-2-0/energyplus --weather /Users/julietnwagwuume-ezeoke/_UILCode/gqe-phd/geomeppy/weather/CA_PALO-ALTO-AP_724937S_20.epw --output-directory /Users/julietnwagwuume-ezeoke/_UILCode/gqe-phd/geomeppy/cases/tests/test10_general_subsurface/results --idd /Applications/EnergyPlus-22-2-0/Energy+.idd /Users/julietnwagwuume-ezeoke/_UILCode/gqe-phd/geomeppy/cases/base/01example/Minimal_d8ab19.idf\n",
      "\n",
      "EnergyPlus Starting\n",
      "EnergyPlus, Version 22.2.0-c249759bad, YMD=2024.06.17 15:31\n",
      "Adjusting Air System Sizing\n",
      "Adjusting Standard 62.1 Ventilation Sizing\n",
      "Initializing Simulation\n",
      "Reporting Surfaces\n",
      "Beginning Primary Simulation\n",
      "Initializing New Environment Parameters\n",
      "Warming up {1}\n",
      "Warming up {2}\n",
      "Warming up {3}\n",
      "Warming up {4}\n",
      "Warming up {5}\n",
      "Warming up {6}\n",
      "Starting Simulation at 12/21 for DENVER_STAPLETON ANN HTG 99.6% CONDNS DB\n",
      "Initializing New Environment Parameters\n",
      "Warming up {1}\n",
      "Warming up {2}\n",
      "Warming up {3}\n",
      "Warming up {4}\n",
      "Warming up {5}\n",
      "Warming up {6}\n",
      "Starting Simulation at 07/21 for DENVER_STAPLETON ANN CLG .4% CONDNS DB=>MWB\n",
      "Writing tabular output file results using HTML format.\n",
      "Writing final SQL reports\n",
      "EnergyPlus Run Time=00hr 00min  0.37sec\n"
     ]
    },
    {
     "name": "stderr",
     "output_type": "stream",
     "text": [
      "EnergyPlus Completed Successfully.\n"
     ]
    }
   ],
   "source": [
    "epcase.run_idf()"
   ]
  }
 ],
 "metadata": {
  "kernelspec": {
   "display_name": "gqenv",
   "language": "python",
   "name": "python3"
  },
  "language_info": {
   "codemirror_mode": {
    "name": "ipython",
    "version": 3
   },
   "file_extension": ".py",
   "mimetype": "text/x-python",
   "name": "python",
   "nbconvert_exporter": "python",
   "pygments_lexer": "ipython3",
   "version": "3.9.15"
  }
 },
 "nbformat": 4,
 "nbformat_minor": 2
}
