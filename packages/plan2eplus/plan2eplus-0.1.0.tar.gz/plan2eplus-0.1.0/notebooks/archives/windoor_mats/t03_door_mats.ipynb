{
 "cells": [
  {
   "cell_type": "code",
   "execution_count": 1,
   "metadata": {},
   "outputs": [],
   "source": [
    "import sys\n",
    "sys.path.append(\"/Users/julietnwagwuume-ezeoke/_UILCode/gqe-phd/geomeppy/_scripts\")\n",
    "\n",
    "from case_edits.epcase import EneryPlusCaseEditor\n",
    "from case_edits.recipes.from_min import create_case\n",
    "\n",
    "from case_edits.methods.materials import Materials\n",
    "from case_edits.methods.doors import Door, DoorAttributes\n",
    "from outputs.variables import OutputVars as ov\n"
   ]
  },
  {
   "cell_type": "code",
   "execution_count": 2,
   "metadata": {},
   "outputs": [],
   "source": [
    "TEST_CASE = \"tests/test09_intdoor\"\n",
    "SURFACE_CONSTRUCTIONS_CASE = \"cases/constructions/ASHRAE_2005_HOF_Materials.idf\""
   ]
  },
  {
   "cell_type": "code",
   "execution_count": 3,
   "metadata": {},
   "outputs": [
    {
     "name": "stdout",
     "output_type": "stream",
     "text": [
      "Added 5 walls \n",
      "Added 4 walls \n"
     ]
    },
    {
     "data": {
      "text/plain": [
       "EPCaseEditor(tests/test09_intdoor)"
      ]
     },
     "execution_count": 3,
     "metadata": {},
     "output_type": "execute_result"
    }
   ],
   "source": [
    "\n",
    "outputs = [ov.surf_incident_solar_rad, ov.surf_net_thermal_rad, ov.zone_mean_air_temp]\n",
    "output_names = [o.value for o in outputs]\n",
    "epcase = create_case(TEST_CASE, outputs=outputs)\n",
    "epcase"
   ]
  },
  {
   "cell_type": "code",
   "execution_count": 4,
   "metadata": {},
   "outputs": [],
   "source": [
    "mats = Materials(epcase)\n",
    "mats.study_reference_idf(SURFACE_CONSTRUCTIONS_CASE)"
   ]
  },
  {
   "cell_type": "code",
   "execution_count": 5,
   "metadata": {},
   "outputs": [],
   "source": [
    "mats.get_construction_materials('Light Furnishings')"
   ]
  },
  {
   "cell_type": "code",
   "execution_count": 6,
   "metadata": {},
   "outputs": [],
   "source": [
    "d = DoorAttributes(1, 1.5)\n",
    "door = Door(epcase, d)"
   ]
  },
  {
   "cell_type": "code",
   "execution_count": 8,
   "metadata": {},
   "outputs": [
    {
     "ename": "KeyError",
     "evalue": "1",
     "output_type": "error",
     "traceback": [
      "\u001b[0;31m---------------------------------------------------------------------------\u001b[0m",
      "\u001b[0;31mKeyError\u001b[0m                                  Traceback (most recent call last)",
      "Cell \u001b[0;32mIn[8], line 1\u001b[0m\n\u001b[0;32m----> 1\u001b[0m surf \u001b[38;5;241m=\u001b[39m \u001b[43mepcase\u001b[49m\u001b[38;5;241;43m.\u001b[39;49m\u001b[43mgeometry\u001b[49m\u001b[38;5;241;43m.\u001b[39;49m\u001b[43mzones\u001b[49m\u001b[43m[\u001b[49m\u001b[38;5;241;43m1\u001b[39;49m\u001b[43m]\u001b[49m\u001b[38;5;241m.\u001b[39mwalls[\u001b[38;5;241m1\u001b[39m]\n\u001b[1;32m      2\u001b[0m \u001b[38;5;28mprint\u001b[39m(surf)\n\u001b[1;32m      3\u001b[0m \u001b[38;5;28mprint\u001b[39m(surf\u001b[38;5;241m.\u001b[39mname)\n",
      "\u001b[0;31mKeyError\u001b[0m: 1"
     ]
    }
   ],
   "source": [
    "surf = epcase.geometry.zones[1].walls[1]\n",
    "print(surf)\n",
    "print(surf.name)\n",
    "# door.set_surface(surf)\n"
   ]
  },
  {
   "cell_type": "code",
   "execution_count": null,
   "metadata": {},
   "outputs": [],
   "source": [
    "surfs = epcase.idf.idfobjects[\"BUILDINGSURFACE:DETAILED\"]\n",
    "true_surf = [s for s in surfs if \"Block West Storey 0 Wall 0002\" in s.Name][0]\n",
    "true_surf.Name\n",
    "\n",
    "door.set_surface(true_surf)\n"
   ]
  },
  {
   "cell_type": "code",
   "execution_count": null,
   "metadata": {},
   "outputs": [],
   "source": []
  },
  {
   "cell_type": "code",
   "execution_count": null,
   "metadata": {},
   "outputs": [
    {
     "data": {
      "text/plain": [
       "'Block West Storey 0 Wall 0002'"
      ]
     },
     "execution_count": 10,
     "metadata": {},
     "output_type": "execute_result"
    }
   ],
   "source": [
    "surf.name"
   ]
  },
  {
   "cell_type": "code",
   "execution_count": null,
   "metadata": {},
   "outputs": [
    {
     "name": "stdout",
     "output_type": "stream",
     "text": [
      "Light Furnishings\n"
     ]
    }
   ],
   "source": [
    "mats.get_case_constructions()\n",
    "const = mats.case_constructions[-1]\n",
    "print(const.Name)\n",
    "door.set_construction(const.Name)"
   ]
  },
  {
   "cell_type": "code",
   "execution_count": null,
   "metadata": {},
   "outputs": [],
   "source": [
    "door.create_door()"
   ]
  },
  {
   "cell_type": "code",
   "execution_count": null,
   "metadata": {},
   "outputs": [
    {
     "data": {
      "text/plain": [
       "[\n",
       "DOOR,\n",
       "    Block West Storey 0 Wall 0002_1 Door,    !- Name\n",
       "    Light Furnishings,        !- Construction Name\n",
       "    Block West Storey 0 Wall 0002_1,    !- Building Surface Name\n",
       "    1.0,                      !- Multiplier\n",
       "    2,                        !- Starting X Coordinate\n",
       "    0.02,                     !- Starting Z Coordinate\n",
       "    1,                        !- Length\n",
       "    1.5;                      !- Height\n",
       "]"
      ]
     },
     "execution_count": 16,
     "metadata": {},
     "output_type": "execute_result"
    }
   ],
   "source": [
    "epcase.idf.idfobjects[\"DOOR\"]"
   ]
  },
  {
   "cell_type": "code",
   "execution_count": null,
   "metadata": {},
   "outputs": [],
   "source": [
    "# epcase.idf.intersect_match()\n",
    "epcase.save_idf()\n",
    "# epcase.prepare_to_run()"
   ]
  },
  {
   "cell_type": "code",
   "execution_count": null,
   "metadata": {},
   "outputs": [
    {
     "name": "stdout",
     "output_type": "stream",
     "text": [
      "\n",
      "/Applications/EnergyPlus-22-2-0/energyplus --weather /Users/julietnwagwuume-ezeoke/_UILCode/gqe-phd/geomeppy/weather/CA_PALO-ALTO-AP_724937S_20.epw --output-directory /Users/julietnwagwuume-ezeoke/_UILCode/gqe-phd/geomeppy/cases/tests/test09_intdoor/results --idd /Applications/EnergyPlus-22-2-0/Energy+.idd /Users/julietnwagwuume-ezeoke/_UILCode/gqe-phd/geomeppy/cases/base/01example/Minimal_d1a823.idf\n",
      "\n",
      "EnergyPlus Starting\n",
      "EnergyPlus, Version 22.2.0-c249759bad, YMD=2024.06.11 15:50\n",
      "Adjusting Air System Sizing\n",
      "Adjusting Standard 62.1 Ventilation Sizing\n",
      "Initializing Simulation\n"
     ]
    },
    {
     "name": "stderr",
     "output_type": "stream",
     "text": [
      "Program terminated: EnergyPlus Terminated--Error(s) Detected.\n"
     ]
    },
    {
     "ename": "EnergyPlusRunError",
     "evalue": "\r\n\r\nContents of EnergyPlus error file at /Users/julietnwagwuume-ezeoke/_UILCode/gqe-phd/geomeppy/cases/tests/test09_intdoor/results/eplusout.err\r\nProgram Version,EnergyPlus, Version 22.2.0-c249759bad, YMD=2024.06.11 15:50,\n   ** Warning ** Weather file location will be used rather than entered (IDF) Location object.\n   **   ~~~   ** ..Location object=DENVER_STAPLETON_CO_USA_WMO_724690\n   **   ~~~   ** ..Weather File Location=CA_PALO-ALTO-AP - USA Custom-724937 WMO#=724937\n   **   ~~~   ** ..due to location differences, Latitude difference=[2.30] degrees, Longitude difference=[226.99] degrees.\n   **   ~~~   ** ..Time Zone difference=[1.0] hour(s), Elevation difference=[99.88] percent, [1609.00] meters.\n   ** Severe  ** Standard Time Meridian and Time Zone differ by more than 2, Difference=\"16.0\"\n   **   ~~~   ** Solar Positions will be incorrect\n   ** Warning ** SetUpDesignDay: Entered DesignDay Barometric Pressure=83411 differs by more than 10% from Standard Barometric Pressure=101301.\n   **   ~~~   ** ...occurs in DesignDay=DENVER_STAPLETON ANN HTG 99.6% CONDNS DB, Standard Pressure (based on elevation) will be used.\n   ** Warning ** GetHTSurfaceData: Surfaces with interface to Ground found but no \"Ground Temperatures\" were input.\n   **   ~~~   ** Found first in surface=BLOCK NORTH STOREY 0 FLOOR 0001\n   **   ~~~   ** Defaults, constant throughout the year of (18.0) will be used.\n   ** Severe  ** Door=\"BLOCK WEST STOREY 0 WALL 0002_1 DOOR\", invalid use of object\n   **   ~~~   ** ...when Base surface uses \"Surface\" as , subsurfaces must also specify specific surfaces in the adjacent zone.\n   **   ~~~   ** ...Please use Door:Interzone to enter this surface.\n   **  Fatal  ** GetSurfaceData: Errors discovered, program terminates.\n   ...Summary of Errors that led to program termination:\n   ..... Reference severe error count=2\n   ..... Last severe error=Door=\"BLOCK WEST STOREY 0 WALL 0002_1 DOOR\", invalid use of object\n   ************* Warning:  Node connection errors not checked - most system input has not been read (see previous warning).\n   ************* Fatal error -- final processing.  Program exited before simulations began.  See previous error messages.\n   ************* EnergyPlus Warmup Error Summary. During Warmup: 0 Warning; 0 Severe Errors.\n   ************* EnergyPlus Sizing Error Summary. During Sizing: 0 Warning; 0 Severe Errors.\n   ************* EnergyPlus Terminated--Fatal Error Detected. 3 Warning; 2 Severe Errors; Elapsed Time=00hr 00min  0.14sec\n",
     "output_type": "error",
     "traceback": [
      "\u001b[0;31m---------------------------------------------------------------------------\u001b[0m",
      "\u001b[0;31mCalledProcessError\u001b[0m                        Traceback (most recent call last)",
      "File \u001b[0;32m~/_UILCode/gqe-phd/gqenv/lib/python3.9/site-packages/eppy/runner/run_functions.py:381\u001b[0m, in \u001b[0;36mrun\u001b[0;34m(idf, weather, output_directory, annual, design_day, idd, epmacro, expandobjects, readvars, output_prefix, output_suffix, version, verbose, ep_version)\u001b[0m\n\u001b[1;32m    380\u001b[0m     \u001b[38;5;28mprint\u001b[39m(\u001b[38;5;124m\"\u001b[39m\u001b[38;5;130;01m\\r\u001b[39;00m\u001b[38;5;130;01m\\n\u001b[39;00m\u001b[38;5;124m\"\u001b[39m \u001b[38;5;241m+\u001b[39m \u001b[38;5;124m\"\u001b[39m\u001b[38;5;124m \u001b[39m\u001b[38;5;124m\"\u001b[39m\u001b[38;5;241m.\u001b[39mjoin(cmd) \u001b[38;5;241m+\u001b[39m \u001b[38;5;124m\"\u001b[39m\u001b[38;5;130;01m\\r\u001b[39;00m\u001b[38;5;130;01m\\n\u001b[39;00m\u001b[38;5;124m\"\u001b[39m)\n\u001b[0;32m--> 381\u001b[0m     \u001b[43mcheck_call\u001b[49m\u001b[43m(\u001b[49m\u001b[43mcmd\u001b[49m\u001b[43m)\u001b[49m\n\u001b[1;32m    382\u001b[0m \u001b[38;5;28;01melif\u001b[39;00m verbose \u001b[38;5;241m==\u001b[39m \u001b[38;5;124m\"\u001b[39m\u001b[38;5;124mq\u001b[39m\u001b[38;5;124m\"\u001b[39m:\n",
      "File \u001b[0;32m/opt/homebrew/Cellar/python@3.9/3.9.15/Frameworks/Python.framework/Versions/3.9/lib/python3.9/subprocess.py:373\u001b[0m, in \u001b[0;36mcheck_call\u001b[0;34m(*popenargs, **kwargs)\u001b[0m\n\u001b[1;32m    372\u001b[0m         cmd \u001b[38;5;241m=\u001b[39m popenargs[\u001b[38;5;241m0\u001b[39m]\n\u001b[0;32m--> 373\u001b[0m     \u001b[38;5;28;01mraise\u001b[39;00m CalledProcessError(retcode, cmd)\n\u001b[1;32m    374\u001b[0m \u001b[38;5;28;01mreturn\u001b[39;00m \u001b[38;5;241m0\u001b[39m\n",
      "\u001b[0;31mCalledProcessError\u001b[0m: Command '['/Applications/EnergyPlus-22-2-0/energyplus', '--weather', '/Users/julietnwagwuume-ezeoke/_UILCode/gqe-phd/geomeppy/weather/CA_PALO-ALTO-AP_724937S_20.epw', '--output-directory', '/Users/julietnwagwuume-ezeoke/_UILCode/gqe-phd/geomeppy/cases/tests/test09_intdoor/results', '--idd', '/Applications/EnergyPlus-22-2-0/Energy+.idd', '/Users/julietnwagwuume-ezeoke/_UILCode/gqe-phd/geomeppy/cases/base/01example/Minimal_d1a823.idf']' returned non-zero exit status 1.",
      "\nDuring handling of the above exception, another exception occurred:\n",
      "\u001b[0;31mEnergyPlusRunError\u001b[0m                        Traceback (most recent call last)",
      "Cell \u001b[0;32mIn[18], line 1\u001b[0m\n\u001b[0;32m----> 1\u001b[0m \u001b[43mepcase\u001b[49m\u001b[38;5;241;43m.\u001b[39;49m\u001b[43mrun_idf\u001b[49m\u001b[43m(\u001b[49m\u001b[43m)\u001b[49m\n",
      "File \u001b[0;32m~/_UILCode/gqe-phd/geomeppy/_scripts/case_edits/epcase.py:71\u001b[0m, in \u001b[0;36mEneryPlusCaseEditor.run_idf\u001b[0;34m(self, run_local)\u001b[0m\n\u001b[1;32m     67\u001b[0m \u001b[38;5;28;01mdef\u001b[39;00m \u001b[38;5;21mrun_idf\u001b[39m(\u001b[38;5;28mself\u001b[39m, run_local\u001b[38;5;241m=\u001b[39m\u001b[38;5;28;01mFalse\u001b[39;00m):\n\u001b[1;32m     68\u001b[0m     \u001b[38;5;66;03m# TODO not sure why this is here.. \u001b[39;00m\n\u001b[1;32m     69\u001b[0m     \u001b[38;5;66;03m# TODO check if overwriting existing files and ask if want to proceed...\u001b[39;00m\n\u001b[1;32m     70\u001b[0m     \u001b[38;5;28;01mif\u001b[39;00m \u001b[38;5;129;01mnot\u001b[39;00m run_local:\n\u001b[0;32m---> 71\u001b[0m         \u001b[38;5;28;43mself\u001b[39;49m\u001b[38;5;241;43m.\u001b[39;49m\u001b[43midf\u001b[49m\u001b[38;5;241;43m.\u001b[39;49m\u001b[43mrun\u001b[49m\u001b[43m(\u001b[49m\u001b[43moutput_directory\u001b[49m\u001b[38;5;241;43m=\u001b[39;49m\u001b[43mos\u001b[49m\u001b[38;5;241;43m.\u001b[39;49m\u001b[43mpath\u001b[49m\u001b[38;5;241;43m.\u001b[39;49m\u001b[43mjoin\u001b[49m\u001b[43m(\u001b[49m\u001b[38;5;28;43mself\u001b[39;49m\u001b[38;5;241;43m.\u001b[39;49m\u001b[43mpath\u001b[49m\u001b[43m,\u001b[49m\u001b[43m \u001b[49m\u001b[38;5;124;43m\"\u001b[39;49m\u001b[38;5;124;43mresults\u001b[39;49m\u001b[38;5;124;43m\"\u001b[39;49m\u001b[43m)\u001b[49m\u001b[43m)\u001b[49m\n\u001b[1;32m     72\u001b[0m     \u001b[38;5;28;01melse\u001b[39;00m:\n\u001b[1;32m     73\u001b[0m         \u001b[38;5;28mself\u001b[39m\u001b[38;5;241m.\u001b[39midf\u001b[38;5;241m.\u001b[39mrun(\n\u001b[1;32m     74\u001b[0m             idf\u001b[38;5;241m=\u001b[39mos\u001b[38;5;241m.\u001b[39mpath\u001b[38;5;241m.\u001b[39mjoin(\u001b[38;5;28mself\u001b[39m\u001b[38;5;241m.\u001b[39mpath, \u001b[38;5;124m\"\u001b[39m\u001b[38;5;124mout.idf\u001b[39m\u001b[38;5;124m\"\u001b[39m),\n\u001b[1;32m     75\u001b[0m             output_directory\u001b[38;5;241m=\u001b[39mos\u001b[38;5;241m.\u001b[39mpath\u001b[38;5;241m.\u001b[39mjoin(\u001b[38;5;28mself\u001b[39m\u001b[38;5;241m.\u001b[39mpath, \u001b[38;5;124m\"\u001b[39m\u001b[38;5;124mresults\u001b[39m\u001b[38;5;124m\"\u001b[39m),\n\u001b[1;32m     76\u001b[0m         )\n",
      "File \u001b[0;32m~/_UILCode/gqe-phd/gqenv/lib/python3.9/site-packages/eppy/modeleditor.py:1111\u001b[0m, in \u001b[0;36mIDF.run\u001b[0;34m(self, **kwargs)\u001b[0m\n\u001b[1;32m   1109\u001b[0m epw \u001b[38;5;241m=\u001b[39m kwargs\u001b[38;5;241m.\u001b[39mpop(\u001b[38;5;124m\"\u001b[39m\u001b[38;5;124mweather\u001b[39m\u001b[38;5;124m\"\u001b[39m, \u001b[38;5;28mself\u001b[39m\u001b[38;5;241m.\u001b[39mepw)\n\u001b[1;32m   1110\u001b[0m \u001b[38;5;28;01mtry\u001b[39;00m:\n\u001b[0;32m-> 1111\u001b[0m     \u001b[43mrun\u001b[49m\u001b[43m(\u001b[49m\u001b[38;5;28;43mself\u001b[39;49m\u001b[43m,\u001b[49m\u001b[43m \u001b[49m\u001b[43mweather\u001b[49m\u001b[38;5;241;43m=\u001b[39;49m\u001b[43mepw\u001b[49m\u001b[43m,\u001b[49m\u001b[43m \u001b[49m\u001b[43midd\u001b[49m\u001b[38;5;241;43m=\u001b[39;49m\u001b[43midd\u001b[49m\u001b[43m,\u001b[49m\u001b[43m \u001b[49m\u001b[38;5;241;43m*\u001b[39;49m\u001b[38;5;241;43m*\u001b[39;49m\u001b[43mkwargs\u001b[49m\u001b[43m)\u001b[49m\n\u001b[1;32m   1112\u001b[0m \u001b[38;5;28;01mfinally\u001b[39;00m:\n\u001b[1;32m   1113\u001b[0m     \u001b[38;5;28mself\u001b[39m\u001b[38;5;241m.\u001b[39midfname \u001b[38;5;241m=\u001b[39m idfname\n",
      "File \u001b[0;32m~/_UILCode/gqe-phd/gqenv/lib/python3.9/site-packages/eppy/runner/run_functions.py:396\u001b[0m, in \u001b[0;36mrun\u001b[0;34m(idf, weather, output_directory, annual, design_day, idd, epmacro, expandobjects, readvars, output_prefix, output_suffix, version, verbose, ep_version)\u001b[0m\n\u001b[1;32m    394\u001b[0m         err_file \u001b[38;5;241m=\u001b[39m os\u001b[38;5;241m.\u001b[39mpath\u001b[38;5;241m.\u001b[39mjoin(output_dir, \u001b[38;5;124m\"\u001b[39m\u001b[38;5;124meplusout.err\u001b[39m\u001b[38;5;124m\"\u001b[39m)\n\u001b[1;32m    395\u001b[0m     message \u001b[38;5;241m=\u001b[39m parse_error(tmp_err, err_file)\n\u001b[0;32m--> 396\u001b[0m     \u001b[38;5;28;01mraise\u001b[39;00m EnergyPlusRunError(message)\n\u001b[1;32m    397\u001b[0m \u001b[38;5;28;01mfinally\u001b[39;00m:\n\u001b[1;32m    398\u001b[0m     sys\u001b[38;5;241m.\u001b[39mstderr \u001b[38;5;241m=\u001b[39m old_err\n",
      "\u001b[0;31mEnergyPlusRunError\u001b[0m: \r\n\r\nContents of EnergyPlus error file at /Users/julietnwagwuume-ezeoke/_UILCode/gqe-phd/geomeppy/cases/tests/test09_intdoor/results/eplusout.err\r\nProgram Version,EnergyPlus, Version 22.2.0-c249759bad, YMD=2024.06.11 15:50,\n   ** Warning ** Weather file location will be used rather than entered (IDF) Location object.\n   **   ~~~   ** ..Location object=DENVER_STAPLETON_CO_USA_WMO_724690\n   **   ~~~   ** ..Weather File Location=CA_PALO-ALTO-AP - USA Custom-724937 WMO#=724937\n   **   ~~~   ** ..due to location differences, Latitude difference=[2.30] degrees, Longitude difference=[226.99] degrees.\n   **   ~~~   ** ..Time Zone difference=[1.0] hour(s), Elevation difference=[99.88] percent, [1609.00] meters.\n   ** Severe  ** Standard Time Meridian and Time Zone differ by more than 2, Difference=\"16.0\"\n   **   ~~~   ** Solar Positions will be incorrect\n   ** Warning ** SetUpDesignDay: Entered DesignDay Barometric Pressure=83411 differs by more than 10% from Standard Barometric Pressure=101301.\n   **   ~~~   ** ...occurs in DesignDay=DENVER_STAPLETON ANN HTG 99.6% CONDNS DB, Standard Pressure (based on elevation) will be used.\n   ** Warning ** GetHTSurfaceData: Surfaces with interface to Ground found but no \"Ground Temperatures\" were input.\n   **   ~~~   ** Found first in surface=BLOCK NORTH STOREY 0 FLOOR 0001\n   **   ~~~   ** Defaults, constant throughout the year of (18.0) will be used.\n   ** Severe  ** Door=\"BLOCK WEST STOREY 0 WALL 0002_1 DOOR\", invalid use of object\n   **   ~~~   ** ...when Base surface uses \"Surface\" as , subsurfaces must also specify specific surfaces in the adjacent zone.\n   **   ~~~   ** ...Please use Door:Interzone to enter this surface.\n   **  Fatal  ** GetSurfaceData: Errors discovered, program terminates.\n   ...Summary of Errors that led to program termination:\n   ..... Reference severe error count=2\n   ..... Last severe error=Door=\"BLOCK WEST STOREY 0 WALL 0002_1 DOOR\", invalid use of object\n   ************* Warning:  Node connection errors not checked - most system input has not been read (see previous warning).\n   ************* Fatal error -- final processing.  Program exited before simulations began.  See previous error messages.\n   ************* EnergyPlus Warmup Error Summary. During Warmup: 0 Warning; 0 Severe Errors.\n   ************* EnergyPlus Sizing Error Summary. During Sizing: 0 Warning; 0 Severe Errors.\n   ************* EnergyPlus Terminated--Fatal Error Detected. 3 Warning; 2 Severe Errors; Elapsed Time=00hr 00min  0.14sec\n"
     ]
    }
   ],
   "source": [
    "epcase.run_idf()"
   ]
  }
 ],
 "metadata": {
  "kernelspec": {
   "display_name": "gqenv",
   "language": "python",
   "name": "python3"
  },
  "language_info": {
   "codemirror_mode": {
    "name": "ipython",
    "version": 3
   },
   "file_extension": ".py",
   "mimetype": "text/x-python",
   "name": "python",
   "nbconvert_exporter": "python",
   "pygments_lexer": "ipython3",
   "version": "3.9.15"
  }
 },
 "nbformat": 4,
 "nbformat_minor": 2
}
