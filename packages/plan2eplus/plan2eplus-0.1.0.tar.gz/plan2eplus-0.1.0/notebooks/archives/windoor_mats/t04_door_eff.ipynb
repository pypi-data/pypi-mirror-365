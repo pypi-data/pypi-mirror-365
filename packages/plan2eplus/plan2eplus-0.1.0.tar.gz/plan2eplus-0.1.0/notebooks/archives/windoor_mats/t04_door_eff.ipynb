{
 "cells": [
  {
   "cell_type": "code",
   "execution_count": 1,
   "metadata": {},
   "outputs": [],
   "source": [
    "import sys\n",
    "sys.path.append(\"/Users/julietnwagwuume-ezeoke/_UILCode/gqe-phd/geomeppy/_scripts\")\n",
    "\n",
    "import pprint\n",
    "\n",
    "\n",
    "from case_edits.epcase import EneryPlusCaseReader\n",
    "\n",
    "from outputs.variables import OutputVars as ov\n",
    "from outputs.zone_space_time import SpaceTimePlot\n",
    "from outputs.zone_time import TimePlot\n",
    "from outputs.surface_data import SurfaceData\n",
    "from outputs.plotter import Plotter\n",
    "\n",
    "from datetime import time"
   ]
  },
  {
   "cell_type": "code",
   "execution_count": 2,
   "metadata": {},
   "outputs": [],
   "source": [
    "TEST_CASE =  \"tests/test13_afn_open\""
   ]
  },
  {
   "cell_type": "code",
   "execution_count": 3,
   "metadata": {},
   "outputs": [],
   "source": [
    "outputs = [ov.zone_mean_air_temp, ov.zone_vent_vol,  ov.zone_ach, ov.zone_vent_heat_gain] # ov.in_surf_temp, \n",
    "output_names = [o.value for o in outputs]"
   ]
  },
  {
   "cell_type": "code",
   "execution_count": 4,
   "metadata": {},
   "outputs": [],
   "source": [
    "e = EneryPlusCaseReader(TEST_CASE)"
   ]
  },
  {
   "cell_type": "code",
   "execution_count": 5,
   "metadata": {},
   "outputs": [
    {
     "name": "stdout",
     "output_type": "stream",
     "text": [
      "Added 5 walls \n",
      "Added 4 walls \n"
     ]
    }
   ],
   "source": [
    "e.get_geometry()"
   ]
  },
  {
   "cell_type": "code",
   "execution_count": 6,
   "metadata": {},
   "outputs": [
    {
     "data": {
      "text/plain": [
       "['Site Outdoor Air Drybulb Temperature',\n",
       " 'Site Outdoor Air Wetbulb Temperature',\n",
       " 'Site Outdoor Air Dewpoint Temperature',\n",
       " 'Site Solar Azimuth Angle',\n",
       " 'Site Solar Altitude Angle',\n",
       " 'Site Direct Solar Radiation Rate per Area',\n",
       " 'Site Diffuse Solar Radiation Rate per Area',\n",
       " 'Surface Outside Face Incident Solar Radiation Rate per Area',\n",
       " 'Surface Outside Face Net Thermal Radiation Heat Gain Rate per Area',\n",
       " 'Zone Mean Air Temperature',\n",
       " 'Surface Inside Face Temperature',\n",
       " 'AFN Zone Ventilation Volume',\n",
       " 'AFN Zone Ventilation Air Change Rate',\n",
       " 'AFN Zone Ventilation Sensible Heat Gain Rate']"
      ]
     },
     "execution_count": 6,
     "metadata": {},
     "output_type": "execute_result"
    }
   ],
   "source": [
    "[n.Variable_Name for n in e.idf.idfobjects[\"OUTPUT:VARIABLE\"]]"
   ]
  },
  {
   "cell_type": "code",
   "execution_count": 7,
   "metadata": {},
   "outputs": [
    {
     "name": "stdout",
     "output_type": "stream",
     "text": [
      "Added 5 walls \n",
      "Added 4 walls \n",
      "Added 5 walls \n",
      "Added 4 walls \n"
     ]
    },
    {
     "data": {
      "text/plain": [
       "('Site Outdoor Air Dewpoint Temperature',\n",
       " 'AFN Zone Ventilation Volume',\n",
       " 'AFN Zone Ventilation Sensible Heat Gain Rate',\n",
       " 'Site Outdoor Air Drybulb Temperature',\n",
       " 'Surface Outside Face Net Thermal Radiation Heat Gain Rate per Area',\n",
       " 'Site Solar Altitude Angle',\n",
       " 'Site Diffuse Solar Radiation Rate per Area',\n",
       " 'Site Outdoor Air Wetbulb Temperature',\n",
       " 'Surface Inside Face Temperature',\n",
       " 'Zone Mean Air Temperature',\n",
       " 'AFN Zone Ventilation Air Change Rate',\n",
       " 'Site Direct Solar Radiation Rate per Area',\n",
       " 'Surface Outside Face Incident Solar Radiation Rate per Area',\n",
       " 'Site Solar Azimuth Angle')"
      ]
     },
     "execution_count": 7,
     "metadata": {},
     "output_type": "execute_result"
    }
   ],
   "source": [
    "plt = Plotter(TEST_CASE)\n",
    "plt.sqld.available_outputs"
   ]
  },
  {
   "cell_type": "code",
   "execution_count": 8,
   "metadata": {},
   "outputs": [],
   "source": [
    "# data = plt.sqld.data_collections_by_output_name(\"AFN Zone Ventilation Air Change Rate\")[2]\n",
    "# data.header.to_dict()"
   ]
  },
  {
   "cell_type": "code",
   "execution_count": 9,
   "metadata": {},
   "outputs": [],
   "source": [
    "for o in outputs:\n",
    "    plt.request_output(o)"
   ]
  },
  {
   "cell_type": "code",
   "execution_count": null,
   "metadata": {},
   "outputs": [],
   "source": []
  },
  {
   "cell_type": "code",
   "execution_count": 10,
   "metadata": {},
   "outputs": [
    {
     "name": "stdout",
     "output_type": "stream",
     "text": [
      "{'zone_ach12_21': 'zone_ach12-21',\n",
      " 'zone_ach7_21': 'zone_ach7-21',\n",
      " 'zone_mean_air_temp12_21': 'zone_mean_air_temp12-21',\n",
      " 'zone_mean_air_temp7_21': 'zone_mean_air_temp7-21',\n",
      " 'zone_vent_heat_gain12_21': 'zone_vent_heat_gain12-21',\n",
      " 'zone_vent_heat_gain7_21': 'zone_vent_heat_gain7-21',\n",
      " 'zone_vent_vol12_21': 'zone_vent_vol12-21',\n",
      " 'zone_vent_vol7_21': 'zone_vent_vol7-21'}\n"
     ]
    }
   ],
   "source": [
    "pprint.pprint(plt.dataset_names)"
   ]
  },
  {
   "cell_type": "code",
   "execution_count": 11,
   "metadata": {},
   "outputs": [],
   "source": [
    "# su = SurfaceData(plt)\n",
    "# su.create_fig(plt.dataset_names.in_surf_temp7_21)"
   ]
  },
  {
   "cell_type": "code",
   "execution_count": 12,
   "metadata": {},
   "outputs": [
    {
     "data": {
      "text/plain": [
       "'zone_mean_air_temp12-21'"
      ]
     },
     "execution_count": 12,
     "metadata": {},
     "output_type": "execute_result"
    }
   ],
   "source": [
    "plt.dataset_names.zone_mean_air_temp12_21"
   ]
  },
  {
   "cell_type": "code",
   "execution_count": 15,
   "metadata": {},
   "outputs": [
    {
     "data": {
      "application/vnd.plotly.v1+json": {
       "config": {
        "plotlyServerURL": "https://plotly.com"
       },
       "data": [
        {
         "line": {
          "color": "black",
          "width": 3
         },
         "marker": {
          "color": "black"
         },
         "mode": "markers+lines",
         "name": "Wall 01",
         "type": "scatter",
         "x": [
          10,
          10
         ],
         "xaxis": "x",
         "y": [
          7,
          11
         ],
         "yaxis": "y"
        },
        {
         "line": {
          "color": "black",
          "width": 3
         },
         "marker": {
          "color": "black"
         },
         "mode": "markers+lines",
         "name": "Wall 02",
         "type": "scatter",
         "x": [
          10,
          0
         ],
         "xaxis": "x",
         "y": [
          11,
          11
         ],
         "yaxis": "y"
        },
        {
         "line": {
          "color": "black",
          "width": 3
         },
         "marker": {
          "color": "black"
         },
         "mode": "markers+lines",
         "name": "Wall 03",
         "type": "scatter",
         "x": [
          0,
          0
         ],
         "xaxis": "x",
         "y": [
          11,
          7
         ],
         "yaxis": "y"
        },
        {
         "line": {
          "color": "black",
          "width": 3
         },
         "marker": {
          "color": "black"
         },
         "mode": "markers+lines",
         "name": "Wall 04_1",
         "type": "scatter",
         "x": [
          0,
          5
         ],
         "xaxis": "x",
         "y": [
          7,
          7
         ],
         "yaxis": "y"
        },
        {
         "line": {
          "color": "black",
          "width": 3
         },
         "marker": {
          "color": "black"
         },
         "mode": "markers+lines",
         "name": "Wall 04_2",
         "type": "scatter",
         "x": [
          5,
          10
         ],
         "xaxis": "x",
         "y": [
          7,
          7
         ],
         "yaxis": "y"
        },
        {
         "line": {
          "color": "black",
          "width": 3
         },
         "marker": {
          "color": "black"
         },
         "mode": "markers+lines",
         "name": "Wall 01",
         "type": "scatter",
         "x": [
          5,
          5
         ],
         "xaxis": "x",
         "y": [
          0,
          7
         ],
         "yaxis": "y"
        },
        {
         "line": {
          "color": "black",
          "width": 3
         },
         "marker": {
          "color": "black"
         },
         "mode": "markers+lines",
         "name": "Wall 03",
         "type": "scatter",
         "x": [
          0,
          0
         ],
         "xaxis": "x",
         "y": [
          7,
          0
         ],
         "yaxis": "y"
        },
        {
         "line": {
          "color": "black",
          "width": 3
         },
         "marker": {
          "color": "black"
         },
         "mode": "markers+lines",
         "name": "Wall 04",
         "type": "scatter",
         "x": [
          0,
          5
         ],
         "xaxis": "x",
         "y": [
          0,
          0
         ],
         "yaxis": "y"
        },
        {
         "line": {
          "color": "black",
          "width": 3
         },
         "marker": {
          "color": "black"
         },
         "mode": "markers+lines",
         "name": "Wall 02_1",
         "type": "scatter",
         "x": [
          5,
          0
         ],
         "xaxis": "x",
         "y": [
          7,
          7
         ],
         "yaxis": "y"
        },
        {
         "line": {
          "color": "black",
          "width": 3
         },
         "marker": {
          "color": "black"
         },
         "mode": "markers+lines",
         "name": "Wall 01",
         "type": "scatter",
         "x": [
          10,
          10
         ],
         "xaxis": "x2",
         "y": [
          7,
          11
         ],
         "yaxis": "y2"
        },
        {
         "line": {
          "color": "black",
          "width": 3
         },
         "marker": {
          "color": "black"
         },
         "mode": "markers+lines",
         "name": "Wall 02",
         "type": "scatter",
         "x": [
          10,
          0
         ],
         "xaxis": "x2",
         "y": [
          11,
          11
         ],
         "yaxis": "y2"
        },
        {
         "line": {
          "color": "black",
          "width": 3
         },
         "marker": {
          "color": "black"
         },
         "mode": "markers+lines",
         "name": "Wall 03",
         "type": "scatter",
         "x": [
          0,
          0
         ],
         "xaxis": "x2",
         "y": [
          11,
          7
         ],
         "yaxis": "y2"
        },
        {
         "line": {
          "color": "black",
          "width": 3
         },
         "marker": {
          "color": "black"
         },
         "mode": "markers+lines",
         "name": "Wall 04_1",
         "type": "scatter",
         "x": [
          0,
          5
         ],
         "xaxis": "x2",
         "y": [
          7,
          7
         ],
         "yaxis": "y2"
        },
        {
         "line": {
          "color": "black",
          "width": 3
         },
         "marker": {
          "color": "black"
         },
         "mode": "markers+lines",
         "name": "Wall 04_2",
         "type": "scatter",
         "x": [
          5,
          10
         ],
         "xaxis": "x2",
         "y": [
          7,
          7
         ],
         "yaxis": "y2"
        },
        {
         "line": {
          "color": "black",
          "width": 3
         },
         "marker": {
          "color": "black"
         },
         "mode": "markers+lines",
         "name": "Wall 01",
         "type": "scatter",
         "x": [
          5,
          5
         ],
         "xaxis": "x2",
         "y": [
          0,
          7
         ],
         "yaxis": "y2"
        },
        {
         "line": {
          "color": "black",
          "width": 3
         },
         "marker": {
          "color": "black"
         },
         "mode": "markers+lines",
         "name": "Wall 03",
         "type": "scatter",
         "x": [
          0,
          0
         ],
         "xaxis": "x2",
         "y": [
          7,
          0
         ],
         "yaxis": "y2"
        },
        {
         "line": {
          "color": "black",
          "width": 3
         },
         "marker": {
          "color": "black"
         },
         "mode": "markers+lines",
         "name": "Wall 04",
         "type": "scatter",
         "x": [
          0,
          5
         ],
         "xaxis": "x2",
         "y": [
          0,
          0
         ],
         "yaxis": "y2"
        },
        {
         "line": {
          "color": "black",
          "width": 3
         },
         "marker": {
          "color": "black"
         },
         "mode": "markers+lines",
         "name": "Wall 02_1",
         "type": "scatter",
         "x": [
          5,
          0
         ],
         "xaxis": "x2",
         "y": [
          7,
          7
         ],
         "yaxis": "y2"
        },
        {
         "line": {
          "color": "black",
          "width": 3
         },
         "marker": {
          "color": "black"
         },
         "mode": "markers+lines",
         "name": "Wall 01",
         "type": "scatter",
         "x": [
          10,
          10
         ],
         "xaxis": "x3",
         "y": [
          7,
          11
         ],
         "yaxis": "y3"
        },
        {
         "line": {
          "color": "black",
          "width": 3
         },
         "marker": {
          "color": "black"
         },
         "mode": "markers+lines",
         "name": "Wall 02",
         "type": "scatter",
         "x": [
          10,
          0
         ],
         "xaxis": "x3",
         "y": [
          11,
          11
         ],
         "yaxis": "y3"
        },
        {
         "line": {
          "color": "black",
          "width": 3
         },
         "marker": {
          "color": "black"
         },
         "mode": "markers+lines",
         "name": "Wall 03",
         "type": "scatter",
         "x": [
          0,
          0
         ],
         "xaxis": "x3",
         "y": [
          11,
          7
         ],
         "yaxis": "y3"
        },
        {
         "line": {
          "color": "black",
          "width": 3
         },
         "marker": {
          "color": "black"
         },
         "mode": "markers+lines",
         "name": "Wall 04_1",
         "type": "scatter",
         "x": [
          0,
          5
         ],
         "xaxis": "x3",
         "y": [
          7,
          7
         ],
         "yaxis": "y3"
        },
        {
         "line": {
          "color": "black",
          "width": 3
         },
         "marker": {
          "color": "black"
         },
         "mode": "markers+lines",
         "name": "Wall 04_2",
         "type": "scatter",
         "x": [
          5,
          10
         ],
         "xaxis": "x3",
         "y": [
          7,
          7
         ],
         "yaxis": "y3"
        },
        {
         "line": {
          "color": "black",
          "width": 3
         },
         "marker": {
          "color": "black"
         },
         "mode": "markers+lines",
         "name": "Wall 01",
         "type": "scatter",
         "x": [
          5,
          5
         ],
         "xaxis": "x3",
         "y": [
          0,
          7
         ],
         "yaxis": "y3"
        },
        {
         "line": {
          "color": "black",
          "width": 3
         },
         "marker": {
          "color": "black"
         },
         "mode": "markers+lines",
         "name": "Wall 03",
         "type": "scatter",
         "x": [
          0,
          0
         ],
         "xaxis": "x3",
         "y": [
          7,
          0
         ],
         "yaxis": "y3"
        },
        {
         "line": {
          "color": "black",
          "width": 3
         },
         "marker": {
          "color": "black"
         },
         "mode": "markers+lines",
         "name": "Wall 04",
         "type": "scatter",
         "x": [
          0,
          5
         ],
         "xaxis": "x3",
         "y": [
          0,
          0
         ],
         "yaxis": "y3"
        },
        {
         "line": {
          "color": "black",
          "width": 3
         },
         "marker": {
          "color": "black"
         },
         "mode": "markers+lines",
         "name": "Wall 02_1",
         "type": "scatter",
         "x": [
          5,
          0
         ],
         "xaxis": "x3",
         "y": [
          7,
          7
         ],
         "yaxis": "y3"
        },
        {
         "marker": {
          "cmax": 19.49,
          "cmin": 0,
          "colorbar": {
           "outlinewidth": 0,
           "thickness": 5,
           "ticktext": [
            0,
            19.49
           ],
           "tickvals": [
            0,
            4.8725,
            9.745,
            14.6175,
            19.49
           ]
          },
          "colorscale": [
           [
            0,
            "rgb(5,48,97)"
           ],
           [
            0.1,
            "rgb(33,102,172)"
           ],
           [
            0.2,
            "rgb(67,147,195)"
           ],
           [
            0.3,
            "rgb(146,197,222)"
           ],
           [
            0.4,
            "rgb(209,229,240)"
           ],
           [
            0.5,
            "rgb(247,247,247)"
           ],
           [
            0.6,
            "rgb(253,219,199)"
           ],
           [
            0.7,
            "rgb(244,165,130)"
           ],
           [
            0.8,
            "rgb(214,96,77)"
           ],
           [
            0.9,
            "rgb(178,24,43)"
           ],
           [
            1,
            "rgb(103,0,31)"
           ]
          ],
          "showscale": true
         },
         "mode": "markers",
         "type": "scatter",
         "x": [
          null
         ],
         "y": [
          null
         ]
        }
       ],
       "layout": {
        "annotations": [
         {
          "font": {
           "size": 16
          },
          "showarrow": false,
          "text": "06:00",
          "x": 0.5,
          "xanchor": "center",
          "xref": "paper",
          "y": 1,
          "yanchor": "bottom",
          "yref": "paper"
         },
         {
          "font": {
           "size": 16
          },
          "showarrow": false,
          "text": "12:00",
          "x": 0.5,
          "xanchor": "center",
          "xref": "paper",
          "y": 0.6111111111111112,
          "yanchor": "bottom",
          "yref": "paper"
         },
         {
          "font": {
           "size": 16
          },
          "showarrow": false,
          "text": "22:00",
          "x": 0.5,
          "xanchor": "center",
          "xref": "paper",
          "y": 0.22222222222222224,
          "yanchor": "bottom",
          "yref": "paper"
         }
        ],
        "shapes": [
         {
          "fillcolor": "rgb(5, 48, 97)",
          "label": {
           "text": "Block North: 0.0ºC"
          },
          "type": "rect",
          "x0": 10,
          "x1": 5,
          "xref": "x",
          "y0": 11,
          "y1": 7,
          "yref": "y"
         },
         {
          "fillcolor": "rgb(196, 60, 60)",
          "label": {
           "text": "Block West: 16.57ºC"
          },
          "type": "rect",
          "x0": 5,
          "x1": 0,
          "xref": "x",
          "y0": 7,
          "y1": 0,
          "yref": "y"
         },
         {
          "fillcolor": "rgb(5, 48, 97)",
          "label": {
           "text": "Block North: 0.0ºC"
          },
          "type": "rect",
          "x0": 10,
          "x1": 5,
          "xref": "x2",
          "y0": 11,
          "y1": 7,
          "yref": "y2"
         },
         {
          "fillcolor": "rgb(103, 0, 31)",
          "label": {
           "text": "Block West: 19.49ºC"
          },
          "type": "rect",
          "x0": 5,
          "x1": 0,
          "xref": "x2",
          "y0": 7,
          "y1": 0,
          "yref": "y2"
         },
         {
          "fillcolor": "rgb(5, 48, 97)",
          "label": {
           "text": "Block North: 0.0ºC"
          },
          "type": "rect",
          "x0": 10,
          "x1": 5,
          "xref": "x3",
          "y0": 11,
          "y1": 7,
          "yref": "y3"
         },
         {
          "fillcolor": "rgb(187, 43, 52)",
          "label": {
           "text": "Block West: 17.03ºC"
          },
          "type": "rect",
          "x0": 5,
          "x1": 0,
          "xref": "x3",
          "y0": 7,
          "y1": 0,
          "yref": "y3"
         }
        ],
        "showlegend": false,
        "template": {
         "data": {
          "bar": [
           {
            "error_x": {
             "color": "#2a3f5f"
            },
            "error_y": {
             "color": "#2a3f5f"
            },
            "marker": {
             "line": {
              "color": "#E5ECF6",
              "width": 0.5
             },
             "pattern": {
              "fillmode": "overlay",
              "size": 10,
              "solidity": 0.2
             }
            },
            "type": "bar"
           }
          ],
          "barpolar": [
           {
            "marker": {
             "line": {
              "color": "#E5ECF6",
              "width": 0.5
             },
             "pattern": {
              "fillmode": "overlay",
              "size": 10,
              "solidity": 0.2
             }
            },
            "type": "barpolar"
           }
          ],
          "carpet": [
           {
            "aaxis": {
             "endlinecolor": "#2a3f5f",
             "gridcolor": "white",
             "linecolor": "white",
             "minorgridcolor": "white",
             "startlinecolor": "#2a3f5f"
            },
            "baxis": {
             "endlinecolor": "#2a3f5f",
             "gridcolor": "white",
             "linecolor": "white",
             "minorgridcolor": "white",
             "startlinecolor": "#2a3f5f"
            },
            "type": "carpet"
           }
          ],
          "choropleth": [
           {
            "colorbar": {
             "outlinewidth": 0,
             "ticks": ""
            },
            "type": "choropleth"
           }
          ],
          "contour": [
           {
            "colorbar": {
             "outlinewidth": 0,
             "ticks": ""
            },
            "colorscale": [
             [
              0,
              "#0d0887"
             ],
             [
              0.1111111111111111,
              "#46039f"
             ],
             [
              0.2222222222222222,
              "#7201a8"
             ],
             [
              0.3333333333333333,
              "#9c179e"
             ],
             [
              0.4444444444444444,
              "#bd3786"
             ],
             [
              0.5555555555555556,
              "#d8576b"
             ],
             [
              0.6666666666666666,
              "#ed7953"
             ],
             [
              0.7777777777777778,
              "#fb9f3a"
             ],
             [
              0.8888888888888888,
              "#fdca26"
             ],
             [
              1,
              "#f0f921"
             ]
            ],
            "type": "contour"
           }
          ],
          "contourcarpet": [
           {
            "colorbar": {
             "outlinewidth": 0,
             "ticks": ""
            },
            "type": "contourcarpet"
           }
          ],
          "heatmap": [
           {
            "colorbar": {
             "outlinewidth": 0,
             "ticks": ""
            },
            "colorscale": [
             [
              0,
              "#0d0887"
             ],
             [
              0.1111111111111111,
              "#46039f"
             ],
             [
              0.2222222222222222,
              "#7201a8"
             ],
             [
              0.3333333333333333,
              "#9c179e"
             ],
             [
              0.4444444444444444,
              "#bd3786"
             ],
             [
              0.5555555555555556,
              "#d8576b"
             ],
             [
              0.6666666666666666,
              "#ed7953"
             ],
             [
              0.7777777777777778,
              "#fb9f3a"
             ],
             [
              0.8888888888888888,
              "#fdca26"
             ],
             [
              1,
              "#f0f921"
             ]
            ],
            "type": "heatmap"
           }
          ],
          "heatmapgl": [
           {
            "colorbar": {
             "outlinewidth": 0,
             "ticks": ""
            },
            "colorscale": [
             [
              0,
              "#0d0887"
             ],
             [
              0.1111111111111111,
              "#46039f"
             ],
             [
              0.2222222222222222,
              "#7201a8"
             ],
             [
              0.3333333333333333,
              "#9c179e"
             ],
             [
              0.4444444444444444,
              "#bd3786"
             ],
             [
              0.5555555555555556,
              "#d8576b"
             ],
             [
              0.6666666666666666,
              "#ed7953"
             ],
             [
              0.7777777777777778,
              "#fb9f3a"
             ],
             [
              0.8888888888888888,
              "#fdca26"
             ],
             [
              1,
              "#f0f921"
             ]
            ],
            "type": "heatmapgl"
           }
          ],
          "histogram": [
           {
            "marker": {
             "pattern": {
              "fillmode": "overlay",
              "size": 10,
              "solidity": 0.2
             }
            },
            "type": "histogram"
           }
          ],
          "histogram2d": [
           {
            "colorbar": {
             "outlinewidth": 0,
             "ticks": ""
            },
            "colorscale": [
             [
              0,
              "#0d0887"
             ],
             [
              0.1111111111111111,
              "#46039f"
             ],
             [
              0.2222222222222222,
              "#7201a8"
             ],
             [
              0.3333333333333333,
              "#9c179e"
             ],
             [
              0.4444444444444444,
              "#bd3786"
             ],
             [
              0.5555555555555556,
              "#d8576b"
             ],
             [
              0.6666666666666666,
              "#ed7953"
             ],
             [
              0.7777777777777778,
              "#fb9f3a"
             ],
             [
              0.8888888888888888,
              "#fdca26"
             ],
             [
              1,
              "#f0f921"
             ]
            ],
            "type": "histogram2d"
           }
          ],
          "histogram2dcontour": [
           {
            "colorbar": {
             "outlinewidth": 0,
             "ticks": ""
            },
            "colorscale": [
             [
              0,
              "#0d0887"
             ],
             [
              0.1111111111111111,
              "#46039f"
             ],
             [
              0.2222222222222222,
              "#7201a8"
             ],
             [
              0.3333333333333333,
              "#9c179e"
             ],
             [
              0.4444444444444444,
              "#bd3786"
             ],
             [
              0.5555555555555556,
              "#d8576b"
             ],
             [
              0.6666666666666666,
              "#ed7953"
             ],
             [
              0.7777777777777778,
              "#fb9f3a"
             ],
             [
              0.8888888888888888,
              "#fdca26"
             ],
             [
              1,
              "#f0f921"
             ]
            ],
            "type": "histogram2dcontour"
           }
          ],
          "mesh3d": [
           {
            "colorbar": {
             "outlinewidth": 0,
             "ticks": ""
            },
            "type": "mesh3d"
           }
          ],
          "parcoords": [
           {
            "line": {
             "colorbar": {
              "outlinewidth": 0,
              "ticks": ""
             }
            },
            "type": "parcoords"
           }
          ],
          "pie": [
           {
            "automargin": true,
            "type": "pie"
           }
          ],
          "scatter": [
           {
            "fillpattern": {
             "fillmode": "overlay",
             "size": 10,
             "solidity": 0.2
            },
            "type": "scatter"
           }
          ],
          "scatter3d": [
           {
            "line": {
             "colorbar": {
              "outlinewidth": 0,
              "ticks": ""
             }
            },
            "marker": {
             "colorbar": {
              "outlinewidth": 0,
              "ticks": ""
             }
            },
            "type": "scatter3d"
           }
          ],
          "scattercarpet": [
           {
            "marker": {
             "colorbar": {
              "outlinewidth": 0,
              "ticks": ""
             }
            },
            "type": "scattercarpet"
           }
          ],
          "scattergeo": [
           {
            "marker": {
             "colorbar": {
              "outlinewidth": 0,
              "ticks": ""
             }
            },
            "type": "scattergeo"
           }
          ],
          "scattergl": [
           {
            "marker": {
             "colorbar": {
              "outlinewidth": 0,
              "ticks": ""
             }
            },
            "type": "scattergl"
           }
          ],
          "scattermapbox": [
           {
            "marker": {
             "colorbar": {
              "outlinewidth": 0,
              "ticks": ""
             }
            },
            "type": "scattermapbox"
           }
          ],
          "scatterpolar": [
           {
            "marker": {
             "colorbar": {
              "outlinewidth": 0,
              "ticks": ""
             }
            },
            "type": "scatterpolar"
           }
          ],
          "scatterpolargl": [
           {
            "marker": {
             "colorbar": {
              "outlinewidth": 0,
              "ticks": ""
             }
            },
            "type": "scatterpolargl"
           }
          ],
          "scatterternary": [
           {
            "marker": {
             "colorbar": {
              "outlinewidth": 0,
              "ticks": ""
             }
            },
            "type": "scatterternary"
           }
          ],
          "surface": [
           {
            "colorbar": {
             "outlinewidth": 0,
             "ticks": ""
            },
            "colorscale": [
             [
              0,
              "#0d0887"
             ],
             [
              0.1111111111111111,
              "#46039f"
             ],
             [
              0.2222222222222222,
              "#7201a8"
             ],
             [
              0.3333333333333333,
              "#9c179e"
             ],
             [
              0.4444444444444444,
              "#bd3786"
             ],
             [
              0.5555555555555556,
              "#d8576b"
             ],
             [
              0.6666666666666666,
              "#ed7953"
             ],
             [
              0.7777777777777778,
              "#fb9f3a"
             ],
             [
              0.8888888888888888,
              "#fdca26"
             ],
             [
              1,
              "#f0f921"
             ]
            ],
            "type": "surface"
           }
          ],
          "table": [
           {
            "cells": {
             "fill": {
              "color": "#EBF0F8"
             },
             "line": {
              "color": "white"
             }
            },
            "header": {
             "fill": {
              "color": "#C8D4E3"
             },
             "line": {
              "color": "white"
             }
            },
            "type": "table"
           }
          ]
         },
         "layout": {
          "annotationdefaults": {
           "arrowcolor": "#2a3f5f",
           "arrowhead": 0,
           "arrowwidth": 1
          },
          "autotypenumbers": "strict",
          "coloraxis": {
           "colorbar": {
            "outlinewidth": 0,
            "ticks": ""
           }
          },
          "colorscale": {
           "diverging": [
            [
             0,
             "#8e0152"
            ],
            [
             0.1,
             "#c51b7d"
            ],
            [
             0.2,
             "#de77ae"
            ],
            [
             0.3,
             "#f1b6da"
            ],
            [
             0.4,
             "#fde0ef"
            ],
            [
             0.5,
             "#f7f7f7"
            ],
            [
             0.6,
             "#e6f5d0"
            ],
            [
             0.7,
             "#b8e186"
            ],
            [
             0.8,
             "#7fbc41"
            ],
            [
             0.9,
             "#4d9221"
            ],
            [
             1,
             "#276419"
            ]
           ],
           "sequential": [
            [
             0,
             "#0d0887"
            ],
            [
             0.1111111111111111,
             "#46039f"
            ],
            [
             0.2222222222222222,
             "#7201a8"
            ],
            [
             0.3333333333333333,
             "#9c179e"
            ],
            [
             0.4444444444444444,
             "#bd3786"
            ],
            [
             0.5555555555555556,
             "#d8576b"
            ],
            [
             0.6666666666666666,
             "#ed7953"
            ],
            [
             0.7777777777777778,
             "#fb9f3a"
            ],
            [
             0.8888888888888888,
             "#fdca26"
            ],
            [
             1,
             "#f0f921"
            ]
           ],
           "sequentialminus": [
            [
             0,
             "#0d0887"
            ],
            [
             0.1111111111111111,
             "#46039f"
            ],
            [
             0.2222222222222222,
             "#7201a8"
            ],
            [
             0.3333333333333333,
             "#9c179e"
            ],
            [
             0.4444444444444444,
             "#bd3786"
            ],
            [
             0.5555555555555556,
             "#d8576b"
            ],
            [
             0.6666666666666666,
             "#ed7953"
            ],
            [
             0.7777777777777778,
             "#fb9f3a"
            ],
            [
             0.8888888888888888,
             "#fdca26"
            ],
            [
             1,
             "#f0f921"
            ]
           ]
          },
          "colorway": [
           "#636efa",
           "#EF553B",
           "#00cc96",
           "#ab63fa",
           "#FFA15A",
           "#19d3f3",
           "#FF6692",
           "#B6E880",
           "#FF97FF",
           "#FECB52"
          ],
          "font": {
           "color": "#2a3f5f"
          },
          "geo": {
           "bgcolor": "white",
           "lakecolor": "white",
           "landcolor": "#E5ECF6",
           "showlakes": true,
           "showland": true,
           "subunitcolor": "white"
          },
          "hoverlabel": {
           "align": "left"
          },
          "hovermode": "closest",
          "mapbox": {
           "style": "light"
          },
          "paper_bgcolor": "white",
          "plot_bgcolor": "#E5ECF6",
          "polar": {
           "angularaxis": {
            "gridcolor": "white",
            "linecolor": "white",
            "ticks": ""
           },
           "bgcolor": "#E5ECF6",
           "radialaxis": {
            "gridcolor": "white",
            "linecolor": "white",
            "ticks": ""
           }
          },
          "scene": {
           "xaxis": {
            "backgroundcolor": "#E5ECF6",
            "gridcolor": "white",
            "gridwidth": 2,
            "linecolor": "white",
            "showbackground": true,
            "ticks": "",
            "zerolinecolor": "white"
           },
           "yaxis": {
            "backgroundcolor": "#E5ECF6",
            "gridcolor": "white",
            "gridwidth": 2,
            "linecolor": "white",
            "showbackground": true,
            "ticks": "",
            "zerolinecolor": "white"
           },
           "zaxis": {
            "backgroundcolor": "#E5ECF6",
            "gridcolor": "white",
            "gridwidth": 2,
            "linecolor": "white",
            "showbackground": true,
            "ticks": "",
            "zerolinecolor": "white"
           }
          },
          "shapedefaults": {
           "line": {
            "color": "#2a3f5f"
           }
          },
          "ternary": {
           "aaxis": {
            "gridcolor": "white",
            "linecolor": "white",
            "ticks": ""
           },
           "baxis": {
            "gridcolor": "white",
            "linecolor": "white",
            "ticks": ""
           },
           "bgcolor": "#E5ECF6",
           "caxis": {
            "gridcolor": "white",
            "linecolor": "white",
            "ticks": ""
           }
          },
          "title": {
           "x": 0.05
          },
          "xaxis": {
           "automargin": true,
           "gridcolor": "white",
           "linecolor": "white",
           "ticks": "",
           "title": {
            "standoff": 15
           },
           "zerolinecolor": "white",
           "zerolinewidth": 2
          },
          "yaxis": {
           "automargin": true,
           "gridcolor": "white",
           "linecolor": "white",
           "ticks": "",
           "title": {
            "standoff": 15
           },
           "zerolinecolor": "white",
           "zerolinewidth": 2
          }
         }
        },
        "title": {
         "text": "zone_ach7-21"
        },
        "xaxis": {
         "anchor": "y",
         "domain": [
          0,
          1
         ]
        },
        "xaxis2": {
         "anchor": "y2",
         "domain": [
          0,
          1
         ]
        },
        "xaxis3": {
         "anchor": "y3",
         "domain": [
          0,
          1
         ]
        },
        "yaxis": {
         "anchor": "x",
         "domain": [
          0.7777777777777778,
          1
         ]
        },
        "yaxis2": {
         "anchor": "x2",
         "domain": [
          0.3888888888888889,
          0.6111111111111112
         ]
        },
        "yaxis3": {
         "anchor": "x3",
         "domain": [
          0,
          0.22222222222222224
         ]
        }
       }
      }
     },
     "metadata": {},
     "output_type": "display_data"
    }
   ],
   "source": [
    "s = SpaceTimePlot(plt)\n",
    "times = [time(6), time(12), time(22)]\n",
    "s.extract_many_times(times, plt.dataset_names.zone_ach7_21)\n",
    "s.create_spatial_plots()"
   ]
  },
  {
   "cell_type": "code",
   "execution_count": 13,
   "metadata": {},
   "outputs": [
    {
     "data": {
      "application/vnd.plotly.v1+json": {
       "config": {
        "plotlyServerURL": "https://plotly.com"
       },
       "data": [
        {
         "line": {
          "color": "black",
          "width": 3
         },
         "marker": {
          "color": "black"
         },
         "mode": "markers+lines",
         "name": "Wall 01",
         "type": "scatter",
         "x": [
          10,
          10
         ],
         "xaxis": "x",
         "y": [
          7,
          11
         ],
         "yaxis": "y"
        },
        {
         "line": {
          "color": "black",
          "width": 3
         },
         "marker": {
          "color": "black"
         },
         "mode": "markers+lines",
         "name": "Wall 02",
         "type": "scatter",
         "x": [
          10,
          0
         ],
         "xaxis": "x",
         "y": [
          11,
          11
         ],
         "yaxis": "y"
        },
        {
         "line": {
          "color": "black",
          "width": 3
         },
         "marker": {
          "color": "black"
         },
         "mode": "markers+lines",
         "name": "Wall 03",
         "type": "scatter",
         "x": [
          0,
          0
         ],
         "xaxis": "x",
         "y": [
          11,
          7
         ],
         "yaxis": "y"
        },
        {
         "line": {
          "color": "black",
          "width": 3
         },
         "marker": {
          "color": "black"
         },
         "mode": "markers+lines",
         "name": "Wall 04_1",
         "type": "scatter",
         "x": [
          0,
          5
         ],
         "xaxis": "x",
         "y": [
          7,
          7
         ],
         "yaxis": "y"
        },
        {
         "line": {
          "color": "black",
          "width": 3
         },
         "marker": {
          "color": "black"
         },
         "mode": "markers+lines",
         "name": "Wall 04_2",
         "type": "scatter",
         "x": [
          5,
          10
         ],
         "xaxis": "x",
         "y": [
          7,
          7
         ],
         "yaxis": "y"
        },
        {
         "line": {
          "color": "black",
          "width": 3
         },
         "marker": {
          "color": "black"
         },
         "mode": "markers+lines",
         "name": "Wall 01",
         "type": "scatter",
         "x": [
          5,
          5
         ],
         "xaxis": "x",
         "y": [
          0,
          7
         ],
         "yaxis": "y"
        },
        {
         "line": {
          "color": "black",
          "width": 3
         },
         "marker": {
          "color": "black"
         },
         "mode": "markers+lines",
         "name": "Wall 03",
         "type": "scatter",
         "x": [
          0,
          0
         ],
         "xaxis": "x",
         "y": [
          7,
          0
         ],
         "yaxis": "y"
        },
        {
         "line": {
          "color": "black",
          "width": 3
         },
         "marker": {
          "color": "black"
         },
         "mode": "markers+lines",
         "name": "Wall 04",
         "type": "scatter",
         "x": [
          0,
          5
         ],
         "xaxis": "x",
         "y": [
          0,
          0
         ],
         "yaxis": "y"
        },
        {
         "line": {
          "color": "black",
          "width": 3
         },
         "marker": {
          "color": "black"
         },
         "mode": "markers+lines",
         "name": "Wall 02_1",
         "type": "scatter",
         "x": [
          5,
          0
         ],
         "xaxis": "x",
         "y": [
          7,
          7
         ],
         "yaxis": "y"
        },
        {
         "line": {
          "color": "black",
          "width": 3
         },
         "marker": {
          "color": "black"
         },
         "mode": "markers+lines",
         "name": "Wall 01",
         "type": "scatter",
         "x": [
          10,
          10
         ],
         "xaxis": "x2",
         "y": [
          7,
          11
         ],
         "yaxis": "y2"
        },
        {
         "line": {
          "color": "black",
          "width": 3
         },
         "marker": {
          "color": "black"
         },
         "mode": "markers+lines",
         "name": "Wall 02",
         "type": "scatter",
         "x": [
          10,
          0
         ],
         "xaxis": "x2",
         "y": [
          11,
          11
         ],
         "yaxis": "y2"
        },
        {
         "line": {
          "color": "black",
          "width": 3
         },
         "marker": {
          "color": "black"
         },
         "mode": "markers+lines",
         "name": "Wall 03",
         "type": "scatter",
         "x": [
          0,
          0
         ],
         "xaxis": "x2",
         "y": [
          11,
          7
         ],
         "yaxis": "y2"
        },
        {
         "line": {
          "color": "black",
          "width": 3
         },
         "marker": {
          "color": "black"
         },
         "mode": "markers+lines",
         "name": "Wall 04_1",
         "type": "scatter",
         "x": [
          0,
          5
         ],
         "xaxis": "x2",
         "y": [
          7,
          7
         ],
         "yaxis": "y2"
        },
        {
         "line": {
          "color": "black",
          "width": 3
         },
         "marker": {
          "color": "black"
         },
         "mode": "markers+lines",
         "name": "Wall 04_2",
         "type": "scatter",
         "x": [
          5,
          10
         ],
         "xaxis": "x2",
         "y": [
          7,
          7
         ],
         "yaxis": "y2"
        },
        {
         "line": {
          "color": "black",
          "width": 3
         },
         "marker": {
          "color": "black"
         },
         "mode": "markers+lines",
         "name": "Wall 01",
         "type": "scatter",
         "x": [
          5,
          5
         ],
         "xaxis": "x2",
         "y": [
          0,
          7
         ],
         "yaxis": "y2"
        },
        {
         "line": {
          "color": "black",
          "width": 3
         },
         "marker": {
          "color": "black"
         },
         "mode": "markers+lines",
         "name": "Wall 03",
         "type": "scatter",
         "x": [
          0,
          0
         ],
         "xaxis": "x2",
         "y": [
          7,
          0
         ],
         "yaxis": "y2"
        },
        {
         "line": {
          "color": "black",
          "width": 3
         },
         "marker": {
          "color": "black"
         },
         "mode": "markers+lines",
         "name": "Wall 04",
         "type": "scatter",
         "x": [
          0,
          5
         ],
         "xaxis": "x2",
         "y": [
          0,
          0
         ],
         "yaxis": "y2"
        },
        {
         "line": {
          "color": "black",
          "width": 3
         },
         "marker": {
          "color": "black"
         },
         "mode": "markers+lines",
         "name": "Wall 02_1",
         "type": "scatter",
         "x": [
          5,
          0
         ],
         "xaxis": "x2",
         "y": [
          7,
          7
         ],
         "yaxis": "y2"
        },
        {
         "line": {
          "color": "black",
          "width": 3
         },
         "marker": {
          "color": "black"
         },
         "mode": "markers+lines",
         "name": "Wall 01",
         "type": "scatter",
         "x": [
          10,
          10
         ],
         "xaxis": "x3",
         "y": [
          7,
          11
         ],
         "yaxis": "y3"
        },
        {
         "line": {
          "color": "black",
          "width": 3
         },
         "marker": {
          "color": "black"
         },
         "mode": "markers+lines",
         "name": "Wall 02",
         "type": "scatter",
         "x": [
          10,
          0
         ],
         "xaxis": "x3",
         "y": [
          11,
          11
         ],
         "yaxis": "y3"
        },
        {
         "line": {
          "color": "black",
          "width": 3
         },
         "marker": {
          "color": "black"
         },
         "mode": "markers+lines",
         "name": "Wall 03",
         "type": "scatter",
         "x": [
          0,
          0
         ],
         "xaxis": "x3",
         "y": [
          11,
          7
         ],
         "yaxis": "y3"
        },
        {
         "line": {
          "color": "black",
          "width": 3
         },
         "marker": {
          "color": "black"
         },
         "mode": "markers+lines",
         "name": "Wall 04_1",
         "type": "scatter",
         "x": [
          0,
          5
         ],
         "xaxis": "x3",
         "y": [
          7,
          7
         ],
         "yaxis": "y3"
        },
        {
         "line": {
          "color": "black",
          "width": 3
         },
         "marker": {
          "color": "black"
         },
         "mode": "markers+lines",
         "name": "Wall 04_2",
         "type": "scatter",
         "x": [
          5,
          10
         ],
         "xaxis": "x3",
         "y": [
          7,
          7
         ],
         "yaxis": "y3"
        },
        {
         "line": {
          "color": "black",
          "width": 3
         },
         "marker": {
          "color": "black"
         },
         "mode": "markers+lines",
         "name": "Wall 01",
         "type": "scatter",
         "x": [
          5,
          5
         ],
         "xaxis": "x3",
         "y": [
          0,
          7
         ],
         "yaxis": "y3"
        },
        {
         "line": {
          "color": "black",
          "width": 3
         },
         "marker": {
          "color": "black"
         },
         "mode": "markers+lines",
         "name": "Wall 03",
         "type": "scatter",
         "x": [
          0,
          0
         ],
         "xaxis": "x3",
         "y": [
          7,
          0
         ],
         "yaxis": "y3"
        },
        {
         "line": {
          "color": "black",
          "width": 3
         },
         "marker": {
          "color": "black"
         },
         "mode": "markers+lines",
         "name": "Wall 04",
         "type": "scatter",
         "x": [
          0,
          5
         ],
         "xaxis": "x3",
         "y": [
          0,
          0
         ],
         "yaxis": "y3"
        },
        {
         "line": {
          "color": "black",
          "width": 3
         },
         "marker": {
          "color": "black"
         },
         "mode": "markers+lines",
         "name": "Wall 02_1",
         "type": "scatter",
         "x": [
          5,
          0
         ],
         "xaxis": "x3",
         "y": [
          7,
          7
         ],
         "yaxis": "y3"
        },
        {
         "marker": {
          "cmax": 30.61,
          "cmin": 21.24,
          "colorbar": {
           "outlinewidth": 0,
           "thickness": 5,
           "ticktext": [
            21.24,
            30.61
           ],
           "tickvals": [
            21.24,
            23.5825,
            25.924999999999997,
            28.2675,
            30.61
           ]
          },
          "colorscale": [
           [
            0,
            "rgb(5,48,97)"
           ],
           [
            0.1,
            "rgb(33,102,172)"
           ],
           [
            0.2,
            "rgb(67,147,195)"
           ],
           [
            0.3,
            "rgb(146,197,222)"
           ],
           [
            0.4,
            "rgb(209,229,240)"
           ],
           [
            0.5,
            "rgb(247,247,247)"
           ],
           [
            0.6,
            "rgb(253,219,199)"
           ],
           [
            0.7,
            "rgb(244,165,130)"
           ],
           [
            0.8,
            "rgb(214,96,77)"
           ],
           [
            0.9,
            "rgb(178,24,43)"
           ],
           [
            1,
            "rgb(103,0,31)"
           ]
          ],
          "showscale": true
         },
         "mode": "markers",
         "type": "scatter",
         "x": [
          null
         ],
         "y": [
          null
         ]
        }
       ],
       "layout": {
        "annotations": [
         {
          "font": {
           "size": 16
          },
          "showarrow": false,
          "text": "06:00",
          "x": 0.5,
          "xanchor": "center",
          "xref": "paper",
          "y": 1,
          "yanchor": "bottom",
          "yref": "paper"
         },
         {
          "font": {
           "size": 16
          },
          "showarrow": false,
          "text": "12:00",
          "x": 0.5,
          "xanchor": "center",
          "xref": "paper",
          "y": 0.6111111111111112,
          "yanchor": "bottom",
          "yref": "paper"
         },
         {
          "font": {
           "size": 16
          },
          "showarrow": false,
          "text": "22:00",
          "x": 0.5,
          "xanchor": "center",
          "xref": "paper",
          "y": 0.22222222222222224,
          "yanchor": "bottom",
          "yref": "paper"
         }
        ],
        "shapes": [
         {
          "fillcolor": "rgb(49, 124, 183)",
          "label": {
           "text": "Block North: 22.63ºC"
          },
          "type": "rect",
          "x0": 10,
          "x1": 5,
          "xref": "x",
          "y0": 11,
          "y1": 7,
          "yref": "y"
         },
         {
          "fillcolor": "rgb(5, 48, 97)",
          "label": {
           "text": "Block West: 21.24ºC"
          },
          "type": "rect",
          "x0": 5,
          "x1": 0,
          "xref": "x",
          "y0": 7,
          "y1": 0,
          "yref": "y"
         },
         {
          "fillcolor": "rgb(205, 77, 68)",
          "label": {
           "text": "Block North: 28.98ºC"
          },
          "type": "rect",
          "x0": 10,
          "x1": 5,
          "xref": "x2",
          "y0": 11,
          "y1": 7,
          "yref": "y2"
         },
         {
          "fillcolor": "rgb(103, 0, 31)",
          "label": {
           "text": "Block West: 30.61ºC"
          },
          "type": "rect",
          "x0": 5,
          "x1": 0,
          "xref": "x2",
          "y0": 7,
          "y1": 0,
          "yref": "y2"
         },
         {
          "fillcolor": "rgb(252, 225, 209)",
          "label": {
           "text": "Block North: 26.66ºC"
          },
          "type": "rect",
          "x0": 10,
          "x1": 5,
          "xref": "x3",
          "y0": 11,
          "y1": 7,
          "yref": "y3"
         },
         {
          "fillcolor": "rgb(224, 236, 243)",
          "label": {
           "text": "Block West: 25.37ºC"
          },
          "type": "rect",
          "x0": 5,
          "x1": 0,
          "xref": "x3",
          "y0": 7,
          "y1": 0,
          "yref": "y3"
         }
        ],
        "showlegend": false,
        "template": {
         "data": {
          "bar": [
           {
            "error_x": {
             "color": "#2a3f5f"
            },
            "error_y": {
             "color": "#2a3f5f"
            },
            "marker": {
             "line": {
              "color": "#E5ECF6",
              "width": 0.5
             },
             "pattern": {
              "fillmode": "overlay",
              "size": 10,
              "solidity": 0.2
             }
            },
            "type": "bar"
           }
          ],
          "barpolar": [
           {
            "marker": {
             "line": {
              "color": "#E5ECF6",
              "width": 0.5
             },
             "pattern": {
              "fillmode": "overlay",
              "size": 10,
              "solidity": 0.2
             }
            },
            "type": "barpolar"
           }
          ],
          "carpet": [
           {
            "aaxis": {
             "endlinecolor": "#2a3f5f",
             "gridcolor": "white",
             "linecolor": "white",
             "minorgridcolor": "white",
             "startlinecolor": "#2a3f5f"
            },
            "baxis": {
             "endlinecolor": "#2a3f5f",
             "gridcolor": "white",
             "linecolor": "white",
             "minorgridcolor": "white",
             "startlinecolor": "#2a3f5f"
            },
            "type": "carpet"
           }
          ],
          "choropleth": [
           {
            "colorbar": {
             "outlinewidth": 0,
             "ticks": ""
            },
            "type": "choropleth"
           }
          ],
          "contour": [
           {
            "colorbar": {
             "outlinewidth": 0,
             "ticks": ""
            },
            "colorscale": [
             [
              0,
              "#0d0887"
             ],
             [
              0.1111111111111111,
              "#46039f"
             ],
             [
              0.2222222222222222,
              "#7201a8"
             ],
             [
              0.3333333333333333,
              "#9c179e"
             ],
             [
              0.4444444444444444,
              "#bd3786"
             ],
             [
              0.5555555555555556,
              "#d8576b"
             ],
             [
              0.6666666666666666,
              "#ed7953"
             ],
             [
              0.7777777777777778,
              "#fb9f3a"
             ],
             [
              0.8888888888888888,
              "#fdca26"
             ],
             [
              1,
              "#f0f921"
             ]
            ],
            "type": "contour"
           }
          ],
          "contourcarpet": [
           {
            "colorbar": {
             "outlinewidth": 0,
             "ticks": ""
            },
            "type": "contourcarpet"
           }
          ],
          "heatmap": [
           {
            "colorbar": {
             "outlinewidth": 0,
             "ticks": ""
            },
            "colorscale": [
             [
              0,
              "#0d0887"
             ],
             [
              0.1111111111111111,
              "#46039f"
             ],
             [
              0.2222222222222222,
              "#7201a8"
             ],
             [
              0.3333333333333333,
              "#9c179e"
             ],
             [
              0.4444444444444444,
              "#bd3786"
             ],
             [
              0.5555555555555556,
              "#d8576b"
             ],
             [
              0.6666666666666666,
              "#ed7953"
             ],
             [
              0.7777777777777778,
              "#fb9f3a"
             ],
             [
              0.8888888888888888,
              "#fdca26"
             ],
             [
              1,
              "#f0f921"
             ]
            ],
            "type": "heatmap"
           }
          ],
          "heatmapgl": [
           {
            "colorbar": {
             "outlinewidth": 0,
             "ticks": ""
            },
            "colorscale": [
             [
              0,
              "#0d0887"
             ],
             [
              0.1111111111111111,
              "#46039f"
             ],
             [
              0.2222222222222222,
              "#7201a8"
             ],
             [
              0.3333333333333333,
              "#9c179e"
             ],
             [
              0.4444444444444444,
              "#bd3786"
             ],
             [
              0.5555555555555556,
              "#d8576b"
             ],
             [
              0.6666666666666666,
              "#ed7953"
             ],
             [
              0.7777777777777778,
              "#fb9f3a"
             ],
             [
              0.8888888888888888,
              "#fdca26"
             ],
             [
              1,
              "#f0f921"
             ]
            ],
            "type": "heatmapgl"
           }
          ],
          "histogram": [
           {
            "marker": {
             "pattern": {
              "fillmode": "overlay",
              "size": 10,
              "solidity": 0.2
             }
            },
            "type": "histogram"
           }
          ],
          "histogram2d": [
           {
            "colorbar": {
             "outlinewidth": 0,
             "ticks": ""
            },
            "colorscale": [
             [
              0,
              "#0d0887"
             ],
             [
              0.1111111111111111,
              "#46039f"
             ],
             [
              0.2222222222222222,
              "#7201a8"
             ],
             [
              0.3333333333333333,
              "#9c179e"
             ],
             [
              0.4444444444444444,
              "#bd3786"
             ],
             [
              0.5555555555555556,
              "#d8576b"
             ],
             [
              0.6666666666666666,
              "#ed7953"
             ],
             [
              0.7777777777777778,
              "#fb9f3a"
             ],
             [
              0.8888888888888888,
              "#fdca26"
             ],
             [
              1,
              "#f0f921"
             ]
            ],
            "type": "histogram2d"
           }
          ],
          "histogram2dcontour": [
           {
            "colorbar": {
             "outlinewidth": 0,
             "ticks": ""
            },
            "colorscale": [
             [
              0,
              "#0d0887"
             ],
             [
              0.1111111111111111,
              "#46039f"
             ],
             [
              0.2222222222222222,
              "#7201a8"
             ],
             [
              0.3333333333333333,
              "#9c179e"
             ],
             [
              0.4444444444444444,
              "#bd3786"
             ],
             [
              0.5555555555555556,
              "#d8576b"
             ],
             [
              0.6666666666666666,
              "#ed7953"
             ],
             [
              0.7777777777777778,
              "#fb9f3a"
             ],
             [
              0.8888888888888888,
              "#fdca26"
             ],
             [
              1,
              "#f0f921"
             ]
            ],
            "type": "histogram2dcontour"
           }
          ],
          "mesh3d": [
           {
            "colorbar": {
             "outlinewidth": 0,
             "ticks": ""
            },
            "type": "mesh3d"
           }
          ],
          "parcoords": [
           {
            "line": {
             "colorbar": {
              "outlinewidth": 0,
              "ticks": ""
             }
            },
            "type": "parcoords"
           }
          ],
          "pie": [
           {
            "automargin": true,
            "type": "pie"
           }
          ],
          "scatter": [
           {
            "fillpattern": {
             "fillmode": "overlay",
             "size": 10,
             "solidity": 0.2
            },
            "type": "scatter"
           }
          ],
          "scatter3d": [
           {
            "line": {
             "colorbar": {
              "outlinewidth": 0,
              "ticks": ""
             }
            },
            "marker": {
             "colorbar": {
              "outlinewidth": 0,
              "ticks": ""
             }
            },
            "type": "scatter3d"
           }
          ],
          "scattercarpet": [
           {
            "marker": {
             "colorbar": {
              "outlinewidth": 0,
              "ticks": ""
             }
            },
            "type": "scattercarpet"
           }
          ],
          "scattergeo": [
           {
            "marker": {
             "colorbar": {
              "outlinewidth": 0,
              "ticks": ""
             }
            },
            "type": "scattergeo"
           }
          ],
          "scattergl": [
           {
            "marker": {
             "colorbar": {
              "outlinewidth": 0,
              "ticks": ""
             }
            },
            "type": "scattergl"
           }
          ],
          "scattermapbox": [
           {
            "marker": {
             "colorbar": {
              "outlinewidth": 0,
              "ticks": ""
             }
            },
            "type": "scattermapbox"
           }
          ],
          "scatterpolar": [
           {
            "marker": {
             "colorbar": {
              "outlinewidth": 0,
              "ticks": ""
             }
            },
            "type": "scatterpolar"
           }
          ],
          "scatterpolargl": [
           {
            "marker": {
             "colorbar": {
              "outlinewidth": 0,
              "ticks": ""
             }
            },
            "type": "scatterpolargl"
           }
          ],
          "scatterternary": [
           {
            "marker": {
             "colorbar": {
              "outlinewidth": 0,
              "ticks": ""
             }
            },
            "type": "scatterternary"
           }
          ],
          "surface": [
           {
            "colorbar": {
             "outlinewidth": 0,
             "ticks": ""
            },
            "colorscale": [
             [
              0,
              "#0d0887"
             ],
             [
              0.1111111111111111,
              "#46039f"
             ],
             [
              0.2222222222222222,
              "#7201a8"
             ],
             [
              0.3333333333333333,
              "#9c179e"
             ],
             [
              0.4444444444444444,
              "#bd3786"
             ],
             [
              0.5555555555555556,
              "#d8576b"
             ],
             [
              0.6666666666666666,
              "#ed7953"
             ],
             [
              0.7777777777777778,
              "#fb9f3a"
             ],
             [
              0.8888888888888888,
              "#fdca26"
             ],
             [
              1,
              "#f0f921"
             ]
            ],
            "type": "surface"
           }
          ],
          "table": [
           {
            "cells": {
             "fill": {
              "color": "#EBF0F8"
             },
             "line": {
              "color": "white"
             }
            },
            "header": {
             "fill": {
              "color": "#C8D4E3"
             },
             "line": {
              "color": "white"
             }
            },
            "type": "table"
           }
          ]
         },
         "layout": {
          "annotationdefaults": {
           "arrowcolor": "#2a3f5f",
           "arrowhead": 0,
           "arrowwidth": 1
          },
          "autotypenumbers": "strict",
          "coloraxis": {
           "colorbar": {
            "outlinewidth": 0,
            "ticks": ""
           }
          },
          "colorscale": {
           "diverging": [
            [
             0,
             "#8e0152"
            ],
            [
             0.1,
             "#c51b7d"
            ],
            [
             0.2,
             "#de77ae"
            ],
            [
             0.3,
             "#f1b6da"
            ],
            [
             0.4,
             "#fde0ef"
            ],
            [
             0.5,
             "#f7f7f7"
            ],
            [
             0.6,
             "#e6f5d0"
            ],
            [
             0.7,
             "#b8e186"
            ],
            [
             0.8,
             "#7fbc41"
            ],
            [
             0.9,
             "#4d9221"
            ],
            [
             1,
             "#276419"
            ]
           ],
           "sequential": [
            [
             0,
             "#0d0887"
            ],
            [
             0.1111111111111111,
             "#46039f"
            ],
            [
             0.2222222222222222,
             "#7201a8"
            ],
            [
             0.3333333333333333,
             "#9c179e"
            ],
            [
             0.4444444444444444,
             "#bd3786"
            ],
            [
             0.5555555555555556,
             "#d8576b"
            ],
            [
             0.6666666666666666,
             "#ed7953"
            ],
            [
             0.7777777777777778,
             "#fb9f3a"
            ],
            [
             0.8888888888888888,
             "#fdca26"
            ],
            [
             1,
             "#f0f921"
            ]
           ],
           "sequentialminus": [
            [
             0,
             "#0d0887"
            ],
            [
             0.1111111111111111,
             "#46039f"
            ],
            [
             0.2222222222222222,
             "#7201a8"
            ],
            [
             0.3333333333333333,
             "#9c179e"
            ],
            [
             0.4444444444444444,
             "#bd3786"
            ],
            [
             0.5555555555555556,
             "#d8576b"
            ],
            [
             0.6666666666666666,
             "#ed7953"
            ],
            [
             0.7777777777777778,
             "#fb9f3a"
            ],
            [
             0.8888888888888888,
             "#fdca26"
            ],
            [
             1,
             "#f0f921"
            ]
           ]
          },
          "colorway": [
           "#636efa",
           "#EF553B",
           "#00cc96",
           "#ab63fa",
           "#FFA15A",
           "#19d3f3",
           "#FF6692",
           "#B6E880",
           "#FF97FF",
           "#FECB52"
          ],
          "font": {
           "color": "#2a3f5f"
          },
          "geo": {
           "bgcolor": "white",
           "lakecolor": "white",
           "landcolor": "#E5ECF6",
           "showlakes": true,
           "showland": true,
           "subunitcolor": "white"
          },
          "hoverlabel": {
           "align": "left"
          },
          "hovermode": "closest",
          "mapbox": {
           "style": "light"
          },
          "paper_bgcolor": "white",
          "plot_bgcolor": "#E5ECF6",
          "polar": {
           "angularaxis": {
            "gridcolor": "white",
            "linecolor": "white",
            "ticks": ""
           },
           "bgcolor": "#E5ECF6",
           "radialaxis": {
            "gridcolor": "white",
            "linecolor": "white",
            "ticks": ""
           }
          },
          "scene": {
           "xaxis": {
            "backgroundcolor": "#E5ECF6",
            "gridcolor": "white",
            "gridwidth": 2,
            "linecolor": "white",
            "showbackground": true,
            "ticks": "",
            "zerolinecolor": "white"
           },
           "yaxis": {
            "backgroundcolor": "#E5ECF6",
            "gridcolor": "white",
            "gridwidth": 2,
            "linecolor": "white",
            "showbackground": true,
            "ticks": "",
            "zerolinecolor": "white"
           },
           "zaxis": {
            "backgroundcolor": "#E5ECF6",
            "gridcolor": "white",
            "gridwidth": 2,
            "linecolor": "white",
            "showbackground": true,
            "ticks": "",
            "zerolinecolor": "white"
           }
          },
          "shapedefaults": {
           "line": {
            "color": "#2a3f5f"
           }
          },
          "ternary": {
           "aaxis": {
            "gridcolor": "white",
            "linecolor": "white",
            "ticks": ""
           },
           "baxis": {
            "gridcolor": "white",
            "linecolor": "white",
            "ticks": ""
           },
           "bgcolor": "#E5ECF6",
           "caxis": {
            "gridcolor": "white",
            "linecolor": "white",
            "ticks": ""
           }
          },
          "title": {
           "x": 0.05
          },
          "xaxis": {
           "automargin": true,
           "gridcolor": "white",
           "linecolor": "white",
           "ticks": "",
           "title": {
            "standoff": 15
           },
           "zerolinecolor": "white",
           "zerolinewidth": 2
          },
          "yaxis": {
           "automargin": true,
           "gridcolor": "white",
           "linecolor": "white",
           "ticks": "",
           "title": {
            "standoff": 15
           },
           "zerolinecolor": "white",
           "zerolinewidth": 2
          }
         }
        },
        "title": {
         "text": "zone_mean_air_temp7-21"
        },
        "xaxis": {
         "anchor": "y",
         "domain": [
          0,
          1
         ]
        },
        "xaxis2": {
         "anchor": "y2",
         "domain": [
          0,
          1
         ]
        },
        "xaxis3": {
         "anchor": "y3",
         "domain": [
          0,
          1
         ]
        },
        "yaxis": {
         "anchor": "x",
         "domain": [
          0.7777777777777778,
          1
         ]
        },
        "yaxis2": {
         "anchor": "x2",
         "domain": [
          0.3888888888888889,
          0.6111111111111112
         ]
        },
        "yaxis3": {
         "anchor": "x3",
         "domain": [
          0,
          0.22222222222222224
         ]
        }
       }
      }
     },
     "metadata": {},
     "output_type": "display_data"
    }
   ],
   "source": [
    "s = SpaceTimePlot(plt)\n",
    "times = [time(6), time(12), time(22)]\n",
    "s.extract_many_times(times, plt.dataset_names.zone_mean_air_temp7_21)\n",
    "s.create_spatial_plots()"
   ]
  },
  {
   "cell_type": "code",
   "execution_count": 16,
   "metadata": {},
   "outputs": [
    {
     "data": {
      "application/vnd.plotly.v1+json": {
       "config": {
        "plotlyServerURL": "https://plotly.com"
       },
       "data": [
        {
         "name": "Block North",
         "type": "scatter",
         "x": [
          "2017-07-21T00:00:00",
          "2017-07-21T00:15:00",
          "2017-07-21T00:30:00",
          "2017-07-21T00:45:00",
          "2017-07-21T01:00:00",
          "2017-07-21T01:15:00",
          "2017-07-21T01:30:00",
          "2017-07-21T01:45:00",
          "2017-07-21T02:00:00",
          "2017-07-21T02:15:00",
          "2017-07-21T02:30:00",
          "2017-07-21T02:45:00",
          "2017-07-21T03:00:00",
          "2017-07-21T03:15:00",
          "2017-07-21T03:30:00",
          "2017-07-21T03:45:00",
          "2017-07-21T04:00:00",
          "2017-07-21T04:15:00",
          "2017-07-21T04:30:00",
          "2017-07-21T04:45:00",
          "2017-07-21T05:00:00",
          "2017-07-21T05:15:00",
          "2017-07-21T05:30:00",
          "2017-07-21T05:45:00",
          "2017-07-21T06:00:00",
          "2017-07-21T06:15:00",
          "2017-07-21T06:30:00",
          "2017-07-21T06:45:00",
          "2017-07-21T07:00:00",
          "2017-07-21T07:15:00",
          "2017-07-21T07:30:00",
          "2017-07-21T07:45:00",
          "2017-07-21T08:00:00",
          "2017-07-21T08:15:00",
          "2017-07-21T08:30:00",
          "2017-07-21T08:45:00",
          "2017-07-21T09:00:00",
          "2017-07-21T09:15:00",
          "2017-07-21T09:30:00",
          "2017-07-21T09:45:00",
          "2017-07-21T10:00:00",
          "2017-07-21T10:15:00",
          "2017-07-21T10:30:00",
          "2017-07-21T10:45:00",
          "2017-07-21T11:00:00",
          "2017-07-21T11:15:00",
          "2017-07-21T11:30:00",
          "2017-07-21T11:45:00",
          "2017-07-21T12:00:00",
          "2017-07-21T12:15:00",
          "2017-07-21T12:30:00",
          "2017-07-21T12:45:00",
          "2017-07-21T13:00:00",
          "2017-07-21T13:15:00",
          "2017-07-21T13:30:00",
          "2017-07-21T13:45:00",
          "2017-07-21T14:00:00",
          "2017-07-21T14:15:00",
          "2017-07-21T14:30:00",
          "2017-07-21T14:45:00",
          "2017-07-21T15:00:00",
          "2017-07-21T15:15:00",
          "2017-07-21T15:30:00",
          "2017-07-21T15:45:00",
          "2017-07-21T16:00:00",
          "2017-07-21T16:15:00",
          "2017-07-21T16:30:00",
          "2017-07-21T16:45:00",
          "2017-07-21T17:00:00",
          "2017-07-21T17:15:00",
          "2017-07-21T17:30:00",
          "2017-07-21T17:45:00",
          "2017-07-21T18:00:00",
          "2017-07-21T18:15:00",
          "2017-07-21T18:30:00",
          "2017-07-21T18:45:00",
          "2017-07-21T19:00:00",
          "2017-07-21T19:15:00",
          "2017-07-21T19:30:00",
          "2017-07-21T19:45:00",
          "2017-07-21T20:00:00",
          "2017-07-21T20:15:00",
          "2017-07-21T20:30:00",
          "2017-07-21T20:45:00",
          "2017-07-21T21:00:00",
          "2017-07-21T21:15:00",
          "2017-07-21T21:30:00",
          "2017-07-21T21:45:00",
          "2017-07-21T22:00:00",
          "2017-07-21T22:15:00",
          "2017-07-21T22:30:00",
          "2017-07-21T22:45:00",
          "2017-07-21T23:00:00",
          "2017-07-21T23:15:00",
          "2017-07-21T23:30:00",
          "2017-07-21T23:45:00"
         ],
         "y": [
          0,
          0,
          0,
          0,
          0,
          0,
          0,
          0,
          0,
          0,
          0,
          0,
          0,
          0,
          0,
          0,
          0,
          0,
          0,
          0,
          0,
          0,
          0,
          0,
          0,
          0,
          0,
          0,
          0,
          0,
          0,
          0,
          0.4435064603522266,
          0.34657433875570737,
          0,
          0,
          0,
          0,
          0,
          0,
          0,
          0,
          0,
          0,
          0,
          0,
          0,
          0,
          0,
          0,
          0,
          0,
          0,
          0,
          0,
          0,
          0,
          0,
          0,
          0,
          0,
          0,
          0,
          0,
          0,
          0,
          0,
          0,
          0,
          0,
          0,
          0,
          0.17817866775535973,
          0.5893739069552488,
          0,
          0,
          0,
          0,
          0,
          0,
          0,
          0,
          0,
          0,
          0,
          0,
          0,
          0,
          0,
          0,
          0,
          0,
          0,
          0,
          0,
          0
         ]
        },
        {
         "name": "Block West",
         "type": "scatter",
         "x": [
          "2017-07-21T00:00:00",
          "2017-07-21T00:15:00",
          "2017-07-21T00:30:00",
          "2017-07-21T00:45:00",
          "2017-07-21T01:00:00",
          "2017-07-21T01:15:00",
          "2017-07-21T01:30:00",
          "2017-07-21T01:45:00",
          "2017-07-21T02:00:00",
          "2017-07-21T02:15:00",
          "2017-07-21T02:30:00",
          "2017-07-21T02:45:00",
          "2017-07-21T03:00:00",
          "2017-07-21T03:15:00",
          "2017-07-21T03:30:00",
          "2017-07-21T03:45:00",
          "2017-07-21T04:00:00",
          "2017-07-21T04:15:00",
          "2017-07-21T04:30:00",
          "2017-07-21T04:45:00",
          "2017-07-21T05:00:00",
          "2017-07-21T05:15:00",
          "2017-07-21T05:30:00",
          "2017-07-21T05:45:00",
          "2017-07-21T06:00:00",
          "2017-07-21T06:15:00",
          "2017-07-21T06:30:00",
          "2017-07-21T06:45:00",
          "2017-07-21T07:00:00",
          "2017-07-21T07:15:00",
          "2017-07-21T07:30:00",
          "2017-07-21T07:45:00",
          "2017-07-21T08:00:00",
          "2017-07-21T08:15:00",
          "2017-07-21T08:30:00",
          "2017-07-21T08:45:00",
          "2017-07-21T09:00:00",
          "2017-07-21T09:15:00",
          "2017-07-21T09:30:00",
          "2017-07-21T09:45:00",
          "2017-07-21T10:00:00",
          "2017-07-21T10:15:00",
          "2017-07-21T10:30:00",
          "2017-07-21T10:45:00",
          "2017-07-21T11:00:00",
          "2017-07-21T11:15:00",
          "2017-07-21T11:30:00",
          "2017-07-21T11:45:00",
          "2017-07-21T12:00:00",
          "2017-07-21T12:15:00",
          "2017-07-21T12:30:00",
          "2017-07-21T12:45:00",
          "2017-07-21T13:00:00",
          "2017-07-21T13:15:00",
          "2017-07-21T13:30:00",
          "2017-07-21T13:45:00",
          "2017-07-21T14:00:00",
          "2017-07-21T14:15:00",
          "2017-07-21T14:30:00",
          "2017-07-21T14:45:00",
          "2017-07-21T15:00:00",
          "2017-07-21T15:15:00",
          "2017-07-21T15:30:00",
          "2017-07-21T15:45:00",
          "2017-07-21T16:00:00",
          "2017-07-21T16:15:00",
          "2017-07-21T16:30:00",
          "2017-07-21T16:45:00",
          "2017-07-21T17:00:00",
          "2017-07-21T17:15:00",
          "2017-07-21T17:30:00",
          "2017-07-21T17:45:00",
          "2017-07-21T18:00:00",
          "2017-07-21T18:15:00",
          "2017-07-21T18:30:00",
          "2017-07-21T18:45:00",
          "2017-07-21T19:00:00",
          "2017-07-21T19:15:00",
          "2017-07-21T19:30:00",
          "2017-07-21T19:45:00",
          "2017-07-21T20:00:00",
          "2017-07-21T20:15:00",
          "2017-07-21T20:30:00",
          "2017-07-21T20:45:00",
          "2017-07-21T21:00:00",
          "2017-07-21T21:15:00",
          "2017-07-21T21:30:00",
          "2017-07-21T21:45:00",
          "2017-07-21T22:00:00",
          "2017-07-21T22:15:00",
          "2017-07-21T22:30:00",
          "2017-07-21T22:45:00",
          "2017-07-21T23:00:00",
          "2017-07-21T23:15:00",
          "2017-07-21T23:30:00",
          "2017-07-21T23:45:00"
         ],
         "y": [
          16.398425593983955,
          16.344881689081937,
          16.280463826198755,
          16.205646857804112,
          16.139595446851985,
          16.126503772896537,
          16.085756975634776,
          16.032034936463806,
          15.987873421866867,
          15.969502151330925,
          15.937953556049356,
          15.91273601176194,
          15.920866641451589,
          15.934455634322081,
          15.938958733553257,
          15.94435300242363,
          15.957230722500583,
          15.99916497641795,
          16.031908020823945,
          16.0618227567314,
          16.109604609746334,
          16.266255265065972,
          16.37842218742698,
          16.464363888488755,
          16.569515105154757,
          16.814904383661847,
          17.010820739226126,
          17.164126617196764,
          17.473785504942974,
          17.844654106075517,
          17.99447429895345,
          18.188537833080616,
          9.160565377298989,
          9.18334178525804,
          18.65452557529649,
          18.779345563706265,
          18.812878339521355,
          18.91064654144256,
          19.016127092869297,
          19.11210315195152,
          19.18587769744157,
          19.263591113389403,
          19.34014085322481,
          19.408960075440305,
          19.432270139080238,
          19.387451786202124,
          19.518025285286235,
          19.540112413170455,
          19.49070248108809,
          19.556639330869118,
          19.6092112590227,
          19.629236083753927,
          19.65270285227621,
          19.639831691625666,
          19.63394404258041,
          19.640180348940177,
          19.656756660246714,
          19.612128897179904,
          19.584315596736403,
          19.5777866863369,
          19.58042083548577,
          19.506576203833173,
          19.44331984100951,
          19.399067005733574,
          19.3547154900322,
          19.27057249351408,
          19.1881211830046,
          19.11789400301289,
          19.049401361160708,
          18.93955298609605,
          18.83163813640226,
          18.736948705613347,
          9.358090863308306,
          0.057425420908878234,
          18.460221539003097,
          18.230461245132155,
          18.20649617012718,
          18.140686306779408,
          18.035377153453283,
          18.062228187840173,
          17.858771199775244,
          17.726318245646777,
          17.65794908232841,
          17.577503780308188,
          17.476026887173116,
          17.371565427690708,
          17.262848167352413,
          17.141571155024867,
          17.02904991208147,
          16.979260507008078,
          16.907818650392027,
          16.81596459838424,
          16.73303993435801,
          16.64973776973897,
          16.563501356869104,
          16.478821703757884
         ]
        }
       ],
       "layout": {
        "template": {
         "data": {
          "bar": [
           {
            "error_x": {
             "color": "#2a3f5f"
            },
            "error_y": {
             "color": "#2a3f5f"
            },
            "marker": {
             "line": {
              "color": "#E5ECF6",
              "width": 0.5
             },
             "pattern": {
              "fillmode": "overlay",
              "size": 10,
              "solidity": 0.2
             }
            },
            "type": "bar"
           }
          ],
          "barpolar": [
           {
            "marker": {
             "line": {
              "color": "#E5ECF6",
              "width": 0.5
             },
             "pattern": {
              "fillmode": "overlay",
              "size": 10,
              "solidity": 0.2
             }
            },
            "type": "barpolar"
           }
          ],
          "carpet": [
           {
            "aaxis": {
             "endlinecolor": "#2a3f5f",
             "gridcolor": "white",
             "linecolor": "white",
             "minorgridcolor": "white",
             "startlinecolor": "#2a3f5f"
            },
            "baxis": {
             "endlinecolor": "#2a3f5f",
             "gridcolor": "white",
             "linecolor": "white",
             "minorgridcolor": "white",
             "startlinecolor": "#2a3f5f"
            },
            "type": "carpet"
           }
          ],
          "choropleth": [
           {
            "colorbar": {
             "outlinewidth": 0,
             "ticks": ""
            },
            "type": "choropleth"
           }
          ],
          "contour": [
           {
            "colorbar": {
             "outlinewidth": 0,
             "ticks": ""
            },
            "colorscale": [
             [
              0,
              "#0d0887"
             ],
             [
              0.1111111111111111,
              "#46039f"
             ],
             [
              0.2222222222222222,
              "#7201a8"
             ],
             [
              0.3333333333333333,
              "#9c179e"
             ],
             [
              0.4444444444444444,
              "#bd3786"
             ],
             [
              0.5555555555555556,
              "#d8576b"
             ],
             [
              0.6666666666666666,
              "#ed7953"
             ],
             [
              0.7777777777777778,
              "#fb9f3a"
             ],
             [
              0.8888888888888888,
              "#fdca26"
             ],
             [
              1,
              "#f0f921"
             ]
            ],
            "type": "contour"
           }
          ],
          "contourcarpet": [
           {
            "colorbar": {
             "outlinewidth": 0,
             "ticks": ""
            },
            "type": "contourcarpet"
           }
          ],
          "heatmap": [
           {
            "colorbar": {
             "outlinewidth": 0,
             "ticks": ""
            },
            "colorscale": [
             [
              0,
              "#0d0887"
             ],
             [
              0.1111111111111111,
              "#46039f"
             ],
             [
              0.2222222222222222,
              "#7201a8"
             ],
             [
              0.3333333333333333,
              "#9c179e"
             ],
             [
              0.4444444444444444,
              "#bd3786"
             ],
             [
              0.5555555555555556,
              "#d8576b"
             ],
             [
              0.6666666666666666,
              "#ed7953"
             ],
             [
              0.7777777777777778,
              "#fb9f3a"
             ],
             [
              0.8888888888888888,
              "#fdca26"
             ],
             [
              1,
              "#f0f921"
             ]
            ],
            "type": "heatmap"
           }
          ],
          "heatmapgl": [
           {
            "colorbar": {
             "outlinewidth": 0,
             "ticks": ""
            },
            "colorscale": [
             [
              0,
              "#0d0887"
             ],
             [
              0.1111111111111111,
              "#46039f"
             ],
             [
              0.2222222222222222,
              "#7201a8"
             ],
             [
              0.3333333333333333,
              "#9c179e"
             ],
             [
              0.4444444444444444,
              "#bd3786"
             ],
             [
              0.5555555555555556,
              "#d8576b"
             ],
             [
              0.6666666666666666,
              "#ed7953"
             ],
             [
              0.7777777777777778,
              "#fb9f3a"
             ],
             [
              0.8888888888888888,
              "#fdca26"
             ],
             [
              1,
              "#f0f921"
             ]
            ],
            "type": "heatmapgl"
           }
          ],
          "histogram": [
           {
            "marker": {
             "pattern": {
              "fillmode": "overlay",
              "size": 10,
              "solidity": 0.2
             }
            },
            "type": "histogram"
           }
          ],
          "histogram2d": [
           {
            "colorbar": {
             "outlinewidth": 0,
             "ticks": ""
            },
            "colorscale": [
             [
              0,
              "#0d0887"
             ],
             [
              0.1111111111111111,
              "#46039f"
             ],
             [
              0.2222222222222222,
              "#7201a8"
             ],
             [
              0.3333333333333333,
              "#9c179e"
             ],
             [
              0.4444444444444444,
              "#bd3786"
             ],
             [
              0.5555555555555556,
              "#d8576b"
             ],
             [
              0.6666666666666666,
              "#ed7953"
             ],
             [
              0.7777777777777778,
              "#fb9f3a"
             ],
             [
              0.8888888888888888,
              "#fdca26"
             ],
             [
              1,
              "#f0f921"
             ]
            ],
            "type": "histogram2d"
           }
          ],
          "histogram2dcontour": [
           {
            "colorbar": {
             "outlinewidth": 0,
             "ticks": ""
            },
            "colorscale": [
             [
              0,
              "#0d0887"
             ],
             [
              0.1111111111111111,
              "#46039f"
             ],
             [
              0.2222222222222222,
              "#7201a8"
             ],
             [
              0.3333333333333333,
              "#9c179e"
             ],
             [
              0.4444444444444444,
              "#bd3786"
             ],
             [
              0.5555555555555556,
              "#d8576b"
             ],
             [
              0.6666666666666666,
              "#ed7953"
             ],
             [
              0.7777777777777778,
              "#fb9f3a"
             ],
             [
              0.8888888888888888,
              "#fdca26"
             ],
             [
              1,
              "#f0f921"
             ]
            ],
            "type": "histogram2dcontour"
           }
          ],
          "mesh3d": [
           {
            "colorbar": {
             "outlinewidth": 0,
             "ticks": ""
            },
            "type": "mesh3d"
           }
          ],
          "parcoords": [
           {
            "line": {
             "colorbar": {
              "outlinewidth": 0,
              "ticks": ""
             }
            },
            "type": "parcoords"
           }
          ],
          "pie": [
           {
            "automargin": true,
            "type": "pie"
           }
          ],
          "scatter": [
           {
            "fillpattern": {
             "fillmode": "overlay",
             "size": 10,
             "solidity": 0.2
            },
            "type": "scatter"
           }
          ],
          "scatter3d": [
           {
            "line": {
             "colorbar": {
              "outlinewidth": 0,
              "ticks": ""
             }
            },
            "marker": {
             "colorbar": {
              "outlinewidth": 0,
              "ticks": ""
             }
            },
            "type": "scatter3d"
           }
          ],
          "scattercarpet": [
           {
            "marker": {
             "colorbar": {
              "outlinewidth": 0,
              "ticks": ""
             }
            },
            "type": "scattercarpet"
           }
          ],
          "scattergeo": [
           {
            "marker": {
             "colorbar": {
              "outlinewidth": 0,
              "ticks": ""
             }
            },
            "type": "scattergeo"
           }
          ],
          "scattergl": [
           {
            "marker": {
             "colorbar": {
              "outlinewidth": 0,
              "ticks": ""
             }
            },
            "type": "scattergl"
           }
          ],
          "scattermapbox": [
           {
            "marker": {
             "colorbar": {
              "outlinewidth": 0,
              "ticks": ""
             }
            },
            "type": "scattermapbox"
           }
          ],
          "scatterpolar": [
           {
            "marker": {
             "colorbar": {
              "outlinewidth": 0,
              "ticks": ""
             }
            },
            "type": "scatterpolar"
           }
          ],
          "scatterpolargl": [
           {
            "marker": {
             "colorbar": {
              "outlinewidth": 0,
              "ticks": ""
             }
            },
            "type": "scatterpolargl"
           }
          ],
          "scatterternary": [
           {
            "marker": {
             "colorbar": {
              "outlinewidth": 0,
              "ticks": ""
             }
            },
            "type": "scatterternary"
           }
          ],
          "surface": [
           {
            "colorbar": {
             "outlinewidth": 0,
             "ticks": ""
            },
            "colorscale": [
             [
              0,
              "#0d0887"
             ],
             [
              0.1111111111111111,
              "#46039f"
             ],
             [
              0.2222222222222222,
              "#7201a8"
             ],
             [
              0.3333333333333333,
              "#9c179e"
             ],
             [
              0.4444444444444444,
              "#bd3786"
             ],
             [
              0.5555555555555556,
              "#d8576b"
             ],
             [
              0.6666666666666666,
              "#ed7953"
             ],
             [
              0.7777777777777778,
              "#fb9f3a"
             ],
             [
              0.8888888888888888,
              "#fdca26"
             ],
             [
              1,
              "#f0f921"
             ]
            ],
            "type": "surface"
           }
          ],
          "table": [
           {
            "cells": {
             "fill": {
              "color": "#EBF0F8"
             },
             "line": {
              "color": "white"
             }
            },
            "header": {
             "fill": {
              "color": "#C8D4E3"
             },
             "line": {
              "color": "white"
             }
            },
            "type": "table"
           }
          ]
         },
         "layout": {
          "annotationdefaults": {
           "arrowcolor": "#2a3f5f",
           "arrowhead": 0,
           "arrowwidth": 1
          },
          "autotypenumbers": "strict",
          "coloraxis": {
           "colorbar": {
            "outlinewidth": 0,
            "ticks": ""
           }
          },
          "colorscale": {
           "diverging": [
            [
             0,
             "#8e0152"
            ],
            [
             0.1,
             "#c51b7d"
            ],
            [
             0.2,
             "#de77ae"
            ],
            [
             0.3,
             "#f1b6da"
            ],
            [
             0.4,
             "#fde0ef"
            ],
            [
             0.5,
             "#f7f7f7"
            ],
            [
             0.6,
             "#e6f5d0"
            ],
            [
             0.7,
             "#b8e186"
            ],
            [
             0.8,
             "#7fbc41"
            ],
            [
             0.9,
             "#4d9221"
            ],
            [
             1,
             "#276419"
            ]
           ],
           "sequential": [
            [
             0,
             "#0d0887"
            ],
            [
             0.1111111111111111,
             "#46039f"
            ],
            [
             0.2222222222222222,
             "#7201a8"
            ],
            [
             0.3333333333333333,
             "#9c179e"
            ],
            [
             0.4444444444444444,
             "#bd3786"
            ],
            [
             0.5555555555555556,
             "#d8576b"
            ],
            [
             0.6666666666666666,
             "#ed7953"
            ],
            [
             0.7777777777777778,
             "#fb9f3a"
            ],
            [
             0.8888888888888888,
             "#fdca26"
            ],
            [
             1,
             "#f0f921"
            ]
           ],
           "sequentialminus": [
            [
             0,
             "#0d0887"
            ],
            [
             0.1111111111111111,
             "#46039f"
            ],
            [
             0.2222222222222222,
             "#7201a8"
            ],
            [
             0.3333333333333333,
             "#9c179e"
            ],
            [
             0.4444444444444444,
             "#bd3786"
            ],
            [
             0.5555555555555556,
             "#d8576b"
            ],
            [
             0.6666666666666666,
             "#ed7953"
            ],
            [
             0.7777777777777778,
             "#fb9f3a"
            ],
            [
             0.8888888888888888,
             "#fdca26"
            ],
            [
             1,
             "#f0f921"
            ]
           ]
          },
          "colorway": [
           "#636efa",
           "#EF553B",
           "#00cc96",
           "#ab63fa",
           "#FFA15A",
           "#19d3f3",
           "#FF6692",
           "#B6E880",
           "#FF97FF",
           "#FECB52"
          ],
          "font": {
           "color": "#2a3f5f"
          },
          "geo": {
           "bgcolor": "white",
           "lakecolor": "white",
           "landcolor": "#E5ECF6",
           "showlakes": true,
           "showland": true,
           "subunitcolor": "white"
          },
          "hoverlabel": {
           "align": "left"
          },
          "hovermode": "closest",
          "mapbox": {
           "style": "light"
          },
          "paper_bgcolor": "white",
          "plot_bgcolor": "#E5ECF6",
          "polar": {
           "angularaxis": {
            "gridcolor": "white",
            "linecolor": "white",
            "ticks": ""
           },
           "bgcolor": "#E5ECF6",
           "radialaxis": {
            "gridcolor": "white",
            "linecolor": "white",
            "ticks": ""
           }
          },
          "scene": {
           "xaxis": {
            "backgroundcolor": "#E5ECF6",
            "gridcolor": "white",
            "gridwidth": 2,
            "linecolor": "white",
            "showbackground": true,
            "ticks": "",
            "zerolinecolor": "white"
           },
           "yaxis": {
            "backgroundcolor": "#E5ECF6",
            "gridcolor": "white",
            "gridwidth": 2,
            "linecolor": "white",
            "showbackground": true,
            "ticks": "",
            "zerolinecolor": "white"
           },
           "zaxis": {
            "backgroundcolor": "#E5ECF6",
            "gridcolor": "white",
            "gridwidth": 2,
            "linecolor": "white",
            "showbackground": true,
            "ticks": "",
            "zerolinecolor": "white"
           }
          },
          "shapedefaults": {
           "line": {
            "color": "#2a3f5f"
           }
          },
          "ternary": {
           "aaxis": {
            "gridcolor": "white",
            "linecolor": "white",
            "ticks": ""
           },
           "baxis": {
            "gridcolor": "white",
            "linecolor": "white",
            "ticks": ""
           },
           "bgcolor": "#E5ECF6",
           "caxis": {
            "gridcolor": "white",
            "linecolor": "white",
            "ticks": ""
           }
          },
          "title": {
           "x": 0.05
          },
          "xaxis": {
           "automargin": true,
           "gridcolor": "white",
           "linecolor": "white",
           "ticks": "",
           "title": {
            "standoff": 15
           },
           "zerolinecolor": "white",
           "zerolinewidth": 2
          },
          "yaxis": {
           "automargin": true,
           "gridcolor": "white",
           "linecolor": "white",
           "ticks": "",
           "title": {
            "standoff": 15
           },
           "zerolinecolor": "white",
           "zerolinewidth": 2
          }
         }
        },
        "title": {
         "text": "zone_ach7-21"
        }
       }
      }
     },
     "metadata": {},
     "output_type": "display_data"
    }
   ],
   "source": [
    "tp = TimePlot(plt)\n",
    "tp.make_time_plot(plt.dataset_names.zone_ach7_21)"
   ]
  }
 ],
 "metadata": {
  "kernelspec": {
   "display_name": "gqenv",
   "language": "python",
   "name": "python3"
  },
  "language_info": {
   "codemirror_mode": {
    "name": "ipython",
    "version": 3
   },
   "file_extension": ".py",
   "mimetype": "text/x-python",
   "name": "python",
   "nbconvert_exporter": "python",
   "pygments_lexer": "ipython3",
   "version": "3.9.15"
  }
 },
 "nbformat": 4,
 "nbformat_minor": 2
}
