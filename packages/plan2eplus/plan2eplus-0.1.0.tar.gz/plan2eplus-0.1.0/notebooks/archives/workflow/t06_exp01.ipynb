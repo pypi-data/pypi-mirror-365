{
 "cells": [
  {
   "cell_type": "code",
   "execution_count": 1,
   "metadata": {},
   "outputs": [],
   "source": [
    "import sys\n",
    "sys.path.append(\"/Users/julietnwagwuume-ezeoke/_UILCode/gqe-phd/geomeppy/_scripts\")\n",
    "\n",
    "from copy import deepcopy\n",
    "\n",
    "from case_edits.ezcase import EzCase\n",
    "\n",
    "\n",
    "\n",
    "from workflow.projects import ProjectManager\n",
    "\n",
    "from workflow.exp_01 import input, ns_axis, ew_axis, cross_axis, shaded_exterior\n",
    "\n",
    "import os\n",
    "import pickle"
   ]
  },
  {
   "cell_type": "code",
   "execution_count": 2,
   "metadata": {},
   "outputs": [
    {
     "name": "stdout",
     "output_type": "stream",
     "text": [
      "a00-base_case\n",
      "Added 4 walls \n",
      "Added 6 walls \n",
      "Added 4 walls \n",
      "Added 4 walls \n",
      "Added 6 walls \n",
      "Added 4 walls \n",
      "out.idf exists\n",
      "IDF has changed: False\n",
      "idf has not changed - no run\n",
      "looking for sql\n"
     ]
    },
    {
     "name": "stderr",
     "output_type": "stream",
     "text": [
      "/Users/julietnwagwuume-ezeoke/_UILCode/gqe-phd/geomeppy/_scripts/outputs/sql.py:39: UserWarning:\n",
      "\n",
      "AFN Zone Ventilation Sensible Heat Loss Rate not in available_outputs\n",
      "\n",
      "/Users/julietnwagwuume-ezeoke/_UILCode/gqe-phd/geomeppy/_scripts/analysis/post_process.py:28: UserWarning:\n",
      "\n",
      "Output variables are not appropriate for this case\n",
      "\n"
     ]
    }
   ],
   "source": [
    "pm = ProjectManager(\"exp01\", input, RUN_CASE=True)"
   ]
  },
  {
   "cell_type": "markdown",
   "metadata": {},
   "source": [
    "## exp_01 continues"
   ]
  },
  {
   "cell_type": "code",
   "execution_count": 3,
   "metadata": {},
   "outputs": [
    {
     "name": "stdout",
     "output_type": "stream",
     "text": [
      "a02-ns_axis\n",
      "Added 4 walls \n",
      "Added 6 walls \n",
      "Added 4 walls \n",
      "Added 4 walls \n",
      "Added 6 walls \n",
      "Added 4 walls \n",
      "out.idf exists\n",
      "IDF has changed: True\n",
      "idf has changed - running case\n",
      "\n",
      "/Applications/EnergyPlus-22-2-0/energyplus --weather /Users/julietnwagwuume-ezeoke/_UILCode/gqe-phd/geomeppy/weather_data/PALO_ALTO/CA_PALO-ALTO-AP_724937_23.EPW --output-directory /Users/julietnwagwuume-ezeoke/_UILCode/gqe-phd/geomeppy/cases/projects/exp01/a02-ns_axis/results --idd /Applications/EnergyPlus-22-2-0/Energy+.idd /Users/julietnwagwuume-ezeoke/_UILCode/gqe-phd/geomeppy/cases/base/01example/Minimal_AP_1d784d.idf\n",
      "\n",
      "EnergyPlus Starting\n",
      "EnergyPlus, Version 22.2.0-c249759bad, YMD=2024.08.07 15:06\n",
      "Adjusting Air System Sizing\n",
      "Adjusting Standard 62.1 Ventilation Sizing\n",
      "Initializing Simulation\n",
      "Reporting Surfaces\n",
      "Beginning Primary Simulation\n",
      "Initializing New Environment Parameters\n",
      "Warming up {1}\n",
      "Warming up {2}\n",
      "Warming up {3}\n",
      "Warming up {4}\n",
      "Warming up {5}\n",
      "Warming up {6}\n",
      "Starting Simulation at 07/01/2017 for SUMMERDAY\n",
      "Writing tabular output file results using HTML format.\n",
      "Writing final SQL reports\n",
      "EnergyPlus Run Time=00hr 00min  0.33sec\n",
      "looking for sql\n",
      "a03-ew_axis\n"
     ]
    },
    {
     "name": "stderr",
     "output_type": "stream",
     "text": [
      "EnergyPlus Completed Successfully.\n"
     ]
    },
    {
     "name": "stdout",
     "output_type": "stream",
     "text": [
      "Added 4 walls \n",
      "Added 6 walls \n",
      "Added 4 walls \n",
      "Added 4 walls \n",
      "Added 6 walls \n",
      "Added 4 walls \n",
      "out.idf exists\n",
      "IDF has changed: False\n",
      "idf has not changed - no run\n",
      "looking for sql\n",
      "a04-cross_axis\n",
      "Added 4 walls \n",
      "Added 6 walls \n",
      "Added 4 walls \n",
      "Added 4 walls \n",
      "Added 6 walls \n",
      "Added 4 walls \n",
      "out.idf exists\n",
      "IDF has changed: True\n",
      "idf has changed - running case\n",
      "\n",
      "/Applications/EnergyPlus-22-2-0/energyplus --weather /Users/julietnwagwuume-ezeoke/_UILCode/gqe-phd/geomeppy/weather_data/PALO_ALTO/CA_PALO-ALTO-AP_724937_23.EPW --output-directory /Users/julietnwagwuume-ezeoke/_UILCode/gqe-phd/geomeppy/cases/projects/exp01/a04-cross_axis/results --idd /Applications/EnergyPlus-22-2-0/Energy+.idd /Users/julietnwagwuume-ezeoke/_UILCode/gqe-phd/geomeppy/cases/base/01example/Minimal_AP_dc78fe.idf\n",
      "\n",
      "EnergyPlus Starting\n",
      "EnergyPlus, Version 22.2.0-c249759bad, YMD=2024.08.07 15:06\n",
      "Adjusting Air System Sizing\n",
      "Adjusting Standard 62.1 Ventilation Sizing\n",
      "Initializing Simulation\n",
      "Reporting Surfaces\n",
      "Beginning Primary Simulation\n",
      "Initializing New Environment Parameters\n",
      "Warming up {1}\n",
      "Warming up {2}\n",
      "Warming up {3}\n",
      "Warming up {4}\n",
      "Warming up {5}\n",
      "Warming up {6}\n",
      "Starting Simulation at 07/01/2017 for SUMMERDAY\n",
      "Writing tabular output file results using HTML format.\n",
      "Writing final SQL reports\n",
      "EnergyPlus Run Time=00hr 00min  0.21sec\n",
      "looking for sql\n",
      "a05-shaded_ext\n",
      "Added 4 walls \n",
      "Added 6 walls \n",
      "Added 4 walls \n",
      "Added 4 walls \n",
      "Added 6 walls \n",
      "Added 4 walls \n"
     ]
    },
    {
     "name": "stderr",
     "output_type": "stream",
     "text": [
      "EnergyPlus Completed Successfully.\n"
     ]
    },
    {
     "name": "stdout",
     "output_type": "stream",
     "text": [
      "out.idf exists\n",
      "IDF has changed: True\n",
      "idf has changed - running case\n",
      "\n",
      "/Applications/EnergyPlus-22-2-0/energyplus --weather /Users/julietnwagwuume-ezeoke/_UILCode/gqe-phd/geomeppy/weather_data/PALO_ALTO/CA_PALO-ALTO-AP_724937_23.EPW --output-directory /Users/julietnwagwuume-ezeoke/_UILCode/gqe-phd/geomeppy/cases/projects/exp01/a05-shaded_ext/results --idd /Applications/EnergyPlus-22-2-0/Energy+.idd /Users/julietnwagwuume-ezeoke/_UILCode/gqe-phd/geomeppy/cases/base/01example/Minimal_AP_a225b3.idf\n",
      "\n",
      "EnergyPlus Starting\n",
      "EnergyPlus, Version 22.2.0-c249759bad, YMD=2024.08.07 15:06\n",
      "Adjusting Air System Sizing\n",
      "Adjusting Standard 62.1 Ventilation Sizing\n",
      "Initializing Simulation\n",
      "Reporting Surfaces\n",
      "Beginning Primary Simulation\n",
      "Initializing New Environment Parameters\n",
      "Warming up {1}\n",
      "Warming up {2}\n",
      "Warming up {3}\n",
      "Warming up {4}\n",
      "Warming up {5}\n",
      "Warming up {6}\n",
      "Starting Simulation at 07/01/2017 for SUMMERDAY\n",
      "Writing tabular output file results using HTML format.\n",
      "Writing final SQL reports\n",
      "EnergyPlus Run Time=00hr 00min  0.22sec\n",
      "looking for sql\n",
      "cases/projects/exp01/project_figs.html\n"
     ]
    },
    {
     "name": "stderr",
     "output_type": "stream",
     "text": [
      "EnergyPlus Completed Successfully.\n"
     ]
    }
   ],
   "source": [
    "pm.generate_new_case(ns_axis, \"ns_axis\", prefix=\"a02\")\n",
    "pm.generate_new_case(ew_axis, \"ew_axis\", prefix=\"a03\")\n",
    "pm.generate_new_case(cross_axis, \"cross_axis\", prefix=\"a04\")\n",
    "pm.generate_new_case(shaded_exterior, \"shaded_ext\", prefix=\"a05\")\n",
    "pm.save_project_fig()"
   ]
  },
  {
   "cell_type": "code",
   "execution_count": null,
   "metadata": {},
   "outputs": [],
   "source": []
  },
  {
   "cell_type": "code",
   "execution_count": 6,
   "metadata": {},
   "outputs": [],
   "source": [
    "with open(os.path.join(pm.new_ezcase.case.path, \"post_process.pkl\"), 'rb') as handle:\n",
    "    b = pickle.load(handle)"
   ]
  },
  {
   "cell_type": "code",
   "execution_count": 7,
   "metadata": {},
   "outputs": [
    {
     "name": "stdout",
     "output_type": "stream",
     "text": [
      "{'type': 'Zone Ventilation Net Heat Loss', 'System': 'BLOCK 01 STOREY 0'}\n",
      "{'type': 'Zone Ventilation Net Heat Loss', 'System': 'BLOCK 02 STOREY 0'}\n",
      "{'type': 'Zone Ventilation Net Heat Loss', 'System': 'BLOCK 03 STOREY 0'}\n",
      "{'type': 'Zone Ventilation Net Heat Loss', 'System': 'BLOCK 04 STOREY 0'}\n",
      "{'type': 'Zone Ventilation Net Heat Loss', 'System': 'BLOCK 05 STOREY 0'}\n",
      "{'type': 'Zone Ventilation Net Heat Loss', 'System': 'BLOCK 06 STOREY 0'}\n"
     ]
    }
   ],
   "source": [
    "for data in b['Zone Ventilation Net Heat Loss']:\n",
    "    print(data.header.metadata)"
   ]
  }
 ],
 "metadata": {
  "kernelspec": {
   "display_name": "gqenv",
   "language": "python",
   "name": "python3"
  },
  "language_info": {
   "codemirror_mode": {
    "name": "ipython",
    "version": 3
   },
   "file_extension": ".py",
   "mimetype": "text/x-python",
   "name": "python",
   "nbconvert_exporter": "python",
   "pygments_lexer": "ipython3",
   "version": "3.10.14"
  }
 },
 "nbformat": 4,
 "nbformat_minor": 2
}
