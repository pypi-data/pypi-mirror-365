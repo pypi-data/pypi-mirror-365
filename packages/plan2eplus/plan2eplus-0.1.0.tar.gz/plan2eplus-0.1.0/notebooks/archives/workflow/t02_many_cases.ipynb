{
 "cells": [
  {
   "cell_type": "code",
   "execution_count": 1,
   "metadata": {},
   "outputs": [],
   "source": [
    "import sys\n",
    "sys.path.append(\"/Users/julietnwagwuume-ezeoke/_UILCode/gqe-phd/geomeppy/_scripts\")\n",
    "\n",
    "from recipes.two_zone import input\n",
    "# from recipes.tests import input as input2\n",
    "from case_edits.ezcase import EzCase, EzCaseInput\n",
    "\n",
    "from operator import attrgetter\n",
    "from dataclasses import dataclass\n",
    "import dataclasses\n",
    "\n",
    "from pprint import pprint, pformat\n",
    "from copy import deepcopy\n",
    "\n",
    "import hashlib\n",
    "\n",
    "import os\n",
    "\n",
    "from geometry.wall import WallNormal\n",
    "\n",
    "from workflow.projects import ProjectManager\n",
    "\n",
    "import pickle\n",
    "import filecmp\n",
    "\n",
    "from methods.subsurfaces.pairs import SubsurfacePair as SSP\n",
    "from methods.subsurfaces.pairs import SubsurfaceObjects\n"
   ]
  },
  {
   "cell_type": "code",
   "execution_count": 2,
   "metadata": {},
   "outputs": [
    {
     "name": "stdout",
     "output_type": "stream",
     "text": [
      "Added 5 walls \n",
      "Added 4 walls \n",
      "out.idf exists\n",
      "IDF has changed: False\n",
      "looking for sql\n"
     ]
    }
   ],
   "source": [
    "pm = ProjectManager(\"test0\", input)"
   ]
  },
  {
   "cell_type": "code",
   "execution_count": 3,
   "metadata": {},
   "outputs": [
    {
     "name": "stdout",
     "output_type": "stream",
     "text": [
      "Added 5 walls \n",
      "Added 4 walls \n",
      "out.idf exists\n",
      "IDF has changed: False\n",
      "looking for sql\n"
     ]
    }
   ],
   "source": [
    "def mod(input:EzCaseInput):\n",
    "    input.subsurface_pairs.append(SSP(0,WallNormal.WEST, SubsurfaceObjects.WINDOW))\n",
    "    return input\n",
    "pm.generate_new_case(mod, \"more_windows\", prefix=\"a02\")"
   ]
  },
  {
   "cell_type": "code",
   "execution_count": 4,
   "metadata": {},
   "outputs": [
    {
     "name": "stdout",
     "output_type": "stream",
     "text": [
      "Added 5 walls \n",
      "Added 4 walls \n",
      "out.idf exists\n",
      "IDF has changed: False\n",
      "looking for sql\n"
     ]
    }
   ],
   "source": [
    "def mod(input:EzCaseInput):\n",
    "    input.subsurface_pairs.append(SSP(1,WallNormal.WEST, SubsurfaceObjects.WINDOW))\n",
    "    return input\n",
    "pm.generate_new_case(mod, \"test\", prefix=\"a03\")"
   ]
  },
  {
   "cell_type": "code",
   "execution_count": 5,
   "metadata": {},
   "outputs": [
    {
     "name": "stdout",
     "output_type": "stream",
     "text": [
      "Added 5 walls \n",
      "Added 4 walls \n",
      "out.idf exists\n",
      "IDF has changed: False\n",
      "looking for sql\n"
     ]
    }
   ],
   "source": [
    "def mod(input:EzCaseInput):\n",
    "    input.subsurface_pairs.append(SSP(1,WallNormal.EAST, SubsurfaceObjects.WINDOW))\n",
    "    return input\n",
    "pm.generate_new_case(mod, \"test2\", prefix=\"a04\")"
   ]
  },
  {
   "cell_type": "code",
   "execution_count": 6,
   "metadata": {},
   "outputs": [
    {
     "name": "stderr",
     "output_type": "stream",
     "text": [
      "54844 bytes written to file /Users/julietnwagwuume-ezeoke/_UILCode/gqe-phd/geomeppy/project_figs.jpg\n"
     ]
    }
   ],
   "source": [
    "pm.save_project_fig()"
   ]
  },
  {
   "cell_type": "code",
   "execution_count": null,
   "metadata": {},
   "outputs": [],
   "source": []
  }
 ],
 "metadata": {
  "kernelspec": {
   "display_name": "gqenv",
   "language": "python",
   "name": "python3"
  },
  "language_info": {
   "codemirror_mode": {
    "name": "ipython",
    "version": 3
   },
   "file_extension": ".py",
   "mimetype": "text/x-python",
   "name": "python",
   "nbconvert_exporter": "python",
   "pygments_lexer": "ipython3",
   "version": "3.10.14"
  }
 },
 "nbformat": 4,
 "nbformat_minor": 2
}
