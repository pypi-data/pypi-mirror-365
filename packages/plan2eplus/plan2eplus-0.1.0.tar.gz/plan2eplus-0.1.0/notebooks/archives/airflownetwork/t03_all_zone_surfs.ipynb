{
 "cells": [
  {
   "cell_type": "code",
   "execution_count": 1,
   "metadata": {},
   "outputs": [],
   "source": [
    "import sys\n",
    "sys.path.append(\"/Users/julietnwagwuume-ezeoke/_UILCode/gqe-phd/geomeppy/_scripts\")\n",
    "\n",
    "from copy import deepcopy\n",
    "\n",
    "from case_edits.ezcase import EzCase\n",
    "\n",
    "from recipes.exp_01 import input, ns_axis\n",
    "\n",
    "from geometry.zone import Zone\n",
    "from geometry.wall import Wall\n",
    "\n",
    "import pickle\n",
    "\n",
    "import os"
   ]
  },
  {
   "cell_type": "code",
   "execution_count": 2,
   "metadata": {},
   "outputs": [
    {
     "name": "stdout",
     "output_type": "stream",
     "text": [
      "tests/test17_exp01\n",
      "Added 4 walls \n",
      "Added 6 walls \n",
      "Added 4 walls \n",
      "Added 4 walls \n",
      "Added 6 walls \n",
      "Added 4 walls \n",
      "out.idf exists\n",
      "IDF has changed: True\n",
      "looking for sql\n"
     ]
    }
   ],
   "source": [
    "test_input = deepcopy(input)\n",
    "test_ez = EzCase(ns_axis(input), RUN_CASE=False)"
   ]
  },
  {
   "cell_type": "code",
   "execution_count": 3,
   "metadata": {},
   "outputs": [
    {
     "name": "stdout",
     "output_type": "stream",
     "text": [
      "looking for sql\n"
     ]
    }
   ],
   "source": [
    "test_ez.prepare_plotter()"
   ]
  },
  {
   "cell_type": "code",
   "execution_count": 4,
   "metadata": {},
   "outputs": [
    {
     "name": "stdout",
     "output_type": "stream",
     "text": [
      "running analysis\n"
     ]
    }
   ],
   "source": [
    "test_ez.run_analysis()"
   ]
  },
  {
   "cell_type": "code",
   "execution_count": 5,
   "metadata": {},
   "outputs": [],
   "source": [
    "test_ez.post_process_variables()"
   ]
  },
  {
   "cell_type": "code",
   "execution_count": 6,
   "metadata": {},
   "outputs": [],
   "source": [
    "with open(os.path.join(test_ez.case.path, \"post_process.pkl\"), 'rb') as handle:\n",
    "    b = pickle.load(handle)"
   ]
  },
  {
   "cell_type": "code",
   "execution_count": 7,
   "metadata": {},
   "outputs": [
    {
     "name": "stdout",
     "output_type": "stream",
     "text": [
      "{'type': 'Zone Ventilation Net Heat Loss', 'System': 'BLOCK 01 STOREY 0'}\n",
      "{'type': 'Zone Ventilation Net Heat Loss', 'System': 'BLOCK 02 STOREY 0'}\n",
      "{'type': 'Zone Ventilation Net Heat Loss', 'System': 'BLOCK 03 STOREY 0'}\n",
      "{'type': 'Zone Ventilation Net Heat Loss', 'System': 'BLOCK 04 STOREY 0'}\n",
      "{'type': 'Zone Ventilation Net Heat Loss', 'System': 'BLOCK 05 STOREY 0'}\n",
      "{'type': 'Zone Ventilation Net Heat Loss', 'System': 'BLOCK 06 STOREY 0'}\n"
     ]
    }
   ],
   "source": [
    "for data in b['Zone Ventilation Net Heat Loss']:\n",
    "    print(data.header.metadata)"
   ]
  },
  {
   "cell_type": "code",
   "execution_count": null,
   "metadata": {},
   "outputs": [],
   "source": [
    "b"
   ]
  },
  {
   "cell_type": "code",
   "execution_count": 4,
   "metadata": {},
   "outputs": [
    {
     "data": {
      "text/plain": [
       "'cases/tests/test17_exp01/out.idf'"
      ]
     },
     "execution_count": 4,
     "metadata": {},
     "output_type": "execute_result"
    }
   ],
   "source": [
    "test_ez.case.idf_path"
   ]
  },
  {
   "cell_type": "code",
   "execution_count": 11,
   "metadata": {},
   "outputs": [
    {
     "data": {
      "text/plain": [
       "[Zone(Block 06), Zone(Block 03), Zone(Block 02)]"
      ]
     },
     "execution_count": 11,
     "metadata": {},
     "output_type": "execute_result"
    }
   ],
   "source": [
    "test_ez.afn.no_vent_zones"
   ]
  },
  {
   "cell_type": "code",
   "execution_count": 18,
   "metadata": {},
   "outputs": [
    {
     "name": "stdout",
     "output_type": "stream",
     "text": [
      "('Block 06 - West - W03', None)\n",
      "('Block 06 - South - W04', None)\n",
      "('Block 03 - South - W04', None)\n",
      "('Block 02 - East - W01', None)\n",
      "('Block 02 - North - W02', None)\n"
     ]
    }
   ],
   "source": [
    "no_vent_walls = []\n",
    "\n",
    "for zone in test_ez.afn.no_vent_zones:\n",
    "    used_directions = []\n",
    "    for w in zone.walls.values():\n",
    "        assert type(w) == Wall\n",
    "        if not w.partner_wall_name:\n",
    "            print((w.display_name, w.partner_wall_name))\n",
    "            used_directions.append(w.direction)\n",
    "            no_vent_walls.append(w)\n",
    "\n",
    "        if len(used_directions) >= 2:\n",
    "            break"
   ]
  },
  {
   "cell_type": "code",
   "execution_count": 17,
   "metadata": {},
   "outputs": [
    {
     "data": {
      "text/plain": [
       "[Wall(Block 06 - West - W03),\n",
       " Wall(Block 06 - South - W04),\n",
       " Wall(Block 03 - South - W04),\n",
       " Wall(Block 03 - South - W04),\n",
       " Wall(Block 03 - East - W01_1),\n",
       " Wall(Block 03 - North - W02_1),\n",
       " Wall(Block 03 - West - W03_1),\n",
       " Wall(Block 02 - East - W01),\n",
       " Wall(Block 02 - North - W02)]"
      ]
     },
     "execution_count": 17,
     "metadata": {},
     "output_type": "execute_result"
    }
   ],
   "source": [
    "no_vent_walls"
   ]
  },
  {
   "cell_type": "code",
   "execution_count": 21,
   "metadata": {},
   "outputs": [
    {
     "data": {
      "text/plain": [
       "\n",
       "AIRFLOWNETWORK:MULTIZONE:SPECIFIEDFLOWRATE,\n",
       "    ,                         !- Name\n",
       "    ,                         !- Air Flow Value\n",
       "    MassFlow;                 !- Air Flow Units"
      ]
     },
     "execution_count": 21,
     "metadata": {},
     "output_type": "execute_result"
    }
   ],
   "source": [
    "min_flow_rate = test_ez.case.idf.newidfobject(\n",
    "                \"AirflowNetwork:MultiZone:SpecifiedFlowRate\".upper()\n",
    "            )\n",
    "min_flow_rate.Air_Flow_Value"
   ]
  },
  {
   "cell_type": "code",
   "execution_count": 8,
   "metadata": {},
   "outputs": [],
   "source": [
    "test_ez.case.geometry.walls[\"B_01_East_W01_1\"].boundary_condition"
   ]
  },
  {
   "cell_type": "code",
   "execution_count": null,
   "metadata": {},
   "outputs": [
    {
     "data": {
      "text/plain": [
       "[\n",
       "AIRFLOWNETWORK:MULTIZONE:ZONE,\n",
       "    Block 01 Storey 0,        !- Zone Name\n",
       "    Constant,                 !- Ventilation Control Mode\n",
       "    ,                         !- Ventilation Control Zone Temperature Setpoint Schedule Name\n",
       "    0,                        !- Minimum Venting Open Factor\n",
       "    0,                        !- Indoor and Outdoor Temperature Difference Lower Limit For Maximum Venting Open Factor\n",
       "    100,                      !- Indoor and Outdoor Temperature Difference Upper Limit for Minimum Venting Open Factor\n",
       "    0,                        !- Indoor and Outdoor Enthalpy Difference Lower Limit For Maximum Venting Open Factor\n",
       "    300000,                   !- Indoor and Outdoor Enthalpy Difference Upper Limit for Minimum Venting Open Factor\n",
       "    ,                         !- Venting Availability Schedule Name\n",
       "    Standard,                 !- Single Sided Wind Pressure Coefficient Algorithm\n",
       "    10;                       !- Facade Width\n",
       ", \n",
       "AIRFLOWNETWORK:MULTIZONE:ZONE,\n",
       "    Block 02 Storey 0,        !- Zone Name\n",
       "    NoVent,                   !- Ventilation Control Mode\n",
       "    ,                         !- Ventilation Control Zone Temperature Setpoint Schedule Name\n",
       "    0,                        !- Minimum Venting Open Factor\n",
       "    0,                        !- Indoor and Outdoor Temperature Difference Lower Limit For Maximum Venting Open Factor\n",
       "    100,                      !- Indoor and Outdoor Temperature Difference Upper Limit for Minimum Venting Open Factor\n",
       "    0,                        !- Indoor and Outdoor Enthalpy Difference Lower Limit For Maximum Venting Open Factor\n",
       "    300000,                   !- Indoor and Outdoor Enthalpy Difference Upper Limit for Minimum Venting Open Factor\n",
       "    ,                         !- Venting Availability Schedule Name\n",
       "    Standard,                 !- Single Sided Wind Pressure Coefficient Algorithm\n",
       "    10;                       !- Facade Width\n",
       ", \n",
       "AIRFLOWNETWORK:MULTIZONE:ZONE,\n",
       "    Block 03 Storey 0,        !- Zone Name\n",
       "    NoVent,                   !- Ventilation Control Mode\n",
       "    ,                         !- Ventilation Control Zone Temperature Setpoint Schedule Name\n",
       "    0,                        !- Minimum Venting Open Factor\n",
       "    0,                        !- Indoor and Outdoor Temperature Difference Lower Limit For Maximum Venting Open Factor\n",
       "    100,                      !- Indoor and Outdoor Temperature Difference Upper Limit for Minimum Venting Open Factor\n",
       "    0,                        !- Indoor and Outdoor Enthalpy Difference Lower Limit For Maximum Venting Open Factor\n",
       "    300000,                   !- Indoor and Outdoor Enthalpy Difference Upper Limit for Minimum Venting Open Factor\n",
       "    ,                         !- Venting Availability Schedule Name\n",
       "    Standard,                 !- Single Sided Wind Pressure Coefficient Algorithm\n",
       "    10;                       !- Facade Width\n",
       ", \n",
       "AIRFLOWNETWORK:MULTIZONE:ZONE,\n",
       "    Block 04 Storey 0,        !- Zone Name\n",
       "    Constant,                 !- Ventilation Control Mode\n",
       "    ,                         !- Ventilation Control Zone Temperature Setpoint Schedule Name\n",
       "    0,                        !- Minimum Venting Open Factor\n",
       "    0,                        !- Indoor and Outdoor Temperature Difference Lower Limit For Maximum Venting Open Factor\n",
       "    100,                      !- Indoor and Outdoor Temperature Difference Upper Limit for Minimum Venting Open Factor\n",
       "    0,                        !- Indoor and Outdoor Enthalpy Difference Lower Limit For Maximum Venting Open Factor\n",
       "    300000,                   !- Indoor and Outdoor Enthalpy Difference Upper Limit for Minimum Venting Open Factor\n",
       "    ,                         !- Venting Availability Schedule Name\n",
       "    Standard,                 !- Single Sided Wind Pressure Coefficient Algorithm\n",
       "    10;                       !- Facade Width\n",
       ", \n",
       "AIRFLOWNETWORK:MULTIZONE:ZONE,\n",
       "    Block 05 Storey 0,        !- Zone Name\n",
       "    Constant,                 !- Ventilation Control Mode\n",
       "    ,                         !- Ventilation Control Zone Temperature Setpoint Schedule Name\n",
       "    0,                        !- Minimum Venting Open Factor\n",
       "    0,                        !- Indoor and Outdoor Temperature Difference Lower Limit For Maximum Venting Open Factor\n",
       "    100,                      !- Indoor and Outdoor Temperature Difference Upper Limit for Minimum Venting Open Factor\n",
       "    0,                        !- Indoor and Outdoor Enthalpy Difference Lower Limit For Maximum Venting Open Factor\n",
       "    300000,                   !- Indoor and Outdoor Enthalpy Difference Upper Limit for Minimum Venting Open Factor\n",
       "    ,                         !- Venting Availability Schedule Name\n",
       "    Standard,                 !- Single Sided Wind Pressure Coefficient Algorithm\n",
       "    10;                       !- Facade Width\n",
       ", \n",
       "AIRFLOWNETWORK:MULTIZONE:ZONE,\n",
       "    Block 06 Storey 0,        !- Zone Name\n",
       "    NoVent,                   !- Ventilation Control Mode\n",
       "    ,                         !- Ventilation Control Zone Temperature Setpoint Schedule Name\n",
       "    0,                        !- Minimum Venting Open Factor\n",
       "    0,                        !- Indoor and Outdoor Temperature Difference Lower Limit For Maximum Venting Open Factor\n",
       "    100,                      !- Indoor and Outdoor Temperature Difference Upper Limit for Minimum Venting Open Factor\n",
       "    0,                        !- Indoor and Outdoor Enthalpy Difference Lower Limit For Maximum Venting Open Factor\n",
       "    300000,                   !- Indoor and Outdoor Enthalpy Difference Upper Limit for Minimum Venting Open Factor\n",
       "    ,                         !- Venting Availability Schedule Name\n",
       "    Standard,                 !- Single Sided Wind Pressure Coefficient Algorithm\n",
       "    10;                       !- Facade Width\n",
       "]"
      ]
     },
     "execution_count": 3,
     "metadata": {},
     "output_type": "execute_result"
    }
   ],
   "source": [
    "objs = test_ez.case.idf.idfobjects[\"AIRFLOWNETWORK:MULTIZONE:ZONE\"]\n",
    "objs"
   ]
  },
  {
   "cell_type": "code",
   "execution_count": null,
   "metadata": {},
   "outputs": [
    {
     "data": {
      "text/plain": [
       "{Zone(Block 01), Zone(Block 04), Zone(Block 05)}"
      ]
     },
     "execution_count": 11,
     "metadata": {},
     "output_type": "execute_result"
    }
   ],
   "source": [
    "# need to find zones that have subsurfaces\n",
    "zones_w_subsurfaces = []\n",
    "other_zones = []\n",
    "for s in test_ez.case.geometry.subsurfaces.values():\n",
    "    zones_w_subsurfaces.append(s.wall.zone)\n",
    "\n",
    "zones_w_subsurfaces = set(zones_w_subsurfaces)\n",
    "zones_w_subsurfaces\n"
   ]
  },
  {
   "cell_type": "code",
   "execution_count": null,
   "metadata": {},
   "outputs": [
    {
     "name": "stdout",
     "output_type": "stream",
     "text": [
      "Block 06 Storey 0\n",
      "Block 02 Storey 0\n",
      "Block 03 Storey 0\n"
     ]
    }
   ],
   "source": [
    "diff = set(test_ez.case.geometry.zone_list).difference(set(zones_w_subsurfaces))\n",
    "for d in diff:\n",
    "    print(d.name)"
   ]
  },
  {
   "cell_type": "code",
   "execution_count": null,
   "metadata": {},
   "outputs": [
    {
     "name": "stdout",
     "output_type": "stream",
     "text": [
      "\n",
      "AIRFLOWNETWORK:MULTIZONE:ZONE,\n",
      "    Block 06 Storey 0,        !- Zone Name\n",
      "    Constant,                 !- Ventilation Control Mode\n",
      "    ,                         !- Ventilation Control Zone Temperature Setpoint Schedule Name\n",
      "    0,                        !- Minimum Venting Open Factor\n",
      "    0,                        !- Indoor and Outdoor Temperature Difference Lower Limit For Maximum Venting Open Factor\n",
      "    100,                      !- Indoor and Outdoor Temperature Difference Upper Limit for Minimum Venting Open Factor\n",
      "    0,                        !- Indoor and Outdoor Enthalpy Difference Lower Limit For Maximum Venting Open Factor\n",
      "    300000,                   !- Indoor and Outdoor Enthalpy Difference Upper Limit for Minimum Venting Open Factor\n",
      "    ,                         !- Venting Availability Schedule Name\n",
      "    Standard,                 !- Single Sided Wind Pressure Coefficient Algorithm\n",
      "    10;                       !- Facade Width\n",
      "\n"
     ]
    }
   ],
   "source": [
    "objs = test_ez.case.idf.idfobjects[\"AIRFLOWNETWORK:MULTIZONE:ZONE\"]\n",
    "\n",
    "for o in objs:\n",
    "    if o.Zone_Name == list(diff)[0].name:\n",
    "        print(o)"
   ]
  },
  {
   "cell_type": "code",
   "execution_count": null,
   "metadata": {},
   "outputs": [
    {
     "data": {
      "text/plain": [
       "<methods.airflownetwork.AirflowNetwork at 0x1391ab2b0>"
      ]
     },
     "execution_count": 17,
     "metadata": {},
     "output_type": "execute_result"
    }
   ],
   "source": [
    "test_ez.afn.ep"
   ]
  }
 ],
 "metadata": {
  "kernelspec": {
   "display_name": "gqenv",
   "language": "python",
   "name": "python3"
  },
  "language_info": {
   "codemirror_mode": {
    "name": "ipython",
    "version": 3
   },
   "file_extension": ".py",
   "mimetype": "text/x-python",
   "name": "python",
   "nbconvert_exporter": "python",
   "pygments_lexer": "ipython3",
   "version": "3.10.14"
  }
 },
 "nbformat": 4,
 "nbformat_minor": 2
}
