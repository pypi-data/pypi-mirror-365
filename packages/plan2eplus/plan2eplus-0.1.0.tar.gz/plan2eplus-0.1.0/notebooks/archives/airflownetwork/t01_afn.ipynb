{
 "cells": [
  {
   "cell_type": "code",
   "execution_count": 1,
   "metadata": {},
   "outputs": [],
   "source": [
    "import sys\n",
    "sys.path.append(\"/Users/julietnwagwuume-ezeoke/_UILCode/gqe-phd/geomeppy/_scripts\")\n",
    "\n",
    "from case_edits.epcase import EneryPlusCaseEditor\n",
    "from case_edits.recipes.from_min import create_case\n",
    "\n",
    "from case_edits.methods.materials import Materials\n",
    "\n",
    "from case_edits.methods.subsurface import Subsurface, SubsurfaceAttributes, SubsurfaceType\n",
    "from outputs.variables import OutputVars as ov\n",
    "\n",
    "from geomeppy.patches import EpBunch\n",
    "\n",
    "from case_edits.object_getter import Getter\n",
    "\n",
    "from case_edits.methods.airflownetwork import AirflowNetwork\n",
    "from pprint import pprint"
   ]
  },
  {
   "cell_type": "code",
   "execution_count": 2,
   "metadata": {},
   "outputs": [],
   "source": [
    "TEST_CASE = \"tests/test12_afn_closed\"\n",
    "SURFACE_CONSTRUCTIONS_CASE = \"cases/constructions/ASHRAE_2005_HOF_Materials.idf\""
   ]
  },
  {
   "cell_type": "code",
   "execution_count": 3,
   "metadata": {},
   "outputs": [
    {
     "name": "stdout",
     "output_type": "stream",
     "text": [
      "cases/tests/test12_afn_closed/out.idf\n",
      "cases/tests/test12_afn_closed/out.idf\n",
      "Added 5 walls \n",
      "Added 4 walls \n"
     ]
    }
   ],
   "source": [
    "outputs = [ov.surf_incident_solar_rad, ov.surf_net_thermal_rad, ov.zone_mean_air_temp, ov.in_surf_temp, ov.zone_vent_vol, ov.zone_ach, ov.zone_vent_heat_gain]\n",
    "output_names = [o.value for o in outputs]\n",
    "epcase = create_case(TEST_CASE, outputs=output_names)"
   ]
  },
  {
   "cell_type": "code",
   "execution_count": 4,
   "metadata": {},
   "outputs": [],
   "source": [
    "mat = Materials(epcase)\n",
    "mat.study_reference_idf(SURFACE_CONSTRUCTIONS_CASE)\n",
    "mat.get_construction_materials('Light Furnishings')\n",
    "c = mat.get_case_constructions()\n",
    "# const = mat.case_constructions[-1]"
   ]
  },
  {
   "cell_type": "code",
   "execution_count": 5,
   "metadata": {},
   "outputs": [],
   "source": [
    "west_surf = epcase.geometry.zones.B_West.walls.B_West_West_W03\n",
    "int_surf = epcase.geometry.zones.B_West.walls.B_West_North_W02_1\n",
    "north_surf = epcase.geometry.zones.B_North.walls.B_North_North_W02\n",
    "\n",
    "window_const = epcase.idf.getobject(\"CONSTRUCTION\", \"Project External Window\")\n",
    "door_const = epcase.idf.getobject(\"CONSTRUCTION\", 'Light Furnishings')\n",
    "\n"
   ]
  },
  {
   "cell_type": "code",
   "execution_count": 6,
   "metadata": {},
   "outputs": [],
   "source": [
    "# windows\n",
    "data = SubsurfaceAttributes(type=SubsurfaceType.WINDOW, length=1, height=1, construction=window_const, surface=west_surf) # type: ignore\n",
    "Subsurface(epcase=epcase,attrs=data).create_surface()\n",
    "\n",
    "data.surface = north_surf\n",
    "Subsurface(epcase=epcase,attrs=data).create_surface()"
   ]
  },
  {
   "cell_type": "code",
   "execution_count": 7,
   "metadata": {},
   "outputs": [],
   "source": [
    "# doors \n",
    "data = SubsurfaceAttributes(type=SubsurfaceType.DOOR, length=1, height=2, construction=door_const, surface=int_surf) # type: ignore\n",
    "Subsurface(epcase=epcase,attrs=data).create_surface()\n"
   ]
  },
  {
   "cell_type": "code",
   "execution_count": 8,
   "metadata": {},
   "outputs": [],
   "source": [
    "af = AirflowNetwork(epcase)"
   ]
  },
  {
   "cell_type": "code",
   "execution_count": 9,
   "metadata": {},
   "outputs": [],
   "source": [
    "af.create_simulation_control()"
   ]
  },
  {
   "cell_type": "code",
   "execution_count": 10,
   "metadata": {},
   "outputs": [],
   "source": [
    "af.create_zone_objects()"
   ]
  },
  {
   "cell_type": "code",
   "execution_count": 11,
   "metadata": {},
   "outputs": [
    {
     "name": "stdout",
     "output_type": "stream",
     "text": [
      "skipping Block North Storey 0 Wall 0004_1 Door\n"
     ]
    }
   ],
   "source": [
    "af.create_zone_surfaces()"
   ]
  },
  {
   "cell_type": "code",
   "execution_count": 12,
   "metadata": {},
   "outputs": [],
   "source": [
    "g = Getter(epcase)\n",
    "g.get_afn_objects()\n"
   ]
  },
  {
   "cell_type": "code",
   "execution_count": 13,
   "metadata": {},
   "outputs": [],
   "source": [
    "# it = g.afn_objects[6]\n",
    "# it.Minimum_Density_Difference_for_TwoWay_Flow = 0.0001"
   ]
  },
  {
   "cell_type": "code",
   "execution_count": 14,
   "metadata": {},
   "outputs": [
    {
     "name": "stdout",
     "output_type": "stream",
     "text": [
      "cases/tests/test12_afn_closed/out.idf\n"
     ]
    }
   ],
   "source": [
    "epcase.save_idf()"
   ]
  },
  {
   "cell_type": "code",
   "execution_count": 15,
   "metadata": {},
   "outputs": [
    {
     "name": "stdout",
     "output_type": "stream",
     "text": [
      "\n",
      "/Applications/EnergyPlus-22-2-0/energyplus --weather /Users/julietnwagwuume-ezeoke/_UILCode/gqe-phd/geomeppy/weather/CA_PALO-ALTO-AP_724937S_20.epw --output-directory /Users/julietnwagwuume-ezeoke/_UILCode/gqe-phd/geomeppy/cases/tests/test12_afn_closed/results --idd /Applications/EnergyPlus-22-2-0/Energy+.idd /Users/julietnwagwuume-ezeoke/_UILCode/gqe-phd/geomeppy/cases/base/01example/Minimal_a3a115.idf\n",
      "\n",
      "EnergyPlus Starting\n",
      "EnergyPlus, Version 22.2.0-c249759bad, YMD=2024.06.17 19:58\n",
      "Adjusting Air System Sizing\n",
      "Adjusting Standard 62.1 Ventilation Sizing\n",
      "Initializing Simulation\n"
     ]
    },
    {
     "name": "stderr",
     "output_type": "stream",
     "text": [
      "Program terminated: EnergyPlus Terminated--Error(s) Detected.\n"
     ]
    },
    {
     "ename": "EnergyPlusRunError",
     "evalue": "\r\n\r\nContents of EnergyPlus error file at /Users/julietnwagwuume-ezeoke/_UILCode/gqe-phd/geomeppy/cases/tests/test12_afn_closed/results/eplusout.err\r\nProgram Version,EnergyPlus, Version 22.2.0-c249759bad, YMD=2024.06.17 19:58,\n   ** Warning ** Weather file location will be used rather than entered (IDF) Location object.\n   **   ~~~   ** ..Location object=DENVER_STAPLETON_CO_USA_WMO_724690\n   **   ~~~   ** ..Weather File Location=CA_PALO-ALTO-AP - USA Custom-724937 WMO#=724937\n   **   ~~~   ** ..due to location differences, Latitude difference=[2.30] degrees, Longitude difference=[226.99] degrees.\n   **   ~~~   ** ..Time Zone difference=[1.0] hour(s), Elevation difference=[99.88] percent, [1609.00] meters.\n   ** Severe  ** Standard Time Meridian and Time Zone differ by more than 2, Difference=\"16.0\"\n   **   ~~~   ** Solar Positions will be incorrect\n   ** Warning ** SetUpDesignDay: Entered DesignDay Barometric Pressure=83411 differs by more than 10% from Standard Barometric Pressure=101301.\n   **   ~~~   ** ...occurs in DesignDay=DENVER_STAPLETON ANN HTG 99.6% CONDNS DB, Standard Pressure (based on elevation) will be used.\n   ** Warning ** GetHTSurfaceData: Surfaces with interface to Ground found but no \"Ground Temperatures\" were input.\n   **   ~~~   ** Found first in surface=BLOCK NORTH STOREY 0 FLOOR 0001\n   **   ~~~   ** Defaults, constant throughout the year of (18.0) will be used.\n   ** Warning ** CheckUsedConstructions: There are 2 nominally unused constructions in input.\n   **   ~~~   ** For explicit details on each unused construction, use Output:Diagnostics,DisplayExtraWarnings;\n   ** Severe  ** AirflowNetwork::Solver::get_input: AirflowNetwork:MultiZone:Zone object, Venting Availability Schedule Name not found = 0\n   **   ~~~   ** ..for specified Zone Name = BLOCK NORTH STOREY 0\n   ** Severe  ** AirflowNetwork::Solver::get_input: AirflowNetwork:MultiZone:Zone object, Venting Availability Schedule Name not found = 0\n   **   ~~~   ** ..for specified Zone Name = BLOCK WEST STOREY 0\n   **  Fatal  ** AirflowNetwork::Solver::get_input: Errors found getting inputs. Previous error(s) cause program termination.\n   ...Summary of Errors that led to program termination:\n   ..... Reference severe error count=3\n   ..... Last severe error=AirflowNetwork::Solver::get_input: AirflowNetwork:MultiZone:Zone object, Venting Availability Schedule Name not found = 0\n   ************* Warning:  Node connection errors not checked - most system input has not been read (see previous warning).\n   ************* Fatal error -- final processing.  Program exited before simulations began.  See previous error messages.\n   *************\n   ************* ===== Final Error Summary =====\n   ************* The following error categories occurred.  Consider correcting or noting.\n   ************* Nominally Unused Constructions\n   ************* ..The nominally unused constructions warning is provided to alert you to potential conditions that can cause\n   ************* ..extra time during simulation. Each construction is calculated by the algorithm indicated in the HeatBalanceAlgorithm\n   ************* ..object. You may remove the constructions indicated (when you use the DisplayExtraWarnings option).\n   *************\n   ************* EnergyPlus Warmup Error Summary. During Warmup: 0 Warning; 0 Severe Errors.\n   ************* EnergyPlus Sizing Error Summary. During Sizing: 0 Warning; 0 Severe Errors.\n   ************* EnergyPlus Terminated--Fatal Error Detected. 4 Warning; 3 Severe Errors; Elapsed Time=00hr 00min  0.20sec\n",
     "output_type": "error",
     "traceback": [
      "\u001b[0;31m---------------------------------------------------------------------------\u001b[0m",
      "\u001b[0;31mCalledProcessError\u001b[0m                        Traceback (most recent call last)",
      "File \u001b[0;32m~/_UILCode/gqe-phd/gqenv/lib/python3.9/site-packages/eppy/runner/run_functions.py:381\u001b[0m, in \u001b[0;36mrun\u001b[0;34m(idf, weather, output_directory, annual, design_day, idd, epmacro, expandobjects, readvars, output_prefix, output_suffix, version, verbose, ep_version)\u001b[0m\n\u001b[1;32m    380\u001b[0m     \u001b[38;5;28mprint\u001b[39m(\u001b[38;5;124m\"\u001b[39m\u001b[38;5;130;01m\\r\u001b[39;00m\u001b[38;5;130;01m\\n\u001b[39;00m\u001b[38;5;124m\"\u001b[39m \u001b[38;5;241m+\u001b[39m \u001b[38;5;124m\"\u001b[39m\u001b[38;5;124m \u001b[39m\u001b[38;5;124m\"\u001b[39m\u001b[38;5;241m.\u001b[39mjoin(cmd) \u001b[38;5;241m+\u001b[39m \u001b[38;5;124m\"\u001b[39m\u001b[38;5;130;01m\\r\u001b[39;00m\u001b[38;5;130;01m\\n\u001b[39;00m\u001b[38;5;124m\"\u001b[39m)\n\u001b[0;32m--> 381\u001b[0m     \u001b[43mcheck_call\u001b[49m\u001b[43m(\u001b[49m\u001b[43mcmd\u001b[49m\u001b[43m)\u001b[49m\n\u001b[1;32m    382\u001b[0m \u001b[38;5;28;01melif\u001b[39;00m verbose \u001b[38;5;241m==\u001b[39m \u001b[38;5;124m\"\u001b[39m\u001b[38;5;124mq\u001b[39m\u001b[38;5;124m\"\u001b[39m:\n",
      "File \u001b[0;32m/opt/homebrew/Cellar/python@3.9/3.9.15/Frameworks/Python.framework/Versions/3.9/lib/python3.9/subprocess.py:373\u001b[0m, in \u001b[0;36mcheck_call\u001b[0;34m(*popenargs, **kwargs)\u001b[0m\n\u001b[1;32m    372\u001b[0m         cmd \u001b[38;5;241m=\u001b[39m popenargs[\u001b[38;5;241m0\u001b[39m]\n\u001b[0;32m--> 373\u001b[0m     \u001b[38;5;28;01mraise\u001b[39;00m CalledProcessError(retcode, cmd)\n\u001b[1;32m    374\u001b[0m \u001b[38;5;28;01mreturn\u001b[39;00m \u001b[38;5;241m0\u001b[39m\n",
      "\u001b[0;31mCalledProcessError\u001b[0m: Command '['/Applications/EnergyPlus-22-2-0/energyplus', '--weather', '/Users/julietnwagwuume-ezeoke/_UILCode/gqe-phd/geomeppy/weather/CA_PALO-ALTO-AP_724937S_20.epw', '--output-directory', '/Users/julietnwagwuume-ezeoke/_UILCode/gqe-phd/geomeppy/cases/tests/test12_afn_closed/results', '--idd', '/Applications/EnergyPlus-22-2-0/Energy+.idd', '/Users/julietnwagwuume-ezeoke/_UILCode/gqe-phd/geomeppy/cases/base/01example/Minimal_a3a115.idf']' returned non-zero exit status 1.",
      "\nDuring handling of the above exception, another exception occurred:\n",
      "\u001b[0;31mEnergyPlusRunError\u001b[0m                        Traceback (most recent call last)",
      "Cell \u001b[0;32mIn[15], line 1\u001b[0m\n\u001b[0;32m----> 1\u001b[0m \u001b[43mepcase\u001b[49m\u001b[38;5;241;43m.\u001b[39;49m\u001b[43mrun_idf\u001b[49m\u001b[43m(\u001b[49m\u001b[43m)\u001b[49m\n",
      "File \u001b[0;32m~/_UILCode/gqe-phd/geomeppy/_scripts/case_edits/epcase.py:78\u001b[0m, in \u001b[0;36mEneryPlusCaseEditor.run_idf\u001b[0;34m(self, run_local)\u001b[0m\n\u001b[1;32m     74\u001b[0m \u001b[38;5;28;01mdef\u001b[39;00m \u001b[38;5;21mrun_idf\u001b[39m(\u001b[38;5;28mself\u001b[39m, run_local\u001b[38;5;241m=\u001b[39m\u001b[38;5;28;01mFalse\u001b[39;00m):\n\u001b[1;32m     75\u001b[0m     \u001b[38;5;66;03m# TODO not sure why this is here.. \u001b[39;00m\n\u001b[1;32m     76\u001b[0m     \u001b[38;5;66;03m# TODO check if overwriting existing files and ask if want to proceed...\u001b[39;00m\n\u001b[1;32m     77\u001b[0m     \u001b[38;5;28;01mif\u001b[39;00m \u001b[38;5;129;01mnot\u001b[39;00m run_local:\n\u001b[0;32m---> 78\u001b[0m         \u001b[38;5;28;43mself\u001b[39;49m\u001b[38;5;241;43m.\u001b[39;49m\u001b[43midf\u001b[49m\u001b[38;5;241;43m.\u001b[39;49m\u001b[43mrun\u001b[49m\u001b[43m(\u001b[49m\u001b[43moutput_directory\u001b[49m\u001b[38;5;241;43m=\u001b[39;49m\u001b[43mos\u001b[49m\u001b[38;5;241;43m.\u001b[39;49m\u001b[43mpath\u001b[49m\u001b[38;5;241;43m.\u001b[39;49m\u001b[43mjoin\u001b[49m\u001b[43m(\u001b[49m\u001b[38;5;28;43mself\u001b[39;49m\u001b[38;5;241;43m.\u001b[39;49m\u001b[43mpath\u001b[49m\u001b[43m,\u001b[49m\u001b[43m \u001b[49m\u001b[38;5;124;43m\"\u001b[39;49m\u001b[38;5;124;43mresults\u001b[39;49m\u001b[38;5;124;43m\"\u001b[39;49m\u001b[43m)\u001b[49m\u001b[43m)\u001b[49m\n\u001b[1;32m     79\u001b[0m     \u001b[38;5;28;01melse\u001b[39;00m:\n\u001b[1;32m     80\u001b[0m         \u001b[38;5;28mself\u001b[39m\u001b[38;5;241m.\u001b[39midf\u001b[38;5;241m.\u001b[39mrun(\n\u001b[1;32m     81\u001b[0m             idf\u001b[38;5;241m=\u001b[39mos\u001b[38;5;241m.\u001b[39mpath\u001b[38;5;241m.\u001b[39mjoin(\u001b[38;5;28mself\u001b[39m\u001b[38;5;241m.\u001b[39mpath, \u001b[38;5;124m\"\u001b[39m\u001b[38;5;124mout.idf\u001b[39m\u001b[38;5;124m\"\u001b[39m),\n\u001b[1;32m     82\u001b[0m             output_directory\u001b[38;5;241m=\u001b[39mos\u001b[38;5;241m.\u001b[39mpath\u001b[38;5;241m.\u001b[39mjoin(\u001b[38;5;28mself\u001b[39m\u001b[38;5;241m.\u001b[39mpath, \u001b[38;5;124m\"\u001b[39m\u001b[38;5;124mresults\u001b[39m\u001b[38;5;124m\"\u001b[39m),\n\u001b[1;32m     83\u001b[0m         )\n",
      "File \u001b[0;32m~/_UILCode/gqe-phd/gqenv/lib/python3.9/site-packages/eppy/modeleditor.py:1111\u001b[0m, in \u001b[0;36mIDF.run\u001b[0;34m(self, **kwargs)\u001b[0m\n\u001b[1;32m   1109\u001b[0m epw \u001b[38;5;241m=\u001b[39m kwargs\u001b[38;5;241m.\u001b[39mpop(\u001b[38;5;124m\"\u001b[39m\u001b[38;5;124mweather\u001b[39m\u001b[38;5;124m\"\u001b[39m, \u001b[38;5;28mself\u001b[39m\u001b[38;5;241m.\u001b[39mepw)\n\u001b[1;32m   1110\u001b[0m \u001b[38;5;28;01mtry\u001b[39;00m:\n\u001b[0;32m-> 1111\u001b[0m     \u001b[43mrun\u001b[49m\u001b[43m(\u001b[49m\u001b[38;5;28;43mself\u001b[39;49m\u001b[43m,\u001b[49m\u001b[43m \u001b[49m\u001b[43mweather\u001b[49m\u001b[38;5;241;43m=\u001b[39;49m\u001b[43mepw\u001b[49m\u001b[43m,\u001b[49m\u001b[43m \u001b[49m\u001b[43midd\u001b[49m\u001b[38;5;241;43m=\u001b[39;49m\u001b[43midd\u001b[49m\u001b[43m,\u001b[49m\u001b[43m \u001b[49m\u001b[38;5;241;43m*\u001b[39;49m\u001b[38;5;241;43m*\u001b[39;49m\u001b[43mkwargs\u001b[49m\u001b[43m)\u001b[49m\n\u001b[1;32m   1112\u001b[0m \u001b[38;5;28;01mfinally\u001b[39;00m:\n\u001b[1;32m   1113\u001b[0m     \u001b[38;5;28mself\u001b[39m\u001b[38;5;241m.\u001b[39midfname \u001b[38;5;241m=\u001b[39m idfname\n",
      "File \u001b[0;32m~/_UILCode/gqe-phd/gqenv/lib/python3.9/site-packages/eppy/runner/run_functions.py:396\u001b[0m, in \u001b[0;36mrun\u001b[0;34m(idf, weather, output_directory, annual, design_day, idd, epmacro, expandobjects, readvars, output_prefix, output_suffix, version, verbose, ep_version)\u001b[0m\n\u001b[1;32m    394\u001b[0m         err_file \u001b[38;5;241m=\u001b[39m os\u001b[38;5;241m.\u001b[39mpath\u001b[38;5;241m.\u001b[39mjoin(output_dir, \u001b[38;5;124m\"\u001b[39m\u001b[38;5;124meplusout.err\u001b[39m\u001b[38;5;124m\"\u001b[39m)\n\u001b[1;32m    395\u001b[0m     message \u001b[38;5;241m=\u001b[39m parse_error(tmp_err, err_file)\n\u001b[0;32m--> 396\u001b[0m     \u001b[38;5;28;01mraise\u001b[39;00m EnergyPlusRunError(message)\n\u001b[1;32m    397\u001b[0m \u001b[38;5;28;01mfinally\u001b[39;00m:\n\u001b[1;32m    398\u001b[0m     sys\u001b[38;5;241m.\u001b[39mstderr \u001b[38;5;241m=\u001b[39m old_err\n",
      "\u001b[0;31mEnergyPlusRunError\u001b[0m: \r\n\r\nContents of EnergyPlus error file at /Users/julietnwagwuume-ezeoke/_UILCode/gqe-phd/geomeppy/cases/tests/test12_afn_closed/results/eplusout.err\r\nProgram Version,EnergyPlus, Version 22.2.0-c249759bad, YMD=2024.06.17 19:58,\n   ** Warning ** Weather file location will be used rather than entered (IDF) Location object.\n   **   ~~~   ** ..Location object=DENVER_STAPLETON_CO_USA_WMO_724690\n   **   ~~~   ** ..Weather File Location=CA_PALO-ALTO-AP - USA Custom-724937 WMO#=724937\n   **   ~~~   ** ..due to location differences, Latitude difference=[2.30] degrees, Longitude difference=[226.99] degrees.\n   **   ~~~   ** ..Time Zone difference=[1.0] hour(s), Elevation difference=[99.88] percent, [1609.00] meters.\n   ** Severe  ** Standard Time Meridian and Time Zone differ by more than 2, Difference=\"16.0\"\n   **   ~~~   ** Solar Positions will be incorrect\n   ** Warning ** SetUpDesignDay: Entered DesignDay Barometric Pressure=83411 differs by more than 10% from Standard Barometric Pressure=101301.\n   **   ~~~   ** ...occurs in DesignDay=DENVER_STAPLETON ANN HTG 99.6% CONDNS DB, Standard Pressure (based on elevation) will be used.\n   ** Warning ** GetHTSurfaceData: Surfaces with interface to Ground found but no \"Ground Temperatures\" were input.\n   **   ~~~   ** Found first in surface=BLOCK NORTH STOREY 0 FLOOR 0001\n   **   ~~~   ** Defaults, constant throughout the year of (18.0) will be used.\n   ** Warning ** CheckUsedConstructions: There are 2 nominally unused constructions in input.\n   **   ~~~   ** For explicit details on each unused construction, use Output:Diagnostics,DisplayExtraWarnings;\n   ** Severe  ** AirflowNetwork::Solver::get_input: AirflowNetwork:MultiZone:Zone object, Venting Availability Schedule Name not found = 0\n   **   ~~~   ** ..for specified Zone Name = BLOCK NORTH STOREY 0\n   ** Severe  ** AirflowNetwork::Solver::get_input: AirflowNetwork:MultiZone:Zone object, Venting Availability Schedule Name not found = 0\n   **   ~~~   ** ..for specified Zone Name = BLOCK WEST STOREY 0\n   **  Fatal  ** AirflowNetwork::Solver::get_input: Errors found getting inputs. Previous error(s) cause program termination.\n   ...Summary of Errors that led to program termination:\n   ..... Reference severe error count=3\n   ..... Last severe error=AirflowNetwork::Solver::get_input: AirflowNetwork:MultiZone:Zone object, Venting Availability Schedule Name not found = 0\n   ************* Warning:  Node connection errors not checked - most system input has not been read (see previous warning).\n   ************* Fatal error -- final processing.  Program exited before simulations began.  See previous error messages.\n   *************\n   ************* ===== Final Error Summary =====\n   ************* The following error categories occurred.  Consider correcting or noting.\n   ************* Nominally Unused Constructions\n   ************* ..The nominally unused constructions warning is provided to alert you to potential conditions that can cause\n   ************* ..extra time during simulation. Each construction is calculated by the algorithm indicated in the HeatBalanceAlgorithm\n   ************* ..object. You may remove the constructions indicated (when you use the DisplayExtraWarnings option).\n   *************\n   ************* EnergyPlus Warmup Error Summary. During Warmup: 0 Warning; 0 Severe Errors.\n   ************* EnergyPlus Sizing Error Summary. During Sizing: 0 Warning; 0 Severe Errors.\n   ************* EnergyPlus Terminated--Fatal Error Detected. 4 Warning; 3 Severe Errors; Elapsed Time=00hr 00min  0.20sec\n"
     ]
    }
   ],
   "source": [
    "epcase.run_idf()"
   ]
  }
 ],
 "metadata": {
  "kernelspec": {
   "display_name": "gqenv",
   "language": "python",
   "name": "python3"
  },
  "language_info": {
   "codemirror_mode": {
    "name": "ipython",
    "version": 3
   },
   "file_extension": ".py",
   "mimetype": "text/x-python",
   "name": "python",
   "nbconvert_exporter": "python",
   "pygments_lexer": "ipython3",
   "version": "3.10.14"
  }
 },
 "nbformat": 4,
 "nbformat_minor": 2
}
