{
 "cells": [
  {
   "cell_type": "code",
   "execution_count": 17,
   "metadata": {},
   "outputs": [],
   "source": [
    "import sys\n",
    "sys.path.append(\"/Users/julietnwagwuume-ezeoke/_UILCode/gqe-phd/geomeppy/_scripts\")\n",
    "\n",
    "from typing import Union\n",
    "from dataclasses import dataclass\n",
    "\n",
    "from copy import deepcopy\n",
    "import json\n",
    "\n",
    "from case_edits.ezcase import EzCase\n",
    "\n",
    "from recipes.amber import input\n",
    "from recipes.exp_01 import input as input1, ns_axis\n",
    "from geometry.wall_normal import WallNormal\n",
    "from helpers.helpers import key_from_value\n",
    "from methods.subsurfaces.pairs import DEFAULT_WINDOW, SubsurfacePair, DEFAULT_DOOR\n",
    "\n",
    "\n",
    "from gplan.subsurfaces import SubsurfaceTranslator\n",
    "\n",
    "from collections import Counter"
   ]
  },
  {
   "cell_type": "code",
   "execution_count": null,
   "metadata": {},
   "outputs": [],
   "source": [
    "ez = EzCase(input, RUN_CASE=False)\n",
    "ez"
   ]
  },
  {
   "cell_type": "code",
   "execution_count": 19,
   "metadata": {},
   "outputs": [],
   "source": [
    "c = Counter()\n",
    "zones_w_subsurfaces = []\n",
    "for s in ez.case.geometry.subsurfaces.values():\n",
    "    zones_w_subsurfaces.append(s.wall.zone)\n",
    "    c[s]+=1"
   ]
  },
  {
   "cell_type": "code",
   "execution_count": 21,
   "metadata": {},
   "outputs": [
    {
     "data": {
      "text/plain": [
       "18"
      ]
     },
     "execution_count": 21,
     "metadata": {},
     "output_type": "execute_result"
    }
   ],
   "source": [
    "c.total()"
   ]
  },
  {
   "cell_type": "code",
   "execution_count": 29,
   "metadata": {},
   "outputs": [
    {
     "data": {
      "text/plain": [
       "'Block 07 Storey 0 Wall 0003_2 Door'"
      ]
     },
     "execution_count": 29,
     "metadata": {},
     "output_type": "execute_result"
    }
   ],
   "source": [
    "ez.case.geometry.subsurfaces[\"Door_B_07_West_W03_2\"].name"
   ]
  },
  {
   "cell_type": "code",
   "execution_count": 68,
   "metadata": {},
   "outputs": [],
   "source": [
    "# ez.case.idf.idfobjects[\"DOOR:INTERZONE\"]\n",
    "def get_partner_zone(interzone_door_name):\n",
    "    door_obj = ez.case.idf.getobject(\"DOOR:INTERZONE\", interzone_door_name)\n",
    "    assert door_obj\n",
    "    partner = door_obj[\"Outside_Boundary_Condition_Object\"]\n",
    "    partner_obj = ez.case.idf.getobject(\"DOOR:INTERZONE\", partner)\n",
    "    assert partner_obj\n",
    "    partner_wall = partner_obj[\"Building_Surface_Name\"]\n",
    "\n",
    "    [wall] =[w for w in ez.case.geometry.walls.values() if w.name == partner_wall]\n",
    "\n",
    "    return wall.zone, partner_wall\n",
    "\n"
   ]
  },
  {
   "cell_type": "code",
   "execution_count": 69,
   "metadata": {},
   "outputs": [
    {
     "data": {
      "text/plain": [
       "(Zone(Block 09), 'Block 09 Storey 0 Wall 0001_2')"
      ]
     },
     "execution_count": 69,
     "metadata": {},
     "output_type": "execute_result"
    }
   ],
   "source": [
    "get_partner_zone(\"Block 07 Storey 0 Wall 0003_2 Door\")"
   ]
  },
  {
   "cell_type": "code",
   "execution_count": 73,
   "metadata": {},
   "outputs": [
    {
     "name": "stdout",
     "output_type": "stream",
     "text": [
      "Window_B_00_North_W02\n",
      "Door_B_00_East_W01_1\n",
      "Window_B_01_South_W04\n",
      "Door_B_01_East_W01_1\n",
      "Window_B_02_North_W02\n",
      "Door_B_02_East_W01_1\n",
      "Window_B_03_North_W02\n",
      "Door_B_03_West_W03_3\n",
      "Door_B_03_South_W04_1\n",
      "Door_B_05_West_W03_1\n",
      "Window_B_06_South_W04\n",
      "Door_B_06_West_W03_2\n",
      "Door_B_06_East_W01_3\n",
      "Door_B_07_West_W03_2\n",
      "Door_B_07_North_W02_1\n",
      "Window_B_08_South_W04\n",
      "Window_B_09_South_W04\n",
      "Window_B_010_North_W02\n"
     ]
    }
   ],
   "source": [
    "for k, v in ez.case.geometry.subsurfaces.items():\n",
    "    print(k)"
   ]
  },
  {
   "cell_type": "code",
   "execution_count": 90,
   "metadata": {},
   "outputs": [
    {
     "name": "stdout",
     "output_type": "stream",
     "text": [
      "Door_B_00_East_W01_1 has a partner. it is on Block 07 Storey 0 Wall 0003_1\n",
      "Door_B_01_East_W01_1 has a partner. it is on Block 06 Storey 0 Wall 0003_1\n",
      "Door_B_02_East_W01_1 has a partner. it is on Block 03 Storey 0 Wall 0003_1\n",
      "Door_B_03_West_W03_3 has a partner. it is on Block 06 Storey 0 Wall 0001_1\n",
      "Door_B_03_South_W04_1 has a partner. it is on Block 04 Storey 0 Wall 0002_1\n",
      "Door_B_05_West_W03_1 has a partner. it is on Block 07 Storey 0 Wall 0001_1\n",
      "Door_B_06_West_W03_2 has a partner. it is on Block 07 Storey 0 Wall 0001_2\n",
      "Door_B_06_East_W01_3 has a partner. it is on Block 08 Storey 0 Wall 0003_1\n",
      "Door_B_07_West_W03_2 has a partner. it is on Block 09 Storey 0 Wall 0001_2\n",
      "Door_B_07_North_W02_1 has a partner. it is on Block 010 Storey 0 Wall 0004_1\n"
     ]
    }
   ],
   "source": [
    "c = Counter()\n",
    "for k, v in ez.case.geometry.subsurfaces.items():\n",
    "    c[v.wall.zone]+=1\n",
    "    # try:\n",
    "    if \"Door\" in k:\n",
    "        # print(k, v.name)\n",
    "        zone, p_wall = get_partner_zone(v.name)\n",
    "        c[zone]+=1\n",
    "        print(f\"{k} has a partner. it is on {p_wall}\")\n",
    "    # except:\n",
    "    #     print(f\"no partner for {k}\")\n"
   ]
  },
  {
   "cell_type": "code",
   "execution_count": 80,
   "metadata": {},
   "outputs": [
    {
     "data": {
      "text/plain": [
       "Counter({Zone(Block 07): 5,\n",
       "         Zone(Block 06): 5,\n",
       "         Zone(Block 03): 4,\n",
       "         Zone(Block 00): 2,\n",
       "         Zone(Block 01): 2,\n",
       "         Zone(Block 02): 2,\n",
       "         Zone(Block 08): 2,\n",
       "         Zone(Block 09): 2,\n",
       "         Zone(Block 010): 2,\n",
       "         Zone(Block 04): 1,\n",
       "         Zone(Block 05): 1})"
      ]
     },
     "execution_count": 80,
     "metadata": {},
     "output_type": "execute_result"
    }
   ],
   "source": [
    "c"
   ]
  },
  {
   "cell_type": "code",
   "execution_count": 81,
   "metadata": {},
   "outputs": [
    {
     "data": {
      "text/plain": [
       "[Zone(Block 00),\n",
       " Zone(Block 07),\n",
       " Zone(Block 01),\n",
       " Zone(Block 06),\n",
       " Zone(Block 02),\n",
       " Zone(Block 03),\n",
       " Zone(Block 08),\n",
       " Zone(Block 09),\n",
       " Zone(Block 010)]"
      ]
     },
     "execution_count": 81,
     "metadata": {},
     "output_type": "execute_result"
    }
   ],
   "source": [
    "[k for k,v in c.items() if v >=2]"
   ]
  },
  {
   "cell_type": "code",
   "execution_count": 91,
   "metadata": {},
   "outputs": [
    {
     "name": "stdout",
     "output_type": "stream",
     "text": [
      "[Zone(Block 04), Zone(Block 05)]\n"
     ]
    }
   ],
   "source": [
    "ineligible_zones = [k for k,v in c.items() if v < 2]\n",
    "print(ineligible_zones)\n",
    "ineligible_surfaces = []\n",
    "c = Counter()\n",
    "for k, v in ez.case.geometry.subsurfaces.items():\n",
    "    zone = v.wall.zone\n",
    "    partner_zone = None\n",
    "    if \"Door\" in k:\n",
    "        partner_zone, p_wall = get_partner_zone(v.name)\n",
    "    if zone in ineligible_zones or partner_zone in ineligible_zones:\n",
    "        ineligible_surfaces.append(k)\n"
   ]
  },
  {
   "cell_type": "code",
   "execution_count": 92,
   "metadata": {},
   "outputs": [
    {
     "data": {
      "text/plain": [
       "['Door_B_03_South_W04_1', 'Door_B_05_West_W03_1']"
      ]
     },
     "execution_count": 92,
     "metadata": {},
     "output_type": "execute_result"
    }
   ],
   "source": [
    "ineligible_surfaces"
   ]
  },
  {
   "cell_type": "code",
   "execution_count": 84,
   "metadata": {},
   "outputs": [
    {
     "data": {
      "text/plain": [
       "[[], [Subsurface(Door on Block 05 - West - W03_1)]]"
      ]
     },
     "execution_count": 84,
     "metadata": {},
     "output_type": "execute_result"
    }
   ],
   "source": [
    "\n",
    "[z.zone_subsurfaces for z in ineligible_zones]"
   ]
  },
  {
   "cell_type": "code",
   "execution_count": 53,
   "metadata": {},
   "outputs": [
    {
     "data": {
      "text/plain": [
       "\n",
       "DOOR:INTERZONE,\n",
       "    Block 07 Storey 0 Wall 0003_2 Door,    !- Name\n",
       "    Project Door,             !- Construction Name\n",
       "    Block 07 Storey 0 Wall 0003_2,    !- Building Surface Name\n",
       "    Block 07 Storey 0 Wall 0003_2 Door Partner,    !- Outside Boundary Condition Object\n",
       "    1.0,                      !- Multiplier\n",
       "    21.650000000000006,       !- Starting X Coordinate\n",
       "    1,                        !- Starting Z Coordinate\n",
       "    17.7,                     !- Length\n",
       "    7.2;                      !- Height"
      ]
     },
     "execution_count": 53,
     "metadata": {},
     "output_type": "execute_result"
    }
   ],
   "source": [
    "ez.case.idf.getobject(\"DOOR:INTERZONE\", \"Block 07 Storey 0 Wall 0003_2 Door\")"
   ]
  },
  {
   "cell_type": "code",
   "execution_count": 49,
   "metadata": {},
   "outputs": [
    {
     "data": {
      "text/plain": [
       "'Block 00 Storey 0 Wall 0001_1'"
      ]
     },
     "execution_count": 49,
     "metadata": {},
     "output_type": "execute_result"
    }
   ],
   "source": [
    "ez.case.geometry.walls[\"B_00_East_W01_1\"].name"
   ]
  },
  {
   "cell_type": "code",
   "execution_count": 52,
   "metadata": {},
   "outputs": [
    {
     "data": {
      "text/plain": [
       "Zone(Block 09)"
      ]
     },
     "execution_count": 52,
     "metadata": {},
     "output_type": "execute_result"
    }
   ],
   "source": [
    "[wall] =[w for w in ez.case.geometry.walls.values() if w.name == 'Block 09 Storey 0 Wall 0001_2']\n",
    "wall.zone"
   ]
  },
  {
   "cell_type": "code",
   "execution_count": 22,
   "metadata": {},
   "outputs": [
    {
     "name": "stdout",
     "output_type": "stream",
     "text": [
      "Zone(Block 00)\n",
      "Zone(Block 01)\n",
      "Zone(Block 02)\n",
      "Zone(Block 03)\n",
      "Zone(Block 06)\n",
      "Zone(Block 07)\n"
     ]
    }
   ],
   "source": [
    "c = Counter()\n",
    "for k,v  in ez.case.geometry.zones.items():\n",
    "    if len(v.zone_subsurfaces) >= 2:\n",
    "        print(v)\n",
    "        c[v]+=1"
   ]
  },
  {
   "cell_type": "code",
   "execution_count": 23,
   "metadata": {},
   "outputs": [
    {
     "data": {
      "text/plain": [
       "6"
      ]
     },
     "execution_count": 23,
     "metadata": {},
     "output_type": "execute_result"
    }
   ],
   "source": [
    "c.total()"
   ]
  },
  {
   "cell_type": "code",
   "execution_count": 16,
   "metadata": {},
   "outputs": [
    {
     "data": {
      "text/plain": [
       "11"
      ]
     },
     "execution_count": 16,
     "metadata": {},
     "output_type": "execute_result"
    }
   ],
   "source": [
    "len(ez.case.geometry.zones)"
   ]
  },
  {
   "cell_type": "code",
   "execution_count": 5,
   "metadata": {},
   "outputs": [
    {
     "data": {
      "text/plain": [
       "[Zone(Block 00),\n",
       " Zone(Block 00),\n",
       " Zone(Block 01),\n",
       " Zone(Block 01),\n",
       " Zone(Block 02),\n",
       " Zone(Block 02),\n",
       " Zone(Block 03),\n",
       " Zone(Block 03),\n",
       " Zone(Block 03),\n",
       " Zone(Block 05),\n",
       " Zone(Block 06),\n",
       " Zone(Block 06),\n",
       " Zone(Block 06),\n",
       " Zone(Block 07),\n",
       " Zone(Block 07),\n",
       " Zone(Block 08),\n",
       " Zone(Block 09),\n",
       " Zone(Block 010)]"
      ]
     },
     "execution_count": 5,
     "metadata": {},
     "output_type": "execute_result"
    }
   ],
   "source": [
    "zones_w_subsurfaces"
   ]
  }
 ],
 "metadata": {
  "kernelspec": {
   "display_name": "gqenv",
   "language": "python",
   "name": "python3"
  },
  "language_info": {
   "codemirror_mode": {
    "name": "ipython",
    "version": 3
   },
   "file_extension": ".py",
   "mimetype": "text/x-python",
   "name": "python",
   "nbconvert_exporter": "python",
   "pygments_lexer": "ipython3",
   "version": "3.10.14"
  }
 },
 "nbformat": 4,
 "nbformat_minor": 2
}
