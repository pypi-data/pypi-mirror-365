{
 "cells": [
  {
   "cell_type": "code",
   "execution_count": 1,
   "metadata": {},
   "outputs": [],
   "source": [
    "import sys\n",
    "sys.path.append(\"/Users/julietnwagwuume-ezeoke/_UILCode/gqe-phd/geomeppy/_scripts\")\n",
    "\n",
    "from case_edits.recipes.weather import input\n",
    "from case_edits.ezcase import EzCase\n",
    "\n",
    "from ladybug.epw import EPW, DDY"
   ]
  },
  {
   "cell_type": "code",
   "execution_count": 4,
   "metadata": {},
   "outputs": [
    {
     "name": "stdout",
     "output_type": "stream",
     "text": [
      "Added 5 walls \n",
      "Added 4 walls \n",
      "`Site Outdoor Air Drybulb Temperature` is already in IDF\n",
      "`Site Direct Solar Radiation Rate per Area` is already in IDF\n",
      "`Site Diffuse Solar Radiation Rate per Area` is already in IDF\n",
      "cases/tests/test17_weather/out.idf\n"
     ]
    }
   ],
   "source": [
    "ez = EzCase(input, RUN_CASE=False)"
   ]
  },
  {
   "cell_type": "code",
   "execution_count": 6,
   "metadata": {},
   "outputs": [
    {
     "name": "stdout",
     "output_type": "stream",
     "text": [
      "{'linkage_flow12': 'AFN Linkage Node 1 to Node 2 Volume Flow Rate',\n",
      " 'linkage_flow21': 'AFN Linkage Node 2 to Node 1 Volume Flow Rate',\n",
      " 'node_temp': 'AFN Node Temperature',\n",
      " 'node_total_pressure': 'AFN Node Total Pressure',\n",
      " 'node_wind_pressure': 'AFN Node Wind Pressure',\n",
      " 'site_db_temp': 'Site Outdoor Air Drybulb Temperature',\n",
      " 'site_diffuse_solar_rad': 'Site Diffuse Solar Radiation Rate per Area',\n",
      " 'site_direct_solar_rad': 'Site Direct Solar Radiation Rate per Area',\n",
      " 'site_wind_direction': 'Site Wind Direction',\n",
      " 'site_wind_speed': 'Site Wind Speed',\n",
      " 'surf_incident_solar_rad': 'Surface Outside Face Incident Solar Radiation '\n",
      "                            'Rate per Area',\n",
      " 'surf_inside_temp': 'Surface Inside Face Temperature',\n",
      " 'surf_net_thermal_rad': 'Surface Outside Face Net Thermal Radiation Heat Gain '\n",
      "                         'Rate per Area',\n",
      " 'surf_outside_temp': 'Surface Outside Face Temperature',\n",
      " 'surface_venting': 'AFN Surface Venting Window or Door Opening Factor',\n",
      " 'zone_ach': 'AFN Zone Ventilation Air Change Rate',\n",
      " 'zone_mean_air_temp': 'Zone Mean Air Temperature',\n",
      " 'zone_vent_heat_gain': 'AFN Zone Ventilation Sensible Heat Gain Rate',\n",
      " 'zone_vent_heat_loss': 'AFN Zone Ventilation Sensible Heat Loss Rate'}\n"
     ]
    }
   ],
   "source": [
    "ez.plt.get_collection_for_variable(ez.eligible_vars.zone_mean_air_temp)\n",
    "ez.plt.set_analysis_period(0)\n",
    "ez.show_eligible_outputs()"
   ]
  },
  {
   "cell_type": "code",
   "execution_count": 9,
   "metadata": {},
   "outputs": [
    {
     "data": {
      "application/vnd.plotly.v1+json": {
       "config": {
        "plotlyServerURL": "https://plotly.com"
       },
       "data": [
        {
         "name": "Environment",
         "type": "scatter",
         "x": [
          "2017-07-01T00:00:00",
          "2017-07-01T00:15:00",
          "2017-07-01T00:30:00",
          "2017-07-01T00:45:00",
          "2017-07-01T01:00:00",
          "2017-07-01T01:15:00",
          "2017-07-01T01:30:00",
          "2017-07-01T01:45:00",
          "2017-07-01T02:00:00",
          "2017-07-01T02:15:00",
          "2017-07-01T02:30:00",
          "2017-07-01T02:45:00",
          "2017-07-01T03:00:00",
          "2017-07-01T03:15:00",
          "2017-07-01T03:30:00",
          "2017-07-01T03:45:00",
          "2017-07-01T04:00:00",
          "2017-07-01T04:15:00",
          "2017-07-01T04:30:00",
          "2017-07-01T04:45:00",
          "2017-07-01T05:00:00",
          "2017-07-01T05:15:00",
          "2017-07-01T05:30:00",
          "2017-07-01T05:45:00",
          "2017-07-01T06:00:00",
          "2017-07-01T06:15:00",
          "2017-07-01T06:30:00",
          "2017-07-01T06:45:00",
          "2017-07-01T07:00:00",
          "2017-07-01T07:15:00",
          "2017-07-01T07:30:00",
          "2017-07-01T07:45:00",
          "2017-07-01T08:00:00",
          "2017-07-01T08:15:00",
          "2017-07-01T08:30:00",
          "2017-07-01T08:45:00",
          "2017-07-01T09:00:00",
          "2017-07-01T09:15:00",
          "2017-07-01T09:30:00",
          "2017-07-01T09:45:00",
          "2017-07-01T10:00:00",
          "2017-07-01T10:15:00",
          "2017-07-01T10:30:00",
          "2017-07-01T10:45:00",
          "2017-07-01T11:00:00",
          "2017-07-01T11:15:00",
          "2017-07-01T11:30:00",
          "2017-07-01T11:45:00",
          "2017-07-01T12:00:00",
          "2017-07-01T12:15:00",
          "2017-07-01T12:30:00",
          "2017-07-01T12:45:00",
          "2017-07-01T13:00:00",
          "2017-07-01T13:15:00",
          "2017-07-01T13:30:00",
          "2017-07-01T13:45:00",
          "2017-07-01T14:00:00",
          "2017-07-01T14:15:00",
          "2017-07-01T14:30:00",
          "2017-07-01T14:45:00",
          "2017-07-01T15:00:00",
          "2017-07-01T15:15:00",
          "2017-07-01T15:30:00",
          "2017-07-01T15:45:00",
          "2017-07-01T16:00:00",
          "2017-07-01T16:15:00",
          "2017-07-01T16:30:00",
          "2017-07-01T16:45:00",
          "2017-07-01T17:00:00",
          "2017-07-01T17:15:00",
          "2017-07-01T17:30:00",
          "2017-07-01T17:45:00",
          "2017-07-01T18:00:00",
          "2017-07-01T18:15:00",
          "2017-07-01T18:30:00",
          "2017-07-01T18:45:00",
          "2017-07-01T19:00:00",
          "2017-07-01T19:15:00",
          "2017-07-01T19:30:00",
          "2017-07-01T19:45:00",
          "2017-07-01T20:00:00",
          "2017-07-01T20:15:00",
          "2017-07-01T20:30:00",
          "2017-07-01T20:45:00",
          "2017-07-01T21:00:00",
          "2017-07-01T21:15:00",
          "2017-07-01T21:30:00",
          "2017-07-01T21:45:00",
          "2017-07-01T22:00:00",
          "2017-07-01T22:15:00",
          "2017-07-01T22:30:00",
          "2017-07-01T22:45:00",
          "2017-07-01T23:00:00",
          "2017-07-01T23:15:00",
          "2017-07-01T23:30:00",
          "2017-07-01T23:45:00"
         ],
         "y": [
          327.5,
          325,
          322.5,
          320,
          337.5,
          355,
          12.5,
          30,
          30,
          30,
          30,
          30,
          30,
          30,
          30,
          30,
          30,
          30,
          30,
          30,
          30,
          30,
          30,
          30,
          30,
          30,
          30,
          30,
          30,
          30,
          30,
          30,
          30,
          30,
          30,
          30,
          30,
          30,
          30,
          30,
          25,
          20,
          15,
          10,
          5,
          0,
          355,
          350,
          342.5,
          335,
          327.5,
          320,
          320,
          320,
          320,
          320,
          325,
          330,
          335,
          340,
          340,
          340,
          340,
          340,
          340,
          340,
          340,
          340,
          335,
          330,
          325,
          320,
          317.5,
          315,
          312.5,
          310,
          315,
          320,
          325,
          330,
          330,
          330,
          330,
          330,
          330,
          330,
          330,
          330,
          330,
          330,
          330,
          330,
          330,
          330,
          330,
          330
         ]
        }
       ],
       "layout": {
        "template": {
         "data": {
          "bar": [
           {
            "error_x": {
             "color": "#2a3f5f"
            },
            "error_y": {
             "color": "#2a3f5f"
            },
            "marker": {
             "line": {
              "color": "#E5ECF6",
              "width": 0.5
             },
             "pattern": {
              "fillmode": "overlay",
              "size": 10,
              "solidity": 0.2
             }
            },
            "type": "bar"
           }
          ],
          "barpolar": [
           {
            "marker": {
             "line": {
              "color": "#E5ECF6",
              "width": 0.5
             },
             "pattern": {
              "fillmode": "overlay",
              "size": 10,
              "solidity": 0.2
             }
            },
            "type": "barpolar"
           }
          ],
          "carpet": [
           {
            "aaxis": {
             "endlinecolor": "#2a3f5f",
             "gridcolor": "white",
             "linecolor": "white",
             "minorgridcolor": "white",
             "startlinecolor": "#2a3f5f"
            },
            "baxis": {
             "endlinecolor": "#2a3f5f",
             "gridcolor": "white",
             "linecolor": "white",
             "minorgridcolor": "white",
             "startlinecolor": "#2a3f5f"
            },
            "type": "carpet"
           }
          ],
          "choropleth": [
           {
            "colorbar": {
             "outlinewidth": 0,
             "ticks": ""
            },
            "type": "choropleth"
           }
          ],
          "contour": [
           {
            "colorbar": {
             "outlinewidth": 0,
             "ticks": ""
            },
            "colorscale": [
             [
              0,
              "#0d0887"
             ],
             [
              0.1111111111111111,
              "#46039f"
             ],
             [
              0.2222222222222222,
              "#7201a8"
             ],
             [
              0.3333333333333333,
              "#9c179e"
             ],
             [
              0.4444444444444444,
              "#bd3786"
             ],
             [
              0.5555555555555556,
              "#d8576b"
             ],
             [
              0.6666666666666666,
              "#ed7953"
             ],
             [
              0.7777777777777778,
              "#fb9f3a"
             ],
             [
              0.8888888888888888,
              "#fdca26"
             ],
             [
              1,
              "#f0f921"
             ]
            ],
            "type": "contour"
           }
          ],
          "contourcarpet": [
           {
            "colorbar": {
             "outlinewidth": 0,
             "ticks": ""
            },
            "type": "contourcarpet"
           }
          ],
          "heatmap": [
           {
            "colorbar": {
             "outlinewidth": 0,
             "ticks": ""
            },
            "colorscale": [
             [
              0,
              "#0d0887"
             ],
             [
              0.1111111111111111,
              "#46039f"
             ],
             [
              0.2222222222222222,
              "#7201a8"
             ],
             [
              0.3333333333333333,
              "#9c179e"
             ],
             [
              0.4444444444444444,
              "#bd3786"
             ],
             [
              0.5555555555555556,
              "#d8576b"
             ],
             [
              0.6666666666666666,
              "#ed7953"
             ],
             [
              0.7777777777777778,
              "#fb9f3a"
             ],
             [
              0.8888888888888888,
              "#fdca26"
             ],
             [
              1,
              "#f0f921"
             ]
            ],
            "type": "heatmap"
           }
          ],
          "heatmapgl": [
           {
            "colorbar": {
             "outlinewidth": 0,
             "ticks": ""
            },
            "colorscale": [
             [
              0,
              "#0d0887"
             ],
             [
              0.1111111111111111,
              "#46039f"
             ],
             [
              0.2222222222222222,
              "#7201a8"
             ],
             [
              0.3333333333333333,
              "#9c179e"
             ],
             [
              0.4444444444444444,
              "#bd3786"
             ],
             [
              0.5555555555555556,
              "#d8576b"
             ],
             [
              0.6666666666666666,
              "#ed7953"
             ],
             [
              0.7777777777777778,
              "#fb9f3a"
             ],
             [
              0.8888888888888888,
              "#fdca26"
             ],
             [
              1,
              "#f0f921"
             ]
            ],
            "type": "heatmapgl"
           }
          ],
          "histogram": [
           {
            "marker": {
             "pattern": {
              "fillmode": "overlay",
              "size": 10,
              "solidity": 0.2
             }
            },
            "type": "histogram"
           }
          ],
          "histogram2d": [
           {
            "colorbar": {
             "outlinewidth": 0,
             "ticks": ""
            },
            "colorscale": [
             [
              0,
              "#0d0887"
             ],
             [
              0.1111111111111111,
              "#46039f"
             ],
             [
              0.2222222222222222,
              "#7201a8"
             ],
             [
              0.3333333333333333,
              "#9c179e"
             ],
             [
              0.4444444444444444,
              "#bd3786"
             ],
             [
              0.5555555555555556,
              "#d8576b"
             ],
             [
              0.6666666666666666,
              "#ed7953"
             ],
             [
              0.7777777777777778,
              "#fb9f3a"
             ],
             [
              0.8888888888888888,
              "#fdca26"
             ],
             [
              1,
              "#f0f921"
             ]
            ],
            "type": "histogram2d"
           }
          ],
          "histogram2dcontour": [
           {
            "colorbar": {
             "outlinewidth": 0,
             "ticks": ""
            },
            "colorscale": [
             [
              0,
              "#0d0887"
             ],
             [
              0.1111111111111111,
              "#46039f"
             ],
             [
              0.2222222222222222,
              "#7201a8"
             ],
             [
              0.3333333333333333,
              "#9c179e"
             ],
             [
              0.4444444444444444,
              "#bd3786"
             ],
             [
              0.5555555555555556,
              "#d8576b"
             ],
             [
              0.6666666666666666,
              "#ed7953"
             ],
             [
              0.7777777777777778,
              "#fb9f3a"
             ],
             [
              0.8888888888888888,
              "#fdca26"
             ],
             [
              1,
              "#f0f921"
             ]
            ],
            "type": "histogram2dcontour"
           }
          ],
          "mesh3d": [
           {
            "colorbar": {
             "outlinewidth": 0,
             "ticks": ""
            },
            "type": "mesh3d"
           }
          ],
          "parcoords": [
           {
            "line": {
             "colorbar": {
              "outlinewidth": 0,
              "ticks": ""
             }
            },
            "type": "parcoords"
           }
          ],
          "pie": [
           {
            "automargin": true,
            "type": "pie"
           }
          ],
          "scatter": [
           {
            "fillpattern": {
             "fillmode": "overlay",
             "size": 10,
             "solidity": 0.2
            },
            "type": "scatter"
           }
          ],
          "scatter3d": [
           {
            "line": {
             "colorbar": {
              "outlinewidth": 0,
              "ticks": ""
             }
            },
            "marker": {
             "colorbar": {
              "outlinewidth": 0,
              "ticks": ""
             }
            },
            "type": "scatter3d"
           }
          ],
          "scattercarpet": [
           {
            "marker": {
             "colorbar": {
              "outlinewidth": 0,
              "ticks": ""
             }
            },
            "type": "scattercarpet"
           }
          ],
          "scattergeo": [
           {
            "marker": {
             "colorbar": {
              "outlinewidth": 0,
              "ticks": ""
             }
            },
            "type": "scattergeo"
           }
          ],
          "scattergl": [
           {
            "marker": {
             "colorbar": {
              "outlinewidth": 0,
              "ticks": ""
             }
            },
            "type": "scattergl"
           }
          ],
          "scattermapbox": [
           {
            "marker": {
             "colorbar": {
              "outlinewidth": 0,
              "ticks": ""
             }
            },
            "type": "scattermapbox"
           }
          ],
          "scatterpolar": [
           {
            "marker": {
             "colorbar": {
              "outlinewidth": 0,
              "ticks": ""
             }
            },
            "type": "scatterpolar"
           }
          ],
          "scatterpolargl": [
           {
            "marker": {
             "colorbar": {
              "outlinewidth": 0,
              "ticks": ""
             }
            },
            "type": "scatterpolargl"
           }
          ],
          "scatterternary": [
           {
            "marker": {
             "colorbar": {
              "outlinewidth": 0,
              "ticks": ""
             }
            },
            "type": "scatterternary"
           }
          ],
          "surface": [
           {
            "colorbar": {
             "outlinewidth": 0,
             "ticks": ""
            },
            "colorscale": [
             [
              0,
              "#0d0887"
             ],
             [
              0.1111111111111111,
              "#46039f"
             ],
             [
              0.2222222222222222,
              "#7201a8"
             ],
             [
              0.3333333333333333,
              "#9c179e"
             ],
             [
              0.4444444444444444,
              "#bd3786"
             ],
             [
              0.5555555555555556,
              "#d8576b"
             ],
             [
              0.6666666666666666,
              "#ed7953"
             ],
             [
              0.7777777777777778,
              "#fb9f3a"
             ],
             [
              0.8888888888888888,
              "#fdca26"
             ],
             [
              1,
              "#f0f921"
             ]
            ],
            "type": "surface"
           }
          ],
          "table": [
           {
            "cells": {
             "fill": {
              "color": "#EBF0F8"
             },
             "line": {
              "color": "white"
             }
            },
            "header": {
             "fill": {
              "color": "#C8D4E3"
             },
             "line": {
              "color": "white"
             }
            },
            "type": "table"
           }
          ]
         },
         "layout": {
          "annotationdefaults": {
           "arrowcolor": "#2a3f5f",
           "arrowhead": 0,
           "arrowwidth": 1
          },
          "autotypenumbers": "strict",
          "coloraxis": {
           "colorbar": {
            "outlinewidth": 0,
            "ticks": ""
           }
          },
          "colorscale": {
           "diverging": [
            [
             0,
             "#8e0152"
            ],
            [
             0.1,
             "#c51b7d"
            ],
            [
             0.2,
             "#de77ae"
            ],
            [
             0.3,
             "#f1b6da"
            ],
            [
             0.4,
             "#fde0ef"
            ],
            [
             0.5,
             "#f7f7f7"
            ],
            [
             0.6,
             "#e6f5d0"
            ],
            [
             0.7,
             "#b8e186"
            ],
            [
             0.8,
             "#7fbc41"
            ],
            [
             0.9,
             "#4d9221"
            ],
            [
             1,
             "#276419"
            ]
           ],
           "sequential": [
            [
             0,
             "#0d0887"
            ],
            [
             0.1111111111111111,
             "#46039f"
            ],
            [
             0.2222222222222222,
             "#7201a8"
            ],
            [
             0.3333333333333333,
             "#9c179e"
            ],
            [
             0.4444444444444444,
             "#bd3786"
            ],
            [
             0.5555555555555556,
             "#d8576b"
            ],
            [
             0.6666666666666666,
             "#ed7953"
            ],
            [
             0.7777777777777778,
             "#fb9f3a"
            ],
            [
             0.8888888888888888,
             "#fdca26"
            ],
            [
             1,
             "#f0f921"
            ]
           ],
           "sequentialminus": [
            [
             0,
             "#0d0887"
            ],
            [
             0.1111111111111111,
             "#46039f"
            ],
            [
             0.2222222222222222,
             "#7201a8"
            ],
            [
             0.3333333333333333,
             "#9c179e"
            ],
            [
             0.4444444444444444,
             "#bd3786"
            ],
            [
             0.5555555555555556,
             "#d8576b"
            ],
            [
             0.6666666666666666,
             "#ed7953"
            ],
            [
             0.7777777777777778,
             "#fb9f3a"
            ],
            [
             0.8888888888888888,
             "#fdca26"
            ],
            [
             1,
             "#f0f921"
            ]
           ]
          },
          "colorway": [
           "#636efa",
           "#EF553B",
           "#00cc96",
           "#ab63fa",
           "#FFA15A",
           "#19d3f3",
           "#FF6692",
           "#B6E880",
           "#FF97FF",
           "#FECB52"
          ],
          "font": {
           "color": "#2a3f5f"
          },
          "geo": {
           "bgcolor": "white",
           "lakecolor": "white",
           "landcolor": "#E5ECF6",
           "showlakes": true,
           "showland": true,
           "subunitcolor": "white"
          },
          "hoverlabel": {
           "align": "left"
          },
          "hovermode": "closest",
          "mapbox": {
           "style": "light"
          },
          "paper_bgcolor": "white",
          "plot_bgcolor": "#E5ECF6",
          "polar": {
           "angularaxis": {
            "gridcolor": "white",
            "linecolor": "white",
            "ticks": ""
           },
           "bgcolor": "#E5ECF6",
           "radialaxis": {
            "gridcolor": "white",
            "linecolor": "white",
            "ticks": ""
           }
          },
          "scene": {
           "xaxis": {
            "backgroundcolor": "#E5ECF6",
            "gridcolor": "white",
            "gridwidth": 2,
            "linecolor": "white",
            "showbackground": true,
            "ticks": "",
            "zerolinecolor": "white"
           },
           "yaxis": {
            "backgroundcolor": "#E5ECF6",
            "gridcolor": "white",
            "gridwidth": 2,
            "linecolor": "white",
            "showbackground": true,
            "ticks": "",
            "zerolinecolor": "white"
           },
           "zaxis": {
            "backgroundcolor": "#E5ECF6",
            "gridcolor": "white",
            "gridwidth": 2,
            "linecolor": "white",
            "showbackground": true,
            "ticks": "",
            "zerolinecolor": "white"
           }
          },
          "shapedefaults": {
           "line": {
            "color": "#2a3f5f"
           }
          },
          "ternary": {
           "aaxis": {
            "gridcolor": "white",
            "linecolor": "white",
            "ticks": ""
           },
           "baxis": {
            "gridcolor": "white",
            "linecolor": "white",
            "ticks": ""
           },
           "bgcolor": "#E5ECF6",
           "caxis": {
            "gridcolor": "white",
            "linecolor": "white",
            "ticks": ""
           }
          },
          "title": {
           "x": 0.05
          },
          "xaxis": {
           "automargin": true,
           "gridcolor": "white",
           "linecolor": "white",
           "ticks": "",
           "title": {
            "standoff": 15
           },
           "zerolinecolor": "white",
           "zerolinewidth": 2
          },
          "yaxis": {
           "automargin": true,
           "gridcolor": "white",
           "linecolor": "white",
           "ticks": "",
           "title": {
            "standoff": 15
           },
           "zerolinecolor": "white",
           "zerolinewidth": 2
          }
         }
        },
        "title": {
         "text": "Site Wind Direction [deg] <br><sup> 7/1 to 7/1 between 0 and 23 @4 </sup>"
        }
       }
      }
     },
     "metadata": {},
     "output_type": "display_data"
    }
   ],
   "source": [
    "ez.plt.get_collection_for_variable(ez.eligible_vars.site_wind_direction)\n",
    "ez.plt.create_plot()"
   ]
  },
  {
   "cell_type": "code",
   "execution_count": 8,
   "metadata": {},
   "outputs": [
    {
     "data": {
      "application/vnd.plotly.v1+json": {
       "config": {
        "plotlyServerURL": "https://plotly.com"
       },
       "data": [
        {
         "name": "Environment",
         "type": "scatter",
         "x": [
          "2017-07-01T00:00:00",
          "2017-07-01T00:15:00",
          "2017-07-01T00:30:00",
          "2017-07-01T00:45:00",
          "2017-07-01T01:00:00",
          "2017-07-01T01:15:00",
          "2017-07-01T01:30:00",
          "2017-07-01T01:45:00",
          "2017-07-01T02:00:00",
          "2017-07-01T02:15:00",
          "2017-07-01T02:30:00",
          "2017-07-01T02:45:00",
          "2017-07-01T03:00:00",
          "2017-07-01T03:15:00",
          "2017-07-01T03:30:00",
          "2017-07-01T03:45:00",
          "2017-07-01T04:00:00",
          "2017-07-01T04:15:00",
          "2017-07-01T04:30:00",
          "2017-07-01T04:45:00",
          "2017-07-01T05:00:00",
          "2017-07-01T05:15:00",
          "2017-07-01T05:30:00",
          "2017-07-01T05:45:00",
          "2017-07-01T06:00:00",
          "2017-07-01T06:15:00",
          "2017-07-01T06:30:00",
          "2017-07-01T06:45:00",
          "2017-07-01T07:00:00",
          "2017-07-01T07:15:00",
          "2017-07-01T07:30:00",
          "2017-07-01T07:45:00",
          "2017-07-01T08:00:00",
          "2017-07-01T08:15:00",
          "2017-07-01T08:30:00",
          "2017-07-01T08:45:00",
          "2017-07-01T09:00:00",
          "2017-07-01T09:15:00",
          "2017-07-01T09:30:00",
          "2017-07-01T09:45:00",
          "2017-07-01T10:00:00",
          "2017-07-01T10:15:00",
          "2017-07-01T10:30:00",
          "2017-07-01T10:45:00",
          "2017-07-01T11:00:00",
          "2017-07-01T11:15:00",
          "2017-07-01T11:30:00",
          "2017-07-01T11:45:00",
          "2017-07-01T12:00:00",
          "2017-07-01T12:15:00",
          "2017-07-01T12:30:00",
          "2017-07-01T12:45:00",
          "2017-07-01T13:00:00",
          "2017-07-01T13:15:00",
          "2017-07-01T13:30:00",
          "2017-07-01T13:45:00",
          "2017-07-01T14:00:00",
          "2017-07-01T14:15:00",
          "2017-07-01T14:30:00",
          "2017-07-01T14:45:00",
          "2017-07-01T15:00:00",
          "2017-07-01T15:15:00",
          "2017-07-01T15:30:00",
          "2017-07-01T15:45:00",
          "2017-07-01T16:00:00",
          "2017-07-01T16:15:00",
          "2017-07-01T16:30:00",
          "2017-07-01T16:45:00",
          "2017-07-01T17:00:00",
          "2017-07-01T17:15:00",
          "2017-07-01T17:30:00",
          "2017-07-01T17:45:00",
          "2017-07-01T18:00:00",
          "2017-07-01T18:15:00",
          "2017-07-01T18:30:00",
          "2017-07-01T18:45:00",
          "2017-07-01T19:00:00",
          "2017-07-01T19:15:00",
          "2017-07-01T19:30:00",
          "2017-07-01T19:45:00",
          "2017-07-01T20:00:00",
          "2017-07-01T20:15:00",
          "2017-07-01T20:30:00",
          "2017-07-01T20:45:00",
          "2017-07-01T21:00:00",
          "2017-07-01T21:15:00",
          "2017-07-01T21:30:00",
          "2017-07-01T21:45:00",
          "2017-07-01T22:00:00",
          "2017-07-01T22:15:00",
          "2017-07-01T22:30:00",
          "2017-07-01T22:45:00",
          "2017-07-01T23:00:00",
          "2017-07-01T23:15:00",
          "2017-07-01T23:30:00",
          "2017-07-01T23:45:00"
         ],
         "y": [
          2.45,
          2.2,
          1.95,
          1.7,
          1.625,
          1.5499999999999998,
          1.4749999999999999,
          1.4,
          1.2999999999999998,
          1.2,
          1.1,
          1,
          0.9,
          0.8,
          0.7,
          0.6,
          0.5249999999999999,
          0.44999999999999996,
          0.375,
          0.3,
          0.22499999999999998,
          0.15,
          0.075,
          0,
          0.075,
          0.15,
          0.22499999999999998,
          0.3,
          0.625,
          0.9500000000000001,
          1.2750000000000001,
          1.6,
          1.7500000000000002,
          1.9000000000000001,
          2.0500000000000003,
          2.2,
          2.3000000000000003,
          2.4000000000000004,
          2.5,
          2.6,
          2.7,
          2.8,
          2.9,
          3,
          3.4,
          3.8,
          4.199999999999999,
          4.6,
          4.675,
          4.75,
          4.825,
          4.9,
          5.2250000000000005,
          5.550000000000001,
          5.875,
          6.2,
          6.2,
          6.2,
          6.2,
          6.2,
          6.2,
          6.2,
          6.2,
          6.2,
          6.275,
          6.35,
          6.425,
          6.5,
          6.625,
          6.75,
          6.875,
          7,
          6.4,
          5.8,
          5.199999999999999,
          4.6,
          4.574999999999999,
          4.55,
          4.525,
          4.5,
          4.375,
          4.25,
          4.125,
          4,
          3.9,
          3.8,
          3.7,
          3.6,
          3.475,
          3.35,
          3.225,
          3.1,
          3,
          2.9000000000000004,
          2.8000000000000003,
          2.7
         ]
        }
       ],
       "layout": {
        "template": {
         "data": {
          "bar": [
           {
            "error_x": {
             "color": "#2a3f5f"
            },
            "error_y": {
             "color": "#2a3f5f"
            },
            "marker": {
             "line": {
              "color": "#E5ECF6",
              "width": 0.5
             },
             "pattern": {
              "fillmode": "overlay",
              "size": 10,
              "solidity": 0.2
             }
            },
            "type": "bar"
           }
          ],
          "barpolar": [
           {
            "marker": {
             "line": {
              "color": "#E5ECF6",
              "width": 0.5
             },
             "pattern": {
              "fillmode": "overlay",
              "size": 10,
              "solidity": 0.2
             }
            },
            "type": "barpolar"
           }
          ],
          "carpet": [
           {
            "aaxis": {
             "endlinecolor": "#2a3f5f",
             "gridcolor": "white",
             "linecolor": "white",
             "minorgridcolor": "white",
             "startlinecolor": "#2a3f5f"
            },
            "baxis": {
             "endlinecolor": "#2a3f5f",
             "gridcolor": "white",
             "linecolor": "white",
             "minorgridcolor": "white",
             "startlinecolor": "#2a3f5f"
            },
            "type": "carpet"
           }
          ],
          "choropleth": [
           {
            "colorbar": {
             "outlinewidth": 0,
             "ticks": ""
            },
            "type": "choropleth"
           }
          ],
          "contour": [
           {
            "colorbar": {
             "outlinewidth": 0,
             "ticks": ""
            },
            "colorscale": [
             [
              0,
              "#0d0887"
             ],
             [
              0.1111111111111111,
              "#46039f"
             ],
             [
              0.2222222222222222,
              "#7201a8"
             ],
             [
              0.3333333333333333,
              "#9c179e"
             ],
             [
              0.4444444444444444,
              "#bd3786"
             ],
             [
              0.5555555555555556,
              "#d8576b"
             ],
             [
              0.6666666666666666,
              "#ed7953"
             ],
             [
              0.7777777777777778,
              "#fb9f3a"
             ],
             [
              0.8888888888888888,
              "#fdca26"
             ],
             [
              1,
              "#f0f921"
             ]
            ],
            "type": "contour"
           }
          ],
          "contourcarpet": [
           {
            "colorbar": {
             "outlinewidth": 0,
             "ticks": ""
            },
            "type": "contourcarpet"
           }
          ],
          "heatmap": [
           {
            "colorbar": {
             "outlinewidth": 0,
             "ticks": ""
            },
            "colorscale": [
             [
              0,
              "#0d0887"
             ],
             [
              0.1111111111111111,
              "#46039f"
             ],
             [
              0.2222222222222222,
              "#7201a8"
             ],
             [
              0.3333333333333333,
              "#9c179e"
             ],
             [
              0.4444444444444444,
              "#bd3786"
             ],
             [
              0.5555555555555556,
              "#d8576b"
             ],
             [
              0.6666666666666666,
              "#ed7953"
             ],
             [
              0.7777777777777778,
              "#fb9f3a"
             ],
             [
              0.8888888888888888,
              "#fdca26"
             ],
             [
              1,
              "#f0f921"
             ]
            ],
            "type": "heatmap"
           }
          ],
          "heatmapgl": [
           {
            "colorbar": {
             "outlinewidth": 0,
             "ticks": ""
            },
            "colorscale": [
             [
              0,
              "#0d0887"
             ],
             [
              0.1111111111111111,
              "#46039f"
             ],
             [
              0.2222222222222222,
              "#7201a8"
             ],
             [
              0.3333333333333333,
              "#9c179e"
             ],
             [
              0.4444444444444444,
              "#bd3786"
             ],
             [
              0.5555555555555556,
              "#d8576b"
             ],
             [
              0.6666666666666666,
              "#ed7953"
             ],
             [
              0.7777777777777778,
              "#fb9f3a"
             ],
             [
              0.8888888888888888,
              "#fdca26"
             ],
             [
              1,
              "#f0f921"
             ]
            ],
            "type": "heatmapgl"
           }
          ],
          "histogram": [
           {
            "marker": {
             "pattern": {
              "fillmode": "overlay",
              "size": 10,
              "solidity": 0.2
             }
            },
            "type": "histogram"
           }
          ],
          "histogram2d": [
           {
            "colorbar": {
             "outlinewidth": 0,
             "ticks": ""
            },
            "colorscale": [
             [
              0,
              "#0d0887"
             ],
             [
              0.1111111111111111,
              "#46039f"
             ],
             [
              0.2222222222222222,
              "#7201a8"
             ],
             [
              0.3333333333333333,
              "#9c179e"
             ],
             [
              0.4444444444444444,
              "#bd3786"
             ],
             [
              0.5555555555555556,
              "#d8576b"
             ],
             [
              0.6666666666666666,
              "#ed7953"
             ],
             [
              0.7777777777777778,
              "#fb9f3a"
             ],
             [
              0.8888888888888888,
              "#fdca26"
             ],
             [
              1,
              "#f0f921"
             ]
            ],
            "type": "histogram2d"
           }
          ],
          "histogram2dcontour": [
           {
            "colorbar": {
             "outlinewidth": 0,
             "ticks": ""
            },
            "colorscale": [
             [
              0,
              "#0d0887"
             ],
             [
              0.1111111111111111,
              "#46039f"
             ],
             [
              0.2222222222222222,
              "#7201a8"
             ],
             [
              0.3333333333333333,
              "#9c179e"
             ],
             [
              0.4444444444444444,
              "#bd3786"
             ],
             [
              0.5555555555555556,
              "#d8576b"
             ],
             [
              0.6666666666666666,
              "#ed7953"
             ],
             [
              0.7777777777777778,
              "#fb9f3a"
             ],
             [
              0.8888888888888888,
              "#fdca26"
             ],
             [
              1,
              "#f0f921"
             ]
            ],
            "type": "histogram2dcontour"
           }
          ],
          "mesh3d": [
           {
            "colorbar": {
             "outlinewidth": 0,
             "ticks": ""
            },
            "type": "mesh3d"
           }
          ],
          "parcoords": [
           {
            "line": {
             "colorbar": {
              "outlinewidth": 0,
              "ticks": ""
             }
            },
            "type": "parcoords"
           }
          ],
          "pie": [
           {
            "automargin": true,
            "type": "pie"
           }
          ],
          "scatter": [
           {
            "fillpattern": {
             "fillmode": "overlay",
             "size": 10,
             "solidity": 0.2
            },
            "type": "scatter"
           }
          ],
          "scatter3d": [
           {
            "line": {
             "colorbar": {
              "outlinewidth": 0,
              "ticks": ""
             }
            },
            "marker": {
             "colorbar": {
              "outlinewidth": 0,
              "ticks": ""
             }
            },
            "type": "scatter3d"
           }
          ],
          "scattercarpet": [
           {
            "marker": {
             "colorbar": {
              "outlinewidth": 0,
              "ticks": ""
             }
            },
            "type": "scattercarpet"
           }
          ],
          "scattergeo": [
           {
            "marker": {
             "colorbar": {
              "outlinewidth": 0,
              "ticks": ""
             }
            },
            "type": "scattergeo"
           }
          ],
          "scattergl": [
           {
            "marker": {
             "colorbar": {
              "outlinewidth": 0,
              "ticks": ""
             }
            },
            "type": "scattergl"
           }
          ],
          "scattermapbox": [
           {
            "marker": {
             "colorbar": {
              "outlinewidth": 0,
              "ticks": ""
             }
            },
            "type": "scattermapbox"
           }
          ],
          "scatterpolar": [
           {
            "marker": {
             "colorbar": {
              "outlinewidth": 0,
              "ticks": ""
             }
            },
            "type": "scatterpolar"
           }
          ],
          "scatterpolargl": [
           {
            "marker": {
             "colorbar": {
              "outlinewidth": 0,
              "ticks": ""
             }
            },
            "type": "scatterpolargl"
           }
          ],
          "scatterternary": [
           {
            "marker": {
             "colorbar": {
              "outlinewidth": 0,
              "ticks": ""
             }
            },
            "type": "scatterternary"
           }
          ],
          "surface": [
           {
            "colorbar": {
             "outlinewidth": 0,
             "ticks": ""
            },
            "colorscale": [
             [
              0,
              "#0d0887"
             ],
             [
              0.1111111111111111,
              "#46039f"
             ],
             [
              0.2222222222222222,
              "#7201a8"
             ],
             [
              0.3333333333333333,
              "#9c179e"
             ],
             [
              0.4444444444444444,
              "#bd3786"
             ],
             [
              0.5555555555555556,
              "#d8576b"
             ],
             [
              0.6666666666666666,
              "#ed7953"
             ],
             [
              0.7777777777777778,
              "#fb9f3a"
             ],
             [
              0.8888888888888888,
              "#fdca26"
             ],
             [
              1,
              "#f0f921"
             ]
            ],
            "type": "surface"
           }
          ],
          "table": [
           {
            "cells": {
             "fill": {
              "color": "#EBF0F8"
             },
             "line": {
              "color": "white"
             }
            },
            "header": {
             "fill": {
              "color": "#C8D4E3"
             },
             "line": {
              "color": "white"
             }
            },
            "type": "table"
           }
          ]
         },
         "layout": {
          "annotationdefaults": {
           "arrowcolor": "#2a3f5f",
           "arrowhead": 0,
           "arrowwidth": 1
          },
          "autotypenumbers": "strict",
          "coloraxis": {
           "colorbar": {
            "outlinewidth": 0,
            "ticks": ""
           }
          },
          "colorscale": {
           "diverging": [
            [
             0,
             "#8e0152"
            ],
            [
             0.1,
             "#c51b7d"
            ],
            [
             0.2,
             "#de77ae"
            ],
            [
             0.3,
             "#f1b6da"
            ],
            [
             0.4,
             "#fde0ef"
            ],
            [
             0.5,
             "#f7f7f7"
            ],
            [
             0.6,
             "#e6f5d0"
            ],
            [
             0.7,
             "#b8e186"
            ],
            [
             0.8,
             "#7fbc41"
            ],
            [
             0.9,
             "#4d9221"
            ],
            [
             1,
             "#276419"
            ]
           ],
           "sequential": [
            [
             0,
             "#0d0887"
            ],
            [
             0.1111111111111111,
             "#46039f"
            ],
            [
             0.2222222222222222,
             "#7201a8"
            ],
            [
             0.3333333333333333,
             "#9c179e"
            ],
            [
             0.4444444444444444,
             "#bd3786"
            ],
            [
             0.5555555555555556,
             "#d8576b"
            ],
            [
             0.6666666666666666,
             "#ed7953"
            ],
            [
             0.7777777777777778,
             "#fb9f3a"
            ],
            [
             0.8888888888888888,
             "#fdca26"
            ],
            [
             1,
             "#f0f921"
            ]
           ],
           "sequentialminus": [
            [
             0,
             "#0d0887"
            ],
            [
             0.1111111111111111,
             "#46039f"
            ],
            [
             0.2222222222222222,
             "#7201a8"
            ],
            [
             0.3333333333333333,
             "#9c179e"
            ],
            [
             0.4444444444444444,
             "#bd3786"
            ],
            [
             0.5555555555555556,
             "#d8576b"
            ],
            [
             0.6666666666666666,
             "#ed7953"
            ],
            [
             0.7777777777777778,
             "#fb9f3a"
            ],
            [
             0.8888888888888888,
             "#fdca26"
            ],
            [
             1,
             "#f0f921"
            ]
           ]
          },
          "colorway": [
           "#636efa",
           "#EF553B",
           "#00cc96",
           "#ab63fa",
           "#FFA15A",
           "#19d3f3",
           "#FF6692",
           "#B6E880",
           "#FF97FF",
           "#FECB52"
          ],
          "font": {
           "color": "#2a3f5f"
          },
          "geo": {
           "bgcolor": "white",
           "lakecolor": "white",
           "landcolor": "#E5ECF6",
           "showlakes": true,
           "showland": true,
           "subunitcolor": "white"
          },
          "hoverlabel": {
           "align": "left"
          },
          "hovermode": "closest",
          "mapbox": {
           "style": "light"
          },
          "paper_bgcolor": "white",
          "plot_bgcolor": "#E5ECF6",
          "polar": {
           "angularaxis": {
            "gridcolor": "white",
            "linecolor": "white",
            "ticks": ""
           },
           "bgcolor": "#E5ECF6",
           "radialaxis": {
            "gridcolor": "white",
            "linecolor": "white",
            "ticks": ""
           }
          },
          "scene": {
           "xaxis": {
            "backgroundcolor": "#E5ECF6",
            "gridcolor": "white",
            "gridwidth": 2,
            "linecolor": "white",
            "showbackground": true,
            "ticks": "",
            "zerolinecolor": "white"
           },
           "yaxis": {
            "backgroundcolor": "#E5ECF6",
            "gridcolor": "white",
            "gridwidth": 2,
            "linecolor": "white",
            "showbackground": true,
            "ticks": "",
            "zerolinecolor": "white"
           },
           "zaxis": {
            "backgroundcolor": "#E5ECF6",
            "gridcolor": "white",
            "gridwidth": 2,
            "linecolor": "white",
            "showbackground": true,
            "ticks": "",
            "zerolinecolor": "white"
           }
          },
          "shapedefaults": {
           "line": {
            "color": "#2a3f5f"
           }
          },
          "ternary": {
           "aaxis": {
            "gridcolor": "white",
            "linecolor": "white",
            "ticks": ""
           },
           "baxis": {
            "gridcolor": "white",
            "linecolor": "white",
            "ticks": ""
           },
           "bgcolor": "#E5ECF6",
           "caxis": {
            "gridcolor": "white",
            "linecolor": "white",
            "ticks": ""
           }
          },
          "title": {
           "x": 0.05
          },
          "xaxis": {
           "automargin": true,
           "gridcolor": "white",
           "linecolor": "white",
           "ticks": "",
           "title": {
            "standoff": 15
           },
           "zerolinecolor": "white",
           "zerolinewidth": 2
          },
          "yaxis": {
           "automargin": true,
           "gridcolor": "white",
           "linecolor": "white",
           "ticks": "",
           "title": {
            "standoff": 15
           },
           "zerolinecolor": "white",
           "zerolinewidth": 2
          }
         }
        },
        "title": {
         "text": "Site Wind Speed [m/s] <br><sup> 7/1 to 7/1 between 0 and 23 @4 </sup>"
        }
       }
      }
     },
     "metadata": {},
     "output_type": "display_data"
    }
   ],
   "source": [
    "ez.plt.get_collection_for_variable(ez.eligible_vars.site_wind_speed)\n",
    "ez.plt.create_plot()"
   ]
  },
  {
   "cell_type": "code",
   "execution_count": 7,
   "metadata": {},
   "outputs": [
    {
     "data": {
      "application/vnd.plotly.v1+json": {
       "config": {
        "plotlyServerURL": "https://plotly.com"
       },
       "data": [
        {
         "name": "BLOCK 00 STOREY 0",
         "type": "scatter",
         "x": [
          "2017-07-01T00:00:00",
          "2017-07-01T00:15:00",
          "2017-07-01T00:30:00",
          "2017-07-01T00:45:00",
          "2017-07-01T01:00:00",
          "2017-07-01T01:15:00",
          "2017-07-01T01:30:00",
          "2017-07-01T01:45:00",
          "2017-07-01T02:00:00",
          "2017-07-01T02:15:00",
          "2017-07-01T02:30:00",
          "2017-07-01T02:45:00",
          "2017-07-01T03:00:00",
          "2017-07-01T03:15:00",
          "2017-07-01T03:30:00",
          "2017-07-01T03:45:00",
          "2017-07-01T04:00:00",
          "2017-07-01T04:15:00",
          "2017-07-01T04:30:00",
          "2017-07-01T04:45:00",
          "2017-07-01T05:00:00",
          "2017-07-01T05:15:00",
          "2017-07-01T05:30:00",
          "2017-07-01T05:45:00",
          "2017-07-01T06:00:00",
          "2017-07-01T06:15:00",
          "2017-07-01T06:30:00",
          "2017-07-01T06:45:00",
          "2017-07-01T07:00:00",
          "2017-07-01T07:15:00",
          "2017-07-01T07:30:00",
          "2017-07-01T07:45:00",
          "2017-07-01T08:00:00",
          "2017-07-01T08:15:00",
          "2017-07-01T08:30:00",
          "2017-07-01T08:45:00",
          "2017-07-01T09:00:00",
          "2017-07-01T09:15:00",
          "2017-07-01T09:30:00",
          "2017-07-01T09:45:00",
          "2017-07-01T10:00:00",
          "2017-07-01T10:15:00",
          "2017-07-01T10:30:00",
          "2017-07-01T10:45:00",
          "2017-07-01T11:00:00",
          "2017-07-01T11:15:00",
          "2017-07-01T11:30:00",
          "2017-07-01T11:45:00",
          "2017-07-01T12:00:00",
          "2017-07-01T12:15:00",
          "2017-07-01T12:30:00",
          "2017-07-01T12:45:00",
          "2017-07-01T13:00:00",
          "2017-07-01T13:15:00",
          "2017-07-01T13:30:00",
          "2017-07-01T13:45:00",
          "2017-07-01T14:00:00",
          "2017-07-01T14:15:00",
          "2017-07-01T14:30:00",
          "2017-07-01T14:45:00",
          "2017-07-01T15:00:00",
          "2017-07-01T15:15:00",
          "2017-07-01T15:30:00",
          "2017-07-01T15:45:00",
          "2017-07-01T16:00:00",
          "2017-07-01T16:15:00",
          "2017-07-01T16:30:00",
          "2017-07-01T16:45:00",
          "2017-07-01T17:00:00",
          "2017-07-01T17:15:00",
          "2017-07-01T17:30:00",
          "2017-07-01T17:45:00",
          "2017-07-01T18:00:00",
          "2017-07-01T18:15:00",
          "2017-07-01T18:30:00",
          "2017-07-01T18:45:00",
          "2017-07-01T19:00:00",
          "2017-07-01T19:15:00",
          "2017-07-01T19:30:00",
          "2017-07-01T19:45:00",
          "2017-07-01T20:00:00",
          "2017-07-01T20:15:00",
          "2017-07-01T20:30:00",
          "2017-07-01T20:45:00",
          "2017-07-01T21:00:00",
          "2017-07-01T21:15:00",
          "2017-07-01T21:30:00",
          "2017-07-01T21:45:00",
          "2017-07-01T22:00:00",
          "2017-07-01T22:15:00",
          "2017-07-01T22:30:00",
          "2017-07-01T22:45:00",
          "2017-07-01T23:00:00",
          "2017-07-01T23:15:00",
          "2017-07-01T23:30:00",
          "2017-07-01T23:45:00"
         ],
         "y": [
          0,
          0,
          0,
          0,
          0,
          0,
          0,
          0,
          0,
          0,
          0,
          0,
          0,
          0,
          0,
          0,
          0,
          0,
          0,
          0,
          0,
          0,
          0,
          0,
          0,
          0,
          0,
          0,
          0,
          0,
          0,
          0,
          0,
          0,
          0,
          0,
          0,
          0,
          0,
          0,
          4.105541720210217,
          177.8154736312802,
          390.6854946687806,
          630.895374790071,
          963.4906699090055,
          1334.4368597404864,
          1719.9829855869737,
          2124.578633391425,
          2167.3015544378854,
          2202.298085212601,
          2227.434356553614,
          2238.6781461273054,
          2185.3659811396883,
          2130.30587777733,
          2074.120474425816,
          2017.3717023153517,
          1675.9403711858297,
          1349.779609849276,
          1034.915749514852,
          746.1823448175389,
          468.0907397658323,
          195.22000612367052,
          0,
          0,
          0,
          0,
          0,
          0,
          0,
          0,
          0,
          0,
          0,
          0,
          0,
          0,
          0,
          0,
          0,
          0,
          0,
          0,
          0,
          0,
          0,
          0,
          0,
          0,
          0,
          0,
          0,
          0,
          0,
          0,
          0,
          0
         ]
        },
        {
         "name": "BLOCK 01 STOREY 0",
         "type": "scatter",
         "x": [
          "2017-07-01T00:00:00",
          "2017-07-01T00:15:00",
          "2017-07-01T00:30:00",
          "2017-07-01T00:45:00",
          "2017-07-01T01:00:00",
          "2017-07-01T01:15:00",
          "2017-07-01T01:30:00",
          "2017-07-01T01:45:00",
          "2017-07-01T02:00:00",
          "2017-07-01T02:15:00",
          "2017-07-01T02:30:00",
          "2017-07-01T02:45:00",
          "2017-07-01T03:00:00",
          "2017-07-01T03:15:00",
          "2017-07-01T03:30:00",
          "2017-07-01T03:45:00",
          "2017-07-01T04:00:00",
          "2017-07-01T04:15:00",
          "2017-07-01T04:30:00",
          "2017-07-01T04:45:00",
          "2017-07-01T05:00:00",
          "2017-07-01T05:15:00",
          "2017-07-01T05:30:00",
          "2017-07-01T05:45:00",
          "2017-07-01T06:00:00",
          "2017-07-01T06:15:00",
          "2017-07-01T06:30:00",
          "2017-07-01T06:45:00",
          "2017-07-01T07:00:00",
          "2017-07-01T07:15:00",
          "2017-07-01T07:30:00",
          "2017-07-01T07:45:00",
          "2017-07-01T08:00:00",
          "2017-07-01T08:15:00",
          "2017-07-01T08:30:00",
          "2017-07-01T08:45:00",
          "2017-07-01T09:00:00",
          "2017-07-01T09:15:00",
          "2017-07-01T09:30:00",
          "2017-07-01T09:45:00",
          "2017-07-01T10:00:00",
          "2017-07-01T10:15:00",
          "2017-07-01T10:30:00",
          "2017-07-01T10:45:00",
          "2017-07-01T11:00:00",
          "2017-07-01T11:15:00",
          "2017-07-01T11:30:00",
          "2017-07-01T11:45:00",
          "2017-07-01T12:00:00",
          "2017-07-01T12:15:00",
          "2017-07-01T12:30:00",
          "2017-07-01T12:45:00",
          "2017-07-01T13:00:00",
          "2017-07-01T13:15:00",
          "2017-07-01T13:30:00",
          "2017-07-01T13:45:00",
          "2017-07-01T14:00:00",
          "2017-07-01T14:15:00",
          "2017-07-01T14:30:00",
          "2017-07-01T14:45:00",
          "2017-07-01T15:00:00",
          "2017-07-01T15:15:00",
          "2017-07-01T15:30:00",
          "2017-07-01T15:45:00",
          "2017-07-01T16:00:00",
          "2017-07-01T16:15:00",
          "2017-07-01T16:30:00",
          "2017-07-01T16:45:00",
          "2017-07-01T17:00:00",
          "2017-07-01T17:15:00",
          "2017-07-01T17:30:00",
          "2017-07-01T17:45:00",
          "2017-07-01T18:00:00",
          "2017-07-01T18:15:00",
          "2017-07-01T18:30:00",
          "2017-07-01T18:45:00",
          "2017-07-01T19:00:00",
          "2017-07-01T19:15:00",
          "2017-07-01T19:30:00",
          "2017-07-01T19:45:00",
          "2017-07-01T20:00:00",
          "2017-07-01T20:15:00",
          "2017-07-01T20:30:00",
          "2017-07-01T20:45:00",
          "2017-07-01T21:00:00",
          "2017-07-01T21:15:00",
          "2017-07-01T21:30:00",
          "2017-07-01T21:45:00",
          "2017-07-01T22:00:00",
          "2017-07-01T22:15:00",
          "2017-07-01T22:30:00",
          "2017-07-01T22:45:00",
          "2017-07-01T23:00:00",
          "2017-07-01T23:15:00",
          "2017-07-01T23:30:00",
          "2017-07-01T23:45:00"
         ],
         "y": [
          0,
          0,
          0,
          0,
          0,
          0,
          0,
          0,
          0,
          0,
          0,
          0,
          0,
          0,
          0,
          0,
          0,
          0,
          0,
          0,
          0,
          0,
          0,
          0,
          0,
          0,
          0,
          0,
          0,
          0,
          0,
          0,
          0,
          0,
          0,
          0,
          0,
          0,
          0,
          0,
          0,
          0,
          0,
          0,
          0,
          0,
          0,
          0,
          0,
          0,
          0,
          0,
          0,
          0,
          0,
          0,
          0,
          0,
          0,
          0,
          0,
          0,
          0,
          0,
          0,
          0,
          0,
          0,
          0,
          0,
          0,
          0,
          0,
          0,
          0,
          0,
          0,
          0,
          0,
          0,
          0,
          0,
          0,
          0,
          0,
          0,
          0,
          0,
          0,
          0,
          0,
          0,
          0,
          0,
          0,
          0
         ]
        }
       ],
       "layout": {
        "template": {
         "data": {
          "bar": [
           {
            "error_x": {
             "color": "#2a3f5f"
            },
            "error_y": {
             "color": "#2a3f5f"
            },
            "marker": {
             "line": {
              "color": "#E5ECF6",
              "width": 0.5
             },
             "pattern": {
              "fillmode": "overlay",
              "size": 10,
              "solidity": 0.2
             }
            },
            "type": "bar"
           }
          ],
          "barpolar": [
           {
            "marker": {
             "line": {
              "color": "#E5ECF6",
              "width": 0.5
             },
             "pattern": {
              "fillmode": "overlay",
              "size": 10,
              "solidity": 0.2
             }
            },
            "type": "barpolar"
           }
          ],
          "carpet": [
           {
            "aaxis": {
             "endlinecolor": "#2a3f5f",
             "gridcolor": "white",
             "linecolor": "white",
             "minorgridcolor": "white",
             "startlinecolor": "#2a3f5f"
            },
            "baxis": {
             "endlinecolor": "#2a3f5f",
             "gridcolor": "white",
             "linecolor": "white",
             "minorgridcolor": "white",
             "startlinecolor": "#2a3f5f"
            },
            "type": "carpet"
           }
          ],
          "choropleth": [
           {
            "colorbar": {
             "outlinewidth": 0,
             "ticks": ""
            },
            "type": "choropleth"
           }
          ],
          "contour": [
           {
            "colorbar": {
             "outlinewidth": 0,
             "ticks": ""
            },
            "colorscale": [
             [
              0,
              "#0d0887"
             ],
             [
              0.1111111111111111,
              "#46039f"
             ],
             [
              0.2222222222222222,
              "#7201a8"
             ],
             [
              0.3333333333333333,
              "#9c179e"
             ],
             [
              0.4444444444444444,
              "#bd3786"
             ],
             [
              0.5555555555555556,
              "#d8576b"
             ],
             [
              0.6666666666666666,
              "#ed7953"
             ],
             [
              0.7777777777777778,
              "#fb9f3a"
             ],
             [
              0.8888888888888888,
              "#fdca26"
             ],
             [
              1,
              "#f0f921"
             ]
            ],
            "type": "contour"
           }
          ],
          "contourcarpet": [
           {
            "colorbar": {
             "outlinewidth": 0,
             "ticks": ""
            },
            "type": "contourcarpet"
           }
          ],
          "heatmap": [
           {
            "colorbar": {
             "outlinewidth": 0,
             "ticks": ""
            },
            "colorscale": [
             [
              0,
              "#0d0887"
             ],
             [
              0.1111111111111111,
              "#46039f"
             ],
             [
              0.2222222222222222,
              "#7201a8"
             ],
             [
              0.3333333333333333,
              "#9c179e"
             ],
             [
              0.4444444444444444,
              "#bd3786"
             ],
             [
              0.5555555555555556,
              "#d8576b"
             ],
             [
              0.6666666666666666,
              "#ed7953"
             ],
             [
              0.7777777777777778,
              "#fb9f3a"
             ],
             [
              0.8888888888888888,
              "#fdca26"
             ],
             [
              1,
              "#f0f921"
             ]
            ],
            "type": "heatmap"
           }
          ],
          "heatmapgl": [
           {
            "colorbar": {
             "outlinewidth": 0,
             "ticks": ""
            },
            "colorscale": [
             [
              0,
              "#0d0887"
             ],
             [
              0.1111111111111111,
              "#46039f"
             ],
             [
              0.2222222222222222,
              "#7201a8"
             ],
             [
              0.3333333333333333,
              "#9c179e"
             ],
             [
              0.4444444444444444,
              "#bd3786"
             ],
             [
              0.5555555555555556,
              "#d8576b"
             ],
             [
              0.6666666666666666,
              "#ed7953"
             ],
             [
              0.7777777777777778,
              "#fb9f3a"
             ],
             [
              0.8888888888888888,
              "#fdca26"
             ],
             [
              1,
              "#f0f921"
             ]
            ],
            "type": "heatmapgl"
           }
          ],
          "histogram": [
           {
            "marker": {
             "pattern": {
              "fillmode": "overlay",
              "size": 10,
              "solidity": 0.2
             }
            },
            "type": "histogram"
           }
          ],
          "histogram2d": [
           {
            "colorbar": {
             "outlinewidth": 0,
             "ticks": ""
            },
            "colorscale": [
             [
              0,
              "#0d0887"
             ],
             [
              0.1111111111111111,
              "#46039f"
             ],
             [
              0.2222222222222222,
              "#7201a8"
             ],
             [
              0.3333333333333333,
              "#9c179e"
             ],
             [
              0.4444444444444444,
              "#bd3786"
             ],
             [
              0.5555555555555556,
              "#d8576b"
             ],
             [
              0.6666666666666666,
              "#ed7953"
             ],
             [
              0.7777777777777778,
              "#fb9f3a"
             ],
             [
              0.8888888888888888,
              "#fdca26"
             ],
             [
              1,
              "#f0f921"
             ]
            ],
            "type": "histogram2d"
           }
          ],
          "histogram2dcontour": [
           {
            "colorbar": {
             "outlinewidth": 0,
             "ticks": ""
            },
            "colorscale": [
             [
              0,
              "#0d0887"
             ],
             [
              0.1111111111111111,
              "#46039f"
             ],
             [
              0.2222222222222222,
              "#7201a8"
             ],
             [
              0.3333333333333333,
              "#9c179e"
             ],
             [
              0.4444444444444444,
              "#bd3786"
             ],
             [
              0.5555555555555556,
              "#d8576b"
             ],
             [
              0.6666666666666666,
              "#ed7953"
             ],
             [
              0.7777777777777778,
              "#fb9f3a"
             ],
             [
              0.8888888888888888,
              "#fdca26"
             ],
             [
              1,
              "#f0f921"
             ]
            ],
            "type": "histogram2dcontour"
           }
          ],
          "mesh3d": [
           {
            "colorbar": {
             "outlinewidth": 0,
             "ticks": ""
            },
            "type": "mesh3d"
           }
          ],
          "parcoords": [
           {
            "line": {
             "colorbar": {
              "outlinewidth": 0,
              "ticks": ""
             }
            },
            "type": "parcoords"
           }
          ],
          "pie": [
           {
            "automargin": true,
            "type": "pie"
           }
          ],
          "scatter": [
           {
            "fillpattern": {
             "fillmode": "overlay",
             "size": 10,
             "solidity": 0.2
            },
            "type": "scatter"
           }
          ],
          "scatter3d": [
           {
            "line": {
             "colorbar": {
              "outlinewidth": 0,
              "ticks": ""
             }
            },
            "marker": {
             "colorbar": {
              "outlinewidth": 0,
              "ticks": ""
             }
            },
            "type": "scatter3d"
           }
          ],
          "scattercarpet": [
           {
            "marker": {
             "colorbar": {
              "outlinewidth": 0,
              "ticks": ""
             }
            },
            "type": "scattercarpet"
           }
          ],
          "scattergeo": [
           {
            "marker": {
             "colorbar": {
              "outlinewidth": 0,
              "ticks": ""
             }
            },
            "type": "scattergeo"
           }
          ],
          "scattergl": [
           {
            "marker": {
             "colorbar": {
              "outlinewidth": 0,
              "ticks": ""
             }
            },
            "type": "scattergl"
           }
          ],
          "scattermapbox": [
           {
            "marker": {
             "colorbar": {
              "outlinewidth": 0,
              "ticks": ""
             }
            },
            "type": "scattermapbox"
           }
          ],
          "scatterpolar": [
           {
            "marker": {
             "colorbar": {
              "outlinewidth": 0,
              "ticks": ""
             }
            },
            "type": "scatterpolar"
           }
          ],
          "scatterpolargl": [
           {
            "marker": {
             "colorbar": {
              "outlinewidth": 0,
              "ticks": ""
             }
            },
            "type": "scatterpolargl"
           }
          ],
          "scatterternary": [
           {
            "marker": {
             "colorbar": {
              "outlinewidth": 0,
              "ticks": ""
             }
            },
            "type": "scatterternary"
           }
          ],
          "surface": [
           {
            "colorbar": {
             "outlinewidth": 0,
             "ticks": ""
            },
            "colorscale": [
             [
              0,
              "#0d0887"
             ],
             [
              0.1111111111111111,
              "#46039f"
             ],
             [
              0.2222222222222222,
              "#7201a8"
             ],
             [
              0.3333333333333333,
              "#9c179e"
             ],
             [
              0.4444444444444444,
              "#bd3786"
             ],
             [
              0.5555555555555556,
              "#d8576b"
             ],
             [
              0.6666666666666666,
              "#ed7953"
             ],
             [
              0.7777777777777778,
              "#fb9f3a"
             ],
             [
              0.8888888888888888,
              "#fdca26"
             ],
             [
              1,
              "#f0f921"
             ]
            ],
            "type": "surface"
           }
          ],
          "table": [
           {
            "cells": {
             "fill": {
              "color": "#EBF0F8"
             },
             "line": {
              "color": "white"
             }
            },
            "header": {
             "fill": {
              "color": "#C8D4E3"
             },
             "line": {
              "color": "white"
             }
            },
            "type": "table"
           }
          ]
         },
         "layout": {
          "annotationdefaults": {
           "arrowcolor": "#2a3f5f",
           "arrowhead": 0,
           "arrowwidth": 1
          },
          "autotypenumbers": "strict",
          "coloraxis": {
           "colorbar": {
            "outlinewidth": 0,
            "ticks": ""
           }
          },
          "colorscale": {
           "diverging": [
            [
             0,
             "#8e0152"
            ],
            [
             0.1,
             "#c51b7d"
            ],
            [
             0.2,
             "#de77ae"
            ],
            [
             0.3,
             "#f1b6da"
            ],
            [
             0.4,
             "#fde0ef"
            ],
            [
             0.5,
             "#f7f7f7"
            ],
            [
             0.6,
             "#e6f5d0"
            ],
            [
             0.7,
             "#b8e186"
            ],
            [
             0.8,
             "#7fbc41"
            ],
            [
             0.9,
             "#4d9221"
            ],
            [
             1,
             "#276419"
            ]
           ],
           "sequential": [
            [
             0,
             "#0d0887"
            ],
            [
             0.1111111111111111,
             "#46039f"
            ],
            [
             0.2222222222222222,
             "#7201a8"
            ],
            [
             0.3333333333333333,
             "#9c179e"
            ],
            [
             0.4444444444444444,
             "#bd3786"
            ],
            [
             0.5555555555555556,
             "#d8576b"
            ],
            [
             0.6666666666666666,
             "#ed7953"
            ],
            [
             0.7777777777777778,
             "#fb9f3a"
            ],
            [
             0.8888888888888888,
             "#fdca26"
            ],
            [
             1,
             "#f0f921"
            ]
           ],
           "sequentialminus": [
            [
             0,
             "#0d0887"
            ],
            [
             0.1111111111111111,
             "#46039f"
            ],
            [
             0.2222222222222222,
             "#7201a8"
            ],
            [
             0.3333333333333333,
             "#9c179e"
            ],
            [
             0.4444444444444444,
             "#bd3786"
            ],
            [
             0.5555555555555556,
             "#d8576b"
            ],
            [
             0.6666666666666666,
             "#ed7953"
            ],
            [
             0.7777777777777778,
             "#fb9f3a"
            ],
            [
             0.8888888888888888,
             "#fdca26"
            ],
            [
             1,
             "#f0f921"
            ]
           ]
          },
          "colorway": [
           "#636efa",
           "#EF553B",
           "#00cc96",
           "#ab63fa",
           "#FFA15A",
           "#19d3f3",
           "#FF6692",
           "#B6E880",
           "#FF97FF",
           "#FECB52"
          ],
          "font": {
           "color": "#2a3f5f"
          },
          "geo": {
           "bgcolor": "white",
           "lakecolor": "white",
           "landcolor": "#E5ECF6",
           "showlakes": true,
           "showland": true,
           "subunitcolor": "white"
          },
          "hoverlabel": {
           "align": "left"
          },
          "hovermode": "closest",
          "mapbox": {
           "style": "light"
          },
          "paper_bgcolor": "white",
          "plot_bgcolor": "#E5ECF6",
          "polar": {
           "angularaxis": {
            "gridcolor": "white",
            "linecolor": "white",
            "ticks": ""
           },
           "bgcolor": "#E5ECF6",
           "radialaxis": {
            "gridcolor": "white",
            "linecolor": "white",
            "ticks": ""
           }
          },
          "scene": {
           "xaxis": {
            "backgroundcolor": "#E5ECF6",
            "gridcolor": "white",
            "gridwidth": 2,
            "linecolor": "white",
            "showbackground": true,
            "ticks": "",
            "zerolinecolor": "white"
           },
           "yaxis": {
            "backgroundcolor": "#E5ECF6",
            "gridcolor": "white",
            "gridwidth": 2,
            "linecolor": "white",
            "showbackground": true,
            "ticks": "",
            "zerolinecolor": "white"
           },
           "zaxis": {
            "backgroundcolor": "#E5ECF6",
            "gridcolor": "white",
            "gridwidth": 2,
            "linecolor": "white",
            "showbackground": true,
            "ticks": "",
            "zerolinecolor": "white"
           }
          },
          "shapedefaults": {
           "line": {
            "color": "#2a3f5f"
           }
          },
          "ternary": {
           "aaxis": {
            "gridcolor": "white",
            "linecolor": "white",
            "ticks": ""
           },
           "baxis": {
            "gridcolor": "white",
            "linecolor": "white",
            "ticks": ""
           },
           "bgcolor": "#E5ECF6",
           "caxis": {
            "gridcolor": "white",
            "linecolor": "white",
            "ticks": ""
           }
          },
          "title": {
           "x": 0.05
          },
          "xaxis": {
           "automargin": true,
           "gridcolor": "white",
           "linecolor": "white",
           "ticks": "",
           "title": {
            "standoff": 15
           },
           "zerolinecolor": "white",
           "zerolinewidth": 2
          },
          "yaxis": {
           "automargin": true,
           "gridcolor": "white",
           "linecolor": "white",
           "ticks": "",
           "title": {
            "standoff": 15
           },
           "zerolinecolor": "white",
           "zerolinewidth": 2
          }
         }
        },
        "title": {
         "text": "AFN Zone Ventilation Sensible Heat Gain Rate [W] <br><sup> 7/1 to 7/1 between 0 and 23 @4 </sup>"
        }
       }
      }
     },
     "metadata": {},
     "output_type": "display_data"
    }
   ],
   "source": [
    "ez.plt.get_collection_for_variable(ez.eligible_vars.zone_vent_heat_gain)\n",
    "ez.plt.create_plot()"
   ]
  }
 ],
 "metadata": {
  "kernelspec": {
   "display_name": "gqenv",
   "language": "python",
   "name": "python3"
  },
  "language_info": {
   "codemirror_mode": {
    "name": "ipython",
    "version": 3
   },
   "file_extension": ".py",
   "mimetype": "text/x-python",
   "name": "python",
   "nbconvert_exporter": "python",
   "pygments_lexer": "ipython3",
   "version": "3.9.15"
  }
 },
 "nbformat": 4,
 "nbformat_minor": 2
}
