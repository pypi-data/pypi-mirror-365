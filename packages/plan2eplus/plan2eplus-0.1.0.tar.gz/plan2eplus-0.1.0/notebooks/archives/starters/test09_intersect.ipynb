{
 "cells": [
  {
   "cell_type": "code",
   "execution_count": 1,
   "metadata": {},
   "outputs": [],
   "source": [
    "import sys\n",
    "sys.path.append(\"/Users/julietnwagwuume-ezeoke/_UILCode/gqe-phd/geomeppy/_scripts\")\n",
    "\n",
    "from case_edits.epcase import EneryPlusCaseEditor\n",
    "\n",
    "from geometry.wall import Wall"
   ]
  },
  {
   "cell_type": "code",
   "execution_count": 2,
   "metadata": {},
   "outputs": [],
   "source": [
    "WEST_COORDS = [(5,0), (5,7), (0,7), (0,0)]\n",
    "NORTH_COORDS = [(10,7), (10,11), (0,11), (0,7)]"
   ]
  },
  {
   "cell_type": "code",
   "execution_count": 3,
   "metadata": {},
   "outputs": [],
   "source": [
    "CASE_NAME = \"tests/test10_intersect\""
   ]
  },
  {
   "cell_type": "code",
   "execution_count": 4,
   "metadata": {},
   "outputs": [],
   "source": [
    "e = EneryPlusCaseEditor(CASE_NAME)\n",
    "\n",
    "e.idf.add_block(\n",
    "    name='North',\n",
    "    coordinates=NORTH_COORDS,\n",
    "    height=3\n",
    ")\n",
    "e.idf.add_block(\n",
    "    name='West',\n",
    "    coordinates=WEST_COORDS,\n",
    "    height=3\n",
    ")\n"
   ]
  },
  {
   "cell_type": "code",
   "execution_count": 5,
   "metadata": {},
   "outputs": [],
   "source": [
    "e.idf.intersect_match()"
   ]
  },
  {
   "cell_type": "code",
   "execution_count": 6,
   "metadata": {},
   "outputs": [
    {
     "name": "stdout",
     "output_type": "stream",
     "text": [
      "Added 5 walls \n",
      "Added 4 walls \n"
     ]
    }
   ],
   "source": [
    "e.get_geometry()"
   ]
  },
  {
   "cell_type": "code",
   "execution_count": 7,
   "metadata": {},
   "outputs": [],
   "source": [
    "# e.geometry.plot_zones()"
   ]
  },
  {
   "cell_type": "code",
   "execution_count": 8,
   "metadata": {},
   "outputs": [
    {
     "data": {
      "text/plain": [
       "['wall', 'wall', 'wall', 'floor', 'roof', 'wall', 'wall']"
      ]
     },
     "execution_count": 8,
     "metadata": {},
     "output_type": "execute_result"
    }
   ],
   "source": [
    "north_surfaces = [n for n in e.idf.getsurfaces() if \"North\" in n.Name]\n",
    "north_names = [n.Name for n in north_surfaces]\n",
    "[n.Surface_Type for n in north_surfaces]"
   ]
  },
  {
   "cell_type": "code",
   "execution_count": 9,
   "metadata": {},
   "outputs": [
    {
     "data": {
      "text/plain": [
       "'North'"
      ]
     },
     "execution_count": 9,
     "metadata": {},
     "output_type": "execute_result"
    }
   ],
   "source": [
    "zone = e.geometry.zone_bunch.Block_North_Storey_0\n",
    "zone.entry_name"
   ]
  },
  {
   "cell_type": "code",
   "execution_count": 10,
   "metadata": {},
   "outputs": [],
   "source": [
    "w = Wall(north_surfaces[-2], zone)"
   ]
  },
  {
   "cell_type": "code",
   "execution_count": 11,
   "metadata": {},
   "outputs": [
    {
     "data": {
      "text/plain": [
       "'Block North - South - W04_1'"
      ]
     },
     "execution_count": 11,
     "metadata": {},
     "output_type": "execute_result"
    }
   ],
   "source": [
    "w.display_name"
   ]
  },
  {
   "cell_type": "code",
   "execution_count": 11,
   "metadata": {},
   "outputs": [
    {
     "data": {
      "text/plain": [
       "'01'"
      ]
     },
     "execution_count": 11,
     "metadata": {},
     "output_type": "execute_result"
    }
   ],
   "source": [
    "w.name[-2:]"
   ]
  },
  {
   "cell_type": "code",
   "execution_count": 12,
   "metadata": {},
   "outputs": [
    {
     "data": {
      "text/plain": [
       "'01'"
      ]
     },
     "execution_count": 12,
     "metadata": {},
     "output_type": "execute_result"
    }
   ],
   "source": [
    "w.number"
   ]
  },
  {
   "cell_type": "code",
   "execution_count": 13,
   "metadata": {},
   "outputs": [],
   "source": [
    "import re"
   ]
  },
  {
   "cell_type": "code",
   "execution_count": null,
   "metadata": {},
   "outputs": [],
   "source": [
    "\n"
   ]
  },
  {
   "cell_type": "code",
   "execution_count": 14,
   "metadata": {},
   "outputs": [
    {
     "ename": "NameError",
     "evalue": "name 'is_intersecting_surface' is not defined",
     "output_type": "error",
     "traceback": [
      "\u001b[0;31m---------------------------------------------------------------------------\u001b[0m",
      "\u001b[0;31mNameError\u001b[0m                                 Traceback (most recent call last)",
      "Cell \u001b[0;32mIn[14], line 1\u001b[0m\n\u001b[0;32m----> 1\u001b[0m \u001b[43mis_intersecting_surface\u001b[49m(w\u001b[38;5;241m.\u001b[39mname)\n",
      "\u001b[0;31mNameError\u001b[0m: name 'is_intersecting_surface' is not defined"
     ]
    }
   ],
   "source": [
    "is_intersecting_surface(w.name)"
   ]
  },
  {
   "cell_type": "code",
   "execution_count": null,
   "metadata": {},
   "outputs": [
    {
     "name": "stdout",
     "output_type": "stream",
     "text": [
      "Block_North_Storey_0_Wall_0004_1\n",
      "Block_North_Storey_0_Wall_0004_2\n"
     ]
    }
   ],
   "source": [
    "# find bretheren with intersecting name:\n",
    "\n",
    "for k, v in w.zone.wall_bunch.items():\n",
    "    if is_intersecting_surface(k):\n",
    "        print(k)"
   ]
  },
  {
   "cell_type": "code",
   "execution_count": null,
   "metadata": {},
   "outputs": [
    {
     "data": {
      "text/plain": [
       "True"
      ]
     },
     "execution_count": 19,
     "metadata": {},
     "output_type": "execute_result"
    }
   ],
   "source": [
    "\"_\" in w.name"
   ]
  },
  {
   "cell_type": "code",
   "execution_count": null,
   "metadata": {},
   "outputs": [
    {
     "data": {
      "text/plain": [
       "dict_keys(['Block_North_Storey_0_Wall_0001', 'Block_North_Storey_0_Wall_0002', 'Block_North_Storey_0_Wall_0003', 'Block_North_Storey_0_Wall_0004_1', 'Block_North_Storey_0_Wall_0004_2'])"
      ]
     },
     "execution_count": 24,
     "metadata": {},
     "output_type": "execute_result"
    }
   ],
   "source": []
  },
  {
   "cell_type": "code",
   "execution_count": null,
   "metadata": {},
   "outputs": [
    {
     "data": {
      "text/plain": [
       "\n",
       "BUILDINGSURFACE:DETAILED,\n",
       "    Block North Storey 0 Wall 0004_1,    !- Name\n",
       "    wall,                     !- Surface Type\n",
       "    ,                         !- Construction Name\n",
       "    Block North Storey 0,     !- Zone Name\n",
       "    ,                         !- Space Name\n",
       "    surface,                  !- Outside Boundary Condition\n",
       "    Block West Storey 0 Wall 0002_1,    !- Outside Boundary Condition Object\n",
       "    NoSun,                    !- Sun Exposure\n",
       "    NoWind,                   !- Wind Exposure\n",
       "    autocalculate,            !- View Factor to Ground\n",
       "    autocalculate,            !- Number of Vertices\n",
       "    0,                        !- Vertex 1 Xcoordinate\n",
       "    7,                        !- Vertex 1 Ycoordinate\n",
       "    3,                        !- Vertex 1 Zcoordinate\n",
       "    0,                        !- Vertex 2 Xcoordinate\n",
       "    7,                        !- Vertex 2 Ycoordinate\n",
       "    0,                        !- Vertex 2 Zcoordinate\n",
       "    5,                        !- Vertex 3 Xcoordinate\n",
       "    7,                        !- Vertex 3 Ycoordinate\n",
       "    0,                        !- Vertex 3 Zcoordinate\n",
       "    5,                        !- Vertex 4 Xcoordinate\n",
       "    7,                        !- Vertex 4 Ycoordinate\n",
       "    3;                        !- Vertex 4 Zcoordinate"
      ]
     },
     "execution_count": 12,
     "metadata": {},
     "output_type": "execute_result"
    }
   ],
   "source": [
    "north_surfaces[-2]"
   ]
  },
  {
   "cell_type": "code",
   "execution_count": null,
   "metadata": {},
   "outputs": [
    {
     "data": {
      "text/plain": [
       "\n",
       "BUILDINGSURFACE:DETAILED,\n",
       "    Block North Storey 0 Wall 0004_2,    !- Name\n",
       "    wall,                     !- Surface Type\n",
       "    ,                         !- Construction Name\n",
       "    Block North Storey 0,     !- Zone Name\n",
       "    ,                         !- Space Name\n",
       "    outdoors,                 !- Outside Boundary Condition\n",
       "    ,                         !- Outside Boundary Condition Object\n",
       "    SunExposed,               !- Sun Exposure\n",
       "    WindExposed,              !- Wind Exposure\n",
       "    autocalculate,            !- View Factor to Ground\n",
       "    autocalculate,            !- Number of Vertices\n",
       "    5,                        !- Vertex 1 Xcoordinate\n",
       "    7,                        !- Vertex 1 Ycoordinate\n",
       "    3,                        !- Vertex 1 Zcoordinate\n",
       "    5,                        !- Vertex 2 Xcoordinate\n",
       "    7,                        !- Vertex 2 Ycoordinate\n",
       "    0,                        !- Vertex 2 Zcoordinate\n",
       "    10,                       !- Vertex 3 Xcoordinate\n",
       "    7,                        !- Vertex 3 Ycoordinate\n",
       "    0,                        !- Vertex 3 Zcoordinate\n",
       "    10,                       !- Vertex 4 Xcoordinate\n",
       "    7,                        !- Vertex 4 Ycoordinate\n",
       "    3;                        !- Vertex 4 Zcoordinate"
      ]
     },
     "execution_count": 13,
     "metadata": {},
     "output_type": "execute_result"
    }
   ],
   "source": [
    "north_surfaces[-1]"
   ]
  },
  {
   "cell_type": "code",
   "execution_count": null,
   "metadata": {},
   "outputs": [
    {
     "data": {
      "text/plain": [
       "['Block North Storey 0 Wall 0001',\n",
       " 'Block North Storey 0 Wall 0002',\n",
       " 'Block North Storey 0 Wall 0003',\n",
       " 'Block North Storey 0 Floor 0001',\n",
       " 'Block North Storey 0 Roof 0001',\n",
       " 'Block North Storey 0 Wall 0004_1',\n",
       " 'Block North Storey 0 Wall 0004_2']"
      ]
     },
     "execution_count": 14,
     "metadata": {},
     "output_type": "execute_result"
    }
   ],
   "source": [
    "north_names"
   ]
  },
  {
   "cell_type": "code",
   "execution_count": null,
   "metadata": {},
   "outputs": [
    {
     "data": {
      "text/plain": [
       "['Block West Storey 0 Wall 0001',\n",
       " 'Block West Storey 0 Wall 0003',\n",
       " 'Block West Storey 0 Wall 0004',\n",
       " 'Block West Storey 0 Floor 0001',\n",
       " 'Block West Storey 0 Roof 0001',\n",
       " 'Block West Storey 0 Wall 0002_1']"
      ]
     },
     "execution_count": 15,
     "metadata": {},
     "output_type": "execute_result"
    }
   ],
   "source": [
    "[n.Name for n in e.idf.getsurfaces() if \"West\" in n.Name]"
   ]
  }
 ],
 "metadata": {
  "kernelspec": {
   "display_name": "gqenv",
   "language": "python",
   "name": "python3"
  },
  "language_info": {
   "codemirror_mode": {
    "name": "ipython",
    "version": 3
   },
   "file_extension": ".py",
   "mimetype": "text/x-python",
   "name": "python",
   "nbconvert_exporter": "python",
   "pygments_lexer": "ipython3",
   "version": "3.9.15"
  }
 },
 "nbformat": 4,
 "nbformat_minor": 2
}
