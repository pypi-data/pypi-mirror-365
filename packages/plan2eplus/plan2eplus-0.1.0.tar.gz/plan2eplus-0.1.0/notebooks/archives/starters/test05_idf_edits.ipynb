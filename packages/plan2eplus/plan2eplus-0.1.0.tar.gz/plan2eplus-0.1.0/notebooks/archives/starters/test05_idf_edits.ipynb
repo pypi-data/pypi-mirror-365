{
 "cells": [
  {
   "cell_type": "code",
   "execution_count": 2,
   "metadata": {},
   "outputs": [],
   "source": [
    "import sys\n",
    "sys.path.append(\"/Users/julietnwagwuume-ezeoke/_UILCode/gqe-phd/geomeppy/_scripts\")\n",
    "\n",
    "from case_edits.epcase import EneryPlusCase\n",
    "from case_edits.recipes import add_output_variable, request_json, request_sql\n"
   ]
  },
  {
   "cell_type": "code",
   "execution_count": 3,
   "metadata": {},
   "outputs": [],
   "source": [
    "e = EneryPlusCase(\"test03\")"
   ]
  },
  {
   "cell_type": "code",
   "execution_count": 4,
   "metadata": {},
   "outputs": [],
   "source": [
    "e.idf = add_output_variable(e.idf,\"Zone Mean Air Temperature\" )\n"
   ]
  },
  {
   "cell_type": "code",
   "execution_count": 5,
   "metadata": {},
   "outputs": [],
   "source": [
    "e.idf = request_sql(e.idf)\n",
    "e.idf = request_json(e.idf)"
   ]
  },
  {
   "cell_type": "code",
   "execution_count": 6,
   "metadata": {},
   "outputs": [
    {
     "data": {
      "text/plain": [
       "[\n",
       "OUTPUT:SQLITE,\n",
       "    Simple,                   !- Option Type\n",
       "    UseOutputControlTableStyle;    !- Unit Conversion for Tabular Data\n",
       "]"
      ]
     },
     "execution_count": 6,
     "metadata": {},
     "output_type": "execute_result"
    }
   ],
   "source": [
    "e.idf.idfobjects[\"OUTPUT:SQLITE\"]"
   ]
  },
  {
   "cell_type": "code",
   "execution_count": 7,
   "metadata": {},
   "outputs": [],
   "source": [
    "e.save_idf()\n"
   ]
  },
  {
   "cell_type": "code",
   "execution_count": null,
   "metadata": {},
   "outputs": [],
   "source": []
  },
  {
   "cell_type": "code",
   "execution_count": 8,
   "metadata": {},
   "outputs": [],
   "source": [
    "e.prepare_to_run()"
   ]
  },
  {
   "cell_type": "code",
   "execution_count": 9,
   "metadata": {},
   "outputs": [
    {
     "name": "stdout",
     "output_type": "stream",
     "text": [
      "\n",
      "/Applications/EnergyPlus-22-2-0/energyplus --weather /Users/julietnwagwuume-ezeoke/_UILCode/gqe-phd/geomeppy/weather/CA_PALO-ALTO-AP_724937S_20.epw --output-directory /Users/julietnwagwuume-ezeoke/_UILCode/gqe-phd/geomeppy/cases/test03/results --idd /Applications/EnergyPlus-22-2-0/Energy+.idd /Users/julietnwagwuume-ezeoke/_UILCode/gqe-phd/geomeppy/base_idfs/Minimal_f8b807.idf\n",
      "\n",
      "EnergyPlus Starting\n",
      "EnergyPlus, Version 22.2.0-c249759bad, YMD=2024.05.30 14:51\n",
      "Adjusting Air System Sizing\n",
      "Adjusting Standard 62.1 Ventilation Sizing\n",
      "Initializing Simulation\n",
      "Reporting Surfaces\n",
      "Beginning Primary Simulation\n",
      "Initializing New Environment Parameters\n",
      "Warming up {1}\n",
      "Starting Simulation at 12/21 for DENVER_STAPLETON ANN HTG 99.6% CONDNS DB\n",
      "Initializing New Environment Parameters\n",
      "Warming up {1}\n",
      "Starting Simulation at 07/21 for DENVER_STAPLETON ANN CLG .4% CONDNS DB=>MWB\n",
      "Writing tabular output file results using HTML format.\n",
      "Writing final SQL reports\n",
      "EnergyPlus Run Time=00hr 00min  0.22sec\n"
     ]
    },
    {
     "name": "stderr",
     "output_type": "stream",
     "text": [
      "EnergyPlus Completed Successfully.\n"
     ]
    }
   ],
   "source": [
    "e.run_idf()"
   ]
  }
 ],
 "metadata": {
  "kernelspec": {
   "display_name": "gqenv",
   "language": "python",
   "name": "python3"
  },
  "language_info": {
   "codemirror_mode": {
    "name": "ipython",
    "version": 3
   },
   "file_extension": ".py",
   "mimetype": "text/x-python",
   "name": "python",
   "nbconvert_exporter": "python",
   "pygments_lexer": "ipython3",
   "version": "3.9.15"
  }
 },
 "nbformat": 4,
 "nbformat_minor": 2
}
