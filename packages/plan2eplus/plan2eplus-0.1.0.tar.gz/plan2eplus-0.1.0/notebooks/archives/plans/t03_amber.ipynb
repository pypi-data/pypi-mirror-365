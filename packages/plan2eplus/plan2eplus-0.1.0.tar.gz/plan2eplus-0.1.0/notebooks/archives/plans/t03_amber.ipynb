{
 "cells": [
  {
   "cell_type": "code",
   "execution_count": 1,
   "metadata": {},
   "outputs": [],
   "source": [
    "import sys\n",
    "sys.path.append(\"/Users/julietnwagwuume-ezeoke/_UILCode/gqe-phd/geomeppy/_scripts\")\n",
    "\n",
    "from typing import Union\n",
    "from dataclasses import dataclass\n",
    "\n",
    "from copy import deepcopy\n",
    "import json\n",
    "\n",
    "from case_edits.ezcase import EzCase\n",
    "\n",
    "from recipes.amber import input\n",
    "from recipes.exp_01 import input as input1, ns_axis\n",
    "from geometry.wall_normal import WallNormal\n",
    "from helpers.helpers import key_from_value\n",
    "from methods.subsurfaces.pairs import DEFAULT_WINDOW, SubsurfacePair, DEFAULT_DOOR\n",
    "from helpers.shapely_helpers import get_point_as_xy\n",
    "\n",
    "\n",
    "from gplan.subsurface_translator import SubsurfaceTranslator\n",
    "\n",
    "from helpers.plots import *\n",
    "\n",
    "import shapely as sp"
   ]
  },
  {
   "cell_type": "code",
   "execution_count": null,
   "metadata": {},
   "outputs": [],
   "source": [
    "ez = EzCase(input, RUN_CASE=False)\n",
    "ez.run()"
   ]
  },
  {
   "cell_type": "code",
   "execution_count": 3,
   "metadata": {},
   "outputs": [
    {
     "data": {
      "application/vnd.plotly.v1+json": {
       "config": {
        "plotlyServerURL": "https://plotly.com"
       },
       "data": [],
       "layout": {
        "autosize": false,
        "height": 350,
        "margin": {
         "b": 50,
         "l": 50,
         "pad": 4,
         "r": 50,
         "t": 50
        },
        "shapes": [
         {
          "fillcolor": "#9dd1eb",
          "label": {
           "text": "Block 00"
          },
          "type": "rect",
          "x0": 0,
          "x1": 3.22,
          "xref": "x",
          "y0": 3.1499999999068677,
          "y1": 5.95,
          "yref": "y"
         },
         {
          "fillcolor": "#9dd1eb",
          "label": {
           "text": "Block 01"
          },
          "type": "rect",
          "x0": 3.2199999997392297,
          "x1": 5.02,
          "xref": "x",
          "y0": 0,
          "y1": 2.42,
          "yref": "y"
         },
         {
          "fillcolor": "#9dd1eb",
          "label": {
           "text": "Block 02"
          },
          "type": "rect",
          "x0": 5.019999999552965,
          "x1": 8.58,
          "xref": "x",
          "y0": 4.649999999906868,
          "y1": 5.95,
          "yref": "y"
         },
         {
          "fillcolor": "#9dd1eb",
          "label": {
           "text": "Block 03"
          },
          "type": "rect",
          "x0": 8.579999999608845,
          "x1": 10.71,
          "xref": "x",
          "y0": 3.209999999962747,
          "y1": 5.95,
          "yref": "y"
         },
         {
          "fillcolor": "#9dd1eb",
          "label": {
           "text": "Block 04"
          },
          "type": "rect",
          "x0": 8.579999999608845,
          "x1": 10.71,
          "xref": "x",
          "y0": 2.609999999869615,
          "y1": 3.21,
          "yref": "y"
         },
         {
          "fillcolor": "#9dd1eb",
          "label": {
           "text": "Block 05"
          },
          "type": "rect",
          "x0": 5.019999999552965,
          "x1": 8.58,
          "xref": "x",
          "y0": 3.419999999925494,
          "y1": 4.65,
          "yref": "y"
         },
         {
          "fillcolor": "#9dd1eb",
          "label": {
           "text": "Block 06"
          },
          "type": "rect",
          "x0": 5.019999999552965,
          "x1": 8.58,
          "xref": "x",
          "y0": 0,
          "y1": 3.42,
          "yref": "y"
         },
         {
          "fillcolor": "#9dd1eb",
          "label": {
           "text": "Block 07"
          },
          "type": "rect",
          "x0": 3.2199999997392297,
          "x1": 5.02,
          "xref": "x",
          "y0": 2.419999999925494,
          "y1": 4.2,
          "yref": "y"
         },
         {
          "fillcolor": "#9dd1eb",
          "label": {
           "text": "Block 08"
          },
          "type": "rect",
          "x0": 8.579999999608845,
          "x1": 10.71,
          "xref": "x",
          "y0": 0,
          "y1": 2.61,
          "yref": "y"
         },
         {
          "fillcolor": "#9dd1eb",
          "label": {
           "text": "Block 09"
          },
          "type": "rect",
          "x0": 0,
          "x1": 3.22,
          "xref": "x",
          "y0": 0,
          "y1": 3.15,
          "yref": "y"
         },
         {
          "fillcolor": "#9dd1eb",
          "label": {
           "text": "Block 010"
          },
          "type": "rect",
          "x0": 3.2199999997392297,
          "x1": 5.02,
          "xref": "x",
          "y0": 4.199999999720603,
          "y1": 5.95,
          "yref": "y"
         },
         {
          "fillcolor": "#a32c54",
          "label": {
           "font": {
            "color": "#a32c54",
            "size": 9
           },
           "text": "Window"
          },
          "line": {
           "color": "#a32c54",
           "width": 3
          },
          "type": "line",
          "x0": 1.2500000000000002,
          "x1": 1.9700000000000002,
          "xref": "x",
          "y0": 5.95,
          "y1": 5.95,
          "yref": "y"
         },
         {
          "fillcolor": "#a32c54",
          "label": {
           "font": {
            "color": "#a32c54",
            "size": 9
           },
           "text": "Door"
          },
          "line": {
           "color": "#a32c54",
           "width": 3
          },
          "type": "line",
          "x0": 3.22,
          "x1": 3.22,
          "xref": "x",
          "y0": 3.2699999998137352,
          "y1": 4.079999999813735,
          "yref": "y"
         },
         {
          "fillcolor": "#a32c54",
          "label": {
           "font": {
            "color": "#a32c54",
            "size": 9
           },
           "text": "Window"
          },
          "line": {
           "color": "#a32c54",
           "width": 3
          },
          "type": "line",
          "x0": 3.7600000000000002,
          "x1": 4.48,
          "xref": "x",
          "y0": 0,
          "y1": 0,
          "yref": "y"
         },
         {
          "fillcolor": "#a32c54",
          "label": {
           "font": {
            "color": "#a32c54",
            "size": 9
           },
           "text": "Door"
          },
          "line": {
           "color": "#a32c54",
           "width": 3
          },
          "type": "line",
          "x0": 5.02,
          "x1": 5.02,
          "xref": "x",
          "y0": 0.5199999999627474,
          "y1": 1.8999999999627473,
          "yref": "y"
         },
         {
          "fillcolor": "#a32c54",
          "label": {
           "font": {
            "color": "#a32c54",
            "size": 9
           },
           "text": "Window"
          },
          "line": {
           "color": "#a32c54",
           "width": 3
          },
          "type": "line",
          "x0": 6.440000000000001,
          "x1": 7.160000000000001,
          "xref": "x",
          "y0": 5.95,
          "y1": 5.95,
          "yref": "y"
         },
         {
          "fillcolor": "#a32c54",
          "label": {
           "font": {
            "color": "#a32c54",
            "size": 9
           },
           "text": "Door"
          },
          "line": {
           "color": "#a32c54",
           "width": 3
          },
          "type": "line",
          "x0": 8.58,
          "x1": 8.58,
          "xref": "x",
          "y0": 4.919999999813736,
          "y1": 5.679999999813735,
          "yref": "y"
         },
         {
          "fillcolor": "#a32c54",
          "label": {
           "font": {
            "color": "#a32c54",
            "size": 9
           },
           "text": "Window"
          },
          "line": {
           "color": "#a32c54",
           "width": 3
          },
          "type": "line",
          "x0": 9.285,
          "x1": 10.005,
          "xref": "x",
          "y0": 5.95,
          "y1": 5.95,
          "yref": "y"
         },
         {
          "fillcolor": "#a32c54",
          "label": {
           "font": {
            "color": "#a32c54",
            "size": 9
           },
           "text": "Door"
          },
          "line": {
           "color": "#a32c54",
           "width": 3
          },
          "type": "line",
          "x0": 9.239999999785796,
          "x1": 10.049999999785797,
          "xref": "x",
          "y0": 3.21,
          "y1": 3.21,
          "yref": "y"
         },
         {
          "fillcolor": "#a32c54",
          "label": {
           "font": {
            "color": "#a32c54",
            "size": 9
           },
           "text": "Door"
          },
          "line": {
           "color": "#a32c54",
           "width": 3
          },
          "type": "line",
          "x0": 5.02,
          "x1": 5.02,
          "xref": "x",
          "y0": 3.429999999823049,
          "y1": 4.189999999823049,
          "yref": "y"
         },
         {
          "fillcolor": "#a32c54",
          "label": {
           "font": {
            "color": "#a32c54",
            "size": 9
           },
           "text": "Window"
          },
          "line": {
           "color": "#a32c54",
           "width": 3
          },
          "type": "line",
          "x0": 6.439999999999999,
          "x1": 7.159999999999998,
          "xref": "x",
          "y0": 0,
          "y1": 0,
          "yref": "y"
         },
         {
          "fillcolor": "#a32c54",
          "label": {
           "font": {
            "color": "#a32c54",
            "size": 9
           },
           "text": "Door"
          },
          "line": {
           "color": "#a32c54",
           "width": 3
          },
          "type": "line",
          "x0": 5.02,
          "x1": 5.02,
          "xref": "x",
          "y0": 2.5149999999254944,
          "y1": 3.3249999999254944,
          "yref": "y"
         },
         {
          "fillcolor": "#a32c54",
          "label": {
           "font": {
            "color": "#a32c54",
            "size": 9
           },
           "text": "Door"
          },
          "line": {
           "color": "#a32c54",
           "width": 3
          },
          "type": "line",
          "x0": 8.58,
          "x1": 8.58,
          "xref": "x",
          "y0": 0.8999999999348075,
          "y1": 1.7099999999348074,
          "yref": "y"
         },
         {
          "fillcolor": "#a32c54",
          "label": {
           "font": {
            "color": "#a32c54",
            "size": 9
           },
           "text": "Door"
          },
          "line": {
           "color": "#a32c54",
           "width": 3
          },
          "type": "line",
          "x0": 3.7149999996460976,
          "x1": 4.524999999646098,
          "xref": "x",
          "y0": 4.2,
          "y1": 4.2,
          "yref": "y"
         },
         {
          "fillcolor": "#a32c54",
          "label": {
           "font": {
            "color": "#a32c54",
            "size": 9
           },
           "text": "Window"
          },
          "line": {
           "color": "#a32c54",
           "width": 3
          },
          "type": "line",
          "x0": 9.285,
          "x1": 10.005,
          "xref": "x",
          "y0": 0,
          "y1": 0,
          "yref": "y"
         },
         {
          "fillcolor": "#a32c54",
          "label": {
           "font": {
            "color": "#a32c54",
            "size": 9
           },
           "text": "Window"
          },
          "line": {
           "color": "#a32c54",
           "width": 3
          },
          "type": "line",
          "x0": 1.25,
          "x1": 1.97,
          "xref": "x",
          "y0": 0,
          "y1": 0,
          "yref": "y"
         },
         {
          "fillcolor": "#a32c54",
          "label": {
           "font": {
            "color": "#a32c54",
            "size": 9
           },
           "text": "Window"
          },
          "line": {
           "color": "#a32c54",
           "width": 3
          },
          "type": "line",
          "x0": 3.76,
          "x1": 4.4799999999999995,
          "xref": "x",
          "y0": 5.95,
          "y1": 5.95,
          "yref": "y"
         }
        ],
        "template": {
         "data": {
          "bar": [
           {
            "error_x": {
             "color": "#2a3f5f"
            },
            "error_y": {
             "color": "#2a3f5f"
            },
            "marker": {
             "line": {
              "color": "#E5ECF6",
              "width": 0.5
             },
             "pattern": {
              "fillmode": "overlay",
              "size": 10,
              "solidity": 0.2
             }
            },
            "type": "bar"
           }
          ],
          "barpolar": [
           {
            "marker": {
             "line": {
              "color": "#E5ECF6",
              "width": 0.5
             },
             "pattern": {
              "fillmode": "overlay",
              "size": 10,
              "solidity": 0.2
             }
            },
            "type": "barpolar"
           }
          ],
          "carpet": [
           {
            "aaxis": {
             "endlinecolor": "#2a3f5f",
             "gridcolor": "white",
             "linecolor": "white",
             "minorgridcolor": "white",
             "startlinecolor": "#2a3f5f"
            },
            "baxis": {
             "endlinecolor": "#2a3f5f",
             "gridcolor": "white",
             "linecolor": "white",
             "minorgridcolor": "white",
             "startlinecolor": "#2a3f5f"
            },
            "type": "carpet"
           }
          ],
          "choropleth": [
           {
            "colorbar": {
             "outlinewidth": 0,
             "ticks": ""
            },
            "type": "choropleth"
           }
          ],
          "contour": [
           {
            "colorbar": {
             "outlinewidth": 0,
             "ticks": ""
            },
            "colorscale": [
             [
              0,
              "#0d0887"
             ],
             [
              0.1111111111111111,
              "#46039f"
             ],
             [
              0.2222222222222222,
              "#7201a8"
             ],
             [
              0.3333333333333333,
              "#9c179e"
             ],
             [
              0.4444444444444444,
              "#bd3786"
             ],
             [
              0.5555555555555556,
              "#d8576b"
             ],
             [
              0.6666666666666666,
              "#ed7953"
             ],
             [
              0.7777777777777778,
              "#fb9f3a"
             ],
             [
              0.8888888888888888,
              "#fdca26"
             ],
             [
              1,
              "#f0f921"
             ]
            ],
            "type": "contour"
           }
          ],
          "contourcarpet": [
           {
            "colorbar": {
             "outlinewidth": 0,
             "ticks": ""
            },
            "type": "contourcarpet"
           }
          ],
          "heatmap": [
           {
            "colorbar": {
             "outlinewidth": 0,
             "ticks": ""
            },
            "colorscale": [
             [
              0,
              "#0d0887"
             ],
             [
              0.1111111111111111,
              "#46039f"
             ],
             [
              0.2222222222222222,
              "#7201a8"
             ],
             [
              0.3333333333333333,
              "#9c179e"
             ],
             [
              0.4444444444444444,
              "#bd3786"
             ],
             [
              0.5555555555555556,
              "#d8576b"
             ],
             [
              0.6666666666666666,
              "#ed7953"
             ],
             [
              0.7777777777777778,
              "#fb9f3a"
             ],
             [
              0.8888888888888888,
              "#fdca26"
             ],
             [
              1,
              "#f0f921"
             ]
            ],
            "type": "heatmap"
           }
          ],
          "heatmapgl": [
           {
            "colorbar": {
             "outlinewidth": 0,
             "ticks": ""
            },
            "colorscale": [
             [
              0,
              "#0d0887"
             ],
             [
              0.1111111111111111,
              "#46039f"
             ],
             [
              0.2222222222222222,
              "#7201a8"
             ],
             [
              0.3333333333333333,
              "#9c179e"
             ],
             [
              0.4444444444444444,
              "#bd3786"
             ],
             [
              0.5555555555555556,
              "#d8576b"
             ],
             [
              0.6666666666666666,
              "#ed7953"
             ],
             [
              0.7777777777777778,
              "#fb9f3a"
             ],
             [
              0.8888888888888888,
              "#fdca26"
             ],
             [
              1,
              "#f0f921"
             ]
            ],
            "type": "heatmapgl"
           }
          ],
          "histogram": [
           {
            "marker": {
             "pattern": {
              "fillmode": "overlay",
              "size": 10,
              "solidity": 0.2
             }
            },
            "type": "histogram"
           }
          ],
          "histogram2d": [
           {
            "colorbar": {
             "outlinewidth": 0,
             "ticks": ""
            },
            "colorscale": [
             [
              0,
              "#0d0887"
             ],
             [
              0.1111111111111111,
              "#46039f"
             ],
             [
              0.2222222222222222,
              "#7201a8"
             ],
             [
              0.3333333333333333,
              "#9c179e"
             ],
             [
              0.4444444444444444,
              "#bd3786"
             ],
             [
              0.5555555555555556,
              "#d8576b"
             ],
             [
              0.6666666666666666,
              "#ed7953"
             ],
             [
              0.7777777777777778,
              "#fb9f3a"
             ],
             [
              0.8888888888888888,
              "#fdca26"
             ],
             [
              1,
              "#f0f921"
             ]
            ],
            "type": "histogram2d"
           }
          ],
          "histogram2dcontour": [
           {
            "colorbar": {
             "outlinewidth": 0,
             "ticks": ""
            },
            "colorscale": [
             [
              0,
              "#0d0887"
             ],
             [
              0.1111111111111111,
              "#46039f"
             ],
             [
              0.2222222222222222,
              "#7201a8"
             ],
             [
              0.3333333333333333,
              "#9c179e"
             ],
             [
              0.4444444444444444,
              "#bd3786"
             ],
             [
              0.5555555555555556,
              "#d8576b"
             ],
             [
              0.6666666666666666,
              "#ed7953"
             ],
             [
              0.7777777777777778,
              "#fb9f3a"
             ],
             [
              0.8888888888888888,
              "#fdca26"
             ],
             [
              1,
              "#f0f921"
             ]
            ],
            "type": "histogram2dcontour"
           }
          ],
          "mesh3d": [
           {
            "colorbar": {
             "outlinewidth": 0,
             "ticks": ""
            },
            "type": "mesh3d"
           }
          ],
          "parcoords": [
           {
            "line": {
             "colorbar": {
              "outlinewidth": 0,
              "ticks": ""
             }
            },
            "type": "parcoords"
           }
          ],
          "pie": [
           {
            "automargin": true,
            "type": "pie"
           }
          ],
          "scatter": [
           {
            "fillpattern": {
             "fillmode": "overlay",
             "size": 10,
             "solidity": 0.2
            },
            "type": "scatter"
           }
          ],
          "scatter3d": [
           {
            "line": {
             "colorbar": {
              "outlinewidth": 0,
              "ticks": ""
             }
            },
            "marker": {
             "colorbar": {
              "outlinewidth": 0,
              "ticks": ""
             }
            },
            "type": "scatter3d"
           }
          ],
          "scattercarpet": [
           {
            "marker": {
             "colorbar": {
              "outlinewidth": 0,
              "ticks": ""
             }
            },
            "type": "scattercarpet"
           }
          ],
          "scattergeo": [
           {
            "marker": {
             "colorbar": {
              "outlinewidth": 0,
              "ticks": ""
             }
            },
            "type": "scattergeo"
           }
          ],
          "scattergl": [
           {
            "marker": {
             "colorbar": {
              "outlinewidth": 0,
              "ticks": ""
             }
            },
            "type": "scattergl"
           }
          ],
          "scattermapbox": [
           {
            "marker": {
             "colorbar": {
              "outlinewidth": 0,
              "ticks": ""
             }
            },
            "type": "scattermapbox"
           }
          ],
          "scatterpolar": [
           {
            "marker": {
             "colorbar": {
              "outlinewidth": 0,
              "ticks": ""
             }
            },
            "type": "scatterpolar"
           }
          ],
          "scatterpolargl": [
           {
            "marker": {
             "colorbar": {
              "outlinewidth": 0,
              "ticks": ""
             }
            },
            "type": "scatterpolargl"
           }
          ],
          "scatterternary": [
           {
            "marker": {
             "colorbar": {
              "outlinewidth": 0,
              "ticks": ""
             }
            },
            "type": "scatterternary"
           }
          ],
          "surface": [
           {
            "colorbar": {
             "outlinewidth": 0,
             "ticks": ""
            },
            "colorscale": [
             [
              0,
              "#0d0887"
             ],
             [
              0.1111111111111111,
              "#46039f"
             ],
             [
              0.2222222222222222,
              "#7201a8"
             ],
             [
              0.3333333333333333,
              "#9c179e"
             ],
             [
              0.4444444444444444,
              "#bd3786"
             ],
             [
              0.5555555555555556,
              "#d8576b"
             ],
             [
              0.6666666666666666,
              "#ed7953"
             ],
             [
              0.7777777777777778,
              "#fb9f3a"
             ],
             [
              0.8888888888888888,
              "#fdca26"
             ],
             [
              1,
              "#f0f921"
             ]
            ],
            "type": "surface"
           }
          ],
          "table": [
           {
            "cells": {
             "fill": {
              "color": "#EBF0F8"
             },
             "line": {
              "color": "white"
             }
            },
            "header": {
             "fill": {
              "color": "#C8D4E3"
             },
             "line": {
              "color": "white"
             }
            },
            "type": "table"
           }
          ]
         },
         "layout": {
          "annotationdefaults": {
           "arrowcolor": "#2a3f5f",
           "arrowhead": 0,
           "arrowwidth": 1
          },
          "autotypenumbers": "strict",
          "coloraxis": {
           "colorbar": {
            "outlinewidth": 0,
            "ticks": ""
           }
          },
          "colorscale": {
           "diverging": [
            [
             0,
             "#8e0152"
            ],
            [
             0.1,
             "#c51b7d"
            ],
            [
             0.2,
             "#de77ae"
            ],
            [
             0.3,
             "#f1b6da"
            ],
            [
             0.4,
             "#fde0ef"
            ],
            [
             0.5,
             "#f7f7f7"
            ],
            [
             0.6,
             "#e6f5d0"
            ],
            [
             0.7,
             "#b8e186"
            ],
            [
             0.8,
             "#7fbc41"
            ],
            [
             0.9,
             "#4d9221"
            ],
            [
             1,
             "#276419"
            ]
           ],
           "sequential": [
            [
             0,
             "#0d0887"
            ],
            [
             0.1111111111111111,
             "#46039f"
            ],
            [
             0.2222222222222222,
             "#7201a8"
            ],
            [
             0.3333333333333333,
             "#9c179e"
            ],
            [
             0.4444444444444444,
             "#bd3786"
            ],
            [
             0.5555555555555556,
             "#d8576b"
            ],
            [
             0.6666666666666666,
             "#ed7953"
            ],
            [
             0.7777777777777778,
             "#fb9f3a"
            ],
            [
             0.8888888888888888,
             "#fdca26"
            ],
            [
             1,
             "#f0f921"
            ]
           ],
           "sequentialminus": [
            [
             0,
             "#0d0887"
            ],
            [
             0.1111111111111111,
             "#46039f"
            ],
            [
             0.2222222222222222,
             "#7201a8"
            ],
            [
             0.3333333333333333,
             "#9c179e"
            ],
            [
             0.4444444444444444,
             "#bd3786"
            ],
            [
             0.5555555555555556,
             "#d8576b"
            ],
            [
             0.6666666666666666,
             "#ed7953"
            ],
            [
             0.7777777777777778,
             "#fb9f3a"
            ],
            [
             0.8888888888888888,
             "#fdca26"
            ],
            [
             1,
             "#f0f921"
            ]
           ]
          },
          "colorway": [
           "#636efa",
           "#EF553B",
           "#00cc96",
           "#ab63fa",
           "#FFA15A",
           "#19d3f3",
           "#FF6692",
           "#B6E880",
           "#FF97FF",
           "#FECB52"
          ],
          "font": {
           "color": "#2a3f5f"
          },
          "geo": {
           "bgcolor": "white",
           "lakecolor": "white",
           "landcolor": "#E5ECF6",
           "showlakes": true,
           "showland": true,
           "subunitcolor": "white"
          },
          "hoverlabel": {
           "align": "left"
          },
          "hovermode": "closest",
          "mapbox": {
           "style": "light"
          },
          "paper_bgcolor": "white",
          "plot_bgcolor": "#E5ECF6",
          "polar": {
           "angularaxis": {
            "gridcolor": "white",
            "linecolor": "white",
            "ticks": ""
           },
           "bgcolor": "#E5ECF6",
           "radialaxis": {
            "gridcolor": "white",
            "linecolor": "white",
            "ticks": ""
           }
          },
          "scene": {
           "xaxis": {
            "backgroundcolor": "#E5ECF6",
            "gridcolor": "white",
            "gridwidth": 2,
            "linecolor": "white",
            "showbackground": true,
            "ticks": "",
            "zerolinecolor": "white"
           },
           "yaxis": {
            "backgroundcolor": "#E5ECF6",
            "gridcolor": "white",
            "gridwidth": 2,
            "linecolor": "white",
            "showbackground": true,
            "ticks": "",
            "zerolinecolor": "white"
           },
           "zaxis": {
            "backgroundcolor": "#E5ECF6",
            "gridcolor": "white",
            "gridwidth": 2,
            "linecolor": "white",
            "showbackground": true,
            "ticks": "",
            "zerolinecolor": "white"
           }
          },
          "shapedefaults": {
           "line": {
            "color": "#2a3f5f"
           }
          },
          "ternary": {
           "aaxis": {
            "gridcolor": "white",
            "linecolor": "white",
            "ticks": ""
           },
           "baxis": {
            "gridcolor": "white",
            "linecolor": "white",
            "ticks": ""
           },
           "bgcolor": "#E5ECF6",
           "caxis": {
            "gridcolor": "white",
            "linecolor": "white",
            "ticks": ""
           }
          },
          "title": {
           "x": 0.05
          },
          "xaxis": {
           "automargin": true,
           "gridcolor": "white",
           "linecolor": "white",
           "ticks": "",
           "title": {
            "standoff": 15
           },
           "zerolinecolor": "white",
           "zerolinewidth": 2
          },
          "yaxis": {
           "automargin": true,
           "gridcolor": "white",
           "linecolor": "white",
           "ticks": "",
           "title": {
            "standoff": 15
           },
           "zerolinecolor": "white",
           "zerolinewidth": 2
          }
         }
        },
        "title": {
         "text": "tests/test21_amber"
        },
        "width": 517.4371859296483,
        "xaxis": {
         "range": [
          -2,
          12.71
         ]
        },
        "yaxis": {
         "range": [
          -2,
          7.95
         ]
        }
       }
      }
     },
     "metadata": {},
     "output_type": "display_data"
    }
   ],
   "source": [
    "ez.show_base_plot()"
   ]
  }
 ],
 "metadata": {
  "kernelspec": {
   "display_name": "gqenv",
   "language": "python",
   "name": "python3"
  },
  "language_info": {
   "codemirror_mode": {
    "name": "ipython",
    "version": 3
   },
   "file_extension": ".py",
   "mimetype": "text/x-python",
   "name": "python",
   "nbconvert_exporter": "python",
   "pygments_lexer": "ipython3",
   "version": "3.10.8"
  }
 },
 "nbformat": 4,
 "nbformat_minor": 2
}
