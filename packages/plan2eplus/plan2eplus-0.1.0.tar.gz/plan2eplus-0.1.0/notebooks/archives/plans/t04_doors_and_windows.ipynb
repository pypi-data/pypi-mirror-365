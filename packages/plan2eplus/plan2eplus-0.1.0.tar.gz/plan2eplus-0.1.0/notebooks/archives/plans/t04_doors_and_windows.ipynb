{
 "cells": [
  {
   "cell_type": "code",
   "execution_count": 1,
   "metadata": {},
   "outputs": [],
   "source": [
    "import sys\n",
    "sys.path.append(\"/Users/julietnwagwuume-ezeoke/_UILCode/gqe-phd/geomeppy/_scripts\")\n",
    "\n",
    "from gplan.subsurface_translator import SubsurfaceTranslator\n",
    "from gplan.attribute_creator import AttributeCreator\n"
   ]
  },
  {
   "cell_type": "code",
   "execution_count": 2,
   "metadata": {},
   "outputs": [],
   "source": [
    "ac = AttributeCreator()\n",
    "ac.get_data()\n",
    "ac.get_height()"
   ]
  },
  {
   "cell_type": "code",
   "execution_count": 3,
   "metadata": {},
   "outputs": [
    {
     "data": {
      "text/plain": [
       "[2.61]"
      ]
     },
     "execution_count": 3,
     "metadata": {},
     "output_type": "execute_result"
    }
   ],
   "source": [
    "ac.heights"
   ]
  },
  {
   "cell_type": "code",
   "execution_count": 2,
   "metadata": {},
   "outputs": [],
   "source": [
    "st = SubsurfaceTranslator(\"amber_a\")\n",
    "st.run()"
   ]
  },
  {
   "cell_type": "code",
   "execution_count": 6,
   "metadata": {},
   "outputs": [
    {
     "data": {
      "text/plain": [
       "[SSP(pair=(0, 7), type=DOOR, dims=(0.81, 2.03),\n",
       " SSP(pair=(0, <WallNormal.NORTH: 0.0>), type=WINDOW, dims=(0.72, 2.13),\n",
       " SSP(pair=(1, 6), type=DOOR, dims=(1.38, 2.03),\n",
       " SSP(pair=(1, <WallNormal.SOUTH: 180.0>), type=WINDOW, dims=(0.72, 1.22),\n",
       " SSP(pair=(2, 3), type=DOOR, dims=(0.76, 2.03),\n",
       " SSP(pair=(2, <WallNormal.NORTH: 0.0>), type=WINDOW, dims=(0.72, 1.51),\n",
       " SSP(pair=(3, 4), type=DOOR, dims=(0.81, 2.03),\n",
       " SSP(pair=(3, 6), type=DOOR, dims=(0.81, 2.03),\n",
       " SSP(pair=(3, <WallNormal.NORTH: 0.0>), type=WINDOW, dims=(0.72, 1.51),\n",
       " SSP(pair=(5, 7), type=DOOR, dims=(0.76, 2.03),\n",
       " SSP(pair=(6, 7), type=DOOR, dims=(0.81, 2.03),\n",
       " SSP(pair=(6, 8), type=DOOR, dims=(0.81, 2.03),\n",
       " SSP(pair=(6, <WallNormal.SOUTH: 180.0>), type=WINDOW, dims=(0.72, 2.13),\n",
       " SSP(pair=(7, 9), type=DOOR, dims=(0.81, 2.03),\n",
       " SSP(pair=(7, 10), type=DOOR, dims=(0.81, 2.03),\n",
       " SSP(pair=(8, <WallNormal.SOUTH: 180.0>), type=WINDOW, dims=(0.72, 2.13),\n",
       " SSP(pair=(9, <WallNormal.SOUTH: 180.0>), type=WINDOW, dims=(0.72, 2.13),\n",
       " SSP(pair=(10, <WallNormal.NORTH: 0.0>), type=WINDOW, dims=(0.72, 2.13)]"
      ]
     },
     "execution_count": 6,
     "metadata": {},
     "output_type": "execute_result"
    }
   ],
   "source": [
    "st.pairs"
   ]
  },
  {
   "cell_type": "code",
   "execution_count": 4,
   "metadata": {},
   "outputs": [
    {
     "data": {
      "text/plain": [
       "[SSP(pair=(0, 7), type=DOOR, dims=(0.81, 2.03),\n",
       " SSP(pair=(0, <WallNormal.NORTH: 0.0>), type=WINDOW, dims=(0.72, 2.13),\n",
       " SSP(pair=(1, 6), type=DOOR, dims=(1.38, 2.03),\n",
       " SSP(pair=(1, <WallNormal.SOUTH: 180.0>), type=WINDOW, dims=(0.72, 1.22),\n",
       " SSP(pair=(2, 3), type=DOOR, dims=(0.76, 2.03),\n",
       " SSP(pair=(2, <WallNormal.NORTH: 0.0>), type=WINDOW, dims=(0.72, 1.51),\n",
       " SSP(pair=(3, 4), type=DOOR, dims=(0.81, 2.03),\n",
       " SSP(pair=(3, 6), type=DOOR, dims=(0.81, 2.03),\n",
       " SSP(pair=(3, <WallNormal.NORTH: 0.0>), type=WINDOW, dims=(0.72, 1.51),\n",
       " SSP(pair=(5, 7), type=DOOR, dims=(0.76, 2.03),\n",
       " SSP(pair=(6, 7), type=DOOR, dims=(0.81, 2.03),\n",
       " SSP(pair=(6, 8), type=DOOR, dims=(0.81, 2.03),\n",
       " SSP(pair=(6, <WallNormal.SOUTH: 180.0>), type=WINDOW, dims=(0.72, 2.13),\n",
       " SSP(pair=(7, 9), type=DOOR, dims=(0.81, 2.03),\n",
       " SSP(pair=(7, 10), type=DOOR, dims=(0.81, 2.03),\n",
       " SSP(pair=(8, <WallNormal.SOUTH: 180.0>), type=WINDOW, dims=(0.72, 2.13),\n",
       " SSP(pair=(9, <WallNormal.SOUTH: 180.0>), type=WINDOW, dims=(0.72, 2.13),\n",
       " SSP(pair=(10, <WallNormal.NORTH: 0.0>), type=WINDOW, dims=(0.72, 2.13)]"
      ]
     },
     "execution_count": 4,
     "metadata": {},
     "output_type": "execute_result"
    }
   ],
   "source": [
    "st.pairs"
   ]
  },
  {
   "cell_type": "code",
   "execution_count": 5,
   "metadata": {},
   "outputs": [
    {
     "data": {
      "text/plain": [
       "Dimensions(width=0.81, height=2.03)"
      ]
     },
     "execution_count": 5,
     "metadata": {},
     "output_type": "execute_result"
    }
   ],
   "source": [
    "st.pairs[0].attrs.dimensions"
   ]
  }
 ],
 "metadata": {
  "kernelspec": {
   "display_name": "gqenv",
   "language": "python",
   "name": "python3"
  },
  "language_info": {
   "codemirror_mode": {
    "name": "ipython",
    "version": 3
   },
   "file_extension": ".py",
   "mimetype": "text/x-python",
   "name": "python",
   "nbconvert_exporter": "python",
   "pygments_lexer": "ipython3",
   "version": "3.10.14"
  }
 },
 "nbformat": 4,
 "nbformat_minor": 2
}
