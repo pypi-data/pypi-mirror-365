{
 "cells": [
  {
   "cell_type": "code",
   "execution_count": 2,
   "metadata": {},
   "outputs": [],
   "source": [
    "import sys\n",
    "sys.path.append(\"/Users/julietnwagwuume-ezeoke/_UILCode/gqe-phd/geomeppy/_scripts\")\n",
    "\n",
    "import json\n",
    "from pprint import pprint\n",
    "\n",
    "\n",
    "from gplan.convert import GPLANtoGeomeppyBlock\n",
    "\n",
    "from case_edits.epcase import EneryPlusCaseEditor\n",
    "from case_edits.methods.outputs import add_output_variable, request_json, request_sql\n",
    "\n",
    "from geometry.geometry_parser import GeometryParser\n",
    "\n",
    "from datetime import time\n",
    "from outputs.zone_space_time import SpaceTimePlot\n",
    "from outputs.zone_time import TimePlot"
   ]
  },
  {
   "cell_type": "code",
   "execution_count": 3,
   "metadata": {},
   "outputs": [],
   "source": [
    "GPLAN_PATH = \"GPLANs/4nodeRectFP.json\"\n",
    "with open(GPLAN_PATH) as f:\n",
    "    gplan_data = json.load(f)\n",
    "    \n"
   ]
  },
  {
   "cell_type": "code",
   "execution_count": 4,
   "metadata": {},
   "outputs": [
    {
     "data": {
      "text/plain": [
       "{'name': '01',\n",
       " 'coordinates': [(40, 40), (40, 80), (0, 80), (0, 40)],\n",
       " 'height': 10}"
      ]
     },
     "execution_count": 4,
     "metadata": {},
     "output_type": "execute_result"
    }
   ],
   "source": [
    "fp1 = gplan_data[6]\n",
    "gg = GPLANtoGeomeppyBlock(fp1)\n",
    "gg.blocks[0]"
   ]
  },
  {
   "cell_type": "code",
   "execution_count": 5,
   "metadata": {},
   "outputs": [],
   "source": [
    "e = EneryPlusCaseEditor(\"gplan/t01\")"
   ]
  },
  {
   "cell_type": "code",
   "execution_count": 6,
   "metadata": {},
   "outputs": [],
   "source": [
    "for block in gg.blocks:\n",
    "    e.idf.add_block(**block)"
   ]
  },
  {
   "cell_type": "code",
   "execution_count": 7,
   "metadata": {},
   "outputs": [
    {
     "name": "stdout",
     "output_type": "stream",
     "text": [
      "Added 4 walls \n",
      "Added 4 walls \n",
      "Added 4 walls \n",
      "Added 4 walls \n",
      "Added 4 walls \n",
      "Added 4 walls \n",
      "Added 4 walls \n",
      "Added 4 walls \n"
     ]
    },
    {
     "ename": "AttributeError",
     "evalue": "'Wall' object has no attribute 'name2'",
     "output_type": "error",
     "traceback": [
      "\u001b[0;31m---------------------------------------------------------------------------\u001b[0m",
      "\u001b[0;31mAttributeError\u001b[0m                            Traceback (most recent call last)",
      "Cell \u001b[0;32mIn[7], line 3\u001b[0m\n\u001b[1;32m      1\u001b[0m g \u001b[38;5;241m=\u001b[39m GeometryParser(e\u001b[38;5;241m.\u001b[39midf)\n\u001b[1;32m      2\u001b[0m g\u001b[38;5;241m.\u001b[39mget_zones()\n\u001b[0;32m----> 3\u001b[0m \u001b[43mg\u001b[49m\u001b[38;5;241;43m.\u001b[39;49m\u001b[43mplot_zones\u001b[49m\u001b[43m(\u001b[49m\u001b[43m)\u001b[49m\n",
      "File \u001b[0;32m~/_UILCode/gqe-phd/geomeppy/_scripts/geometry/geometry_parser.py:31\u001b[0m, in \u001b[0;36mGeometryParser.plot_zones\u001b[0;34m(self)\u001b[0m\n\u001b[1;32m     30\u001b[0m \u001b[38;5;28;01mdef\u001b[39;00m \u001b[38;5;21mplot_zones\u001b[39m(\u001b[38;5;28mself\u001b[39m):\n\u001b[0;32m---> 31\u001b[0m     \u001b[38;5;28;43mself\u001b[39;49m\u001b[38;5;241;43m.\u001b[39;49m\u001b[43mprepare_to_plot_zones\u001b[49m\u001b[43m(\u001b[49m\u001b[43m)\u001b[49m\n\u001b[1;32m     33\u001b[0m     \u001b[38;5;28mself\u001b[39m\u001b[38;5;241m.\u001b[39mfig \u001b[38;5;241m=\u001b[39m go\u001b[38;5;241m.\u001b[39mFigure()\n\u001b[1;32m     34\u001b[0m     \u001b[38;5;28;01mfor\u001b[39;00m t \u001b[38;5;129;01min\u001b[39;00m \u001b[38;5;28mself\u001b[39m\u001b[38;5;241m.\u001b[39mtraces:\n",
      "File \u001b[0;32m~/_UILCode/gqe-phd/geomeppy/_scripts/geometry/geometry_parser.py:49\u001b[0m, in \u001b[0;36mGeometryParser.prepare_to_plot_zones\u001b[0;34m(self)\u001b[0m\n\u001b[1;32m     46\u001b[0m \u001b[38;5;28mself\u001b[39m\u001b[38;5;241m.\u001b[39mtraces\u001b[38;5;241m.\u001b[39mappend(trace)\n\u001b[1;32m     48\u001b[0m \u001b[38;5;28;01mfor\u001b[39;00m wall \u001b[38;5;129;01min\u001b[39;00m zone\u001b[38;5;241m.\u001b[39mwall_list:\n\u001b[0;32m---> 49\u001b[0m     trace \u001b[38;5;241m=\u001b[39m plot_line_string(wall\u001b[38;5;241m.\u001b[39mline, color\u001b[38;5;241m=\u001b[39mcolor, label\u001b[38;5;241m=\u001b[39m\u001b[38;5;124mf\u001b[39m\u001b[38;5;124m\"\u001b[39m\u001b[38;5;132;01m{\u001b[39;00m\u001b[43mwall\u001b[49m\u001b[38;5;241;43m.\u001b[39;49m\u001b[43mname2\u001b[49m\u001b[38;5;132;01m}\u001b[39;00m\u001b[38;5;124m\"\u001b[39m)\n\u001b[1;32m     50\u001b[0m     \u001b[38;5;28mself\u001b[39m\u001b[38;5;241m.\u001b[39mtraces\u001b[38;5;241m.\u001b[39mappend(trace)\n",
      "\u001b[0;31mAttributeError\u001b[0m: 'Wall' object has no attribute 'name2'"
     ]
    }
   ],
   "source": [
    "g = GeometryParser(e.idf)\n",
    "g.get_zones()\n",
    "g.plot_zones()"
   ]
  },
  {
   "cell_type": "code",
   "execution_count": 8,
   "metadata": {},
   "outputs": [],
   "source": [
    "# e.idf = add_output_variable(e.idf,\"Zone Mean Air Temperature\" )\n",
    "# e.idf = request_sql(e.idf)\n",
    "# e.idf = request_json(e.idf)\n",
    "\n"
   ]
  },
  {
   "cell_type": "code",
   "execution_count": 9,
   "metadata": {},
   "outputs": [
    {
     "name": "stdout",
     "output_type": "stream",
     "text": [
      "\n",
      "/Applications/EnergyPlus-22-2-0/energyplus --weather /Users/julietnwagwuume-ezeoke/_UILCode/gqe-phd/geomeppy/weather/CA_PALO-ALTO-AP_724937S_20.epw --output-directory /Users/julietnwagwuume-ezeoke/_UILCode/gqe-phd/geomeppy/cases/gplan/t01/results --idd /Applications/EnergyPlus-22-2-0/Energy+.idd /Users/julietnwagwuume-ezeoke/_UILCode/gqe-phd/geomeppy/cases/base/01example/Minimal_15e427.idf\n",
      "\n",
      "EnergyPlus Starting\n",
      "EnergyPlus, Version 22.2.0-c249759bad, YMD=2024.06.12 20:02\n",
      "Adjusting Air System Sizing\n",
      "Adjusting Standard 62.1 Ventilation Sizing\n",
      "Initializing Simulation\n",
      "Reporting Surfaces\n",
      "Beginning Primary Simulation\n",
      "Initializing New Environment Parameters\n",
      "Warming up {1}\n",
      "Warming up {2}\n",
      "Warming up {3}\n",
      "Warming up {4}\n",
      "Warming up {5}\n",
      "Warming up {6}\n",
      "Starting Simulation at 12/21 for DENVER_STAPLETON ANN HTG 99.6% CONDNS DB\n",
      "Initializing New Environment Parameters\n",
      "Warming up {1}\n",
      "Warming up {2}\n",
      "Warming up {3}\n",
      "Warming up {4}\n",
      "Warming up {5}\n",
      "Warming up {6}\n",
      "Starting Simulation at 07/21 for DENVER_STAPLETON ANN CLG .4% CONDNS DB=>MWB\n",
      "Writing tabular output file results using HTML format.\n",
      "Writing final SQL reports\n",
      "EnergyPlus Run Time=00hr 00min  0.34sec\n"
     ]
    },
    {
     "name": "stderr",
     "output_type": "stream",
     "text": [
      "EnergyPlus Completed Successfully.\n"
     ]
    }
   ],
   "source": [
    "# e.save_idf()\n",
    "# e.prepare_to_run()\n",
    "# e.run_idf()"
   ]
  },
  {
   "cell_type": "code",
   "execution_count": null,
   "metadata": {},
   "outputs": [
    {
     "data": {
      "application/vnd.plotly.v1+json": {
       "config": {
        "plotlyServerURL": "https://plotly.com"
       },
       "data": [
        {
         "line": {
          "color": "black",
          "width": 3
         },
         "marker": {
          "color": "black"
         },
         "mode": "markers+lines",
         "name": "Wall 0001",
         "type": "scatter",
         "x": [
          40,
          40
         ],
         "xaxis": "x",
         "y": [
          80,
          40
         ],
         "yaxis": "y"
        },
        {
         "line": {
          "color": "black",
          "width": 3
         },
         "marker": {
          "color": "black"
         },
         "mode": "markers+lines",
         "name": "Wall 0002",
         "type": "scatter",
         "x": [
          40,
          0
         ],
         "xaxis": "x",
         "y": [
          40,
          40
         ],
         "yaxis": "y"
        },
        {
         "line": {
          "color": "black",
          "width": 3
         },
         "marker": {
          "color": "black"
         },
         "mode": "markers+lines",
         "name": "Wall 0003",
         "type": "scatter",
         "x": [
          0,
          0
         ],
         "xaxis": "x",
         "y": [
          40,
          80
         ],
         "yaxis": "y"
        },
        {
         "line": {
          "color": "black",
          "width": 3
         },
         "marker": {
          "color": "black"
         },
         "mode": "markers+lines",
         "name": "Wall 0004",
         "type": "scatter",
         "x": [
          0,
          40
         ],
         "xaxis": "x",
         "y": [
          80,
          80
         ],
         "yaxis": "y"
        },
        {
         "line": {
          "color": "black",
          "width": 3
         },
         "marker": {
          "color": "black"
         },
         "mode": "markers+lines",
         "name": "Wall 0001",
         "type": "scatter",
         "x": [
          80,
          80
         ],
         "xaxis": "x",
         "y": [
          40,
          0
         ],
         "yaxis": "y"
        },
        {
         "line": {
          "color": "black",
          "width": 3
         },
         "marker": {
          "color": "black"
         },
         "mode": "markers+lines",
         "name": "Wall 0002",
         "type": "scatter",
         "x": [
          80,
          0
         ],
         "xaxis": "x",
         "y": [
          0,
          0
         ],
         "yaxis": "y"
        },
        {
         "line": {
          "color": "black",
          "width": 3
         },
         "marker": {
          "color": "black"
         },
         "mode": "markers+lines",
         "name": "Wall 0003",
         "type": "scatter",
         "x": [
          0,
          0
         ],
         "xaxis": "x",
         "y": [
          0,
          40
         ],
         "yaxis": "y"
        },
        {
         "line": {
          "color": "black",
          "width": 3
         },
         "marker": {
          "color": "black"
         },
         "mode": "markers+lines",
         "name": "Wall 0004",
         "type": "scatter",
         "x": [
          0,
          80
         ],
         "xaxis": "x",
         "y": [
          40,
          40
         ],
         "yaxis": "y"
        },
        {
         "line": {
          "color": "black",
          "width": 3
         },
         "marker": {
          "color": "black"
         },
         "mode": "markers+lines",
         "name": "Wall 0001",
         "type": "scatter",
         "x": [
          80,
          80
         ],
         "xaxis": "x",
         "y": [
          80,
          40
         ],
         "yaxis": "y"
        },
        {
         "line": {
          "color": "black",
          "width": 3
         },
         "marker": {
          "color": "black"
         },
         "mode": "markers+lines",
         "name": "Wall 0002",
         "type": "scatter",
         "x": [
          80,
          40
         ],
         "xaxis": "x",
         "y": [
          40,
          40
         ],
         "yaxis": "y"
        },
        {
         "line": {
          "color": "black",
          "width": 3
         },
         "marker": {
          "color": "black"
         },
         "mode": "markers+lines",
         "name": "Wall 0003",
         "type": "scatter",
         "x": [
          40,
          40
         ],
         "xaxis": "x",
         "y": [
          40,
          80
         ],
         "yaxis": "y"
        },
        {
         "line": {
          "color": "black",
          "width": 3
         },
         "marker": {
          "color": "black"
         },
         "mode": "markers+lines",
         "name": "Wall 0004",
         "type": "scatter",
         "x": [
          40,
          80
         ],
         "xaxis": "x",
         "y": [
          80,
          80
         ],
         "yaxis": "y"
        },
        {
         "line": {
          "color": "black",
          "width": 3
         },
         "marker": {
          "color": "black"
         },
         "mode": "markers+lines",
         "name": "Wall 0001",
         "type": "scatter",
         "x": [
          80,
          80
         ],
         "xaxis": "x",
         "y": [
          120,
          80
         ],
         "yaxis": "y"
        },
        {
         "line": {
          "color": "black",
          "width": 3
         },
         "marker": {
          "color": "black"
         },
         "mode": "markers+lines",
         "name": "Wall 0002",
         "type": "scatter",
         "x": [
          80,
          0
         ],
         "xaxis": "x",
         "y": [
          80,
          80
         ],
         "yaxis": "y"
        },
        {
         "line": {
          "color": "black",
          "width": 3
         },
         "marker": {
          "color": "black"
         },
         "mode": "markers+lines",
         "name": "Wall 0003",
         "type": "scatter",
         "x": [
          0,
          0
         ],
         "xaxis": "x",
         "y": [
          80,
          120
         ],
         "yaxis": "y"
        },
        {
         "line": {
          "color": "black",
          "width": 3
         },
         "marker": {
          "color": "black"
         },
         "mode": "markers+lines",
         "name": "Wall 0004",
         "type": "scatter",
         "x": [
          0,
          80
         ],
         "xaxis": "x",
         "y": [
          120,
          120
         ],
         "yaxis": "y"
        },
        {
         "line": {
          "color": "black",
          "width": 3
         },
         "marker": {
          "color": "black"
         },
         "mode": "markers+lines",
         "name": "Wall 0001",
         "type": "scatter",
         "x": [
          40,
          40
         ],
         "xaxis": "x2",
         "y": [
          80,
          40
         ],
         "yaxis": "y2"
        },
        {
         "line": {
          "color": "black",
          "width": 3
         },
         "marker": {
          "color": "black"
         },
         "mode": "markers+lines",
         "name": "Wall 0002",
         "type": "scatter",
         "x": [
          40,
          0
         ],
         "xaxis": "x2",
         "y": [
          40,
          40
         ],
         "yaxis": "y2"
        },
        {
         "line": {
          "color": "black",
          "width": 3
         },
         "marker": {
          "color": "black"
         },
         "mode": "markers+lines",
         "name": "Wall 0003",
         "type": "scatter",
         "x": [
          0,
          0
         ],
         "xaxis": "x2",
         "y": [
          40,
          80
         ],
         "yaxis": "y2"
        },
        {
         "line": {
          "color": "black",
          "width": 3
         },
         "marker": {
          "color": "black"
         },
         "mode": "markers+lines",
         "name": "Wall 0004",
         "type": "scatter",
         "x": [
          0,
          40
         ],
         "xaxis": "x2",
         "y": [
          80,
          80
         ],
         "yaxis": "y2"
        },
        {
         "line": {
          "color": "black",
          "width": 3
         },
         "marker": {
          "color": "black"
         },
         "mode": "markers+lines",
         "name": "Wall 0001",
         "type": "scatter",
         "x": [
          80,
          80
         ],
         "xaxis": "x2",
         "y": [
          40,
          0
         ],
         "yaxis": "y2"
        },
        {
         "line": {
          "color": "black",
          "width": 3
         },
         "marker": {
          "color": "black"
         },
         "mode": "markers+lines",
         "name": "Wall 0002",
         "type": "scatter",
         "x": [
          80,
          0
         ],
         "xaxis": "x2",
         "y": [
          0,
          0
         ],
         "yaxis": "y2"
        },
        {
         "line": {
          "color": "black",
          "width": 3
         },
         "marker": {
          "color": "black"
         },
         "mode": "markers+lines",
         "name": "Wall 0003",
         "type": "scatter",
         "x": [
          0,
          0
         ],
         "xaxis": "x2",
         "y": [
          0,
          40
         ],
         "yaxis": "y2"
        },
        {
         "line": {
          "color": "black",
          "width": 3
         },
         "marker": {
          "color": "black"
         },
         "mode": "markers+lines",
         "name": "Wall 0004",
         "type": "scatter",
         "x": [
          0,
          80
         ],
         "xaxis": "x2",
         "y": [
          40,
          40
         ],
         "yaxis": "y2"
        },
        {
         "line": {
          "color": "black",
          "width": 3
         },
         "marker": {
          "color": "black"
         },
         "mode": "markers+lines",
         "name": "Wall 0001",
         "type": "scatter",
         "x": [
          80,
          80
         ],
         "xaxis": "x2",
         "y": [
          80,
          40
         ],
         "yaxis": "y2"
        },
        {
         "line": {
          "color": "black",
          "width": 3
         },
         "marker": {
          "color": "black"
         },
         "mode": "markers+lines",
         "name": "Wall 0002",
         "type": "scatter",
         "x": [
          80,
          40
         ],
         "xaxis": "x2",
         "y": [
          40,
          40
         ],
         "yaxis": "y2"
        },
        {
         "line": {
          "color": "black",
          "width": 3
         },
         "marker": {
          "color": "black"
         },
         "mode": "markers+lines",
         "name": "Wall 0003",
         "type": "scatter",
         "x": [
          40,
          40
         ],
         "xaxis": "x2",
         "y": [
          40,
          80
         ],
         "yaxis": "y2"
        },
        {
         "line": {
          "color": "black",
          "width": 3
         },
         "marker": {
          "color": "black"
         },
         "mode": "markers+lines",
         "name": "Wall 0004",
         "type": "scatter",
         "x": [
          40,
          80
         ],
         "xaxis": "x2",
         "y": [
          80,
          80
         ],
         "yaxis": "y2"
        },
        {
         "line": {
          "color": "black",
          "width": 3
         },
         "marker": {
          "color": "black"
         },
         "mode": "markers+lines",
         "name": "Wall 0001",
         "type": "scatter",
         "x": [
          80,
          80
         ],
         "xaxis": "x2",
         "y": [
          120,
          80
         ],
         "yaxis": "y2"
        },
        {
         "line": {
          "color": "black",
          "width": 3
         },
         "marker": {
          "color": "black"
         },
         "mode": "markers+lines",
         "name": "Wall 0002",
         "type": "scatter",
         "x": [
          80,
          0
         ],
         "xaxis": "x2",
         "y": [
          80,
          80
         ],
         "yaxis": "y2"
        },
        {
         "line": {
          "color": "black",
          "width": 3
         },
         "marker": {
          "color": "black"
         },
         "mode": "markers+lines",
         "name": "Wall 0003",
         "type": "scatter",
         "x": [
          0,
          0
         ],
         "xaxis": "x2",
         "y": [
          80,
          120
         ],
         "yaxis": "y2"
        },
        {
         "line": {
          "color": "black",
          "width": 3
         },
         "marker": {
          "color": "black"
         },
         "mode": "markers+lines",
         "name": "Wall 0004",
         "type": "scatter",
         "x": [
          0,
          80
         ],
         "xaxis": "x2",
         "y": [
          120,
          120
         ],
         "yaxis": "y2"
        },
        {
         "line": {
          "color": "black",
          "width": 3
         },
         "marker": {
          "color": "black"
         },
         "mode": "markers+lines",
         "name": "Wall 0001",
         "type": "scatter",
         "x": [
          40,
          40
         ],
         "xaxis": "x3",
         "y": [
          80,
          40
         ],
         "yaxis": "y3"
        },
        {
         "line": {
          "color": "black",
          "width": 3
         },
         "marker": {
          "color": "black"
         },
         "mode": "markers+lines",
         "name": "Wall 0002",
         "type": "scatter",
         "x": [
          40,
          0
         ],
         "xaxis": "x3",
         "y": [
          40,
          40
         ],
         "yaxis": "y3"
        },
        {
         "line": {
          "color": "black",
          "width": 3
         },
         "marker": {
          "color": "black"
         },
         "mode": "markers+lines",
         "name": "Wall 0003",
         "type": "scatter",
         "x": [
          0,
          0
         ],
         "xaxis": "x3",
         "y": [
          40,
          80
         ],
         "yaxis": "y3"
        },
        {
         "line": {
          "color": "black",
          "width": 3
         },
         "marker": {
          "color": "black"
         },
         "mode": "markers+lines",
         "name": "Wall 0004",
         "type": "scatter",
         "x": [
          0,
          40
         ],
         "xaxis": "x3",
         "y": [
          80,
          80
         ],
         "yaxis": "y3"
        },
        {
         "line": {
          "color": "black",
          "width": 3
         },
         "marker": {
          "color": "black"
         },
         "mode": "markers+lines",
         "name": "Wall 0001",
         "type": "scatter",
         "x": [
          80,
          80
         ],
         "xaxis": "x3",
         "y": [
          40,
          0
         ],
         "yaxis": "y3"
        },
        {
         "line": {
          "color": "black",
          "width": 3
         },
         "marker": {
          "color": "black"
         },
         "mode": "markers+lines",
         "name": "Wall 0002",
         "type": "scatter",
         "x": [
          80,
          0
         ],
         "xaxis": "x3",
         "y": [
          0,
          0
         ],
         "yaxis": "y3"
        },
        {
         "line": {
          "color": "black",
          "width": 3
         },
         "marker": {
          "color": "black"
         },
         "mode": "markers+lines",
         "name": "Wall 0003",
         "type": "scatter",
         "x": [
          0,
          0
         ],
         "xaxis": "x3",
         "y": [
          0,
          40
         ],
         "yaxis": "y3"
        },
        {
         "line": {
          "color": "black",
          "width": 3
         },
         "marker": {
          "color": "black"
         },
         "mode": "markers+lines",
         "name": "Wall 0004",
         "type": "scatter",
         "x": [
          0,
          80
         ],
         "xaxis": "x3",
         "y": [
          40,
          40
         ],
         "yaxis": "y3"
        },
        {
         "line": {
          "color": "black",
          "width": 3
         },
         "marker": {
          "color": "black"
         },
         "mode": "markers+lines",
         "name": "Wall 0001",
         "type": "scatter",
         "x": [
          80,
          80
         ],
         "xaxis": "x3",
         "y": [
          80,
          40
         ],
         "yaxis": "y3"
        },
        {
         "line": {
          "color": "black",
          "width": 3
         },
         "marker": {
          "color": "black"
         },
         "mode": "markers+lines",
         "name": "Wall 0002",
         "type": "scatter",
         "x": [
          80,
          40
         ],
         "xaxis": "x3",
         "y": [
          40,
          40
         ],
         "yaxis": "y3"
        },
        {
         "line": {
          "color": "black",
          "width": 3
         },
         "marker": {
          "color": "black"
         },
         "mode": "markers+lines",
         "name": "Wall 0003",
         "type": "scatter",
         "x": [
          40,
          40
         ],
         "xaxis": "x3",
         "y": [
          40,
          80
         ],
         "yaxis": "y3"
        },
        {
         "line": {
          "color": "black",
          "width": 3
         },
         "marker": {
          "color": "black"
         },
         "mode": "markers+lines",
         "name": "Wall 0004",
         "type": "scatter",
         "x": [
          40,
          80
         ],
         "xaxis": "x3",
         "y": [
          80,
          80
         ],
         "yaxis": "y3"
        },
        {
         "line": {
          "color": "black",
          "width": 3
         },
         "marker": {
          "color": "black"
         },
         "mode": "markers+lines",
         "name": "Wall 0001",
         "type": "scatter",
         "x": [
          80,
          80
         ],
         "xaxis": "x3",
         "y": [
          120,
          80
         ],
         "yaxis": "y3"
        },
        {
         "line": {
          "color": "black",
          "width": 3
         },
         "marker": {
          "color": "black"
         },
         "mode": "markers+lines",
         "name": "Wall 0002",
         "type": "scatter",
         "x": [
          80,
          0
         ],
         "xaxis": "x3",
         "y": [
          80,
          80
         ],
         "yaxis": "y3"
        },
        {
         "line": {
          "color": "black",
          "width": 3
         },
         "marker": {
          "color": "black"
         },
         "mode": "markers+lines",
         "name": "Wall 0003",
         "type": "scatter",
         "x": [
          0,
          0
         ],
         "xaxis": "x3",
         "y": [
          80,
          120
         ],
         "yaxis": "y3"
        },
        {
         "line": {
          "color": "black",
          "width": 3
         },
         "marker": {
          "color": "black"
         },
         "mode": "markers+lines",
         "name": "Wall 0004",
         "type": "scatter",
         "x": [
          0,
          80
         ],
         "xaxis": "x3",
         "y": [
          120,
          120
         ],
         "yaxis": "y3"
        },
        {
         "marker": {
          "cmax": 22.83,
          "cmin": 20.089,
          "colorbar": {
           "outlinewidth": 0,
           "thickness": 5,
           "ticktext": [
            20.089,
            22.83
           ],
           "tickvals": [
            20.089,
            20.77425,
            21.4595,
            22.14475,
            22.83
           ]
          },
          "colorscale": [
           [
            0,
            "#30123b"
           ],
           [
            0.07142857142857142,
            "#4145ab"
           ],
           [
            0.14285714285714285,
            "#4675ed"
           ],
           [
            0.21428571428571427,
            "#39a2fc"
           ],
           [
            0.2857142857142857,
            "#1bcfd4"
           ],
           [
            0.35714285714285715,
            "#24eca6"
           ],
           [
            0.42857142857142855,
            "#61fc6c"
           ],
           [
            0.5,
            "#a4fc3b"
           ],
           [
            0.5714285714285714,
            "#d1e834"
           ],
           [
            0.6428571428571429,
            "#f3c63a"
           ],
           [
            0.7142857142857143,
            "#fe9b2d"
           ],
           [
            0.7857142857142857,
            "#f36315"
           ],
           [
            0.8571428571428571,
            "#d93806"
           ],
           [
            0.9285714285714286,
            "#b11901"
           ],
           [
            1,
            "#7a0402"
           ]
          ],
          "showscale": true
         },
         "mode": "markers",
         "type": "scatter",
         "x": [
          null
         ],
         "y": [
          null
         ]
        }
       ],
       "layout": {
        "annotations": [
         {
          "font": {
           "size": 16
          },
          "showarrow": false,
          "text": "06:00",
          "x": 0.5,
          "xanchor": "center",
          "xref": "paper",
          "y": 1,
          "yanchor": "bottom",
          "yref": "paper"
         },
         {
          "font": {
           "size": 16
          },
          "showarrow": false,
          "text": "12:00",
          "x": 0.5,
          "xanchor": "center",
          "xref": "paper",
          "y": 0.6111111111111112,
          "yanchor": "bottom",
          "yref": "paper"
         },
         {
          "font": {
           "size": 16
          },
          "showarrow": false,
          "text": "22:00",
          "x": 0.5,
          "xanchor": "center",
          "xref": "paper",
          "y": 0.22222222222222224,
          "yanchor": "bottom",
          "yref": "paper"
         }
        ],
        "shapes": [
         {
          "fillcolor": "rgb(31, 201, 217)",
          "label": {
           "text": "Block 01 Storey 0: 20.847ºC"
          },
          "type": "rect",
          "x0": 40,
          "x1": 0,
          "xref": "x",
          "y0": 80,
          "y1": 40,
          "yref": "y"
         },
         {
          "fillcolor": "rgb(182, 244, 56)",
          "label": {
           "text": "Block 02 Storey 0: 21.536ºC"
          },
          "type": "rect",
          "x0": 80,
          "x1": 0,
          "xref": "x",
          "y0": 40,
          "y1": 0,
          "yref": "y"
         },
         {
          "fillcolor": "rgb(106, 252, 101)",
          "label": {
           "text": "Block 03 Storey 0: 21.29ºC"
          },
          "type": "rect",
          "x0": 80,
          "x1": 40,
          "xref": "x",
          "y0": 80,
          "y1": 40,
          "yref": "y"
         },
         {
          "fillcolor": "rgb(216, 225, 53)",
          "label": {
           "text": "Block 04 Storey 0: 21.695ºC"
          },
          "type": "rect",
          "x0": 80,
          "x1": 0,
          "xref": "x",
          "y0": 120,
          "y1": 80,
          "yref": "y"
         },
         {
          "fillcolor": "rgb(48, 18, 59)",
          "label": {
           "text": "Block 01 Storey 0: 20.089ºC"
          },
          "type": "rect",
          "x0": 40,
          "x1": 0,
          "xref": "x2",
          "y0": 80,
          "y1": 40,
          "yref": "y2"
         },
         {
          "fillcolor": "rgb(68, 98, 211)",
          "label": {
           "text": "Block 02 Storey 0: 20.404ºC"
          },
          "type": "rect",
          "x0": 80,
          "x1": 0,
          "xref": "x2",
          "y0": 40,
          "y1": 0,
          "yref": "y2"
         },
         {
          "fillcolor": "rgb(67, 88, 197)",
          "label": {
           "text": "Block 03 Storey 0: 20.361ºC"
          },
          "type": "rect",
          "x0": 80,
          "x1": 40,
          "xref": "x2",
          "y0": 80,
          "y1": 40,
          "yref": "y2"
         },
         {
          "fillcolor": "rgb(69, 122, 239)",
          "label": {
           "text": "Block 04 Storey 0: 20.502ºC"
          },
          "type": "rect",
          "x0": 80,
          "x1": 0,
          "xref": "x2",
          "y0": 120,
          "y1": 80,
          "yref": "y2"
         },
         {
          "fillcolor": "rgb(248, 124, 32)",
          "label": {
           "text": "Block 01 Storey 0: 22.154ºC"
          },
          "type": "rect",
          "x0": 40,
          "x1": 0,
          "xref": "x3",
          "y0": 80,
          "y1": 40,
          "yref": "y3"
         },
         {
          "fillcolor": "rgb(169, 22, 1)",
          "label": {
           "text": "Block 02 Storey 0: 22.664ºC"
          },
          "type": "rect",
          "x0": 80,
          "x1": 0,
          "xref": "x3",
          "y0": 40,
          "y1": 0,
          "yref": "y3"
         },
         {
          "fillcolor": "rgb(196, 238, 54)",
          "label": {
           "text": "Block 03 Storey 0: 21.599ºC"
          },
          "type": "rect",
          "x0": 80,
          "x1": 40,
          "xref": "x3",
          "y0": 80,
          "y1": 40,
          "yref": "y3"
         },
         {
          "fillcolor": "rgb(122, 4, 2)",
          "label": {
           "text": "Block 04 Storey 0: 22.83ºC"
          },
          "type": "rect",
          "x0": 80,
          "x1": 0,
          "xref": "x3",
          "y0": 120,
          "y1": 80,
          "yref": "y3"
         }
        ],
        "showlegend": false,
        "template": {
         "data": {
          "bar": [
           {
            "error_x": {
             "color": "#2a3f5f"
            },
            "error_y": {
             "color": "#2a3f5f"
            },
            "marker": {
             "line": {
              "color": "#E5ECF6",
              "width": 0.5
             },
             "pattern": {
              "fillmode": "overlay",
              "size": 10,
              "solidity": 0.2
             }
            },
            "type": "bar"
           }
          ],
          "barpolar": [
           {
            "marker": {
             "line": {
              "color": "#E5ECF6",
              "width": 0.5
             },
             "pattern": {
              "fillmode": "overlay",
              "size": 10,
              "solidity": 0.2
             }
            },
            "type": "barpolar"
           }
          ],
          "carpet": [
           {
            "aaxis": {
             "endlinecolor": "#2a3f5f",
             "gridcolor": "white",
             "linecolor": "white",
             "minorgridcolor": "white",
             "startlinecolor": "#2a3f5f"
            },
            "baxis": {
             "endlinecolor": "#2a3f5f",
             "gridcolor": "white",
             "linecolor": "white",
             "minorgridcolor": "white",
             "startlinecolor": "#2a3f5f"
            },
            "type": "carpet"
           }
          ],
          "choropleth": [
           {
            "colorbar": {
             "outlinewidth": 0,
             "ticks": ""
            },
            "type": "choropleth"
           }
          ],
          "contour": [
           {
            "colorbar": {
             "outlinewidth": 0,
             "ticks": ""
            },
            "colorscale": [
             [
              0,
              "#0d0887"
             ],
             [
              0.1111111111111111,
              "#46039f"
             ],
             [
              0.2222222222222222,
              "#7201a8"
             ],
             [
              0.3333333333333333,
              "#9c179e"
             ],
             [
              0.4444444444444444,
              "#bd3786"
             ],
             [
              0.5555555555555556,
              "#d8576b"
             ],
             [
              0.6666666666666666,
              "#ed7953"
             ],
             [
              0.7777777777777778,
              "#fb9f3a"
             ],
             [
              0.8888888888888888,
              "#fdca26"
             ],
             [
              1,
              "#f0f921"
             ]
            ],
            "type": "contour"
           }
          ],
          "contourcarpet": [
           {
            "colorbar": {
             "outlinewidth": 0,
             "ticks": ""
            },
            "type": "contourcarpet"
           }
          ],
          "heatmap": [
           {
            "colorbar": {
             "outlinewidth": 0,
             "ticks": ""
            },
            "colorscale": [
             [
              0,
              "#0d0887"
             ],
             [
              0.1111111111111111,
              "#46039f"
             ],
             [
              0.2222222222222222,
              "#7201a8"
             ],
             [
              0.3333333333333333,
              "#9c179e"
             ],
             [
              0.4444444444444444,
              "#bd3786"
             ],
             [
              0.5555555555555556,
              "#d8576b"
             ],
             [
              0.6666666666666666,
              "#ed7953"
             ],
             [
              0.7777777777777778,
              "#fb9f3a"
             ],
             [
              0.8888888888888888,
              "#fdca26"
             ],
             [
              1,
              "#f0f921"
             ]
            ],
            "type": "heatmap"
           }
          ],
          "heatmapgl": [
           {
            "colorbar": {
             "outlinewidth": 0,
             "ticks": ""
            },
            "colorscale": [
             [
              0,
              "#0d0887"
             ],
             [
              0.1111111111111111,
              "#46039f"
             ],
             [
              0.2222222222222222,
              "#7201a8"
             ],
             [
              0.3333333333333333,
              "#9c179e"
             ],
             [
              0.4444444444444444,
              "#bd3786"
             ],
             [
              0.5555555555555556,
              "#d8576b"
             ],
             [
              0.6666666666666666,
              "#ed7953"
             ],
             [
              0.7777777777777778,
              "#fb9f3a"
             ],
             [
              0.8888888888888888,
              "#fdca26"
             ],
             [
              1,
              "#f0f921"
             ]
            ],
            "type": "heatmapgl"
           }
          ],
          "histogram": [
           {
            "marker": {
             "pattern": {
              "fillmode": "overlay",
              "size": 10,
              "solidity": 0.2
             }
            },
            "type": "histogram"
           }
          ],
          "histogram2d": [
           {
            "colorbar": {
             "outlinewidth": 0,
             "ticks": ""
            },
            "colorscale": [
             [
              0,
              "#0d0887"
             ],
             [
              0.1111111111111111,
              "#46039f"
             ],
             [
              0.2222222222222222,
              "#7201a8"
             ],
             [
              0.3333333333333333,
              "#9c179e"
             ],
             [
              0.4444444444444444,
              "#bd3786"
             ],
             [
              0.5555555555555556,
              "#d8576b"
             ],
             [
              0.6666666666666666,
              "#ed7953"
             ],
             [
              0.7777777777777778,
              "#fb9f3a"
             ],
             [
              0.8888888888888888,
              "#fdca26"
             ],
             [
              1,
              "#f0f921"
             ]
            ],
            "type": "histogram2d"
           }
          ],
          "histogram2dcontour": [
           {
            "colorbar": {
             "outlinewidth": 0,
             "ticks": ""
            },
            "colorscale": [
             [
              0,
              "#0d0887"
             ],
             [
              0.1111111111111111,
              "#46039f"
             ],
             [
              0.2222222222222222,
              "#7201a8"
             ],
             [
              0.3333333333333333,
              "#9c179e"
             ],
             [
              0.4444444444444444,
              "#bd3786"
             ],
             [
              0.5555555555555556,
              "#d8576b"
             ],
             [
              0.6666666666666666,
              "#ed7953"
             ],
             [
              0.7777777777777778,
              "#fb9f3a"
             ],
             [
              0.8888888888888888,
              "#fdca26"
             ],
             [
              1,
              "#f0f921"
             ]
            ],
            "type": "histogram2dcontour"
           }
          ],
          "mesh3d": [
           {
            "colorbar": {
             "outlinewidth": 0,
             "ticks": ""
            },
            "type": "mesh3d"
           }
          ],
          "parcoords": [
           {
            "line": {
             "colorbar": {
              "outlinewidth": 0,
              "ticks": ""
             }
            },
            "type": "parcoords"
           }
          ],
          "pie": [
           {
            "automargin": true,
            "type": "pie"
           }
          ],
          "scatter": [
           {
            "fillpattern": {
             "fillmode": "overlay",
             "size": 10,
             "solidity": 0.2
            },
            "type": "scatter"
           }
          ],
          "scatter3d": [
           {
            "line": {
             "colorbar": {
              "outlinewidth": 0,
              "ticks": ""
             }
            },
            "marker": {
             "colorbar": {
              "outlinewidth": 0,
              "ticks": ""
             }
            },
            "type": "scatter3d"
           }
          ],
          "scattercarpet": [
           {
            "marker": {
             "colorbar": {
              "outlinewidth": 0,
              "ticks": ""
             }
            },
            "type": "scattercarpet"
           }
          ],
          "scattergeo": [
           {
            "marker": {
             "colorbar": {
              "outlinewidth": 0,
              "ticks": ""
             }
            },
            "type": "scattergeo"
           }
          ],
          "scattergl": [
           {
            "marker": {
             "colorbar": {
              "outlinewidth": 0,
              "ticks": ""
             }
            },
            "type": "scattergl"
           }
          ],
          "scattermapbox": [
           {
            "marker": {
             "colorbar": {
              "outlinewidth": 0,
              "ticks": ""
             }
            },
            "type": "scattermapbox"
           }
          ],
          "scatterpolar": [
           {
            "marker": {
             "colorbar": {
              "outlinewidth": 0,
              "ticks": ""
             }
            },
            "type": "scatterpolar"
           }
          ],
          "scatterpolargl": [
           {
            "marker": {
             "colorbar": {
              "outlinewidth": 0,
              "ticks": ""
             }
            },
            "type": "scatterpolargl"
           }
          ],
          "scatterternary": [
           {
            "marker": {
             "colorbar": {
              "outlinewidth": 0,
              "ticks": ""
             }
            },
            "type": "scatterternary"
           }
          ],
          "surface": [
           {
            "colorbar": {
             "outlinewidth": 0,
             "ticks": ""
            },
            "colorscale": [
             [
              0,
              "#0d0887"
             ],
             [
              0.1111111111111111,
              "#46039f"
             ],
             [
              0.2222222222222222,
              "#7201a8"
             ],
             [
              0.3333333333333333,
              "#9c179e"
             ],
             [
              0.4444444444444444,
              "#bd3786"
             ],
             [
              0.5555555555555556,
              "#d8576b"
             ],
             [
              0.6666666666666666,
              "#ed7953"
             ],
             [
              0.7777777777777778,
              "#fb9f3a"
             ],
             [
              0.8888888888888888,
              "#fdca26"
             ],
             [
              1,
              "#f0f921"
             ]
            ],
            "type": "surface"
           }
          ],
          "table": [
           {
            "cells": {
             "fill": {
              "color": "#EBF0F8"
             },
             "line": {
              "color": "white"
             }
            },
            "header": {
             "fill": {
              "color": "#C8D4E3"
             },
             "line": {
              "color": "white"
             }
            },
            "type": "table"
           }
          ]
         },
         "layout": {
          "annotationdefaults": {
           "arrowcolor": "#2a3f5f",
           "arrowhead": 0,
           "arrowwidth": 1
          },
          "autotypenumbers": "strict",
          "coloraxis": {
           "colorbar": {
            "outlinewidth": 0,
            "ticks": ""
           }
          },
          "colorscale": {
           "diverging": [
            [
             0,
             "#8e0152"
            ],
            [
             0.1,
             "#c51b7d"
            ],
            [
             0.2,
             "#de77ae"
            ],
            [
             0.3,
             "#f1b6da"
            ],
            [
             0.4,
             "#fde0ef"
            ],
            [
             0.5,
             "#f7f7f7"
            ],
            [
             0.6,
             "#e6f5d0"
            ],
            [
             0.7,
             "#b8e186"
            ],
            [
             0.8,
             "#7fbc41"
            ],
            [
             0.9,
             "#4d9221"
            ],
            [
             1,
             "#276419"
            ]
           ],
           "sequential": [
            [
             0,
             "#0d0887"
            ],
            [
             0.1111111111111111,
             "#46039f"
            ],
            [
             0.2222222222222222,
             "#7201a8"
            ],
            [
             0.3333333333333333,
             "#9c179e"
            ],
            [
             0.4444444444444444,
             "#bd3786"
            ],
            [
             0.5555555555555556,
             "#d8576b"
            ],
            [
             0.6666666666666666,
             "#ed7953"
            ],
            [
             0.7777777777777778,
             "#fb9f3a"
            ],
            [
             0.8888888888888888,
             "#fdca26"
            ],
            [
             1,
             "#f0f921"
            ]
           ],
           "sequentialminus": [
            [
             0,
             "#0d0887"
            ],
            [
             0.1111111111111111,
             "#46039f"
            ],
            [
             0.2222222222222222,
             "#7201a8"
            ],
            [
             0.3333333333333333,
             "#9c179e"
            ],
            [
             0.4444444444444444,
             "#bd3786"
            ],
            [
             0.5555555555555556,
             "#d8576b"
            ],
            [
             0.6666666666666666,
             "#ed7953"
            ],
            [
             0.7777777777777778,
             "#fb9f3a"
            ],
            [
             0.8888888888888888,
             "#fdca26"
            ],
            [
             1,
             "#f0f921"
            ]
           ]
          },
          "colorway": [
           "#636efa",
           "#EF553B",
           "#00cc96",
           "#ab63fa",
           "#FFA15A",
           "#19d3f3",
           "#FF6692",
           "#B6E880",
           "#FF97FF",
           "#FECB52"
          ],
          "font": {
           "color": "#2a3f5f"
          },
          "geo": {
           "bgcolor": "white",
           "lakecolor": "white",
           "landcolor": "#E5ECF6",
           "showlakes": true,
           "showland": true,
           "subunitcolor": "white"
          },
          "hoverlabel": {
           "align": "left"
          },
          "hovermode": "closest",
          "mapbox": {
           "style": "light"
          },
          "paper_bgcolor": "white",
          "plot_bgcolor": "#E5ECF6",
          "polar": {
           "angularaxis": {
            "gridcolor": "white",
            "linecolor": "white",
            "ticks": ""
           },
           "bgcolor": "#E5ECF6",
           "radialaxis": {
            "gridcolor": "white",
            "linecolor": "white",
            "ticks": ""
           }
          },
          "scene": {
           "xaxis": {
            "backgroundcolor": "#E5ECF6",
            "gridcolor": "white",
            "gridwidth": 2,
            "linecolor": "white",
            "showbackground": true,
            "ticks": "",
            "zerolinecolor": "white"
           },
           "yaxis": {
            "backgroundcolor": "#E5ECF6",
            "gridcolor": "white",
            "gridwidth": 2,
            "linecolor": "white",
            "showbackground": true,
            "ticks": "",
            "zerolinecolor": "white"
           },
           "zaxis": {
            "backgroundcolor": "#E5ECF6",
            "gridcolor": "white",
            "gridwidth": 2,
            "linecolor": "white",
            "showbackground": true,
            "ticks": "",
            "zerolinecolor": "white"
           }
          },
          "shapedefaults": {
           "line": {
            "color": "#2a3f5f"
           }
          },
          "ternary": {
           "aaxis": {
            "gridcolor": "white",
            "linecolor": "white",
            "ticks": ""
           },
           "baxis": {
            "gridcolor": "white",
            "linecolor": "white",
            "ticks": ""
           },
           "bgcolor": "#E5ECF6",
           "caxis": {
            "gridcolor": "white",
            "linecolor": "white",
            "ticks": ""
           }
          },
          "title": {
           "x": 0.05
          },
          "xaxis": {
           "automargin": true,
           "gridcolor": "white",
           "linecolor": "white",
           "ticks": "",
           "title": {
            "standoff": 15
           },
           "zerolinecolor": "white",
           "zerolinewidth": 2
          },
          "yaxis": {
           "automargin": true,
           "gridcolor": "white",
           "linecolor": "white",
           "ticks": "",
           "title": {
            "standoff": 15
           },
           "zerolinecolor": "white",
           "zerolinewidth": 2
          }
         }
        },
        "title": {
         "text": "zone_mean_air_temp7-21"
        },
        "xaxis": {
         "anchor": "y",
         "domain": [
          0,
          1
         ]
        },
        "xaxis2": {
         "anchor": "y2",
         "domain": [
          0,
          1
         ]
        },
        "xaxis3": {
         "anchor": "y3",
         "domain": [
          0,
          1
         ]
        },
        "yaxis": {
         "anchor": "x",
         "domain": [
          0.7777777777777778,
          1
         ]
        },
        "yaxis2": {
         "anchor": "x2",
         "domain": [
          0.3888888888888889,
          0.6111111111111112
         ]
        },
        "yaxis3": {
         "anchor": "x3",
         "domain": [
          0,
          0.22222222222222224
         ]
        }
       }
      }
     },
     "metadata": {},
     "output_type": "display_data"
    }
   ],
   "source": [
    "s = SpaceTimePlot(\"t04_gplan\")\n",
    "times = [time(6), time(12), time(22)]\n",
    "s.extract_many_times(times, s.dataset_names[1])\n",
    "s.create_spatial_plots()"
   ]
  },
  {
   "cell_type": "code",
   "execution_count": null,
   "metadata": {},
   "outputs": [
    {
     "data": {
      "application/vnd.plotly.v1+json": {
       "config": {
        "plotlyServerURL": "https://plotly.com"
       },
       "data": [
        {
         "name": "Block 01 Storey 0",
         "type": "scatter",
         "x": [
          "2017-07-21T00:00:00",
          "2017-07-21T00:15:00",
          "2017-07-21T00:30:00",
          "2017-07-21T00:45:00",
          "2017-07-21T01:00:00",
          "2017-07-21T01:15:00",
          "2017-07-21T01:30:00",
          "2017-07-21T01:45:00",
          "2017-07-21T02:00:00",
          "2017-07-21T02:15:00",
          "2017-07-21T02:30:00",
          "2017-07-21T02:45:00",
          "2017-07-21T03:00:00",
          "2017-07-21T03:15:00",
          "2017-07-21T03:30:00",
          "2017-07-21T03:45:00",
          "2017-07-21T04:00:00",
          "2017-07-21T04:15:00",
          "2017-07-21T04:30:00",
          "2017-07-21T04:45:00",
          "2017-07-21T05:00:00",
          "2017-07-21T05:15:00",
          "2017-07-21T05:30:00",
          "2017-07-21T05:45:00",
          "2017-07-21T06:00:00",
          "2017-07-21T06:15:00",
          "2017-07-21T06:30:00",
          "2017-07-21T06:45:00",
          "2017-07-21T07:00:00",
          "2017-07-21T07:15:00",
          "2017-07-21T07:30:00",
          "2017-07-21T07:45:00",
          "2017-07-21T08:00:00",
          "2017-07-21T08:15:00",
          "2017-07-21T08:30:00",
          "2017-07-21T08:45:00",
          "2017-07-21T09:00:00",
          "2017-07-21T09:15:00",
          "2017-07-21T09:30:00",
          "2017-07-21T09:45:00",
          "2017-07-21T10:00:00",
          "2017-07-21T10:15:00",
          "2017-07-21T10:30:00",
          "2017-07-21T10:45:00",
          "2017-07-21T11:00:00",
          "2017-07-21T11:15:00",
          "2017-07-21T11:30:00",
          "2017-07-21T11:45:00",
          "2017-07-21T12:00:00",
          "2017-07-21T12:15:00",
          "2017-07-21T12:30:00",
          "2017-07-21T12:45:00",
          "2017-07-21T13:00:00",
          "2017-07-21T13:15:00",
          "2017-07-21T13:30:00",
          "2017-07-21T13:45:00",
          "2017-07-21T14:00:00",
          "2017-07-21T14:15:00",
          "2017-07-21T14:30:00",
          "2017-07-21T14:45:00",
          "2017-07-21T15:00:00",
          "2017-07-21T15:15:00",
          "2017-07-21T15:30:00",
          "2017-07-21T15:45:00",
          "2017-07-21T16:00:00",
          "2017-07-21T16:15:00",
          "2017-07-21T16:30:00",
          "2017-07-21T16:45:00",
          "2017-07-21T17:00:00",
          "2017-07-21T17:15:00",
          "2017-07-21T17:30:00",
          "2017-07-21T17:45:00",
          "2017-07-21T18:00:00",
          "2017-07-21T18:15:00",
          "2017-07-21T18:30:00",
          "2017-07-21T18:45:00",
          "2017-07-21T19:00:00",
          "2017-07-21T19:15:00",
          "2017-07-21T19:30:00",
          "2017-07-21T19:45:00",
          "2017-07-21T20:00:00",
          "2017-07-21T20:15:00",
          "2017-07-21T20:30:00",
          "2017-07-21T20:45:00",
          "2017-07-21T21:00:00",
          "2017-07-21T21:15:00",
          "2017-07-21T21:30:00",
          "2017-07-21T21:45:00",
          "2017-07-21T22:00:00",
          "2017-07-21T22:15:00",
          "2017-07-21T22:30:00",
          "2017-07-21T22:45:00",
          "2017-07-21T23:00:00",
          "2017-07-21T23:15:00",
          "2017-07-21T23:30:00",
          "2017-07-21T23:45:00"
         ],
         "y": [
          22.025321010713053,
          21.99570468851595,
          21.963673809650857,
          21.929339846486087,
          21.892796352280715,
          21.854122516371817,
          21.81338807562393,
          21.770658132578877,
          21.725992387758268,
          21.678678056956944,
          21.62998526255717,
          21.57946939331314,
          21.52688686016224,
          21.471773392186936,
          21.41701863370346,
          21.36167472980151,
          21.30538589912401,
          21.247658514058067,
          21.191185438007572,
          21.133949914950712,
          21.07668162840354,
          21.01924958059017,
          20.961786783979278,
          20.90436241487692,
          20.84708923765023,
          20.79008737210104,
          20.733495642769704,
          20.67747530757652,
          20.62221090190999,
          20.567904313628734,
          20.51478269544723,
          20.46311712345391,
          20.413226282868035,
          20.36546183380683,
          20.320189346358482,
          20.277772874058954,
          20.238561702340665,
          20.202878278694328,
          20.17100587248695,
          20.14368571297055,
          20.120177171669376,
          20.100934755328197,
          20.086098686091724,
          20.07570985515715,
          20.069770974507286,
          20.068417129232916,
          20.07110466640702,
          20.077940477813,
          20.089197874748432,
          20.1042394722986,
          20.12292870547779,
          20.145046184591784,
          20.170321578976015,
          20.198458170968184,
          20.229716206815013,
          20.262790058198622,
          20.29656675906967,
          20.332801406594985,
          20.37903442608646,
          20.4315846887917,
          20.49063166299043,
          20.552267214167294,
          20.61893243987322,
          20.690290329590727,
          20.765963205848447,
          20.845343478926782,
          20.927743621382152,
          21.01240776808661,
          21.098554551100168,
          21.185393597010794,
          21.272140171841926,
          21.3580314134483,
          21.4423417127412,
          21.524391452227913,
          21.603544072825784,
          21.6791961523778,
          21.750773297824892,
          21.81773555545656,
          21.879593563114348,
          21.935933771282027,
          21.9864705920551,
          22.03023671926565,
          22.066290305185024,
          22.095485786628384,
          22.11860354917992,
          22.135705728808695,
          22.147065415587363,
          22.153095620957327,
          22.154192797334186,
          22.150741147660593,
          22.14309378011426,
          22.131926251938864,
          22.117104139219073,
          22.098316003163085,
          22.07676104882275,
          22.052380558754578
         ]
        },
        {
         "name": "Block 02 Storey 0",
         "type": "scatter",
         "x": [
          "2017-07-21T00:00:00",
          "2017-07-21T00:15:00",
          "2017-07-21T00:30:00",
          "2017-07-21T00:45:00",
          "2017-07-21T01:00:00",
          "2017-07-21T01:15:00",
          "2017-07-21T01:30:00",
          "2017-07-21T01:45:00",
          "2017-07-21T02:00:00",
          "2017-07-21T02:15:00",
          "2017-07-21T02:30:00",
          "2017-07-21T02:45:00",
          "2017-07-21T03:00:00",
          "2017-07-21T03:15:00",
          "2017-07-21T03:30:00",
          "2017-07-21T03:45:00",
          "2017-07-21T04:00:00",
          "2017-07-21T04:15:00",
          "2017-07-21T04:30:00",
          "2017-07-21T04:45:00",
          "2017-07-21T05:00:00",
          "2017-07-21T05:15:00",
          "2017-07-21T05:30:00",
          "2017-07-21T05:45:00",
          "2017-07-21T06:00:00",
          "2017-07-21T06:15:00",
          "2017-07-21T06:30:00",
          "2017-07-21T06:45:00",
          "2017-07-21T07:00:00",
          "2017-07-21T07:15:00",
          "2017-07-21T07:30:00",
          "2017-07-21T07:45:00",
          "2017-07-21T08:00:00",
          "2017-07-21T08:15:00",
          "2017-07-21T08:30:00",
          "2017-07-21T08:45:00",
          "2017-07-21T09:00:00",
          "2017-07-21T09:15:00",
          "2017-07-21T09:30:00",
          "2017-07-21T09:45:00",
          "2017-07-21T10:00:00",
          "2017-07-21T10:15:00",
          "2017-07-21T10:30:00",
          "2017-07-21T10:45:00",
          "2017-07-21T11:00:00",
          "2017-07-21T11:15:00",
          "2017-07-21T11:30:00",
          "2017-07-21T11:45:00",
          "2017-07-21T12:00:00",
          "2017-07-21T12:15:00",
          "2017-07-21T12:30:00",
          "2017-07-21T12:45:00",
          "2017-07-21T13:00:00",
          "2017-07-21T13:15:00",
          "2017-07-21T13:30:00",
          "2017-07-21T13:45:00",
          "2017-07-21T14:00:00",
          "2017-07-21T14:15:00",
          "2017-07-21T14:30:00",
          "2017-07-21T14:45:00",
          "2017-07-21T15:00:00",
          "2017-07-21T15:15:00",
          "2017-07-21T15:30:00",
          "2017-07-21T15:45:00",
          "2017-07-21T16:00:00",
          "2017-07-21T16:15:00",
          "2017-07-21T16:30:00",
          "2017-07-21T16:45:00",
          "2017-07-21T17:00:00",
          "2017-07-21T17:15:00",
          "2017-07-21T17:30:00",
          "2017-07-21T17:45:00",
          "2017-07-21T18:00:00",
          "2017-07-21T18:15:00",
          "2017-07-21T18:30:00",
          "2017-07-21T18:45:00",
          "2017-07-21T19:00:00",
          "2017-07-21T19:15:00",
          "2017-07-21T19:30:00",
          "2017-07-21T19:45:00",
          "2017-07-21T20:00:00",
          "2017-07-21T20:15:00",
          "2017-07-21T20:30:00",
          "2017-07-21T20:45:00",
          "2017-07-21T21:00:00",
          "2017-07-21T21:15:00",
          "2017-07-21T21:30:00",
          "2017-07-21T21:45:00",
          "2017-07-21T22:00:00",
          "2017-07-21T22:15:00",
          "2017-07-21T22:30:00",
          "2017-07-21T22:45:00",
          "2017-07-21T23:00:00",
          "2017-07-21T23:15:00",
          "2017-07-21T23:30:00",
          "2017-07-21T23:45:00"
         ],
         "y": [
          22.611586700948955,
          22.595095004958868,
          22.576846552833285,
          22.55690242253268,
          22.53532326097973,
          22.512159082623484,
          22.487433379858203,
          22.461126814877165,
          22.43315704791138,
          22.40282190335464,
          22.370692815941585,
          22.33605523453482,
          22.298278789624835,
          22.256714040877654,
          22.210826395043338,
          22.160320430883818,
          22.10516171162763,
          22.045531679768814,
          21.981759657745844,
          21.91425979615299,
          21.843479809903794,
          21.7698626742603,
          21.693823681486922,
          21.615723218559623,
          21.53566962873172,
          21.45514039826651,
          21.375046064939642,
          21.295023529656028,
          21.215625122263738,
          21.13718701463382,
          21.060134691698618,
          20.98491398078156,
          20.91202728883677,
          20.842007117568034,
          20.77539553068854,
          20.71272416173193,
          20.654497836478054,
          20.601178992888,
          20.553171525977056,
          20.51155621259571,
          20.47523228098899,
          20.444863327213533,
          20.420637184086164,
          20.402610044496893,
          20.39077947899973,
          20.38546858991043,
          20.385691367691706,
          20.3916748871691,
          20.40365461402274,
          20.421034216527897,
          20.44357676635634,
          20.471020074834538,
          20.503090312616273,
          20.539557209375563,
          20.581093956988916,
          20.62619944614339,
          20.674296008017215,
          20.725889363866212,
          20.78173706784965,
          20.842123139423023,
          20.90728683639264,
          20.977194582719733,
          21.05109518686103,
          21.130901507949194,
          21.21424080638272,
          21.301025737985555,
          21.390122851861193,
          21.480760171332935,
          21.57211149497764,
          21.6634728768744,
          21.75427619543336,
          21.842822223326458,
          21.928240462519316,
          22.011020041231,
          22.09040274051171,
          22.165985275955446,
          22.237272733526364,
          22.303822335943543,
          22.365212716470115,
          22.421084131344152,
          22.471147515303056,
          22.515196651293937,
          22.553139947459083,
          22.58448154189768,
          22.610470086116948,
          22.631074981190427,
          22.64665417016904,
          22.657647520109307,
          22.66449233172688,
          22.667601058737016,
          22.66734910469966,
          22.664148886821174,
          22.65829834023216,
          22.64971003737944,
          22.63899936964913,
          22.62624856872472
         ]
        },
        {
         "name": "Block 03 Storey 0",
         "type": "scatter",
         "x": [
          "2017-07-21T00:00:00",
          "2017-07-21T00:15:00",
          "2017-07-21T00:30:00",
          "2017-07-21T00:45:00",
          "2017-07-21T01:00:00",
          "2017-07-21T01:15:00",
          "2017-07-21T01:30:00",
          "2017-07-21T01:45:00",
          "2017-07-21T02:00:00",
          "2017-07-21T02:15:00",
          "2017-07-21T02:30:00",
          "2017-07-21T02:45:00",
          "2017-07-21T03:00:00",
          "2017-07-21T03:15:00",
          "2017-07-21T03:30:00",
          "2017-07-21T03:45:00",
          "2017-07-21T04:00:00",
          "2017-07-21T04:15:00",
          "2017-07-21T04:30:00",
          "2017-07-21T04:45:00",
          "2017-07-21T05:00:00",
          "2017-07-21T05:15:00",
          "2017-07-21T05:30:00",
          "2017-07-21T05:45:00",
          "2017-07-21T06:00:00",
          "2017-07-21T06:15:00",
          "2017-07-21T06:30:00",
          "2017-07-21T06:45:00",
          "2017-07-21T07:00:00",
          "2017-07-21T07:15:00",
          "2017-07-21T07:30:00",
          "2017-07-21T07:45:00",
          "2017-07-21T08:00:00",
          "2017-07-21T08:15:00",
          "2017-07-21T08:30:00",
          "2017-07-21T08:45:00",
          "2017-07-21T09:00:00",
          "2017-07-21T09:15:00",
          "2017-07-21T09:30:00",
          "2017-07-21T09:45:00",
          "2017-07-21T10:00:00",
          "2017-07-21T10:15:00",
          "2017-07-21T10:30:00",
          "2017-07-21T10:45:00",
          "2017-07-21T11:00:00",
          "2017-07-21T11:15:00",
          "2017-07-21T11:30:00",
          "2017-07-21T11:45:00",
          "2017-07-21T12:00:00",
          "2017-07-21T12:15:00",
          "2017-07-21T12:30:00",
          "2017-07-21T12:45:00",
          "2017-07-21T13:00:00",
          "2017-07-21T13:15:00",
          "2017-07-21T13:30:00",
          "2017-07-21T13:45:00",
          "2017-07-21T14:00:00",
          "2017-07-21T14:15:00",
          "2017-07-21T14:30:00",
          "2017-07-21T14:45:00",
          "2017-07-21T15:00:00",
          "2017-07-21T15:15:00",
          "2017-07-21T15:30:00",
          "2017-07-21T15:45:00",
          "2017-07-21T16:00:00",
          "2017-07-21T16:15:00",
          "2017-07-21T16:30:00",
          "2017-07-21T16:45:00",
          "2017-07-21T17:00:00",
          "2017-07-21T17:15:00",
          "2017-07-21T17:30:00",
          "2017-07-21T17:45:00",
          "2017-07-21T18:00:00",
          "2017-07-21T18:15:00",
          "2017-07-21T18:30:00",
          "2017-07-21T18:45:00",
          "2017-07-21T19:00:00",
          "2017-07-21T19:15:00",
          "2017-07-21T19:30:00",
          "2017-07-21T19:45:00",
          "2017-07-21T20:00:00",
          "2017-07-21T20:15:00",
          "2017-07-21T20:30:00",
          "2017-07-21T20:45:00",
          "2017-07-21T21:00:00",
          "2017-07-21T21:15:00",
          "2017-07-21T21:30:00",
          "2017-07-21T21:45:00",
          "2017-07-21T22:00:00",
          "2017-07-21T22:15:00",
          "2017-07-21T22:30:00",
          "2017-07-21T22:45:00",
          "2017-07-21T23:00:00",
          "2017-07-21T23:15:00",
          "2017-07-21T23:30:00",
          "2017-07-21T23:45:00"
         ],
         "y": [
          21.705642144900263,
          21.716881311979712,
          21.72878423483882,
          21.739667005246,
          21.750025448012792,
          21.75950053920953,
          21.767925580748074,
          21.7749874742582,
          21.780338653747155,
          21.78353937107524,
          21.784057588915644,
          21.78126426657201,
          21.774383578045956,
          21.76260218629044,
          21.74526556885689,
          21.722018615094388,
          21.692825864937145,
          21.657910238226986,
          21.617665903605193,
          21.572577265855596,
          21.52315202980507,
          21.469864930170843,
          21.413095438152634,
          21.352890416126264,
          21.29003340513211,
          21.22820251131488,
          21.164793665828963,
          21.101225661378916,
          21.038729260953716,
          20.97672717116219,
          20.915742825785973,
          20.85605702184751,
          20.79807650871297,
          20.742204071175628,
          20.688855078742474,
          20.63843230089506,
          20.591317055665318,
          20.547857237820814,
          20.508356185549662,
          20.473667585017115,
          20.442904738783618,
          20.416577573301044,
          20.394840524612327,
          20.377738368730185,
          20.36527534057152,
          20.357842009837697,
          20.354477222538573,
          20.355413435729083,
          20.360687356976875,
          20.370115686791948,
          20.38342921029995,
          20.400405215502907,
          20.420817675990115,
          20.444450873256237,
          20.47160935644009,
          20.50181404137299,
          20.532640708733346,
          20.564839443316032,
          20.59348037782125,
          20.631595315756744,
          20.668840004791154,
          20.708663811903605,
          20.750014324242837,
          20.792911178808843,
          20.83696915087897,
          20.881914059654253,
          20.92742868190488,
          20.973208688310233,
          21.018952323302837,
          21.06437403422265,
          21.109206823320296,
          21.153199676168075,
          21.19611491151326,
          21.237727769961012,
          21.27782020797397,
          21.31617020773588,
          21.352548016135824,
          21.386722163252642,
          21.41847513827479,
          21.44762208477956,
          21.474021854530626,
          21.497587914937558,
          21.518325226111674,
          21.536070456789727,
          21.551673045905684,
          21.565328085710192,
          21.577465078814782,
          21.58856787175414,
          21.59910426661593,
          21.609509357478963,
          21.620175921759753,
          21.63127346193131,
          21.643453319050963,
          21.657107628501077,
          21.67235804932148,
          21.690201139630528
         ]
        },
        {
         "name": "Block 04 Storey 0",
         "type": "scatter",
         "x": [
          "2017-07-21T00:00:00",
          "2017-07-21T00:15:00",
          "2017-07-21T00:30:00",
          "2017-07-21T00:45:00",
          "2017-07-21T01:00:00",
          "2017-07-21T01:15:00",
          "2017-07-21T01:30:00",
          "2017-07-21T01:45:00",
          "2017-07-21T02:00:00",
          "2017-07-21T02:15:00",
          "2017-07-21T02:30:00",
          "2017-07-21T02:45:00",
          "2017-07-21T03:00:00",
          "2017-07-21T03:15:00",
          "2017-07-21T03:30:00",
          "2017-07-21T03:45:00",
          "2017-07-21T04:00:00",
          "2017-07-21T04:15:00",
          "2017-07-21T04:30:00",
          "2017-07-21T04:45:00",
          "2017-07-21T05:00:00",
          "2017-07-21T05:15:00",
          "2017-07-21T05:30:00",
          "2017-07-21T05:45:00",
          "2017-07-21T06:00:00",
          "2017-07-21T06:15:00",
          "2017-07-21T06:30:00",
          "2017-07-21T06:45:00",
          "2017-07-21T07:00:00",
          "2017-07-21T07:15:00",
          "2017-07-21T07:30:00",
          "2017-07-21T07:45:00",
          "2017-07-21T08:00:00",
          "2017-07-21T08:15:00",
          "2017-07-21T08:30:00",
          "2017-07-21T08:45:00",
          "2017-07-21T09:00:00",
          "2017-07-21T09:15:00",
          "2017-07-21T09:30:00",
          "2017-07-21T09:45:00",
          "2017-07-21T10:00:00",
          "2017-07-21T10:15:00",
          "2017-07-21T10:30:00",
          "2017-07-21T10:45:00",
          "2017-07-21T11:00:00",
          "2017-07-21T11:15:00",
          "2017-07-21T11:30:00",
          "2017-07-21T11:45:00",
          "2017-07-21T12:00:00",
          "2017-07-21T12:15:00",
          "2017-07-21T12:30:00",
          "2017-07-21T12:45:00",
          "2017-07-21T13:00:00",
          "2017-07-21T13:15:00",
          "2017-07-21T13:30:00",
          "2017-07-21T13:45:00",
          "2017-07-21T14:00:00",
          "2017-07-21T14:15:00",
          "2017-07-21T14:30:00",
          "2017-07-21T14:45:00",
          "2017-07-21T15:00:00",
          "2017-07-21T15:15:00",
          "2017-07-21T15:30:00",
          "2017-07-21T15:45:00",
          "2017-07-21T16:00:00",
          "2017-07-21T16:15:00",
          "2017-07-21T16:30:00",
          "2017-07-21T16:45:00",
          "2017-07-21T17:00:00",
          "2017-07-21T17:15:00",
          "2017-07-21T17:30:00",
          "2017-07-21T17:45:00",
          "2017-07-21T18:00:00",
          "2017-07-21T18:15:00",
          "2017-07-21T18:30:00",
          "2017-07-21T18:45:00",
          "2017-07-21T19:00:00",
          "2017-07-21T19:15:00",
          "2017-07-21T19:30:00",
          "2017-07-21T19:45:00",
          "2017-07-21T20:00:00",
          "2017-07-21T20:15:00",
          "2017-07-21T20:30:00",
          "2017-07-21T20:45:00",
          "2017-07-21T21:00:00",
          "2017-07-21T21:15:00",
          "2017-07-21T21:30:00",
          "2017-07-21T21:45:00",
          "2017-07-21T22:00:00",
          "2017-07-21T22:15:00",
          "2017-07-21T22:30:00",
          "2017-07-21T22:45:00",
          "2017-07-21T23:00:00",
          "2017-07-21T23:15:00",
          "2017-07-21T23:30:00",
          "2017-07-21T23:45:00"
         ],
         "y": [
          22.870813702344183,
          22.861573984529855,
          22.849182275726886,
          22.833616708599113,
          22.814869847182965,
          22.79294153072834,
          22.76782713584666,
          22.739505936412282,
          22.707926758739536,
          22.672402257654948,
          22.633697160980983,
          22.59128564356721,
          22.54483139665836,
          22.494055863272116,
          22.438799230588856,
          22.379078036442305,
          22.315078877975065,
          22.247116724064036,
          22.175585022624567,
          22.100913439921637,
          22.02353468178801,
          21.9438603972802,
          21.862270128915043,
          21.77910108378375,
          21.694576717332623,
          21.608817361137515,
          21.524715553956533,
          21.44072703064882,
          21.357693896025335,
          21.275828233253318,
          21.19555934171431,
          21.117301230718297,
          21.041540665423227,
          20.968793766594604,
          20.89958989742542,
          20.834449584983194,
          20.77386822959114,
          20.718300053639627,
          20.66814173341897,
          20.624504958324408,
          20.58621954560852,
          20.55396540549482,
          20.527929158539884,
          20.508163261427693,
          20.494661812059263,
          20.487818628714805,
          20.4865208628564,
          20.491032486366343,
          20.501523596928422,
          20.517517108406576,
          20.538733958281703,
          20.564905248191657,
          20.59575821014054,
          20.631066596793765,
          20.671501790809913,
          20.715277869374702,
          20.761709095441763,
          20.81129983185324,
          20.864386634654377,
          20.921105754206696,
          20.98154737015174,
          21.04552428759153,
          21.112283960959754,
          21.185068813871453,
          21.261011029337574,
          21.340494247806728,
          21.422595497386865,
          21.50681956441991,
          21.592552380620358,
          21.67925930962055,
          21.76642581175535,
          21.8535829047771,
          21.94033089552202,
          22.02653216469654,
          22.10869138927,
          22.18823552998914,
          22.264798248510715,
          22.3378705815185,
          22.406990584181578,
          22.47173823214518,
          22.531752641025793,
          22.58674095139215,
          22.636511346428144,
          22.68026644853029,
          22.719422346460636,
          22.75371193310877,
          22.78332090963721,
          22.808521430908083,
          22.8295789810462,
          22.8467338328705,
          22.860191398112345,
          22.869675272034907,
          22.87620007452935,
          22.87976076879946,
          22.879924769397903,
          22.876925644725205
         ]
        }
       ],
       "layout": {
        "template": {
         "data": {
          "bar": [
           {
            "error_x": {
             "color": "#2a3f5f"
            },
            "error_y": {
             "color": "#2a3f5f"
            },
            "marker": {
             "line": {
              "color": "#E5ECF6",
              "width": 0.5
             },
             "pattern": {
              "fillmode": "overlay",
              "size": 10,
              "solidity": 0.2
             }
            },
            "type": "bar"
           }
          ],
          "barpolar": [
           {
            "marker": {
             "line": {
              "color": "#E5ECF6",
              "width": 0.5
             },
             "pattern": {
              "fillmode": "overlay",
              "size": 10,
              "solidity": 0.2
             }
            },
            "type": "barpolar"
           }
          ],
          "carpet": [
           {
            "aaxis": {
             "endlinecolor": "#2a3f5f",
             "gridcolor": "white",
             "linecolor": "white",
             "minorgridcolor": "white",
             "startlinecolor": "#2a3f5f"
            },
            "baxis": {
             "endlinecolor": "#2a3f5f",
             "gridcolor": "white",
             "linecolor": "white",
             "minorgridcolor": "white",
             "startlinecolor": "#2a3f5f"
            },
            "type": "carpet"
           }
          ],
          "choropleth": [
           {
            "colorbar": {
             "outlinewidth": 0,
             "ticks": ""
            },
            "type": "choropleth"
           }
          ],
          "contour": [
           {
            "colorbar": {
             "outlinewidth": 0,
             "ticks": ""
            },
            "colorscale": [
             [
              0,
              "#0d0887"
             ],
             [
              0.1111111111111111,
              "#46039f"
             ],
             [
              0.2222222222222222,
              "#7201a8"
             ],
             [
              0.3333333333333333,
              "#9c179e"
             ],
             [
              0.4444444444444444,
              "#bd3786"
             ],
             [
              0.5555555555555556,
              "#d8576b"
             ],
             [
              0.6666666666666666,
              "#ed7953"
             ],
             [
              0.7777777777777778,
              "#fb9f3a"
             ],
             [
              0.8888888888888888,
              "#fdca26"
             ],
             [
              1,
              "#f0f921"
             ]
            ],
            "type": "contour"
           }
          ],
          "contourcarpet": [
           {
            "colorbar": {
             "outlinewidth": 0,
             "ticks": ""
            },
            "type": "contourcarpet"
           }
          ],
          "heatmap": [
           {
            "colorbar": {
             "outlinewidth": 0,
             "ticks": ""
            },
            "colorscale": [
             [
              0,
              "#0d0887"
             ],
             [
              0.1111111111111111,
              "#46039f"
             ],
             [
              0.2222222222222222,
              "#7201a8"
             ],
             [
              0.3333333333333333,
              "#9c179e"
             ],
             [
              0.4444444444444444,
              "#bd3786"
             ],
             [
              0.5555555555555556,
              "#d8576b"
             ],
             [
              0.6666666666666666,
              "#ed7953"
             ],
             [
              0.7777777777777778,
              "#fb9f3a"
             ],
             [
              0.8888888888888888,
              "#fdca26"
             ],
             [
              1,
              "#f0f921"
             ]
            ],
            "type": "heatmap"
           }
          ],
          "heatmapgl": [
           {
            "colorbar": {
             "outlinewidth": 0,
             "ticks": ""
            },
            "colorscale": [
             [
              0,
              "#0d0887"
             ],
             [
              0.1111111111111111,
              "#46039f"
             ],
             [
              0.2222222222222222,
              "#7201a8"
             ],
             [
              0.3333333333333333,
              "#9c179e"
             ],
             [
              0.4444444444444444,
              "#bd3786"
             ],
             [
              0.5555555555555556,
              "#d8576b"
             ],
             [
              0.6666666666666666,
              "#ed7953"
             ],
             [
              0.7777777777777778,
              "#fb9f3a"
             ],
             [
              0.8888888888888888,
              "#fdca26"
             ],
             [
              1,
              "#f0f921"
             ]
            ],
            "type": "heatmapgl"
           }
          ],
          "histogram": [
           {
            "marker": {
             "pattern": {
              "fillmode": "overlay",
              "size": 10,
              "solidity": 0.2
             }
            },
            "type": "histogram"
           }
          ],
          "histogram2d": [
           {
            "colorbar": {
             "outlinewidth": 0,
             "ticks": ""
            },
            "colorscale": [
             [
              0,
              "#0d0887"
             ],
             [
              0.1111111111111111,
              "#46039f"
             ],
             [
              0.2222222222222222,
              "#7201a8"
             ],
             [
              0.3333333333333333,
              "#9c179e"
             ],
             [
              0.4444444444444444,
              "#bd3786"
             ],
             [
              0.5555555555555556,
              "#d8576b"
             ],
             [
              0.6666666666666666,
              "#ed7953"
             ],
             [
              0.7777777777777778,
              "#fb9f3a"
             ],
             [
              0.8888888888888888,
              "#fdca26"
             ],
             [
              1,
              "#f0f921"
             ]
            ],
            "type": "histogram2d"
           }
          ],
          "histogram2dcontour": [
           {
            "colorbar": {
             "outlinewidth": 0,
             "ticks": ""
            },
            "colorscale": [
             [
              0,
              "#0d0887"
             ],
             [
              0.1111111111111111,
              "#46039f"
             ],
             [
              0.2222222222222222,
              "#7201a8"
             ],
             [
              0.3333333333333333,
              "#9c179e"
             ],
             [
              0.4444444444444444,
              "#bd3786"
             ],
             [
              0.5555555555555556,
              "#d8576b"
             ],
             [
              0.6666666666666666,
              "#ed7953"
             ],
             [
              0.7777777777777778,
              "#fb9f3a"
             ],
             [
              0.8888888888888888,
              "#fdca26"
             ],
             [
              1,
              "#f0f921"
             ]
            ],
            "type": "histogram2dcontour"
           }
          ],
          "mesh3d": [
           {
            "colorbar": {
             "outlinewidth": 0,
             "ticks": ""
            },
            "type": "mesh3d"
           }
          ],
          "parcoords": [
           {
            "line": {
             "colorbar": {
              "outlinewidth": 0,
              "ticks": ""
             }
            },
            "type": "parcoords"
           }
          ],
          "pie": [
           {
            "automargin": true,
            "type": "pie"
           }
          ],
          "scatter": [
           {
            "fillpattern": {
             "fillmode": "overlay",
             "size": 10,
             "solidity": 0.2
            },
            "type": "scatter"
           }
          ],
          "scatter3d": [
           {
            "line": {
             "colorbar": {
              "outlinewidth": 0,
              "ticks": ""
             }
            },
            "marker": {
             "colorbar": {
              "outlinewidth": 0,
              "ticks": ""
             }
            },
            "type": "scatter3d"
           }
          ],
          "scattercarpet": [
           {
            "marker": {
             "colorbar": {
              "outlinewidth": 0,
              "ticks": ""
             }
            },
            "type": "scattercarpet"
           }
          ],
          "scattergeo": [
           {
            "marker": {
             "colorbar": {
              "outlinewidth": 0,
              "ticks": ""
             }
            },
            "type": "scattergeo"
           }
          ],
          "scattergl": [
           {
            "marker": {
             "colorbar": {
              "outlinewidth": 0,
              "ticks": ""
             }
            },
            "type": "scattergl"
           }
          ],
          "scattermapbox": [
           {
            "marker": {
             "colorbar": {
              "outlinewidth": 0,
              "ticks": ""
             }
            },
            "type": "scattermapbox"
           }
          ],
          "scatterpolar": [
           {
            "marker": {
             "colorbar": {
              "outlinewidth": 0,
              "ticks": ""
             }
            },
            "type": "scatterpolar"
           }
          ],
          "scatterpolargl": [
           {
            "marker": {
             "colorbar": {
              "outlinewidth": 0,
              "ticks": ""
             }
            },
            "type": "scatterpolargl"
           }
          ],
          "scatterternary": [
           {
            "marker": {
             "colorbar": {
              "outlinewidth": 0,
              "ticks": ""
             }
            },
            "type": "scatterternary"
           }
          ],
          "surface": [
           {
            "colorbar": {
             "outlinewidth": 0,
             "ticks": ""
            },
            "colorscale": [
             [
              0,
              "#0d0887"
             ],
             [
              0.1111111111111111,
              "#46039f"
             ],
             [
              0.2222222222222222,
              "#7201a8"
             ],
             [
              0.3333333333333333,
              "#9c179e"
             ],
             [
              0.4444444444444444,
              "#bd3786"
             ],
             [
              0.5555555555555556,
              "#d8576b"
             ],
             [
              0.6666666666666666,
              "#ed7953"
             ],
             [
              0.7777777777777778,
              "#fb9f3a"
             ],
             [
              0.8888888888888888,
              "#fdca26"
             ],
             [
              1,
              "#f0f921"
             ]
            ],
            "type": "surface"
           }
          ],
          "table": [
           {
            "cells": {
             "fill": {
              "color": "#EBF0F8"
             },
             "line": {
              "color": "white"
             }
            },
            "header": {
             "fill": {
              "color": "#C8D4E3"
             },
             "line": {
              "color": "white"
             }
            },
            "type": "table"
           }
          ]
         },
         "layout": {
          "annotationdefaults": {
           "arrowcolor": "#2a3f5f",
           "arrowhead": 0,
           "arrowwidth": 1
          },
          "autotypenumbers": "strict",
          "coloraxis": {
           "colorbar": {
            "outlinewidth": 0,
            "ticks": ""
           }
          },
          "colorscale": {
           "diverging": [
            [
             0,
             "#8e0152"
            ],
            [
             0.1,
             "#c51b7d"
            ],
            [
             0.2,
             "#de77ae"
            ],
            [
             0.3,
             "#f1b6da"
            ],
            [
             0.4,
             "#fde0ef"
            ],
            [
             0.5,
             "#f7f7f7"
            ],
            [
             0.6,
             "#e6f5d0"
            ],
            [
             0.7,
             "#b8e186"
            ],
            [
             0.8,
             "#7fbc41"
            ],
            [
             0.9,
             "#4d9221"
            ],
            [
             1,
             "#276419"
            ]
           ],
           "sequential": [
            [
             0,
             "#0d0887"
            ],
            [
             0.1111111111111111,
             "#46039f"
            ],
            [
             0.2222222222222222,
             "#7201a8"
            ],
            [
             0.3333333333333333,
             "#9c179e"
            ],
            [
             0.4444444444444444,
             "#bd3786"
            ],
            [
             0.5555555555555556,
             "#d8576b"
            ],
            [
             0.6666666666666666,
             "#ed7953"
            ],
            [
             0.7777777777777778,
             "#fb9f3a"
            ],
            [
             0.8888888888888888,
             "#fdca26"
            ],
            [
             1,
             "#f0f921"
            ]
           ],
           "sequentialminus": [
            [
             0,
             "#0d0887"
            ],
            [
             0.1111111111111111,
             "#46039f"
            ],
            [
             0.2222222222222222,
             "#7201a8"
            ],
            [
             0.3333333333333333,
             "#9c179e"
            ],
            [
             0.4444444444444444,
             "#bd3786"
            ],
            [
             0.5555555555555556,
             "#d8576b"
            ],
            [
             0.6666666666666666,
             "#ed7953"
            ],
            [
             0.7777777777777778,
             "#fb9f3a"
            ],
            [
             0.8888888888888888,
             "#fdca26"
            ],
            [
             1,
             "#f0f921"
            ]
           ]
          },
          "colorway": [
           "#636efa",
           "#EF553B",
           "#00cc96",
           "#ab63fa",
           "#FFA15A",
           "#19d3f3",
           "#FF6692",
           "#B6E880",
           "#FF97FF",
           "#FECB52"
          ],
          "font": {
           "color": "#2a3f5f"
          },
          "geo": {
           "bgcolor": "white",
           "lakecolor": "white",
           "landcolor": "#E5ECF6",
           "showlakes": true,
           "showland": true,
           "subunitcolor": "white"
          },
          "hoverlabel": {
           "align": "left"
          },
          "hovermode": "closest",
          "mapbox": {
           "style": "light"
          },
          "paper_bgcolor": "white",
          "plot_bgcolor": "#E5ECF6",
          "polar": {
           "angularaxis": {
            "gridcolor": "white",
            "linecolor": "white",
            "ticks": ""
           },
           "bgcolor": "#E5ECF6",
           "radialaxis": {
            "gridcolor": "white",
            "linecolor": "white",
            "ticks": ""
           }
          },
          "scene": {
           "xaxis": {
            "backgroundcolor": "#E5ECF6",
            "gridcolor": "white",
            "gridwidth": 2,
            "linecolor": "white",
            "showbackground": true,
            "ticks": "",
            "zerolinecolor": "white"
           },
           "yaxis": {
            "backgroundcolor": "#E5ECF6",
            "gridcolor": "white",
            "gridwidth": 2,
            "linecolor": "white",
            "showbackground": true,
            "ticks": "",
            "zerolinecolor": "white"
           },
           "zaxis": {
            "backgroundcolor": "#E5ECF6",
            "gridcolor": "white",
            "gridwidth": 2,
            "linecolor": "white",
            "showbackground": true,
            "ticks": "",
            "zerolinecolor": "white"
           }
          },
          "shapedefaults": {
           "line": {
            "color": "#2a3f5f"
           }
          },
          "ternary": {
           "aaxis": {
            "gridcolor": "white",
            "linecolor": "white",
            "ticks": ""
           },
           "baxis": {
            "gridcolor": "white",
            "linecolor": "white",
            "ticks": ""
           },
           "bgcolor": "#E5ECF6",
           "caxis": {
            "gridcolor": "white",
            "linecolor": "white",
            "ticks": ""
           }
          },
          "title": {
           "x": 0.05
          },
          "xaxis": {
           "automargin": true,
           "gridcolor": "white",
           "linecolor": "white",
           "ticks": "",
           "title": {
            "standoff": 15
           },
           "zerolinecolor": "white",
           "zerolinewidth": 2
          },
          "yaxis": {
           "automargin": true,
           "gridcolor": "white",
           "linecolor": "white",
           "ticks": "",
           "title": {
            "standoff": 15
           },
           "zerolinecolor": "white",
           "zerolinewidth": 2
          }
         }
        },
        "title": {
         "text": "zone_mean_air_temp7-21"
        }
       }
      }
     },
     "metadata": {},
     "output_type": "display_data"
    }
   ],
   "source": [
    "tp = TimePlot(\"t04_gplan\")\n",
    "tp.make_time_plot(tp.dataset_names[1])"
   ]
  }
 ],
 "metadata": {
  "kernelspec": {
   "display_name": "gqenv",
   "language": "python",
   "name": "python3"
  },
  "language_info": {
   "codemirror_mode": {
    "name": "ipython",
    "version": 3
   },
   "file_extension": ".py",
   "mimetype": "text/x-python",
   "name": "python",
   "nbconvert_exporter": "python",
   "pygments_lexer": "ipython3",
   "version": "3.9.15"
  }
 },
 "nbformat": 4,
 "nbformat_minor": 2
}
