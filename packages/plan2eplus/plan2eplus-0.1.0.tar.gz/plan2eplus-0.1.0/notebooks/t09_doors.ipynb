{
 "cells": [
  {
   "cell_type": "code",
   "execution_count": 2,
   "metadata": {},
   "outputs": [],
   "source": [
    "%load_ext autoreload\n",
    "%autoreload 2"
   ]
  },
  {
   "cell_type": "code",
   "execution_count": 3,
   "metadata": {},
   "outputs": [],
   "source": [
    "from pathlib import Path\n",
    "import sys\n",
    "sys.path.append(str(Path.cwd() / \"_scripts\"))"
   ]
  },
  {
   "cell_type": "code",
   "execution_count": 108,
   "metadata": {},
   "outputs": [],
   "source": [
    "import matplotlib.pyplot as plt\n",
    "from datetime import datetime\n",
    "import numpy as np\n",
    "import seaborn as sns\n",
    "import polars as pl\n",
    "from geomeppy import IDF\n",
    "from eppy.bunch_subclass import EpBunch\n",
    "\n",
    "\n",
    "from case_edits.ezcase import create_ezcase\n",
    "from helpers.variable_interfaces import all_variables as vars\n",
    "\n",
    "from analysis.plot_subsurfaces import plot_surfaces\n",
    "from analysis.plot_helpers import plot_zone_domains\n",
    "\n",
    "\n",
    "from setup.materials_setup import retrieve_cases\n",
    "from experiments.comparisons import execute_experiment, EXP_GROUP, create_dirs, epw, ap\n",
    "from experiments.retrieve import *\n",
    "\n",
    "from rich import print as rprint\n",
    "from plan.interfaces import WindowChangeData"
   ]
  },
  {
   "cell_type": "code",
   "execution_count": null,
   "metadata": {},
   "outputs": [
    {
     "name": "stdout",
     "output_type": "stream",
     "text": [
      "out.idf does not exist\n",
      "idf has changed - running case\n"
     ]
    },
    {
     "name": "stderr",
     "output_type": "stream",
     "text": [
      "EnergyPlus Completed Successfully.\n"
     ]
    },
    {
     "data": {
      "text/html": [
       "<pre style=\"white-space:pre;overflow-x:auto;line-height:normal;font-family:Menlo,'DejaVu Sans Mono',consolas,'Courier New',monospace\"><span style=\"color: #008000; text-decoration-color: #008000; font-weight: bold\"> Simulation for case ` 241120_summer_materials/amb_b1_Light` succeeded </span> \n",
       "\n",
       "</pre>\n"
      ],
      "text/plain": [
       "\u001b[1;32m Simulation for case ` 241120_summer_materials/amb_b1_Light` succeeded \u001b[0m \n",
       "\n"
      ]
     },
     "metadata": {},
     "output_type": "display_data"
    },
    {
     "name": "stdout",
     "output_type": "stream",
     "text": [
      "out.idf does not exist\n",
      "idf has changed - running case\n"
     ]
    },
    {
     "name": "stderr",
     "output_type": "stream",
     "text": [
      "EnergyPlus Completed Successfully.\n"
     ]
    },
    {
     "data": {
      "text/html": [
       "<pre style=\"white-space:pre;overflow-x:auto;line-height:normal;font-family:Menlo,'DejaVu Sans Mono',consolas,'Courier New',monospace\"><span style=\"color: #008000; text-decoration-color: #008000; font-weight: bold\"> Simulation for case ` 241120_summer_materials/amb_b1_Medium` succeeded </span> \n",
       "\n",
       "</pre>\n"
      ],
      "text/plain": [
       "\u001b[1;32m Simulation for case ` 241120_summer_materials/amb_b1_Medium` succeeded \u001b[0m \n",
       "\n"
      ]
     },
     "metadata": {},
     "output_type": "display_data"
    },
    {
     "name": "stdout",
     "output_type": "stream",
     "text": [
      "out.idf does not exist\n",
      "idf has changed - running case\n"
     ]
    },
    {
     "name": "stderr",
     "output_type": "stream",
     "text": [
      "EnergyPlus Completed Successfully.\n"
     ]
    },
    {
     "data": {
      "text/html": [
       "<pre style=\"white-space:pre;overflow-x:auto;line-height:normal;font-family:Menlo,'DejaVu Sans Mono',consolas,'Courier New',monospace\"><span style=\"color: #008000; text-decoration-color: #008000; font-weight: bold\"> Simulation for case ` 241120_summer_materials/amb_b1_Heavy` succeeded </span> \n",
       "\n",
       "</pre>\n"
      ],
      "text/plain": [
       "\u001b[1;32m Simulation for case ` 241120_summer_materials/amb_b1_Heavy` succeeded \u001b[0m \n",
       "\n"
      ]
     },
     "metadata": {},
     "output_type": "display_data"
    },
    {
     "name": "stdout",
     "output_type": "stream",
     "text": [
      "out.idf does not exist\n",
      "idf has changed - running case\n"
     ]
    },
    {
     "name": "stderr",
     "output_type": "stream",
     "text": [
      "EnergyPlus Completed Successfully.\n"
     ]
    },
    {
     "data": {
      "text/html": [
       "<pre style=\"white-space:pre;overflow-x:auto;line-height:normal;font-family:Menlo,'DejaVu Sans Mono',consolas,'Courier New',monospace\"><span style=\"color: #008000; text-decoration-color: #008000; font-weight: bold\"> Simulation for case ` 241120_summer_windows/amb_b1_1.</span><span style=\"color: #008000; text-decoration-color: #008000; font-weight: bold\">3</span><span style=\"color: #008000; text-decoration-color: #008000; font-weight: bold\">` succeeded </span> \n",
       "\n",
       "</pre>\n"
      ],
      "text/plain": [
       "\u001b[1;32m Simulation for case ` 241120_summer_windows/amb_b1_1.\u001b[0m\u001b[1;32m3\u001b[0m\u001b[1;32m` succeeded \u001b[0m \n",
       "\n"
      ]
     },
     "metadata": {},
     "output_type": "display_data"
    },
    {
     "name": "stdout",
     "output_type": "stream",
     "text": [
      "out.idf does not exist\n",
      "idf has changed - running case\n"
     ]
    },
    {
     "name": "stderr",
     "output_type": "stream",
     "text": [
      "EnergyPlus Completed Successfully.\n"
     ]
    },
    {
     "data": {
      "text/html": [
       "<pre style=\"white-space:pre;overflow-x:auto;line-height:normal;font-family:Menlo,'DejaVu Sans Mono',consolas,'Courier New',monospace\"><span style=\"color: #008000; text-decoration-color: #008000; font-weight: bold\"> Simulation for case ` 241120_summer_windows/amb_b1_0.</span><span style=\"color: #008000; text-decoration-color: #008000; font-weight: bold\">7</span><span style=\"color: #008000; text-decoration-color: #008000; font-weight: bold\">` succeeded </span> \n",
       "\n",
       "</pre>\n"
      ],
      "text/plain": [
       "\u001b[1;32m Simulation for case ` 241120_summer_windows/amb_b1_0.\u001b[0m\u001b[1;32m7\u001b[0m\u001b[1;32m` succeeded \u001b[0m \n",
       "\n"
      ]
     },
     "metadata": {},
     "output_type": "display_data"
    },
    {
     "name": "stdout",
     "output_type": "stream",
     "text": [
      "out.idf does not exist\n",
      "idf has changed - running case\n"
     ]
    },
    {
     "name": "stderr",
     "output_type": "stream",
     "text": [
      "EnergyPlus Completed Successfully.\n"
     ]
    },
    {
     "data": {
      "text/html": [
       "<pre style=\"white-space:pre;overflow-x:auto;line-height:normal;font-family:Menlo,'DejaVu Sans Mono',consolas,'Courier New',monospace\"><span style=\"color: #008000; text-decoration-color: #008000; font-weight: bold\"> Simulation for case ` 241120_summer_doors/amb_b1_CLOSED` succeeded </span> \n",
       "\n",
       "</pre>\n"
      ],
      "text/plain": [
       "\u001b[1;32m Simulation for case ` 241120_summer_doors/amb_b1_CLOSED` succeeded \u001b[0m \n",
       "\n"
      ]
     },
     "metadata": {},
     "output_type": "display_data"
    },
    {
     "name": "stdout",
     "output_type": "stream",
     "text": [
      "out.idf does not exist\n",
      "idf has changed - running case\n"
     ]
    },
    {
     "name": "stderr",
     "output_type": "stream",
     "text": [
      "EnergyPlus Completed Successfully.\n"
     ]
    },
    {
     "data": {
      "text/html": [
       "<pre style=\"white-space:pre;overflow-x:auto;line-height:normal;font-family:Menlo,'DejaVu Sans Mono',consolas,'Courier New',monospace\"><span style=\"color: #008000; text-decoration-color: #008000; font-weight: bold\"> Simulation for case ` 241120_summer_doors/amb_b1_DYNAMIC` succeeded </span> \n",
       "\n",
       "</pre>\n"
      ],
      "text/plain": [
       "\u001b[1;32m Simulation for case ` 241120_summer_doors/amb_b1_DYNAMIC` succeeded \u001b[0m \n",
       "\n"
      ]
     },
     "metadata": {},
     "output_type": "display_data"
    },
    {
     "name": "stdout",
     "output_type": "stream",
     "text": [
      "out.idf does not exist\n",
      "idf has changed - running case\n"
     ]
    },
    {
     "name": "stderr",
     "output_type": "stream",
     "text": [
      "EnergyPlus Completed Successfully.\n"
     ]
    },
    {
     "data": {
      "text/html": [
       "<pre style=\"white-space:pre;overflow-x:auto;line-height:normal;font-family:Menlo,'DejaVu Sans Mono',consolas,'Courier New',monospace\"><span style=\"color: #008000; text-decoration-color: #008000; font-weight: bold\"> Simulation for case ` 241120_summer_materials/bol_5_Light` succeeded </span> \n",
       "\n",
       "</pre>\n"
      ],
      "text/plain": [
       "\u001b[1;32m Simulation for case ` 241120_summer_materials/bol_5_Light` succeeded \u001b[0m \n",
       "\n"
      ]
     },
     "metadata": {},
     "output_type": "display_data"
    },
    {
     "name": "stdout",
     "output_type": "stream",
     "text": [
      "out.idf does not exist\n",
      "idf has changed - running case\n"
     ]
    },
    {
     "name": "stderr",
     "output_type": "stream",
     "text": [
      "EnergyPlus Completed Successfully.\n"
     ]
    },
    {
     "data": {
      "text/html": [
       "<pre style=\"white-space:pre;overflow-x:auto;line-height:normal;font-family:Menlo,'DejaVu Sans Mono',consolas,'Courier New',monospace\"><span style=\"color: #008000; text-decoration-color: #008000; font-weight: bold\"> Simulation for case ` 241120_summer_materials/bol_5_Medium` succeeded </span> \n",
       "\n",
       "</pre>\n"
      ],
      "text/plain": [
       "\u001b[1;32m Simulation for case ` 241120_summer_materials/bol_5_Medium` succeeded \u001b[0m \n",
       "\n"
      ]
     },
     "metadata": {},
     "output_type": "display_data"
    },
    {
     "name": "stdout",
     "output_type": "stream",
     "text": [
      "out.idf does not exist\n",
      "idf has changed - running case\n"
     ]
    },
    {
     "name": "stderr",
     "output_type": "stream",
     "text": [
      "EnergyPlus Completed Successfully.\n"
     ]
    },
    {
     "data": {
      "text/html": [
       "<pre style=\"white-space:pre;overflow-x:auto;line-height:normal;font-family:Menlo,'DejaVu Sans Mono',consolas,'Courier New',monospace\"><span style=\"color: #008000; text-decoration-color: #008000; font-weight: bold\"> Simulation for case ` 241120_summer_materials/bol_5_Heavy` succeeded </span> \n",
       "\n",
       "</pre>\n"
      ],
      "text/plain": [
       "\u001b[1;32m Simulation for case ` 241120_summer_materials/bol_5_Heavy` succeeded \u001b[0m \n",
       "\n"
      ]
     },
     "metadata": {},
     "output_type": "display_data"
    },
    {
     "name": "stdout",
     "output_type": "stream",
     "text": [
      "out.idf does not exist\n",
      "idf has changed - running case\n"
     ]
    },
    {
     "name": "stderr",
     "output_type": "stream",
     "text": [
      "EnergyPlus Completed Successfully.\n"
     ]
    },
    {
     "data": {
      "text/html": [
       "<pre style=\"white-space:pre;overflow-x:auto;line-height:normal;font-family:Menlo,'DejaVu Sans Mono',consolas,'Courier New',monospace\"><span style=\"color: #008000; text-decoration-color: #008000; font-weight: bold\"> Simulation for case ` 241120_summer_windows/bol_5_1.</span><span style=\"color: #008000; text-decoration-color: #008000; font-weight: bold\">3</span><span style=\"color: #008000; text-decoration-color: #008000; font-weight: bold\">` succeeded </span> \n",
       "\n",
       "</pre>\n"
      ],
      "text/plain": [
       "\u001b[1;32m Simulation for case ` 241120_summer_windows/bol_5_1.\u001b[0m\u001b[1;32m3\u001b[0m\u001b[1;32m` succeeded \u001b[0m \n",
       "\n"
      ]
     },
     "metadata": {},
     "output_type": "display_data"
    },
    {
     "name": "stdout",
     "output_type": "stream",
     "text": [
      "out.idf does not exist\n",
      "idf has changed - running case\n"
     ]
    },
    {
     "name": "stderr",
     "output_type": "stream",
     "text": [
      "EnergyPlus Completed Successfully.\n"
     ]
    },
    {
     "data": {
      "text/html": [
       "<pre style=\"white-space:pre;overflow-x:auto;line-height:normal;font-family:Menlo,'DejaVu Sans Mono',consolas,'Courier New',monospace\"><span style=\"color: #008000; text-decoration-color: #008000; font-weight: bold\"> Simulation for case ` 241120_summer_windows/bol_5_0.</span><span style=\"color: #008000; text-decoration-color: #008000; font-weight: bold\">7</span><span style=\"color: #008000; text-decoration-color: #008000; font-weight: bold\">` succeeded </span> \n",
       "\n",
       "</pre>\n"
      ],
      "text/plain": [
       "\u001b[1;32m Simulation for case ` 241120_summer_windows/bol_5_0.\u001b[0m\u001b[1;32m7\u001b[0m\u001b[1;32m` succeeded \u001b[0m \n",
       "\n"
      ]
     },
     "metadata": {},
     "output_type": "display_data"
    },
    {
     "name": "stdout",
     "output_type": "stream",
     "text": [
      "out.idf does not exist\n",
      "idf has changed - running case\n"
     ]
    },
    {
     "name": "stderr",
     "output_type": "stream",
     "text": [
      "EnergyPlus Completed Successfully.\n"
     ]
    },
    {
     "data": {
      "text/html": [
       "<pre style=\"white-space:pre;overflow-x:auto;line-height:normal;font-family:Menlo,'DejaVu Sans Mono',consolas,'Courier New',monospace\"><span style=\"color: #008000; text-decoration-color: #008000; font-weight: bold\"> Simulation for case ` 241120_summer_doors/bol_5_CLOSED` succeeded </span> \n",
       "\n",
       "</pre>\n"
      ],
      "text/plain": [
       "\u001b[1;32m Simulation for case ` 241120_summer_doors/bol_5_CLOSED` succeeded \u001b[0m \n",
       "\n"
      ]
     },
     "metadata": {},
     "output_type": "display_data"
    },
    {
     "name": "stdout",
     "output_type": "stream",
     "text": [
      "out.idf does not exist\n",
      "idf has changed - running case\n"
     ]
    },
    {
     "name": "stderr",
     "output_type": "stream",
     "text": [
      "EnergyPlus Completed Successfully.\n"
     ]
    },
    {
     "data": {
      "text/html": [
       "<pre style=\"white-space:pre;overflow-x:auto;line-height:normal;font-family:Menlo,'DejaVu Sans Mono',consolas,'Courier New',monospace\"><span style=\"color: #008000; text-decoration-color: #008000; font-weight: bold\"> Simulation for case ` 241120_summer_doors/bol_5_DYNAMIC` succeeded </span> \n",
       "\n",
       "</pre>\n"
      ],
      "text/plain": [
       "\u001b[1;32m Simulation for case ` 241120_summer_doors/bol_5_DYNAMIC` succeeded \u001b[0m \n",
       "\n"
      ]
     },
     "metadata": {},
     "output_type": "display_data"
    },
    {
     "name": "stdout",
     "output_type": "stream",
     "text": [
      "Partner Block 00 Storey 0 not in  original AFN. Adding now.. \n",
      "Subsurf Block 00 Storey 0 Wall 0002 Window not in  original AFN. Adding now.. \n",
      "out.idf does not exist\n",
      "idf has changed - running case\n"
     ]
    },
    {
     "name": "stderr",
     "output_type": "stream",
     "text": [
      "EnergyPlus Completed Successfully.\n"
     ]
    },
    {
     "data": {
      "text/html": [
       "<pre style=\"white-space:pre;overflow-x:auto;line-height:normal;font-family:Menlo,'DejaVu Sans Mono',consolas,'Courier New',monospace\"><span style=\"color: #008000; text-decoration-color: #008000; font-weight: bold\"> Simulation for case ` 241120_summer_materials/red_b1_Light` succeeded </span> \n",
       "\n",
       "</pre>\n"
      ],
      "text/plain": [
       "\u001b[1;32m Simulation for case ` 241120_summer_materials/red_b1_Light` succeeded \u001b[0m \n",
       "\n"
      ]
     },
     "metadata": {},
     "output_type": "display_data"
    },
    {
     "name": "stdout",
     "output_type": "stream",
     "text": [
      "Partner Block 00 Storey 0 not in  original AFN. Adding now.. \n",
      "Subsurf Block 00 Storey 0 Wall 0002 Window not in  original AFN. Adding now.. \n",
      "out.idf does not exist\n",
      "idf has changed - running case\n"
     ]
    },
    {
     "name": "stderr",
     "output_type": "stream",
     "text": [
      "EnergyPlus Completed Successfully.\n"
     ]
    },
    {
     "data": {
      "text/html": [
       "<pre style=\"white-space:pre;overflow-x:auto;line-height:normal;font-family:Menlo,'DejaVu Sans Mono',consolas,'Courier New',monospace\"><span style=\"color: #008000; text-decoration-color: #008000; font-weight: bold\"> Simulation for case ` 241120_summer_materials/red_b1_Medium` succeeded </span> \n",
       "\n",
       "</pre>\n"
      ],
      "text/plain": [
       "\u001b[1;32m Simulation for case ` 241120_summer_materials/red_b1_Medium` succeeded \u001b[0m \n",
       "\n"
      ]
     },
     "metadata": {},
     "output_type": "display_data"
    },
    {
     "name": "stdout",
     "output_type": "stream",
     "text": [
      "Partner Block 00 Storey 0 not in  original AFN. Adding now.. \n",
      "Subsurf Block 00 Storey 0 Wall 0002 Window not in  original AFN. Adding now.. \n",
      "out.idf does not exist\n",
      "idf has changed - running case\n"
     ]
    },
    {
     "name": "stderr",
     "output_type": "stream",
     "text": [
      "EnergyPlus Completed Successfully.\n"
     ]
    },
    {
     "data": {
      "text/html": [
       "<pre style=\"white-space:pre;overflow-x:auto;line-height:normal;font-family:Menlo,'DejaVu Sans Mono',consolas,'Courier New',monospace\"><span style=\"color: #008000; text-decoration-color: #008000; font-weight: bold\"> Simulation for case ` 241120_summer_materials/red_b1_Heavy` succeeded </span> \n",
       "\n",
       "</pre>\n"
      ],
      "text/plain": [
       "\u001b[1;32m Simulation for case ` 241120_summer_materials/red_b1_Heavy` succeeded \u001b[0m \n",
       "\n"
      ]
     },
     "metadata": {},
     "output_type": "display_data"
    },
    {
     "name": "stdout",
     "output_type": "stream",
     "text": [
      "Partner Block 00 Storey 0 not in  original AFN. Adding now.. \n",
      "Subsurf Block 00 Storey 0 Wall 0002 Window not in  original AFN. Adding now.. \n",
      "out.idf does not exist\n",
      "idf has changed - running case\n"
     ]
    },
    {
     "name": "stderr",
     "output_type": "stream",
     "text": [
      "EnergyPlus Completed Successfully.\n"
     ]
    },
    {
     "data": {
      "text/html": [
       "<pre style=\"white-space:pre;overflow-x:auto;line-height:normal;font-family:Menlo,'DejaVu Sans Mono',consolas,'Courier New',monospace\"><span style=\"color: #008000; text-decoration-color: #008000; font-weight: bold\"> Simulation for case ` 241120_summer_windows/red_b1_1.</span><span style=\"color: #008000; text-decoration-color: #008000; font-weight: bold\">3</span><span style=\"color: #008000; text-decoration-color: #008000; font-weight: bold\">` succeeded </span> \n",
       "\n",
       "</pre>\n"
      ],
      "text/plain": [
       "\u001b[1;32m Simulation for case ` 241120_summer_windows/red_b1_1.\u001b[0m\u001b[1;32m3\u001b[0m\u001b[1;32m` succeeded \u001b[0m \n",
       "\n"
      ]
     },
     "metadata": {},
     "output_type": "display_data"
    },
    {
     "name": "stdout",
     "output_type": "stream",
     "text": [
      "Partner Block 00 Storey 0 not in  original AFN. Adding now.. \n",
      "Subsurf Block 00 Storey 0 Wall 0002 Window not in  original AFN. Adding now.. \n",
      "out.idf does not exist\n",
      "idf has changed - running case\n"
     ]
    },
    {
     "name": "stderr",
     "output_type": "stream",
     "text": [
      "EnergyPlus Completed Successfully.\n"
     ]
    },
    {
     "data": {
      "text/html": [
       "<pre style=\"white-space:pre;overflow-x:auto;line-height:normal;font-family:Menlo,'DejaVu Sans Mono',consolas,'Courier New',monospace\"><span style=\"color: #008000; text-decoration-color: #008000; font-weight: bold\"> Simulation for case ` 241120_summer_windows/red_b1_0.</span><span style=\"color: #008000; text-decoration-color: #008000; font-weight: bold\">7</span><span style=\"color: #008000; text-decoration-color: #008000; font-weight: bold\">` succeeded </span> \n",
       "\n",
       "</pre>\n"
      ],
      "text/plain": [
       "\u001b[1;32m Simulation for case ` 241120_summer_windows/red_b1_0.\u001b[0m\u001b[1;32m7\u001b[0m\u001b[1;32m` succeeded \u001b[0m \n",
       "\n"
      ]
     },
     "metadata": {},
     "output_type": "display_data"
    },
    {
     "name": "stdout",
     "output_type": "stream",
     "text": [
      "Partner Block 00 Storey 0 not in  original AFN. Adding now.. \n",
      "Subsurf Block 00 Storey 0 Wall 0002 Window not in  original AFN. Adding now.. \n",
      "out.idf does not exist\n",
      "idf has changed - running case\n"
     ]
    },
    {
     "name": "stderr",
     "output_type": "stream",
     "text": [
      "EnergyPlus Completed Successfully.\n"
     ]
    },
    {
     "data": {
      "text/html": [
       "<pre style=\"white-space:pre;overflow-x:auto;line-height:normal;font-family:Menlo,'DejaVu Sans Mono',consolas,'Courier New',monospace\"><span style=\"color: #008000; text-decoration-color: #008000; font-weight: bold\"> Simulation for case ` 241120_summer_doors/red_b1_CLOSED` succeeded </span> \n",
       "\n",
       "</pre>\n"
      ],
      "text/plain": [
       "\u001b[1;32m Simulation for case ` 241120_summer_doors/red_b1_CLOSED` succeeded \u001b[0m \n",
       "\n"
      ]
     },
     "metadata": {},
     "output_type": "display_data"
    },
    {
     "name": "stdout",
     "output_type": "stream",
     "text": [
      "Partner Block 00 Storey 0 not in  original AFN. Adding now.. \n",
      "Subsurf Block 00 Storey 0 Wall 0002 Window not in  original AFN. Adding now.. \n",
      "out.idf does not exist\n",
      "idf has changed - running case\n"
     ]
    },
    {
     "name": "stderr",
     "output_type": "stream",
     "text": [
      "EnergyPlus Completed Successfully.\n"
     ]
    },
    {
     "data": {
      "text/html": [
       "<pre style=\"white-space:pre;overflow-x:auto;line-height:normal;font-family:Menlo,'DejaVu Sans Mono',consolas,'Courier New',monospace\"><span style=\"color: #008000; text-decoration-color: #008000; font-weight: bold\"> Simulation for case ` 241120_summer_doors/red_b1_DYNAMIC` succeeded </span> \n",
       "\n",
       "</pre>\n"
      ],
      "text/plain": [
       "\u001b[1;32m Simulation for case ` 241120_summer_doors/red_b1_DYNAMIC` succeeded \u001b[0m \n",
       "\n"
      ]
     },
     "metadata": {},
     "output_type": "display_data"
    }
   ],
   "source": [
    "# execute_experiment()"
   ]
  },
  {
   "cell_type": "code",
   "execution_count": 121,
   "metadata": {},
   "outputs": [
    {
     "name": "stdout",
     "output_type": "stream",
     "text": [
      "out.idf does not exist\n"
     ]
    }
   ],
   "source": [
    "\n",
    "\n",
    "\n",
    "output_folder = \"windowstest241120\"\n",
    "input_case_name = \"bol_5\"\n",
    "ctype=0.7\n",
    "output_dir, input_dir, output_case_name = create_dirs(output_folder, input_case_name, ctype)\n",
    "ezcase = create_ezcase(\n",
    "            output_dir,\n",
    "            input_dir,\n",
    "            win_change_data=WindowChangeData(True, ctype),\n",
    "            epw=epw,\n",
    "            analysis_period=ap,\n",
    "        )"
   ]
  },
  {
   "cell_type": "code",
   "execution_count": 123,
   "metadata": {},
   "outputs": [
    {
     "name": "stderr",
     "output_type": "stream",
     "text": [
      "EnergyPlus Completed Successfully.\n"
     ]
    }
   ],
   "source": [
    "ezcase.idf.run(verbose=\"q\")"
   ]
  },
  {
   "cell_type": "code",
   "execution_count": 102,
   "metadata": {},
   "outputs": [
    {
     "name": "stdout",
     "output_type": "stream",
     "text": [
      "mats!\n"
     ]
    },
    {
     "data": {
      "text/plain": [
       "9"
      ]
     },
     "execution_count": 102,
     "metadata": {},
     "output_type": "execute_result"
    }
   ],
   "source": [
    "len(retrieve_comparison_groups(\"materials\"))"
   ]
  },
  {
   "cell_type": "code",
   "execution_count": 104,
   "metadata": {},
   "outputs": [
    {
     "data": {
      "text/plain": [
       "[CaseData(case_name='red_b1_0.7', idf=<geomeppy.idf.IDF object at 0x14695dd20>, sql=Energy SQLiteResult: /Users/julietnwagwuume-ezeoke/_UILCode/gqe-phd/geomeppy/cases/241119_windows/red_b1_0.7/results/eplusout.sql, path_to_input=PosixPath('/Users/julietnwagwuume-ezeoke/_UILCode/gqe-phd/svg2plan/outputs2/case_red_b1'), path_to_output=PosixPath('/Users/julietnwagwuume-ezeoke/_UILCode/gqe-phd/geomeppy/cases/241119_windows/red_b1_0.7')),\n",
       " CaseData(case_name='bol_5_0.7', idf=<geomeppy.idf.IDF object at 0x1505a5f00>, sql=Energy SQLiteResult: /Users/julietnwagwuume-ezeoke/_UILCode/gqe-phd/geomeppy/cases/241119_windows/bol_5_0.7/results/eplusout.sql, path_to_input=PosixPath('/Users/julietnwagwuume-ezeoke/_UILCode/gqe-phd/svg2plan/outputs2/case_bol_5'), path_to_output=PosixPath('/Users/julietnwagwuume-ezeoke/_UILCode/gqe-phd/geomeppy/cases/241119_windows/bol_5_0.7')),\n",
       " CaseData(case_name='amb_b1_0.7', idf=<geomeppy.idf.IDF object at 0x145182fb0>, sql=Energy SQLiteResult: /Users/julietnwagwuume-ezeoke/_UILCode/gqe-phd/geomeppy/cases/241119_windows/amb_b1_0.7/results/eplusout.sql, path_to_input=PosixPath('/Users/julietnwagwuume-ezeoke/_UILCode/gqe-phd/svg2plan/outputs2/case_amb_b1'), path_to_output=PosixPath('/Users/julietnwagwuume-ezeoke/_UILCode/gqe-phd/geomeppy/cases/241119_windows/amb_b1_0.7')),\n",
       " CaseData(case_name='red_b1_1.3', idf=<geomeppy.idf.IDF object at 0x141cc7bb0>, sql=Energy SQLiteResult: /Users/julietnwagwuume-ezeoke/_UILCode/gqe-phd/geomeppy/cases/241119_windows/red_b1_1.3/results/eplusout.sql, path_to_input=PosixPath('/Users/julietnwagwuume-ezeoke/_UILCode/gqe-phd/svg2plan/outputs2/case_red_b1'), path_to_output=PosixPath('/Users/julietnwagwuume-ezeoke/_UILCode/gqe-phd/geomeppy/cases/241119_windows/red_b1_1.3')),\n",
       " CaseData(case_name='bol_5_1.3', idf=<geomeppy.idf.IDF object at 0x14351c760>, sql=Energy SQLiteResult: /Users/julietnwagwuume-ezeoke/_UILCode/gqe-phd/geomeppy/cases/241119_windows/bol_5_1.3/results/eplusout.sql, path_to_input=PosixPath('/Users/julietnwagwuume-ezeoke/_UILCode/gqe-phd/svg2plan/outputs2/case_bol_5'), path_to_output=PosixPath('/Users/julietnwagwuume-ezeoke/_UILCode/gqe-phd/geomeppy/cases/241119_windows/bol_5_1.3')),\n",
       " CaseData(case_name='amb_b1_1.3', idf=<geomeppy.idf.IDF object at 0x1477fd000>, sql=Energy SQLiteResult: /Users/julietnwagwuume-ezeoke/_UILCode/gqe-phd/geomeppy/cases/241119_windows/amb_b1_1.3/results/eplusout.sql, path_to_input=PosixPath('/Users/julietnwagwuume-ezeoke/_UILCode/gqe-phd/svg2plan/outputs2/case_amb_b1'), path_to_output=PosixPath('/Users/julietnwagwuume-ezeoke/_UILCode/gqe-phd/geomeppy/cases/241119_windows/amb_b1_1.3')),\n",
       " CaseData(case_name='bol_5_Medium', idf=<geomeppy.idf.IDF object at 0x1518de320>, sql=Energy SQLiteResult: /Users/julietnwagwuume-ezeoke/_UILCode/gqe-phd/geomeppy/cases/241119_materials/bol_5_Medium/results/eplusout.sql, path_to_input=PosixPath('/Users/julietnwagwuume-ezeoke/_UILCode/gqe-phd/svg2plan/outputs2/case_bol_5'), path_to_output=PosixPath('/Users/julietnwagwuume-ezeoke/_UILCode/gqe-phd/geomeppy/cases/241119_materials/bol_5_Medium')),\n",
       " CaseData(case_name='red_b1_Medium', idf=<geomeppy.idf.IDF object at 0x1434dcbb0>, sql=Energy SQLiteResult: /Users/julietnwagwuume-ezeoke/_UILCode/gqe-phd/geomeppy/cases/241119_materials/red_b1_Medium/results/eplusout.sql, path_to_input=PosixPath('/Users/julietnwagwuume-ezeoke/_UILCode/gqe-phd/svg2plan/outputs2/case_red_b1'), path_to_output=PosixPath('/Users/julietnwagwuume-ezeoke/_UILCode/gqe-phd/geomeppy/cases/241119_materials/red_b1_Medium')),\n",
       " CaseData(case_name='amb_b1_Medium', idf=<geomeppy.idf.IDF object at 0x15097c700>, sql=Energy SQLiteResult: /Users/julietnwagwuume-ezeoke/_UILCode/gqe-phd/geomeppy/cases/241119_materials/amb_b1_Medium/results/eplusout.sql, path_to_input=PosixPath('/Users/julietnwagwuume-ezeoke/_UILCode/gqe-phd/svg2plan/outputs2/case_amb_b1'), path_to_output=PosixPath('/Users/julietnwagwuume-ezeoke/_UILCode/gqe-phd/geomeppy/cases/241119_materials/amb_b1_Medium'))]"
      ]
     },
     "execution_count": 104,
     "metadata": {},
     "output_type": "execute_result"
    }
   ],
   "source": [
    "retrieve_comparison_groups(\"windows\")"
   ]
  },
  {
   "cell_type": "code",
   "execution_count": 96,
   "metadata": {},
   "outputs": [
    {
     "data": {
      "text/plain": [
       "12"
      ]
     },
     "execution_count": 96,
     "metadata": {},
     "output_type": "execute_result"
    }
   ],
   "source": [
    "len(set(retrieve_comparison_groups(\"materials\")))"
   ]
  },
  {
   "cell_type": "code",
   "execution_count": 65,
   "metadata": {},
   "outputs": [
    {
     "data": {
      "text/plain": [
       "PosixPath('/Users/julietnwagwuume-ezeoke/_UILCode/gqe-phd/geomeppy/cases')"
      ]
     },
     "execution_count": 65,
     "metadata": {},
     "output_type": "execute_result"
    }
   ],
   "source": [
    "path_to_cases = Path.cwd() / \"cases\"\n",
    "path_to_cases"
   ]
  },
  {
   "cell_type": "code",
   "execution_count": 80,
   "metadata": {},
   "outputs": [
    {
     "data": {
      "text/plain": [
       "[PosixPath('/Users/julietnwagwuume-ezeoke/_UILCode/gqe-phd/geomeppy/cases/241119_windows/red_b1_0.7'),\n",
       " PosixPath('/Users/julietnwagwuume-ezeoke/_UILCode/gqe-phd/geomeppy/cases/241119_windows/bol_5_0.7'),\n",
       " PosixPath('/Users/julietnwagwuume-ezeoke/_UILCode/gqe-phd/geomeppy/cases/241119_windows/amb_b1_0.7'),\n",
       " PosixPath('/Users/julietnwagwuume-ezeoke/_UILCode/gqe-phd/geomeppy/cases/241119_windows/red_b1_1.3'),\n",
       " PosixPath('/Users/julietnwagwuume-ezeoke/_UILCode/gqe-phd/geomeppy/cases/241119_windows/bol_5_1.3'),\n",
       " PosixPath('/Users/julietnwagwuume-ezeoke/_UILCode/gqe-phd/geomeppy/cases/241119_windows/amb_b1_1.3')]"
      ]
     },
     "execution_count": 80,
     "metadata": {},
     "output_type": "execute_result"
    }
   ],
   "source": [
    "project_dirs = [i for i in path_to_cases.iterdir() if i.is_dir() and EXP_GROUP in i.name]\n",
    "cases = [i for i in project_dirs[0].iterdir()]\n",
    "cases"
   ]
  },
  {
   "cell_type": "code",
   "execution_count": 84,
   "metadata": {},
   "outputs": [
    {
     "data": {
      "text/plain": [
       "[PosixPath('/Users/julietnwagwuume-ezeoke/_UILCode/gqe-phd/geomeppy/cases/241119_windows'),\n",
       " PosixPath('/Users/julietnwagwuume-ezeoke/_UILCode/gqe-phd/geomeppy/cases/241119_doors'),\n",
       " PosixPath('/Users/julietnwagwuume-ezeoke/_UILCode/gqe-phd/geomeppy/cases/241119_materials')]"
      ]
     },
     "execution_count": 84,
     "metadata": {},
     "output_type": "execute_result"
    }
   ],
   "source": [
    "project_dirs"
   ]
  },
  {
   "cell_type": "code",
   "execution_count": 86,
   "metadata": {},
   "outputs": [
    {
     "data": {
      "text/plain": [
       "PosixPath('/Users/julietnwagwuume-ezeoke/_UILCode/gqe-phd/geomeppy/cases/241119_materials')"
      ]
     },
     "execution_count": 86,
     "metadata": {},
     "output_type": "execute_result"
    }
   ],
   "source": [
    "[mat_folder] = [i for i in project_dirs if \"materials\" in i.name]\n",
    "mat_folder"
   ]
  },
  {
   "cell_type": "code",
   "execution_count": 89,
   "metadata": {},
   "outputs": [
    {
     "data": {
      "text/plain": [
       "[CaseData(case_name='bol_5_Medium', idf=<geomeppy.idf.IDF object at 0x11b14c880>, sql=Energy SQLiteResult: /Users/julietnwagwuume-ezeoke/_UILCode/gqe-phd/geomeppy/cases/241119_materials/bol_5_Medium/results/eplusout.sql, path_to_input=PosixPath('/Users/julietnwagwuume-ezeoke/_UILCode/gqe-phd/svg2plan/outputs2/case_bol_5'), path_to_output=PosixPath('/Users/julietnwagwuume-ezeoke/_UILCode/gqe-phd/geomeppy/cases/241119_materials/bol_5_Medium')),\n",
       " CaseData(case_name='red_b1_Medium', idf=<geomeppy.idf.IDF object at 0x11d388d00>, sql=Energy SQLiteResult: /Users/julietnwagwuume-ezeoke/_UILCode/gqe-phd/geomeppy/cases/241119_materials/red_b1_Medium/results/eplusout.sql, path_to_input=PosixPath('/Users/julietnwagwuume-ezeoke/_UILCode/gqe-phd/svg2plan/outputs2/case_red_b1'), path_to_output=PosixPath('/Users/julietnwagwuume-ezeoke/_UILCode/gqe-phd/geomeppy/cases/241119_materials/red_b1_Medium')),\n",
       " CaseData(case_name='amb_b1_Medium', idf=<geomeppy.idf.IDF object at 0x11d64c850>, sql=Energy SQLiteResult: /Users/julietnwagwuume-ezeoke/_UILCode/gqe-phd/geomeppy/cases/241119_materials/amb_b1_Medium/results/eplusout.sql, path_to_input=PosixPath('/Users/julietnwagwuume-ezeoke/_UILCode/gqe-phd/svg2plan/outputs2/case_amb_b1'), path_to_output=PosixPath('/Users/julietnwagwuume-ezeoke/_UILCode/gqe-phd/geomeppy/cases/241119_materials/amb_b1_Medium'))]"
      ]
     },
     "execution_count": 89,
     "metadata": {},
     "output_type": "execute_result"
    }
   ],
   "source": [
    "[i for i in retieve_cases_from_folder(mat_folder) if \"Medium\" in i.case_name]"
   ]
  },
  {
   "cell_type": "code",
   "execution_count": 81,
   "metadata": {},
   "outputs": [
    {
     "data": {
      "text/plain": [
       "CaseData(case_name='red_b1_0.7', idf=<geomeppy.idf.IDF object at 0x134db6fe0>, sql=Energy SQLiteResult: /Users/julietnwagwuume-ezeoke/_UILCode/gqe-phd/geomeppy/cases/241119_windows/red_b1_0.7/results/eplusout.sql, path_to_input=PosixPath('/Users/julietnwagwuume-ezeoke/_UILCode/gqe-phd/svg2plan/outputs2/case_red_b1'), path_to_output=PosixPath('/Users/julietnwagwuume-ezeoke/_UILCode/gqe-phd/geomeppy/cases/241119_windows/red_b1_0.7'))"
      ]
     },
     "execution_count": 81,
     "metadata": {},
     "output_type": "execute_result"
    }
   ],
   "source": [
    "retrieve_case_from_path(cases[0])"
   ]
  },
  {
   "cell_type": "code",
   "execution_count": null,
   "metadata": {},
   "outputs": [],
   "source": []
  },
  {
   "cell_type": "code",
   "execution_count": null,
   "metadata": {},
   "outputs": [
    {
     "data": {
      "text/plain": [
       "'red_b1'"
      ]
     },
     "execution_count": 78,
     "metadata": {},
     "output_type": "execute_result"
    }
   ],
   "source": [
    "name = 'red_b1_0.7'\n",
    "\n",
    "def retrive_input_dir():\n",
    "    case_name = \"_\".join(name.split(\"_\")[:2])\n",
    "    return f\"case_{case_name}\"\n",
    "\n",
    "# def retieve\n"
   ]
  },
  {
   "cell_type": "code",
   "execution_count": null,
   "metadata": {},
   "outputs": [],
   "source": [
    "def retrieve_case_from_path(path_to_output:Path):\n",
    "    idf = get_idf(path_to_output)\n",
    "    sql = get_sql_results(path_to_output)\n",
    "    case_name = path.name\n",
    "    input_dir = retrive_input_dir(case_name)\n",
    "    path_to_input = get_path_to_inputs(input_dir)\n",
    "\n",
    "    return CaseData(case_name, idf, sql, path_to_input, path_to_output)\n",
    "\n",
    "\n",
    "\n"
   ]
  },
  {
   "cell_type": "code",
   "execution_count": null,
   "metadata": {},
   "outputs": [],
   "source": [
    "# execute_experiment()"
   ]
  },
  {
   "cell_type": "code",
   "execution_count": 60,
   "metadata": {},
   "outputs": [
    {
     "name": "stdout",
     "output_type": "stream",
     "text": [
      "documents\n"
     ]
    }
   ],
   "source": [
    "# from pathlib import Path\n",
    "\n",
    "# Create a Path object\n",
    "p = Path('/home/user/documents/file.txt')\n",
    "\n",
    "# Get the immediate parent directory\n",
    "parent_dir = p.parent.name\n",
    "\n",
    "print(parent_dir)"
   ]
  },
  {
   "cell_type": "code",
   "execution_count": 50,
   "metadata": {},
   "outputs": [
    {
     "data": {
      "text/plain": [
       "CaseData(case_name='Medium_case_bol_5', idf=<geomeppy.idf.IDF object at 0x11b02a9e0>, sql=Energy SQLiteResult: /Users/julietnwagwuume-ezeoke/_UILCode/gqe-phd/geomeppy/cases/material_exp/Medium_case_bol_5/results/eplusout.sql, path_to_input=PosixPath('/Users/julietnwagwuume-ezeoke/_UILCode/gqe-phd/svg2plan/outputs2/case_bol_5'), path_to_output=PosixPath('/Users/julietnwagwuume-ezeoke/_UILCode/gqe-phd/geomeppy/cases/material_exp/Medium_case_bol_5'))"
      ]
     },
     "execution_count": 50,
     "metadata": {},
     "output_type": "execute_result"
    }
   ],
   "source": [
    "all_cases = retrieve_cases()\n",
    "case = [i for i in all_cases if \"bol\" in i.case_name][1]\n",
    "case"
   ]
  },
  {
   "cell_type": "code",
   "execution_count": 51,
   "metadata": {},
   "outputs": [
    {
     "name": "stdout",
     "output_type": "stream",
     "text": [
      "No epw! Now its EPW file Data for [\"PALO-ALTO-AP\"]\n",
      "out.idf does not exist\n"
     ]
    }
   ],
   "source": [
    "case2 = create_ezcase(case.path_to_output, case.path_to_input)\n",
    "# case2.run_idf()\n",
    "# doors = [i for i in  case2.idf.idfobjects]"
   ]
  },
  {
   "cell_type": "code",
   "execution_count": 61,
   "metadata": {},
   "outputs": [
    {
     "name": "stdout",
     "output_type": "stream",
     "text": [
      "idf has changed - running case\n",
      "\n",
      "/Applications/EnergyPlus-22-2-0/energyplus --weather /Users/julietnwagwuume-ezeoke/_UILCode/gqe-phd/geomeppy/weather_data/PALO_ALTO/CA_PALO-ALTO-AP_724937_23.EPW --output-directory /Users/julietnwagwuume-ezeoke/_UILCode/gqe-phd/geomeppy/cases/material_exp/Medium_case_bol_5/results --idd /Applications/EnergyPlus-22-2-0/Energy+.idd /Users/julietnwagwuume-ezeoke/_UILCode/gqe-phd/geomeppy/cases/base/01example/Minimal_AP_adedcd.idf\n",
      "\n",
      "EnergyPlus Starting\n",
      "EnergyPlus, Version 22.2.0-c249759bad, YMD=2024.11.19 14:38\n",
      "Adjusting Air System Sizing\n",
      "Adjusting Standard 62.1 Ventilation Sizing\n",
      "Initializing Simulation\n",
      "Reporting Surfaces\n",
      "Beginning Primary Simulation\n",
      "Initializing New Environment Parameters\n",
      "Warming up {1}\n",
      "Warming up {2}\n",
      "Warming up {3}\n",
      "Warming up {4}\n",
      "Warming up {5}\n",
      "Warming up {6}\n",
      "Starting Simulation at 07/01/2017 for SUMMER\n",
      "Writing tabular output file results using HTML format.\n",
      "Writing final SQL reports\n",
      "EnergyPlus Run Time=00hr 00min  0.55sec\n"
     ]
    },
    {
     "name": "stderr",
     "output_type": "stream",
     "text": [
      "EnergyPlus Completed Successfully.\n"
     ]
    },
    {
     "data": {
      "text/html": [
       "<pre style=\"white-space:pre;overflow-x:auto;line-height:normal;font-family:Menlo,'DejaVu Sans Mono',consolas,'Courier New',monospace\"><span style=\"color: #008000; text-decoration-color: #008000; font-weight: bold\"> Simulation for case ` material_exp/Medium_case_bol_5` succeeded </span> \n",
       "\n",
       "</pre>\n"
      ],
      "text/plain": [
       "\u001b[1;32m Simulation for case ` material_exp/Medium_case_bol_5` succeeded \u001b[0m \n",
       "\n"
      ]
     },
     "metadata": {},
     "output_type": "display_data"
    }
   ],
   "source": [
    "case2.run_idf()"
   ]
  },
  {
   "cell_type": "code",
   "execution_count": 7,
   "metadata": {},
   "outputs": [
    {
     "data": {
      "text/plain": [
       "['Block 08 Storey 0 Wall 0002_2 Door',\n",
       " 'Block 03 Storey 0 Wall 0004 Window',\n",
       " 'Block 05 Storey 0 Wall 0002_1 Door',\n",
       " 'Block 04 Storey 0 Wall 0001_1 Door',\n",
       " 'Block 05 Storey 0 Wall 0004 Window',\n",
       " 'Block 08 Storey 0 Wall 0002_3 Door',\n",
       " 'Block 09 Storey 0 Wall 0003 Window',\n",
       " 'Block 09 Storey 0 Wall 0004 Window',\n",
       " 'Block 02 Storey 0 Wall 0002 Window',\n",
       " 'Block 01 Storey 0 Wall 0002 Window',\n",
       " 'Block 03 Storey 0 Wall 0001 Window',\n",
       " 'Block 04 Storey 0 Wall 0004 Window',\n",
       " 'Block 02 Storey 0 Wall 0001 Window',\n",
       " 'Block 03 Storey 0 Wall 0002_2 Door',\n",
       " 'Block 09 Storey 0 Wall 0001_2',\n",
       " 'Block 09 Storey 0 Wall 0002_1',\n",
       " 'Block 08 Storey 0 Wall 0002_1',\n",
       " 'Block 00 Storey 0 Wall 0002 Window']"
      ]
     },
     "execution_count": 7,
     "metadata": {},
     "output_type": "execute_result"
    }
   ],
   "source": [
    "[i.Surface_Name for i in case2.idf.idfobjects[\"AIRFLOWNETWORK:MULTIZONE:SURFACE\"]]"
   ]
  },
  {
   "cell_type": "code",
   "execution_count": 15,
   "metadata": {},
   "outputs": [
    {
     "data": {
      "text/plain": [
       "['Block 08 Storey 0 Wall 0002_2 Door SimpleOpening',\n",
       " 'Block 03 Storey 0 Wall 0004 Window SimpleOpening',\n",
       " 'Block 05 Storey 0 Wall 0002_1 Door SimpleOpening',\n",
       " 'Block 04 Storey 0 Wall 0001_1 Door SimpleOpening',\n",
       " 'Block 05 Storey 0 Wall 0004 Window SimpleOpening',\n",
       " 'Block 08 Storey 0 Wall 0002_3 Door SimpleOpening',\n",
       " 'Block 09 Storey 0 Wall 0003 Window SimpleOpening',\n",
       " 'Block 09 Storey 0 Wall 0004 Window SimpleOpening',\n",
       " 'Block 02 Storey 0 Wall 0002 Window SimpleOpening',\n",
       " 'Block 01 Storey 0 Wall 0002 Window SimpleOpening',\n",
       " 'Block 03 Storey 0 Wall 0001 Window SimpleOpening',\n",
       " 'Block 04 Storey 0 Wall 0004 Window SimpleOpening',\n",
       " 'Block 02 Storey 0 Wall 0001 Window SimpleOpening',\n",
       " 'Block 03 Storey 0 Wall 0002_2 Door SimpleOpening',\n",
       " 'Block 09 Storey 0 Wall 0001_2 SimpleOpening',\n",
       " 'Block 09 Storey 0 Wall 0002_1 SimpleOpening',\n",
       " 'Block 08 Storey 0 Wall 0002_1 SimpleOpening',\n",
       " 'Block 00 Storey 0 Wall 0002 Window SimpleOpening']"
      ]
     },
     "execution_count": 15,
     "metadata": {},
     "output_type": "execute_result"
    }
   ],
   "source": [
    "[i.Name for i in case2.idf.idfobjects[\"AirflowNetwork:MultiZone:Component:SimpleOpening\".upper()]]"
   ]
  },
  {
   "cell_type": "code",
   "execution_count": 53,
   "metadata": {},
   "outputs": [],
   "source": [
    "from setup.interfaces import CaseData\n",
    "\n",
    "case2_data = CaseData(case.case_name, case2.idf, case.sql, case.path_to_input, case.path_to_output)"
   ]
  },
  {
   "cell_type": "code",
   "execution_count": null,
   "metadata": {},
   "outputs": [],
   "source": []
  },
  {
   "cell_type": "code",
   "execution_count": 54,
   "metadata": {},
   "outputs": [
    {
     "name": "stdout",
     "output_type": "stream",
     "text": [
      "Block 03 Storey 0 Wall 0001_1 Door NOT IN AFN.. \n",
      "Block 05 Storey 0 Wall 0002_1 Door NOT IN AFN.. \n",
      "Block 02 Storey 0 Wall 0002_1 Door NOT IN AFN.. \n",
      "AirBoundary Block 06 Storey 0 Wall 0001_1 NOT IN AFN.. \n"
     ]
    },
    {
     "data": {
      "image/png": "[encoded data removed]",
      "text/plain": [
       "<Figure size 700x600 with 1 Axes>"
      ]
     },
     "metadata": {},
     "output_type": "display_data"
    }
   ],
   "source": [
    "time = datetime(2017, 7, 1, 8, 15)\n",
    "fig, ax = plt.subplots(nrows=1, figsize=(7, 6))\n",
    "ax = plot_zone_domains(case2.idf, ax)\n",
    "ax, data = plot_surfaces(case2_data, time, ax)"
   ]
  },
  {
   "cell_type": "code",
   "execution_count": 35,
   "metadata": {},
   "outputs": [
    {
     "name": "stdout",
     "output_type": "stream",
     "text": [
      "Block 09 Storey 0 Wall 0001_1 Door NOT IN AFN.. \n",
      "Block 010 Storey 0 Wall 0001_1 Door NOT IN AFN.. \n",
      "Block 05 Storey 0 Wall 0001_1 Door NOT IN AFN.. \n",
      "Block 04 Storey 0 Wall 0002_1 Door NOT IN AFN.. \n",
      "AirBoundary Block 01 Storey 0 Wall 0001_2 NOT IN AFN.. \n",
      "AirBoundary Block 09 Storey 0 Wall 0002_2 NOT IN AFN.. \n",
      "AirBoundary Block 08 Storey 0 Wall 0002_1 NOT IN AFN.. \n"
     ]
    },
    {
     "data": {
      "image/png": "[encoded data removed]",
      "text/plain": [
       "<Figure size 700x600 with 1 Axes>"
      ]
     },
     "metadata": {},
     "output_type": "display_data"
    }
   ],
   "source": [
    "time = datetime(2017, 7, 1, 8, 15)\n",
    "fig, ax = plt.subplots(nrows=1, figsize=(7, 6))\n",
    "ax = plot_zone_domains(case.idf, ax)\n",
    "ax, data = plot_surfaces(case, time, ax)"
   ]
  },
  {
   "cell_type": "code",
   "execution_count": null,
   "metadata": {},
   "outputs": [],
   "source": []
  }
 ],
 "metadata": {
  "kernelspec": {
   "display_name": "gqenv",
   "language": "python",
   "name": "python3"
  },
  "language_info": {
   "codemirror_mode": {
    "name": "ipython",
    "version": 3
   },
   "file_extension": ".py",
   "mimetype": "text/x-python",
   "name": "python",
   "nbconvert_exporter": "python",
   "pygments_lexer": "ipython3",
   "version": "3.10.15"
  }
 },
 "nbformat": 4,
 "nbformat_minor": 2
}
