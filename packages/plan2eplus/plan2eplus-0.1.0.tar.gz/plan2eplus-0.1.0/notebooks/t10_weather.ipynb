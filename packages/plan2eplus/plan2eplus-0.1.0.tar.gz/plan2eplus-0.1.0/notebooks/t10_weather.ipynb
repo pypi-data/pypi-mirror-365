{
 "cells": [
  {
   "cell_type": "code",
   "execution_count": 1,
   "metadata": {},
   "outputs": [],
   "source": [
    "%load_ext autoreload\n",
    "%autoreload 2"
   ]
  },
  {
   "cell_type": "code",
   "execution_count": 2,
   "metadata": {},
   "outputs": [],
   "source": [
    "from pathlib import Path\n",
    "import sys\n",
    "sys.path.append(str(Path.cwd() / \"_scripts\"))"
   ]
  },
  {
   "cell_type": "code",
   "execution_count": 59,
   "metadata": {},
   "outputs": [],
   "source": [
    "import matplotlib.pyplot as plt\n",
    "from datetime import datetime\n",
    "import numpy as np\n",
    "import seaborn as sns\n",
    "\n",
    "from ladybug.epw import EPW\n",
    "from ladybug.analysisperiod import AnalysisPeriod\n",
    "\n",
    "import polars as pl\n",
    "\n",
    "\n",
    "# from setup.setup import retrieve_test_case\n",
    "# from case_edits.ezcase import create_ezcase\n",
    "# from helpers.read_sql import get_sql_results\n",
    "# from setup.data_wrangle2 import create_dataframe_for_case, create_wide_dataframe_for_many_qois\n",
    "# from helpers.variable_interfaces import all_variables as vars\n",
    "\n",
    "# from analysis.plot_subsurfaces import plot_surfaces\n",
    "# from analysis.plot_helpers import plot_zone_domains\n",
    "# from plan.graph_to_subsurfaces import load_attributes\n",
    "\n",
    "# from helpers.helpers import chain_flatten\n",
    "# from experiments.dynamic_door_sched import create_scheds, plot_geom_dist, HOURS_PER_DAY, INTERVALS_PER_HOUR"
   ]
  },
  {
   "cell_type": "code",
   "execution_count": 6,
   "metadata": {},
   "outputs": [
    {
     "data": {
      "text/plain": [
       "True"
      ]
     },
     "execution_count": 6,
     "metadata": {},
     "output_type": "execute_result"
    }
   ],
   "source": [
    "epw_path = Path.cwd()/ \"weather_data\" / \"USA_CA_Palo.Alto.AP.724937_TMYx.epw\"\n",
    "epw_path.exists()"
   ]
  },
  {
   "cell_type": "code",
   "execution_count": 7,
   "metadata": {},
   "outputs": [
    {
     "data": {
      "text/plain": [
       "EPW file Data for [Palo.Alto.AP]"
      ]
     },
     "execution_count": 7,
     "metadata": {},
     "output_type": "execute_result"
    }
   ],
   "source": [
    "epw = EPW(epw_path)\n",
    "epw"
   ]
  },
  {
   "cell_type": "code",
   "execution_count": 25,
   "metadata": {},
   "outputs": [
    {
     "data": {
      "text/html": [
       "<div><style>\n",
       ".dataframe > thead > tr,\n",
       ".dataframe > tbody > tr {\n",
       "  text-align: right;\n",
       "  white-space: pre-wrap;\n",
       "}\n",
       "</style>\n",
       "<small>shape: (5, 2)</small><table border=\"1\" class=\"dataframe\"><thead><tr><th>datetimes</th><th>db_temp</th></tr><tr><td>datetime[μs]</td><td>f64</td></tr></thead><tbody><tr><td>2017-01-01 00:00:00</td><td>10.4</td></tr><tr><td>2017-01-01 01:00:00</td><td>8.8</td></tr><tr><td>2017-01-01 02:00:00</td><td>8.4</td></tr><tr><td>2017-01-01 03:00:00</td><td>7.9</td></tr><tr><td>2017-01-01 04:00:00</td><td>6.6</td></tr></tbody></table></div>"
      ],
      "text/plain": [
       "shape: (5, 2)\n",
       "┌─────────────────────┬─────────┐\n",
       "│ datetimes           ┆ db_temp │\n",
       "│ ---                 ┆ ---     │\n",
       "│ datetime[μs]        ┆ f64     │\n",
       "╞═════════════════════╪═════════╡\n",
       "│ 2017-01-01 00:00:00 ┆ 10.4    │\n",
       "│ 2017-01-01 01:00:00 ┆ 8.8     │\n",
       "│ 2017-01-01 02:00:00 ┆ 8.4     │\n",
       "│ 2017-01-01 03:00:00 ┆ 7.9     │\n",
       "│ 2017-01-01 04:00:00 ┆ 6.6     │\n",
       "└─────────────────────┴─────────┘"
      ]
     },
     "execution_count": 25,
     "metadata": {},
     "output_type": "execute_result"
    }
   ],
   "source": [
    "df = pl.DataFrame(data={\n",
    "    \"datetimes\" : epw.dry_bulb_temperature.datetimes,\n",
    "    \"db_temp\": epw.dry_bulb_temperature.values,\n",
    "})\n",
    "df.head()"
   ]
  },
  {
   "cell_type": "code",
   "execution_count": 44,
   "metadata": {},
   "outputs": [
    {
     "data": {
      "text/html": [
       "<div><style>\n",
       ".dataframe > thead > tr,\n",
       ".dataframe > tbody > tr {\n",
       "  text-align: right;\n",
       "  white-space: pre-wrap;\n",
       "}\n",
       "</style>\n",
       "<small>shape: (8_760, 4)</small><table border=\"1\" class=\"dataframe\"><thead><tr><th>datetimes</th><th>db_temp</th><th>date</th><th>month</th></tr><tr><td>datetime[μs]</td><td>f64</td><td>date</td><td>i8</td></tr></thead><tbody><tr><td>2017-01-01 00:00:00</td><td>10.4</td><td>2017-01-01</td><td>1</td></tr><tr><td>2017-01-01 01:00:00</td><td>8.8</td><td>2017-01-01</td><td>1</td></tr><tr><td>2017-01-01 02:00:00</td><td>8.4</td><td>2017-01-01</td><td>1</td></tr><tr><td>2017-01-01 03:00:00</td><td>7.9</td><td>2017-01-01</td><td>1</td></tr><tr><td>2017-01-01 04:00:00</td><td>6.6</td><td>2017-01-01</td><td>1</td></tr><tr><td>&hellip;</td><td>&hellip;</td><td>&hellip;</td><td>&hellip;</td></tr><tr><td>2017-12-31 19:00:00</td><td>12.0</td><td>2017-12-31</td><td>12</td></tr><tr><td>2017-12-31 20:00:00</td><td>12.0</td><td>2017-12-31</td><td>12</td></tr><tr><td>2017-12-31 21:00:00</td><td>12.0</td><td>2017-12-31</td><td>12</td></tr><tr><td>2017-12-31 22:00:00</td><td>12.0</td><td>2017-12-31</td><td>12</td></tr><tr><td>2017-12-31 23:00:00</td><td>10.6</td><td>2017-12-31</td><td>12</td></tr></tbody></table></div>"
      ],
      "text/plain": [
       "shape: (8_760, 4)\n",
       "┌─────────────────────┬─────────┬────────────┬───────┐\n",
       "│ datetimes           ┆ db_temp ┆ date       ┆ month │\n",
       "│ ---                 ┆ ---     ┆ ---        ┆ ---   │\n",
       "│ datetime[μs]        ┆ f64     ┆ date       ┆ i8    │\n",
       "╞═════════════════════╪═════════╪════════════╪═══════╡\n",
       "│ 2017-01-01 00:00:00 ┆ 10.4    ┆ 2017-01-01 ┆ 1     │\n",
       "│ 2017-01-01 01:00:00 ┆ 8.8     ┆ 2017-01-01 ┆ 1     │\n",
       "│ 2017-01-01 02:00:00 ┆ 8.4     ┆ 2017-01-01 ┆ 1     │\n",
       "│ 2017-01-01 03:00:00 ┆ 7.9     ┆ 2017-01-01 ┆ 1     │\n",
       "│ 2017-01-01 04:00:00 ┆ 6.6     ┆ 2017-01-01 ┆ 1     │\n",
       "│ …                   ┆ …       ┆ …          ┆ …     │\n",
       "│ 2017-12-31 19:00:00 ┆ 12.0    ┆ 2017-12-31 ┆ 12    │\n",
       "│ 2017-12-31 20:00:00 ┆ 12.0    ┆ 2017-12-31 ┆ 12    │\n",
       "│ 2017-12-31 21:00:00 ┆ 12.0    ┆ 2017-12-31 ┆ 12    │\n",
       "│ 2017-12-31 22:00:00 ┆ 12.0    ┆ 2017-12-31 ┆ 12    │\n",
       "│ 2017-12-31 23:00:00 ┆ 10.6    ┆ 2017-12-31 ┆ 12    │\n",
       "└─────────────────────┴─────────┴────────────┴───────┘"
      ]
     },
     "execution_count": 44,
     "metadata": {},
     "output_type": "execute_result"
    }
   ],
   "source": [
    "df = df.with_columns(date=pl.col(\"datetimes\").dt.date(), month=pl.col(\"datetimes\").dt.month())\n",
    "df"
   ]
  },
  {
   "cell_type": "code",
   "execution_count": null,
   "metadata": {},
   "outputs": [],
   "source": [
    "# df_monthly_mean = df.group_by(pl.col(\"month\")).agg(pl.mean(\"db_temp\"))"
   ]
  },
  {
   "cell_type": "code",
   "execution_count": 41,
   "metadata": {},
   "outputs": [
    {
     "data": {
      "text/html": [
       "<div><style>\n",
       ".dataframe > thead > tr,\n",
       ".dataframe > tbody > tr {\n",
       "  text-align: right;\n",
       "  white-space: pre-wrap;\n",
       "}\n",
       "</style>\n",
       "<small>shape: (365, 2)</small><table border=\"1\" class=\"dataframe\"><thead><tr><th>date</th><th>db_temp</th></tr><tr><td>date</td><td>f64</td></tr></thead><tbody><tr><td>2017-02-15</td><td>12.558333</td></tr><tr><td>2017-06-14</td><td>18.95</td></tr><tr><td>2017-10-05</td><td>16.045833</td></tr><tr><td>2017-10-11</td><td>16.75</td></tr><tr><td>2017-02-06</td><td>9.175</td></tr><tr><td>&hellip;</td><td>&hellip;</td></tr><tr><td>2017-08-21</td><td>19.766667</td></tr><tr><td>2017-01-01</td><td>9.158333</td></tr><tr><td>2017-08-12</td><td>19.691667</td></tr><tr><td>2017-08-24</td><td>18.1125</td></tr><tr><td>2017-05-15</td><td>13.245833</td></tr></tbody></table></div>"
      ],
      "text/plain": [
       "shape: (365, 2)\n",
       "┌────────────┬───────────┐\n",
       "│ date       ┆ db_temp   │\n",
       "│ ---        ┆ ---       │\n",
       "│ date       ┆ f64       │\n",
       "╞════════════╪═══════════╡\n",
       "│ 2017-02-15 ┆ 12.558333 │\n",
       "│ 2017-06-14 ┆ 18.95     │\n",
       "│ 2017-10-05 ┆ 16.045833 │\n",
       "│ 2017-10-11 ┆ 16.75     │\n",
       "│ 2017-02-06 ┆ 9.175     │\n",
       "│ …          ┆ …         │\n",
       "│ 2017-08-21 ┆ 19.766667 │\n",
       "│ 2017-01-01 ┆ 9.158333  │\n",
       "│ 2017-08-12 ┆ 19.691667 │\n",
       "│ 2017-08-24 ┆ 18.1125   │\n",
       "│ 2017-05-15 ┆ 13.245833 │\n",
       "└────────────┴───────────┘"
      ]
     },
     "execution_count": 41,
     "metadata": {},
     "output_type": "execute_result"
    }
   ],
   "source": [
    "df_daily_mean = df.group_by(pl.col(\"date\")).agg(pl.mean(\"db_temp\"))\n",
    "df_daily_mean"
   ]
  },
  {
   "cell_type": "code",
   "execution_count": 74,
   "metadata": {},
   "outputs": [
    {
     "data": {
      "image/png": "[encoded data removed]",
      "text/plain": [
       "<Figure size 640x480 with 1 Axes>"
      ]
     },
     "metadata": {},
     "output_type": "display_data"
    }
   ],
   "source": [
    "sns.boxplot(df, x=\"month\", y=\"db_temp\")\n",
    "sns.set_style(\"ticks\")"
   ]
  },
  {
   "cell_type": "code",
   "execution_count": 58,
   "metadata": {},
   "outputs": [
    {
     "data": {
      "text/plain": [
       "<Axes: xlabel='month', ylabel='db_temp'>"
      ]
     },
     "execution_count": 58,
     "metadata": {},
     "output_type": "execute_result"
    },
    {
     "data": {
      "image/png": "[encoded data removed]",
      "text/plain": [
       "<Figure size 640x480 with 1 Axes>"
      ]
     },
     "metadata": {},
     "output_type": "display_data"
    }
   ],
   "source": [
    "sns.pointplot(df, x=\"month\", y=\"db_temp\", )"
   ]
  },
  {
   "cell_type": "code",
   "execution_count": 64,
   "metadata": {},
   "outputs": [
    {
     "data": {
      "text/plain": [
       "6/1 to 10/31 between 0 and 23 @4"
      ]
     },
     "execution_count": 64,
     "metadata": {},
     "output_type": "execute_result"
    }
   ],
   "source": [
    "ap = AnalysisPeriod(st_month=6, end_month=10, timestep=4)\n",
    "ap"
   ]
  },
  {
   "cell_type": "code",
   "execution_count": 77,
   "metadata": {},
   "outputs": [
    {
     "data": {
      "text/plain": [
       "(152, 304)"
      ]
     },
     "execution_count": 77,
     "metadata": {},
     "output_type": "execute_result"
    }
   ],
   "source": [
    "start_day = ap.doys_int[0]\n",
    "end_day = ap.doys_int[-1]\n",
    "start_day, end_day"
   ]
  },
  {
   "cell_type": "code",
   "execution_count": null,
   "metadata": {},
   "outputs": [],
   "source": []
  }
 ],
 "metadata": {
  "kernelspec": {
   "display_name": "gqenv",
   "language": "python",
   "name": "python3"
  },
  "language_info": {
   "codemirror_mode": {
    "name": "ipython",
    "version": 3
   },
   "file_extension": ".py",
   "mimetype": "text/x-python",
   "name": "python",
   "nbconvert_exporter": "python",
   "pygments_lexer": "ipython3",
   "version": "3.10.15"
  }
 },
 "nbformat": 4,
 "nbformat_minor": 2
}
