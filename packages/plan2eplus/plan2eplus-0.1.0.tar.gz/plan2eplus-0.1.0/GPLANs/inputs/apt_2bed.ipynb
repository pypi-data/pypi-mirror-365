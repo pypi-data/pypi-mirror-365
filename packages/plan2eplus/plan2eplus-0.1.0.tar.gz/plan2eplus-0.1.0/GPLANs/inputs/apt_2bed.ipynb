{
 "cells": [
  {
   "cell_type": "code",
   "execution_count": 29,
   "metadata": {},
   "outputs": [],
   "source": [
    "from munch import Munch\n",
    "from dataclasses import dataclass\n",
    "import json"
   ]
  },
  {
   "cell_type": "code",
   "execution_count": 31,
   "metadata": {},
   "outputs": [],
   "source": [
    "@dataclass\n",
    "class RoomDetails:\n",
    "    index: int\n",
    "    name: str\n",
    "    width: int\n",
    "    height: int\n"
   ]
  },
  {
   "cell_type": "code",
   "execution_count": 16,
   "metadata": {},
   "outputs": [],
   "source": [
    "# define width and height values \n",
    "_A = 135\n",
    "_B = 223\n",
    "_C = 278\n",
    "_D = 364\n",
    "\n",
    "_AA = 57\n",
    "_BB = 128\n",
    "_CC = 145\n",
    "_DD = 191\n",
    "_EE = 287\n",
    "\n",
    "# compute relevant distances \n",
    "BA = _B - _A\n",
    "CB = _C -_B\n",
    "DC = _D - _C\n",
    "DA = _D - _A\n",
    "\n",
    "BB_AA = _BB - _AA\n",
    "CC_AA = _CC - _AA\n",
    "DD_CC = _DD - _CC\n",
    "DD_BB = _DD - _BB\n",
    "EE_DD = _EE - _DD\n"
   ]
  },
  {
   "cell_type": "code",
   "execution_count": null,
   "metadata": {},
   "outputs": [],
   "source": [
    "names = [\"Bedroom01\", \"Bedroom02\", \"Bath01\", \"Bath02\", \"Living\", \"Closet\", \"Laundry\"]\n",
    "\n",
    "dimensions = Munch()\n",
    "for i,name in enumerate(names):\n",
    "    dimensions.update({name: RoomDetails(i, name, 0, 0)})"
   ]
  },
  {
   "cell_type": "code",
   "execution_count": 27,
   "metadata": {},
   "outputs": [],
   "source": [
    "# assign dimensions \n",
    "dimensions.Bedroom01.width = BA\n",
    "dimensions.Bedroom01.height = CC_AA\n",
    "\n",
    "dimensions.Bedroom02.width = DC\n",
    "dimensions.Bedroom02.height = CC_AA\n",
    "\n",
    "\n",
    "dimensions.Bath01.width = CB\n",
    "dimensions.Bath01.height = BB_AA\n",
    "\n",
    "\n",
    "dimensions.Bath02.width = CB\n",
    "dimensions.Bath02.height = DD_BB\n",
    "\n",
    "\n",
    "dimensions.Closet.width = BA\n",
    "dimensions.Closet.height = DD_CC\n",
    "\n",
    "dimensions.Laundry.width = DC\n",
    "dimensions.Laundry.height = DD_CC\n",
    "\n",
    "dimensions.Living.width = DA\n",
    "dimensions.Living.height = EE_DD"
   ]
  },
  {
   "cell_type": "code",
   "execution_count": 49,
   "metadata": {},
   "outputs": [],
   "source": [
    "# export to json file \n",
    "dim = [v.__dict__ for v in dimensions.values()]\n",
    "with open('GPLANs/inputs/dimensions.json', 'w', encoding='utf-8') as f:\n",
    "    json.dump(dim, f, ensure_ascii=False, indent=4)"
   ]
  }
 ],
 "metadata": {
  "kernelspec": {
   "display_name": "Python 3",
   "language": "python",
   "name": "python3"
  },
  "language_info": {
   "codemirror_mode": {
    "name": "ipython",
    "version": 3
   },
   "file_extension": ".py",
   "mimetype": "text/x-python",
   "name": "python",
   "nbconvert_exporter": "python",
   "pygments_lexer": "ipython3",
   "version": "3.10.14"
  }
 },
 "nbformat": 4,
 "nbformat_minor": 2
}
