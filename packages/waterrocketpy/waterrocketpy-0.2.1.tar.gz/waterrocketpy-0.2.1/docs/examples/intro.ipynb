{
 "cells": [
  {
   "cell_type": "code",
   "execution_count": null,
   "metadata": {},
   "outputs": [],
   "source": [
    "\"\"\"\n",
    "with this package you can create a water rocket simulation.\n",
    "there are following modules:\n",
    "- core: contains the main simulation logic\n",
    "- rocket: defines the rocket structure and components\n",
    "- analysis: provides tools for analyzing simulation results\n",
    "- utils: utility functions and classes for saving/loading data\n",
    "- visualization: tools for visualizing simulation data\n",
    "- optimization: tools for optimizing rocket parameters\n",
    "\"\"\""
   ]
  },
  {
   "cell_type": "code",
   "execution_count": 1,
   "metadata": {},
   "outputs": [
    {
     "name": "stdout",
     "output_type": "stream",
     "text": [
      "   Rocket created: Standard 2L Rocket\n",
      "   Total mass: 0.910 kg\n"
     ]
    }
   ],
   "source": [
    "\"\"\"Creating a Water Rocket\"\"\"\n",
    "from waterrocketpy.rocket.builder import create_standard_rocket\n",
    "rocket = create_standard_rocket()\n",
    "\n",
    "print(f\"   Rocket created: {rocket.name}\")\n",
    "print(f\"   Total mass: {rocket.total_mass:.3f} kg\")"
   ]
  },
  {
   "cell_type": "code",
   "execution_count": null,
   "metadata": {},
   "outputs": [],
   "source": [
    "\"\"\"Running a Water Rocket Simulation\"\"\"\n",
    "# Convert to simulation parameters\n",
    "print(\"\\n2. Converting to simulation parameters...\")\n",
    "builder = RocketBuilder.from_dict(rocket.__dict__)\n",
    "sim_params = builder.to_simulation_params()\n",
    "print(f\"   Parameters ready: {len(sim_params)} parameters\")\n",
    "\n",
    "# Run simulation\n",
    "print(\"\\n3. Running simulation...\")\n",
    "simulator = WaterRocketSimulator()\n",
    "\n",
    "# Short simulation for testing\n",
    "sim_settings = {\"max_time\": 100.0, \"time_step\": 0.01, \"solver\": \"RK45\"}\n",
    "\n",
    "flight_data = simulator.simulate(sim_params, sim_settings)"
   ]
  }
 ],
 "metadata": {
  "kernelspec": {
   "display_name": "myenv",
   "language": "python",
   "name": "python3"
  },
  "language_info": {
   "codemirror_mode": {
    "name": "ipython",
    "version": 3
   },
   "file_extension": ".py",
   "mimetype": "text/x-python",
   "name": "python",
   "nbconvert_exporter": "python",
   "pygments_lexer": "ipython3",
   "version": "3.11.9"
  },
  "orig_nbformat": 4
 },
 "nbformat": 4,
 "nbformat_minor": 2
}
