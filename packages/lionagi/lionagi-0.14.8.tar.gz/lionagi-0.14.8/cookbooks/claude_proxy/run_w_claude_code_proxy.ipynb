{
 "cells": [
  {
   "cell_type": "code",
   "execution_count": 1,
   "id": "d2ceb407",
   "metadata": {},
   "outputs": [],
   "source": [
    "from lionagi.service.connections.endpoint_config import EndpointConfig\n",
    "from lionagi.service.imodel import Endpoint\n",
    "from lionagi.service.connections.providers.claude_code_cli import (\n",
    "    ClaudeCodeRequest,\n",
    ")\n",
    "\n",
    "claude_code_config = EndpointConfig(\n",
    "    name=\"claude_code_cli_proxy\",\n",
    "    provider=\"claude_code\",\n",
    "    base_url=\"http://localhost:8000/v1\",\n",
    "    endpoint=\"query\",\n",
    "    api_key=\"dummy_api_key\",\n",
    "    kwargs={\"model\": \"sonnet\"},\n",
    ")\n",
    "claude_code = Endpoint(claude_code_config)"
   ]
  },
  {
   "cell_type": "code",
   "execution_count": 2,
   "id": "5fc216f4",
   "metadata": {},
   "outputs": [
    {
     "data": {
      "text/plain": [
       "{'session_id': 'bb6041af-a950-4364-bef1-f80f40698ec6',\n",
       " 'model': 'claude-sonnet-4-20250514',\n",
       " 'chunks': [{'raw': {'type': 'system',\n",
       "    'subtype': 'init',\n",
       "    'cwd': '/Users/lion/lionagi/notebooks/using_claude_code',\n",
       "    'session_id': 'bb6041af-a950-4364-bef1-f80f40698ec6',\n",
       "    'tools': ['Task',\n",
       "     'Bash',\n",
       "     'Glob',\n",
       "     'Grep',\n",
       "     'LS',\n",
       "     'ExitPlanMode',\n",
       "     'Read',\n",
       "     'Edit',\n",
       "     'MultiEdit',\n",
       "     'Write',\n",
       "     'NotebookRead',\n",
       "     'NotebookEdit',\n",
       "     'WebFetch',\n",
       "     'TodoWrite',\n",
       "     'WebSearch'],\n",
       "    'mcp_servers': [],\n",
       "    'model': 'claude-sonnet-4-20250514',\n",
       "    'permissionMode': 'default',\n",
       "    'apiKeySource': 'none'},\n",
       "   'type': 'system',\n",
       "   'thinking': None,\n",
       "   'text': None,\n",
       "   'tool_use': None,\n",
       "   'tool_result': None},\n",
       "  {'raw': {'type': 'assistant',\n",
       "    'message': {'id': 'msg_016an9mp2mrH7Fe1Vr6xwSUP',\n",
       "     'type': 'message',\n",
       "     'role': 'assistant',\n",
       "     'model': 'claude-sonnet-4-20250514',\n",
       "     'content': [{'type': 'text',\n",
       "       'text': '```python\\ndef factorial(n):\\n    if n < 0:\\n        raise ValueError(\"Factorial is not defined for negative numbers\")\\n    if n == 0 or n == 1:\\n        return 1\\n    \\n    result = 1\\n    for i in range(2, n + 1):\\n        result *= i\\n    return result\\n```'}],\n",
       "     'stop_reason': None,\n",
       "     'stop_sequence': None,\n",
       "     'usage': {'input_tokens': 4,\n",
       "      'cache_creation_input_tokens': 18345,\n",
       "      'cache_read_input_tokens': 11019,\n",
       "      'output_tokens': 85,\n",
       "      'service_tier': 'standard'}},\n",
       "    'parent_tool_use_id': None,\n",
       "    'session_id': 'bb6041af-a950-4364-bef1-f80f40698ec6'},\n",
       "   'type': 'assistant',\n",
       "   'thinking': None,\n",
       "   'text': '```python\\ndef factorial(n):\\n    if n < 0:\\n        raise ValueError(\"Factorial is not defined for negative numbers\")\\n    if n == 0 or n == 1:\\n        return 1\\n    \\n    result = 1\\n    for i in range(2, n + 1):\\n        result *= i\\n    return result\\n```',\n",
       "   'tool_use': None,\n",
       "   'tool_result': None},\n",
       "  {'raw': {'type': 'result',\n",
       "    'subtype': 'success',\n",
       "    'is_error': False,\n",
       "    'duration_ms': 3322,\n",
       "    'duration_api_ms': 3202,\n",
       "    'num_turns': 1,\n",
       "    'result': '```python\\ndef factorial(n):\\n    if n < 0:\\n        raise ValueError(\"Factorial is not defined for negative numbers\")\\n    if n == 0 or n == 1:\\n        return 1\\n    \\n    result = 1\\n    for i in range(2, n + 1):\\n        result *= i\\n    return result\\n```',\n",
       "    'session_id': 'bb6041af-a950-4364-bef1-f80f40698ec6',\n",
       "    'total_cost_usd': 0.07340145000000001,\n",
       "    'usage': {'input_tokens': 4,\n",
       "     'cache_creation_input_tokens': 18345,\n",
       "     'cache_read_input_tokens': 11019,\n",
       "     'output_tokens': 86,\n",
       "     'server_tool_use': {'web_search_requests': 0},\n",
       "     'service_tier': 'standard'}},\n",
       "   'type': 'result',\n",
       "   'thinking': None,\n",
       "   'text': None,\n",
       "   'tool_use': None,\n",
       "   'tool_result': None}],\n",
       " 'thinking_log': [],\n",
       " 'messages': [{'id': 'msg_016an9mp2mrH7Fe1Vr6xwSUP',\n",
       "   'type': 'message',\n",
       "   'role': 'assistant',\n",
       "   'model': 'claude-sonnet-4-20250514',\n",
       "   'content': [{'type': 'text',\n",
       "     'text': '```python\\ndef factorial(n):\\n    if n < 0:\\n        raise ValueError(\"Factorial is not defined for negative numbers\")\\n    if n == 0 or n == 1:\\n        return 1\\n    \\n    result = 1\\n    for i in range(2, n + 1):\\n        result *= i\\n    return result\\n```'}],\n",
       "   'stop_reason': None,\n",
       "   'stop_sequence': None,\n",
       "   'usage': {'input_tokens': 4,\n",
       "    'cache_creation_input_tokens': 18345,\n",
       "    'cache_read_input_tokens': 11019,\n",
       "    'output_tokens': 85,\n",
       "    'service_tier': 'standard'}}],\n",
       " 'tool_uses': [],\n",
       " 'tool_results': [],\n",
       " 'result': '```python\\ndef factorial(n):\\n    if n < 0:\\n        raise ValueError(\"Factorial is not defined for negative numbers\")\\n    if n == 0 or n == 1:\\n        return 1\\n    \\n    result = 1\\n    for i in range(2, n + 1):\\n        result *= i\\n    return result\\n```\\n```python\\ndef factorial(n):\\n    if n < 0:\\n        raise ValueError(\"Factorial is not defined for negative numbers\")\\n    if n == 0 or n == 1:\\n        return 1\\n    \\n    result = 1\\n    for i in range(2, n + 1):\\n        result *= i\\n    return result\\n```',\n",
       " 'usage': {'input_tokens': 4,\n",
       "  'cache_creation_input_tokens': 18345,\n",
       "  'cache_read_input_tokens': 11019,\n",
       "  'output_tokens': 86,\n",
       "  'server_tool_use': {'web_search_requests': 0},\n",
       "  'service_tier': 'standard'},\n",
       " 'total_cost_usd': 0.07340145000000001,\n",
       " 'num_turns': 1,\n",
       " 'duration_ms': 3322,\n",
       " 'duration_api_ms': 3202,\n",
       " 'is_error': False}"
      ]
     },
     "execution_count": 2,
     "metadata": {},
     "output_type": "execute_result"
    }
   ],
   "source": [
    "prompt = \"reply in text only, Write a Python function to calculate the factorial of a number.\"\n",
    "\n",
    "await claude_code.call(request=ClaudeCodeRequest(prompt=prompt))"
   ]
  },
  {
   "cell_type": "code",
   "execution_count": 2,
   "id": "4c173814",
   "metadata": {},
   "outputs": [],
   "source": [
    "from lionagi import iModel\n",
    "\n",
    "claude_code = iModel(endpoint=claude_code)"
   ]
  },
  {
   "cell_type": "code",
   "execution_count": 3,
   "id": "fe6dcca4",
   "metadata": {},
   "outputs": [
    {
     "name": "stderr",
     "output_type": "stream",
     "text": [
      "API call failed: 404, message=\"Request failed with status 404: {'detail': 'Not Found'}\", url='http://localhost:8000/v1/query'\n"
     ]
    }
   ],
   "source": [
    "result = await claude_code.invoke(\n",
    "    messages=[\n",
    "        {\n",
    "            \"role\": \"user\",\n",
    "            \"content\": \"reply in text only, Write a Python function to calculate the factorial of a number.\",\n",
    "        }\n",
    "    ]\n",
    ")"
   ]
  },
  {
   "cell_type": "code",
   "execution_count": 4,
   "id": "88db9e9a",
   "metadata": {},
   "outputs": [],
   "source": [
    "result.response"
   ]
  }
 ],
 "metadata": {
  "kernelspec": {
   "display_name": "lionagi",
   "language": "python",
   "name": "python3"
  },
  "language_info": {
   "codemirror_mode": {
    "name": "ipython",
    "version": 3
   },
   "file_extension": ".py",
   "mimetype": "text/x-python",
   "name": "python",
   "nbconvert_exporter": "python",
   "pygments_lexer": "ipython3",
   "version": "3.10.15"
  }
 },
 "nbformat": 4,
 "nbformat_minor": 5
}
