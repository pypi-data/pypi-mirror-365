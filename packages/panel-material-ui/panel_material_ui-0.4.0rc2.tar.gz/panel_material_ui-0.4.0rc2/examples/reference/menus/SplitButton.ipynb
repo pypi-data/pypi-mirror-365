{
 "cells": [
  {
   "cell_type": "code",
   "execution_count": null,
   "id": "55e7b392-14c0-4411-bfcf-a46e7e117368",
   "metadata": {},
   "outputs": [],
   "source": [
    "import panel as pn\n",
    "import panel_material_ui as pmui\n",
    "\n",
    "pn.extension()"
   ]
  },
  {
   "cell_type": "markdown",
   "id": "a1183801-6081-4061-8795-d7fd8e5e8f38",
   "metadata": {},
   "source": [
    "The `SplitButton` component is part of the `Menu` family of components. `Menu` components provide a structured way for users to navigate or choose between a series of defined items. The component can operate in two distinct modes:\n",
    "\n",
    "- `split`: In `\"split\"` mode the button performs and action and the dropdown allows triggering related but independent actions.\n",
    "- `select`: In `\"select\"` mode you select an option from the menu and trigger it by clicking the button.\n",
    "\n",
    "Each item in the `SplitButton` list is defined by a dictionary with a `label` supported key:\n",
    "\n",
    "#### Item Structure\n",
    "\n",
    "Each item can include the following keys:\n",
    "\n",
    "- **`label`** (str, required): The text displayed for the menu item.\n",
    "- **`href`** (str, optional): A URL to link to. If provided, the menu item becomes a link.\n",
    "- **`icon`** (str, optional): An icon to display next to the label.\n",
    "- **`target`** (str, optional): A URL to link to. If provided, the menu item becomes a link.\n",
    "\n",
    "These dictionaries are passed to the component via the items parameter as a list. When one of the `items` is selected it will be available on the `value` parameter.\n",
    "\n",
    "Since only the allowed keys are synced with the frontend, other information can be stored in the item dictionaries.\n",
    "\n",
    "#### Parameters:\n",
    "\n",
    "##### Core\n",
    "\n",
    "* **`active`** (`int`): The index of the currently selected item.\n",
    "* **`disabled`** (`boolean`): Whether the button is clickable.\n",
    "* **`items`** (`list`): Menu items to select from.\n",
    "* **`mode`** (`Literal[\"split\", \"select\"]`): Allows toggling button behavior between split and select mode.\n",
    "* **`value`** (`dict`): The currently selected item.\n",
    "\n",
    "##### Display\n",
    "\n",
    "* **`color`** (str): A button theme; should be one of `'default'` (white), `'primary'` (blue), `'success'` (green), `'info'` (yellow), `'light'` (light), or `'danger'` (red).\n",
    "* **`icon`** (str): An icon to render to the left of the button label. Either an SVG or an icon name which is loaded from [Material UI Icons](https://mui.com/material-ui/material-icons).\n",
    "* **`icon_size`** (str): Size of the icon as a string, e.g. 12px or 1em.\n",
    "* **`label`** (str): The title of the widget.\n",
    "* **`variant`** (str): The button style, either 'solid', 'outlined', 'text'.\n",
    "\n",
    "##### Styling\n",
    "\n",
    "- **`sx`** (dict): Component level styling API.\n",
    "- **`theme_config`** (dict): Theming API.\n",
    "\n",
    "#### Methods\n",
    "\n",
    "- **`on_click`**: Registers a callback to be executed when the `SplitButton` is clicked.\n",
    "\n",
    "---"
   ]
  },
  {
   "cell_type": "markdown",
   "id": "6cccba94-b316-4d37-bbce-81b59d19c086",
   "metadata": {},
   "source": [
    "In the default `split` mode the `SplitButton` allows trigger triggering events either by clicking the button (representing some default action) or by selecting a menu item from the drop-down:"
   ]
  },
  {
   "cell_type": "code",
   "execution_count": null,
   "id": "d726ec8d-8a40-48c7-8ab0-1e272497980c",
   "metadata": {},
   "outputs": [],
   "source": [
    "split_button = pmui.SplitButton(items=[\n",
    "    {'label': 'Download .parquet'},\n",
    "    {'label': 'Download .xlsx'},\n",
    "], label='Download .csv')\n",
    "\n",
    "events = pmui.Column()\n",
    "\n",
    "split_button.on_click(events.append)\n",
    "\n",
    "pmui.Row(split_button, events, height=300)"
   ]
  },
  {
   "cell_type": "markdown",
   "id": "3de060c0-5d21-4120-8e3c-a3a957b58ea4",
   "metadata": {},
   "source": [
    "In this mode, clicking on the button or clicking on a menu item triggers an `on_click` event (and updates the `clicks` parameter).\n",
    "\n",
    "The `on_click` handler will be given the `label` when clicking the button and the clicked item on clicking a menu item."
   ]
  },
  {
   "cell_type": "markdown",
   "id": "778872cc-2293-4885-9ca2-23f01a48b15f",
   "metadata": {},
   "source": [
    "### Select mode"
   ]
  },
  {
   "cell_type": "markdown",
   "id": "aece27ec-55dc-4581-9b71-3da762d3272a",
   "metadata": {},
   "source": [
    "In `\"select\"` mode on the other hand only a click on the button will trigger a click event while selecting a menu item will switch the default action:"
   ]
  },
  {
   "cell_type": "code",
   "execution_count": null,
   "id": "9768bb25-373d-4eb2-9252-43e6bfb51ba2",
   "metadata": {},
   "outputs": [],
   "source": [
    "select_button = pmui.SplitButton(items=[\n",
    "    {'label': 'Create a merge commit'},\n",
    "    {'label': 'Squash and merge'},\n",
    "    {'label': 'Rebase and merge'},\n",
    "], mode='select')\n",
    "\n",
    "events = pmui.Column()\n",
    "\n",
    "select_button.on_click(events.append)\n",
    "\n",
    "pmui.Row(select_button, events, height=300)"
   ]
  },
  {
   "cell_type": "markdown",
   "id": "66273dbd-7658-434b-88c8-7364a0d716a7",
   "metadata": {},
   "source": [
    "### Display Options\n",
    "\n",
    "#### `color`"
   ]
  },
  {
   "cell_type": "code",
   "execution_count": null,
   "id": "759c18d6-02eb-415f-8077-755a98d31083",
   "metadata": {},
   "outputs": [],
   "source": [
    "pn.GridBox(*(\n",
    "    split_button.clone(color=color)\n",
    "    for color in pmui.SplitButton.param.color.objects\n",
    "), ncols=2)"
   ]
  },
  {
   "cell_type": "markdown",
   "id": "005ccc52-76db-46a7-b859-640218d945c1",
   "metadata": {},
   "source": [
    "#### `variant`"
   ]
  },
  {
   "cell_type": "code",
   "execution_count": null,
   "id": "5d00de31-3f51-49cc-9af6-fbb05f506667",
   "metadata": {},
   "outputs": [],
   "source": [
    "pn.Row(*(\n",
    "    split_button.clone(variant=variant)\n",
    "    for variant in pmui.SplitButton.param.variant.objects\n",
    "))"
   ]
  },
  {
   "cell_type": "markdown",
   "id": "d858f0b4-f424-446a-a82b-6392bddded23",
   "metadata": {},
   "source": [
    "### API Reference\n",
    "\n",
    "#### Parameters\n",
    "\n",
    "The `SplitButton` menu exposes a number of options which can be changed from both Python and Javascript. Try out the effect of these parameters interactively:"
   ]
  },
  {
   "cell_type": "code",
   "execution_count": null,
   "id": "1340443d-854b-4849-a116-9ca8cd7a39a3",
   "metadata": {},
   "outputs": [],
   "source": [
    "pmui.SplitButton(items=[\n",
    "    {'label': 'Download .parquet'},\n",
    "    {'label': 'Download .xlsx'},\n",
    "], label='Download .csv').api(jslink=True)"
   ]
  },
  {
   "cell_type": "markdown",
   "id": "e31c9f3c-412f-4a3e-8958-4a3c01d99e5c",
   "metadata": {},
   "source": [
    "### References\n",
    "\n",
    "**Panel Documentation:**\n",
    "\n",
    "- [How-to guides on interactivity](https://panel.holoviz.org/how_to/interactivity/index.html) - Learn how to add interactivity to your applications using widgets\n",
    "- [Setting up callbacks and links](https://panel.holoviz.org/how_to/links/index.html) - Connect parameters between components and create reactive interfaces\n",
    "- [Declarative UIs with Param](https://panel.holoviz.org/how_to/param/index.html) - Build parameter-driven applications\n",
    "\n",
    "**Material UI Button:**\n",
    "\n",
    "- [Material UI Button Reference](https://mui.com/material-ui/react-breadcrumbs) - Complete documentation for the underlying Material UI component\n",
    "- [Material UI Button API](https://mui.com/material-ui/api/breadcrumbs/) - Detailed API reference and configuration options\n",
    "\n",
    "**Material UI Menu:**\n",
    "\n",
    "- [Material UI Menu Reference](https://mui.com/material-ui/react-menu) - Complete documentation for the underlying Material UI component\n",
    "- [Material UI Menu API](https://mui.com/material-ui/api/menu/) - Detailed API reference and configuration options"
   ]
  }
 ],
 "metadata": {
  "kernelspec": {
   "display_name": "Python 3 (ipykernel)",
   "language": "python",
   "name": "python3"
  },
  "language_info": {
   "codemirror_mode": {
    "name": "ipython",
    "version": 3
   },
   "file_extension": ".py",
   "mimetype": "text/x-python",
   "name": "python",
   "nbconvert_exporter": "python",
   "pygments_lexer": "ipython3",
   "version": "3.12.2"
  }
 },
 "nbformat": 4,
 "nbformat_minor": 5
}
