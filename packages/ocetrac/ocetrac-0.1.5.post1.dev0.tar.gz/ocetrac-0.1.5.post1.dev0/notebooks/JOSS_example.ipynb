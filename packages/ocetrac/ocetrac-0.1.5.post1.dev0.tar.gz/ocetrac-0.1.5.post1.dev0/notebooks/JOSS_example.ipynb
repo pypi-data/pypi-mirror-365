{
 "cells": [
  {
   "cell_type": "markdown",
   "metadata": {},
   "source": [
    "## Example use case of Octrac"
   ]
  },
  {
   "cell_type": "code",
   "execution_count": 1,
   "metadata": {},
   "outputs": [],
   "source": [
    "import s3fs\n",
    "import xarray as xr\n",
    "import numpy as np\n",
    "import pandas as pd\n",
    "import dask.array as da\n",
    "import ocetrac\n",
    "\n",
    "import matplotlib.pyplot as plt\n",
    "import cartopy.crs as ccrs\n",
    "import cartopy.feature as cfeature\n",
    "\n",
    "import warnings\n",
    "warnings.filterwarnings('ignore')"
   ]
  },
  {
   "cell_type": "markdown",
   "metadata": {},
   "source": [
    "### Import NOAA OISST v2.1 dataset and resample monthly means"
   ]
  },
  {
   "cell_type": "code",
   "execution_count": 2,
   "metadata": {},
   "outputs": [
    {
     "name": "stdout",
     "output_type": "stream",
     "text": [
      "<xarray.Dataset>\n",
      "Dimensions:  (time: 478, zlev: 1, lat: 720, lon: 1440)\n",
      "Coordinates:\n",
      "  * time     (time) datetime64[ns] 1981-09-01 1981-10-01 ... 2021-06-01\n",
      "  * lat      (lat) float32 -89.88 -89.62 -89.38 -89.12 ... 89.38 89.62 89.88\n",
      "  * lon      (lon) float32 0.125 0.375 0.625 0.875 ... 359.1 359.4 359.6 359.9\n",
      "  * zlev     (zlev) float32 0.0\n",
      "Data variables:\n",
      "    anom     (time, zlev, lat, lon) float32 dask.array<chunksize=(1, 1, 720, 1440), meta=np.ndarray>\n",
      "    err      (time, zlev, lat, lon) float32 dask.array<chunksize=(1, 1, 720, 1440), meta=np.ndarray>\n",
      "    ice      (time, zlev, lat, lon) float32 dask.array<chunksize=(1, 1, 720, 1440), meta=np.ndarray>\n",
      "    sst      (time, zlev, lat, lon) float32 dask.array<chunksize=(1, 1, 720, 1440), meta=np.ndarray>\n"
     ]
    }
   ],
   "source": [
    "endpoint_url = 'https://ncsa.osn.xsede.org'\n",
    "fs_osn = s3fs.S3FileSystem(anon=True, client_kwargs={'endpoint_url': endpoint_url},)\n",
    "\n",
    "path = \"Pangeo/pangeo-forge/noaa_oisst/v2.1-avhrr.zarr\"\n",
    "ds = xr.open_zarr(fs_osn.get_mapper(path), consolidated=True, decode_timedelta=True).resample(time='MS').mean()\n",
    "print(ds)"
   ]
  },
  {
   "cell_type": "markdown",
   "metadata": {},
   "source": [
    "### Compute anomalies without the trend"
   ]
  },
  {
   "cell_type": "code",
   "execution_count": 14,
   "metadata": {},
   "outputs": [],
   "source": [
    "dyr = ds.time.dt.year + ds.time.dt.month/12"
   ]
  },
  {
   "cell_type": "code",
   "execution_count": 21,
   "metadata": {},
   "outputs": [
    {
     "data": {
      "text/plain": [
       "(478, 720, 1440)"
      ]
     },
     "execution_count": 21,
     "metadata": {},
     "output_type": "execute_result"
    }
   ],
   "source": [
    "sst = ds.sst.isel(zlev=0)\n",
    "sst.shape"
   ]
  },
  {
   "cell_type": "code",
   "execution_count": 22,
   "metadata": {},
   "outputs": [],
   "source": [
    "# # 6 coefficient model is composed of the mean, trend, annual sine and cosine harmonics, & semi-annual sine and cosine harmonics\n",
    "model = xr.DataArray([np.ones(len(dyr))] + [dyr-np.mean(dyr)] + [np.sin(2*np.pi*dyr)] + [np.cos(2*np.pi*dyr)] + [np.sin(4*np.pi*dyr)] + [np.cos(4*np.pi*dyr)],\n",
    "                     dims=['coeff','time'], \n",
    "                     coords={'coeff':np.arange(1,7,1),'time':dyr}\n",
    "                    ) \n",
    "\n",
    "\n",
    "# Take the pseudo-inverse of model to 'solve' least-squares problem\n",
    "pmodel = xr.DataArray(np.linalg.pinv(model),\n",
    "                      dims=['time', 'coeff'],\n",
    "                      coords={'time':dyr, 'coeff':np.arange(1,7,1), }\n",
    "                     ) \n",
    "\n",
    "# Transpose Arrays\n",
    "model = model.transpose()\n",
    "pmodel = pmodel.transpose() \n",
    "\n",
    "# resulting coefficients of the model\n",
    "sst_mod = xr.DataArray(pmodel.dot(sst), dims=['coeff','lat','lon'], coords={'coeff':np.arange(1,7,1), 'lat':ds.lat.values, 'lon':ds.lon.values})  \n",
    "\n",
    "# # Construction of the mean, trend, and seasonal cycle\n",
    "# mean = xr.DataArray(model[:,0].dot(sst_mod[0,:,:]), dims=['time','lat','lon'], coords={'time':climatology.time, 'lat':climatology.lat, 'lon':climatology.lon})   \n",
    "# trend = xr.DataArray(model[:,1].dot(sst_mod[1,:,:]), dims=['time','lat','lon'], coords={'time':climatology.time, 'lat':climatology.lat, 'lon':climatology.lon})    \n",
    "# seas = xr.DataArray(model[:,2:].dot(sst_mod[2:,:,:]), dims=['time','lat','lon'], coords={'time':climatology.time, 'lat':climatology.lat, 'lon':climatology.lon})\n"
   ]
  },
  {
   "cell_type": "code",
   "execution_count": null,
   "metadata": {},
   "outputs": [],
   "source": [
    "# compute anomalies (SSTa) by removing model coefficients without the trend\n",
    "ssta_notrend = xr.DataArray((sst.values-model.dot(sst_mod)).values, dims=['time','lat','lon'], coords={'time':ds.time, 'lat':ds.lat.values, 'lon':ds.lon.values}) \n",
    "\n"
   ]
  },
  {
   "cell_type": "markdown",
   "metadata": {},
   "source": [
    "### Standardized SSTa by dividing by the monthly standard deviation\n",
    "This step places equal variance on SSTa at all spatial points"
   ]
  },
  {
   "cell_type": "code",
   "execution_count": null,
   "metadata": {},
   "outputs": [],
   "source": [
    "# Compute the monthly standard deviation\n",
    "stdev = ssta_notrend.groupby(ssta_notrend.time.dt.month).std()"
   ]
  },
  {
   "cell_type": "code",
   "execution_count": null,
   "metadata": {},
   "outputs": [],
   "source": [
    "# Divide by standard deviation\n",
    "ssta_stn_notrend = ssta_notrend.groupby(ssta_notrend.time.dt.month) / stdev_notrend"
   ]
  },
  {
   "cell_type": "markdown",
   "metadata": {},
   "source": [
    "### Use a threshold to find extreme anomalies"
   ]
  },
  {
   "cell_type": "code",
   "execution_count": null,
   "metadata": {},
   "outputs": [],
   "source": [
    "# Use the 90th percentile as a threshold and find anomalies that exceed it. \n",
    "\n",
    "if ssta_stn_notrend.chunks:\n",
    "    ssta_stn_notrend = ssta_stn_notrend.chunk({'time': -1})\n",
    "\n",
    "threshold = ssta_stn_notrend.quantile(.9, dim=('time'))\n",
    "features_notrend = ssta_stn_notrend.where(ssta_stn_notrend>=threshold, other=np.nan)\n"
   ]
  },
  {
   "cell_type": "code",
   "execution_count": null,
   "metadata": {},
   "outputs": [],
   "source": [
    "%%time \n",
    "features_notrend.load()"
   ]
  },
  {
   "cell_type": "code",
   "execution_count": null,
   "metadata": {},
   "outputs": [],
   "source": [
    "features_ssta.isel(time=-1).plot()"
   ]
  },
  {
   "cell_type": "code",
   "execution_count": null,
   "metadata": {},
   "outputs": [],
   "source": [
    "# Binary conversion\n",
    "binary_out = np.isfinite(features_ssta)\n",
    "binary_out.isel(time=0).plot()"
   ]
  },
  {
   "cell_type": "code",
   "execution_count": null,
   "metadata": {},
   "outputs": [],
   "source": [
    "mask = np.isfinite(ds.sst.isel(time=0, zlev=0))\n",
    "mask.plot()"
   ]
  },
  {
   "cell_type": "code",
   "execution_count": null,
   "metadata": {},
   "outputs": [],
   "source": [
    "%%time\n",
    "Tracker = ocetrac.Tracker(binary_out, mask, radius=8, min_size_quartile=0.75, timedim='time', xdim='lon', ydim='lat', positive=True)\n",
    "blobs = Tracker.track()"
   ]
  },
  {
   "cell_type": "code",
   "execution_count": null,
   "metadata": {},
   "outputs": [],
   "source": [
    "blobs.attrs"
   ]
  },
  {
   "cell_type": "code",
   "execution_count": null,
   "metadata": {},
   "outputs": [],
   "source": [
    "blobs"
   ]
  },
  {
   "cell_type": "code",
   "execution_count": null,
   "metadata": {},
   "outputs": [],
   "source": [
    "blobs.sel(time=slice('01-01-2014', '04-01-2014')).plot(col='time', col_wrap=4)"
   ]
  },
  {
   "cell_type": "code",
   "execution_count": null,
   "metadata": {},
   "outputs": [],
   "source": []
  },
  {
   "cell_type": "code",
   "execution_count": null,
   "metadata": {},
   "outputs": [],
   "source": [
    "from matplotlib.colors import ListedColormap\n",
    "maxl = int(np.nanmax(blobs.values))\n",
    "cm = ListedColormap(np.random.random(size=(maxl, 3)).tolist())\n",
    "\n",
    "plt.figure(figsize=(16,3))\n",
    "ax1 = plt.subplot(121);blobs.isel(time=0).plot(cmap= cm)\n",
    "mask.where(mask==0).plot.contourf(colors='k', add_colorbar=False); ax1.set_aspect('equal')\n",
    "ax2 = plt.subplot(122); features_ssta.isel(time=0).plot(cmap='Reds', vmin=0, vmax=3);\n",
    "mask.where(mask==0).plot.contourf(colors='k', add_colorbar=False); ax2.set_aspect('equal');"
   ]
  },
  {
   "cell_type": "code",
   "execution_count": null,
   "metadata": {},
   "outputs": [],
   "source": [
    "id = 35\n",
    "event = blobs.where(blobs==id, drop=True)\n",
    "event.shape"
   ]
  },
  {
   "cell_type": "code",
   "execution_count": null,
   "metadata": {},
   "outputs": [],
   "source": [
    "# Create intensity image for the Indian Ocean marine heatwave\n",
    "event_intensity = ds.anom.isel(zlev=0).where((ds.time==event.time) & \n",
    "                                             (ds.lat==event.lat) & \n",
    "                                             (ds.lon==event.lon), \n",
    "                                             drop=True).load();\n",
    "event_intensity = event_intensity.expand_dims(dim='intensity', axis=3)\n",
    "events_contour = event.fillna(0)\n",
    "\n",
    "plt.rc('font', size=12); plt.figure(figsize=(15,6));\n",
    "for i in enumerate(range(1,len(event.time))):\n",
    "    ax = plt.subplot(2,3,i[1],projection=ccrs.PlateCarree())\n",
    "    event_intensity.isel(time=i[0], intensity=0).plot(transform=ccrs.PlateCarree(), vmin=-2, vmax=2,  \n",
    "                                                      cmap='RdBu_r', extend='both', add_colorbar=True, add_labels=False)\n",
    "    plt.title(event.isel(time=i[0]).time.values.astype('datetime64[D]'))\n",
    "    ax.coastlines(resolution='110m', color='black', linewidth=1) \n",
    "    ax.add_feature(cfeature.LAND, facecolor='w');\n",
    "    events_contour.isel(time=i[0]).plot.contour(levels=[34,35], transform=ccrs.PlateCarree(), colors='b', linewidths=4, add_colorbar=False, add_labels=False)"
   ]
  },
  {
   "cell_type": "code",
   "execution_count": null,
   "metadata": {},
   "outputs": [],
   "source": [
    "mo = Tracker._morphological_operations()"
   ]
  },
  {
   "cell_type": "code",
   "execution_count": null,
   "metadata": {},
   "outputs": [],
   "source": [
    "mo.isel(time=0).plot()"
   ]
  },
  {
   "cell_type": "code",
   "execution_count": null,
   "metadata": {},
   "outputs": [],
   "source": []
  }
 ],
 "metadata": {
  "kernelspec": {
   "display_name": "ocetrac",
   "language": "python",
   "name": "ocetrac"
  },
  "language_info": {
   "codemirror_mode": {
    "name": "ipython",
    "version": 3
   },
   "file_extension": ".py",
   "mimetype": "text/x-python",
   "name": "python",
   "nbconvert_exporter": "python",
   "pygments_lexer": "ipython3",
   "version": "3.9.7"
  }
 },
 "nbformat": 4,
 "nbformat_minor": 5
}
