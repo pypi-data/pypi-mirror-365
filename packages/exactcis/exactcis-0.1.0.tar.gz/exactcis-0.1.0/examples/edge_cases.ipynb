{
 "cells": [
  {
   "cell_type": "markdown",
   "metadata": {},
   "source": [
    "# Handling Edge Cases with ExactCIs\n",
    "\n",
    "This notebook demonstrates how to handle various edge cases that may arise when calculating confidence intervals for 2×2 contingency tables, including:\n",
    "1. Tables with zero cells\n",
    "2. Sparse tables (with small counts)\n",
    "3. Large tables\n",
    "4. Tables with extreme imbalance"
   ]
  },
  {
   "cell_type": "code",
   "execution_count": 1,
   "metadata": {},
   "source": [
    "import sys\n",
    "import time\n",
    "import numpy as np\n",
    "import pandas as pd\n",
    "import matplotlib.pyplot as plt\n",
    "\n",
    "# Import ExactCIs - adjust the path if needed\n",
    "from exactcis import compute_all_cis\n",
    "from exactcis.methods import (\n",
    "    exact_ci_conditional,\n",
    "    exact_ci_midp,\n",
    "    exact_ci_blaker,\n",
    "    exact_ci_unconditional,\n",
    "    ci_wald_haldane\n",
    ")"
   ]
  },
  {
   "cell_type": "markdown",
   "metadata": {},
   "source": [
    "## 1. Tables with Zero Cells\n",
    "\n",
    "Zero cells can create challenges for odds ratio calculations, as the odds ratio becomes undefined or infinite. There are several approaches to handle this."
   ]
  },
  {
   "cell_type": "code",
   "execution_count": 2,
   "metadata": {},
   "source": [
    "# Example table with a zero cell\n",
    "# 2×2 table:   Cases   Controls\n",
    "#   Exposed      10        0\n",
    "#   Unexposed     5       10\n",
    "\n",
    "a, b, c, d = 10, 0, 5, 10\n",
    "\n",
    "print(\"Table with one zero cell:\\n\")\n",
    "print(f\"     | Cases | Controls\")\n",
    "print(f\"-----|-------|----------\")\n",
    "print(f\"Exp. |  {a:3d}  |    {b:3d}\")\n",
    "print(f\"Unex.|  {c:3d}  |    {d:3d}\\n\")"
   ]
  },
  {
   "cell_type": "code",
   "execution_count": 3,
   "metadata": {},
   "source": [
    "# Attempt to use methods that can handle zero cells\n",
    "methods_results = {}\n",
    "\n",
    "# Safe methods to try\n",
    "try:\n",
    "    methods_results[\"conditional\"] = exact_ci_conditional(a, b, c, d)\n",
    "except Exception as e:\n",
    "    methods_results[\"conditional\"] = (f\"Error: {str(e)}\", None)\n",
    "    \n",
    "try:\n",
    "    methods_results[\"midp\"] = exact_ci_midp(a, b, c, d)\n",
    "except Exception as e:\n",
    "    methods_results[\"midp\"] = (f\"Error: {str(e)}\", None)\n",
    "    \n",
    "try:\n",
    "    methods_results[\"blaker\"] = exact_ci_blaker(a, b, c, d)\n",
    "except Exception as e:\n",
    "    methods_results[\"blaker\"] = (f\"Error: {str(e)}\", None)\n",
    "    \n",
    "# Wald-Haldane adds 0.5 to each cell, so it should work\n",
    "try:\n",
    "    methods_results[\"wald_haldane\"] = ci_wald_haldane(a, b, c, d)\n",
    "except Exception as e:\n",
    "    methods_results[\"wald_haldane\"] = (f\"Error: {str(e)}\", None)\n",
    "    \n",
    "# Display results in a table\n",
    "print(\"Results for table with one zero cell:\\n\")\n",
    "for method, result in methods_results.items():\n",
    "    if isinstance(result[0], str):\n",
    "        print(f\"{method:12s}: {result[0]}\")\n",
    "    else:\n",
    "        lower, upper = result\n",
    "        print(f\"{method:12s}: ({lower:.3f}, {upper:.3f})\")"
   ]
  },
  {
   "cell_type": "markdown",
   "metadata": {},
   "source": [
    "### Solution 1: Use Haldane's Correction\n",
    "\n",
    "The Haldane correction adds 0.5 to each cell, which allows calculation of odds ratios and confidence intervals even with zero cells."
   ]
  },
  {
   "cell_type": "code",
   "execution_count": 4,
   "metadata": {},
   "source": [
    "# Apply Haldane's correction manually (add 0.5 to each cell)\n",
    "a_h, b_h, c_h, d_h = a + 0.5, b + 0.5, c + 0.5, d + 0.5\n",
    "\n",
    "print(f\"Original table: {a}, {b}, {c}, {d}\")\n",
    "print(f\"With Haldane correction: {a_h}, {b_h}, {c_h}, {d_h}\\n\")\n",
    "\n",
    "# Try methods with corrected counts\n",
    "haldane_results = {}\n",
    "\n",
    "try:\n",
    "    haldane_results[\"conditional\"] = exact_ci_conditional(a_h, b_h, c_h, d_h)\n",
    "except Exception as e:\n",
    "    haldane_results[\"conditional\"] = (f\"Error: {str(e)}\", None)\n",
    "    \n",
    "try:\n",
    "    haldane_results[\"midp\"] = exact_ci_midp(a_h, b_h, c_h, d_h)\n",
    "except Exception as e:\n",
    "    haldane_results[\"midp\"] = (f\"Error: {str(e)}\", None)\n",
    "    \n",
    "# Display results with Haldane correction\n",
    "print(\"Results with Haldane correction applied:\\n\")\n",
    "for method, result in haldane_results.items():\n",
    "    if isinstance(result[0], str):\n",
    "        print(f\"{method:12s}: {result[0]}\")\n",
    "    else:\n",
    "        lower, upper = result\n",
    "        print(f\"{method:12s}: ({lower:.3f}, {upper:.3f})\")"
   ]
  },
  {
   "cell_type": "markdown",
   "metadata": {},
   "source": [
    "### Solution 2: Use Methods That Handle Zeros Naturally\n",
    "\n",
    "Some methods can automatically handle zero cells by using special algorithms or limits."
   ]
  },
  {
   "cell_type": "code",
   "execution_count": 5,
   "metadata": {},
   "source": [
    "# The ci_wald_haldane method automatically applies the correction\n",
    "wald_result = ci_wald_haldane(a, b, c, d)\n",
    "print(f\"Wald-Haldane method: ({wald_result[0]:.3f}, {wald_result[1]:.3f})\")\n",
    "\n",
    "# Unconditional method with profile likelihood can handle zeros\n",
    "try:\n",
    "    uncond_result = exact_ci_unconditional(a, b, c, d, use_profile=True)\n",
    "    print(f\"Unconditional with profile: ({uncond_result[0]:.3f}, {uncond_result[1]:.3f})\")\n",
    "except Exception as e:\n",
    "    print(f\"Unconditional error: {str(e)}\")"
   ]
  },
  {
   "cell_type": "markdown",
   "metadata": {},
   "source": [
    "## 2. Sparse Tables (Small Counts)\n",
    "\n",
    "Sparse tables with small counts in some cells can lead to wide confidence intervals."
   ]
  },
  {
   "cell_type": "code",
   "execution_count": 6,
   "metadata": {},
   "source": [
    "# Example sparse table\n",
    "# 2×2 table:   Cases   Controls\n",
    "#   Exposed       2        1\n",
    "#   Unexposed     1        3\n",
    "\n",
    "a, b, c, d = 2, 1, 1, 3\n",
    "\n",
    "print(\"Sparse table with small counts:\\n\")\n",
    "print(f\"     | Cases | Controls\")\n",
    "print(f\"-----|-------|----------\")\n",
    "print(f\"Exp. |  {a:3d}  |    {b:3d}\")\n",
    "print(f\"Unex.|  {c:3d}  |    {d:3d}\\n\")\n",
    "\n",
    "# Compare all methods for the sparse table\n",
    "try:\n",
    "    results = compute_all_cis(a, b, c, d)\n",
    "    \n",
    "    # Display results in a formatted table\n",
    "    print(\"Method        Lower   Upper   Width\")\n",
    "    print(\"-\" * 40)\n",
    "    for method, (lower, upper) in results.items():\n",
    "        width = upper - lower\n",
    "        print(f\"{method:12s} {lower:.3f}   {upper:.3f}   {width:.3f}\")\n",
    "except Exception as e:\n",
    "    print(f\"Error: {str(e)}\")"
   ]
  },
  {
   "cell_type": "markdown",
   "metadata": {},
   "source": [
    "## 3. Tables with Extreme Imbalance\n",
    "\n",
    "Tables with extreme imbalance, where one group has many more events than the other, can challenge some methods."
   ]
  },
  {
   "cell_type": "code",
   "execution_count": 7,
   "metadata": {},
   "source": [
    "# Example imbalanced table\n",
    "# 2×2 table:   Cases   Controls\n",
    "#   Exposed     100        2\n",
    "#   Unexposed     3       80\n",
    "\n",
    "a, b, c, d = 100, 2, 3, 80\n",
    "\n",
    "print(\"Imbalanced table:\\n\")\n",
    "print(f\"     | Cases | Controls\")\n",
    "print(f\"-----|-------|----------\")\n",
    "print(f\"Exp. |  {a:3d}  |    {b:3d}\")\n",
    "print(f\"Unex.|  {c:3d}  |    {d:3d}\\n\")\n",
    "\n",
    "# Try all methods except unconditional (which might be slow for this table)\n",
    "methods_to_try = [\n",
    "    (\"conditional\", exact_ci_conditional),\n",
    "    (\"midp\", exact_ci_midp),\n",
    "    (\"blaker\", exact_ci_blaker),\n",
    "    (\"wald_haldane\", ci_wald_haldane),\n",
    "]\n",
    "\n",
    "imbalanced_results = {}\n",
    "for name, method in methods_to_try:\n",
    "    try:\n",
    "        start_time = time.time()\n",
    "        result = method(a, b, c, d)\n",
    "        elapsed = time.time() - start_time\n",
    "        imbalanced_results[name] = (result, elapsed)\n",
    "    except Exception as e:\n",
    "        imbalanced_results[name] = ((f\"Error: {str(e)}\", None), 0)\n",
    "\n",
    "# Display results with timing information\n",
    "print(\"Method        Lower      Upper      Time (s)\")\n",
    "print(\"-\" * 50)\n",
    "for method, (result, elapsed) in imbalanced_results.items():\n",
    "    if isinstance(result[0], str):\n",
    "        print(f\"{method:12s} {result[0]}\")\n",
    "    else:\n",
    "        lower, upper = result\n",
    "        print(f\"{method:12s} {lower:10.3f} {upper:10.3f} {elapsed:10.6f}\")"
   ]
  },
  {
   "cell_type": "code",
   "execution_count": 8,
   "metadata": {},
   "source": [
    "# Try unconditional method with timeout\n",
    "from exactcis.utils import create_timeout_checker\n",
    "\n",
    "try:\n",
    "    print(\"\\nTrying unconditional method with timeout...\")\n",
    "    start_time = time.time()\n",
    "    result = exact_ci_unconditional(a, b, c, d, timeout=5)  # 5-second timeout\n",
    "    elapsed = time.time() - start_time\n",
    "    lower, upper = result\n",
    "    print(f\"unconditional: ({lower:.3f}, {upper:.3f}) - completed in {elapsed:.2f}s\")\n",
    "except Exception as e:\n",
    "    print(f\"Error: {str(e)}\")"
   ]
  },
  {
   "cell_type": "markdown",
   "metadata": {},
   "source": [
    "## 4. Very Large Tables\n",
    "\n",
    "For tables with large counts, some methods might become slow, while others remain efficient."
   ]
  },
  {
   "cell_type": "code",
   "execution_count": 9,
   "metadata": {},
   "source": [
    "# Example large table\n",
    "# 2×2 table:   Cases    Controls\n",
    "#   Exposed     500        400\n",
    "#   Unexposed   300        600\n",
    "\n",
    "a, b, c, d = 500, 400, 300, 600\n",
    "\n",
    "print(\"Large table:\\n\")\n",
    "print(f\"     | Cases | Controls\")\n",
    "print(f\"-----|-------|----------\")\n",
    "print(f\"Exp. |  {a:3d}  |    {b:3d}\")\n",
    "print(f\"Unex.|  {c:3d}  |    {d:3d}\\n\")\n",
    "\n",
    "# Try fast methods suitable for large tables\n",
    "fast_methods = [\n",
    "    (\"conditional\", exact_ci_conditional),\n",
    "    (\"midp\", exact_ci_midp),\n",
    "    (\"wald_haldane\", ci_wald_haldane),\n",
    "]\n",
    "\n",
    "large_results = {}\n",
    "for name, method in fast_methods:\n",
    "    try:\n",
    "        start_time = time.time()\n",
    "        result = method(a, b, c, d)\n",
    "        elapsed = time.time() - start_time\n",
    "        large_results[name] = (result, elapsed)\n",
    "    except Exception as e:\n",
    "        large_results[name] = ((f\"Error: {str(e)}\", None), 0)\n",
    "\n",
    "# Display results with timing information\n",
    "print(\"Method        Lower      Upper      Time (s)\")\n",
    "print(\"-\" * 50)\n",
    "for method, (result, elapsed) in large_results.items():\n",
    "    if isinstance(result[0], str):\n",
    "        print(f\"{method:12s} {result[0]}\")\n",
    "    else:\n",
    "        lower, upper = result\n",
    "        print(f\"{method:12s} {lower:10.3f} {upper:10.3f} {elapsed:10.6f}\")"
   ]
  },
  {
   "cell_type": "markdown",
   "metadata": {},
   "source": [
    "## Summary: Recommendations for Edge Cases\n",
    "\n",
    "Based on the examples above, here are recommendations for handling various edge cases:\n",
    "\n",
    "1. **Tables with Zero Cells**:\n",
    "   - Use `ci_wald_haldane` for a quick solution (automatically applies Haldane correction)\n",
    "   - For exact methods, consider using the unconditional method with `use_profile=True`\n",
    "   - Alternatively, manually add 0.5 to each cell before calculation\n",
    "\n",
    "2. **Sparse Tables**:\n",
    "   - The unconditional method often provides the best power for small sample sizes\n",
    "   - The mid-P method is a good compromise between coverage and power\n",
    "   - The conditional method is very conservative with small counts\n",
    "\n",
    "3. **Tables with Extreme Imbalance**:\n",
    "   - The mid-P and conditional methods handle these well\n",
    "   - The unconditional method might be slow and should be used with a timeout\n",
    "   - The Wald-Haldane method is very fast but less accurate\n",
    "\n",
    "4. **Very Large Tables**:\n",
    "   - All methods work well, but with varying computational costs\n",
    "   - For large tables, the differences between methods diminish\n",
    "   - The Wald-Haldane method offers excellent performance with minimal accuracy trade-offs"
   ]
  }
 ],
 "metadata": {
  "kernelspec": {
   "display_name": "Python 3",
   "language": "python",
   "name": "python3"
  },
  "language_info": {
   "codemirror_mode": {
    "name": "ipython",
    "version": 3
   },
   "file_extension": ".py",
   "mimetype": "text/x-python",
   "name": "python",
   "nbconvert_exporter": "python",
   "pygments_lexer": "ipython3",
   "version": "3.8.10"
  }
 },
 "nbformat": 4,
 "nbformat_minor": 4
}
