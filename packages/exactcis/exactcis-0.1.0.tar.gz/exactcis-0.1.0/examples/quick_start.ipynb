{
 "cells": [
  {
   "metadata": {},
   "cell_type": "code",
   "outputs": [],
   "execution_count": null,
   "source": ""
  },
  {
   "cell_type": "markdown",
   "metadata": {},
   "source": [
    "## Installation\n",
    "\n",
    "If you haven't installed ExactCIs yet, run the following command:"
   ]
  },
  {
   "cell_type": "code",
   "execution_count": null,
   "metadata": {},
   "source": [
    "# For basic installation\n",
    "# !pip install exactcis\n",
    "\n",
    "# For installation with NumPy acceleration (recommended)\n",
    "# !pip install \"exactcis[numpy]\""
   ],
   "outputs": []
  },
  {
   "cell_type": "markdown",
   "metadata": {},
   "source": [
    "## Basic Usage\n",
    "\n",
    "Let's start with a simple example: a 2×2 contingency table representing a clinical trial:"
   ]
  },
  {
   "cell_type": "code",
   "execution_count": null,
   "metadata": {},
   "source": [
    "import numpy as np\n",
    "import pandas as pd\n",
    "import matplotlib.pyplot as plt\n",
    "from exactcis import compute_all_cis\n",
    "\n",
    "# Define our 2×2 table\n",
    "#       Cases  Controls\n",
    "# Exposed    a=12    b=5\n",
    "# Unexposed  c=8     d=10\n",
    "\n",
    "a, b, c, d = 12, 5, 8, 10\n",
    "\n",
    "# Calculate the odds ratio\n",
    "odds_ratio = (a * d) / (b * c)\n",
    "print(f\"Odds Ratio: {odds_ratio:.3f}\")\n",
    "\n",
    "# Calculate confidence intervals using all methods\n",
    "results = compute_all_cis(a, b, c, d, alpha=0.05)\n",
    "\n",
    "# Display results in a DataFrame for better presentation\n",
    "df_results = pd.DataFrame([\n",
    "    {\"Method\": method, \"Lower CI\": ci[0], \"Upper CI\": ci[1], \"CI Width\": ci[1] - ci[0]}\n",
    "    for method, ci in results.items()\n",
    "])\n",
    "\n",
    "df_results.sort_values(by=\"CI Width\")"
   ],
   "outputs": []
  },
  {
   "cell_type": "markdown",
   "metadata": {},
   "source": [
    "## Visualizing the Confidence Intervals\n",
    "\n",
    "We can visualize the confidence intervals for easier comparison:"
   ]
  },
  {
   "cell_type": "code",
   "execution_count": null,
   "metadata": {},
   "source": [
    "plt.figure(figsize=(10, 6))\n",
    "plt.errorbar(\n",
    "    x=df_results[\"Method\"], \n",
    "    y=df_results.apply(lambda row: np.sqrt(row[\"Lower CI\"] * row[\"Upper CI\"]), axis=1),  # Geometric midpoint\n",
    "    xerr=None,\n",
    "    yerr=[\n",
    "        df_results.apply(lambda row: np.sqrt(row[\"Lower CI\"] * row[\"Upper CI\"]) - row[\"Lower CI\"], axis=1),\n",
    "        df_results.apply(lambda row: row[\"Upper CI\"] - np.sqrt(row[\"Lower CI\"] * row[\"Upper CI\"]), axis=1)\n",
    "    ],\n",
    "    fmt=\"o\",\n",
    "    capsize=5\n",
    ")\n",
    "\n",
    "plt.axhline(y=odds_ratio, color=\"r\", linestyle=\"--\", label=\"Observed Odds Ratio\")\n",
    "plt.ylabel(\"Odds Ratio (log scale)\")\n",
    "plt.yscale(\"log\")\n",
    "plt.title(\"95% Confidence Intervals for Odds Ratio by Method\")\n",
    "plt.grid(True, alpha=0.3)\n",
    "plt.legend()\n",
    "plt.xticks(rotation=45)\n",
    "plt.tight_layout()\n",
    "plt.show()"
   ],
   "outputs": []
  },
  {
   "cell_type": "markdown",
   "metadata": {},
   "source": [
    "## Working with Individual Methods\n",
    "\n",
    "Sometimes you might want to use just one specific method. Let's see how to do that:"
   ]
  },
  {
   "cell_type": "code",
   "execution_count": null,
   "metadata": {},
   "source": [
    "from exactcis.methods import (\n",
    "    exact_ci_conditional,\n",
    "    exact_ci_midp,\n",
    "    exact_ci_blaker,\n",
    "    exact_ci_unconditional,\n",
    "    exact_ci_wald_haldane\n",
    ")\n",
    "\n",
    "# Use the conditional method with a different alpha level\n",
    "ci_99 = exact_ci_conditional(a, b, c, d, alpha=0.01)  # 99% confidence interval\n",
    "print(f\"99% Conditional CI: ({ci_99[0]:.3f}, {ci_99[1]:.3f})\")\n",
    "\n",
    "# Use the unconditional method with a larger grid for better precision\n",
    "ci_unconditional = exact_ci_unconditional(a, b, c, d, alpha=0.05, grid_size=100)\n",
    "print(f\"Unconditional CI (grid_size=100): ({ci_unconditional[0]:.3f}, {ci_unconditional[1]:.3f})\")"
   ],
   "outputs": []
  },
  {
   "cell_type": "markdown",
   "metadata": {},
   "source": [
    "## Handling Edge Cases: Tables with Zero Cells\n",
    "\n",
    "Let's see how different methods handle tables with zeros:"
   ]
  },
  {
   "cell_type": "code",
   "execution_count": null,
   "metadata": {},
   "source": [
    "# Table with a zero cell\n",
    "a_zero, b_zero, c_zero, d_zero = 10, 20, 0, 15\n",
    "\n",
    "# Calculate confidence intervals\n",
    "results_zero = compute_all_cis(a_zero, b_zero, c_zero, d_zero)\n",
    "\n",
    "# Display results in a more readable format\n",
    "for method, ci in results_zero.items():\n",
    "    if ci is None:\n",
    "        print(f\"{method:12s} CI: Method failed for this data\")\n",
    "    else:\n",
    "        lower, upper = ci\n",
    "        if np.isinf(upper):\n",
    "            print(f\"{method:12s} CI: ({lower:.3f}, Infinity)\")\n",
    "        else:\n",
    "            print(f\"{method:12s} CI: ({lower:.3f}, {upper:.3f})\")"
   ],
   "outputs": []
  },
  {
   "cell_type": "markdown",
   "metadata": {},
   "source": [
    "## Using Timeout for Computationally Intensive Cases\n",
    "\n",
    "For large or imbalanced tables, the unconditional method can be slow. We can use the timeout parameter to prevent excessively long computations:"
   ]
  },
  {
   "cell_type": "code",
   "execution_count": null,
   "metadata": {},
   "source": [
    "# Larger, imbalanced table\n",
    "a_large, b_large, c_large, d_large = 50, 150, 5, 100\n",
    "\n",
    "# Use unconditional method with a 5-second timeout\n",
    "import time\n",
    "\n",
    "start_time = time.time()\n",
    "try:\n",
    "    ci_with_timeout = exact_ci_unconditional(a_large, b_large, c_large, d_large, timeout=5)\n",
    "    print(f\"Time taken: {time.time() - start_time:.2f} seconds\")\n",
    "    \n",
    "    if ci_with_timeout is None:\n",
    "        print(\"Calculation timed out. Consider using a different method.\")\n",
    "    else:\n",
    "        print(f\"Unconditional CI: ({ci_with_timeout[0]:.3f}, {ci_with_timeout[1]:.3f})\")\n",
    "except Exception as e:\n",
    "    print(f\"Error: {e}\")\n",
    "    \n",
    "# Compare with faster methods\n",
    "print(\"\\nUsing faster methods:\")\n",
    "print(f\"Conditional: {exact_ci_conditional(a_large, b_large, c_large, d_large)}\")\n",
    "print(f\"Wald-Haldane: {exact_ci_wald_haldane(a_large, b_large, c_large, d_large)}\")"
   ],
   "outputs": []
  },
  {
   "cell_type": "markdown",
   "metadata": {},
   "source": [
    "## Comparing Methods for Different Sample Sizes\n",
    "\n",
    "Let's compare how the different methods perform with tables of varying sample sizes while maintaining the same odds ratio:"
   ]
  },
  {
   "cell_type": "code",
   "execution_count": null,
   "metadata": {},
   "source": [
    "# Starting with our base table: a=12, b=5, c=8, d=10\n",
    "# The odds ratio is (12*10)/(5*8) = 3.0\n",
    "\n",
    "# Create tables with the same odds ratio but different sample sizes\n",
    "tables = [\n",
    "    (3, 1, 2, 2),    # Tiny: n=8\n",
    "    (6, 2, 4, 4),    # Small: n=16\n",
    "    (12, 5, 8, 10),  # Original: n=35\n",
    "    (24, 10, 16, 20), # 2x Original: n=70\n",
    "    (60, 25, 40, 50)  # 5x Original: n=175\n",
    "]\n",
    "\n",
    "# Calculate CIs for each table and each method\n",
    "ci_by_size = {}\n",
    "for idx, (a, b, c, d) in enumerate(tables):\n",
    "    n_total = a + b + c + d\n",
    "    or_actual = (a * d) / (b * c)\n",
    "    sample_name = f\"n={n_total} (a={a},b={b},c={c},d={d})\"\n",
    "    ci_by_size[sample_name] = {\n",
    "        \"sample_size\": n_total,\n",
    "        \"odds_ratio\": or_actual,\n",
    "        \"results\": compute_all_cis(a, b, c, d)\n",
    "    }\n",
    "\n",
    "# Extract CI widths for plotting\n",
    "methods = list(next(iter(ci_by_size.values()))[\"results\"].keys())\n",
    "sample_names = list(ci_by_size.keys())\n",
    "\n",
    "# Create DataFrame with CI widths\n",
    "ci_widths = []\n",
    "for sample_name in sample_names:\n",
    "    for method in methods:\n",
    "        ci = ci_by_size[sample_name][\"results\"][method]\n",
    "        if ci is not None:\n",
    "            lower, upper = ci\n",
    "            width = upper - lower\n",
    "        else:\n",
    "            width = np.nan\n",
    "        \n",
    "        ci_widths.append({\n",
    "            \"Sample\": sample_name,\n",
    "            \"Sample Size\": ci_by_size[sample_name][\"sample_size\"],\n",
    "            \"Method\": method,\n",
    "            \"CI Width\": width,\n",
    "            \"Odds Ratio\": ci_by_size[sample_name][\"odds_ratio\"]\n",
    "        })\n",
    "\n",
    "df_widths = pd.DataFrame(ci_widths)\n",
    "\n",
    "# Plot CI widths by sample size\n",
    "plt.figure(figsize=(12, 8))\n",
    "\n",
    "for method in methods:\n",
    "    data = df_widths[df_widths[\"Method\"] == method]\n",
    "    plt.plot(data[\"Sample Size\"], data[\"CI Width\"], \"o-\", label=method)\n",
    "\n",
    "plt.xlabel(\"Sample Size\")\n",
    "plt.ylabel(\"CI Width\")\n",
    "plt.title(\"Confidence Interval Width by Sample Size and Method\")\n",
    "plt.grid(True, alpha=0.3)\n",
    "plt.legend()\n",
    "plt.show()"
   ],
   "outputs": []
  },
  {
   "cell_type": "markdown",
   "metadata": {},
   "source": [
    "## Real-World Example: COVID-19 Vaccine Efficacy\n",
    "\n",
    "Let's analyze a hypothetical COVID-19 vaccine trial data:"
   ]
  },
  {
   "cell_type": "code",
   "execution_count": null,
   "metadata": {},
   "source": [
    "# Trial data\n",
    "#                  Infected   Not Infected\n",
    "# Vaccinated          8          9992\n",
    "# Not Vaccinated     86          9914\n",
    "\n",
    "vax_infected = 8\n",
    "vax_not_infected = 9992\n",
    "unvax_infected = 86\n",
    "unvax_not_infected = 9914\n",
    "\n",
    "# Calculate vaccine efficacy\n",
    "# VE = 1 - Odds Ratio\n",
    "odds_ratio = (vax_infected * unvax_not_infected) / (vax_not_infected * unvax_infected)\n",
    "ve = 1 - odds_ratio\n",
    "print(f\"Vaccine Efficacy: {ve:.1%}\")\n",
    "\n",
    "# Calculate CIs for the odds ratio\n",
    "results = compute_all_cis(vax_infected, vax_not_infected, unvax_infected, unvax_not_infected)\n",
    "\n",
    "# Convert to vaccine efficacy CIs\n",
    "ve_results = {}\n",
    "for method, (lower, upper) in results.items():\n",
    "    # For VE, we flip the CI for the odds ratio (1 - upper, 1 - lower)\n",
    "    ve_results[method] = (1 - upper, 1 - lower)\n",
    "\n",
    "# Display results\n",
    "for method, (lower, upper) in ve_results.items():\n",
    "    print(f\"{method:12s} VE: {lower:.1%} to {upper:.1%}\")"
   ],
   "outputs": []
  },
  {
   "cell_type": "markdown",
   "metadata": {},
   "source": [
    "## Method Selection Guide\n",
    "\n",
    "Here's a quick guide to choosing the appropriate method for your data:"
   ]
  },
  {
   "cell_type": "code",
   "execution_count": null,
   "metadata": {},
   "source": [
    "# Create a function to recommend methods based on data characteristics\n",
    "def recommend_methods(a, b, c, d):\n",
    "    n_total = a + b + c + d\n",
    "    min_cell = min(a, b, c, d)\n",
    "    has_zeros = min_cell == 0\n",
    "    has_small_cells = 0 < min_cell < 5\n",
    "    \n",
    "    print(f\"Table: [{a}, {b}; {c}, {d}]\")\n",
    "    print(f\"Total sample size: {n_total}\")\n",
    "    print(f\"Minimum cell count: {min_cell}\")\n",
    "    print()\n",
    "    \n",
    "    if has_zeros:\n",
    "        print(\"⚠️ Table contains zeros.\")\n",
    "        print(\"✅ Recommended methods: Conditional, Wald-Haldane\")\n",
    "        print(\"⚠️ Use caution with: MidP, Blaker\")\n",
    "        print(\"❌ Not recommended: Unconditional (may be unstable)\")\n",
    "        \n",
    "    elif has_small_cells:\n",
    "        print(\"⚠️ Table contains small cells (< 5).\")\n",
    "        print(\"✅ Recommended methods: Conditional, MidP, Blaker\")\n",
    "        print(\"⚠️ Use caution with: Unconditional (may be slow)\")\n",
    "        print(\"❌ Not recommended: Wald-Haldane (unless you need an approximation)\")\n",
    "        \n",
    "    elif n_total < 50:\n",
    "        print(\"⚠️ Small sample size (< 50).\")\n",
    "        print(\"✅ Recommended methods: MidP, Blaker, Unconditional\")\n",
    "        print(\"⚠️ Use caution with: Conditional (may be overly conservative)\")\n",
    "        print(\"❌ Not recommended: Wald-Haldane (unless you need a quick approximation)\")\n",
    "        \n",
    "    else:\n",
    "        print(\"✅ Large sample size with no small cells.\")\n",
    "        print(\"✅ Recommended methods: Any method should work well\")\n",
    "        print(\"ℹ️ For computational efficiency: Wald-Haldane\")\n",
    "        print(\"ℹ️ For guaranteed coverage: Conditional\")\n",
    "        print(\"ℹ️ For balanced power and coverage: MidP or Blaker\")\n",
    "\n",
    "# Examples\n",
    "print(\"Example 1: Table with zeros\")\n",
    "recommend_methods(0, 5, 10, 15)\n",
    "print(\"\\n\" + \"-\"*50 + \"\\n\")\n",
    "\n",
    "print(\"Example 2: Small cells\")\n",
    "recommend_methods(3, 4, 2, 8)\n",
    "print(\"\\n\" + \"-\"*50 + \"\\n\")\n",
    "\n",
    "print(\"Example 3: Larger sample\")\n",
    "recommend_methods(25, 30, 15, 40)"
   ],
   "outputs": []
  },
  {
   "cell_type": "markdown",
   "metadata": {},
   "source": [
    "## Conclusion\n",
    "\n",
    "ExactCIs provides several methods for calculating confidence intervals for odds ratios, each with its own advantages. The choice of method depends on your data characteristics, computational resources, and statistical requirements.\n",
    "\n",
    "Key takeaways:\n",
    "- For small samples or tables with zeros, use conditional methods\n",
    "- For balanced power and coverage, consider MidP or Blaker\n",
    "- For large samples where computational efficiency is important, use Wald-Haldane\n",
    "- When comparing methods, look at CI width and coverage properties"
   ]
  }
 ],
 "metadata": {
  "kernelspec": {
   "display_name": "Python 3",
   "language": "python",
   "name": "python3"
  },
  "language_info": {
   "codemirror_mode": {
    "name": "ipython",
    "version": 3
   },
   "file_extension": ".py",
   "mimetype": "text/x-python",
   "name": "python",
   "nbconvert_exporter": "python",
   "pygments_lexer": "ipython3",
   "version": "3.8.10"
  }
 },
 "nbformat": 4,
 "nbformat_minor": 4
}
