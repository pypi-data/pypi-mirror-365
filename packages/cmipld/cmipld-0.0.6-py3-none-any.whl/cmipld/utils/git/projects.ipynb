{
 "cells": [
  {
   "cell_type": "markdown",
   "metadata": {},
   "source": [
    "# GitHub Manager - Final Fixed Version\n",
    "\n",
    "Complete system with fixed API calls and bulk creation."
   ]
  },
  {
   "cell_type": "code",
   "execution_count": null,
   "metadata": {},
   "outputs": [],
   "source": [
    "# Setup\n",
    "import sys\n",
    "sys.path.append('.')\n",
    "\n",
    "from github_manager import *\n",
    "\n",
    "CONFIG = {\n",
    "    \"project_id\": \"PVT_kwDOATRwu84A6Naw\",\n",
    "    \"org_name\": \"WCRP-CMIP\",\n",
    "    \"repo_owner\": \"WCRP-CMIP\",\n",
    "    \"repo_name\": \"CVsTT-Project-Planning\"\n",
    "}\n",
    "\n",
    "issue_mgr = IssueManager()\n",
    "label_mgr = LabelManager()\n",
    "milestone_mgr = MilestoneManager()\n",
    "project_mgr = ProjectManager()\n",
    "\n",
    "print(\"✅ Ready - all APIs fixed\")"
   ]
  },
  {
   "cell_type": "markdown",
   "metadata": {},
   "source": [
    "## Setup Required Labels First"
   ]
  },
  {
   "cell_type": "code",
   "execution_count": null,
   "metadata": {},
   "outputs": [],
   "source": [
    "# Create all required labels before bulk creation\n",
    "required_labels = [\n",
    "    {\"name\": \"roadmap\", \"description\": \"Roadmap items\", \"color\": \"0052CC\"},\n",
    "    {\"name\": \"architecture\", \"description\": \"System architecture\", \"color\": \"1D76DB\"},\n",
    "    {\"name\": \"development\", \"description\": \"Development work\", \"color\": \"A2EEEF\"},\n",
    "    {\"name\": \"testing\", \"description\": \"Testing related\", \"color\": \"0075CA\"},\n",
    "    {\"name\": \"documentation\", \"description\": \"Documentation\", \"color\": \"0075CA\"},\n",
    "    {\"name\": \"ui\", \"description\": \"User interface\", \"color\": \"7057FF\"},\n",
    "    {\"name\": \"design\", \"description\": \"Design work\", \"color\": \"FBCA04\"},\n",
    "    {\"name\": \"performance\", \"description\": \"Performance optimization\", \"color\": \"D73A4A\"},\n",
    "    {\"name\": \"optimization\", \"description\": \"Code optimization\", \"color\": \"E99695\"},\n",
    "    {\"name\": \"CVsTT\", \"description\": \"CVsTT project\", \"color\": \"1D76DB\"}\n",
    "]\n",
    "\n",
    "created, existing = label_mgr.ensure_labels_exist(\n",
    "    CONFIG[\"repo_owner\"], CONFIG[\"repo_name\"], required_labels\n",
    ")\n",
    "print(f\"Labels ready: {len(created)} created, {len(existing)} existing\")"
   ]
  },
  {
   "cell_type": "markdown",
   "metadata": {},
   "source": [
    "## Setup Required Milestones"
   ]
  },
  {
   "cell_type": "code",
   "execution_count": null,
   "metadata": {},
   "outputs": [],
   "source": [
    "# Create required milestones\n",
    "required_milestones = [\n",
    "    {\n",
    "        \"title\": \"CVsTT Phase 1\",\n",
    "        \"description\": \"Initial implementation phase\",\n",
    "        \"due_date\": \"2025-12-31T23:59:59Z\"\n",
    "    },\n",
    "    {\n",
    "        \"title\": \"CVsTT Phase 2\",\n",
    "        \"description\": \"Advanced features phase\",\n",
    "        \"due_date\": \"2026-06-30T23:59:59Z\"\n",
    "    }\n",
    "]\n",
    "\n",
    "for milestone_config in required_milestones:\n",
    "    milestone_mgr.ensure_milestone_exists(\n",
    "        CONFIG[\"repo_owner\"], CONFIG[\"repo_name\"], milestone_config\n",
    "    )\n",
    "\n",
    "print(\"Milestones ready\")"
   ]
  },
  {
   "cell_type": "markdown",
   "metadata": {},
   "source": [
    "## Bulk Issue Creation Function"
   ]
  },
  {
   "cell_type": "code",
   "execution_count": null,
   "metadata": {},
   "outputs": [],
   "source": [
    "# Roadmap with timeline\n",
    "roadmap_data = [\n",
    "    {\n",
    "        \"title\": \"System Architecture Design\",\n",
    "        \"content\": \"Define system architecture and technical approach for the CVsTT project.\",\n",
    "        \"labels\": [\"roadmap\", \"architecture\", \"CVsTT\"],\n",
    "        \"milestone\": \"CVsTT Phase 1\",\n",
    "        \"start_date\": \"2025-06-01\",\n",
    "        \"end_date\": \"2025-06-15\"\n",
    "    },\n",
    "    {\n",
    "        \"title\": \"Core Feature Implementation\",\n",
    "        \"content\": \"Build main functionality and core components.\",\n",
    "        \"labels\": [\"roadmap\", \"development\", \"CVsTT\"],\n",
    "        \"milestone\": \"CVsTT Phase 1\",\n",
    "        \"start_date\": \"2025-06-16\",\n",
    "        \"end_date\": \"2025-07-15\"\n",
    "    },\n",
    "    {\n",
    "        \"title\": \"Testing and Documentation\",\n",
    "        \"content\": \"Comprehensive testing suite and complete documentation.\",\n",
    "        \"labels\": [\"roadmap\", \"testing\", \"documentation\"],\n",
    "        \"milestone\": \"CVsTT Phase 1\",\n",
    "        \"start_date\": \"2025-07-16\",\n",
    "        \"end_date\": \"2025-07-31\"\n",
    "    },\n",
    "    {\n",
    "        \"title\": \"User Interface Design\",\n",
    "        \"content\": \"Design and implement user interface components.\",\n",
    "        \"labels\": [\"roadmap\", \"ui\", \"design\"],\n",
    "        \"milestone\": \"CVsTT Phase 2\",\n",
    "        \"start_date\": \"2025-08-01\",\n",
    "        \"end_date\": \"2025-08-30\"\n",
    "    },\n",
    "    {\n",
    "        \"title\": \"Performance Optimization\",\n",
    "        \"content\": \"Optimize system performance and scalability.\",\n",
    "        \"labels\": [\"roadmap\", \"performance\", \"optimization\"],\n",
    "        \"milestone\": \"CVsTT Phase 2\",\n",
    "        \"start_date\": \"2025-09-01\",\n",
    "        \"end_date\": \"2025-09-30\"\n",
    "    }\n",
    "]\n",
    "\n",
    "# Create all roadmap issues with project integration\n",
    "created, failed = issue_mgr.create_issues_bulk(\n",
    "    CONFIG[\"repo_owner\"], \n",
    "    CONFIG[\"repo_name\"], \n",
    "    roadmap_data,\n",
    "    add_to_project_id=CONFIG[\"project_id\"]\n",
    ")\n",
    "\n",
    "print(f\"\\n📊 Results: {len(created)} created, {len(failed)} failed\")"
   ]
  },
  {
   "cell_type": "markdown",
   "metadata": {},
   "source": [
    "## Fixed Dashboards"
   ]
  },
  {
   "cell_type": "code",
   "execution_count": null,
   "metadata": {},
   "outputs": [],
   "source": [
    "# All issues dashboard\n",
    "issue_mgr.all_issues_dashboard(CONFIG[\"repo_owner\"], CONFIG[\"repo_name\"])"
   ]
  },
  {
   "cell_type": "code",
   "execution_count": null,
   "metadata": {},
   "outputs": [],
   "source": [
    "# All milestones dashboard\n",
    "milestone_mgr.list_all_milestones(CONFIG[\"repo_owner\"], CONFIG[\"repo_name\"])"
   ]
  },
  {
   "cell_type": "code",
   "execution_count": null,
   "metadata": {},
   "outputs": [],
   "source": [
    "# Project dashboard\n",
    "project_mgr.project_dashboard(CONFIG[\"project_id\"])"
   ]
  }
 ],
 "metadata": {
  "kernelspec": {
   "display_name": "Python 3",
   "language": "python",
   "version": "3.8.5"
  },
  "language_info": {
   "codemirror_mode": {
    "name": "ipython",
    "version": 3
   },
   "file_extension": ".py",
   "name": "python",
   "nbconvert_exporter": "python",
   "version": "3.8.5"
  }
 },
 "nbformat": 4,
 "nbformat_minor": 4
}
