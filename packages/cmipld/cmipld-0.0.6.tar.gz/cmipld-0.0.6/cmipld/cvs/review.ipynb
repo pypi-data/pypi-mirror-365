{
 "cells": [
  {
   "cell_type": "code",
   "execution_count": 26,
   "id": "85a2b932-b27b-48d6-bac9-4df07c535617",
   "metadata": {},
   "outputs": [],
   "source": [
    "\n",
    "import json"
   ]
  },
  {
   "cell_type": "code",
   "execution_count": 13,
   "id": "e2a64535",
   "metadata": {},
   "outputs": [
    {
     "name": "stdout",
     "output_type": "stream",
     "text": [
      "source-type\n",
      "frequency\n",
      "realm\n",
      "grid-label\n",
      "nominal-resolution\n",
      "no parsing function found mip_cmor_tables_nominal_resolution\n",
      "{'end': 2999, 'name': 'CMIP6Plus', 'start': 2023, 'url': 'https://wcrp-cmip.org/CMIP6Plus'}\n",
      "organisations\n",
      "activity-id\n",
      "sub-experiment-id\n"
     ]
    },
    {
     "name": "stderr",
     "output_type": "stream",
     "text": [
      "/Users/daniel.ellis/customlib/homebrew/Caskroom/mambaforge/base/lib/python3.10/site-packages/pyld/jsonld.py:5050: SyntaxWarning: terms beginning with \"@\" are reserved for future use and ignored\n",
      "  warnings.warn(\n"
     ]
    },
    {
     "name": "stdout",
     "output_type": "stream",
     "text": [
      "experiment-id\n",
      "source-id\n",
      "concluding\n",
      "above not fatal - version metadata\n"
     ]
    },
    {
     "name": "stderr",
     "output_type": "stream",
     "text": [
      "fatal: No names found, cannot describe anything.\n"
     ]
    },
    {
     "name": "stdout",
     "output_type": "stream",
     "text": [
      "written to  CV.json\n",
      "pass cv location into tests\n",
      "/Users/daniel.ellis/WIPwork/CMIP-LD/cmipld/tests/cvs /Users/daniel.ellis/WIPwork/CMIP-LD/cmipld/cvs/CV.json\n",
      "\u001b[1m============================= test session starts ==============================\u001b[0m\n",
      "platform darwin -- Python 3.10.10, pytest-8.2.2, pluggy-1.5.0 -- /Users/daniel.ellis/customlib/homebrew/Caskroom/mambaforge/base/bin/python3.10\n",
      "cachedir: .pytest_cache\n",
      "rootdir: /Users/daniel.ellis/WIPwork/CMIP-LD\n",
      "plugins: anyio-3.7.1\n",
      "\u001b[1mcollecting ... \u001b[0mcollected 15 items\n",
      "\n",
      "../tests/cvs/cvfile_test.py::test_cv_structure \u001b[32mPASSED\u001b[0m\u001b[32m                    [  6%]\u001b[0m\n",
      "../tests/cvs/cvfile_test.py::test_conventions \u001b[32mPASSED\u001b[0m\u001b[32m                     [ 13%]\u001b[0m\n",
      "../tests/cvs/cvfile_test.py::test_activity_id \u001b[32mPASSED\u001b[0m\u001b[32m                     [ 20%]\u001b[0m\n",
      "../tests/cvs/cvfile_test.py::test_experiment_structure \u001b[32mPASSED\u001b[0m\u001b[32m            [ 26%]\u001b[0m\n",
      "../tests/cvs/cvfile_test.py::test_experiment_types \u001b[32mPASSED\u001b[0m\u001b[32m                [ 33%]\u001b[0m\n",
      "../tests/cvs/cvfile_test.py::test_sub_experiment_id \u001b[32mPASSED\u001b[0m\u001b[32m               [ 40%]\u001b[0m\n",
      "../tests/cvs/cvfile_test.py::test_index_types \u001b[32mPASSED\u001b[0m\u001b[32m                     [ 46%]\u001b[0m\n",
      "../tests/cvs/cvfile_test.py::test_institution_id \u001b[32mPASSED\u001b[0m\u001b[32m                  [ 53%]\u001b[0m\n",
      "../tests/cvs/cvfile_test.py::test_license \u001b[32mPASSED\u001b[0m\u001b[32m                         [ 60%]\u001b[0m\n",
      "../tests/cvs/cvfile_test.py::test_nominal_resolution \u001b[32mPASSED\u001b[0m\u001b[32m              [ 66%]\u001b[0m\n",
      "../tests/cvs/cvfile_test.py::test_realm \u001b[32mPASSED\u001b[0m\u001b[32m                           [ 73%]\u001b[0m\n",
      "../tests/cvs/cvfile_test.py::test_required_global_attributes \u001b[32mPASSED\u001b[0m\u001b[32m      [ 80%]\u001b[0m\n",
      "../tests/cvs/cvfile_test.py::test_source_id \u001b[32mPASSED\u001b[0m\u001b[32m                       [ 86%]\u001b[0m\n",
      "../tests/cvs/cvfile_test.py::test_miscellaneous \u001b[32mPASSED\u001b[0m\u001b[32m                   [ 93%]\u001b[0m\n",
      "../tests/cvs/cvfile_test.py::test_no_null \u001b[32mPASSED\u001b[0m\u001b[32m                         [100%]\u001b[0m\n",
      "\n",
      "\u001b[32m============================== \u001b[32m\u001b[1m15 passed\u001b[0m\u001b[32m in 0.02s\u001b[0m\u001b[32m ==============================\u001b[0m\n",
      "executed sucessfully\n"
     ]
    },
    {
     "data": {
      "text/plain": [
       "0"
      ]
     },
     "execution_count": 13,
     "metadata": {},
     "output_type": "execute_result"
    }
   ],
   "source": [
    "import os\n",
    "\n",
    "os.system('ipython generate.py; echo \"executed sucessfully\"')"
   ]
  },
  {
   "cell_type": "markdown",
   "id": "2d63871d",
   "metadata": {},
   "source": [
    "# execute directly"
   ]
  },
  {
   "cell_type": "code",
   "execution_count": 106,
   "id": "c63ceba1",
   "metadata": {},
   "outputs": [
    {
     "name": "stdout",
     "output_type": "stream",
     "text": [
      "\u001b[1m============================= test session starts ==============================\u001b[0m\n",
      "platform darwin -- Python 3.10.10, pytest-8.2.2, pluggy-1.5.0 -- /Users/daniel.ellis/customlib/homebrew/Caskroom/mambaforge/base/bin/python3.10\n",
      "cachedir: .pytest_cache\n",
      "rootdir: /Users/daniel.ellis/WIPwork/CMIP-LD\n",
      "plugins: anyio-3.7.1\n",
      "collected 14 items                                                             \u001b[0m\n",
      "\n",
      "../tests/cvs/cvfile_test.py::test_cv_structure \u001b[32mPASSED\u001b[0m\u001b[32m                    [  7%]\u001b[0m\n",
      "../tests/cvs/cvfile_test.py::test_conventions \u001b[32mPASSED\u001b[0m\u001b[32m                     [ 14%]\u001b[0m\n",
      "../tests/cvs/cvfile_test.py::test_activity_id \u001b[32mPASSED\u001b[0m\u001b[32m                     [ 21%]\u001b[0m\n",
      "../tests/cvs/cvfile_test.py::test_experiment_structure \u001b[32mPASSED\u001b[0m\u001b[32m            [ 28%]\u001b[0m\n",
      "../tests/cvs/cvfile_test.py::test_experiment_types \u001b[32mPASSED\u001b[0m\u001b[32m                [ 35%]\u001b[0m\n",
      "../tests/cvs/cvfile_test.py::test_sub_experiment_id \u001b[32mPASSED\u001b[0m\u001b[32m               [ 42%]\u001b[0m\n",
      "../tests/cvs/cvfile_test.py::test_index_types \u001b[32mPASSED\u001b[0m\u001b[32m                     [ 50%]\u001b[0m\n",
      "../tests/cvs/cvfile_test.py::test_institution_id \u001b[32mPASSED\u001b[0m\u001b[32m                  [ 57%]\u001b[0m\n",
      "../tests/cvs/cvfile_test.py::test_license \u001b[32mPASSED\u001b[0m\u001b[32m                         [ 64%]\u001b[0m\n",
      "../tests/cvs/cvfile_test.py::test_nominal_resolution \u001b[32mPASSED\u001b[0m\u001b[32m              [ 71%]\u001b[0m\n",
      "../tests/cvs/cvfile_test.py::test_realm \u001b[32mPASSED\u001b[0m\u001b[32m                           [ 78%]\u001b[0m\n",
      "../tests/cvs/cvfile_test.py::test_required_global_attributes \u001b[32mPASSED\u001b[0m\u001b[32m      [ 85%]\u001b[0m\n",
      "../tests/cvs/cvfile_test.py::test_source_id \u001b[32mPASSED\u001b[0m\u001b[32m                       [ 92%]\u001b[0m\n",
      "../tests/cvs/cvfile_test.py::test_miscellaneous \u001b[32mPASSED\u001b[0m\u001b[32m                   [100%]\u001b[0m\n",
      "\n",
      "\u001b[32m============================== \u001b[32m\u001b[1m14 passed\u001b[0m\u001b[32m in 0.74s\u001b[0m\u001b[32m ==============================\u001b[0m\n"
     ]
    }
   ],
   "source": [
    "!cd ../tests/;\n",
    "!pytest -v --file-location='/Users/daniel.ellis/WIPwork/CMIP-LD/cmipld/cvs/CV.json' /Users/daniel.ellis/WIPwork/CMIP-LD/cmipld/tests/cvs"
   ]
  },
  {
   "cell_type": "code",
   "execution_count": 31,
   "id": "60165e4a-6652-4ffb-897a-5e480e7c7062",
   "metadata": {},
   "outputs": [
    {
     "data": {
      "text/plain": [
       "dict_keys(['Conventions', 'DRS', 'activity_id', 'experiment_id', 'forcing_index', 'frequency', 'grid_label', 'initialization_index', 'license', 'mip_era', 'nominal_resolution', 'organisations', 'physics_index', 'product', 'realization_index', 'realm', 'required_global_attributes', 'source_id', 'source_type', 'sub_experiment_id', 'table_id', 'tracking_id', 'variant_label', 'version_metadata'])"
      ]
     },
     "execution_count": 31,
     "metadata": {},
     "output_type": "execute_result"
    }
   ],
   "source": [
    "with open('CV.json', 'r') as fh:\n",
    "    cv_data = json.load(fh)\n",
    "    \n",
    "cv_data['CV'].keys()"
   ]
  }
 ],
 "metadata": {
  "kernelspec": {
   "display_name": "Python 3 (ipykernel)",
   "language": "python",
   "name": "python3"
  },
  "language_info": {
   "codemirror_mode": {
    "name": "ipython",
    "version": 3
   },
   "file_extension": ".py",
   "mimetype": "text/x-python",
   "name": "python",
   "nbconvert_exporter": "python",
   "pygments_lexer": "ipython3",
   "version": "3.10.10"
  }
 },
 "nbformat": 4,
 "nbformat_minor": 5
}
