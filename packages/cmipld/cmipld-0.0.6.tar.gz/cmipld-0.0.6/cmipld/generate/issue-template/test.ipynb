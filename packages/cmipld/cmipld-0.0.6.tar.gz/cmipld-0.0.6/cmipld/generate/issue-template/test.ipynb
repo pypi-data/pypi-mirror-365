{
 "cells": [
  {
   "cell_type": "code",
   "execution_count": null,
   "metadata": {},
   "outputs": [],
   "source": [
    "schema = {\n",
    "  \"$schema\": \"http://json-schema.org/draft-07/schema#\",\n",
    "  \"title\": \"Example Form Schema\",\n",
    "  \"type\": \"object\",\n",
    "  \"properties\": {\n",
    "    \"name\": {\n",
    "      \"type\": \"string\",\n",
    "      \"description\": \"Your full name\"\n",
    "    },\n",
    "    \"email\": {\n",
    "      \"type\": \"string\",\n",
    "      \"format\": \"email\",\n",
    "      \"description\": \"Your email address\"\n",
    "    },\n",
    "    \"age\": {\n",
    "      \"type\": \"integer\",\n",
    "      \"description\": \"Your age\"\n",
    "    },\n",
    "    \"favorite_color\": {\n",
    "      \"type\": \"string\",\n",
    "      \"enum\": [\"Red\", \"Green\", \"Blue\", \"Yellow\"],\n",
    "      \"description\": \"Select your favorite color\"\n",
    "    },\n",
    "    \"skills\": {\n",
    "      \"type\": \"array\",\n",
    "      \"items\": {\n",
    "        \"type\": \"string\",\n",
    "        \"enum\": [\"Python\", \"JavaScript\", \"C++\", \"Java\"]\n",
    "      },\n",
    "      \"description\": \"Select your skills\"\n",
    "    },\n",
    "    \"is_active\": {\n",
    "      \"type\": \"boolean\",\n",
    "      \"description\": \"Are you currently active?\"\n",
    "    }\n",
    "  },\n",
    "  \"required\": [\"name\", \"email\"]\n",
    "}\n"
   ]
  },
  {
   "cell_type": "code",
   "execution_count": null,
   "metadata": {},
   "outputs": [],
   "source": [
    "import json\n",
    "import yaml\n",
    "\n",
    "def convert_schema_to_github_form(schema_path, output_path):\n",
    "    \n",
    "    # with open(schema_path, 'r') as f:\n",
    "    #     schema = json.load(f)\n",
    "\n",
    "    schema = schema_path\n",
    "    form = {\n",
    "        \"name\": schema.get(\"title\", \"Form\"),\n",
    "        \"description\": \"Auto-generated form from JSON Schema.\",\n",
    "        \"title\":\"{{ name }} - Submission\",\n",
    "        \"body\": []\n",
    "    }\n",
    "\n",
    "    for field, details in schema.get(\"properties\", {}).items():\n",
    "        form_field = {\n",
    "            \"id\": field,\n",
    "            \"attributes\": {\n",
    "                \"label\": details.get(\"title\", field.replace(\"_\", \" \").title()),\n",
    "                \"description\": details.get(\"description\", \"\"),\n",
    "                \"placeholder\": details.get(\"default\", \"\")\n",
    "               \n",
    "            },\n",
    "             \"validations\":{\"required\": field in schema.get(\"required\", [])}\n",
    "        }\n",
    "\n",
    "        if details[\"type\"] == \"string\" and \"enum\" in details:\n",
    "            form_field[\"type\"] = \"dropdown\"\n",
    "            form_field[\"attributes\"][\"options\"] = details[\"enum\"]\n",
    "        elif details[\"type\"] == \"array\" and \"items\" in details and \"enum\" in details[\"items\"]:\n",
    "            form_field[\"type\"] = \"checkboxes\"\n",
    "            form_field[\"attributes\"][\"options\"] = [{\"label\": opt.lower()} for opt in details[\"items\"][\"enum\"]]\n",
    "            form_field['multiple'] = details.get(\"multiple\", False)\n",
    "        elif details[\"type\"] == \"boolean\":\n",
    "            form_field[\"type\"] = \"dropdown\"\n",
    "            form_field[\"attributes\"][\"options\"] = [\"Yes\", \"No\"]\n",
    "            form_field['miultiple'] = details.get(\"multiple\", False)\n",
    "        else:\n",
    "            form_field[\"type\"] = \"input\"\n",
    "            form_field[\"attributes\"][\"placeholder\"] = details.get(\"default\",f\"Enter your {field.replace('_', ' ')}\")\n",
    "\n",
    "        form[\"body\"].append(form_field)\n",
    "\n",
    "# checkbox options can be required much like the field. \n",
    "\n",
    "\n",
    "    # with open(output_path, 'w') as f:\n",
    "    #     yaml.dump(form, f, sort_keys=False)\n",
    "    return yaml.dump(form)\n",
    "\n",
    "# Example Usage\n",
    "# convert_schema_to_github_form(\"example_schema.json\", \"form.yml\")\n",
    "\n"
   ]
  },
  {
   "cell_type": "code",
   "execution_count": null,
   "metadata": {},
   "outputs": [],
   "source": [
    "print(convert_schema_to_github_form(schema, \"form.yml\"))"
   ]
  },
  {
   "cell_type": "code",
   "execution_count": null,
   "metadata": {},
   "outputs": [],
   "source": [
    "import jsonschema\n",
    "import json\n",
    "\n",
    "\n",
    "def valid_schema(schema):\n",
    "    try:\n",
    "        # Use the meta-schema for validation\n",
    "        jsonschema.Draft7Validator.check_schema(schema)\n",
    "        print(\"The JSON Schema is valid.\")\n",
    "    except jsonschema.exceptions.SchemaError as e:\n",
    "        print(f\"Schema Error: {e.message}\")\n",
    "\n",
    "# Validate the schema\n",
    "valid_schema(schema)"
   ]
  },
  {
   "cell_type": "code",
   "execution_count": null,
   "metadata": {},
   "outputs": [],
   "source": []
  },
  {
   "cell_type": "code",
   "execution_count": null,
   "metadata": {},
   "outputs": [],
   "source": [
    "import cmipld\n",
    "url = 'cmip6plus:source/graph'\n",
    "url = 'https://wcrp-cmip.github.io/CMIP6Plus_CVs/source/'\n",
    "cmipld.processor.frame(url+'graph',{\"@type\":'source',\"@explicit\":False})"
   ]
  },
  {
   "cell_type": "code",
   "execution_count": null,
   "metadata": {},
   "outputs": [],
   "source": [
    "from pyld import jsonld\n",
    "\n",
    "cmipld.getall( ['cmip6plus:source/graph','https://wcrp-cmip.github.io/WCRP-universe/activity/graph'] )\n",
    "\n",
    "\n",
    "\n",
    "\n"
   ]
  },
  {
   "cell_type": "code",
   "execution_count": null,
   "metadata": {},
   "outputs": [],
   "source": []
  },
  {
   "cell_type": "code",
   "execution_count": 54,
   "metadata": {},
   "outputs": [],
   "source": [
    "schema = {\n",
    "#   \"$schema\": \"http://json-schema.org/draft-07/schema#\",\n",
    "  \"type\": \"object\",\n",
    "  \"properties\": {\n",
    "    \"field_name\": {\n",
    "      \"type\": \"string\",\n",
    "      \"enum\": [\"Option1\", \"Option2\", \"Option3\"]\n",
    "    }\n",
    "  },\n",
    "  \"required\": [\"field_name\"],\n",
    "}\n",
    "\n",
    "\n",
    "\n",
    "schema = {\n",
    "#   \"$schema\": \"http://json-schema.org/draft-07/schema#\",\n",
    "  \"type\": \"object\",\n",
    "  \"properties\": {\n",
    "    \"field_name\": {\n",
    "         \"allOf\": [\n",
    "     {\n",
    "        \n",
    "       \"$ref\":\"https://wcrp-cmip.github.io/WCRP-universe/activity/_schema_#/$defs/contains\"\n",
    "    },\n",
    "     {\"description\": \"Your full name\"}\n",
    "  ]\n",
    "         },\n",
    "       \n",
    "  },\n",
    "  \"required\": [\"field_name\"],\n",
    "}\n",
    "\n",
    "\n",
    "\n",
    "schema = {\n",
    "#   \"$schema\": \"http://json-schema.org/draft-07/schema#\",\n",
    "  \"type\": \"object\",\n",
    "  \"properties\": {\n",
    "    \"field_name\": {\n",
    "         \n",
    "       \"$ref\":\"https://wcrp-cmip.github.io/WCRP-universe/activity/_schema_#/contains\",\n",
    "   \"description\": \"Your full name\"\n",
    "         },\n",
    "       \n",
    "  },\n",
    "  \"required\": [\"field_name\"],\n",
    "}\n",
    "\n",
    "\n",
    "\n",
    "data = {\n",
    "  \"field_name\": \"cmip\"\n",
    "}\n",
    "\n",
    "import json\n",
    "import jsonschema\n",
    "from jsonschema import validate, exceptions\n",
    "\n",
    "\n",
    "\n",
    "validate(data, schema)\n",
    "    \n"
   ]
  },
  {
   "cell_type": "code",
   "execution_count": 56,
   "metadata": {},
   "outputs": [
    {
     "name": "stderr",
     "output_type": "stream",
     "text": [
      "/var/folders/hc/s_7lggq12nndglbdyrn3f91m1l58yd/T/ipykernel_28217/3099840327.py:2: DeprecationWarning: jsonschema.RefResolver is deprecated as of v4.18.0, in favor of the https://github.com/python-jsonschema/referencing library, which provides more compliant referencing behavior as well as more flexible APIs for customization. A future release will remove RefResolver. Please file a feature request (on referencing) if you are missing an API for the kind of customization you need.\n",
      "  from jsonschema import RefResolver\n"
     ]
    },
    {
     "data": {
      "text/plain": [
       "{'type': 'object',\n",
       " 'properties': {'field_name': {'type': 'string',\n",
       "   'enum': ['aerchemmip',\n",
       "    'c4mip',\n",
       "    'cfmip',\n",
       "    'cmip',\n",
       "    'damip',\n",
       "    'dcpp',\n",
       "    'geomip',\n",
       "    'lesfmip',\n",
       "    'lmip',\n",
       "    'pmip',\n",
       "    'ramip',\n",
       "    'rfmip',\n",
       "    'scenariomip',\n",
       "    'tipmip']}},\n",
       " 'required': ['field_name']}"
      ]
     },
     "execution_count": 56,
     "metadata": {},
     "output_type": "execute_result"
    }
   ],
   "source": [
    "import json\n",
    "from jsonschema import RefResolver\n",
    "import urllib.parse\n",
    "\n",
    "# def resolve_ref(schema, resolver):\n",
    "#     \"\"\"Recursively resolve $ref in the schema\"\"\"\n",
    "#     if \"$ref\" in schema:\n",
    "#         ref_url = schema[\"$ref\"]\n",
    "#         # Resolve the reference using the resolver and get the actual definition\n",
    "#         schema = resolver.resolve(ref_url)[1]  # The second element is the resolved schema\n",
    "#     if isinstance(schema, dict):\n",
    "#         for key, value in schema.items():\n",
    "#             schema[key] = resolve_ref(value, resolver)\n",
    "#     elif isinstance(schema, list):\n",
    "#         for idx, item in enumerate(schema):\n",
    "#             schema[idx] = resolve_ref(item, resolver)\n",
    "#     return schema\n",
    "\n",
    "def expand_schema(schema):\n",
    "    \"\"\"Expand the schema by resolving all $ref references using a self-contained URI\"\"\"\n",
    "    # Create a resolver with a base URI and the schema itself\n",
    "    resolver = RefResolver.from_schema(schema)\n",
    "    # Start the resolution processa\n",
    "    \n",
    "    return resolve_ref(schema, resolver)\n",
    "\n",
    "expand_schema(schema)"
   ]
  },
  {
   "cell_type": "code",
   "execution_count": 41,
   "metadata": {},
   "outputs": [
    {
     "data": {
      "text/plain": [
       "['../_context_',\n",
       " {'@base': 'https://wcrp-cmip.github.io/CMIP6Plus_CVs/source/',\n",
       "  '@vocab': 'https://wcrp-cmip.github.io/CMIP6Plus_CVs/source/',\n",
       "  'activity-participation': {'@context': 'https://wcrp-cmip.github.io/WCRP-universe/activity/_context_',\n",
       "   '@type': '@id',\n",
       "   '@reverse': 'https://wcrp-cmip.github.io/WCRP-universe/activity/source_activity'},\n",
       "  'license': {'@context': 'https://wcrp-cmip.github.io/WCRP-universe/license/_context_',\n",
       "   '@container': '@id'},\n",
       "  'model-component': {'@context': 'https://wcrp-cmip.github.io/CMIP6Plus_CVs/component/_context_',\n",
       "   '@container': '@id'}}]"
      ]
     },
     "execution_count": 41,
     "metadata": {},
     "output_type": "execute_result"
    }
   ],
   "source": [
    "import requests\n",
    "ctx = requests.get('https://wcrp-cmip.github.io/CMIP6Plus_CVs/source/_context_').json()['@context']\n",
    "ctx"
   ]
  },
  {
   "cell_type": "code",
   "execution_count": null,
   "metadata": {},
   "outputs": [
    {
     "name": "stdout",
     "output_type": "stream",
     "text": [
      "activity-participation {'@context': 'https://wcrp-cmip.github.io/WCRP-universe/activity/_context_', '@type': '@id', '@reverse': 'https://wcrp-cmip.github.io/WCRP-universe/activity/source_activity'}\n",
      "True\n",
      "license {'@context': 'https://wcrp-cmip.github.io/WCRP-universe/license/_context_', '@container': '@id'}\n",
      "True\n",
      "model-component {'@context': 'https://wcrp-cmip.github.io/CMIP6Plus_CVs/component/_context_', '@container': '@id'}\n",
      "True\n"
     ]
    }
   ],
   "source": [
    "\n",
    "if not isinstance(ctx, list):\n",
    "    ctx = [ctx]\n",
    "\n",
    "for c in ctx:\n",
    "    if isinstance(c, dict):\n",
    "        for key, value in c.items():\n",
    "            if isinstance(value, dict) and '@id' in value.values():\n",
    "                \n",
    "                print(key, value)\n",
    "                "
   ]
  },
  {
   "cell_type": "code",
   "execution_count": null,
   "metadata": {},
   "outputs": [],
   "source": [
    "\n",
    "\n",
    "\n",
    "\n"
   ]
  }
 ],
 "metadata": {
  "kernelspec": {
   "display_name": "base",
   "language": "python",
   "name": "python3"
  },
  "language_info": {
   "codemirror_mode": {
    "name": "ipython",
    "version": 3
   },
   "file_extension": ".py",
   "mimetype": "text/x-python",
   "name": "python",
   "nbconvert_exporter": "python",
   "pygments_lexer": "ipython3",
   "version": "3.10.10"
  }
 },
 "nbformat": 4,
 "nbformat_minor": 2
}
