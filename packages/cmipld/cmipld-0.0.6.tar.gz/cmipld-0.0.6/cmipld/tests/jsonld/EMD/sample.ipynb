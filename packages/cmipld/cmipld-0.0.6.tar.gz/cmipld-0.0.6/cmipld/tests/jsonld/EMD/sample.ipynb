{
 "cells": [
  {
   "cell_type": "code",
   "execution_count": 1,
   "metadata": {},
   "outputs": [],
   "source": [
    "\n",
    "from pydantic import BaseModel, field_validator\n",
    "from pydantic import StrictStr, StrictBool, StrictFloat, conlist\n",
    "from typing import Union, Optional\n",
    "import json\n",
    "\n"
   ]
  },
  {
   "cell_type": "markdown",
   "metadata": {},
   "source": [
    "Create some sample data, \n",
    "- one with the field working, \n",
    "- one with it broken. "
   ]
  },
  {
   "cell_type": "code",
   "execution_count": 2,
   "metadata": {},
   "outputs": [],
   "source": [
    "sample_data = {\n",
    "    \"@context\":'_context_',\n",
    "    \"id\":'my-test',\n",
    "    \"type\":['wcrp:test'],\n",
    "    \"label\": \"My Test\",\n",
    "    \"description\": \"A sample JSONLD file to test the contents of. \",\n",
    "    \"num\":32,\n",
    "    \"nominal_resolution\":'1000km'\n",
    "}\n",
    "\n",
    "\n",
    "sample_data_broken = {\n",
    "    \"@context\":'_context_',\n",
    "    \"id\":'my_tes t',\n",
    "    \"type\":33,\n",
    "    \"label\": \"My Test is super long, and above a certain char limit. \",\n",
    "    \"description\": \"A sample JSONLD file to test the contents of. \",\n",
    "    \"num\":31,\n",
    "    \"nominal_resolution\":'1e3km'\n",
    "}\n",
    "\n",
    "\n",
    "def test_broken(key):\n",
    "    dummy = {**sample_data}\n",
    "    dummy[key] = sample_data_broken[key]\n",
    "    return dummy"
   ]
  },
  {
   "cell_type": "code",
   "execution_count": 3,
   "metadata": {},
   "outputs": [],
   "source": [
    "\n",
    "\n",
    "# https://www.getorchestra.io/guides/pydantic-validators-custom-validation-functions-using-validator-decorator-in-fastapi\n",
    "\n",
    "import re\n",
    "idstr = re.compile(r'[A-z\\-]+')\n",
    "max_id = 30\n",
    "\n",
    "\n",
    "class cmipld_id:\n",
    "    @field_validator('id', mode='before')  \n",
    "    @classmethod\n",
    "    def id_hypehnate(cls,value):\n",
    "        assert '_' not in value\n",
    "        return value\n",
    "        \n",
    "    @field_validator('id', mode='after')  \n",
    "    @classmethod\n",
    "    def id_allowed_char(cls,value):\n",
    "        if idstr.fullmatch(value) == None:\n",
    "            raise UnicodeError(f\"Only use A-z and '-' only. [\\\"id\\\": \\\"{value}\\\"] has the invalid character: ({set(idstr.sub('',value))}).\")\n",
    "        return value\n",
    "    \n",
    "    @field_validator('id', mode='after')  \n",
    "    @classmethod\n",
    "    def id_max_len(cls,value):\n",
    "        assert len(value)<= max_id\n",
    "        return value   \n",
    "        \n",
    "\n",
    "class universal_nominal_resolution:\n",
    "    '''\n",
    "    A class to check the nominal resolution from the wcrp universal files. \n",
    "    You need to know where the repository for these options is stored (almost certainly the wcrp-universe universal items repo)\n",
    "    '''\n",
    "    @field_validator('nominal_resolution', mode='after')  \n",
    "    @classmethod\n",
    "    def nominal_resolution_check(cls,value):\n",
    "        from cmipld import processor\n",
    "        import requests\n",
    "        # cmipld.processor.get(f'universal:resolution/{value}',depth=1)\n",
    "        try:\n",
    "            if value[:5] !='https':\n",
    "                # if the id is not a direct https link, get the relevant extention usining the ones registered in the cmipld lib. \n",
    "                url = processor.resolve_prefix(f'universal:resolution/{value}')\n",
    "                print('add silent option for processor resolve prefix')\n",
    "            else: \n",
    "                url = value\n",
    "            # get the file if it exists. This does not check the accuracy of the jsonld file\n",
    "            return requests.get(url).json()\n",
    "        # not this return value substitutes the returned information into our pydantic object. \n",
    "        \n",
    "        \n",
    "        except Exception as e:\n",
    "            raise FileExistsError(f'Failed to load file of id=\"{value}\" from {url}.json')\n",
    "        return value\n",
    "        \n",
    "        \n",
    "        "
   ]
  },
  {
   "cell_type": "code",
   "execution_count": 9,
   "metadata": {},
   "outputs": [],
   "source": [
    "\n",
    "\n",
    "import cmipld\n",
    "\n",
    "owner = 'ror-community'\n",
    "repo = 'ror-records'\n",
    "\n",
    "tag = cmipld.utils.git.get_tags(owner,repo)[0]['name']\n",
    "\n",
    "rors = [i['name'].replace('.json','') for i in cmipld.utils.git.get_contents(owner,repo,tag)]"
   ]
  },
  {
   "cell_type": "code",
   "execution_count": 10,
   "metadata": {},
   "outputs": [
    {
     "data": {
      "text/plain": [
       "1000"
      ]
     },
     "execution_count": 10,
     "metadata": {},
     "output_type": "execute_result"
    }
   ],
   "source": [
    "len(rors)"
   ]
  },
  {
   "cell_type": "code",
   "execution_count": null,
   "metadata": {},
   "outputs": [],
   "source": [
    "len"
   ]
  },
  {
   "cell_type": "code",
   "execution_count": 4,
   "metadata": {},
   "outputs": [],
   "source": [
    "\n",
    "\n",
    "# Type checking happens here. Remember to add any extending classes in the brackets after \"BaseModel\"\n",
    "class EMD(BaseModel,cmipld_id,universal_nominal_resolution):\n",
    "    ''' \n",
    "    A class containing all the relevant tests for the EMD \n",
    "    \n",
    "    - Ensure all additional test clases are added to the brackets above\n",
    "    - Ensure each key (optional or not) is added below, and typed correctly. \n",
    "    \n",
    "    '''\n",
    "    ###################################\n",
    "    # The entry typing is included here\n",
    "    ###################################  \n",
    "    \n",
    "    # required keys  \n",
    "    id: StrictStr\n",
    "    nominal_resolution: StrictStr \n",
    "    \n",
    "    # optional keys\n",
    "    # _@context: Optional[StrictStr] = None\n",
    "    # type can be either a str or a list. \n",
    "    type: Optional[Union[StrictStr, list]] = ''\n",
    "    num: Optional[int] = ''\n",
    "    \n",
    "    \n",
    "\n",
    "    def json(self):\n",
    "        return self.model_json_dump()\n",
    "    \n",
    "# Example usage\n",
    "# a = EMD(**{'num':'1','id':'ts-t'})"
   ]
  },
  {
   "cell_type": "code",
   "execution_count": 5,
   "metadata": {},
   "outputs": [
    {
     "name": "stdout",
     "output_type": "stream",
     "text": [
      "##################################################\n",
      "@context\n",
      "--------------------------------------------------\n"
     ]
    },
    {
     "name": "stderr",
     "output_type": "stream",
     "text": [
      "/Users/daniel.ellis/customlib/homebrew/Caskroom/mambaforge/base/lib/python3.10/site-packages/tqdm/auto.py:21: TqdmWarning: IProgress not found. Please update jupyter and ipywidgets. See https://ipywidgets.readthedocs.io/en/stable/user_install.html\n",
      "  from .autonotebook import tqdm as notebook_tqdm\n"
     ]
    },
    {
     "name": "stdout",
     "output_type": "stream",
     "text": [
      "Substituting prefix:\n",
      "universal: https://wcrp-cmip.github.io/WCRP-universe/resolution/1000km\n",
      "add silent option for processor resolve prefix\n",
      "##################################################\n",
      "\n",
      "##################################################\n",
      "id\n",
      "--------------------------------------------------\n",
      "Substituting prefix:\n",
      "universal: https://wcrp-cmip.github.io/WCRP-universe/resolution/1000km\n",
      "add silent option for processor resolve prefix\n",
      "1 validation error for EMD\n",
      "id\n",
      "  Assertion failed,  [type=assertion_error, input_value='my_tes t', input_type=str]\n",
      "    For further information visit https://errors.pydantic.dev/2.5/v/assertion_error\n",
      "##################################################\n",
      "\n",
      "##################################################\n",
      "type\n",
      "--------------------------------------------------\n",
      "Substituting prefix:\n",
      "universal: https://wcrp-cmip.github.io/WCRP-universe/resolution/1000km\n",
      "add silent option for processor resolve prefix\n",
      "2 validation errors for EMD\n",
      "type.str\n",
      "  Input should be a valid string [type=string_type, input_value=33, input_type=int]\n",
      "    For further information visit https://errors.pydantic.dev/2.5/v/string_type\n",
      "type.list[any]\n",
      "  Input should be a valid list [type=list_type, input_value=33, input_type=int]\n",
      "    For further information visit https://errors.pydantic.dev/2.5/v/list_type\n",
      "##################################################\n",
      "\n",
      "##################################################\n",
      "label\n",
      "--------------------------------------------------\n",
      "Substituting prefix:\n",
      "universal: https://wcrp-cmip.github.io/WCRP-universe/resolution/1000km\n",
      "add silent option for processor resolve prefix\n",
      "##################################################\n",
      "\n",
      "##################################################\n",
      "description\n",
      "--------------------------------------------------\n",
      "Substituting prefix:\n",
      "universal: https://wcrp-cmip.github.io/WCRP-universe/resolution/1000km\n",
      "add silent option for processor resolve prefix\n",
      "##################################################\n",
      "\n",
      "##################################################\n",
      "num\n",
      "--------------------------------------------------\n",
      "Substituting prefix:\n",
      "universal: https://wcrp-cmip.github.io/WCRP-universe/resolution/1000km\n",
      "add silent option for processor resolve prefix\n",
      "##################################################\n",
      "\n",
      "##################################################\n",
      "nominal_resolution\n",
      "--------------------------------------------------\n",
      "Substituting prefix:\n",
      "universal: https://wcrp-cmip.github.io/WCRP-universe/resolution/1e3km\n",
      "add silent option for processor resolve prefix\n",
      "Failed to load file of id=\"1e3km\" from https://wcrp-cmip.github.io/WCRP-universe/resolution/1e3km.json\n",
      "##################################################\n",
      "\n"
     ]
    }
   ],
   "source": [
    "for key in sample_data.keys():\n",
    "    print('#'*50)\n",
    "    print(key)\n",
    "    print('-'*50)\n",
    "    try:\n",
    "        EMD(**test_broken(key))\n",
    "    except Exception as e:\n",
    "        print(e)\n",
    "    print('#'*50)\n",
    "    print('')"
   ]
  },
  {
   "cell_type": "code",
   "execution_count": 6,
   "metadata": {},
   "outputs": [
    {
     "name": "stdout",
     "output_type": "stream",
     "text": [
      "Substituting prefix:\n",
      "universal: https://wcrp-cmip.github.io/WCRP-universe/resolution/1000km\n",
      "add silent option for processor resolve prefix\n"
     ]
    },
    {
     "data": {
      "text/plain": [
       "{'id': 'my-test',\n",
       " 'nominal_resolution': {'@context': '_context_',\n",
       "  'description': 'Resolution of 1000 km',\n",
       "  'id': '1000km',\n",
       "  'type': ['wcrp:resolution', 'universal'],\n",
       "  'unit': 'km',\n",
       "  'value': '1000',\n",
       "  'label': '1000 km'},\n",
       " 'type': ['wcrp:test'],\n",
       " 'num': 32}"
      ]
     },
     "execution_count": 6,
     "metadata": {},
     "output_type": "execute_result"
    }
   ],
   "source": [
    "a = EMD(**sample_data)\n",
    "dict(a)"
   ]
  },
  {
   "cell_type": "code",
   "execution_count": 7,
   "metadata": {},
   "outputs": [
    {
     "ename": "AttributeError",
     "evalue": "'EMD' object has no attribute 'model'",
     "output_type": "error",
     "traceback": [
      "\u001b[0;31m---------------------------------------------------------------------------\u001b[0m",
      "\u001b[0;31mAttributeError\u001b[0m                            Traceback (most recent call last)",
      "Cell \u001b[0;32mIn[7], line 1\u001b[0m\n\u001b[0;32m----> 1\u001b[0m \u001b[43ma\u001b[49m\u001b[38;5;241;43m.\u001b[39;49m\u001b[43mmodel\u001b[49m\n",
      "File \u001b[0;32m~/customlib/homebrew/Caskroom/mambaforge/base/lib/python3.10/site-packages/pydantic/main.py:761\u001b[0m, in \u001b[0;36mBaseModel.__getattr__\u001b[0;34m(self, item)\u001b[0m\n\u001b[1;32m    758\u001b[0m     \u001b[38;5;28;01mreturn\u001b[39;00m \u001b[38;5;28msuper\u001b[39m()\u001b[38;5;241m.\u001b[39m\u001b[38;5;21m__getattribute__\u001b[39m(item)  \u001b[38;5;66;03m# Raises AttributeError if appropriate\u001b[39;00m\n\u001b[1;32m    759\u001b[0m \u001b[38;5;28;01melse\u001b[39;00m:\n\u001b[1;32m    760\u001b[0m     \u001b[38;5;66;03m# this is the current error\u001b[39;00m\n\u001b[0;32m--> 761\u001b[0m     \u001b[38;5;28;01mraise\u001b[39;00m \u001b[38;5;167;01mAttributeError\u001b[39;00m(\u001b[38;5;124mf\u001b[39m\u001b[38;5;124m'\u001b[39m\u001b[38;5;132;01m{\u001b[39;00m\u001b[38;5;28mtype\u001b[39m(\u001b[38;5;28mself\u001b[39m)\u001b[38;5;241m.\u001b[39m\u001b[38;5;18m__name__\u001b[39m\u001b[38;5;132;01m!r}\u001b[39;00m\u001b[38;5;124m object has no attribute \u001b[39m\u001b[38;5;132;01m{\u001b[39;00mitem\u001b[38;5;132;01m!r}\u001b[39;00m\u001b[38;5;124m'\u001b[39m)\n",
      "\u001b[0;31mAttributeError\u001b[0m: 'EMD' object has no attribute 'model'"
     ]
    }
   ],
   "source": [
    "a.model"
   ]
  },
  {
   "cell_type": "code",
   "execution_count": null,
   "metadata": {},
   "outputs": [],
   "source": [
    "# from pydantic import BaseModel, validator, root_validator, Field\n",
    "# from typing import Optional\n",
    "\n",
    "# class ProductItem(BaseModel):\n",
    "#     name: str\n",
    "#     price: float\n",
    "#     stock_quantity: int\n",
    "#     category: str\n",
    "\n",
    "#     # Validator for price: it should be a positive number\n",
    "#     @validator('price')\n",
    "#     def validate_price(cls, v):\n",
    "#         if v <= 0:\n",
    "#             raise ValueError('Price must be positive')\n",
    "#         return v\n",
    "\n",
    "#     # Validator for stock_quantity: it should be a non-negative integer\n",
    "#     @validator('stock_quantity')\n",
    "#     def validate_stock_quantity(cls, v):\n",
    "#         if v < 0:\n",
    "#             raise ValueError('Stock quantity cannot be negative')\n",
    "#         return v\n",
    "\n",
    "    \n",
    "#     # Root validator for name: it should not be empty\n",
    "#     @root_validator\n",
    "#     def check_name_not_empty(cls, values):\n",
    "#         name = values.get('name')\n",
    "#         if not name or name.strip() == '':\n",
    "#             raise ValueError('Name cannot be empty')\n",
    "#         return values\n",
    "\n",
    "# # Use case: Testing the validation\n",
    "\n",
    "# def test_product_validation(product_data: dict):\n",
    "#     try:\n",
    "#         # Attempt to create a ProductItem instance with the provided dictionary\n",
    "#         product = ProductItem(**product_data)\n",
    "#         print(\"Product is valid:\", product)\n",
    "#     except ValueError as e:\n",
    "#         print(\"Validation error:\", e)\n",
    "\n",
    "# # Example usage:\n",
    "\n",
    "\n",
    "# # Run the tests\n",
    "# test_product_validation(valid_product)        # Should pass\n",
    "# test_product_validation(invalid_product_1)    # Should fail due to negative price\n",
    "# test_product_validation(invalid_product_2)    # Should fail due to invalid category\n",
    "# test_product_validation(invalid_product_3)    # Should fail due to empty name\n"
   ]
  },
  {
   "cell_type": "code",
   "execution_count": 4,
   "metadata": {},
   "outputs": [],
   "source": [
    "\n",
    "# # Test Case 4: Invalid Product with Empty Name\n",
    "# def test_invalid_product_empty_name():\n",
    "#     invalid_product = {\n",
    "#         \"name\": \"\",\n",
    "#         \"price\": 19.99,\n",
    "#         \"stock_quantity\": 50,\n",
    "#         \"category\": \"clothing\"\n",
    "#     }\n",
    "\n",
    "#     with pytest.raises(ValidationError) as exc_info:\n",
    "#         ProductItem(**invalid_product)\n",
    "\n",
    "#     assert \"Name cannot be empty\" in str(exc_info.value)\n",
    "\n",
    "\n",
    "# # Programmatically run specific tests\n",
    "# if __name__ == \"__main__\":\n",
    "#     # Run specific test functions, e.g., 'test_invalid_product_negative_price' and 'test_valid_product'\n",
    "#     exit_code = pytest.main([\"-v\", \"test_invalid_product_negative_price\", \"test_valid_product\"])\n",
    "    \n",
    "#     # Exit with the pytest result code\n",
    "#     exit(exit_code)"
   ]
  },
  {
   "cell_type": "code",
   "execution_count": 175,
   "metadata": {},
   "outputs": [],
   "source": [
    "\n",
    "# Layout of a field test class. \n",
    "\n",
    "# class to check the num field\n",
    "class emd_num:\n",
    "    \n",
    "    # tell the test to use the test field\n",
    "    @field_validator('num', mode='after')  \n",
    "    @classmethod\n",
    "    # name of function\n",
    "    def is_even(cls, value: int) -> int:\n",
    "        '''\n",
    "        A test to check if number is even\n",
    "        '''\n",
    "        # some check \n",
    "        if value % 2:\n",
    "            raise ValueError(f'{value} is not an even number')\n",
    "        \n",
    "        # must return something for the test to pass \n",
    "        return value  \n",
    "    \n",
    "    # repeat for other tests\n",
    "    @field_validator('num', mode='after')  \n",
    "    @classmethod\n",
    "    def is_4(cls, value: int) -> int:\n",
    "        ''' \n",
    "        A test to check if number field == 4 \n",
    "        '''\n",
    "        if value != 4 :\n",
    "            raise ValueError(f'{value} is not 4')\n",
    "        \n",
    "        return value  \n",
    "\n"
   ]
  },
  {
   "cell_type": "code",
   "execution_count": null,
   "metadata": {},
   "outputs": [],
   "source": []
  }
 ],
 "metadata": {
  "kernelspec": {
   "display_name": "base",
   "language": "python",
   "name": "python3"
  },
  "language_info": {
   "codemirror_mode": {
    "name": "ipython",
    "version": 3
   },
   "file_extension": ".py",
   "mimetype": "text/x-python",
   "name": "python",
   "nbconvert_exporter": "python",
   "pygments_lexer": "ipython3",
   "version": "3.10.10"
  }
 },
 "nbformat": 4,
 "nbformat_minor": 2
}
