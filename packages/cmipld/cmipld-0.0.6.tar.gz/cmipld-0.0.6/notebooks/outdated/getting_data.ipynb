{
 "cells": [
  {
   "cell_type": "code",
   "execution_count": 1,
   "metadata": {},
   "outputs": [],
   "source": [
    "\n",
    "from pprint import pprint\n",
    "\n",
    "file = 'cmip.json'\n",
    "base = 'https://wcrp-cmip.github.io/WCRP-universe/activity/'    \n",
    "\n",
    "fullpath = base + file"
   ]
  },
  {
   "cell_type": "markdown",
   "metadata": {},
   "source": [
    "----\n",
    "### Using the CMIPLD library\n",
    "\n",
    "Pros: \n",
    "- Easier to use, and has additional tools to aid clarity and processing. \n",
    "\n",
    "Cons: \n",
    "- Currently under development, so will need to be regularly upgraded until a stable version is released. \n"
   ]
  },
  {
   "cell_type": "code",
   "execution_count": 2,
   "metadata": {},
   "outputs": [
    {
     "ename": "ImportError",
     "evalue": "cannot import name 'processor' from 'cmipld' (/Users/daniel.ellis/WIPwork/CMIP-LD/cmipld/__init__.py)",
     "output_type": "error",
     "traceback": [
      "\u001b[0;31m---------------------------------------------------------------------------\u001b[0m",
      "\u001b[0;31mImportError\u001b[0m                               Traceback (most recent call last)",
      "Cell \u001b[0;32mIn[2], line 1\u001b[0m\n\u001b[0;32m----> 1\u001b[0m \u001b[38;5;28;01mfrom\u001b[39;00m\u001b[38;5;250m \u001b[39m\u001b[38;5;21;01mcmipld\u001b[39;00m\u001b[38;5;250m \u001b[39m\u001b[38;5;28;01mimport\u001b[39;00m processor\n\u001b[1;32m      3\u001b[0m \u001b[38;5;66;03m#  here we can use the shorthand definitions of the repositories (their prefixes). of the fullpath as is easier for the end user. \u001b[39;00m\n\u001b[1;32m      5\u001b[0m processor\u001b[38;5;241m.\u001b[39mget( \u001b[38;5;124mf\u001b[39m\u001b[38;5;124m'\u001b[39m\u001b[38;5;124muniversal:activity/\u001b[39m\u001b[38;5;132;01m{\u001b[39;00mfile\u001b[38;5;132;01m}\u001b[39;00m\u001b[38;5;124m'\u001b[39m)\n",
      "\u001b[0;31mImportError\u001b[0m: cannot import name 'processor' from 'cmipld' (/Users/daniel.ellis/WIPwork/CMIP-LD/cmipld/__init__.py)"
     ]
    }
   ],
   "source": [
    "from cmipld import processor\n",
    "\n",
    "#  here we can use the shorthand definitions of the repositories (their prefixes). of the fullpath as is easier for the end user. \n",
    "\n",
    "processor.get( f'universal:activity/{file}')"
   ]
  },
  {
   "cell_type": "markdown",
   "metadata": {},
   "source": [
    "----\n",
    "### Getting a file with PyLD\n",
    "Pros:\n",
    "- The approved Python library for handling JSONLD\n",
    "\n",
    "Cons: \n",
    "- May Lack some of the features the CMIPLD wrapper has incorporated.  "
   ]
  },
  {
   "cell_type": "code",
   "execution_count": 3,
   "metadata": {},
   "outputs": [],
   "source": [
    "from pyld import jsonld"
   ]
  },
  {
   "cell_type": "code",
   "execution_count": 4,
   "metadata": {},
   "outputs": [
    {
     "name": "stdout",
     "output_type": "stream",
     "text": [
      "{'description': 'CMIP DECK: 1pctCO2, abrupt-4xCO2, amip, esm-piControl, '\n",
      "                'esm-historical, historical, and piControl experiments',\n",
      " 'id': 'universal:activity/cmip',\n",
      " 'name': 'CMIP',\n",
      " 'url': 'https://gmd.copernicus.org/articles/9/1937/2016/gmd-9-1937-2016.pdf'}\n"
     ]
    }
   ],
   "source": [
    "# for a simplified (compacted view) of the json-ld file\n",
    "\n",
    "'''\n",
    "usually we would explicitly define the context for a file, which is located in the same directory as the file\n",
    "compact = jsonld.compact(f'{base}{file}',f'{base}_context_')\n",
    "however as the context is already defined in the file, we can repeat the file URL instead.\n",
    "'''\n",
    "\n",
    "\n",
    "compacted = jsonld.compact(fullpath, fullpath)\n",
    "\n",
    "# we can also optionally remove the context and the type information\n",
    "del compacted['@context'],  compacted['type']\n",
    "\n",
    "pprint(compacted)"
   ]
  },
  {
   "cell_type": "markdown",
   "metadata": {},
   "source": [
    "------\n",
    "### Getting a file with requests \n",
    "Pros:\n",
    "- A simple get request. Does not require any additional librarys or processing and available in all languages. \n",
    "\n",
    "Cons: \n",
    "- This only fetches the json file, and does not leverage any of the JSONLD tools. \n"
   ]
  },
  {
   "cell_type": "code",
   "execution_count": 5,
   "metadata": {},
   "outputs": [
    {
     "name": "stdout",
     "output_type": "stream",
     "text": [
      "{'@context': '_context_',\n",
      " 'description': 'CMIP DECK: 1pctCO2, abrupt-4xCO2, amip, esm-piControl, '\n",
      "                'esm-historical, historical, and piControl experiments',\n",
      " 'id': 'cmip',\n",
      " 'name': 'CMIP',\n",
      " 'type': 'activity',\n",
      " 'url': 'https://gmd.copernicus.org/articles/9/1937/2016/gmd-9-1937-2016.pdf'}\n"
     ]
    }
   ],
   "source": [
    "import requests\n",
    "contents = requests.get(fullpath).json()\n",
    "pprint(contents)"
   ]
  },
  {
   "cell_type": "markdown",
   "metadata": {},
   "source": []
  },
  {
   "cell_type": "code",
   "execution_count": 6,
   "metadata": {},
   "outputs": [],
   "source": [
    "import cmipld \n",
    "self = cmipld.processor \n",
    "compact: bool = True,\n",
    "expand_ctx: bool = True,\n",
    "expand_links: bool = True,\n",
    "no_ctx: bool = False,\n",
    "as_json: bool = False,\n",
    "pprint: bool = False,\n",
    "is_nested: bool = False\n",
    "\n",
    "jsonld_doc = fullpath"
   ]
  },
  {
   "cell_type": "code",
   "execution_count": 7,
   "metadata": {},
   "outputs": [
    {
     "data": {
      "text/plain": [
       "[{'https://wcrp-cmip.github.io/WCRP-universe/activity/description': [{'@value': 'CMIP DECK: 1pctCO2, abrupt-4xCO2, amip, esm-piControl, esm-historical, historical, and piControl experiments'}],\n",
       "  '@id': 'https://wcrp-cmip.github.io/WCRP-universe/activity/cmip',\n",
       "  'https://wcrp-cmip.github.io/WCRP-universe/activity/name': [{'@value': 'CMIP'}],\n",
       "  '@type': ['https://wcrp-cmip.github.io/WCRP-universe/activity/activity'],\n",
       "  'https://wcrp-cmip.github.io/WCRP-universe/activity/url': [{'@value': 'https://gmd.copernicus.org/articles/9/1937/2016/gmd-9-1937-2016.pdf'}]}]"
      ]
     },
     "execution_count": 7,
     "metadata": {},
     "output_type": "execute_result"
    }
   ],
   "source": [
    "expanded = jsonld.expand(jsonld_doc, options={'defaultLoader': self.loader})\n",
    "expanded"
   ]
  },
  {
   "cell_type": "code",
   "execution_count": 8,
   "metadata": {},
   "outputs": [
    {
     "data": {
      "text/plain": [
       "{'https://wcrp-cmip.github.io/WCRP-universe/activity/description': [{'@value': 'CMIP DECK: 1pctCO2, abrupt-4xCO2, amip, esm-piControl, esm-historical, historical, and piControl experiments'}],\n",
       " '@id': 'https://wcrp-cmip.github.io/WCRP-universe/activity/cmip',\n",
       " 'https://wcrp-cmip.github.io/WCRP-universe/activity/name': [{'@value': 'CMIP'}],\n",
       " '@type': ['https://wcrp-cmip.github.io/WCRP-universe/activity/activity'],\n",
       " 'https://wcrp-cmip.github.io/WCRP-universe/activity/url': [{'@value': 'https://gmd.copernicus.org/articles/9/1937/2016/gmd-9-1937-2016.pdf'}]}"
      ]
     },
     "execution_count": 8,
     "metadata": {},
     "output_type": "execute_result"
    }
   ],
   "source": [
    "\n",
    "item = expanded[0]\n",
    "item"
   ]
  },
  {
   "cell_type": "code",
   "execution_count": 9,
   "metadata": {},
   "outputs": [
    {
     "ename": "TypeError",
     "evalue": "'tuple' object is not callable",
     "output_type": "error",
     "traceback": [
      "\u001b[0;31m---------------------------------------------------------------------------\u001b[0m",
      "\u001b[0;31mTypeError\u001b[0m                                 Traceback (most recent call last)",
      "Cell \u001b[0;32mIn[9], line 2\u001b[0m\n\u001b[1;32m      1\u001b[0m processed_item \u001b[38;5;241m=\u001b[39m \u001b[38;5;28mself\u001b[39m\u001b[38;5;241m.\u001b[39m_resolve_ids(item, compact)\u001b[38;5;241m.\u001b[39mcopy()\n\u001b[0;32m----> 2\u001b[0m \u001b[43mpprint\u001b[49m\u001b[43m(\u001b[49m\u001b[43mprocessed_item\u001b[49m\u001b[43m)\u001b[49m\n",
      "\u001b[0;31mTypeError\u001b[0m: 'tuple' object is not callable"
     ]
    }
   ],
   "source": [
    "processed_item = self._resolve_ids(item, compact).copy()\n",
    "pprint(processed_item)"
   ]
  },
  {
   "cell_type": "code",
   "execution_count": null,
   "metadata": {},
   "outputs": [],
   "source": [
    "self.compact(processed_item)"
   ]
  },
  {
   "cell_type": "code",
   "execution_count": null,
   "metadata": {},
   "outputs": [],
   "source": [
    "from pyld import jsonld \n",
    "jsonld.compact(fullpath, fullpath)"
   ]
  },
  {
   "cell_type": "code",
   "execution_count": null,
   "metadata": {},
   "outputs": [],
   "source": [
    "from pyld.jsonld import JsonLdProcessor\n",
    "from urllib.parse import urljoin\n",
    "import requests\n",
    "\n",
    "def fetch_resolved_context(jsonld_uri):\n",
    "    # Fetch the JSON-LD document from the given URI\n",
    "    document = requests.get(jsonld_uri).json()\n",
    "\n",
    "    # Extract the @context field\n",
    "    context = document.get('@context')\n",
    "    if not context:\n",
    "        raise ValueError(\"No @context found in the JSON-LD document.\")\n",
    "\n",
    "    # Resolve the context URI if it is relative\n",
    "    if isinstance(context, str):\n",
    "        # Resolve relative URI against the base JSON-LD document URI\n",
    "        context_uri = urljoin(jsonld_uri, context)\n",
    "        resolved_context = requests.get(context_uri).json()\n",
    "    elif isinstance(context, dict):\n",
    "        # Inline context, return it as is\n",
    "        resolved_context = context\n",
    "    else:\n",
    "        raise ValueError(\"Complex @context structures (e.g., arrays) are not supported in this implementation.\")\n",
    "\n",
    "    return resolved_context\n",
    "\n",
    "# Example usage\n",
    "jsonld_uri = fullpath\n",
    "try:\n",
    "    resolved_context = fetch_resolved_context(jsonld_uri)\n",
    "    print(\"Resolved Context Content:\")\n",
    "    print(resolved_context)\n",
    "except Exception as e:\n",
    "    print(f\"Error: {e}\")\n",
    "\n",
    "jsonld.expand(resolved_context['@context'])"
   ]
  },
  {
   "cell_type": "code",
   "execution_count": null,
   "metadata": {},
   "outputs": [],
   "source": [
    "ctx = jsonld.compact(fullpath,fullpath)['@context']\n",
    "\n"
   ]
  },
  {
   "cell_type": "code",
   "execution_count": null,
   "metadata": {},
   "outputs": [],
   "source": [
    "jsonld.load_document(fullpath,options={\"documentLoader\": jsonld._default_document_loader})"
   ]
  },
  {
   "cell_type": "code",
   "execution_count": null,
   "metadata": {},
   "outputs": [],
   "source": [
    "from urllib.parse import urljoin\n",
    "import requests\n",
    "\n",
    "def resolve_contexts(contexts, base_uri):\n",
    "    \"\"\"\n",
    "    Resolves and expands @context URIs or inline contexts recursively.\n",
    "    \n",
    "    :param contexts: A single @context (str, list, or dict).\n",
    "    :param base_uri: The base URI to resolve relative paths.\n",
    "    :return: Fully resolved context as a list of dicts.\n",
    "    \"\"\"\n",
    "    if isinstance(contexts, str):\n",
    "        # Resolve a single string URI\n",
    "        \n",
    "        resolved_uri = urljoin(base_uri, contexts)\n",
    "        print('Resolved',resolved_uri)\n",
    "        return fetch_resolved_context(resolved_uri)\n",
    "    \n",
    "    elif isinstance(contexts, list):\n",
    "        # Resolve each item in the list\n",
    "        resolved_list = []\n",
    "        for ctx in contexts:\n",
    "            resolved_list.extend(resolve_contexts(ctx, base_uri))\n",
    "        return resolved_list\n",
    "\n",
    "    elif isinstance(contexts, dict):\n",
    "        # Inline context, return as-is\n",
    "        return [contexts]\n",
    "    \n",
    "    else:\n",
    "        raise ValueError(\"Unsupported @context format.\")\n",
    "\n",
    "def combine(context):\n",
    "    if isinstance(context, list):\n",
    "        newctx = {}\n",
    "        \n",
    "        for i in context:\n",
    "            if isinstance(i, dict):\n",
    "                newctx.update(i)\n",
    "            # elif isinstance(i, list):\n",
    "            #     newctx.update(combine(i))\n",
    "            # else: \n",
    "            #     raise ValueError(\"Unsupported @context format.\",i,context)\n",
    "        # context = newctx\n",
    "        return newctx\n",
    "    elif isinstance(context,dict):\n",
    "        return context\n",
    "\n",
    "def fetch_resolved_context(jsonld_uri):\n",
    "    \"\"\"\n",
    "    Fetch a JSON-LD document and resolve its @context field.\n",
    "    \n",
    "    :param jsonld_uri: The URI of the JSON-LD document.\n",
    "    :return: The JSON-LD document with resolved contexts.\n",
    "    \"\"\"\n",
    "    # Fetch the JSON-LD document\n",
    "    response = requests.get(jsonld_uri)\n",
    "    response.raise_for_status()\n",
    "    document = response.json()\n",
    "\n",
    "    # Extract and resolve @context\n",
    "    context = document.get('@context')\n",
    "    if context:\n",
    "        # Resolve all contexts (whether string, list, or inline)\n",
    "        resolved_context = resolve_contexts(context, jsonld_uri)\n",
    "        context = resolved_context  # Update the document with resolved contexts\n",
    "\n",
    "        # context = combine(context)\n",
    "        # context = combine(context)\n",
    "        \n",
    "        \n",
    "    return context\n",
    "\n",
    "def get_context(jsonld_uri):\n",
    "    \"\"\"\n",
    "    Fetch a JSON-LD document and extract its @context field.\n",
    "    \n",
    "    :param jsonld_uri: The URI of the JSON-LD document.\n",
    "    :return: The extracted @context field.\n",
    "    \"\"\"\n",
    "    ctx_list = fetch_resolved_context(jsonld_uri)\n",
    "\n",
    "    # Combine all contexts into a single dict\n",
    "    context = combine(ctx_list)\n",
    "    return context\n",
    "    \n",
    "# Example usage\n",
    "jsonld_uri = fullpath\n",
    "try:\n",
    "    resolved_document = get_context(jsonld_uri)\n",
    "    \n",
    "    print(\"Document with Resolved Contexts:\")\n",
    "    pprint(resolved_document)\n",
    "except Exception as e:\n",
    "    print(f\"Error: {e}\")\n"
   ]
  },
  {
   "cell_type": "code",
   "execution_count": null,
   "metadata": {},
   "outputs": [],
   "source": []
  },
  {
   "cell_type": "code",
   "execution_count": null,
   "metadata": {},
   "outputs": [],
   "source": []
  }
 ],
 "metadata": {
  "kernelspec": {
   "display_name": "base",
   "language": "python",
   "name": "python3"
  },
  "language_info": {
   "codemirror_mode": {
    "name": "ipython",
    "version": 3
   },
   "file_extension": ".py",
   "mimetype": "text/x-python",
   "name": "python",
   "nbconvert_exporter": "python",
   "pygments_lexer": "ipython3",
   "version": "3.10.10"
  }
 },
 "nbformat": 4,
 "nbformat_minor": 2
}
