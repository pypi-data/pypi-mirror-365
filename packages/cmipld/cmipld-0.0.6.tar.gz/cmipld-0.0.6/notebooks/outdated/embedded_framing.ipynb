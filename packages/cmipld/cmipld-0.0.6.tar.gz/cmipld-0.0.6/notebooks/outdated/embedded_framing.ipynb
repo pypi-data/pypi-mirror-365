{
 "cells": [
  {
   "cell_type": "markdown",
   "metadata": {},
   "source": [
    "# Framing where we get all the nested items\n",
    "In this notebook we take the JSON-LD content for a file, or group of files.  We start by importing the relevant libraries and then obtaining the url of our file in question\n"
   ]
  },
  {
   "cell_type": "code",
   "execution_count": 1,
   "metadata": {},
   "outputs": [
    {
     "name": "stderr",
     "output_type": "stream",
     "text": [
      "/Users/daniel.ellis/customlib/homebrew/Caskroom/mambaforge/base/lib/python3.10/site-packages/tqdm/auto.py:21: TqdmWarning: IProgress not found. Please update jupyter and ipywidgets. See https://ipywidgets.readthedocs.io/en/stable/user_install.html\n",
      "  from .autonotebook import tqdm as notebook_tqdm\n"
     ]
    }
   ],
   "source": [
    "# import the library\n",
    "import cmipld, json\n",
    "\n",
    "def jprint(x):\n",
    "    print(json.dumps(x,indent=4))"
   ]
  },
  {
   "cell_type": "markdown",
   "metadata": {},
   "source": [
    "#### Setting the file location (ID)"
   ]
  },
  {
   "cell_type": "code",
   "execution_count": 2,
   "metadata": {},
   "outputs": [],
   "source": [
    "# for simplicity we can use the directory prefix\n",
    "file = 'cmip6plus:experiment/1pctco2'"
   ]
  },
  {
   "cell_type": "code",
   "execution_count": 3,
   "metadata": {},
   "outputs": [
    {
     "name": "stdout",
     "output_type": "stream",
     "text": [
      "Substituting prefix:\n",
      "cmip6plus: https://wcrp-cmip.github.io/CMIP6Plus_CVs/experiment/1pctco2\n"
     ]
    }
   ],
   "source": [
    "# get the full url path of the file.\n",
    "url = cmipld.processor.resolve_prefix(file)"
   ]
  },
  {
   "cell_type": "markdown",
   "metadata": {},
   "source": [
    "## Using the CMIPLD wrapper\n",
    "The easiest way to generate a corpus and frame items is through the use of the cmipld wrapper. "
   ]
  },
  {
   "cell_type": "code",
   "execution_count": 4,
   "metadata": {},
   "outputs": [
    {
     "name": "stderr",
     "output_type": "stream",
     "text": [
      "100%|██████████| 3/3 [00:00<00:00, 40.83it/s]\n"
     ]
    }
   ],
   "source": [
    "# loads the experiments graph and relevant dependancies. \n",
    "experiments = cmipld.processor.EmbeddedFrame(url)"
   ]
  },
  {
   "cell_type": "markdown",
   "metadata": {},
   "source": [
    "#### This contains our context, dependancies, and the corpus of all relevant graph files. "
   ]
  },
  {
   "cell_type": "code",
   "execution_count": 5,
   "metadata": {},
   "outputs": [
    {
     "name": "stdout",
     "output_type": "stream",
     "text": [
      "Context Loc: https://wcrp-cmip.github.io/CMIP6Plus_CVs/experiment/_context_\n",
      "Dependencies Loc: ['https://wcrp-cmip.github.io/CMIP6Plus_CVs/experiment/graph.jsonld', 'https://wcrp-cmip.github.io/WCRP-universe/source-type/graph.jsonld', 'https://wcrp-cmip.github.io/WCRP-universe/activity/graph.jsonld']\n",
      "Graph with all of the above : {'@graph': [[{'https://wcrp-cmip.github.io/CMIP6Plus_CVs/experiment/activity': [{'@id': 'https://wcrp-cmip.github.io/WCRP-universe/activity/cmip'}], 'https://wcrp-cmip.github.io/CMIP6Plus_CVs/experiment/description': [{'@value': 'DECK: 1pctCO2'}], 'https://wcrp-cmip.github.io/CMIP6Plus_CVs/experiment/end': [{'@value': -999}], '@id': 'https://wcrp-cmip.github.io/CMIP6Plus_CVs/experiment/1pctco2', 'https://wcrp-cmip.github.io/CMIP6Plus_CVs/experiment/label': [{'@value': '1pctCO2'}], 'https://wcrp-cmip.github.io/CMIP6Plus_CVs/experiment/min_number_yrs_per_sim': [{'@value': 150}], 'https://wcrp-cmip.github.io/CMIP6Plus_CVs/experiment/model_realms': [{'https://wcrp-cmip.github.io/WCRP-universe/source-type/is_required': [{'@value': False}], '@id': 'https://wcrp-cmip.github.io/WCRP-universe/source-type/aer'}, {'https://wcrp-cmip.github.io/WCRP-universe/source-type/is_required': [{'@value': True}], '@id': 'https://wcrp-cmip.github.io/WCRP-universe/source-type/aogcm'}, {'https://wcrp-cmip.github.io/WCRP-universe/source-type/is_required': [{'@value': False}], '@id': 'https://wcrp-cmip.github.io/WCRP-universe/source-type/bgc'}, {'https://wcrp-cmip.github.io/WCRP-universe/source-type/is_required': [{'@value': False}], '@id': 'https://wcrp-cmip.github.io/WCRP-universe/source-type/chem'}], 'https://wcrp-cmip.github.io/CMIP6Plus_CVs/experiment/parent_activity': [{'@id': 'https://wcrp-cmip.github.io/WCRP-universe/activity/cmip'}], 'https://wcrp-cmip.github.io/CMIP6Plus_CVs/experiment/parent_experiment': [{'@id': 'https://wcrp-cmip.github.io/CMIP6Plus_CVs/experiment/picontrol'}], 'https://wcrp-cmip.github.io/CMIP6Plus_CVs/experiment/start': [{'@value': -999}], 'https://wcrp-cmip.github.io/CMIP6Plus_CVs/experiment/sub_experiment': [{'@id': 'https://wcrp-cmip.github.io/CMIP6Plus_CVs/sub-experiment/none'}], 'https://wcrp-cmip.github.io/CMIP6Plus_CVs/experiment/tier': [{'@value': 1}], '@type': ['wcrp:experiment', 'https://wcrp-cmip.github.io/CMIP6Plus_CVs/']}, {'https://wcrp-cmip.github.io/CMIP6Plus_CVs/experiment/activity': [{'@id': 'https://wcrp-cmip.github.io/WCRP-universe/activity/cmip'}], 'https://wcrp-cmip.github.io/CMIP6Plus_CVs/experiment/description': [{'@value': 'DECK: abrupt-4xCO2'}], 'https://wcrp-cmip.github.io/CMIP6Plus_CVs/experiment/end': [{'@value': -999}], '@id': 'https://wcrp-cmip.github.io/CMIP6Plus_CVs/experiment/abrupt-4xco2', 'https://wcrp-cmip.github.io/CMIP6Plus_CVs/experiment/label': [{'@value': 'abrupt-4xCO2'}], 'https://wcrp-cmip.github.io/CMIP6Plus_CVs/experiment/min_number_yrs_per_sim': [{'@value': 150}], 'https://wcrp-cmip.github.io/CMIP6Plus_CVs/experiment/model_realms': [{'https://wcrp-cmip.github.io/WCRP-universe/source-type/is_required': [{'@value': False}], '@id': 'https://wcrp-cmip.github.io/WCRP-universe/source-type/aer'}, {'https://wcrp-cmip.github.io/WCRP-universe/source-type/is_required': [{'@value': True}], '@id': 'https://wcrp-cmip.github.io/WCRP-universe/source-type/aogcm'}, {'https://wcrp-cmip.github.io/WCRP-universe/source-type/is_required': [{'@value': False}], '@id': 'https://wcrp-cmip.github.io/WCRP-universe/source-type/bgc'}, {'https://wcrp-cmip.github.io/WCRP-universe/source-type/is_required': [{'@value': False}], '@id': 'https://wcrp-cmip.github.io/WCRP-universe/source-type/chem'}], 'https://wcrp-cmip.github.io/CMIP6Plus_CVs/experiment/parent_activity': [{'@id': 'https://wcrp-cmip.github.io/WCRP-universe/activity/cmip'}], 'https://wcrp-cmip.github.io/CMIP6Plus_CVs/experiment/parent_experiment': [{'@id': 'https://wcrp-cmip.github.io/CMIP6Plus_CVs/experiment/picontrol'}], 'https://wcrp-cmip.github.io/CMIP6Plus_CVs/experiment/start': [{'@value': -999}], 'https://wcrp-cmip.github.io/CMIP6Plus_CVs/experiment/sub_experiment': [{'@id': 'https://wcrp-cmip.github.io/CMIP6Plus_CVs/sub-experiment/none'}], 'https://wcrp-cmip.github.io/CMIP6Plus_CVs/experiment/tier': [{'@value': 1}], '@type': ['wcrp:experiment', 'https://wcrp-cmip.github.io/CMIP6Plus_CVs/']}, {'https://wcrp-cmip.github.io/CMIP6Plus_CVs/experiment/activity': [{'@id': 'https://wcrp-cmip.github.io/WCRP-universe/activity/cmip'}], 'https://wcrp-cmip.github.io/CMIP6Plus_CVs/experiment/description': [{'@value': 'DECK: AMIP'}], 'https://wcrp-cmip.github.io/CMIP6Plus_CVs/experiment/end': [{'@value': 2022}], '@id': 'https://wcrp-cmip.github.io/CMIP6Plus_CVs/experiment/amip', 'https://wcrp-cmip.github.io/CMIP6Plus_CVs/experiment/label': [{'@value': 'amip'}], 'https://wcrp-cmip.github.io/CMIP6Plus_CVs/experiment/min_number_yrs_per_sim': [{'@value': 43}], 'https://wcrp-cmip.github.io/CMIP6Plus_CVs/experiment/model_realms': [{'https://wcrp-cmip.github.io/WCRP-universe/source-type/is_required': [{'@value': False}], '@id': 'https://wcrp-cmip.github.io/WCRP-universe/source-type/aer'}, {'https://wcrp-cmip.github.io/WCRP-universe/source-type/is_required': [{'@value': True}], '@id': 'https://wcrp-cmip.github.io/WCRP-universe/source-type/agcm'}, {'https://wcrp-cmip.github.io/WCRP-universe/source-type/is_required': [{'@value': False}], '@id': 'https://wcrp-cmip.github.io/WCRP-universe/source-type/bgc'}, {'https://wcrp-cmip.github.io/WCRP-universe/source-type/is_required': [{'@value': False}], '@id': 'https://wcrp-cmip.github.io/WCRP-universe/source-type/chem'}], 'https://wcrp-cmip.github.io/CMIP6Plus_CVs/experiment/parent_activity': [{'@id': 'https://wcrp-cmip.github.io/WCRP-universe/activity/none'}], 'https://wcrp-cmip.github.io/CMIP6Plus_CVs/experiment/parent_experiment': [{'@id': 'https://wcrp-cmip.github.io/CMIP6Plus_CVs/experiment/none'}], 'https://wcrp-cmip.github.io/CMIP6Plus_CVs/experiment/start': [{'@value': 1979}], 'https://wcrp-cmip.github.io/CMIP6Plus_CVs/experiment/sub_experiment': [{'@id': 'https://wcrp-cmip.github.io/CMIP6Plus_CVs/sub-experiment/none'}], 'https://wcrp-cmip.github.io/CMIP6Plus_CVs/experiment/tier': [{'@value': 1}], '@type': ['wcrp:experiment', 'https://wcrp-cmip.github.io/CMIP6Plus_CVs/']}, {'https://wcrp-cmip.github.io/CMIP6Plus_CVs/experiment/activity': [{'@id': 'https://wcrp-cmip.github.io/WCRP-universe/activity/cmip'}], 'https://wcrp-cmip.github.io/CMIP6Plus_CVs/experiment/description': [{'@value': 'CMIP6 historical (CO2 emission-driven)'}], 'https://wcrp-cmip.github.io/CMIP6Plus_CVs/experiment/end': [{'@value': 2014}], '@id': 'https://wcrp-cmip.github.io/CMIP6Plus_CVs/experiment/esm-hist', 'https://wcrp-cmip.github.io/CMIP6Plus_CVs/experiment/label': [{'@value': 'esm-hist'}], 'https://wcrp-cmip.github.io/CMIP6Plus_CVs/experiment/min_number_yrs_per_sim': [{'@value': 165}], 'https://wcrp-cmip.github.io/CMIP6Plus_CVs/experiment/model_realms': [{'https://wcrp-cmip.github.io/WCRP-universe/source-type/is_required': [{'@value': False}], '@id': 'https://wcrp-cmip.github.io/WCRP-universe/source-type/aer'}, {'https://wcrp-cmip.github.io/WCRP-universe/source-type/is_required': [{'@value': True}], '@id': 'https://wcrp-cmip.github.io/WCRP-universe/source-type/aogcm'}, {'https://wcrp-cmip.github.io/WCRP-universe/source-type/is_required': [{'@value': True}], '@id': 'https://wcrp-cmip.github.io/WCRP-universe/source-type/bgc'}, {'https://wcrp-cmip.github.io/WCRP-universe/source-type/is_required': [{'@value': False}], '@id': 'https://wcrp-cmip.github.io/WCRP-universe/source-type/chem'}], 'https://wcrp-cmip.github.io/CMIP6Plus_CVs/experiment/parent_activity': [{'@id': 'https://wcrp-cmip.github.io/WCRP-universe/activity/cmip'}], 'https://wcrp-cmip.github.io/CMIP6Plus_CVs/experiment/parent_experiment': [{'@id': 'https://wcrp-cmip.github.io/CMIP6Plus_CVs/experiment/esm-picontrol'}], 'https://wcrp-cmip.github.io/CMIP6Plus_CVs/experiment/start': [{'@value': 1850}], 'https://wcrp-cmip.github.io/CMIP6Plus_CVs/experiment/sub_experiment': [{'@id': 'https://wcrp-cmip.github.io/CMIP6Plus_CVs/sub-experiment/none'}], 'https://wcrp-cmip.github.io/CMIP6Plus_CVs/experiment/tier': [{'@value': 1}], '@type': ['wcrp:experiment', 'https://wcrp-cmip.github.io/CMIP6Plus_CVs/']}, {'https://wcrp-cmip.github.io/CMIP6Plus_CVs/experiment/activity': [{'@id': 'https://wcrp-cmip.github.io/WCRP-universe/activity/cmip'}], 'https://wcrp-cmip.github.io/CMIP6Plus_CVs/experiment/description': [{'@value': 'DECK: spin-up portion of the control (emission-driven)'}], 'https://wcrp-cmip.github.io/CMIP6Plus_CVs/experiment/end': [{'@value': -999}], '@id': 'https://wcrp-cmip.github.io/CMIP6Plus_CVs/experiment/esm-picontrol-spinup', 'https://wcrp-cmip.github.io/CMIP6Plus_CVs/experiment/label': [{'@value': 'esm-piControl-spinup'}], 'https://wcrp-cmip.github.io/CMIP6Plus_CVs/experiment/min_number_yrs_per_sim': [{'@value': 100}], 'https://wcrp-cmip.github.io/CMIP6Plus_CVs/experiment/model_realms': [{'https://wcrp-cmip.github.io/WCRP-universe/source-type/is_required': [{'@value': False}], '@id': 'https://wcrp-cmip.github.io/WCRP-universe/source-type/aer'}, {'https://wcrp-cmip.github.io/WCRP-universe/source-type/is_required': [{'@value': True}], '@id': 'https://wcrp-cmip.github.io/WCRP-universe/source-type/aogcm'}, {'https://wcrp-cmip.github.io/WCRP-universe/source-type/is_required': [{'@value': True}], '@id': 'https://wcrp-cmip.github.io/WCRP-universe/source-type/bgc'}, {'https://wcrp-cmip.github.io/WCRP-universe/source-type/is_required': [{'@value': False}], '@id': 'https://wcrp-cmip.github.io/WCRP-universe/source-type/chem'}], 'https://wcrp-cmip.github.io/CMIP6Plus_CVs/experiment/parent_activity': [{'@id': 'https://wcrp-cmip.github.io/WCRP-universe/activity/none'}], 'https://wcrp-cmip.github.io/CMIP6Plus_CVs/experiment/parent_experiment': [{'@id': 'https://wcrp-cmip.github.io/CMIP6Plus_CVs/experiment/none'}], 'https://wcrp-cmip.github.io/CMIP6Plus_CVs/experiment/start': [{'@value': -999}], 'https://wcrp-cmip.github.io/CMIP6Plus_CVs/experiment/sub_experiment': [{'@id': 'https://wcrp-cmip.github.io/CMIP6Plus_CVs/sub-experiment/none'}], 'https://wcrp-cmip.github.io/CMIP6Plus_CVs/experiment/tier': [{'@value': 2}], '@type': ['wcrp:experiment', 'https://wcrp-cmip.github.io/CMIP6Plus_CVs/']}, {'https://wcrp-cmip.github.io/CMIP6Plus_CVs/experiment/activity': [{'@id': 'https://wcrp-cmip.github.io/WCRP-universe/activity/cmip'}], 'https://wcrp-cmip.github.io/CMIP6Plus_CVs/experiment/description': [{'@value': 'DECK: control (emission-driven)'}], 'https://wcrp-cmip.github.io/CMIP6Plus_CVs/experiment/end': [{'@value': -999}], '@id': 'https://wcrp-cmip.github.io/CMIP6Plus_CVs/experiment/esm-picontrol', 'https://wcrp-cmip.github.io/CMIP6Plus_CVs/experiment/label': [{'@value': 'esm-piControl'}], 'https://wcrp-cmip.github.io/CMIP6Plus_CVs/experiment/min_number_yrs_per_sim': [{'@value': 500}], 'https://wcrp-cmip.github.io/CMIP6Plus_CVs/experiment/model_realms': [{'https://wcrp-cmip.github.io/WCRP-universe/source-type/is_required': [{'@value': False}], '@id': 'https://wcrp-cmip.github.io/WCRP-universe/source-type/aer'}, {'https://wcrp-cmip.github.io/WCRP-universe/source-type/is_required': [{'@value': True}], '@id': 'https://wcrp-cmip.github.io/WCRP-universe/source-type/aogcm'}, {'https://wcrp-cmip.github.io/WCRP-universe/source-type/is_required': [{'@value': True}], '@id': 'https://wcrp-cmip.github.io/WCRP-universe/source-type/bgc'}, {'https://wcrp-cmip.github.io/WCRP-universe/source-type/is_required': [{'@value': False}], '@id': 'https://wcrp-cmip.github.io/WCRP-universe/source-type/chem'}], 'https://wcrp-cmip.github.io/CMIP6Plus_CVs/experiment/parent_activity': [{'@id': 'https://wcrp-cmip.github.io/WCRP-universe/activity/cmip'}], 'https://wcrp-cmip.github.io/CMIP6Plus_CVs/experiment/parent_experiment': [{'@id': 'https://wcrp-cmip.github.io/CMIP6Plus_CVs/experiment/esm-picontrol-spinup'}], 'https://wcrp-cmip.github.io/CMIP6Plus_CVs/experiment/start': [{'@value': -999}], 'https://wcrp-cmip.github.io/CMIP6Plus_CVs/experiment/sub_experiment': [{'@id': 'https://wcrp-cmip.github.io/CMIP6Plus_CVs/sub-experiment/none'}], 'https://wcrp-cmip.github.io/CMIP6Plus_CVs/experiment/tier': [{'@value': 1}], '@type': ['wcrp:experiment', 'https://wcrp-cmip.github.io/CMIP6Plus_CVs/']}, {'https://wcrp-cmip.github.io/CMIP6Plus_CVs/experiment/activity': [{'@id': 'https://wcrp-cmip.github.io/WCRP-universe/activity/tipmip'}], 'https://wcrp-cmip.github.io/CMIP6Plus_CVs/experiment/description': [{'@value': 'ramp down after temporary overshoot to GWL2'}], 'https://wcrp-cmip.github.io/CMIP6Plus_CVs/experiment/end': [{'@value': ''}], 'https://wcrp-cmip.github.io/CMIP6Plus_CVs/experiment/experiment_description': [{'@value': 'ramp down simulation with CO2 emissions that are the negative of those used in esm-up2p0, branching off from esm-up2p0-gwl2p0 after 50 years'}], '@id': 'https://wcrp-cmip.github.io/CMIP6Plus_CVs/experiment/esm-up2p0-gwl2p0-50y-dn2p0', 'https://wcrp-cmip.github.io/CMIP6Plus_CVs/experiment/label': [{'@value': 'esm-up2p0-gwl2p0-50y-dn2p0'}], 'https://wcrp-cmip.github.io/CMIP6Plus_CVs/experiment/min_number_yrs_per_sim': [{'@value': 100}], 'https://wcrp-cmip.github.io/CMIP6Plus_CVs/experiment/model_realms': [{'https://wcrp-cmip.github.io/WCRP-universe/source-type/is_required': [{'@value': False}], '@id': 'https://wcrp-cmip.github.io/WCRP-universe/source-type/aer'}, {'https://wcrp-cmip.github.io/WCRP-universe/source-type/is_required': [{'@value': True}], '@id': 'https://wcrp-cmip.github.io/WCRP-universe/source-type/aogcm'}, {'https://wcrp-cmip.github.io/WCRP-universe/source-type/is_required': [{'@value': True}], '@id': 'https://wcrp-cmip.github.io/WCRP-universe/source-type/bgc'}, {'https://wcrp-cmip.github.io/WCRP-universe/source-type/is_required': [{'@value': False}], '@id': 'https://wcrp-cmip.github.io/WCRP-universe/source-type/chem'}], 'https://wcrp-cmip.github.io/CMIP6Plus_CVs/experiment/parent_activity': [{'@id': 'https://wcrp-cmip.github.io/WCRP-universe/activity/tipmip'}], 'https://wcrp-cmip.github.io/CMIP6Plus_CVs/experiment/parent_experiment': [{'@id': 'https://wcrp-cmip.github.io/CMIP6Plus_CVs/experiment/esm-up2p0-gwl2p0'}], 'https://wcrp-cmip.github.io/CMIP6Plus_CVs/experiment/start': [{'@value': ''}], 'https://wcrp-cmip.github.io/CMIP6Plus_CVs/experiment/sub_experiment': [{'@id': 'https://wcrp-cmip.github.io/CMIP6Plus_CVs/sub-experiment/none'}], 'https://wcrp-cmip.github.io/CMIP6Plus_CVs/experiment/tier': [{'@value': 1}], '@type': ['wcrp:experiment', 'https://wcrp-cmip.github.io/CMIP6Plus_CVs/']}, {'https://wcrp-cmip.github.io/CMIP6Plus_CVs/experiment/activity': [{'@id': 'https://wcrp-cmip.github.io/WCRP-universe/activity/tipmip'}], 'https://wcrp-cmip.github.io/CMIP6Plus_CVs/experiment/description': [{'@value': 'stabilisation at GWL2'}], 'https://wcrp-cmip.github.io/CMIP6Plus_CVs/experiment/end': [{'@value': ''}], 'https://wcrp-cmip.github.io/CMIP6Plus_CVs/experiment/experiment_description': [{'@value': 'zero CO2 emissions simulation starting at global warming level of 2K, branching off from esm-up2p0'}], '@id': 'https://wcrp-cmip.github.io/CMIP6Plus_CVs/experiment/esm-up2p0-gwl2p0', 'https://wcrp-cmip.github.io/CMIP6Plus_CVs/experiment/label': [{'@value': 'esm-up2p0-gwl2p0'}], 'https://wcrp-cmip.github.io/CMIP6Plus_CVs/experiment/min_number_yrs_per_sim': [{'@value': 300}], 'https://wcrp-cmip.github.io/CMIP6Plus_CVs/experiment/model_realms': [{'https://wcrp-cmip.github.io/WCRP-universe/source-type/is_required': [{'@value': False}], '@id': 'https://wcrp-cmip.github.io/WCRP-universe/source-type/aer'}, {'https://wcrp-cmip.github.io/WCRP-universe/source-type/is_required': [{'@value': True}], '@id': 'https://wcrp-cmip.github.io/WCRP-universe/source-type/aogcm'}, {'https://wcrp-cmip.github.io/WCRP-universe/source-type/is_required': [{'@value': True}], '@id': 'https://wcrp-cmip.github.io/WCRP-universe/source-type/bgc'}, {'https://wcrp-cmip.github.io/WCRP-universe/source-type/is_required': [{'@value': False}], '@id': 'https://wcrp-cmip.github.io/WCRP-universe/source-type/chem'}], 'https://wcrp-cmip.github.io/CMIP6Plus_CVs/experiment/parent_activity': [{'@id': 'https://wcrp-cmip.github.io/WCRP-universe/activity/tipmip'}], 'https://wcrp-cmip.github.io/CMIP6Plus_CVs/experiment/parent_experiment': [{'@id': 'https://wcrp-cmip.github.io/CMIP6Plus_CVs/experiment/esm-up2p0'}], 'https://wcrp-cmip.github.io/CMIP6Plus_CVs/experiment/start': [{'@value': ''}], 'https://wcrp-cmip.github.io/CMIP6Plus_CVs/experiment/sub_experiment': [{'@id': 'https://wcrp-cmip.github.io/CMIP6Plus_CVs/sub-experiment/none'}], 'https://wcrp-cmip.github.io/CMIP6Plus_CVs/experiment/tier': [{'@value': 1}], '@type': ['wcrp:experiment', 'https://wcrp-cmip.github.io/CMIP6Plus_CVs/']}, {'https://wcrp-cmip.github.io/CMIP6Plus_CVs/experiment/activity': [{'@id': 'https://wcrp-cmip.github.io/WCRP-universe/activity/tipmip'}], 'https://wcrp-cmip.github.io/CMIP6Plus_CVs/experiment/description': [{'@value': 'stabilisation at GWL2 after temporary overshoot to GWL4'}], 'https://wcrp-cmip.github.io/CMIP6Plus_CVs/experiment/end': [{'@value': ''}], 'https://wcrp-cmip.github.io/CMIP6Plus_CVs/experiment/experiment_description': [{'@value': 'zero CO2 emissions simulation starting at global warming level of 2K, branching off from esm-up2p0-gwl4p0-50y-dn2p0'}], '@id': 'https://wcrp-cmip.github.io/CMIP6Plus_CVs/experiment/esm-up2p0-gwl4p0-50y-dn2p0-gwl2p0', 'https://wcrp-cmip.github.io/CMIP6Plus_CVs/experiment/label': [{'@value': 'esm-up2p0-gwl4p0-50y-dn2p0-gwl2p0'}], 'https://wcrp-cmip.github.io/CMIP6Plus_CVs/experiment/min_number_yrs_per_sim': [{'@value': 300}], 'https://wcrp-cmip.github.io/CMIP6Plus_CVs/experiment/model_realms': [{'https://wcrp-cmip.github.io/WCRP-universe/source-type/is_required': [{'@value': False}], '@id': 'https://wcrp-cmip.github.io/WCRP-universe/source-type/aer'}, {'https://wcrp-cmip.github.io/WCRP-universe/source-type/is_required': [{'@value': True}], '@id': 'https://wcrp-cmip.github.io/WCRP-universe/source-type/aogcm'}, {'https://wcrp-cmip.github.io/WCRP-universe/source-type/is_required': [{'@value': True}], '@id': 'https://wcrp-cmip.github.io/WCRP-universe/source-type/bgc'}, {'https://wcrp-cmip.github.io/WCRP-universe/source-type/is_required': [{'@value': False}], '@id': 'https://wcrp-cmip.github.io/WCRP-universe/source-type/chem'}], 'https://wcrp-cmip.github.io/CMIP6Plus_CVs/experiment/parent_activity': [{'@id': 'https://wcrp-cmip.github.io/WCRP-universe/activity/tipmip'}], 'https://wcrp-cmip.github.io/CMIP6Plus_CVs/experiment/parent_experiment': [{'@id': 'https://wcrp-cmip.github.io/CMIP6Plus_CVs/experiment/esm-up2p0-gwl4p0-50y-dn2p0'}], 'https://wcrp-cmip.github.io/CMIP6Plus_CVs/experiment/start': [{'@value': ''}], 'https://wcrp-cmip.github.io/CMIP6Plus_CVs/experiment/sub_experiment': [{'@id': 'https://wcrp-cmip.github.io/CMIP6Plus_CVs/sub-experiment/none'}], 'https://wcrp-cmip.github.io/CMIP6Plus_CVs/experiment/tier': [{'@value': 1}], '@type': ['wcrp:experiment', 'https://wcrp-cmip.github.io/CMIP6Plus_CVs/']}, {'https://wcrp-cmip.github.io/CMIP6Plus_CVs/experiment/activity': [{'@id': 'https://wcrp-cmip.github.io/WCRP-universe/activity/tipmip'}], 'https://wcrp-cmip.github.io/CMIP6Plus_CVs/experiment/description': [{'@value': 'ramp down after temporary overshoot to GWL4'}], 'https://wcrp-cmip.github.io/CMIP6Plus_CVs/experiment/end': [{'@value': ''}], 'https://wcrp-cmip.github.io/CMIP6Plus_CVs/experiment/experiment_description': [{'@value': 'ramp down simulation with CO2 emissions that are the negative of those used in esm-up2p0, branching off from esm-up2p0-gwl4p0 after 50 years '}], '@id': 'https://wcrp-cmip.github.io/CMIP6Plus_CVs/experiment/esm-up2p0-gwl4p0-50y-dn2p0', 'https://wcrp-cmip.github.io/CMIP6Plus_CVs/experiment/label': [{'@value': 'esm-up2p0-gwl4p0-50y-dn2p0'}], 'https://wcrp-cmip.github.io/CMIP6Plus_CVs/experiment/min_number_yrs_per_sim': [{'@value': 200}], 'https://wcrp-cmip.github.io/CMIP6Plus_CVs/experiment/model_realms': [{'https://wcrp-cmip.github.io/WCRP-universe/source-type/is_required': [{'@value': False}], '@id': 'https://wcrp-cmip.github.io/WCRP-universe/source-type/aer'}, {'https://wcrp-cmip.github.io/WCRP-universe/source-type/is_required': [{'@value': True}], '@id': 'https://wcrp-cmip.github.io/WCRP-universe/source-type/aogcm'}, {'https://wcrp-cmip.github.io/WCRP-universe/source-type/is_required': [{'@value': True}], '@id': 'https://wcrp-cmip.github.io/WCRP-universe/source-type/bgc'}, {'https://wcrp-cmip.github.io/WCRP-universe/source-type/is_required': [{'@value': False}], '@id': 'https://wcrp-cmip.github.io/WCRP-universe/source-type/chem'}], 'https://wcrp-cmip.github.io/CMIP6Plus_CVs/experiment/parent_activity': [{'@id': 'https://wcrp-cmip.github.io/WCRP-universe/activity/tipmip'}], 'https://wcrp-cmip.github.io/CMIP6Plus_CVs/experiment/parent_experiment': [{'@id': 'https://wcrp-cmip.github.io/CMIP6Plus_CVs/experiment/esm-up2p0-gwl4p0'}], 'https://wcrp-cmip.github.io/CMIP6Plus_CVs/experiment/start': [{'@value': ''}], 'https://wcrp-cmip.github.io/CMIP6Plus_CVs/experiment/sub_experiment': [{'@id': 'https://wcrp-cmip.github.io/CMIP6Plus_CVs/sub-experiment/none'}], 'https://wcrp-cmip.github.io/CMIP6Plus_CVs/experiment/tier': [{'@value': 1}], '@type': ['wcrp:experiment', 'https://wcrp-cmip.github.io/CMIP6Plus_CVs/']}, {'https://wcrp-cmip.github.io/CMIP6Plus_CVs/experiment/activity': [{'@id': 'https://wcrp-cmip.github.io/WCRP-universe/activity/tipmip'}], 'https://wcrp-cmip.github.io/CMIP6Plus_CVs/experiment/description': [{'@value': 'stabilisation at GWL4'}], 'https://wcrp-cmip.github.io/CMIP6Plus_CVs/experiment/end': [{'@value': ''}], 'https://wcrp-cmip.github.io/CMIP6Plus_CVs/experiment/experiment_description': [{'@value': 'zero CO2 emissions simulation starting at global warming level of 4K, branching off from esm-up2p0'}], '@id': 'https://wcrp-cmip.github.io/CMIP6Plus_CVs/experiment/esm-up2p0-gwl4p0', 'https://wcrp-cmip.github.io/CMIP6Plus_CVs/experiment/label': [{'@value': 'esm-up2p0-gwl4p0'}], 'https://wcrp-cmip.github.io/CMIP6Plus_CVs/experiment/min_number_yrs_per_sim': [{'@value': 300}], 'https://wcrp-cmip.github.io/CMIP6Plus_CVs/experiment/model_realms': [{'https://wcrp-cmip.github.io/WCRP-universe/source-type/is_required': [{'@value': False}], '@id': 'https://wcrp-cmip.github.io/WCRP-universe/source-type/aer'}, {'https://wcrp-cmip.github.io/WCRP-universe/source-type/is_required': [{'@value': True}], '@id': 'https://wcrp-cmip.github.io/WCRP-universe/source-type/aogcm'}, {'https://wcrp-cmip.github.io/WCRP-universe/source-type/is_required': [{'@value': True}], '@id': 'https://wcrp-cmip.github.io/WCRP-universe/source-type/bgc'}, {'https://wcrp-cmip.github.io/WCRP-universe/source-type/is_required': [{'@value': False}], '@id': 'https://wcrp-cmip.github.io/WCRP-universe/source-type/chem'}], 'https://wcrp-cmip.github.io/CMIP6Plus_CVs/experiment/parent_activity': [{'@id': 'https://wcrp-cmip.github.io/WCRP-universe/activity/tipmip'}], 'https://wcrp-cmip.github.io/CMIP6Plus_CVs/experiment/parent_experiment': [{'@id': 'https://wcrp-cmip.github.io/CMIP6Plus_CVs/experiment/esm-up2p0'}], 'https://wcrp-cmip.github.io/CMIP6Plus_CVs/experiment/start': [{'@value': ''}], 'https://wcrp-cmip.github.io/CMIP6Plus_CVs/experiment/sub_experiment': [{'@id': 'https://wcrp-cmip.github.io/CMIP6Plus_CVs/sub-experiment/none'}], 'https://wcrp-cmip.github.io/CMIP6Plus_CVs/experiment/tier': [{'@value': 1}], '@type': ['wcrp:experiment', 'https://wcrp-cmip.github.io/CMIP6Plus_CVs/']}, {'https://wcrp-cmip.github.io/CMIP6Plus_CVs/experiment/activity': [{'@id': 'https://wcrp-cmip.github.io/WCRP-universe/activity/tipmip'}], 'https://wcrp-cmip.github.io/CMIP6Plus_CVs/experiment/description': [{'@value': 'ramp up with constant CO2 emissions'}], 'https://wcrp-cmip.github.io/CMIP6Plus_CVs/experiment/end': [{'@value': ''}], 'https://wcrp-cmip.github.io/CMIP6Plus_CVs/experiment/experiment_description': [{'@value': 'ramp up simulation with constant CO2 emissions yielding a warming of approximately 2 K/century (see TIPMIP experiment protocol for details)'}], '@id': 'https://wcrp-cmip.github.io/CMIP6Plus_CVs/experiment/esm-up2p0', 'https://wcrp-cmip.github.io/CMIP6Plus_CVs/experiment/label': [{'@value': 'esm-up2p0'}], 'https://wcrp-cmip.github.io/CMIP6Plus_CVs/experiment/min_number_yrs_per_sim': [{'@value': 215}], 'https://wcrp-cmip.github.io/CMIP6Plus_CVs/experiment/model_realms': [{'https://wcrp-cmip.github.io/WCRP-universe/source-type/is_required': [{'@value': False}], '@id': 'https://wcrp-cmip.github.io/WCRP-universe/source-type/aer'}, {'https://wcrp-cmip.github.io/WCRP-universe/source-type/is_required': [{'@value': True}], '@id': 'https://wcrp-cmip.github.io/WCRP-universe/source-type/aogcm'}, {'https://wcrp-cmip.github.io/WCRP-universe/source-type/is_required': [{'@value': True}], '@id': 'https://wcrp-cmip.github.io/WCRP-universe/source-type/bgc'}, {'https://wcrp-cmip.github.io/WCRP-universe/source-type/is_required': [{'@value': False}], '@id': 'https://wcrp-cmip.github.io/WCRP-universe/source-type/chem'}], 'https://wcrp-cmip.github.io/CMIP6Plus_CVs/experiment/parent_activity': [{'@id': 'https://wcrp-cmip.github.io/WCRP-universe/activity/cmip'}], 'https://wcrp-cmip.github.io/CMIP6Plus_CVs/experiment/parent_experiment': [{'@id': 'https://wcrp-cmip.github.io/CMIP6Plus_CVs/experiment/esm-picontrol'}], 'https://wcrp-cmip.github.io/CMIP6Plus_CVs/experiment/start': [{'@value': ''}], 'https://wcrp-cmip.github.io/CMIP6Plus_CVs/experiment/sub_experiment': [{'@id': 'https://wcrp-cmip.github.io/CMIP6Plus_CVs/sub-experiment/none'}], 'https://wcrp-cmip.github.io/CMIP6Plus_CVs/experiment/tier': [{'@value': 1}], '@type': ['wcrp:experiment', 'https://wcrp-cmip.github.io/CMIP6Plus_CVs/']}, {'https://wcrp-cmip.github.io/CMIP6Plus_CVs/experiment/activity': [{'@id': 'https://wcrp-cmip.github.io/WCRP-universe/activity/lesfmip'}], 'https://wcrp-cmip.github.io/CMIP6Plus_CVs/experiment/description': [{'@value': 'As hist-aer but with updated forcings'}], 'https://wcrp-cmip.github.io/CMIP6Plus_CVs/experiment/end': [{'@value': 2024}], '@id': 'https://wcrp-cmip.github.io/CMIP6Plus_CVs/experiment/fut-aer', 'https://wcrp-cmip.github.io/CMIP6Plus_CVs/experiment/label': [{'@value': 'fut-Aer'}], 'https://wcrp-cmip.github.io/CMIP6Plus_CVs/experiment/min_number_yrs_per_sim': [{'@value': 0}], 'https://wcrp-cmip.github.io/CMIP6Plus_CVs/experiment/model_realms': [{'https://wcrp-cmip.github.io/WCRP-universe/source-type/is_required': [{'@value': False}], '@id': 'https://wcrp-cmip.github.io/WCRP-universe/source-type/aer'}, {'https://wcrp-cmip.github.io/WCRP-universe/source-type/is_required': [{'@value': True}], '@id': 'https://wcrp-cmip.github.io/WCRP-universe/source-type/aogcm'}, {'https://wcrp-cmip.github.io/WCRP-universe/source-type/is_required': [{'@value': False}], '@id': 'https://wcrp-cmip.github.io/WCRP-universe/source-type/bgc'}, {'https://wcrp-cmip.github.io/WCRP-universe/source-type/is_required': [{'@value': False}], '@id': 'https://wcrp-cmip.github.io/WCRP-universe/source-type/chem'}], 'https://wcrp-cmip.github.io/CMIP6Plus_CVs/experiment/parent_activity': [{'@id': 'https://wcrp-cmip.github.io/WCRP-universe/activity/lesfmip'}], 'https://wcrp-cmip.github.io/CMIP6Plus_CVs/experiment/parent_experiment': [{'@id': 'https://wcrp-cmip.github.io/CMIP6Plus_CVs/experiment/hist-aer'}], 'https://wcrp-cmip.github.io/CMIP6Plus_CVs/experiment/start': [{'@value': 2015}], 'https://wcrp-cmip.github.io/CMIP6Plus_CVs/experiment/sub_experiment': [{'@id': 'https://wcrp-cmip.github.io/CMIP6Plus_CVs/sub-experiment/f2023'}], 'https://wcrp-cmip.github.io/CMIP6Plus_CVs/experiment/tier': [{'@value': 2}], '@type': ['wcrp:experiment', 'https://wcrp-cmip.github.io/CMIP6Plus_CVs/']}, {'https://wcrp-cmip.github.io/CMIP6Plus_CVs/experiment/activity': [{'@id': 'https://wcrp-cmip.github.io/WCRP-universe/activity/lesfmip'}], 'https://wcrp-cmip.github.io/CMIP6Plus_CVs/experiment/description': [{'@value': 'As hist-GHG but with updated forcings'}], 'https://wcrp-cmip.github.io/CMIP6Plus_CVs/experiment/end': [{'@value': 2024}], '@id': 'https://wcrp-cmip.github.io/CMIP6Plus_CVs/experiment/fut-ghg', 'https://wcrp-cmip.github.io/CMIP6Plus_CVs/experiment/label': [{'@value': 'fut-GHG'}], 'https://wcrp-cmip.github.io/CMIP6Plus_CVs/experiment/min_number_yrs_per_sim': [{'@value': 0}], 'https://wcrp-cmip.github.io/CMIP6Plus_CVs/experiment/model_realms': [{'https://wcrp-cmip.github.io/WCRP-universe/source-type/is_required': [{'@value': False}], '@id': 'https://wcrp-cmip.github.io/WCRP-universe/source-type/aer'}, {'https://wcrp-cmip.github.io/WCRP-universe/source-type/is_required': [{'@value': True}], '@id': 'https://wcrp-cmip.github.io/WCRP-universe/source-type/aogcm'}, {'https://wcrp-cmip.github.io/WCRP-universe/source-type/is_required': [{'@value': False}], '@id': 'https://wcrp-cmip.github.io/WCRP-universe/source-type/bgc'}, {'https://wcrp-cmip.github.io/WCRP-universe/source-type/is_required': [{'@value': False}], '@id': 'https://wcrp-cmip.github.io/WCRP-universe/source-type/chem'}], 'https://wcrp-cmip.github.io/CMIP6Plus_CVs/experiment/parent_activity': [{'@id': 'https://wcrp-cmip.github.io/WCRP-universe/activity/lesfmip'}], 'https://wcrp-cmip.github.io/CMIP6Plus_CVs/experiment/parent_experiment': [{'@id': 'https://wcrp-cmip.github.io/CMIP6Plus_CVs/experiment/hist-ghg'}], 'https://wcrp-cmip.github.io/CMIP6Plus_CVs/experiment/start': [{'@value': 2015}], 'https://wcrp-cmip.github.io/CMIP6Plus_CVs/experiment/sub_experiment': [{'@id': 'https://wcrp-cmip.github.io/CMIP6Plus_CVs/sub-experiment/f2023'}], 'https://wcrp-cmip.github.io/CMIP6Plus_CVs/experiment/tier': [{'@value': 2}], '@type': ['wcrp:experiment', 'https://wcrp-cmip.github.io/CMIP6Plus_CVs/']}, {'https://wcrp-cmip.github.io/CMIP6Plus_CVs/experiment/activity': [{'@id': 'https://wcrp-cmip.github.io/WCRP-universe/activity/lesfmip'}], 'https://wcrp-cmip.github.io/CMIP6Plus_CVs/experiment/description': [{'@value': 'As hist-lu but with updated forcings'}], 'https://wcrp-cmip.github.io/CMIP6Plus_CVs/experiment/end': [{'@value': 2024}], '@id': 'https://wcrp-cmip.github.io/CMIP6Plus_CVs/experiment/fut-lu', 'https://wcrp-cmip.github.io/CMIP6Plus_CVs/experiment/label': [{'@value': 'fut-lu'}], 'https://wcrp-cmip.github.io/CMIP6Plus_CVs/experiment/min_number_yrs_per_sim': [{'@value': 0}], 'https://wcrp-cmip.github.io/CMIP6Plus_CVs/experiment/model_realms': [{'https://wcrp-cmip.github.io/WCRP-universe/source-type/is_required': [{'@value': False}], '@id': 'https://wcrp-cmip.github.io/WCRP-universe/source-type/aer'}, {'https://wcrp-cmip.github.io/WCRP-universe/source-type/is_required': [{'@value': True}], '@id': 'https://wcrp-cmip.github.io/WCRP-universe/source-type/aogcm'}, {'https://wcrp-cmip.github.io/WCRP-universe/source-type/is_required': [{'@value': False}], '@id': 'https://wcrp-cmip.github.io/WCRP-universe/source-type/bgc'}, {'https://wcrp-cmip.github.io/WCRP-universe/source-type/is_required': [{'@value': False}], '@id': 'https://wcrp-cmip.github.io/WCRP-universe/source-type/chem'}], 'https://wcrp-cmip.github.io/CMIP6Plus_CVs/experiment/parent_activity': [{'@id': 'https://wcrp-cmip.github.io/WCRP-universe/activity/cmip'}], 'https://wcrp-cmip.github.io/CMIP6Plus_CVs/experiment/parent_experiment': [{'@id': 'https://wcrp-cmip.github.io/CMIP6Plus_CVs/experiment/picontrol'}], 'https://wcrp-cmip.github.io/CMIP6Plus_CVs/experiment/start': [{'@value': 2015}], 'https://wcrp-cmip.github.io/CMIP6Plus_CVs/experiment/sub_experiment': [{'@id': 'https://wcrp-cmip.github.io/CMIP6Plus_CVs/sub-experiment/f2023'}], 'https://wcrp-cmip.github.io/CMIP6Plus_CVs/experiment/tier': [{'@value': 2}], '@type': ['wcrp:experiment', 'https://wcrp-cmip.github.io/CMIP6Plus_CVs/']}, {'https://wcrp-cmip.github.io/CMIP6Plus_CVs/experiment/activity': [{'@id': 'https://wcrp-cmip.github.io/WCRP-universe/activity/lesfmip'}], 'https://wcrp-cmip.github.io/CMIP6Plus_CVs/experiment/description': [{'@value': 'As hist-sol but with updated forcings'}], 'https://wcrp-cmip.github.io/CMIP6Plus_CVs/experiment/end': [{'@value': 2024}], '@id': 'https://wcrp-cmip.github.io/CMIP6Plus_CVs/experiment/fut-sol', 'https://wcrp-cmip.github.io/CMIP6Plus_CVs/experiment/label': [{'@value': 'fut-sol'}], 'https://wcrp-cmip.github.io/CMIP6Plus_CVs/experiment/min_number_yrs_per_sim': [{'@value': 0}], 'https://wcrp-cmip.github.io/CMIP6Plus_CVs/experiment/model_realms': [{'https://wcrp-cmip.github.io/WCRP-universe/source-type/is_required': [{'@value': False}], '@id': 'https://wcrp-cmip.github.io/WCRP-universe/source-type/aer'}, {'https://wcrp-cmip.github.io/WCRP-universe/source-type/is_required': [{'@value': True}], '@id': 'https://wcrp-cmip.github.io/WCRP-universe/source-type/aogcm'}, {'https://wcrp-cmip.github.io/WCRP-universe/source-type/is_required': [{'@value': False}], '@id': 'https://wcrp-cmip.github.io/WCRP-universe/source-type/bgc'}, {'https://wcrp-cmip.github.io/WCRP-universe/source-type/is_required': [{'@value': False}], '@id': 'https://wcrp-cmip.github.io/WCRP-universe/source-type/chem'}], 'https://wcrp-cmip.github.io/CMIP6Plus_CVs/experiment/parent_activity': [{'@id': 'https://wcrp-cmip.github.io/WCRP-universe/activity/lesfmip'}], 'https://wcrp-cmip.github.io/CMIP6Plus_CVs/experiment/parent_experiment': [{'@id': 'https://wcrp-cmip.github.io/CMIP6Plus_CVs/experiment/hist-sol'}], 'https://wcrp-cmip.github.io/CMIP6Plus_CVs/experiment/start': [{'@value': 2015}], 'https://wcrp-cmip.github.io/CMIP6Plus_CVs/experiment/sub_experiment': [{'@id': 'https://wcrp-cmip.github.io/CMIP6Plus_CVs/sub-experiment/f2023'}], 'https://wcrp-cmip.github.io/CMIP6Plus_CVs/experiment/tier': [{'@value': 2}], '@type': ['wcrp:experiment', 'https://wcrp-cmip.github.io/CMIP6Plus_CVs/']}, {'https://wcrp-cmip.github.io/CMIP6Plus_CVs/experiment/activity': [{'@id': 'https://wcrp-cmip.github.io/WCRP-universe/activity/lesfmip'}], 'https://wcrp-cmip.github.io/CMIP6Plus_CVs/experiment/description': [{'@value': 'As hist-totalO3 but with updated forcings'}], 'https://wcrp-cmip.github.io/CMIP6Plus_CVs/experiment/end': [{'@value': 2024}], '@id': 'https://wcrp-cmip.github.io/CMIP6Plus_CVs/experiment/fut-totalo3', 'https://wcrp-cmip.github.io/CMIP6Plus_CVs/experiment/label': [{'@value': 'fut-totalO3'}], 'https://wcrp-cmip.github.io/CMIP6Plus_CVs/experiment/min_number_yrs_per_sim': [{'@value': 0}], 'https://wcrp-cmip.github.io/CMIP6Plus_CVs/experiment/model_realms': [{'https://wcrp-cmip.github.io/WCRP-universe/source-type/is_required': [{'@value': False}], '@id': 'https://wcrp-cmip.github.io/WCRP-universe/source-type/aer'}, {'https://wcrp-cmip.github.io/WCRP-universe/source-type/is_required': [{'@value': True}], '@id': 'https://wcrp-cmip.github.io/WCRP-universe/source-type/aogcm'}, {'https://wcrp-cmip.github.io/WCRP-universe/source-type/is_required': [{'@value': False}], '@id': 'https://wcrp-cmip.github.io/WCRP-universe/source-type/bgc'}, {'https://wcrp-cmip.github.io/WCRP-universe/source-type/is_required': [{'@value': False}], '@id': 'https://wcrp-cmip.github.io/WCRP-universe/source-type/chem'}], 'https://wcrp-cmip.github.io/CMIP6Plus_CVs/experiment/parent_activity': [{'@id': 'https://wcrp-cmip.github.io/WCRP-universe/activity/lesfmip'}], 'https://wcrp-cmip.github.io/CMIP6Plus_CVs/experiment/parent_experiment': [{'@id': 'https://wcrp-cmip.github.io/CMIP6Plus_CVs/experiment/hist-totalo3'}], 'https://wcrp-cmip.github.io/CMIP6Plus_CVs/experiment/start': [{'@value': 2015}], 'https://wcrp-cmip.github.io/CMIP6Plus_CVs/experiment/sub_experiment': [{'@id': 'https://wcrp-cmip.github.io/CMIP6Plus_CVs/sub-experiment/f2023'}], 'https://wcrp-cmip.github.io/CMIP6Plus_CVs/experiment/tier': [{'@value': 2}], '@type': ['wcrp:experiment', 'https://wcrp-cmip.github.io/CMIP6Plus_CVs/']}, {'https://wcrp-cmip.github.io/CMIP6Plus_CVs/experiment/activity': [{'@id': 'https://wcrp-cmip.github.io/WCRP-universe/activity/lesfmip'}], 'https://wcrp-cmip.github.io/CMIP6Plus_CVs/experiment/description': [{'@value': 'As hist-volc but with updated forcings'}], 'https://wcrp-cmip.github.io/CMIP6Plus_CVs/experiment/end': [{'@value': 2024}], '@id': 'https://wcrp-cmip.github.io/CMIP6Plus_CVs/experiment/fut-volc', 'https://wcrp-cmip.github.io/CMIP6Plus_CVs/experiment/label': [{'@value': 'fut-volc'}], 'https://wcrp-cmip.github.io/CMIP6Plus_CVs/experiment/min_number_yrs_per_sim': [{'@value': 0}], 'https://wcrp-cmip.github.io/CMIP6Plus_CVs/experiment/model_realms': [{'https://wcrp-cmip.github.io/WCRP-universe/source-type/is_required': [{'@value': False}], '@id': 'https://wcrp-cmip.github.io/WCRP-universe/source-type/aer'}, {'https://wcrp-cmip.github.io/WCRP-universe/source-type/is_required': [{'@value': True}], '@id': 'https://wcrp-cmip.github.io/WCRP-universe/source-type/aogcm'}, {'https://wcrp-cmip.github.io/WCRP-universe/source-type/is_required': [{'@value': False}], '@id': 'https://wcrp-cmip.github.io/WCRP-universe/source-type/bgc'}, {'https://wcrp-cmip.github.io/WCRP-universe/source-type/is_required': [{'@value': False}], '@id': 'https://wcrp-cmip.github.io/WCRP-universe/source-type/chem'}], 'https://wcrp-cmip.github.io/CMIP6Plus_CVs/experiment/parent_activity': [{'@id': 'https://wcrp-cmip.github.io/WCRP-universe/activity/lesfmip'}], 'https://wcrp-cmip.github.io/CMIP6Plus_CVs/experiment/parent_experiment': [{'@id': 'https://wcrp-cmip.github.io/CMIP6Plus_CVs/experiment/hist-volc'}], 'https://wcrp-cmip.github.io/CMIP6Plus_CVs/experiment/start': [{'@value': 2015}], 'https://wcrp-cmip.github.io/CMIP6Plus_CVs/experiment/sub_experiment': [{'@id': 'https://wcrp-cmip.github.io/CMIP6Plus_CVs/sub-experiment/f2023'}], 'https://wcrp-cmip.github.io/CMIP6Plus_CVs/experiment/tier': [{'@value': 2}], '@type': ['wcrp:experiment', 'https://wcrp-cmip.github.io/CMIP6Plus_CVs/']}, {'https://wcrp-cmip.github.io/CMIP6Plus_CVs/experiment/activity': [{'@id': 'https://wcrp-cmip.github.io/WCRP-universe/activity/lesfmip'}], 'https://wcrp-cmip.github.io/CMIP6Plus_CVs/experiment/description': [{'@value': 'Anthropogenic-aerosol-only historical simulations'}], 'https://wcrp-cmip.github.io/CMIP6Plus_CVs/experiment/end': [{'@value': 2020}], '@id': 'https://wcrp-cmip.github.io/CMIP6Plus_CVs/experiment/hist-aer', 'https://wcrp-cmip.github.io/CMIP6Plus_CVs/experiment/label': [{'@value': 'hist-aer'}], 'https://wcrp-cmip.github.io/CMIP6Plus_CVs/experiment/min_number_yrs_per_sim': [{'@value': 0}], 'https://wcrp-cmip.github.io/CMIP6Plus_CVs/experiment/model_realms': [{'https://wcrp-cmip.github.io/WCRP-universe/source-type/is_required': [{'@value': False}], '@id': 'https://wcrp-cmip.github.io/WCRP-universe/source-type/aer'}, {'https://wcrp-cmip.github.io/WCRP-universe/source-type/is_required': [{'@value': True}], '@id': 'https://wcrp-cmip.github.io/WCRP-universe/source-type/aogcm'}, {'https://wcrp-cmip.github.io/WCRP-universe/source-type/is_required': [{'@value': False}], '@id': 'https://wcrp-cmip.github.io/WCRP-universe/source-type/bgc'}, {'https://wcrp-cmip.github.io/WCRP-universe/source-type/is_required': [{'@value': False}], '@id': 'https://wcrp-cmip.github.io/WCRP-universe/source-type/chem'}], 'https://wcrp-cmip.github.io/CMIP6Plus_CVs/experiment/parent_activity': [{'@id': 'https://wcrp-cmip.github.io/WCRP-universe/activity/cmip'}], 'https://wcrp-cmip.github.io/CMIP6Plus_CVs/experiment/parent_experiment': [{'@id': 'https://wcrp-cmip.github.io/CMIP6Plus_CVs/experiment/picontrol'}], 'https://wcrp-cmip.github.io/CMIP6Plus_CVs/experiment/start': [{'@value': 1850}], 'https://wcrp-cmip.github.io/CMIP6Plus_CVs/experiment/sub_experiment': [{'@id': 'https://wcrp-cmip.github.io/CMIP6Plus_CVs/sub-experiment/f2023'}], 'https://wcrp-cmip.github.io/CMIP6Plus_CVs/experiment/tier': [{'@value': 1}], '@type': ['wcrp:experiment', 'https://wcrp-cmip.github.io/CMIP6Plus_CVs/']}, {'https://wcrp-cmip.github.io/CMIP6Plus_CVs/experiment/activity': [{'@id': 'https://wcrp-cmip.github.io/WCRP-universe/activity/lesfmip'}], 'https://wcrp-cmip.github.io/CMIP6Plus_CVs/experiment/description': [{'@value': 'Well-mixed greenhouse-gas-only historical simulations'}], 'https://wcrp-cmip.github.io/CMIP6Plus_CVs/experiment/end': [{'@value': 2020}], '@id': 'https://wcrp-cmip.github.io/CMIP6Plus_CVs/experiment/hist-ghg', 'https://wcrp-cmip.github.io/CMIP6Plus_CVs/experiment/label': [{'@value': 'hist-GHG'}], 'https://wcrp-cmip.github.io/CMIP6Plus_CVs/experiment/min_number_yrs_per_sim': [{'@value': 0}], 'https://wcrp-cmip.github.io/CMIP6Plus_CVs/experiment/model_realms': [{'https://wcrp-cmip.github.io/WCRP-universe/source-type/is_required': [{'@value': False}], '@id': 'https://wcrp-cmip.github.io/WCRP-universe/source-type/aer'}, {'https://wcrp-cmip.github.io/WCRP-universe/source-type/is_required': [{'@value': True}], '@id': 'https://wcrp-cmip.github.io/WCRP-universe/source-type/aogcm'}, {'https://wcrp-cmip.github.io/WCRP-universe/source-type/is_required': [{'@value': False}], '@id': 'https://wcrp-cmip.github.io/WCRP-universe/source-type/bgc'}, {'https://wcrp-cmip.github.io/WCRP-universe/source-type/is_required': [{'@value': False}], '@id': 'https://wcrp-cmip.github.io/WCRP-universe/source-type/chem'}], 'https://wcrp-cmip.github.io/CMIP6Plus_CVs/experiment/parent_activity': [{'@id': 'https://wcrp-cmip.github.io/WCRP-universe/activity/cmip'}], 'https://wcrp-cmip.github.io/CMIP6Plus_CVs/experiment/parent_experiment': [{'@id': 'https://wcrp-cmip.github.io/CMIP6Plus_CVs/experiment/picontrol'}], 'https://wcrp-cmip.github.io/CMIP6Plus_CVs/experiment/start': [{'@value': 1850}], 'https://wcrp-cmip.github.io/CMIP6Plus_CVs/experiment/sub_experiment': [{'@id': 'https://wcrp-cmip.github.io/CMIP6Plus_CVs/sub-experiment/f2023'}], 'https://wcrp-cmip.github.io/CMIP6Plus_CVs/experiment/tier': [{'@value': 1}], '@type': ['wcrp:experiment', 'https://wcrp-cmip.github.io/CMIP6Plus_CVs/']}, {'https://wcrp-cmip.github.io/CMIP6Plus_CVs/experiment/activity': [{'@id': 'https://wcrp-cmip.github.io/WCRP-universe/activity/lesfmip'}], 'https://wcrp-cmip.github.io/CMIP6Plus_CVs/experiment/description': [{'@value': 'Historical simulations with only land use changes'}], 'https://wcrp-cmip.github.io/CMIP6Plus_CVs/experiment/end': [{'@value': 2020}], '@id': 'https://wcrp-cmip.github.io/CMIP6Plus_CVs/experiment/hist-lu', 'https://wcrp-cmip.github.io/CMIP6Plus_CVs/experiment/label': [{'@value': 'hist-lu'}], 'https://wcrp-cmip.github.io/CMIP6Plus_CVs/experiment/min_number_yrs_per_sim': [{'@value': 0}], 'https://wcrp-cmip.github.io/CMIP6Plus_CVs/experiment/model_realms': [{'https://wcrp-cmip.github.io/WCRP-universe/source-type/is_required': [{'@value': False}], '@id': 'https://wcrp-cmip.github.io/WCRP-universe/source-type/aer'}, {'https://wcrp-cmip.github.io/WCRP-universe/source-type/is_required': [{'@value': True}], '@id': 'https://wcrp-cmip.github.io/WCRP-universe/source-type/aogcm'}, {'https://wcrp-cmip.github.io/WCRP-universe/source-type/is_required': [{'@value': False}], '@id': 'https://wcrp-cmip.github.io/WCRP-universe/source-type/bgc'}, {'https://wcrp-cmip.github.io/WCRP-universe/source-type/is_required': [{'@value': False}], '@id': 'https://wcrp-cmip.github.io/WCRP-universe/source-type/chem'}], 'https://wcrp-cmip.github.io/CMIP6Plus_CVs/experiment/parent_activity': [{'@id': 'https://wcrp-cmip.github.io/WCRP-universe/activity/cmip'}], 'https://wcrp-cmip.github.io/CMIP6Plus_CVs/experiment/parent_experiment': [{'@id': 'https://wcrp-cmip.github.io/CMIP6Plus_CVs/experiment/picontrol'}], 'https://wcrp-cmip.github.io/CMIP6Plus_CVs/experiment/start': [{'@value': 1850}], 'https://wcrp-cmip.github.io/CMIP6Plus_CVs/experiment/sub_experiment': [{'@id': 'https://wcrp-cmip.github.io/CMIP6Plus_CVs/sub-experiment/f2023'}], 'https://wcrp-cmip.github.io/CMIP6Plus_CVs/experiment/tier': [{'@value': 1}], '@type': ['wcrp:experiment', 'https://wcrp-cmip.github.io/CMIP6Plus_CVs/']}, {'https://wcrp-cmip.github.io/CMIP6Plus_CVs/experiment/activity': [{'@id': 'https://wcrp-cmip.github.io/WCRP-universe/activity/lesfmip'}], 'https://wcrp-cmip.github.io/CMIP6Plus_CVs/experiment/description': [{'@value': 'Natural forcings (solar + volcanic)'}], 'https://wcrp-cmip.github.io/CMIP6Plus_CVs/experiment/end': [{'@value': 2020}], '@id': 'https://wcrp-cmip.github.io/CMIP6Plus_CVs/experiment/hist-nat', 'https://wcrp-cmip.github.io/CMIP6Plus_CVs/experiment/label': [{'@value': 'hist-nat'}], 'https://wcrp-cmip.github.io/CMIP6Plus_CVs/experiment/min_number_yrs_per_sim': [{'@value': 0}], 'https://wcrp-cmip.github.io/CMIP6Plus_CVs/experiment/model_realms': [{'https://wcrp-cmip.github.io/WCRP-universe/source-type/is_required': [{'@value': False}], '@id': 'https://wcrp-cmip.github.io/WCRP-universe/source-type/aer'}, {'https://wcrp-cmip.github.io/WCRP-universe/source-type/is_required': [{'@value': True}], '@id': 'https://wcrp-cmip.github.io/WCRP-universe/source-type/aogcm'}, {'https://wcrp-cmip.github.io/WCRP-universe/source-type/is_required': [{'@value': False}], '@id': 'https://wcrp-cmip.github.io/WCRP-universe/source-type/bgc'}, {'https://wcrp-cmip.github.io/WCRP-universe/source-type/is_required': [{'@value': False}], '@id': 'https://wcrp-cmip.github.io/WCRP-universe/source-type/chem'}], 'https://wcrp-cmip.github.io/CMIP6Plus_CVs/experiment/parent_activity': [{'@id': 'https://wcrp-cmip.github.io/WCRP-universe/activity/cmip'}], 'https://wcrp-cmip.github.io/CMIP6Plus_CVs/experiment/parent_experiment': [{'@id': 'https://wcrp-cmip.github.io/CMIP6Plus_CVs/experiment/picontrol'}], 'https://wcrp-cmip.github.io/CMIP6Plus_CVs/experiment/start': [{'@value': 1850}], 'https://wcrp-cmip.github.io/CMIP6Plus_CVs/experiment/sub_experiment': [{'@id': 'https://wcrp-cmip.github.io/CMIP6Plus_CVs/sub-experiment/f2023'}], 'https://wcrp-cmip.github.io/CMIP6Plus_CVs/experiment/tier': [{'@value': 3}], '@type': ['wcrp:experiment', 'https://wcrp-cmip.github.io/CMIP6Plus_CVs/']}, {'https://wcrp-cmip.github.io/CMIP6Plus_CVs/experiment/activity': [{'@id': 'https://wcrp-cmip.github.io/WCRP-universe/activity/lesfmip'}], 'https://wcrp-cmip.github.io/CMIP6Plus_CVs/experiment/description': [{'@value': 'Same as CMIP6 historical but with land cover held at 1850, no human activity; concentration driven'}], 'https://wcrp-cmip.github.io/CMIP6Plus_CVs/experiment/end': [{'@value': 2020}], '@id': 'https://wcrp-cmip.github.io/CMIP6Plus_CVs/experiment/hist-nolu', 'https://wcrp-cmip.github.io/CMIP6Plus_CVs/experiment/label': [{'@value': 'hist-noLu'}], 'https://wcrp-cmip.github.io/CMIP6Plus_CVs/experiment/min_number_yrs_per_sim': [{'@value': 0}], 'https://wcrp-cmip.github.io/CMIP6Plus_CVs/experiment/model_realms': [{'https://wcrp-cmip.github.io/WCRP-universe/source-type/is_required': [{'@value': False}], '@id': 'https://wcrp-cmip.github.io/WCRP-universe/source-type/aer'}, {'https://wcrp-cmip.github.io/WCRP-universe/source-type/is_required': [{'@value': True}], '@id': 'https://wcrp-cmip.github.io/WCRP-universe/source-type/aogcm'}, {'https://wcrp-cmip.github.io/WCRP-universe/source-type/is_required': [{'@value': False}], '@id': 'https://wcrp-cmip.github.io/WCRP-universe/source-type/bgc'}, {'https://wcrp-cmip.github.io/WCRP-universe/source-type/is_required': [{'@value': False}], '@id': 'https://wcrp-cmip.github.io/WCRP-universe/source-type/chem'}], 'https://wcrp-cmip.github.io/CMIP6Plus_CVs/experiment/parent_activity': [{'@id': 'https://wcrp-cmip.github.io/WCRP-universe/activity/cmip'}], 'https://wcrp-cmip.github.io/CMIP6Plus_CVs/experiment/parent_experiment': [{'@id': 'https://wcrp-cmip.github.io/CMIP6Plus_CVs/experiment/picontrol'}], 'https://wcrp-cmip.github.io/CMIP6Plus_CVs/experiment/start': [{'@value': 1850}], 'https://wcrp-cmip.github.io/CMIP6Plus_CVs/experiment/sub_experiment': [{'@id': 'https://wcrp-cmip.github.io/CMIP6Plus_CVs/sub-experiment/f2023'}], 'https://wcrp-cmip.github.io/CMIP6Plus_CVs/experiment/tier': [{'@value': 3}], '@type': ['wcrp:experiment', 'https://wcrp-cmip.github.io/CMIP6Plus_CVs/']}, {'https://wcrp-cmip.github.io/CMIP6Plus_CVs/experiment/activity': [{'@id': 'https://wcrp-cmip.github.io/WCRP-universe/activity/lesfmip'}], 'https://wcrp-cmip.github.io/CMIP6Plus_CVs/experiment/description': [{'@value': 'Historical WMGHG, halocarbon concentrations and O3 precursor emissions, 1850 aerosol precursor emissions.'}], 'https://wcrp-cmip.github.io/CMIP6Plus_CVs/experiment/end': [{'@value': 2020}], '@id': 'https://wcrp-cmip.github.io/CMIP6Plus_CVs/experiment/hist-piaer', 'https://wcrp-cmip.github.io/CMIP6Plus_CVs/experiment/label': [{'@value': 'hist-piAer'}], 'https://wcrp-cmip.github.io/CMIP6Plus_CVs/experiment/min_number_yrs_per_sim': [{'@value': 0}], 'https://wcrp-cmip.github.io/CMIP6Plus_CVs/experiment/model_realms': [{'https://wcrp-cmip.github.io/WCRP-universe/source-type/is_required': [{'@value': False}], '@id': 'https://wcrp-cmip.github.io/WCRP-universe/source-type/aer'}, {'https://wcrp-cmip.github.io/WCRP-universe/source-type/is_required': [{'@value': True}], '@id': 'https://wcrp-cmip.github.io/WCRP-universe/source-type/aogcm'}, {'https://wcrp-cmip.github.io/WCRP-universe/source-type/is_required': [{'@value': False}], '@id': 'https://wcrp-cmip.github.io/WCRP-universe/source-type/bgc'}, {'https://wcrp-cmip.github.io/WCRP-universe/source-type/is_required': [{'@value': False}], '@id': 'https://wcrp-cmip.github.io/WCRP-universe/source-type/chem'}], 'https://wcrp-cmip.github.io/CMIP6Plus_CVs/experiment/parent_activity': [{'@id': 'https://wcrp-cmip.github.io/WCRP-universe/activity/cmip'}], 'https://wcrp-cmip.github.io/CMIP6Plus_CVs/experiment/parent_experiment': [{'@id': 'https://wcrp-cmip.github.io/CMIP6Plus_CVs/experiment/picontrol'}], 'https://wcrp-cmip.github.io/CMIP6Plus_CVs/experiment/start': [{'@value': 1850}], 'https://wcrp-cmip.github.io/CMIP6Plus_CVs/experiment/sub_experiment': [{'@id': 'https://wcrp-cmip.github.io/CMIP6Plus_CVs/sub-experiment/f2023'}], 'https://wcrp-cmip.github.io/CMIP6Plus_CVs/experiment/tier': [{'@value': 3}], '@type': ['wcrp:experiment', 'https://wcrp-cmip.github.io/CMIP6Plus_CVs/']}, {'https://wcrp-cmip.github.io/CMIP6Plus_CVs/experiment/activity': [{'@id': 'https://wcrp-cmip.github.io/WCRP-universe/activity/lesfmip'}], 'https://wcrp-cmip.github.io/CMIP6Plus_CVs/experiment/description': [{'@value': 'Pre-industrial WMGHG, halocarbon and O3 precursor emissions, other forcings as for the historical experiment'}], 'https://wcrp-cmip.github.io/CMIP6Plus_CVs/experiment/end': [{'@value': 2020}], '@id': 'https://wcrp-cmip.github.io/CMIP6Plus_CVs/experiment/hist-pighg', 'https://wcrp-cmip.github.io/CMIP6Plus_CVs/experiment/label': [{'@value': 'hist-piGHG'}], 'https://wcrp-cmip.github.io/CMIP6Plus_CVs/experiment/min_number_yrs_per_sim': [{'@value': 0}], 'https://wcrp-cmip.github.io/CMIP6Plus_CVs/experiment/model_realms': [{'https://wcrp-cmip.github.io/WCRP-universe/source-type/is_required': [{'@value': False}], '@id': 'https://wcrp-cmip.github.io/WCRP-universe/source-type/aer'}, {'https://wcrp-cmip.github.io/WCRP-universe/source-type/is_required': [{'@value': True}], '@id': 'https://wcrp-cmip.github.io/WCRP-universe/source-type/aogcm'}, {'https://wcrp-cmip.github.io/WCRP-universe/source-type/is_required': [{'@value': False}], '@id': 'https://wcrp-cmip.github.io/WCRP-universe/source-type/bgc'}, {'https://wcrp-cmip.github.io/WCRP-universe/source-type/is_required': [{'@value': False}], '@id': 'https://wcrp-cmip.github.io/WCRP-universe/source-type/chem'}], 'https://wcrp-cmip.github.io/CMIP6Plus_CVs/experiment/parent_activity': [{'@id': 'https://wcrp-cmip.github.io/WCRP-universe/activity/cmip'}], 'https://wcrp-cmip.github.io/CMIP6Plus_CVs/experiment/parent_experiment': [{'@id': 'https://wcrp-cmip.github.io/CMIP6Plus_CVs/experiment/picontrol'}], 'https://wcrp-cmip.github.io/CMIP6Plus_CVs/experiment/start': [{'@value': 1850}], 'https://wcrp-cmip.github.io/CMIP6Plus_CVs/experiment/sub_experiment': [{'@id': 'https://wcrp-cmip.github.io/CMIP6Plus_CVs/sub-experiment/f2023'}], 'https://wcrp-cmip.github.io/CMIP6Plus_CVs/experiment/tier': [{'@value': 3}], '@type': ['wcrp:experiment', 'https://wcrp-cmip.github.io/CMIP6Plus_CVs/']}, {'https://wcrp-cmip.github.io/CMIP6Plus_CVs/experiment/activity': [{'@id': 'https://wcrp-cmip.github.io/WCRP-universe/activity/lesfmip'}], 'https://wcrp-cmip.github.io/CMIP6Plus_CVs/experiment/description': [{'@value': 'historical simulations with 1850 solar forcing'}], 'https://wcrp-cmip.github.io/CMIP6Plus_CVs/experiment/end': [{'@value': 2020}], '@id': 'https://wcrp-cmip.github.io/CMIP6Plus_CVs/experiment/hist-pisol', 'https://wcrp-cmip.github.io/CMIP6Plus_CVs/experiment/label': [{'@value': 'hist-piSol'}], 'https://wcrp-cmip.github.io/CMIP6Plus_CVs/experiment/min_number_yrs_per_sim': [{'@value': 0}], 'https://wcrp-cmip.github.io/CMIP6Plus_CVs/experiment/model_realms': [{'https://wcrp-cmip.github.io/WCRP-universe/source-type/is_required': [{'@value': False}], '@id': 'https://wcrp-cmip.github.io/WCRP-universe/source-type/aer'}, {'https://wcrp-cmip.github.io/WCRP-universe/source-type/is_required': [{'@value': True}], '@id': 'https://wcrp-cmip.github.io/WCRP-universe/source-type/aogcm'}, {'https://wcrp-cmip.github.io/WCRP-universe/source-type/is_required': [{'@value': False}], '@id': 'https://wcrp-cmip.github.io/WCRP-universe/source-type/bgc'}, {'https://wcrp-cmip.github.io/WCRP-universe/source-type/is_required': [{'@value': False}], '@id': 'https://wcrp-cmip.github.io/WCRP-universe/source-type/chem'}], 'https://wcrp-cmip.github.io/CMIP6Plus_CVs/experiment/parent_activity': [{'@id': 'https://wcrp-cmip.github.io/WCRP-universe/activity/cmip'}], 'https://wcrp-cmip.github.io/CMIP6Plus_CVs/experiment/parent_experiment': [{'@id': 'https://wcrp-cmip.github.io/CMIP6Plus_CVs/experiment/picontrol'}], 'https://wcrp-cmip.github.io/CMIP6Plus_CVs/experiment/start': [{'@value': 1850}], 'https://wcrp-cmip.github.io/CMIP6Plus_CVs/experiment/sub_experiment': [{'@id': 'https://wcrp-cmip.github.io/CMIP6Plus_CVs/sub-experiment/f2023'}], 'https://wcrp-cmip.github.io/CMIP6Plus_CVs/experiment/tier': [{'@value': 3}], '@type': ['wcrp:experiment', 'https://wcrp-cmip.github.io/CMIP6Plus_CVs/']}, {'https://wcrp-cmip.github.io/CMIP6Plus_CVs/experiment/activity': [{'@id': 'https://wcrp-cmip.github.io/WCRP-universe/activity/lesfmip'}], 'https://wcrp-cmip.github.io/CMIP6Plus_CVs/experiment/description': [{'@value': 'historical simulations with 1850 total ozone'}], 'https://wcrp-cmip.github.io/CMIP6Plus_CVs/experiment/end': [{'@value': 2020}], '@id': 'https://wcrp-cmip.github.io/CMIP6Plus_CVs/experiment/hist-pitotalo3', 'https://wcrp-cmip.github.io/CMIP6Plus_CVs/experiment/label': [{'@value': 'hist-piTotalO3'}], 'https://wcrp-cmip.github.io/CMIP6Plus_CVs/experiment/min_number_yrs_per_sim': [{'@value': 0}], 'https://wcrp-cmip.github.io/CMIP6Plus_CVs/experiment/model_realms': [{'https://wcrp-cmip.github.io/WCRP-universe/source-type/is_required': [{'@value': False}], '@id': 'https://wcrp-cmip.github.io/WCRP-universe/source-type/aer'}, {'https://wcrp-cmip.github.io/WCRP-universe/source-type/is_required': [{'@value': True}], '@id': 'https://wcrp-cmip.github.io/WCRP-universe/source-type/aogcm'}, {'https://wcrp-cmip.github.io/WCRP-universe/source-type/is_required': [{'@value': False}], '@id': 'https://wcrp-cmip.github.io/WCRP-universe/source-type/bgc'}, {'https://wcrp-cmip.github.io/WCRP-universe/source-type/is_required': [{'@value': False}], '@id': 'https://wcrp-cmip.github.io/WCRP-universe/source-type/chem'}], 'https://wcrp-cmip.github.io/CMIP6Plus_CVs/experiment/parent_activity': [{'@id': 'https://wcrp-cmip.github.io/WCRP-universe/activity/cmip'}], 'https://wcrp-cmip.github.io/CMIP6Plus_CVs/experiment/parent_experiment': [{'@id': 'https://wcrp-cmip.github.io/CMIP6Plus_CVs/experiment/picontrol'}], 'https://wcrp-cmip.github.io/CMIP6Plus_CVs/experiment/start': [{'@value': 1850}], 'https://wcrp-cmip.github.io/CMIP6Plus_CVs/experiment/sub_experiment': [{'@id': 'https://wcrp-cmip.github.io/CMIP6Plus_CVs/sub-experiment/f2023'}], 'https://wcrp-cmip.github.io/CMIP6Plus_CVs/experiment/tier': [{'@value': 3}], '@type': ['wcrp:experiment', 'https://wcrp-cmip.github.io/CMIP6Plus_CVs/']}, {'https://wcrp-cmip.github.io/CMIP6Plus_CVs/experiment/activity': [{'@id': 'https://wcrp-cmip.github.io/WCRP-universe/activity/lesfmip'}], 'https://wcrp-cmip.github.io/CMIP6Plus_CVs/experiment/description': [{'@value': 'historical simulations with 1850 volcanic emissions'}], 'https://wcrp-cmip.github.io/CMIP6Plus_CVs/experiment/end': [{'@value': 2020}], '@id': 'https://wcrp-cmip.github.io/CMIP6Plus_CVs/experiment/hist-pivolc', 'https://wcrp-cmip.github.io/CMIP6Plus_CVs/experiment/label': [{'@value': 'hist-piVolc'}], 'https://wcrp-cmip.github.io/CMIP6Plus_CVs/experiment/min_number_yrs_per_sim': [{'@value': 0}], 'https://wcrp-cmip.github.io/CMIP6Plus_CVs/experiment/model_realms': [{'https://wcrp-cmip.github.io/WCRP-universe/source-type/is_required': [{'@value': False}], '@id': 'https://wcrp-cmip.github.io/WCRP-universe/source-type/aer'}, {'https://wcrp-cmip.github.io/WCRP-universe/source-type/is_required': [{'@value': True}], '@id': 'https://wcrp-cmip.github.io/WCRP-universe/source-type/aogcm'}, {'https://wcrp-cmip.github.io/WCRP-universe/source-type/is_required': [{'@value': False}], '@id': 'https://wcrp-cmip.github.io/WCRP-universe/source-type/bgc'}, {'https://wcrp-cmip.github.io/WCRP-universe/source-type/is_required': [{'@value': False}], '@id': 'https://wcrp-cmip.github.io/WCRP-universe/source-type/chem'}], 'https://wcrp-cmip.github.io/CMIP6Plus_CVs/experiment/parent_activity': [{'@id': 'https://wcrp-cmip.github.io/WCRP-universe/activity/cmip'}], 'https://wcrp-cmip.github.io/CMIP6Plus_CVs/experiment/parent_experiment': [{'@id': 'https://wcrp-cmip.github.io/CMIP6Plus_CVs/experiment/picontrol'}], 'https://wcrp-cmip.github.io/CMIP6Plus_CVs/experiment/start': [{'@value': 1850}], 'https://wcrp-cmip.github.io/CMIP6Plus_CVs/experiment/sub_experiment': [{'@id': 'https://wcrp-cmip.github.io/CMIP6Plus_CVs/sub-experiment/f2023'}], 'https://wcrp-cmip.github.io/CMIP6Plus_CVs/experiment/tier': [{'@value': 3}], '@type': ['wcrp:experiment', 'https://wcrp-cmip.github.io/CMIP6Plus_CVs/']}, {'https://wcrp-cmip.github.io/CMIP6Plus_CVs/experiment/activity': [{'@id': 'https://wcrp-cmip.github.io/WCRP-universe/activity/lesfmip'}], 'https://wcrp-cmip.github.io/CMIP6Plus_CVs/experiment/description': [{'@value': 'Solar-only historical simulations'}], 'https://wcrp-cmip.github.io/CMIP6Plus_CVs/experiment/end': [{'@value': 2020}], '@id': 'https://wcrp-cmip.github.io/CMIP6Plus_CVs/experiment/hist-sol', 'https://wcrp-cmip.github.io/CMIP6Plus_CVs/experiment/label': [{'@value': 'hist-sol'}], 'https://wcrp-cmip.github.io/CMIP6Plus_CVs/experiment/min_number_yrs_per_sim': [{'@value': 0}], 'https://wcrp-cmip.github.io/CMIP6Plus_CVs/experiment/model_realms': [{'https://wcrp-cmip.github.io/WCRP-universe/source-type/is_required': [{'@value': False}], '@id': 'https://wcrp-cmip.github.io/WCRP-universe/source-type/aer'}, {'https://wcrp-cmip.github.io/WCRP-universe/source-type/is_required': [{'@value': True}], '@id': 'https://wcrp-cmip.github.io/WCRP-universe/source-type/aogcm'}, {'https://wcrp-cmip.github.io/WCRP-universe/source-type/is_required': [{'@value': False}], '@id': 'https://wcrp-cmip.github.io/WCRP-universe/source-type/bgc'}, {'https://wcrp-cmip.github.io/WCRP-universe/source-type/is_required': [{'@value': False}], '@id': 'https://wcrp-cmip.github.io/WCRP-universe/source-type/chem'}], 'https://wcrp-cmip.github.io/CMIP6Plus_CVs/experiment/parent_activity': [{'@id': 'https://wcrp-cmip.github.io/WCRP-universe/activity/cmip'}], 'https://wcrp-cmip.github.io/CMIP6Plus_CVs/experiment/parent_experiment': [{'@id': 'https://wcrp-cmip.github.io/CMIP6Plus_CVs/experiment/picontrol'}], 'https://wcrp-cmip.github.io/CMIP6Plus_CVs/experiment/start': [{'@value': 1850}], 'https://wcrp-cmip.github.io/CMIP6Plus_CVs/experiment/sub_experiment': [{'@id': 'https://wcrp-cmip.github.io/CMIP6Plus_CVs/sub-experiment/f2023'}], 'https://wcrp-cmip.github.io/CMIP6Plus_CVs/experiment/tier': [{'@value': 1}], '@type': ['wcrp:experiment', 'https://wcrp-cmip.github.io/CMIP6Plus_CVs/']}, {'https://wcrp-cmip.github.io/CMIP6Plus_CVs/experiment/activity': [{'@id': 'https://wcrp-cmip.github.io/WCRP-universe/activity/lesfmip'}], 'https://wcrp-cmip.github.io/CMIP6Plus_CVs/experiment/description': [{'@value': 'Ozone-only historical simulations'}], 'https://wcrp-cmip.github.io/CMIP6Plus_CVs/experiment/end': [{'@value': 2020}], '@id': 'https://wcrp-cmip.github.io/CMIP6Plus_CVs/experiment/hist-totalo3', 'https://wcrp-cmip.github.io/CMIP6Plus_CVs/experiment/label': [{'@value': 'hist-totalO3'}], 'https://wcrp-cmip.github.io/CMIP6Plus_CVs/experiment/min_number_yrs_per_sim': [{'@value': 0}], 'https://wcrp-cmip.github.io/CMIP6Plus_CVs/experiment/model_realms': [{'https://wcrp-cmip.github.io/WCRP-universe/source-type/is_required': [{'@value': False}], '@id': 'https://wcrp-cmip.github.io/WCRP-universe/source-type/aer'}, {'https://wcrp-cmip.github.io/WCRP-universe/source-type/is_required': [{'@value': True}], '@id': 'https://wcrp-cmip.github.io/WCRP-universe/source-type/aogcm'}, {'https://wcrp-cmip.github.io/WCRP-universe/source-type/is_required': [{'@value': False}], '@id': 'https://wcrp-cmip.github.io/WCRP-universe/source-type/bgc'}, {'https://wcrp-cmip.github.io/WCRP-universe/source-type/is_required': [{'@value': False}], '@id': 'https://wcrp-cmip.github.io/WCRP-universe/source-type/chem'}], 'https://wcrp-cmip.github.io/CMIP6Plus_CVs/experiment/parent_activity': [{'@id': 'https://wcrp-cmip.github.io/WCRP-universe/activity/cmip'}], 'https://wcrp-cmip.github.io/CMIP6Plus_CVs/experiment/parent_experiment': [{'@id': 'https://wcrp-cmip.github.io/CMIP6Plus_CVs/experiment/picontrol'}], 'https://wcrp-cmip.github.io/CMIP6Plus_CVs/experiment/start': [{'@value': 1850}], 'https://wcrp-cmip.github.io/CMIP6Plus_CVs/experiment/sub_experiment': [{'@id': 'https://wcrp-cmip.github.io/CMIP6Plus_CVs/sub-experiment/f2023'}], 'https://wcrp-cmip.github.io/CMIP6Plus_CVs/experiment/tier': [{'@value': 1}], '@type': ['wcrp:experiment', 'https://wcrp-cmip.github.io/CMIP6Plus_CVs/']}, {'https://wcrp-cmip.github.io/CMIP6Plus_CVs/experiment/activity': [{'@id': 'https://wcrp-cmip.github.io/WCRP-universe/activity/lesfmip'}], 'https://wcrp-cmip.github.io/CMIP6Plus_CVs/experiment/description': [{'@value': 'Volcanic-only historical simulations'}], 'https://wcrp-cmip.github.io/CMIP6Plus_CVs/experiment/end': [{'@value': 2020}], '@id': 'https://wcrp-cmip.github.io/CMIP6Plus_CVs/experiment/hist-volc', 'https://wcrp-cmip.github.io/CMIP6Plus_CVs/experiment/label': [{'@value': 'hist-volc'}], 'https://wcrp-cmip.github.io/CMIP6Plus_CVs/experiment/min_number_yrs_per_sim': [{'@value': 0}], 'https://wcrp-cmip.github.io/CMIP6Plus_CVs/experiment/model_realms': [{'https://wcrp-cmip.github.io/WCRP-universe/source-type/is_required': [{'@value': False}], '@id': 'https://wcrp-cmip.github.io/WCRP-universe/source-type/aer'}, {'https://wcrp-cmip.github.io/WCRP-universe/source-type/is_required': [{'@value': True}], '@id': 'https://wcrp-cmip.github.io/WCRP-universe/source-type/aogcm'}, {'https://wcrp-cmip.github.io/WCRP-universe/source-type/is_required': [{'@value': False}], '@id': 'https://wcrp-cmip.github.io/WCRP-universe/source-type/bgc'}, {'https://wcrp-cmip.github.io/WCRP-universe/source-type/is_required': [{'@value': False}], '@id': 'https://wcrp-cmip.github.io/WCRP-universe/source-type/chem'}], 'https://wcrp-cmip.github.io/CMIP6Plus_CVs/experiment/parent_activity': [{'@id': 'https://wcrp-cmip.github.io/WCRP-universe/activity/cmip'}], 'https://wcrp-cmip.github.io/CMIP6Plus_CVs/experiment/parent_experiment': [{'@id': 'https://wcrp-cmip.github.io/CMIP6Plus_CVs/experiment/picontrol'}], 'https://wcrp-cmip.github.io/CMIP6Plus_CVs/experiment/start': [{'@value': 1850}], 'https://wcrp-cmip.github.io/CMIP6Plus_CVs/experiment/sub_experiment': [{'@id': 'https://wcrp-cmip.github.io/CMIP6Plus_CVs/sub-experiment/f2023'}], 'https://wcrp-cmip.github.io/CMIP6Plus_CVs/experiment/tier': [{'@value': 1}], '@type': ['wcrp:experiment', 'https://wcrp-cmip.github.io/CMIP6Plus_CVs/']}, {'https://wcrp-cmip.github.io/CMIP6Plus_CVs/experiment/activity': [{'@id': 'https://wcrp-cmip.github.io/WCRP-universe/activity/cmip'}], 'https://wcrp-cmip.github.io/CMIP6Plus_CVs/experiment/description': [{'@value': 'CMIP6 historical'}], 'https://wcrp-cmip.github.io/CMIP6Plus_CVs/experiment/end': [{'@value': 2014}], '@id': 'https://wcrp-cmip.github.io/CMIP6Plus_CVs/experiment/historical', 'https://wcrp-cmip.github.io/CMIP6Plus_CVs/experiment/label': [{'@value': 'historical'}], 'https://wcrp-cmip.github.io/CMIP6Plus_CVs/experiment/min_number_yrs_per_sim': [{'@value': 165}], 'https://wcrp-cmip.github.io/CMIP6Plus_CVs/experiment/model_realms': [{'https://wcrp-cmip.github.io/WCRP-universe/source-type/is_required': [{'@value': False}], '@id': 'https://wcrp-cmip.github.io/WCRP-universe/source-type/aer'}, {'https://wcrp-cmip.github.io/WCRP-universe/source-type/is_required': [{'@value': True}], '@id': 'https://wcrp-cmip.github.io/WCRP-universe/source-type/aogcm'}, {'https://wcrp-cmip.github.io/WCRP-universe/source-type/is_required': [{'@value': False}], '@id': 'https://wcrp-cmip.github.io/WCRP-universe/source-type/bgc'}, {'https://wcrp-cmip.github.io/WCRP-universe/source-type/is_required': [{'@value': False}], '@id': 'https://wcrp-cmip.github.io/WCRP-universe/source-type/chem'}], 'https://wcrp-cmip.github.io/CMIP6Plus_CVs/experiment/parent_activity': [{'@id': 'https://wcrp-cmip.github.io/WCRP-universe/activity/cmip'}], 'https://wcrp-cmip.github.io/CMIP6Plus_CVs/experiment/parent_experiment': [{'@id': 'https://wcrp-cmip.github.io/CMIP6Plus_CVs/experiment/picontrol'}], 'https://wcrp-cmip.github.io/CMIP6Plus_CVs/experiment/start': [{'@value': 1850}], 'https://wcrp-cmip.github.io/CMIP6Plus_CVs/experiment/sub_experiment': [{'@id': 'https://wcrp-cmip.github.io/CMIP6Plus_CVs/sub-experiment/none'}], 'https://wcrp-cmip.github.io/CMIP6Plus_CVs/experiment/tier': [{'@value': 1}], '@type': ['wcrp:experiment', 'https://wcrp-cmip.github.io/CMIP6Plus_CVs/']}, {'https://wcrp-cmip.github.io/CMIP6Plus_CVs/experiment/activity': [{'@id': 'https://wcrp-cmip.github.io/WCRP-universe/activity/ramip'}], 'https://wcrp-cmip.github.io/CMIP6Plus_CVs/experiment/description': [{'@value': ''}], 'https://wcrp-cmip.github.io/CMIP6Plus_CVs/experiment/end': [{'@value': '2080'}], 'https://wcrp-cmip.github.io/CMIP6Plus_CVs/experiment/experiment_description': [{'@value': 'pre-industrial climatological SSTs and forcing, but with 2050 anthropogenic emissions. Aerosol and precursor emissions, including NH3 and NOx, are taken from SSP1-2.6, while all other anthropogenic emissions follow SSP3-7.0.'}], '@id': 'https://wcrp-cmip.github.io/CMIP6Plus_CVs/experiment/piclim-370-126aer-nh3nox', 'https://wcrp-cmip.github.io/CMIP6Plus_CVs/experiment/label': [{'@value': 'piClim-370-126aer_nh3nox'}], 'https://wcrp-cmip.github.io/CMIP6Plus_CVs/experiment/min_number_yrs_per_sim': [{'@value': 30}], 'https://wcrp-cmip.github.io/CMIP6Plus_CVs/experiment/model_realms': [{'https://wcrp-cmip.github.io/WCRP-universe/source-type/is_required': [{'@value': True}], '@id': 'https://wcrp-cmip.github.io/WCRP-universe/source-type/aer'}, {'https://wcrp-cmip.github.io/WCRP-universe/source-type/is_required': [{'@value': True}], '@id': 'https://wcrp-cmip.github.io/WCRP-universe/source-type/agcm'}, {'https://wcrp-cmip.github.io/WCRP-universe/source-type/is_required': [{'@value': False}], '@id': 'https://wcrp-cmip.github.io/WCRP-universe/source-type/bgc'}, {'https://wcrp-cmip.github.io/WCRP-universe/source-type/is_required': [{'@value': False}], '@id': 'https://wcrp-cmip.github.io/WCRP-universe/source-type/chem'}], 'https://wcrp-cmip.github.io/CMIP6Plus_CVs/experiment/parent_activity': [{'@id': 'https://wcrp-cmip.github.io/WCRP-universe/activity/cmip'}], 'https://wcrp-cmip.github.io/CMIP6Plus_CVs/experiment/parent_experiment': [{'@id': 'https://wcrp-cmip.github.io/CMIP6Plus_CVs/experiment/picontrol'}], 'https://wcrp-cmip.github.io/CMIP6Plus_CVs/experiment/start': [{'@value': '2050'}], 'https://wcrp-cmip.github.io/CMIP6Plus_CVs/experiment/sub_experiment': [{'@id': 'https://wcrp-cmip.github.io/CMIP6Plus_CVs/sub-experiment/none'}], '@type': ['wcrp:experiment', 'https://wcrp-cmip.github.io/CMIP6Plus_CVs/']}, {'https://wcrp-cmip.github.io/CMIP6Plus_CVs/experiment/activity': [{'@id': 'https://wcrp-cmip.github.io/WCRP-universe/activity/ramip'}], 'https://wcrp-cmip.github.io/CMIP6Plus_CVs/experiment/description': [{'@value': ''}], 'https://wcrp-cmip.github.io/CMIP6Plus_CVs/experiment/end': [{'@value': '2080'}], 'https://wcrp-cmip.github.io/CMIP6Plus_CVs/experiment/experiment_description': [{'@value': 'pre-industrial climatological SSTs and forcing, but with 2050 anthropogenic emissions. Aerosol and precursor emissions are taken from SSP1-2.6, while all other anthropogenic emissions follow SSP3-7.0.'}], '@id': 'https://wcrp-cmip.github.io/CMIP6Plus_CVs/experiment/piclim-370-126aer', 'https://wcrp-cmip.github.io/CMIP6Plus_CVs/experiment/label': [{'@value': 'piClim-370-126aer'}], 'https://wcrp-cmip.github.io/CMIP6Plus_CVs/experiment/min_number_yrs_per_sim': [{'@value': 30}], 'https://wcrp-cmip.github.io/CMIP6Plus_CVs/experiment/model_realms': [{'https://wcrp-cmip.github.io/WCRP-universe/source-type/is_required': [{'@value': True}], '@id': 'https://wcrp-cmip.github.io/WCRP-universe/source-type/aer'}, {'https://wcrp-cmip.github.io/WCRP-universe/source-type/is_required': [{'@value': True}], '@id': 'https://wcrp-cmip.github.io/WCRP-universe/source-type/agcm'}, {'https://wcrp-cmip.github.io/WCRP-universe/source-type/is_required': [{'@value': False}], '@id': 'https://wcrp-cmip.github.io/WCRP-universe/source-type/bgc'}, {'https://wcrp-cmip.github.io/WCRP-universe/source-type/is_required': [{'@value': False}], '@id': 'https://wcrp-cmip.github.io/WCRP-universe/source-type/chem'}], 'https://wcrp-cmip.github.io/CMIP6Plus_CVs/experiment/parent_activity': [{'@id': 'https://wcrp-cmip.github.io/WCRP-universe/activity/cmip'}], 'https://wcrp-cmip.github.io/CMIP6Plus_CVs/experiment/parent_experiment': [{'@id': 'https://wcrp-cmip.github.io/CMIP6Plus_CVs/experiment/picontrol'}], 'https://wcrp-cmip.github.io/CMIP6Plus_CVs/experiment/start': [{'@value': '2050'}], 'https://wcrp-cmip.github.io/CMIP6Plus_CVs/experiment/sub_experiment': [{'@id': 'https://wcrp-cmip.github.io/CMIP6Plus_CVs/sub-experiment/none'}], '@type': ['wcrp:experiment', 'https://wcrp-cmip.github.io/CMIP6Plus_CVs/']}, {'https://wcrp-cmip.github.io/CMIP6Plus_CVs/experiment/activity': [{'@id': 'https://wcrp-cmip.github.io/WCRP-universe/activity/ramip'}], 'https://wcrp-cmip.github.io/CMIP6Plus_CVs/experiment/description': [{'@value': ''}], 'https://wcrp-cmip.github.io/CMIP6Plus_CVs/experiment/end': [{'@value': '2080'}], 'https://wcrp-cmip.github.io/CMIP6Plus_CVs/experiment/experiment_description': [{'@value': 'pre-industrial climatological SSTs and forcing, but with 2050 anthropogenic emissions. Aerosol and precursor emissions over Africa and the Middle East are taken from SSP1-2.6, while all other anthropogenic emissions follow SSP3-7.0.'}], '@id': 'https://wcrp-cmip.github.io/CMIP6Plus_CVs/experiment/piclim-370-afr126aer', 'https://wcrp-cmip.github.io/CMIP6Plus_CVs/experiment/label': [{'@value': 'piClim-370-afr126aer'}], 'https://wcrp-cmip.github.io/CMIP6Plus_CVs/experiment/min_number_yrs_per_sim': [{'@value': 30}], 'https://wcrp-cmip.github.io/CMIP6Plus_CVs/experiment/model_realms': [{'https://wcrp-cmip.github.io/WCRP-universe/source-type/is_required': [{'@value': True}], '@id': 'https://wcrp-cmip.github.io/WCRP-universe/source-type/aer'}, {'https://wcrp-cmip.github.io/WCRP-universe/source-type/is_required': [{'@value': True}], '@id': 'https://wcrp-cmip.github.io/WCRP-universe/source-type/agcm'}, {'https://wcrp-cmip.github.io/WCRP-universe/source-type/is_required': [{'@value': False}], '@id': 'https://wcrp-cmip.github.io/WCRP-universe/source-type/bgc'}, {'https://wcrp-cmip.github.io/WCRP-universe/source-type/is_required': [{'@value': False}], '@id': 'https://wcrp-cmip.github.io/WCRP-universe/source-type/chem'}], 'https://wcrp-cmip.github.io/CMIP6Plus_CVs/experiment/parent_activity': [{'@id': 'https://wcrp-cmip.github.io/WCRP-universe/activity/cmip'}], 'https://wcrp-cmip.github.io/CMIP6Plus_CVs/experiment/parent_experiment': [{'@id': 'https://wcrp-cmip.github.io/CMIP6Plus_CVs/experiment/picontrol'}], 'https://wcrp-cmip.github.io/CMIP6Plus_CVs/experiment/start': [{'@value': '2050'}], 'https://wcrp-cmip.github.io/CMIP6Plus_CVs/experiment/sub_experiment': [{'@id': 'https://wcrp-cmip.github.io/CMIP6Plus_CVs/sub-experiment/none'}], '@type': ['wcrp:experiment', 'https://wcrp-cmip.github.io/CMIP6Plus_CVs/']}, {'https://wcrp-cmip.github.io/CMIP6Plus_CVs/experiment/activity': [{'@id': 'https://wcrp-cmip.github.io/WCRP-universe/activity/ramip'}], 'https://wcrp-cmip.github.io/CMIP6Plus_CVs/experiment/description': [{'@value': ''}], 'https://wcrp-cmip.github.io/CMIP6Plus_CVs/experiment/end': [{'@value': '2080'}], 'https://wcrp-cmip.github.io/CMIP6Plus_CVs/experiment/experiment_description': [{'@value': 'pre-industrial climatological SSTs and forcing, but with 2050 anthropogenic emissions. Aerosol and precursor emissions over East Asia are taken from SSP1-2.6, while all other anthropogenic emissions follow SSP3-7.0.'}], '@id': 'https://wcrp-cmip.github.io/CMIP6Plus_CVs/experiment/piclim-370-eas126aer', 'https://wcrp-cmip.github.io/CMIP6Plus_CVs/experiment/label': [{'@value': 'piClim-370-eas126aer'}], 'https://wcrp-cmip.github.io/CMIP6Plus_CVs/experiment/min_number_yrs_per_sim': [{'@value': 30}], 'https://wcrp-cmip.github.io/CMIP6Plus_CVs/experiment/model_realms': [{'https://wcrp-cmip.github.io/WCRP-universe/source-type/is_required': [{'@value': True}], '@id': 'https://wcrp-cmip.github.io/WCRP-universe/source-type/aer'}, {'https://wcrp-cmip.github.io/WCRP-universe/source-type/is_required': [{'@value': True}], '@id': 'https://wcrp-cmip.github.io/WCRP-universe/source-type/agcm'}, {'https://wcrp-cmip.github.io/WCRP-universe/source-type/is_required': [{'@value': False}], '@id': 'https://wcrp-cmip.github.io/WCRP-universe/source-type/bgc'}, {'https://wcrp-cmip.github.io/WCRP-universe/source-type/is_required': [{'@value': False}], '@id': 'https://wcrp-cmip.github.io/WCRP-universe/source-type/chem'}], 'https://wcrp-cmip.github.io/CMIP6Plus_CVs/experiment/parent_activity': [{'@id': 'https://wcrp-cmip.github.io/WCRP-universe/activity/cmip'}], 'https://wcrp-cmip.github.io/CMIP6Plus_CVs/experiment/parent_experiment': [{'@id': 'https://wcrp-cmip.github.io/CMIP6Plus_CVs/experiment/picontrol'}], 'https://wcrp-cmip.github.io/CMIP6Plus_CVs/experiment/start': [{'@value': '2050'}], 'https://wcrp-cmip.github.io/CMIP6Plus_CVs/experiment/sub_experiment': [{'@id': 'https://wcrp-cmip.github.io/CMIP6Plus_CVs/sub-experiment/none'}], '@type': ['wcrp:experiment', 'https://wcrp-cmip.github.io/CMIP6Plus_CVs/']}, {'https://wcrp-cmip.github.io/CMIP6Plus_CVs/experiment/activity': [{'@id': 'https://wcrp-cmip.github.io/WCRP-universe/activity/ramip'}], 'https://wcrp-cmip.github.io/CMIP6Plus_CVs/experiment/description': [{'@value': ''}], 'https://wcrp-cmip.github.io/CMIP6Plus_CVs/experiment/end': [{'@value': '2080'}], 'https://wcrp-cmip.github.io/CMIP6Plus_CVs/experiment/experiment_description': [{'@value': 'pre-industrial climatological SSTs and forcing, but with 2050 anthropogenic emissions. Aerosol and precursor emissions over North America and Europe are taken from SSP1-2.6, while all other anthropogenic emissions follow SSP3-7.0.'}], '@id': 'https://wcrp-cmip.github.io/CMIP6Plus_CVs/experiment/piclim-370-nae126aer', 'https://wcrp-cmip.github.io/CMIP6Plus_CVs/experiment/label': [{'@value': 'piClim-370-nae126aer'}], 'https://wcrp-cmip.github.io/CMIP6Plus_CVs/experiment/min_number_yrs_per_sim': [{'@value': 30}], 'https://wcrp-cmip.github.io/CMIP6Plus_CVs/experiment/model_realms': [{'https://wcrp-cmip.github.io/WCRP-universe/source-type/is_required': [{'@value': True}], '@id': 'https://wcrp-cmip.github.io/WCRP-universe/source-type/aer'}, {'https://wcrp-cmip.github.io/WCRP-universe/source-type/is_required': [{'@value': True}], '@id': 'https://wcrp-cmip.github.io/WCRP-universe/source-type/agcm'}, {'https://wcrp-cmip.github.io/WCRP-universe/source-type/is_required': [{'@value': False}], '@id': 'https://wcrp-cmip.github.io/WCRP-universe/source-type/bgc'}, {'https://wcrp-cmip.github.io/WCRP-universe/source-type/is_required': [{'@value': False}], '@id': 'https://wcrp-cmip.github.io/WCRP-universe/source-type/chem'}], 'https://wcrp-cmip.github.io/CMIP6Plus_CVs/experiment/parent_activity': [{'@id': 'https://wcrp-cmip.github.io/WCRP-universe/activity/cmip'}], 'https://wcrp-cmip.github.io/CMIP6Plus_CVs/experiment/parent_experiment': [{'@id': 'https://wcrp-cmip.github.io/CMIP6Plus_CVs/experiment/picontrol'}], 'https://wcrp-cmip.github.io/CMIP6Plus_CVs/experiment/start': [{'@value': '2050'}], 'https://wcrp-cmip.github.io/CMIP6Plus_CVs/experiment/sub_experiment': [{'@id': 'https://wcrp-cmip.github.io/CMIP6Plus_CVs/sub-experiment/none'}], '@type': ['wcrp:experiment', 'https://wcrp-cmip.github.io/CMIP6Plus_CVs/']}, {'https://wcrp-cmip.github.io/CMIP6Plus_CVs/experiment/activity': [{'@id': 'https://wcrp-cmip.github.io/WCRP-universe/activity/ramip'}], 'https://wcrp-cmip.github.io/CMIP6Plus_CVs/experiment/description': [{'@value': ''}], 'https://wcrp-cmip.github.io/CMIP6Plus_CVs/experiment/end': [{'@value': '2080'}], 'https://wcrp-cmip.github.io/CMIP6Plus_CVs/experiment/experiment_description': [{'@value': 'pre-industrial climatological SSTs and forcing, but with 2050 anthropogenic emissions. Aerosol and precursor emissions over South Asia are taken from SSP1-2.6, while all other anthropogenic emissions follow SSP3-7.0.'}], '@id': 'https://wcrp-cmip.github.io/CMIP6Plus_CVs/experiment/piclim-370-sas126aer', 'https://wcrp-cmip.github.io/CMIP6Plus_CVs/experiment/label': [{'@value': 'piClim-370-sas126aer'}], 'https://wcrp-cmip.github.io/CMIP6Plus_CVs/experiment/min_number_yrs_per_sim': [{'@value': 30}], 'https://wcrp-cmip.github.io/CMIP6Plus_CVs/experiment/model_realms': [{'https://wcrp-cmip.github.io/WCRP-universe/source-type/is_required': [{'@value': True}], '@id': 'https://wcrp-cmip.github.io/WCRP-universe/source-type/aer'}, {'https://wcrp-cmip.github.io/WCRP-universe/source-type/is_required': [{'@value': True}], '@id': 'https://wcrp-cmip.github.io/WCRP-universe/source-type/agcm'}, {'https://wcrp-cmip.github.io/WCRP-universe/source-type/is_required': [{'@value': False}], '@id': 'https://wcrp-cmip.github.io/WCRP-universe/source-type/bgc'}, {'https://wcrp-cmip.github.io/WCRP-universe/source-type/is_required': [{'@value': False}], '@id': 'https://wcrp-cmip.github.io/WCRP-universe/source-type/chem'}], 'https://wcrp-cmip.github.io/CMIP6Plus_CVs/experiment/parent_activity': [{'@id': 'https://wcrp-cmip.github.io/WCRP-universe/activity/cmip'}], 'https://wcrp-cmip.github.io/CMIP6Plus_CVs/experiment/parent_experiment': [{'@id': 'https://wcrp-cmip.github.io/CMIP6Plus_CVs/experiment/picontrol'}], 'https://wcrp-cmip.github.io/CMIP6Plus_CVs/experiment/start': [{'@value': '2050'}], 'https://wcrp-cmip.github.io/CMIP6Plus_CVs/experiment/sub_experiment': [{'@id': 'https://wcrp-cmip.github.io/CMIP6Plus_CVs/sub-experiment/none'}], '@type': ['wcrp:experiment', 'https://wcrp-cmip.github.io/CMIP6Plus_CVs/']}, {'https://wcrp-cmip.github.io/CMIP6Plus_CVs/experiment/activity': [{'@id': 'https://wcrp-cmip.github.io/WCRP-universe/activity/ramip'}], 'https://wcrp-cmip.github.io/CMIP6Plus_CVs/experiment/description': [{'@value': ''}], 'https://wcrp-cmip.github.io/CMIP6Plus_CVs/experiment/end': [{'@value': '2080'}], 'https://wcrp-cmip.github.io/CMIP6Plus_CVs/experiment/experiment_description': [{'@value': 'pre-industrial climatological SSTs and forcing, but with 2050 anthropogenic emissions from SSP3-7.0.'}], '@id': 'https://wcrp-cmip.github.io/CMIP6Plus_CVs/experiment/piclim-370', 'https://wcrp-cmip.github.io/CMIP6Plus_CVs/experiment/label': [{'@value': 'piClim-370'}], 'https://wcrp-cmip.github.io/CMIP6Plus_CVs/experiment/min_number_yrs_per_sim': [{'@value': 30}], 'https://wcrp-cmip.github.io/CMIP6Plus_CVs/experiment/model_realms': [{'https://wcrp-cmip.github.io/WCRP-universe/source-type/is_required': [{'@value': True}], '@id': 'https://wcrp-cmip.github.io/WCRP-universe/source-type/aer'}, {'https://wcrp-cmip.github.io/WCRP-universe/source-type/is_required': [{'@value': True}], '@id': 'https://wcrp-cmip.github.io/WCRP-universe/source-type/agcm'}, {'https://wcrp-cmip.github.io/WCRP-universe/source-type/is_required': [{'@value': False}], '@id': 'https://wcrp-cmip.github.io/WCRP-universe/source-type/bgc'}, {'https://wcrp-cmip.github.io/WCRP-universe/source-type/is_required': [{'@value': False}], '@id': 'https://wcrp-cmip.github.io/WCRP-universe/source-type/chem'}], 'https://wcrp-cmip.github.io/CMIP6Plus_CVs/experiment/parent_activity': [{'@id': 'https://wcrp-cmip.github.io/WCRP-universe/activity/cmip'}], 'https://wcrp-cmip.github.io/CMIP6Plus_CVs/experiment/parent_experiment': [{'@id': 'https://wcrp-cmip.github.io/CMIP6Plus_CVs/experiment/picontrol'}], 'https://wcrp-cmip.github.io/CMIP6Plus_CVs/experiment/start': [{'@value': '2050'}], 'https://wcrp-cmip.github.io/CMIP6Plus_CVs/experiment/sub_experiment': [{'@id': 'https://wcrp-cmip.github.io/CMIP6Plus_CVs/sub-experiment/none'}], '@type': ['wcrp:experiment', 'https://wcrp-cmip.github.io/CMIP6Plus_CVs/']}, {'https://wcrp-cmip.github.io/CMIP6Plus_CVs/experiment/activity': [{'@id': 'https://wcrp-cmip.github.io/WCRP-universe/activity/cmip'}], 'https://wcrp-cmip.github.io/CMIP6Plus_CVs/experiment/description': [{'@value': 'DECK: spin-up portion of the control'}], 'https://wcrp-cmip.github.io/CMIP6Plus_CVs/experiment/end': [{'@value': -999}], '@id': 'https://wcrp-cmip.github.io/CMIP6Plus_CVs/experiment/picontrol-spinup', 'https://wcrp-cmip.github.io/CMIP6Plus_CVs/experiment/label': [{'@value': 'piControl-spinup'}], 'https://wcrp-cmip.github.io/CMIP6Plus_CVs/experiment/min_number_yrs_per_sim': [{'@value': 100}], 'https://wcrp-cmip.github.io/CMIP6Plus_CVs/experiment/model_realms': [{'https://wcrp-cmip.github.io/WCRP-universe/source-type/is_required': [{'@value': False}], '@id': 'https://wcrp-cmip.github.io/WCRP-universe/source-type/aer'}, {'https://wcrp-cmip.github.io/WCRP-universe/source-type/is_required': [{'@value': True}], '@id': 'https://wcrp-cmip.github.io/WCRP-universe/source-type/aogcm'}, {'https://wcrp-cmip.github.io/WCRP-universe/source-type/is_required': [{'@value': False}], '@id': 'https://wcrp-cmip.github.io/WCRP-universe/source-type/bgc'}, {'https://wcrp-cmip.github.io/WCRP-universe/source-type/is_required': [{'@value': False}], '@id': 'https://wcrp-cmip.github.io/WCRP-universe/source-type/chem'}], 'https://wcrp-cmip.github.io/CMIP6Plus_CVs/experiment/parent_activity': [{'@id': 'https://wcrp-cmip.github.io/WCRP-universe/activity/none'}], 'https://wcrp-cmip.github.io/CMIP6Plus_CVs/experiment/parent_experiment': [{'@id': 'https://wcrp-cmip.github.io/CMIP6Plus_CVs/experiment/none'}], 'https://wcrp-cmip.github.io/CMIP6Plus_CVs/experiment/start': [{'@value': -999}], 'https://wcrp-cmip.github.io/CMIP6Plus_CVs/experiment/sub_experiment': [{'@id': 'https://wcrp-cmip.github.io/CMIP6Plus_CVs/sub-experiment/none'}], 'https://wcrp-cmip.github.io/CMIP6Plus_CVs/experiment/tier': [{'@value': 2}], '@type': ['wcrp:experiment', 'https://wcrp-cmip.github.io/CMIP6Plus_CVs/']}, {'https://wcrp-cmip.github.io/CMIP6Plus_CVs/experiment/activity': [{'@id': 'https://wcrp-cmip.github.io/WCRP-universe/activity/cmip'}], 'https://wcrp-cmip.github.io/CMIP6Plus_CVs/experiment/description': [{'@value': 'DECK: control'}], 'https://wcrp-cmip.github.io/CMIP6Plus_CVs/experiment/end': [{'@value': -999}], '@id': 'https://wcrp-cmip.github.io/CMIP6Plus_CVs/experiment/picontrol', 'https://wcrp-cmip.github.io/CMIP6Plus_CVs/experiment/label': [{'@value': 'piControl'}], 'https://wcrp-cmip.github.io/CMIP6Plus_CVs/experiment/min_number_yrs_per_sim': [{'@value': 500}], 'https://wcrp-cmip.github.io/CMIP6Plus_CVs/experiment/model_realms': [{'https://wcrp-cmip.github.io/WCRP-universe/source-type/is_required': [{'@value': False}], '@id': 'https://wcrp-cmip.github.io/WCRP-universe/source-type/aer'}, {'https://wcrp-cmip.github.io/WCRP-universe/source-type/is_required': [{'@value': True}], '@id': 'https://wcrp-cmip.github.io/WCRP-universe/source-type/aogcm'}, {'https://wcrp-cmip.github.io/WCRP-universe/source-type/is_required': [{'@value': False}], '@id': 'https://wcrp-cmip.github.io/WCRP-universe/source-type/bgc'}, {'https://wcrp-cmip.github.io/WCRP-universe/source-type/is_required': [{'@value': False}], '@id': 'https://wcrp-cmip.github.io/WCRP-universe/source-type/chem'}], 'https://wcrp-cmip.github.io/CMIP6Plus_CVs/experiment/parent_activity': [{'@id': 'https://wcrp-cmip.github.io/WCRP-universe/activity/cmip'}], 'https://wcrp-cmip.github.io/CMIP6Plus_CVs/experiment/parent_experiment': [{'@id': 'https://wcrp-cmip.github.io/CMIP6Plus_CVs/experiment/picontrol-spinup'}], 'https://wcrp-cmip.github.io/CMIP6Plus_CVs/experiment/start': [{'@value': -999}], 'https://wcrp-cmip.github.io/CMIP6Plus_CVs/experiment/sub_experiment': [{'@id': 'https://wcrp-cmip.github.io/CMIP6Plus_CVs/sub-experiment/none'}], 'https://wcrp-cmip.github.io/CMIP6Plus_CVs/experiment/tier': [{'@value': 1}], '@type': ['wcrp:experiment', 'https://wcrp-cmip.github.io/CMIP6Plus_CVs/']}, {'https://wcrp-cmip.github.io/CMIP6Plus_CVs/experiment/activity': [{'@id': 'https://wcrp-cmip.github.io/WCRP-universe/activity/ramip'}], 'https://wcrp-cmip.github.io/CMIP6Plus_CVs/experiment/description': [{'@value': 'SSP3-7.0 anthropogenic emissions, but anthropogenic aerosol and precursor emissions, including NH3 and NOx, taken from SSP1-2.6.'}], 'https://wcrp-cmip.github.io/CMIP6Plus_CVs/experiment/end': [{'@value': '2051'}], 'https://wcrp-cmip.github.io/CMIP6Plus_CVs/experiment/experiment_description': [{'@value': 'SSP3-7.0 forcing, but with SSP1-2.6 anthropogenic aerosol and precursor emissions, including NH3 and NOx.'}], '@id': 'https://wcrp-cmip.github.io/CMIP6Plus_CVs/experiment/ssp370-126aer-nh3nox', 'https://wcrp-cmip.github.io/CMIP6Plus_CVs/experiment/label': [{'@value': 'ssp370-126aer_nh3nox'}], 'https://wcrp-cmip.github.io/CMIP6Plus_CVs/experiment/min_number_yrs_per_sim': [{'@value': 37}], 'https://wcrp-cmip.github.io/CMIP6Plus_CVs/experiment/model_realms': [{'https://wcrp-cmip.github.io/WCRP-universe/source-type/is_required': [{'@value': False}], '@id': 'https://wcrp-cmip.github.io/WCRP-universe/source-type/aer'}, {'https://wcrp-cmip.github.io/WCRP-universe/source-type/is_required': [{'@value': True}], '@id': 'https://wcrp-cmip.github.io/WCRP-universe/source-type/aogcm'}, {'https://wcrp-cmip.github.io/WCRP-universe/source-type/is_required': [{'@value': False}], '@id': 'https://wcrp-cmip.github.io/WCRP-universe/source-type/bgc'}, {'https://wcrp-cmip.github.io/WCRP-universe/source-type/is_required': [{'@value': False}], '@id': 'https://wcrp-cmip.github.io/WCRP-universe/source-type/chem'}], 'https://wcrp-cmip.github.io/CMIP6Plus_CVs/experiment/parent_activity': [{'@id': 'https://wcrp-cmip.github.io/WCRP-universe/activity/cmip'}], 'https://wcrp-cmip.github.io/CMIP6Plus_CVs/experiment/parent_experiment': [{'@id': 'https://wcrp-cmip.github.io/CMIP6Plus_CVs/experiment/historical'}], 'https://wcrp-cmip.github.io/CMIP6Plus_CVs/experiment/start': [{'@value': '2015'}], 'https://wcrp-cmip.github.io/CMIP6Plus_CVs/experiment/sub_experiment': [{'@id': 'https://wcrp-cmip.github.io/CMIP6Plus_CVs/sub-experiment/none'}], 'https://wcrp-cmip.github.io/CMIP6Plus_CVs/experiment/tier': [{'@value': '2'}], '@type': ['wcrp:experiment', 'https://wcrp-cmip.github.io/CMIP6Plus_CVs/']}, {'https://wcrp-cmip.github.io/CMIP6Plus_CVs/experiment/activity': [{'@id': 'https://wcrp-cmip.github.io/WCRP-universe/activity/ramip'}], 'https://wcrp-cmip.github.io/CMIP6Plus_CVs/experiment/description': [{'@value': 'SSP3-7.0 anthropogenic emissions, but with anthropogenic aerosol and precursor emissions taken from SSP1-2.6.'}], 'https://wcrp-cmip.github.io/CMIP6Plus_CVs/experiment/end': [{'@value': '2051'}], 'https://wcrp-cmip.github.io/CMIP6Plus_CVs/experiment/experiment_description': [{'@value': 'SSP3-7.0 forcing, but with SSP1-2.6 anthropogenic aerosol and precursor emissions'}], '@id': 'https://wcrp-cmip.github.io/CMIP6Plus_CVs/experiment/ssp370-126aer', 'https://wcrp-cmip.github.io/CMIP6Plus_CVs/experiment/label': [{'@value': 'ssp370-126aer'}], 'https://wcrp-cmip.github.io/CMIP6Plus_CVs/experiment/min_number_yrs_per_sim': [{'@value': 37}], 'https://wcrp-cmip.github.io/CMIP6Plus_CVs/experiment/model_realms': [{'https://wcrp-cmip.github.io/WCRP-universe/source-type/is_required': [{'@value': False}], '@id': 'https://wcrp-cmip.github.io/WCRP-universe/source-type/aer'}, {'https://wcrp-cmip.github.io/WCRP-universe/source-type/is_required': [{'@value': True}], '@id': 'https://wcrp-cmip.github.io/WCRP-universe/source-type/aogcm'}, {'https://wcrp-cmip.github.io/WCRP-universe/source-type/is_required': [{'@value': False}], '@id': 'https://wcrp-cmip.github.io/WCRP-universe/source-type/bgc'}, {'https://wcrp-cmip.github.io/WCRP-universe/source-type/is_required': [{'@value': False}], '@id': 'https://wcrp-cmip.github.io/WCRP-universe/source-type/chem'}], 'https://wcrp-cmip.github.io/CMIP6Plus_CVs/experiment/parent_activity': [{'@id': 'https://wcrp-cmip.github.io/WCRP-universe/activity/cmip'}], 'https://wcrp-cmip.github.io/CMIP6Plus_CVs/experiment/parent_experiment': [{'@id': 'https://wcrp-cmip.github.io/CMIP6Plus_CVs/experiment/historical'}], 'https://wcrp-cmip.github.io/CMIP6Plus_CVs/experiment/start': [{'@value': '2015'}], 'https://wcrp-cmip.github.io/CMIP6Plus_CVs/experiment/sub_experiment': [{'@id': 'https://wcrp-cmip.github.io/CMIP6Plus_CVs/sub-experiment/none'}], 'https://wcrp-cmip.github.io/CMIP6Plus_CVs/experiment/tier': [{'@value': 1}], '@type': ['wcrp:experiment', 'https://wcrp-cmip.github.io/CMIP6Plus_CVs/']}, {'https://wcrp-cmip.github.io/CMIP6Plus_CVs/experiment/activity': [{'@id': 'https://wcrp-cmip.github.io/WCRP-universe/activity/ramip'}], 'https://wcrp-cmip.github.io/CMIP6Plus_CVs/experiment/description': [{'@value': 'SSP3-7.0 anthropogenic emissions, but with African and Middle Eastern anthropogenic aerosol and precursor emissions taken from SSP1-2.6. Africa and the Middle East is the region bounded by 20W, 60E, 35S and 35N.'}], 'https://wcrp-cmip.github.io/CMIP6Plus_CVs/experiment/end': [{'@value': '2051'}], 'https://wcrp-cmip.github.io/CMIP6Plus_CVs/experiment/experiment_description': [{'@value': 'SSP3-7.0 forcing, but with SSP1-2.6 anthropogenic aerosol and precursor emissions over Africa and the Middle East'}], '@id': 'https://wcrp-cmip.github.io/CMIP6Plus_CVs/experiment/ssp370-afr126aer', 'https://wcrp-cmip.github.io/CMIP6Plus_CVs/experiment/label': [{'@value': 'ssp370-afr126aer'}], 'https://wcrp-cmip.github.io/CMIP6Plus_CVs/experiment/min_number_yrs_per_sim': [{'@value': 37}], 'https://wcrp-cmip.github.io/CMIP6Plus_CVs/experiment/model_realms': [{'https://wcrp-cmip.github.io/WCRP-universe/source-type/is_required': [{'@value': False}], '@id': 'https://wcrp-cmip.github.io/WCRP-universe/source-type/aer'}, {'https://wcrp-cmip.github.io/WCRP-universe/source-type/is_required': [{'@value': True}], '@id': 'https://wcrp-cmip.github.io/WCRP-universe/source-type/aogcm'}, {'https://wcrp-cmip.github.io/WCRP-universe/source-type/is_required': [{'@value': False}], '@id': 'https://wcrp-cmip.github.io/WCRP-universe/source-type/bgc'}, {'https://wcrp-cmip.github.io/WCRP-universe/source-type/is_required': [{'@value': False}], '@id': 'https://wcrp-cmip.github.io/WCRP-universe/source-type/chem'}], 'https://wcrp-cmip.github.io/CMIP6Plus_CVs/experiment/parent_activity': [{'@id': 'https://wcrp-cmip.github.io/WCRP-universe/activity/cmip'}], 'https://wcrp-cmip.github.io/CMIP6Plus_CVs/experiment/parent_experiment': [{'@id': 'https://wcrp-cmip.github.io/CMIP6Plus_CVs/experiment/historical'}], 'https://wcrp-cmip.github.io/CMIP6Plus_CVs/experiment/start': [{'@value': '2015'}], 'https://wcrp-cmip.github.io/CMIP6Plus_CVs/experiment/sub_experiment': [{'@id': 'https://wcrp-cmip.github.io/CMIP6Plus_CVs/sub-experiment/none'}], 'https://wcrp-cmip.github.io/CMIP6Plus_CVs/experiment/tier': [{'@value': 1}], '@type': ['wcrp:experiment', 'https://wcrp-cmip.github.io/CMIP6Plus_CVs/']}, {'https://wcrp-cmip.github.io/CMIP6Plus_CVs/experiment/activity': [{'@id': 'https://wcrp-cmip.github.io/WCRP-universe/activity/ramip'}], 'https://wcrp-cmip.github.io/CMIP6Plus_CVs/experiment/description': [{'@value': 'SSP3-7.0 anthropogenic emissions, but with Asian anthropogenic aerosol and precursor emissions taken from SSP1-2.6. Asia is defined as the combination of the East Asian and South Asian regions used in ssp370-eas126aer and ssp370-sas126aer. '}], 'https://wcrp-cmip.github.io/CMIP6Plus_CVs/experiment/end': [{'@value': '2051'}], 'https://wcrp-cmip.github.io/CMIP6Plus_CVs/experiment/experiment_description': [{'@value': 'SSP3-7.0 forcing, but with SSP1-2.6 anthropogenic aerosol and precursor emissions over Asia.'}], '@id': 'https://wcrp-cmip.github.io/CMIP6Plus_CVs/experiment/ssp370-asia126aer', 'https://wcrp-cmip.github.io/CMIP6Plus_CVs/experiment/label': [{'@value': 'ssp370-asia126aer'}], 'https://wcrp-cmip.github.io/CMIP6Plus_CVs/experiment/min_number_yrs_per_sim': [{'@value': 37}], 'https://wcrp-cmip.github.io/CMIP6Plus_CVs/experiment/model_realms': [{'https://wcrp-cmip.github.io/WCRP-universe/source-type/is_required': [{'@value': False}], '@id': 'https://wcrp-cmip.github.io/WCRP-universe/source-type/aer'}, {'https://wcrp-cmip.github.io/WCRP-universe/source-type/is_required': [{'@value': True}], '@id': 'https://wcrp-cmip.github.io/WCRP-universe/source-type/aogcm'}, {'https://wcrp-cmip.github.io/WCRP-universe/source-type/is_required': [{'@value': False}], '@id': 'https://wcrp-cmip.github.io/WCRP-universe/source-type/bgc'}, {'https://wcrp-cmip.github.io/WCRP-universe/source-type/is_required': [{'@value': False}], '@id': 'https://wcrp-cmip.github.io/WCRP-universe/source-type/chem'}], 'https://wcrp-cmip.github.io/CMIP6Plus_CVs/experiment/parent_activity': [{'@id': 'https://wcrp-cmip.github.io/WCRP-universe/activity/cmip'}], 'https://wcrp-cmip.github.io/CMIP6Plus_CVs/experiment/parent_experiment': [{'@id': 'https://wcrp-cmip.github.io/CMIP6Plus_CVs/experiment/historical'}], 'https://wcrp-cmip.github.io/CMIP6Plus_CVs/experiment/start': [{'@value': '2015'}], 'https://wcrp-cmip.github.io/CMIP6Plus_CVs/experiment/sub_experiment': [{'@id': 'https://wcrp-cmip.github.io/CMIP6Plus_CVs/sub-experiment/none'}], 'https://wcrp-cmip.github.io/CMIP6Plus_CVs/experiment/tier': [{'@value': '2'}], '@type': ['wcrp:experiment', 'https://wcrp-cmip.github.io/CMIP6Plus_CVs/']}, {'https://wcrp-cmip.github.io/CMIP6Plus_CVs/experiment/activity': [{'@id': 'https://wcrp-cmip.github.io/WCRP-universe/activity/ramip'}], 'https://wcrp-cmip.github.io/CMIP6Plus_CVs/experiment/description': [{'@value': 'SSP3-7.0 anthropogenic emissions, but with East Asian anthropogenic aerosol and precursor emissions taken from SSP1-2.6. East Asia is the region bounded by 95 and 133E and 20 and 53N.'}], 'https://wcrp-cmip.github.io/CMIP6Plus_CVs/experiment/end': [{'@value': '2051'}], 'https://wcrp-cmip.github.io/CMIP6Plus_CVs/experiment/experiment_description': [{'@value': 'SSP3-7.0 forcing, but with SSP1-2.6 anthropogenic aerosol and precursor emissions over East Asia'}], '@id': 'https://wcrp-cmip.github.io/CMIP6Plus_CVs/experiment/ssp370-eas126aer', 'https://wcrp-cmip.github.io/CMIP6Plus_CVs/experiment/label': [{'@value': 'ssp370-eas126aer'}], 'https://wcrp-cmip.github.io/CMIP6Plus_CVs/experiment/min_number_yrs_per_sim': [{'@value': 37}], 'https://wcrp-cmip.github.io/CMIP6Plus_CVs/experiment/model_realms': [{'https://wcrp-cmip.github.io/WCRP-universe/source-type/is_required': [{'@value': False}], '@id': 'https://wcrp-cmip.github.io/WCRP-universe/source-type/aer'}, {'https://wcrp-cmip.github.io/WCRP-universe/source-type/is_required': [{'@value': True}], '@id': 'https://wcrp-cmip.github.io/WCRP-universe/source-type/aogcm'}, {'https://wcrp-cmip.github.io/WCRP-universe/source-type/is_required': [{'@value': False}], '@id': 'https://wcrp-cmip.github.io/WCRP-universe/source-type/bgc'}, {'https://wcrp-cmip.github.io/WCRP-universe/source-type/is_required': [{'@value': False}], '@id': 'https://wcrp-cmip.github.io/WCRP-universe/source-type/chem'}], 'https://wcrp-cmip.github.io/CMIP6Plus_CVs/experiment/parent_activity': [{'@id': 'https://wcrp-cmip.github.io/WCRP-universe/activity/cmip'}], 'https://wcrp-cmip.github.io/CMIP6Plus_CVs/experiment/parent_experiment': [{'@id': 'https://wcrp-cmip.github.io/CMIP6Plus_CVs/experiment/historical'}], 'https://wcrp-cmip.github.io/CMIP6Plus_CVs/experiment/start': [{'@value': '2015'}], 'https://wcrp-cmip.github.io/CMIP6Plus_CVs/experiment/sub_experiment': [{'@id': 'https://wcrp-cmip.github.io/CMIP6Plus_CVs/sub-experiment/none'}], 'https://wcrp-cmip.github.io/CMIP6Plus_CVs/experiment/tier': [{'@value': 1}], '@type': ['wcrp:experiment', 'https://wcrp-cmip.github.io/CMIP6Plus_CVs/']}, {'https://wcrp-cmip.github.io/CMIP6Plus_CVs/experiment/activity': [{'@id': 'https://wcrp-cmip.github.io/WCRP-universe/activity/ramip'}], 'https://wcrp-cmip.github.io/CMIP6Plus_CVs/experiment/description': [{'@value': 'SSP3-7.0 anthropogenic emissions, but with North American and European anthropogenic aerosol and precursor emissions taken from SSP1-2.6. North America and Europe are the regions bounded by 150W, 45W, 25N and 70N, and 20W, 45E, 35N and 70N.'}], 'https://wcrp-cmip.github.io/CMIP6Plus_CVs/experiment/end': [{'@value': '2051'}], 'https://wcrp-cmip.github.io/CMIP6Plus_CVs/experiment/experiment_description': [{'@value': 'SSP3-7.0 forcing, but with SSP1-2.6 anthropogenic aerosol and precursor emissions over North America and Europe'}], '@id': 'https://wcrp-cmip.github.io/CMIP6Plus_CVs/experiment/ssp370-nae126aer', 'https://wcrp-cmip.github.io/CMIP6Plus_CVs/experiment/label': [{'@value': 'ssp370-nae126aer'}], 'https://wcrp-cmip.github.io/CMIP6Plus_CVs/experiment/min_number_yrs_per_sim': [{'@value': 37}], 'https://wcrp-cmip.github.io/CMIP6Plus_CVs/experiment/model_realms': [{'https://wcrp-cmip.github.io/WCRP-universe/source-type/is_required': [{'@value': False}], '@id': 'https://wcrp-cmip.github.io/WCRP-universe/source-type/aer'}, {'https://wcrp-cmip.github.io/WCRP-universe/source-type/is_required': [{'@value': True}], '@id': 'https://wcrp-cmip.github.io/WCRP-universe/source-type/aogcm'}, {'https://wcrp-cmip.github.io/WCRP-universe/source-type/is_required': [{'@value': False}], '@id': 'https://wcrp-cmip.github.io/WCRP-universe/source-type/bgc'}, {'https://wcrp-cmip.github.io/WCRP-universe/source-type/is_required': [{'@value': False}], '@id': 'https://wcrp-cmip.github.io/WCRP-universe/source-type/chem'}], 'https://wcrp-cmip.github.io/CMIP6Plus_CVs/experiment/parent_activity': [{'@id': 'https://wcrp-cmip.github.io/WCRP-universe/activity/cmip'}], 'https://wcrp-cmip.github.io/CMIP6Plus_CVs/experiment/parent_experiment': [{'@id': 'https://wcrp-cmip.github.io/CMIP6Plus_CVs/experiment/historical'}], 'https://wcrp-cmip.github.io/CMIP6Plus_CVs/experiment/start': [{'@value': '2015'}], 'https://wcrp-cmip.github.io/CMIP6Plus_CVs/experiment/sub_experiment': [{'@id': 'https://wcrp-cmip.github.io/CMIP6Plus_CVs/sub-experiment/none'}], 'https://wcrp-cmip.github.io/CMIP6Plus_CVs/experiment/tier': [{'@value': 1}], '@type': ['wcrp:experiment', 'https://wcrp-cmip.github.io/CMIP6Plus_CVs/']}, {'https://wcrp-cmip.github.io/CMIP6Plus_CVs/experiment/activity': [{'@id': 'https://wcrp-cmip.github.io/WCRP-universe/activity/ramip'}], 'https://wcrp-cmip.github.io/CMIP6Plus_CVs/experiment/description': [{'@value': 'SSP3-7.0 anthropogenic emissions, but with sub-Saharan African black carbon and organic carbon emissions taken from SSP1-2.6. Sub-Saharan Africa is the region bounded by 20W, 50E, 35S, and 12N'}], 'https://wcrp-cmip.github.io/CMIP6Plus_CVs/experiment/end': [{'@value': '2051'}], 'https://wcrp-cmip.github.io/CMIP6Plus_CVs/experiment/experiment_description': [{'@value': 'SSP3-7.0 forcing, but with SSP1-2.6 black carbon and organic carbon emissions over sub-Saharan Africa.'}], '@id': 'https://wcrp-cmip.github.io/CMIP6Plus_CVs/experiment/ssp370-saf126ca', 'https://wcrp-cmip.github.io/CMIP6Plus_CVs/experiment/label': [{'@value': 'ssp370-saf126ca'}], 'https://wcrp-cmip.github.io/CMIP6Plus_CVs/experiment/min_number_yrs_per_sim': [{'@value': 37}], 'https://wcrp-cmip.github.io/CMIP6Plus_CVs/experiment/model_realms': [{'https://wcrp-cmip.github.io/WCRP-universe/source-type/is_required': [{'@value': False}], '@id': 'https://wcrp-cmip.github.io/WCRP-universe/source-type/aer'}, {'https://wcrp-cmip.github.io/WCRP-universe/source-type/is_required': [{'@value': True}], '@id': 'https://wcrp-cmip.github.io/WCRP-universe/source-type/aogcm'}, {'https://wcrp-cmip.github.io/WCRP-universe/source-type/is_required': [{'@value': False}], '@id': 'https://wcrp-cmip.github.io/WCRP-universe/source-type/bgc'}, {'https://wcrp-cmip.github.io/WCRP-universe/source-type/is_required': [{'@value': False}], '@id': 'https://wcrp-cmip.github.io/WCRP-universe/source-type/chem'}], 'https://wcrp-cmip.github.io/CMIP6Plus_CVs/experiment/parent_activity': [{'@id': 'https://wcrp-cmip.github.io/WCRP-universe/activity/cmip'}], 'https://wcrp-cmip.github.io/CMIP6Plus_CVs/experiment/parent_experiment': [{'@id': 'https://wcrp-cmip.github.io/CMIP6Plus_CVs/experiment/historical'}], 'https://wcrp-cmip.github.io/CMIP6Plus_CVs/experiment/start': [{'@value': '2015'}], 'https://wcrp-cmip.github.io/CMIP6Plus_CVs/experiment/sub_experiment': [{'@id': 'https://wcrp-cmip.github.io/CMIP6Plus_CVs/sub-experiment/none'}], 'https://wcrp-cmip.github.io/CMIP6Plus_CVs/experiment/tier': [{'@value': '2'}], '@type': ['wcrp:experiment', 'https://wcrp-cmip.github.io/CMIP6Plus_CVs/']}, {'https://wcrp-cmip.github.io/CMIP6Plus_CVs/experiment/activity': [{'@id': 'https://wcrp-cmip.github.io/WCRP-universe/activity/ramip'}], 'https://wcrp-cmip.github.io/CMIP6Plus_CVs/experiment/description': [{'@value': 'SSP3-7.0 anthropogenic emissions, but with South Asian anthropogenic aerosol and precursor emissions taken from SSP1-2.6. South Asia is the region bounded by 65 and 95E and 5 and 35N.'}], 'https://wcrp-cmip.github.io/CMIP6Plus_CVs/experiment/end': [{'@value': '2051'}], 'https://wcrp-cmip.github.io/CMIP6Plus_CVs/experiment/experiment_description': [{'@value': 'SSP3-7.0 forcing, but with SSP1-2.6 anthropogenic aerosol and precursor emissions over South Asia'}], '@id': 'https://wcrp-cmip.github.io/CMIP6Plus_CVs/experiment/ssp370-sas126aer', 'https://wcrp-cmip.github.io/CMIP6Plus_CVs/experiment/label': [{'@value': 'ssp370-sas126aer'}], 'https://wcrp-cmip.github.io/CMIP6Plus_CVs/experiment/min_number_yrs_per_sim': [{'@value': 37}], 'https://wcrp-cmip.github.io/CMIP6Plus_CVs/experiment/model_realms': [{'https://wcrp-cmip.github.io/WCRP-universe/source-type/is_required': [{'@value': False}], '@id': 'https://wcrp-cmip.github.io/WCRP-universe/source-type/aer'}, {'https://wcrp-cmip.github.io/WCRP-universe/source-type/is_required': [{'@value': True}], '@id': 'https://wcrp-cmip.github.io/WCRP-universe/source-type/aogcm'}, {'https://wcrp-cmip.github.io/WCRP-universe/source-type/is_required': [{'@value': False}], '@id': 'https://wcrp-cmip.github.io/WCRP-universe/source-type/bgc'}, {'https://wcrp-cmip.github.io/WCRP-universe/source-type/is_required': [{'@value': False}], '@id': 'https://wcrp-cmip.github.io/WCRP-universe/source-type/chem'}], 'https://wcrp-cmip.github.io/CMIP6Plus_CVs/experiment/parent_activity': [{'@id': 'https://wcrp-cmip.github.io/WCRP-universe/activity/cmip'}], 'https://wcrp-cmip.github.io/CMIP6Plus_CVs/experiment/parent_experiment': [{'@id': 'https://wcrp-cmip.github.io/CMIP6Plus_CVs/experiment/historical'}], 'https://wcrp-cmip.github.io/CMIP6Plus_CVs/experiment/start': [{'@value': '2015'}], 'https://wcrp-cmip.github.io/CMIP6Plus_CVs/experiment/sub_experiment': [{'@id': 'https://wcrp-cmip.github.io/CMIP6Plus_CVs/sub-experiment/none'}], 'https://wcrp-cmip.github.io/CMIP6Plus_CVs/experiment/tier': [{'@value': 1}], '@type': ['wcrp:experiment', 'https://wcrp-cmip.github.io/CMIP6Plus_CVs/']}, {'https://wcrp-cmip.github.io/CMIP6Plus_CVs/experiment/activity': [{'@id': 'https://wcrp-cmip.github.io/WCRP-universe/activity/ramip'}], 'https://wcrp-cmip.github.io/CMIP6Plus_CVs/experiment/description': [{'@value': 'SSP3-7.0 anthropogenic emissions, but with South Asian black carbon and organic carbon emissions taken from SSP1-2.6. South Asia is the region bounded by 65 and 95E and 5 and 35N.'}], 'https://wcrp-cmip.github.io/CMIP6Plus_CVs/experiment/end': [{'@value': '2051'}], 'https://wcrp-cmip.github.io/CMIP6Plus_CVs/experiment/experiment_description': [{'@value': 'SSP3-7.0 forcing, but with SSP1-2.6 black carbon and organic carbon emissions over South Asia.'}], '@id': 'https://wcrp-cmip.github.io/CMIP6Plus_CVs/experiment/ssp370-sas126ca', 'https://wcrp-cmip.github.io/CMIP6Plus_CVs/experiment/label': [{'@value': 'ssp370-sas126ca'}], 'https://wcrp-cmip.github.io/CMIP6Plus_CVs/experiment/min_number_yrs_per_sim': [{'@value': 37}], 'https://wcrp-cmip.github.io/CMIP6Plus_CVs/experiment/model_realms': [{'https://wcrp-cmip.github.io/WCRP-universe/source-type/is_required': [{'@value': False}], '@id': 'https://wcrp-cmip.github.io/WCRP-universe/source-type/aer'}, {'https://wcrp-cmip.github.io/WCRP-universe/source-type/is_required': [{'@value': True}], '@id': 'https://wcrp-cmip.github.io/WCRP-universe/source-type/aogcm'}, {'https://wcrp-cmip.github.io/WCRP-universe/source-type/is_required': [{'@value': False}], '@id': 'https://wcrp-cmip.github.io/WCRP-universe/source-type/bgc'}, {'https://wcrp-cmip.github.io/WCRP-universe/source-type/is_required': [{'@value': False}], '@id': 'https://wcrp-cmip.github.io/WCRP-universe/source-type/chem'}], 'https://wcrp-cmip.github.io/CMIP6Plus_CVs/experiment/parent_activity': [{'@id': 'https://wcrp-cmip.github.io/WCRP-universe/activity/cmip'}], 'https://wcrp-cmip.github.io/CMIP6Plus_CVs/experiment/parent_experiment': [{'@id': 'https://wcrp-cmip.github.io/CMIP6Plus_CVs/experiment/historical'}], 'https://wcrp-cmip.github.io/CMIP6Plus_CVs/experiment/start': [{'@value': '2015'}], 'https://wcrp-cmip.github.io/CMIP6Plus_CVs/experiment/sub_experiment': [{'@id': 'https://wcrp-cmip.github.io/CMIP6Plus_CVs/sub-experiment/none'}], 'https://wcrp-cmip.github.io/CMIP6Plus_CVs/experiment/tier': [{'@value': '2'}], '@type': ['wcrp:experiment', 'https://wcrp-cmip.github.io/CMIP6Plus_CVs/']}], [{'https://wcrp-cmip.github.io/WCRP-universe/source-type/description': [{'@value': 'aerosol treatment in an atmospheric model where concentrations are calculated based on emissions, transformation, and removal processes (rather than being prescribed or omitted entirely)'}], '@id': 'https://wcrp-cmip.github.io/WCRP-universe/source-type/aer', 'https://wcrp-cmip.github.io/WCRP-universe/source-type/label': [{'@value': 'AER'}], '@type': ['wcrp:source_type', 'https://wcrp-cmip.github.io/WCRP-universe/']}, {'https://wcrp-cmip.github.io/WCRP-universe/source-type/description': [{'@value': 'atmospheric general circulation model run with prescribed ocean surface conditions and usually a model of the land surface'}], '@id': 'https://wcrp-cmip.github.io/WCRP-universe/source-type/agcm', 'https://wcrp-cmip.github.io/WCRP-universe/source-type/label': [{'@value': 'AGCM'}], '@type': ['wcrp:source_type', 'https://wcrp-cmip.github.io/WCRP-universe/']}, {'https://wcrp-cmip.github.io/WCRP-universe/source-type/description': [{'@value': 'coupled atmosphere-ocean global climate model, additionally including explicit representation of at least the land and sea ice'}], '@id': 'https://wcrp-cmip.github.io/WCRP-universe/source-type/aogcm', 'https://wcrp-cmip.github.io/WCRP-universe/source-type/label': [{'@value': 'AOGCM'}], '@type': ['wcrp:source_type', 'https://wcrp-cmip.github.io/WCRP-universe/']}, {'https://wcrp-cmip.github.io/WCRP-universe/source-type/description': [{'@value': 'biogeochemistry model component that at the very least accounts for carbon reservoirs and fluxes in the atmosphere, terrestrial biosphere, and ocean'}], '@id': 'https://wcrp-cmip.github.io/WCRP-universe/source-type/bgc', 'https://wcrp-cmip.github.io/WCRP-universe/source-type/label': [{'@value': 'BGC'}], '@type': ['wcrp:source_type', 'https://wcrp-cmip.github.io/WCRP-universe/']}, {'https://wcrp-cmip.github.io/WCRP-universe/source-type/description': [{'@value': 'chemistry treatment in an atmospheric model that calculates atmospheric oxidant concentrations (including at least ozone), rather than prescribing them'}], '@id': 'https://wcrp-cmip.github.io/WCRP-universe/source-type/chem', 'https://wcrp-cmip.github.io/WCRP-universe/source-type/label': [{'@value': 'CHEM'}], '@type': ['wcrp:source_type', 'https://wcrp-cmip.github.io/WCRP-universe/']}, {'https://wcrp-cmip.github.io/WCRP-universe/source-type/description': [{'@value': 'gridded product based on measurements collected from in-situ instruments'}], '@id': 'https://wcrp-cmip.github.io/WCRP-universe/source-type/gridded-insitu', 'https://wcrp-cmip.github.io/WCRP-universe/source-type/label': [{'@value': 'gridded_insitu'}], '@type': ['wcrp:source_type', 'https://wcrp-cmip.github.io/WCRP-universe/']}, {'https://wcrp-cmip.github.io/WCRP-universe/source-type/description': [{'@value': 'ice-sheet model that includes ice-flow'}], '@id': 'https://wcrp-cmip.github.io/WCRP-universe/source-type/ism', 'https://wcrp-cmip.github.io/WCRP-universe/source-type/label': [{'@value': 'ISM'}], '@type': ['wcrp:source_type', 'https://wcrp-cmip.github.io/WCRP-universe/']}, {'https://wcrp-cmip.github.io/WCRP-universe/source-type/description': [{'@value': 'land model run uncoupled from the atmosphere'}], '@id': 'https://wcrp-cmip.github.io/WCRP-universe/source-type/land', 'https://wcrp-cmip.github.io/WCRP-universe/source-type/label': [{'@value': 'LAND'}], '@type': ['wcrp:source_type', 'https://wcrp-cmip.github.io/WCRP-universe/']}, {'https://wcrp-cmip.github.io/WCRP-universe/source-type/description': [{'@value': 'ocean general circulation model run uncoupled from an AGCM but, usually including a sea-ice model'}], '@id': 'https://wcrp-cmip.github.io/WCRP-universe/source-type/ogcm', 'https://wcrp-cmip.github.io/WCRP-universe/source-type/label': [{'@value': 'OGCM'}], '@type': ['wcrp:source_type', 'https://wcrp-cmip.github.io/WCRP-universe/']}, {'https://wcrp-cmip.github.io/WCRP-universe/source-type/description': [{'@value': \"radiation component of an atmospheric model run 'offline'\"}], '@id': 'https://wcrp-cmip.github.io/WCRP-universe/source-type/rad', 'https://wcrp-cmip.github.io/WCRP-universe/source-type/label': [{'@value': 'RAD'}], '@type': ['wcrp:source_type', 'https://wcrp-cmip.github.io/WCRP-universe/']}, {'https://wcrp-cmip.github.io/WCRP-universe/source-type/description': [{'@value': 'gridded product generated from a model reanalysis based on in-situ instruments and possibly satellite measurements'}], '@id': 'https://wcrp-cmip.github.io/WCRP-universe/source-type/reanalysis', 'https://wcrp-cmip.github.io/WCRP-universe/source-type/label': [{'@value': 'reanalysis'}], '@type': ['wcrp:source_type', 'https://wcrp-cmip.github.io/WCRP-universe/']}, {'https://wcrp-cmip.github.io/WCRP-universe/source-type/description': [{'@value': 'gridded product based on both in-situ instruments and satellite measurements'}], '@id': 'https://wcrp-cmip.github.io/WCRP-universe/source-type/satellite-blended', 'https://wcrp-cmip.github.io/WCRP-universe/source-type/label': [{'@value': 'satellite_blended'}], '@type': ['wcrp:source_type', 'https://wcrp-cmip.github.io/WCRP-universe/']}, {'https://wcrp-cmip.github.io/WCRP-universe/source-type/description': [{'@value': 'gridded product based on satellite measurements'}], '@id': 'https://wcrp-cmip.github.io/WCRP-universe/source-type/satellite-retrieval', 'https://wcrp-cmip.github.io/WCRP-universe/source-type/label': [{'@value': 'satellite_retrieval'}], '@type': ['wcrp:source_type', 'https://wcrp-cmip.github.io/WCRP-universe/']}, {'https://wcrp-cmip.github.io/WCRP-universe/source-type/description': [{'@value': 'slab-ocean used with an AGCM in representing the atmosphere-ocean coupled system'}], '@id': 'https://wcrp-cmip.github.io/WCRP-universe/source-type/slab', 'https://wcrp-cmip.github.io/WCRP-universe/source-type/label': [{'@value': 'SLAB'}], '@type': ['wcrp:source_type', 'https://wcrp-cmip.github.io/WCRP-universe/']}], [{'https://wcrp-cmip.github.io/WCRP-universe/activity/description': [{'@value': 'AerChemMIP experiments focus on the role of atmospheric chemistry and aerosols in climate, including piClim and hist-piSLCF simulations.'}], '@id': 'https://wcrp-cmip.github.io/WCRP-universe/activity/aerchemmip', 'https://wcrp-cmip.github.io/WCRP-universe/activity/label': [{'@value': 'AerChemMIP'}], '@type': ['wcrp:activity', 'https://wcrp-cmip.github.io/WCRP-universe/'], 'https://wcrp-cmip.github.io/WCRP-universe/activity/url': [{'@value': 'https://gmd.copernicus.org/articles/10/585/2017/gmd-10-585-2017.pdf'}]}, {'https://wcrp-cmip.github.io/WCRP-universe/activity/description': [{'@value': 'C4MIP experiments focus on carbon cycle feedbacks and interactions, including 1pctCO2-bgc and esm-flat10-cdr experiments.'}], '@id': 'https://wcrp-cmip.github.io/WCRP-universe/activity/c4mip', 'https://wcrp-cmip.github.io/WCRP-universe/activity/label': [{'@value': 'C4MIP'}], '@type': ['wcrp:activity', 'https://wcrp-cmip.github.io/WCRP-universe/'], 'https://wcrp-cmip.github.io/WCRP-universe/activity/url': [{'@value': 'https://gmd.copernicus.org/articles/9/2853/2016/gmd-9-2853-2016.pdf'}]}, {'https://wcrp-cmip.github.io/WCRP-universe/activity/description': [{'@value': 'CFMIP experiments focus on cloud feedbacks and their role in climate, including abrupt-0p5CO2 and amip-piForcing simulations.'}], '@id': 'https://wcrp-cmip.github.io/WCRP-universe/activity/cfmip', 'https://wcrp-cmip.github.io/WCRP-universe/activity/label': [{'@value': 'CFMIP'}], '@type': ['wcrp:activity', 'https://wcrp-cmip.github.io/WCRP-universe/'], 'https://wcrp-cmip.github.io/WCRP-universe/activity/url': [{'@value': 'https://gmd.copernicus.org/articles/10/359/2017/gmd-10-359-2017.pdf'}]}, {'https://wcrp-cmip.github.io/WCRP-universe/activity/description': [{'@value': 'CMIP DECK: 1pctCO2, abrupt-4xCO2, amip, esm-piControl, esm-historical, historical, and piControl experiments'}], '@id': 'https://wcrp-cmip.github.io/WCRP-universe/activity/cmip', 'https://wcrp-cmip.github.io/WCRP-universe/activity/label': [{'@value': 'CMIP'}], '@type': ['wcrp:activity', 'https://wcrp-cmip.github.io/WCRP-universe/'], 'https://wcrp-cmip.github.io/WCRP-universe/activity/url': [{'@value': 'https://gmd.copernicus.org/articles/9/1937/2016/gmd-9-1937-2016.pdf'}]}, {'https://wcrp-cmip.github.io/WCRP-universe/activity/description': [{'@value': 'DAMIP focuses on detection and attribution of climate change, covering experiments like hist-aer and hist-nat.'}], '@id': 'https://wcrp-cmip.github.io/WCRP-universe/activity/damip', 'https://wcrp-cmip.github.io/WCRP-universe/activity/label': [{'@value': 'DAMIP'}], '@type': ['wcrp:activity', 'https://wcrp-cmip.github.io/WCRP-universe/'], 'https://wcrp-cmip.github.io/WCRP-universe/activity/url': [{'@value': 'https://gmd.copernicus.org/articles/13/7947/2020/gmd-13-7947-2020.pdf'}]}, {'https://wcrp-cmip.github.io/WCRP-universe/activity/description': [{'@value': 'DCPP focuses on decadal climate predictions and initialized experiments like prediction for 2025-2036.'}], '@id': 'https://wcrp-cmip.github.io/WCRP-universe/activity/dcpp', 'https://wcrp-cmip.github.io/WCRP-universe/activity/label': [{'@value': 'DCPP'}], '@type': ['wcrp:activity', 'https://wcrp-cmip.github.io/WCRP-universe/'], 'https://wcrp-cmip.github.io/WCRP-universe/activity/url': [{'@value': 'https://gmd.copernicus.org/articles/9/3751/2016/gmd-9-3751-2016.pdf'}]}, {'https://wcrp-cmip.github.io/WCRP-universe/activity/description': [{'@value': 'GeoMIP explores the potential impacts and side-effects of geoengineering, including experiments like G7-1.5K-SAI.'}], '@id': 'https://wcrp-cmip.github.io/WCRP-universe/activity/geomip', 'https://wcrp-cmip.github.io/WCRP-universe/activity/label': [{'@value': 'GeoMIP'}], '@type': ['wcrp:activity', 'https://wcrp-cmip.github.io/WCRP-universe/'], 'https://wcrp-cmip.github.io/WCRP-universe/activity/url': [{'@value': 'https://gmd.copernicus.org/articles/8/989/2015/gmd-8-989-2015.pdf'}]}, {'https://wcrp-cmip.github.io/WCRP-universe/activity/description': [{'@value': 'The Large Ensemble Single Forcing Model Intercomparison Project'}], '@id': 'https://wcrp-cmip.github.io/WCRP-universe/activity/lesfmip', 'https://wcrp-cmip.github.io/WCRP-universe/activity/label': [{'@value': 'LESFMIP'}], '@type': ['wcrp:activity', 'https://wcrp-cmip.github.io/WCRP-universe/'], 'https://wcrp-cmip.github.io/WCRP-universe/activity/url': [{'@value': 'https://www.frontiersin.org/articles/10.3389/fclim.2022.955414/full'}]}, {'https://wcrp-cmip.github.io/WCRP-universe/activity/description': [{'@value': 'LMIP explores land-atmosphere interactions and processes, with experiments like land-hist.'}], '@id': 'https://wcrp-cmip.github.io/WCRP-universe/activity/lmip', 'https://wcrp-cmip.github.io/WCRP-universe/activity/label': [{'@value': 'LMIP'}], '@type': ['wcrp:activity', 'https://wcrp-cmip.github.io/WCRP-universe/'], 'https://wcrp-cmip.github.io/WCRP-universe/activity/url': [{'@value': 'https://gmd.copernicus.org/articles/10/3977/2017/gmd-10-3977-2017.pdf'}]}, {'https://wcrp-cmip.github.io/WCRP-universe/activity/description': [{'@value': 'PMIP focuses on past climate variability, with experiments like LIGabrupt.'}], '@id': 'https://wcrp-cmip.github.io/WCRP-universe/activity/pmip', 'https://wcrp-cmip.github.io/WCRP-universe/activity/label': [{'@value': 'PMIP'}], '@type': ['wcrp:activity', 'https://wcrp-cmip.github.io/WCRP-universe/'], 'https://wcrp-cmip.github.io/WCRP-universe/activity/url': [{'@value': 'https://gmd.copernicus.org/articles/9/3461/2016/gmd-9-3461-2016.pdf'}]}, {'https://wcrp-cmip.github.io/WCRP-universe/activity/description': [{'@value': 'Regional Aerosol Model Intercomparison Project'}], '@id': 'https://wcrp-cmip.github.io/WCRP-universe/activity/ramip', 'https://wcrp-cmip.github.io/WCRP-universe/activity/label': [{'@value': 'RAMIP'}], '@type': ['wcrp:activity', 'https://wcrp-cmip.github.io/WCRP-universe/'], 'https://wcrp-cmip.github.io/WCRP-universe/activity/url': [{'@value': 'https://ramip.ncas.ac.uk'}]}, {'https://wcrp-cmip.github.io/WCRP-universe/activity/description': [{'@value': 'RFMIP assesses the radiative forcing of climate change with experiments such as piClim-aer, piClim-histaer, and piClim-histall.'}], '@id': 'https://wcrp-cmip.github.io/WCRP-universe/activity/rfmip', 'https://wcrp-cmip.github.io/WCRP-universe/activity/label': [{'@value': 'RFMIP'}], '@type': ['wcrp:activity', 'https://wcrp-cmip.github.io/WCRP-universe/'], 'https://wcrp-cmip.github.io/WCRP-universe/activity/url': [{'@value': 'https://gmd.copernicus.org/articles/13/169/2020/gmd-13-169-2020.pdf'}]}, {'https://wcrp-cmip.github.io/WCRP-universe/activity/description': [{'@value': 'ScenarioMIP focuses on future climate projections based on different socio-economic pathways, including High, Medium, and Very Low scenarios.'}], '@id': 'https://wcrp-cmip.github.io/WCRP-universe/activity/scenariomip', 'https://wcrp-cmip.github.io/WCRP-universe/activity/label': [{'@value': 'ScenarioMIP'}], '@type': ['wcrp:activity', 'https://wcrp-cmip.github.io/WCRP-universe/'], 'https://wcrp-cmip.github.io/WCRP-universe/activity/url': [{'@value': 'https://gmd.copernicus.org/articles/12/1443/2019/gmd-12-1443-2019.pdf'}]}, {'https://wcrp-cmip.github.io/WCRP-universe/activity/description': [{'@value': 'Tipping Point Model Intercomparison Project'}], '@id': 'https://wcrp-cmip.github.io/WCRP-universe/activity/tipmip', 'https://wcrp-cmip.github.io/WCRP-universe/activity/label': [{'@value': 'TIPMIP'}], '@type': ['wcrp:activity', 'https://wcrp-cmip.github.io/WCRP-universe/'], 'https://wcrp-cmip.github.io/WCRP-universe/activity/url': [{'@value': 'https://tipmip.pik-potsdam.de/'}]}]]}\n"
     ]
    }
   ],
   "source": [
    "print( f'Context Loc: {experiments.context}')\n",
    "\n",
    "print( f'Dependencies Loc: {experiments.dependencies}')\n",
    "\n",
    "print( f'Graph with all of the above : {experiments.corpus}')"
   ]
  },
  {
   "cell_type": "markdown",
   "metadata": {},
   "source": [
    "#### Finally we select our frame. "
   ]
  },
  {
   "cell_type": "code",
   "execution_count": 6,
   "metadata": {},
   "outputs": [],
   "source": [
    "frame = {'id':url}\n",
    "\n",
    "# the Embedded frame class will apply the default context- this may be specified separately instead. \n",
    "\n",
    "result = experiments.frame(frame)"
   ]
  },
  {
   "cell_type": "code",
   "execution_count": 7,
   "metadata": {},
   "outputs": [
    {
     "name": "stdout",
     "output_type": "stream",
     "text": [
      "{\n",
      "    \"@context\": \"https://wcrp-cmip.github.io/CMIP6Plus_CVs/experiment/_context_\",\n",
      "    \"id\": \"cmip6plus:experiment/1pctco2\",\n",
      "    \"type\": [\n",
      "        \"wcrp:experiment\",\n",
      "        \"cmip6plus\"\n",
      "    ],\n",
      "    \"activity\": {\n",
      "        \"id\": \"universal:activity/cmip\",\n",
      "        \"type\": [\n",
      "            \"wcrp:activity\",\n",
      "            \"universal\"\n",
      "        ],\n",
      "        \"description\": \"CMIP DECK: 1pctCO2, abrupt-4xCO2, amip, esm-piControl, esm-historical, historical, and piControl experiments\",\n",
      "        \"label\": \"CMIP\",\n",
      "        \"url\": \"https://gmd.copernicus.org/articles/9/1937/2016/gmd-9-1937-2016.pdf\"\n",
      "    },\n",
      "    \"description\": \"DECK: 1pctCO2\",\n",
      "    \"end\": -999,\n",
      "    \"label\": \"1pctCO2\",\n",
      "    \"min_number_yrs_per_sim\": 150,\n",
      "    \"model_realms\": {\n",
      "        \"universal:source-type/aer\": {\n",
      "            \"type\": [\n",
      "                \"wcrp:source_type\",\n",
      "                \"universal\"\n",
      "            ],\n",
      "            \"description\": \"aerosol treatment in an atmospheric model where concentrations are calculated based on emissions, transformation, and removal processes (rather than being prescribed or omitted entirely)\",\n",
      "            \"is_required\": [\n",
      "                false,\n",
      "                true\n",
      "            ],\n",
      "            \"label\": \"AER\"\n",
      "        },\n",
      "        \"universal:source-type/aogcm\": {\n",
      "            \"type\": [\n",
      "                \"wcrp:source_type\",\n",
      "                \"universal\"\n",
      "            ],\n",
      "            \"description\": \"coupled atmosphere-ocean global climate model, additionally including explicit representation of at least the land and sea ice\",\n",
      "            \"is_required\": true,\n",
      "            \"label\": \"AOGCM\"\n",
      "        },\n",
      "        \"universal:source-type/bgc\": {\n",
      "            \"type\": [\n",
      "                \"wcrp:source_type\",\n",
      "                \"universal\"\n",
      "            ],\n",
      "            \"description\": \"biogeochemistry model component that at the very least accounts for carbon reservoirs and fluxes in the atmosphere, terrestrial biosphere, and ocean\",\n",
      "            \"is_required\": [\n",
      "                false,\n",
      "                true\n",
      "            ],\n",
      "            \"label\": \"BGC\"\n",
      "        },\n",
      "        \"universal:source-type/chem\": {\n",
      "            \"type\": [\n",
      "                \"wcrp:source_type\",\n",
      "                \"universal\"\n",
      "            ],\n",
      "            \"description\": \"chemistry treatment in an atmospheric model that calculates atmospheric oxidant concentrations (including at least ozone), rather than prescribing them\",\n",
      "            \"is_required\": false,\n",
      "            \"label\": \"CHEM\"\n",
      "        }\n",
      "    },\n",
      "    \"parent_activity\": {\n",
      "        \"id\": \"universal:activity/cmip\"\n",
      "    },\n",
      "    \"parent_experiment\": {\n",
      "        \"id\": \"cmip6plus:experiment/picontrol\",\n",
      "        \"type\": [\n",
      "            \"wcrp:experiment\",\n",
      "            \"cmip6plus\"\n",
      "        ],\n",
      "        \"activity\": \"universal:activity/cmip\",\n",
      "        \"description\": \"DECK: control\",\n",
      "        \"end\": -999,\n",
      "        \"label\": \"piControl\",\n",
      "        \"min_number_yrs_per_sim\": 500,\n",
      "        \"model_realms\": {\n",
      "            \"universal:source-type/aer\": {},\n",
      "            \"universal:source-type/aogcm\": {},\n",
      "            \"universal:source-type/bgc\": {},\n",
      "            \"universal:source-type/chem\": {}\n",
      "        },\n",
      "        \"parent_activity\": \"universal:activity/cmip\",\n",
      "        \"parent_experiment\": {\n",
      "            \"id\": \"cmip6plus:experiment/picontrol-spinup\",\n",
      "            \"type\": [\n",
      "                \"wcrp:experiment\",\n",
      "                \"cmip6plus\"\n",
      "            ],\n",
      "            \"activity\": \"universal:activity/cmip\",\n",
      "            \"description\": \"DECK: spin-up portion of the control\",\n",
      "            \"end\": -999,\n",
      "            \"label\": \"piControl-spinup\",\n",
      "            \"min_number_yrs_per_sim\": 100,\n",
      "            \"model_realms\": {\n",
      "                \"universal:source-type/aer\": {},\n",
      "                \"universal:source-type/aogcm\": {},\n",
      "                \"universal:source-type/bgc\": {},\n",
      "                \"universal:source-type/chem\": {}\n",
      "            },\n",
      "            \"parent_activity\": \"universal:activity/none\",\n",
      "            \"parent_experiment\": \"cmip6plus:experiment/none\",\n",
      "            \"start\": -999,\n",
      "            \"sub_experiment\": \"cmip6plus:sub-experiment/none\",\n",
      "            \"tier\": 2\n",
      "        },\n",
      "        \"start\": -999,\n",
      "        \"sub_experiment\": \"cmip6plus:sub-experiment/none\",\n",
      "        \"tier\": 1\n",
      "    },\n",
      "    \"start\": -999,\n",
      "    \"sub_experiment\": {\n",
      "        \"id\": \"cmip6plus:sub-experiment/none\"\n",
      "    },\n",
      "    \"tier\": 1\n",
      "}\n"
     ]
    }
   ],
   "source": [
    "jprint(result)"
   ]
  },
  {
   "cell_type": "markdown",
   "metadata": {},
   "source": [
    "## Framing using PyLD only\n",
    "\n",
    "This section explains what is happening in the CMIPLD library with bit more detail. \n",
    "\n",
    "By generating a corpus we enable jsonld to easily fill referenced (nested) entries. This however does require us to frame our results and only extract what we are interested in. "
   ]
  },
  {
   "cell_type": "markdown",
   "metadata": {},
   "source": [
    "#### Get dependancies"
   ]
  },
  {
   "cell_type": "code",
   "execution_count": 8,
   "metadata": {},
   "outputs": [
    {
     "data": {
      "text/plain": [
       "['https://wcrp-cmip.github.io/CMIP6Plus_CVs/experiment/graph.jsonld',\n",
       " 'https://wcrp-cmip.github.io/WCRP-universe/source-type/graph.jsonld',\n",
       " 'https://wcrp-cmip.github.io/WCRP-universe/activity/graph.jsonld']"
      ]
     },
     "execution_count": 8,
     "metadata": {},
     "output_type": "execute_result"
    }
   ],
   "source": [
    "dep = cmipld.processor.depends(url,graph=True)\n",
    "dep"
   ]
  },
  {
   "cell_type": "code",
   "execution_count": 9,
   "metadata": {},
   "outputs": [
    {
     "data": {
      "text/plain": [
       "'https://wcrp-cmip.github.io/CMIP6Plus_CVs/experiment/_context_'"
      ]
     },
     "execution_count": 9,
     "metadata": {},
     "output_type": "execute_result"
    }
   ],
   "source": [
    "cmipld.processor.contextify('https://wcrp-cmip.github.io/CMIP6Plus_CVs/experiment/_context_')"
   ]
  },
  {
   "cell_type": "markdown",
   "metadata": {},
   "source": [
    "##### Extract relevant graphs "
   ]
  },
  {
   "cell_type": "code",
   "execution_count": null,
   "metadata": {},
   "outputs": [],
   "source": []
  },
  {
   "cell_type": "code",
   "execution_count": 10,
   "metadata": {},
   "outputs": [
    {
     "name": "stderr",
     "output_type": "stream",
     "text": [
      "100%|██████████| 3/3 [00:00<00:00, 34.50it/s]\n"
     ]
    }
   ],
   "source": [
    "from p_tqdm import p_map\n",
    "corpus = {'@graph':p_map(cmipld.jsonld.expand,dep)}"
   ]
  },
  {
   "cell_type": "markdown",
   "metadata": {},
   "source": [
    "##### Get the data\n",
    "\n",
    "We start by setting up our frame"
   ]
  },
  {
   "cell_type": "code",
   "execution_count": 11,
   "metadata": {},
   "outputs": [
    {
     "data": {
      "text/plain": [
       "'https://wcrp-cmip.github.io/CMIP6Plus_CVs/experiment/_context_'"
      ]
     },
     "execution_count": 11,
     "metadata": {},
     "output_type": "execute_result"
    }
   ],
   "source": [
    "context = cmipld.processor.contextify(url)\n",
    "context"
   ]
  },
  {
   "cell_type": "code",
   "execution_count": 12,
   "metadata": {},
   "outputs": [],
   "source": [
    "frame = {\n",
    "    \"@context\": context,\n",
    "    # we want the file with an id 1pctco2\n",
    "    \"id\":url\n",
    "}"
   ]
  },
  {
   "cell_type": "markdown",
   "metadata": {},
   "source": [
    "Then run use it to extract entries from JSONLD"
   ]
  },
  {
   "cell_type": "code",
   "execution_count": 13,
   "metadata": {},
   "outputs": [
    {
     "name": "stdout",
     "output_type": "stream",
     "text": [
      "{\n",
      "    \"@context\": \"https://wcrp-cmip.github.io/CMIP6Plus_CVs/experiment/_context_\",\n",
      "    \"id\": \"cmip6plus:experiment/1pctco2\",\n",
      "    \"type\": [\n",
      "        \"wcrp:experiment\",\n",
      "        \"cmip6plus\"\n",
      "    ],\n",
      "    \"activity\": {\n",
      "        \"id\": \"universal:activity/cmip\",\n",
      "        \"type\": [\n",
      "            \"wcrp:activity\",\n",
      "            \"universal\"\n",
      "        ],\n",
      "        \"description\": \"CMIP DECK: 1pctCO2, abrupt-4xCO2, amip, esm-piControl, esm-historical, historical, and piControl experiments\",\n",
      "        \"label\": \"CMIP\",\n",
      "        \"url\": \"https://gmd.copernicus.org/articles/9/1937/2016/gmd-9-1937-2016.pdf\"\n",
      "    },\n",
      "    \"description\": \"DECK: 1pctCO2\",\n",
      "    \"end\": -999,\n",
      "    \"label\": \"1pctCO2\",\n",
      "    \"min_number_yrs_per_sim\": 150,\n",
      "    \"model_realms\": {\n",
      "        \"universal:source-type/aer\": {\n",
      "            \"type\": [\n",
      "                \"wcrp:source_type\",\n",
      "                \"universal\"\n",
      "            ],\n",
      "            \"description\": \"aerosol treatment in an atmospheric model where concentrations are calculated based on emissions, transformation, and removal processes (rather than being prescribed or omitted entirely)\",\n",
      "            \"is_required\": [\n",
      "                false,\n",
      "                true\n",
      "            ],\n",
      "            \"label\": \"AER\"\n",
      "        },\n",
      "        \"universal:source-type/aogcm\": {\n",
      "            \"type\": [\n",
      "                \"wcrp:source_type\",\n",
      "                \"universal\"\n",
      "            ],\n",
      "            \"description\": \"coupled atmosphere-ocean global climate model, additionally including explicit representation of at least the land and sea ice\",\n",
      "            \"is_required\": true,\n",
      "            \"label\": \"AOGCM\"\n",
      "        },\n",
      "        \"universal:source-type/bgc\": {\n",
      "            \"type\": [\n",
      "                \"wcrp:source_type\",\n",
      "                \"universal\"\n",
      "            ],\n",
      "            \"description\": \"biogeochemistry model component that at the very least accounts for carbon reservoirs and fluxes in the atmosphere, terrestrial biosphere, and ocean\",\n",
      "            \"is_required\": [\n",
      "                false,\n",
      "                true\n",
      "            ],\n",
      "            \"label\": \"BGC\"\n",
      "        },\n",
      "        \"universal:source-type/chem\": {\n",
      "            \"type\": [\n",
      "                \"wcrp:source_type\",\n",
      "                \"universal\"\n",
      "            ],\n",
      "            \"description\": \"chemistry treatment in an atmospheric model that calculates atmospheric oxidant concentrations (including at least ozone), rather than prescribing them\",\n",
      "            \"is_required\": false,\n",
      "            \"label\": \"CHEM\"\n",
      "        }\n",
      "    },\n",
      "    \"parent_activity\": {\n",
      "        \"id\": \"universal:activity/cmip\"\n",
      "    },\n",
      "    \"parent_experiment\": {\n",
      "        \"id\": \"cmip6plus:experiment/picontrol\",\n",
      "        \"type\": [\n",
      "            \"wcrp:experiment\",\n",
      "            \"cmip6plus\"\n",
      "        ],\n",
      "        \"activity\": \"universal:activity/cmip\",\n",
      "        \"description\": \"DECK: control\",\n",
      "        \"end\": -999,\n",
      "        \"label\": \"piControl\",\n",
      "        \"min_number_yrs_per_sim\": 500,\n",
      "        \"model_realms\": {\n",
      "            \"universal:source-type/aer\": {},\n",
      "            \"universal:source-type/aogcm\": {},\n",
      "            \"universal:source-type/bgc\": {},\n",
      "            \"universal:source-type/chem\": {}\n",
      "        },\n",
      "        \"parent_activity\": \"universal:activity/cmip\",\n",
      "        \"parent_experiment\": {\n",
      "            \"id\": \"cmip6plus:experiment/picontrol-spinup\",\n",
      "            \"type\": [\n",
      "                \"wcrp:experiment\",\n",
      "                \"cmip6plus\"\n",
      "            ],\n",
      "            \"activity\": \"universal:activity/cmip\",\n",
      "            \"description\": \"DECK: spin-up portion of the control\",\n",
      "            \"end\": -999,\n",
      "            \"label\": \"piControl-spinup\",\n",
      "            \"min_number_yrs_per_sim\": 100,\n",
      "            \"model_realms\": {\n",
      "                \"universal:source-type/aer\": {},\n",
      "                \"universal:source-type/aogcm\": {},\n",
      "                \"universal:source-type/bgc\": {},\n",
      "                \"universal:source-type/chem\": {}\n",
      "            },\n",
      "            \"parent_activity\": \"universal:activity/none\",\n",
      "            \"parent_experiment\": \"cmip6plus:experiment/none\",\n",
      "            \"start\": -999,\n",
      "            \"sub_experiment\": \"cmip6plus:sub-experiment/none\",\n",
      "            \"tier\": 2\n",
      "        },\n",
      "        \"start\": -999,\n",
      "        \"sub_experiment\": \"cmip6plus:sub-experiment/none\",\n",
      "        \"tier\": 1\n",
      "    },\n",
      "    \"start\": -999,\n",
      "    \"sub_experiment\": {\n",
      "        \"id\": \"cmip6plus:sub-experiment/none\"\n",
      "    },\n",
      "    \"tier\": 1\n",
      "}\n"
     ]
    }
   ],
   "source": [
    "entry_1pctco2 = cmipld.jsonld.frame(corpus,frame)\n",
    "jprint(entry_1pctco2)"
   ]
  },
  {
   "cell_type": "markdown",
   "metadata": {},
   "source": [
    "Here we can see referenced entries from the universal repo have be substitued in"
   ]
  },
  {
   "cell_type": "code",
   "execution_count": 14,
   "metadata": {},
   "outputs": [
    {
     "name": "stdout",
     "output_type": "stream",
     "text": [
      "{\n",
      "    \"id\": \"universal:activity/cmip\",\n",
      "    \"type\": [\n",
      "        \"wcrp:activity\",\n",
      "        \"universal\"\n",
      "    ],\n",
      "    \"description\": \"CMIP DECK: 1pctCO2, abrupt-4xCO2, amip, esm-piControl, esm-historical, historical, and piControl experiments\",\n",
      "    \"label\": \"CMIP\",\n",
      "    \"url\": \"https://gmd.copernicus.org/articles/9/1937/2016/gmd-9-1937-2016.pdf\"\n",
      "}\n"
     ]
    }
   ],
   "source": [
    "jprint(entry_1pctco2['activity'])"
   ]
  },
  {
   "cell_type": "markdown",
   "metadata": {},
   "source": [
    "## Specific framing\n",
    "As was demonstrated in the documentation, we can make our framing notably more specific. Here I want to extract all experiments, and the labels for the referenced fields only. "
   ]
  },
  {
   "cell_type": "code",
   "execution_count": 15,
   "metadata": {},
   "outputs": [],
   "source": [
    "frame2 = {\n",
    "    \"@context\": context,\n",
    "    # we want the file with an id 1pctco2\n",
    "    # \"id\":url\n",
    "    \"type\":\"wcrp:experiment\",\n",
    "    \"activity\":{\"@explicit\":True, \"label\":{}},\n",
    "    \"parent_experiment\":{\"@explicit\":True, \"label\":{}},\n",
    "    \"sub_parent\":{\"@explicit\":True, \"label\":{}},\n",
    "}"
   ]
  },
  {
   "cell_type": "code",
   "execution_count": 16,
   "metadata": {},
   "outputs": [
    {
     "name": "stdout",
     "output_type": "stream",
     "text": [
      "Number of experiments found: 50\n",
      "\n",
      "cmip6plus:experiment/1pctco2\n",
      "cmip6plus:experiment/abrupt-4xco2\n",
      "cmip6plus:experiment/amip\n",
      "cmip6plus:experiment/esm-hist\n",
      "cmip6plus:experiment/esm-picontrol\n",
      "cmip6plus:experiment/esm-picontrol-spinup\n",
      "cmip6plus:experiment/esm-up2p0\n",
      "cmip6plus:experiment/esm-up2p0-gwl2p0\n",
      "cmip6plus:experiment/esm-up2p0-gwl2p0-50y-dn2p0\n",
      "cmip6plus:experiment/esm-up2p0-gwl4p0\n",
      "cmip6plus:experiment/esm-up2p0-gwl4p0-50y-dn2p0\n",
      "cmip6plus:experiment/esm-up2p0-gwl4p0-50y-dn2p0-gwl2p0\n",
      "cmip6plus:experiment/fut-aer\n",
      "cmip6plus:experiment/fut-ghg\n",
      "cmip6plus:experiment/fut-lu\n",
      "cmip6plus:experiment/fut-sol\n",
      "cmip6plus:experiment/fut-totalo3\n",
      "cmip6plus:experiment/fut-volc\n",
      "cmip6plus:experiment/hist-aer\n",
      "cmip6plus:experiment/hist-ghg\n",
      "cmip6plus:experiment/hist-lu\n",
      "cmip6plus:experiment/hist-nat\n",
      "cmip6plus:experiment/hist-nolu\n",
      "cmip6plus:experiment/hist-piaer\n",
      "cmip6plus:experiment/hist-pighg\n",
      "cmip6plus:experiment/hist-pisol\n",
      "cmip6plus:experiment/hist-pitotalo3\n",
      "cmip6plus:experiment/hist-pivolc\n",
      "cmip6plus:experiment/hist-sol\n",
      "cmip6plus:experiment/hist-totalo3\n",
      "cmip6plus:experiment/hist-volc\n",
      "cmip6plus:experiment/historical\n",
      "cmip6plus:experiment/piclim-370\n",
      "cmip6plus:experiment/piclim-370-126aer\n",
      "cmip6plus:experiment/piclim-370-126aer-nh3nox\n",
      "cmip6plus:experiment/piclim-370-afr126aer\n",
      "cmip6plus:experiment/piclim-370-eas126aer\n",
      "cmip6plus:experiment/piclim-370-nae126aer\n",
      "cmip6plus:experiment/piclim-370-sas126aer\n",
      "cmip6plus:experiment/picontrol\n",
      "cmip6plus:experiment/picontrol-spinup\n",
      "cmip6plus:experiment/ssp370-126aer\n",
      "cmip6plus:experiment/ssp370-126aer-nh3nox\n",
      "cmip6plus:experiment/ssp370-afr126aer\n",
      "cmip6plus:experiment/ssp370-asia126aer\n",
      "cmip6plus:experiment/ssp370-eas126aer\n",
      "cmip6plus:experiment/ssp370-nae126aer\n",
      "cmip6plus:experiment/ssp370-saf126ca\n",
      "cmip6plus:experiment/ssp370-sas126aer\n",
      "cmip6plus:experiment/ssp370-sas126ca\n"
     ]
    }
   ],
   "source": [
    "experiment_list = experiments.frame(frame2)\n",
    "# or \n",
    "# experiment_list = cmipld.jsonld.frame(corpus,frame2)[\"@graph\"]\n",
    "\n",
    "\n",
    "print(f'Number of experiments found: {len(experiment_list)}\\n')\n",
    "\n",
    "for i in experiment_list:\n",
    "    print(i['id'])"
   ]
  },
  {
   "cell_type": "code",
   "execution_count": 17,
   "metadata": {},
   "outputs": [
    {
     "name": "stdout",
     "output_type": "stream",
     "text": [
      "{\n",
      "    \"id\": \"cmip6plus:experiment/1pctco2\",\n",
      "    \"type\": [\n",
      "        \"wcrp:experiment\",\n",
      "        \"cmip6plus\"\n",
      "    ],\n",
      "    \"activity\": {\n",
      "        \"id\": \"universal:activity/cmip\",\n",
      "        \"type\": [\n",
      "            \"wcrp:activity\",\n",
      "            \"universal\"\n",
      "        ],\n",
      "        \"label\": \"CMIP\"\n",
      "    },\n",
      "    \"description\": \"DECK: 1pctCO2\",\n",
      "    \"end\": -999,\n",
      "    \"label\": \"1pctCO2\",\n",
      "    \"min_number_yrs_per_sim\": 150,\n",
      "    \"model_realms\": {\n",
      "        \"universal:source-type/aer\": {\n",
      "            \"type\": [\n",
      "                \"wcrp:source_type\",\n",
      "                \"universal\"\n",
      "            ],\n",
      "            \"description\": \"aerosol treatment in an atmospheric model where concentrations are calculated based on emissions, transformation, and removal processes (rather than being prescribed or omitted entirely)\",\n",
      "            \"is_required\": [\n",
      "                false,\n",
      "                true\n",
      "            ],\n",
      "            \"label\": \"AER\"\n",
      "        },\n",
      "        \"universal:source-type/aogcm\": {\n",
      "            \"type\": [\n",
      "                \"wcrp:source_type\",\n",
      "                \"universal\"\n",
      "            ],\n",
      "            \"description\": \"coupled atmosphere-ocean global climate model, additionally including explicit representation of at least the land and sea ice\",\n",
      "            \"is_required\": true,\n",
      "            \"label\": \"AOGCM\"\n",
      "        },\n",
      "        \"universal:source-type/bgc\": {\n",
      "            \"type\": [\n",
      "                \"wcrp:source_type\",\n",
      "                \"universal\"\n",
      "            ],\n",
      "            \"description\": \"biogeochemistry model component that at the very least accounts for carbon reservoirs and fluxes in the atmosphere, terrestrial biosphere, and ocean\",\n",
      "            \"is_required\": [\n",
      "                false,\n",
      "                true\n",
      "            ],\n",
      "            \"label\": \"BGC\"\n",
      "        },\n",
      "        \"universal:source-type/chem\": {\n",
      "            \"type\": [\n",
      "                \"wcrp:source_type\",\n",
      "                \"universal\"\n",
      "            ],\n",
      "            \"description\": \"chemistry treatment in an atmospheric model that calculates atmospheric oxidant concentrations (including at least ozone), rather than prescribing them\",\n",
      "            \"is_required\": false,\n",
      "            \"label\": \"CHEM\"\n",
      "        }\n",
      "    },\n",
      "    \"parent_activity\": {\n",
      "        \"id\": \"universal:activity/cmip\"\n",
      "    },\n",
      "    \"parent_experiment\": {\n",
      "        \"id\": \"cmip6plus:experiment/picontrol\",\n",
      "        \"type\": [\n",
      "            \"wcrp:experiment\",\n",
      "            \"cmip6plus\"\n",
      "        ],\n",
      "        \"label\": \"piControl\"\n",
      "    },\n",
      "    \"start\": -999,\n",
      "    \"sub_experiment\": {\n",
      "        \"id\": \"cmip6plus:sub-experiment/none\"\n",
      "    },\n",
      "    \"sub_parent\": null,\n",
      "    \"tier\": 1\n",
      "}\n"
     ]
    }
   ],
   "source": [
    "jprint(experiment_list[0])"
   ]
  },
  {
   "cell_type": "code",
   "execution_count": null,
   "metadata": {},
   "outputs": [],
   "source": []
  }
 ],
 "metadata": {
  "kernelspec": {
   "display_name": "base",
   "language": "python",
   "name": "python3"
  },
  "language_info": {
   "codemirror_mode": {
    "name": "ipython",
    "version": 3
   },
   "file_extension": ".py",
   "mimetype": "text/x-python",
   "name": "python",
   "nbconvert_exporter": "python",
   "pygments_lexer": "ipython3",
   "version": "3.10.10"
  }
 },
 "nbformat": 4,
 "nbformat_minor": 2
}
