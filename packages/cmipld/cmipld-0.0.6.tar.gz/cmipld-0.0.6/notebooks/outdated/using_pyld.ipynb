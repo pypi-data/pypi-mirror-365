{
 "cells": [
  {
   "cell_type": "code",
   "execution_count": 1,
   "metadata": {},
   "outputs": [],
   "source": [
    "from pprint import pprint\n",
    "from pyld import jsonld"
   ]
  },
  {
   "cell_type": "code",
   "execution_count": 2,
   "metadata": {},
   "outputs": [],
   "source": [
    "file = 'cmip.json'\n",
    "base = 'https://wcrp-cmip.github.io/WCRP-universe/activity/'    \n",
    "\n",
    "fullpath = base + file"
   ]
  },
  {
   "cell_type": "markdown",
   "metadata": {},
   "source": [
    "For a simplified (compacted) view of the file we can use the following. "
   ]
  },
  {
   "cell_type": "code",
   "execution_count": 3,
   "metadata": {},
   "outputs": [
    {
     "name": "stdout",
     "output_type": "stream",
     "text": [
      "{'description': 'CMIP DECK: 1pctCO2, abrupt-4xCO2, amip, esm-piControl, '\n",
      "                'esm-historical, historical, and piControl experiments',\n",
      " 'id': 'universal:activity/cmip',\n",
      " 'name': 'CMIP',\n",
      " 'url': 'https://gmd.copernicus.org/articles/9/1937/2016/gmd-9-1937-2016.pdf'}\n"
     ]
    }
   ],
   "source": [
    "# for a simplified (compacted view) of the json-ld file\n",
    "\n",
    "compacted = jsonld.compact(fullpath, fullpath)\n",
    "\n",
    "# we can also optionally remove the context and the type information\n",
    "del compacted['@context'],  compacted['type']\n",
    "\n",
    "pprint(compacted)"
   ]
  },
  {
   "cell_type": "markdown",
   "metadata": {},
   "source": [
    "#### View all files in a group\n",
    "- 'graph' files are constructed to present all files in a repository or directory in one group. \n",
    "\n",
    "\n",
    "\n",
    "- For the activity repository we can view the information using as below. \n",
    "\n"
   ]
  },
  {
   "cell_type": "code",
   "execution_count": 4,
   "metadata": {},
   "outputs": [
    {
     "data": {
      "text/plain": [
       "{'@context': ['../_context_',\n",
       "  {'@base': 'https://wcrp-cmip.github.io/WCRP-universe/activity/',\n",
       "   '@vocab': 'https://wcrp-cmip.github.io/WCRP-universe/activity/'}],\n",
       " '@graph': [{'id': 'universal:activity/aerchemmip',\n",
       "   'type': 'activity',\n",
       "   'description': 'AerChemMIP experiments focus on the role of atmospheric chemistry and aerosols in climate, including piClim and hist-piSLCF simulations.',\n",
       "   'name': 'AerChemMIP',\n",
       "   'url': 'https://gmd.copernicus.org/articles/10/585/2017/gmd-10-585-2017.pdf'},\n",
       "  {'id': 'universal:activity/c4mip',\n",
       "   'type': 'activity',\n",
       "   'description': 'C4MIP experiments focus on carbon cycle feedbacks and interactions, including 1pctCO2-bgc and esm-flat10-cdr experiments.',\n",
       "   'name': 'C4MIP',\n",
       "   'url': 'https://gmd.copernicus.org/articles/9/2853/2016/gmd-9-2853-2016.pdf'},\n",
       "  {'id': 'universal:activity/cfmip',\n",
       "   'type': 'activity',\n",
       "   'description': 'CFMIP experiments focus on cloud feedbacks and their role in climate, including abrupt-0p5CO2 and amip-piForcing simulations.',\n",
       "   'name': 'CFMIP',\n",
       "   'url': 'https://gmd.copernicus.org/articles/10/359/2017/gmd-10-359-2017.pdf'},\n",
       "  {'id': 'universal:activity/cmip',\n",
       "   'type': 'activity',\n",
       "   'description': 'CMIP DECK: 1pctCO2, abrupt-4xCO2, amip, esm-piControl, esm-historical, historical, and piControl experiments',\n",
       "   'name': 'CMIP',\n",
       "   'url': 'https://gmd.copernicus.org/articles/9/1937/2016/gmd-9-1937-2016.pdf'},\n",
       "  {'id': 'universal:activity/damip',\n",
       "   'type': 'activity',\n",
       "   'description': 'DAMIP focuses on detection and attribution of climate change, covering experiments like hist-aer and hist-nat.',\n",
       "   'name': 'DAMIP',\n",
       "   'url': 'https://gmd.copernicus.org/articles/13/7947/2020/gmd-13-7947-2020.pdf'},\n",
       "  {'id': 'universal:activity/dcpp',\n",
       "   'type': 'activity',\n",
       "   'description': 'DCPP focuses on decadal climate predictions and initialized experiments like prediction for 2025-2036.',\n",
       "   'name': 'DCPP',\n",
       "   'url': 'https://gmd.copernicus.org/articles/9/3751/2016/gmd-9-3751-2016.pdf'},\n",
       "  {'id': 'universal:activity/geomip',\n",
       "   'type': 'activity',\n",
       "   'description': 'GeoMIP explores the potential impacts and side-effects of geoengineering, including experiments like G7-1.5K-SAI.',\n",
       "   'name': 'GeoMIP',\n",
       "   'url': 'https://gmd.copernicus.org/articles/8/989/2015/gmd-8-989-2015.pdf'},\n",
       "  {'id': 'universal:activity/lesfmip',\n",
       "   'type': 'activity',\n",
       "   'description': 'The Large Ensemble Single Forcing Model Intercomparison Project',\n",
       "   'name': 'LESFMIP',\n",
       "   'url': 'https://www.frontiersin.org/articles/10.3389/fclim.2022.955414/full'},\n",
       "  {'id': 'universal:activity/lmip',\n",
       "   'type': 'activity',\n",
       "   'description': 'LMIP explores land-atmosphere interactions and processes, with experiments like land-hist.',\n",
       "   'name': 'LMIP',\n",
       "   'url': 'https://gmd.copernicus.org/articles/10/3977/2017/gmd-10-3977-2017.pdf'},\n",
       "  {'id': 'universal:activity/pmip',\n",
       "   'type': 'activity',\n",
       "   'description': 'PMIP focuses on past climate variability, with experiments like LIGabrupt.',\n",
       "   'name': 'PMIP',\n",
       "   'url': 'https://gmd.copernicus.org/articles/9/3461/2016/gmd-9-3461-2016.pdf'},\n",
       "  {'id': 'universal:activity/ramip',\n",
       "   'type': 'activity',\n",
       "   'description': 'Regional Aerosol Model Intercomparison Project',\n",
       "   'name': 'RAMIP',\n",
       "   'url': 'https://ramip.ncas.ac.uk'},\n",
       "  {'id': 'universal:activity/rfmip',\n",
       "   'type': 'activity',\n",
       "   'description': 'RFMIP assesses the radiative forcing of climate change with experiments such as piClim-aer, piClim-histaer, and piClim-histall.',\n",
       "   'name': 'RFMIP',\n",
       "   'url': 'https://gmd.copernicus.org/articles/13/169/2020/gmd-13-169-2020.pdf'},\n",
       "  {'id': 'universal:activity/scenariomip',\n",
       "   'type': 'activity',\n",
       "   'description': 'ScenarioMIP focuses on future climate projections based on different socio-economic pathways, including High, Medium, and Very Low scenarios.',\n",
       "   'name': 'ScenarioMIP',\n",
       "   'url': 'https://gmd.copernicus.org/articles/12/1443/2019/gmd-12-1443-2019.pdf'},\n",
       "  {'id': 'universal:activity/tipmip',\n",
       "   'type': 'activity',\n",
       "   'description': 'Tipping Point Model Intercomparison Project',\n",
       "   'name': 'TIPMIP',\n",
       "   'url': 'https://tipmip.pik-potsdam.de/'}]}"
      ]
     },
     "execution_count": 4,
     "metadata": {},
     "output_type": "execute_result"
    }
   ],
   "source": [
    "activity_graph = base+'graph'\n",
    "\n",
    "jsonld.frame(activity_graph, base+'_context_')"
   ]
  },
  {
   "cell_type": "markdown",
   "metadata": {},
   "source": [
    "#### Adding other files. \n",
    "\n",
    "If we wish to fill links from other repositores offline, we are able to combine multiple expanded graph files. \n",
    "Expansion produces a verbose version of the file combining it with the context. "
   ]
  },
  {
   "cell_type": "code",
   "execution_count": 5,
   "metadata": {},
   "outputs": [],
   "source": [
    "cmip6plus_graph = 'https://wcrp-cmip.github.io/CMIP6Plus_CVs/source/' + 'graph'\n",
    "\n",
    "collection = [jsonld.expand(group) for group in [activity_graph, cmip6plus_graph]]\n"
   ]
  },
  {
   "cell_type": "markdown",
   "metadata": {},
   "source": [
    "#### Framing\n",
    "To then select which columns or names we wish to have, we can use framing.\n",
    "For instance:\n",
    "- we can use `@types`, to select all items of a certain kind. \n",
    "- we are select only values with a specific `@id`\n",
    "- to select only certain fields we can specify those and use `@explicit = True`  (example given below)"
   ]
  },
  {
   "cell_type": "code",
   "execution_count": 6,
   "metadata": {},
   "outputs": [
    {
     "name": "stdout",
     "output_type": "stream",
     "text": [
      "{'@context': 'https://wcrp-cmip.github.io/WCRP-universe/activity/_context_',\n",
      " 'description': 'Regional Aerosol Model Intercomparison Project',\n",
      " 'id': 'universal:activity/ramip',\n",
      " 'name': 'RAMIP',\n",
      " 'source_activity': [{'id': 'cmip6plus:source/cesm2',\n",
      "                      'type': 'cmip6plus:source/source'},\n",
      "                     {'id': 'cmip6plus:source/cnrm_esm2_1',\n",
      "                      'type': 'cmip6plus:source/source'},\n",
      "                     {'id': 'cmip6plus:source/ec_earth_aerchem',\n",
      "                      'type': 'cmip6plus:source/source'},\n",
      "                     {'id': 'cmip6plus:source/mri_esm2_0',\n",
      "                      'type': 'cmip6plus:source/source'},\n",
      "                     {'id': 'cmip6plus:source/ukesm1_0_ll',\n",
      "                      'type': 'cmip6plus:source/source'}],\n",
      " 'type': 'activity',\n",
      " 'url': 'https://ramip.ncas.ac.uk'}\n"
     ]
    }
   ],
   "source": [
    "frame = {\n",
    "    # use the activity context as we are interested in this\n",
    "    \"@context\": base+'_context_', #use the default context\n",
    "    \n",
    "    # we do not want to expand the source activity\n",
    "    \"source_activity\": {\"@explicit\":True},\n",
    "    \n",
    "    # only extract activities\n",
    "    \"@type\": \"activity\",\n",
    "    \n",
    "    # only extract the RAMIP activity using its ID\n",
    "    # ** to view ALL activities in the collection, remove this line\n",
    "    \"@id\": \"universal:activity/ramip\",\n",
    "    \n",
    "}\n",
    "\n",
    "\n",
    "framed_result = jsonld.frame(collection, frame)\n",
    "\n",
    "\n",
    "pprint(framed_result)"
   ]
  },
  {
   "cell_type": "markdown",
   "metadata": {},
   "source": [
    "- If only want to select the name and url of all source activities we can do the following: \n"
   ]
  },
  {
   "cell_type": "code",
   "execution_count": 7,
   "metadata": {},
   "outputs": [
    {
     "name": "stdout",
     "output_type": "stream",
     "text": [
      "{'@context': 'https://wcrp-cmip.github.io/WCRP-universe/activity/_context_',\n",
      " '@graph': [{'id': 'universal:activity/aerchemmip',\n",
      "             'name': 'AerChemMIP',\n",
      "             'type': 'activity',\n",
      "             'url': 'https://gmd.copernicus.org/articles/10/585/2017/gmd-10-585-2017.pdf'},\n",
      "            {'id': 'universal:activity/c4mip',\n",
      "             'name': 'C4MIP',\n",
      "             'type': 'activity',\n",
      "             'url': 'https://gmd.copernicus.org/articles/9/2853/2016/gmd-9-2853-2016.pdf'},\n",
      "            {'id': 'universal:activity/cfmip',\n",
      "             'name': 'CFMIP',\n",
      "             'type': 'activity',\n",
      "             'url': 'https://gmd.copernicus.org/articles/10/359/2017/gmd-10-359-2017.pdf'},\n",
      "            {'id': 'universal:activity/cmip',\n",
      "             'name': 'CMIP',\n",
      "             'type': 'activity',\n",
      "             'url': 'https://gmd.copernicus.org/articles/9/1937/2016/gmd-9-1937-2016.pdf'},\n",
      "            {'id': 'universal:activity/damip',\n",
      "             'name': 'DAMIP',\n",
      "             'type': 'activity',\n",
      "             'url': 'https://gmd.copernicus.org/articles/13/7947/2020/gmd-13-7947-2020.pdf'},\n",
      "            {'id': 'universal:activity/dcpp',\n",
      "             'name': 'DCPP',\n",
      "             'type': 'activity',\n",
      "             'url': 'https://gmd.copernicus.org/articles/9/3751/2016/gmd-9-3751-2016.pdf'},\n",
      "            {'id': 'universal:activity/geomip',\n",
      "             'name': 'GeoMIP',\n",
      "             'type': 'activity',\n",
      "             'url': 'https://gmd.copernicus.org/articles/8/989/2015/gmd-8-989-2015.pdf'},\n",
      "            {'id': 'universal:activity/lesfmip',\n",
      "             'name': 'LESFMIP',\n",
      "             'type': 'activity',\n",
      "             'url': 'https://www.frontiersin.org/articles/10.3389/fclim.2022.955414/full'},\n",
      "            {'id': 'universal:activity/lmip',\n",
      "             'name': 'LMIP',\n",
      "             'type': 'activity',\n",
      "             'url': 'https://gmd.copernicus.org/articles/10/3977/2017/gmd-10-3977-2017.pdf'},\n",
      "            {'id': 'universal:activity/pmip',\n",
      "             'name': 'PMIP',\n",
      "             'type': 'activity',\n",
      "             'url': 'https://gmd.copernicus.org/articles/9/3461/2016/gmd-9-3461-2016.pdf'},\n",
      "            {'id': 'universal:activity/ramip',\n",
      "             'name': 'RAMIP',\n",
      "             'type': 'activity',\n",
      "             'url': 'https://ramip.ncas.ac.uk'},\n",
      "            {'id': 'universal:activity/rfmip',\n",
      "             'name': 'RFMIP',\n",
      "             'type': 'activity',\n",
      "             'url': 'https://gmd.copernicus.org/articles/13/169/2020/gmd-13-169-2020.pdf'},\n",
      "            {'id': 'universal:activity/scenariomip',\n",
      "             'name': 'ScenarioMIP',\n",
      "             'type': 'activity',\n",
      "             'url': 'https://gmd.copernicus.org/articles/12/1443/2019/gmd-12-1443-2019.pdf'},\n",
      "            {'id': 'universal:activity/tipmip',\n",
      "             'name': 'TIPMIP',\n",
      "             'type': 'activity',\n",
      "             'url': 'https://tipmip.pik-potsdam.de/'}]}\n"
     ]
    }
   ],
   "source": [
    "frame2 = {\n",
    "    # use the activity context as we are interested in this\n",
    "    \"@context\": base+'_context_', #use the default context\n",
    "    \n",
    "    # only extract activities\n",
    "    \"@type\": \"activity\",\n",
    "    \n",
    "    # select the following fields only\n",
    "    \"name\":{},\n",
    "    \"url\":{},\n",
    "    \"@explicit\":True\n",
    "    \n",
    "}\n",
    "\n",
    "\n",
    "framed_result = jsonld.frame(collection, frame2)\n",
    "\n",
    "\n",
    "pprint(framed_result)"
   ]
  },
  {
   "cell_type": "code",
   "execution_count": null,
   "metadata": {},
   "outputs": [],
   "source": []
  }
 ],
 "metadata": {
  "kernelspec": {
   "display_name": "base",
   "language": "python",
   "name": "python3"
  },
  "language_info": {
   "codemirror_mode": {
    "name": "ipython",
    "version": 3
   },
   "file_extension": ".py",
   "mimetype": "text/x-python",
   "name": "python",
   "nbconvert_exporter": "python",
   "pygments_lexer": "ipython3",
   "version": "3.10.10"
  }
 },
 "nbformat": 4,
 "nbformat_minor": 2
}
