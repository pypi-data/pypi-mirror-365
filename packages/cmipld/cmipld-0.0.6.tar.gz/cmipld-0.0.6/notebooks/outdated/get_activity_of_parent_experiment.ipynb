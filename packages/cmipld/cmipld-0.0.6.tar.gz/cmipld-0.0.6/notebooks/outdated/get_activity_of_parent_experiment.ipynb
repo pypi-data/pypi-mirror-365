{
  "nbformat": 4,
  "nbformat_minor": 0,
  "metadata": {
    "colab": {
      "provenance": [],
      "authorship_tag": "ABX9TyNS7MDnEl0BwsbO+LNq5MR4",
      "include_colab_link": true
    },
    "kernelspec": {
      "name": "python3",
      "display_name": "Python 3"
    },
    "language_info": {
      "name": "python"
    },
    "widgets": {
      "application/vnd.jupyter.widget-state+json": {
        "0579e14b56634929917d76bf9ff015a4": {
          "model_module": "@jupyter-widgets/controls",
          "model_name": "HBoxModel",
          "model_module_version": "1.5.0",
          "state": {
            "_dom_classes": [],
            "_model_module": "@jupyter-widgets/controls",
            "_model_module_version": "1.5.0",
            "_model_name": "HBoxModel",
            "_view_count": null,
            "_view_module": "@jupyter-widgets/controls",
            "_view_module_version": "1.5.0",
            "_view_name": "HBoxView",
            "box_style": "",
            "children": [
              "IPY_MODEL_b22362ac7cdd4510a92535e94eb09099",
              "IPY_MODEL_d3670c3a898745ce88acf959b1e871ec",
              "IPY_MODEL_eeab8239d9c745ad93b37599cc5503c5"
            ],
            "layout": "IPY_MODEL_964c9c8410ce40bc86d4fa4527c34ced"
          }
        },
        "b22362ac7cdd4510a92535e94eb09099": {
          "model_module": "@jupyter-widgets/controls",
          "model_name": "HTMLModel",
          "model_module_version": "1.5.0",
          "state": {
            "_dom_classes": [],
            "_model_module": "@jupyter-widgets/controls",
            "_model_module_version": "1.5.0",
            "_model_name": "HTMLModel",
            "_view_count": null,
            "_view_module": "@jupyter-widgets/controls",
            "_view_module_version": "1.5.0",
            "_view_name": "HTMLView",
            "description": "",
            "description_tooltip": null,
            "layout": "IPY_MODEL_50ad9fecfda64dcf9fe64c774ffdac61",
            "placeholder": "​",
            "style": "IPY_MODEL_e48d2c3c873d46df852a9b14ba57405d",
            "value": "100%"
          }
        },
        "d3670c3a898745ce88acf959b1e871ec": {
          "model_module": "@jupyter-widgets/controls",
          "model_name": "FloatProgressModel",
          "model_module_version": "1.5.0",
          "state": {
            "_dom_classes": [],
            "_model_module": "@jupyter-widgets/controls",
            "_model_module_version": "1.5.0",
            "_model_name": "FloatProgressModel",
            "_view_count": null,
            "_view_module": "@jupyter-widgets/controls",
            "_view_module_version": "1.5.0",
            "_view_name": "ProgressView",
            "bar_style": "success",
            "description": "",
            "description_tooltip": null,
            "layout": "IPY_MODEL_07e74bd199a84822be2486617362865a",
            "max": 4,
            "min": 0,
            "orientation": "horizontal",
            "style": "IPY_MODEL_045befcc170f485595cd9043ccc80c31",
            "value": 4
          }
        },
        "eeab8239d9c745ad93b37599cc5503c5": {
          "model_module": "@jupyter-widgets/controls",
          "model_name": "HTMLModel",
          "model_module_version": "1.5.0",
          "state": {
            "_dom_classes": [],
            "_model_module": "@jupyter-widgets/controls",
            "_model_module_version": "1.5.0",
            "_model_name": "HTMLModel",
            "_view_count": null,
            "_view_module": "@jupyter-widgets/controls",
            "_view_module_version": "1.5.0",
            "_view_name": "HTMLView",
            "description": "",
            "description_tooltip": null,
            "layout": "IPY_MODEL_d2e38630410247139044ebaf535edfdf",
            "placeholder": "​",
            "style": "IPY_MODEL_2323430696a9410d9aaeb4b6b061528a",
            "value": " 4/4 [00:01&lt;00:00,  4.26it/s]"
          }
        },
        "964c9c8410ce40bc86d4fa4527c34ced": {
          "model_module": "@jupyter-widgets/base",
          "model_name": "LayoutModel",
          "model_module_version": "1.2.0",
          "state": {
            "_model_module": "@jupyter-widgets/base",
            "_model_module_version": "1.2.0",
            "_model_name": "LayoutModel",
            "_view_count": null,
            "_view_module": "@jupyter-widgets/base",
            "_view_module_version": "1.2.0",
            "_view_name": "LayoutView",
            "align_content": null,
            "align_items": null,
            "align_self": null,
            "border": null,
            "bottom": null,
            "display": null,
            "flex": null,
            "flex_flow": null,
            "grid_area": null,
            "grid_auto_columns": null,
            "grid_auto_flow": null,
            "grid_auto_rows": null,
            "grid_column": null,
            "grid_gap": null,
            "grid_row": null,
            "grid_template_areas": null,
            "grid_template_columns": null,
            "grid_template_rows": null,
            "height": null,
            "justify_content": null,
            "justify_items": null,
            "left": null,
            "margin": null,
            "max_height": null,
            "max_width": null,
            "min_height": null,
            "min_width": null,
            "object_fit": null,
            "object_position": null,
            "order": null,
            "overflow": null,
            "overflow_x": null,
            "overflow_y": null,
            "padding": null,
            "right": null,
            "top": null,
            "visibility": null,
            "width": null
          }
        },
        "50ad9fecfda64dcf9fe64c774ffdac61": {
          "model_module": "@jupyter-widgets/base",
          "model_name": "LayoutModel",
          "model_module_version": "1.2.0",
          "state": {
            "_model_module": "@jupyter-widgets/base",
            "_model_module_version": "1.2.0",
            "_model_name": "LayoutModel",
            "_view_count": null,
            "_view_module": "@jupyter-widgets/base",
            "_view_module_version": "1.2.0",
            "_view_name": "LayoutView",
            "align_content": null,
            "align_items": null,
            "align_self": null,
            "border": null,
            "bottom": null,
            "display": null,
            "flex": null,
            "flex_flow": null,
            "grid_area": null,
            "grid_auto_columns": null,
            "grid_auto_flow": null,
            "grid_auto_rows": null,
            "grid_column": null,
            "grid_gap": null,
            "grid_row": null,
            "grid_template_areas": null,
            "grid_template_columns": null,
            "grid_template_rows": null,
            "height": null,
            "justify_content": null,
            "justify_items": null,
            "left": null,
            "margin": null,
            "max_height": null,
            "max_width": null,
            "min_height": null,
            "min_width": null,
            "object_fit": null,
            "object_position": null,
            "order": null,
            "overflow": null,
            "overflow_x": null,
            "overflow_y": null,
            "padding": null,
            "right": null,
            "top": null,
            "visibility": null,
            "width": null
          }
        },
        "e48d2c3c873d46df852a9b14ba57405d": {
          "model_module": "@jupyter-widgets/controls",
          "model_name": "DescriptionStyleModel",
          "model_module_version": "1.5.0",
          "state": {
            "_model_module": "@jupyter-widgets/controls",
            "_model_module_version": "1.5.0",
            "_model_name": "DescriptionStyleModel",
            "_view_count": null,
            "_view_module": "@jupyter-widgets/base",
            "_view_module_version": "1.2.0",
            "_view_name": "StyleView",
            "description_width": ""
          }
        },
        "07e74bd199a84822be2486617362865a": {
          "model_module": "@jupyter-widgets/base",
          "model_name": "LayoutModel",
          "model_module_version": "1.2.0",
          "state": {
            "_model_module": "@jupyter-widgets/base",
            "_model_module_version": "1.2.0",
            "_model_name": "LayoutModel",
            "_view_count": null,
            "_view_module": "@jupyter-widgets/base",
            "_view_module_version": "1.2.0",
            "_view_name": "LayoutView",
            "align_content": null,
            "align_items": null,
            "align_self": null,
            "border": null,
            "bottom": null,
            "display": null,
            "flex": null,
            "flex_flow": null,
            "grid_area": null,
            "grid_auto_columns": null,
            "grid_auto_flow": null,
            "grid_auto_rows": null,
            "grid_column": null,
            "grid_gap": null,
            "grid_row": null,
            "grid_template_areas": null,
            "grid_template_columns": null,
            "grid_template_rows": null,
            "height": null,
            "justify_content": null,
            "justify_items": null,
            "left": null,
            "margin": null,
            "max_height": null,
            "max_width": null,
            "min_height": null,
            "min_width": null,
            "object_fit": null,
            "object_position": null,
            "order": null,
            "overflow": null,
            "overflow_x": null,
            "overflow_y": null,
            "padding": null,
            "right": null,
            "top": null,
            "visibility": null,
            "width": null
          }
        },
        "045befcc170f485595cd9043ccc80c31": {
          "model_module": "@jupyter-widgets/controls",
          "model_name": "ProgressStyleModel",
          "model_module_version": "1.5.0",
          "state": {
            "_model_module": "@jupyter-widgets/controls",
            "_model_module_version": "1.5.0",
            "_model_name": "ProgressStyleModel",
            "_view_count": null,
            "_view_module": "@jupyter-widgets/base",
            "_view_module_version": "1.2.0",
            "_view_name": "StyleView",
            "bar_color": null,
            "description_width": ""
          }
        },
        "d2e38630410247139044ebaf535edfdf": {
          "model_module": "@jupyter-widgets/base",
          "model_name": "LayoutModel",
          "model_module_version": "1.2.0",
          "state": {
            "_model_module": "@jupyter-widgets/base",
            "_model_module_version": "1.2.0",
            "_model_name": "LayoutModel",
            "_view_count": null,
            "_view_module": "@jupyter-widgets/base",
            "_view_module_version": "1.2.0",
            "_view_name": "LayoutView",
            "align_content": null,
            "align_items": null,
            "align_self": null,
            "border": null,
            "bottom": null,
            "display": null,
            "flex": null,
            "flex_flow": null,
            "grid_area": null,
            "grid_auto_columns": null,
            "grid_auto_flow": null,
            "grid_auto_rows": null,
            "grid_column": null,
            "grid_gap": null,
            "grid_row": null,
            "grid_template_areas": null,
            "grid_template_columns": null,
            "grid_template_rows": null,
            "height": null,
            "justify_content": null,
            "justify_items": null,
            "left": null,
            "margin": null,
            "max_height": null,
            "max_width": null,
            "min_height": null,
            "min_width": null,
            "object_fit": null,
            "object_position": null,
            "order": null,
            "overflow": null,
            "overflow_x": null,
            "overflow_y": null,
            "padding": null,
            "right": null,
            "top": null,
            "visibility": null,
            "width": null
          }
        },
        "2323430696a9410d9aaeb4b6b061528a": {
          "model_module": "@jupyter-widgets/controls",
          "model_name": "DescriptionStyleModel",
          "model_module_version": "1.5.0",
          "state": {
            "_model_module": "@jupyter-widgets/controls",
            "_model_module_version": "1.5.0",
            "_model_name": "DescriptionStyleModel",
            "_view_count": null,
            "_view_module": "@jupyter-widgets/base",
            "_view_module_version": "1.2.0",
            "_view_name": "StyleView",
            "description_width": ""
          }
        }
      }
    }
  },
  "cells": [
    {
      "cell_type": "markdown",
      "metadata": {
        "id": "view-in-github",
        "colab_type": "text"
      },
      "source": [
        "<a href=\"https://colab.research.google.com/github/WCRP-CMIP/CMIP-LD/blob/main/notebooks/get_activity_of_parent_experiment.ipynb\" target=\"_parent\"><img src=\"https://colab.research.google.com/assets/colab-badge.svg\" alt=\"Open In Colab\"/></a>"
      ]
    },
    {
      "cell_type": "markdown",
      "source": [
        "# Loading an experiment and extracting the activity of its parent using JSONLD\n",
        "\n",
        "JSONLD files are linked data files. This means that for an experiment, the `parent_experiment` field is linked to another experiment file. This additional file also has its own activity.\n",
        "\n",
        "\n",
        "In this notebook, we want to obtain this."
      ],
      "metadata": {
        "id": "iZhrGsHLiiDS"
      }
    },
    {
      "cell_type": "code",
      "execution_count": 1,
      "metadata": {
        "id": "22InTtRaiXXa"
      },
      "outputs": [],
      "source": [
        "# start by installing the cmipld library\n",
        "!pip install cmipld -q"
      ]
    },
    {
      "cell_type": "code",
      "source": [
        "import cmipld"
      ],
      "metadata": {
        "id": "pWGnPzD5iZfY"
      },
      "execution_count": 2,
      "outputs": []
    },
    {
      "cell_type": "markdown",
      "source": [
        "The file we are interested is the scen7-hc experiment in CMIP7, we can access this using the `cmip7` prefix, followed by `experiment/` and the file id (note this will always be lowercase)."
      ],
      "metadata": {
        "id": "qNAHI-MtjmeB"
      }
    },
    {
      "cell_type": "code",
      "source": [
        "file = 'cmip7:experiment/scen7-hc'"
      ],
      "metadata": {
        "id": "psMjtyMbl3sN"
      },
      "execution_count": 3,
      "outputs": []
    },
    {
      "cell_type": "markdown",
      "source": [
        "As this file is linked to several others we want to recursively read all of these. To see the dependancies we can use:"
      ],
      "metadata": {
        "id": "3ioFtSQdl8d9"
      }
    },
    {
      "cell_type": "code",
      "source": [
        "cmipld.processor.depends(file)"
      ],
      "metadata": {
        "colab": {
          "base_uri": "https://localhost:8080/"
        },
        "id": "tmVGki1dmFX1",
        "outputId": "e34fa6a4-a63f-4042-d1f8-a2d51ea10999"
      },
      "execution_count": 4,
      "outputs": [
        {
          "output_type": "stream",
          "name": "stdout",
          "text": [
            "Substituting prefix:\n",
            "cmip7: https://wcrp-cmip.github.io/CMIP7-CVs/experiment/scen7-hc\n"
          ]
        },
        {
          "output_type": "execute_result",
          "data": {
            "text/plain": [
              "{'https://wcrp-cmip.github.io/CMIP7-CVs/experiment/historical',\n",
              " 'https://wcrp-cmip.github.io/CMIP7-CVs/experiment/none',\n",
              " 'https://wcrp-cmip.github.io/CMIP7-CVs/experiment/scen7-hc',\n",
              " 'https://wcrp-cmip.github.io/WCRP-universe/activity/scenariomip'}"
            ]
          },
          "metadata": {},
          "execution_count": 4
        }
      ]
    },
    {
      "cell_type": "markdown",
      "source": [
        "To extract the file contents as they appear, we use the following command:"
      ],
      "metadata": {
        "id": "GhM8HZcpmIMJ"
      }
    },
    {
      "cell_type": "markdown",
      "source": [],
      "metadata": {
        "id": "m7qkrqRpmRyv"
      }
    },
    {
      "cell_type": "code",
      "source": [
        "cmipld.processor.get(file, depth=1)"
      ],
      "metadata": {
        "colab": {
          "base_uri": "https://localhost:8080/"
        },
        "id": "aeQYx211jUI9",
        "outputId": "f56dde33-97c9-41e1-e89f-051fcf8070bc"
      },
      "execution_count": 5,
      "outputs": [
        {
          "output_type": "stream",
          "name": "stdout",
          "text": [
            "Substituting prefix:\n",
            "cmip7: https://wcrp-cmip.github.io/CMIP7-CVs/experiment/scen7-hc\n"
          ]
        },
        {
          "output_type": "execute_result",
          "data": {
            "text/plain": [
              "[{'@context': 'https://wcrp-cmip.github.io/CMIP7-CVs/experiment/_context_',\n",
              "  'id': 'cmip7:experiment/scen7-hc',\n",
              "  'type': ['wcrp:experiment', 'cmip7'],\n",
              "  'activity': 'universal:activity/scenariomip',\n",
              "  'description': 'High concentration driven emission scenario to explore potential high-end impacts',\n",
              "  'end': 2100,\n",
              "  'label': 'scen7-hc',\n",
              "  'long-label': 'High, Concentration Driven Scenario',\n",
              "  'min-number-yrs-per-sim': 79,\n",
              "  'model-realms': [],\n",
              "  'cmip7:experiment/parent-activity': 'CMIP',\n",
              "  'parent-experiment': 'cmip7:experiment/historical',\n",
              "  'start': 2022,\n",
              "  'sub-experiment': 'cmip7:experiment/none',\n",
              "  'tier': 0}]"
            ]
          },
          "metadata": {},
          "execution_count": 5
        }
      ]
    },
    {
      "cell_type": "markdown",
      "source": [
        "Here we see that the cmip7 prefix has is resolved to [https://wcrp-cmip.github.io/CMIP7-CVs/](https://wcrp-cmip.github.io/CMIP7-CVs/) and then the file is loaded.\n",
        "\n",
        "\n",
        "\n",
        "** Note that none of the referenced fields have been expanded.**\n",
        "\n",
        "\n",
        "\n",
        "To expand these, we can set the depth to 3, as to expand the parent-experiment, and the activity nested within it."
      ],
      "metadata": {
        "id": "6IMrPUQWj_rh"
      }
    },
    {
      "cell_type": "code",
      "source": [
        "scen7hc = cmipld.processor.get(file, depth=3)[0]"
      ],
      "metadata": {
        "colab": {
          "base_uri": "https://localhost:8080/",
          "height": 263,
          "referenced_widgets": [
            "0579e14b56634929917d76bf9ff015a4",
            "b22362ac7cdd4510a92535e94eb09099",
            "d3670c3a898745ce88acf959b1e871ec",
            "eeab8239d9c745ad93b37599cc5503c5",
            "964c9c8410ce40bc86d4fa4527c34ced",
            "50ad9fecfda64dcf9fe64c774ffdac61",
            "e48d2c3c873d46df852a9b14ba57405d",
            "07e74bd199a84822be2486617362865a",
            "045befcc170f485595cd9043ccc80c31",
            "d2e38630410247139044ebaf535edfdf",
            "2323430696a9410d9aaeb4b6b061528a"
          ]
        },
        "id": "Tw8sBeQMj9JJ",
        "outputId": "3988284a-1ce9-49fe-f75a-27d712a674b4"
      },
      "execution_count": 6,
      "outputs": [
        {
          "output_type": "stream",
          "name": "stdout",
          "text": [
            "Substituting prefix:\n",
            "cmip7: https://wcrp-cmip.github.io/CMIP7-CVs/experiment/scen7-hc\n"
          ]
        },
        {
          "output_type": "display_data",
          "data": {
            "text/plain": [
              "  0%|          | 0/4 [00:00<?, ?it/s]"
            ],
            "application/vnd.jupyter.widget-view+json": {
              "version_major": 2,
              "version_minor": 0,
              "model_id": "0579e14b56634929917d76bf9ff015a4"
            }
          },
          "metadata": {}
        },
        {
          "output_type": "stream",
          "name": "stdout",
          "text": [
            "dict_keys(['@context', 'id', 'type', 'description', 'is-required', 'label'])\n",
            "dict_keys(['@context', 'id', 'type', 'description', 'is-required', 'label'])\n",
            "dict_keys(['@context', 'id', 'type', 'description', 'is-required', 'label'])\n",
            "dict_keys(['@context', 'id', 'type', 'description', 'is-required', 'label'])\n",
            "\n",
            " WARNING missing id:  https://wcrp-cmip.github.io/CMIP7-CVs/experiment/none\n",
            "\n",
            " WARNING missing id:  https://wcrp-cmip.github.io/CMIP7-CVs/experiment/none\n",
            "\n",
            " WARNING missing id:  https://wcrp-cmip.github.io/CMIP7-CVs/experiment/none\n"
          ]
        }
      ]
    },
    {
      "cell_type": "markdown",
      "source": [
        "As this is a json object, we can navigate it as usual. For instance if we wanted to see the contents of the substituted activity field, we can do the following"
      ],
      "metadata": {
        "id": "JoqyJ2s9kzEP"
      }
    },
    {
      "cell_type": "code",
      "source": [
        "scen7hc['activity']"
      ],
      "metadata": {
        "colab": {
          "base_uri": "https://localhost:8080/"
        },
        "id": "3DKS69fVkdsb",
        "outputId": "edc6e263-0c3a-4965-a303-2bc5fce0f8fb"
      },
      "execution_count": 7,
      "outputs": [
        {
          "output_type": "execute_result",
          "data": {
            "text/plain": [
              "{'id': 'universal:activity/scenariomip',\n",
              " 'type': ['wcrp:activity', 'universal'],\n",
              " 'description': 'ScenarioMIP focuses on future climate projections based on different socio-economic pathways, including High, Medium, and Very Low scenarios.',\n",
              " 'label': 'ScenarioMIP',\n",
              " 'url': 'https://gmd.copernicus.org/articles/12/1443/2019/gmd-12-1443-2019.pdf'}"
            ]
          },
          "metadata": {},
          "execution_count": 7
        }
      ]
    },
    {
      "cell_type": "markdown",
      "source": [
        "This means that in order to extract the parent-experiment and its id, our code becomes:"
      ],
      "metadata": {
        "id": "iWQhZQ2pk-q-"
      }
    },
    {
      "cell_type": "code",
      "source": [
        "scen7hc['parent-experiment']['activity']"
      ],
      "metadata": {
        "colab": {
          "base_uri": "https://localhost:8080/"
        },
        "id": "1vHqanAYk9Oq",
        "outputId": "b9c47af1-fa49-4b80-c037-2172a6c8cf54"
      },
      "execution_count": 8,
      "outputs": [
        {
          "output_type": "execute_result",
          "data": {
            "text/plain": [
              "{'id': 'universal:activity/cmip',\n",
              " 'type': ['wcrp:activity', 'universal'],\n",
              " 'description': 'CMIP DECK: 1pctCO2, abrupt-4xCO2, amip, esm-piControl, esm-historical, historical, and piControl experiments',\n",
              " 'label': 'CMIP',\n",
              " 'url': 'https://gmd.copernicus.org/articles/9/1937/2016/gmd-9-1937-2016.pdf'}"
            ]
          },
          "metadata": {},
          "execution_count": 8
        }
      ]
    }
  ]
}