{
 "cells": [
  {
   "cell_type": "code",
   "execution_count": 2,
   "id": "9fda0732",
   "metadata": {},
   "outputs": [],
   "source": [
    "# !pip install cmipld"
   ]
  },
  {
   "cell_type": "code",
   "execution_count": 3,
   "id": "327899a4",
   "metadata": {},
   "outputs": [],
   "source": [
    "import cmipld"
   ]
  },
  {
   "cell_type": "code",
   "execution_count": 4,
   "id": "ebe7f6f0",
   "metadata": {},
   "outputs": [
    {
     "name": "stdout",
     "output_type": "stream",
     "text": [
      "all_available.ipynb\n",
      "outdated/README\n",
      "outdated/embedded_framing.ipynb\n",
      "outdated/extracting_all_experiments.ipynb\n",
      "outdated/get_activity_of_parent_experiment.ipynb\n",
      "outdated/getting_data.ipynb\n",
      "outdated/intro.ipynb\n",
      "outdated/testing_offline.ipynb\n",
      "outdated/using_pyld.ipynb\n"
     ]
    },
    {
     "data": {
      "text/plain": [
       "['all_available.ipynb',\n",
       " 'outdated/README',\n",
       " 'outdated/embedded_framing.ipynb',\n",
       " 'outdated/extracting_all_experiments.ipynb',\n",
       " 'outdated/get_activity_of_parent_experiment.ipynb',\n",
       " 'outdated/getting_data.ipynb',\n",
       " 'outdated/intro.ipynb',\n",
       " 'outdated/testing_offline.ipynb',\n",
       " 'outdated/using_pyld.ipynb']"
      ]
     },
     "execution_count": 4,
     "metadata": {},
     "output_type": "execute_result"
    }
   ],
   "source": [
    "cmipld.utils.git.getfilenames()"
   ]
  },
  {
   "cell_type": "code",
   "execution_count": 6,
   "id": "d21f6cdb",
   "metadata": {},
   "outputs": [
    {
     "name": "stdout",
     "output_type": "stream",
     "text": [
      "🔄 Running (safe): gh api /repos/WCRP-CMIP/CMIP7-CVs/contents/src-data?ref=main\n",
      "Return code: 0\n",
      "Stdout: [\n",
      "  {\n",
      "    \"name\": \"_context_\",\n",
      "    \"path\": \"src-data/_context_\",\n",
      "    \"sha\": \"8f24e433694e8c5ef8b0053d26cb29da9b7a6a64\",\n",
      "    \"size\": 627,\n",
      "    \"url\": \"https://api.github.com/repos/WCRP-CMIP/CMIP7-CVs/co...\n",
      "(0, '[\\n  {\\n    \"name\": \"_context_\",\\n    \"path\": \"src-data/_context_\",\\n    \"sha\": \"8f24e433694e8c5ef8b0053d26cb29da9b7a6a64\",\\n    \"size\": 627,\\n    \"url\": \"https://api.github.com/repos/WCRP-CMIP/CMIP7-CVs/contents/src-data/_context_?ref=main\",\\n    \"html_url\": \"https://github.com/WCRP-CMIP/CMIP7-CVs/blob/main/src-data/_context_\",\\n    \"git_url\": \"https://api.github.com/repos/WCRP-CMIP/CMIP7-CVs/git/blobs/8f24e433694e8c5ef8b0053d26cb29da9b7a6a64\",\\n    \"download_url\": \"https://raw.githubusercontent.com/WCRP-CMIP/CMIP7-CVs/main/src-data/_context_\",\\n    \"type\": \"file\",\\n    \"_links\": {\\n      \"self\": \"https://api.github.com/repos/WCRP-CMIP/CMIP7-CVs/contents/src-data/_context_?ref=main\",\\n      \"git\": \"https://api.github.com/repos/WCRP-CMIP/CMIP7-CVs/git/blobs/8f24e433694e8c5ef8b0053d26cb29da9b7a6a64\",\\n      \"html\": \"https://github.com/WCRP-CMIP/CMIP7-CVs/blob/main/src-data/_context_\"\\n    }\\n  },\\n  {\\n    \"name\": \"activity.zip\",\\n    \"path\": \"src-data/activity.zip\",\\n    \"sha\": \"11e0ac88f7aa6091b47a85cadd4260d5707c85c3\",\\n    \"size\": 6873,\\n    \"url\": \"https://api.github.com/repos/WCRP-CMIP/CMIP7-CVs/contents/src-data/activity.zip?ref=main\",\\n    \"html_url\": \"https://github.com/WCRP-CMIP/CMIP7-CVs/blob/main/src-data/activity.zip\",\\n    \"git_url\": \"https://api.github.com/repos/WCRP-CMIP/CMIP7-CVs/git/blobs/11e0ac88f7aa6091b47a85cadd4260d5707c85c3\",\\n    \"download_url\": \"https://raw.githubusercontent.com/WCRP-CMIP/CMIP7-CVs/main/src-data/activity.zip\",\\n    \"type\": \"file\",\\n    \"_links\": {\\n      \"self\": \"https://api.github.com/repos/WCRP-CMIP/CMIP7-CVs/contents/src-data/activity.zip?ref=main\",\\n      \"git\": \"https://api.github.com/repos/WCRP-CMIP/CMIP7-CVs/git/blobs/11e0ac88f7aa6091b47a85cadd4260d5707c85c3\",\\n      \"html\": \"https://github.com/WCRP-CMIP/CMIP7-CVs/blob/main/src-data/activity.zip\"\\n    }\\n  },\\n  {\\n    \"name\": \"experiment\",\\n    \"path\": \"src-data/experiment\",\\n    \"sha\": \"f6905a6273d119b154312966ab184b1a14e4d8f5\",\\n    \"size\": 0,\\n    \"url\": \"https://api.github.com/repos/WCRP-CMIP/CMIP7-CVs/contents/src-data/experiment?ref=main\",\\n    \"html_url\": \"https://github.com/WCRP-CMIP/CMIP7-CVs/tree/main/src-data/experiment\",\\n    \"git_url\": \"https://api.github.com/repos/WCRP-CMIP/CMIP7-CVs/git/trees/f6905a6273d119b154312966ab184b1a14e4d8f5\",\\n    \"download_url\": null,\\n    \"type\": \"dir\",\\n    \"_links\": {\\n      \"self\": \"https://api.github.com/repos/WCRP-CMIP/CMIP7-CVs/contents/src-data/experiment?ref=main\",\\n      \"git\": \"https://api.github.com/repos/WCRP-CMIP/CMIP7-CVs/git/trees/f6905a6273d119b154312966ab184b1a14e4d8f5\",\\n      \"html\": \"https://github.com/WCRP-CMIP/CMIP7-CVs/tree/main/src-data/experiment\"\\n    }\\n  },\\n  {\\n    \"name\": \"project\",\\n    \"path\": \"src-data/project\",\\n    \"sha\": \"d944d056ef75cf92f81a9dc2c9969913a9d9aca8\",\\n    \"size\": 0,\\n    \"url\": \"https://api.github.com/repos/WCRP-CMIP/CMIP7-CVs/contents/src-data/project?ref=main\",\\n    \"html_url\": \"https://github.com/WCRP-CMIP/CMIP7-CVs/tree/main/src-data/project\",\\n    \"git_url\": \"https://api.github.com/repos/WCRP-CMIP/CMIP7-CVs/git/trees/d944d056ef75cf92f81a9dc2c9969913a9d9aca8\",\\n    \"download_url\": null,\\n    \"type\": \"dir\",\\n    \"_links\": {\\n      \"self\": \"https://api.github.com/repos/WCRP-CMIP/CMIP7-CVs/contents/src-data/project?ref=main\",\\n      \"git\": \"https://api.github.com/repos/WCRP-CMIP/CMIP7-CVs/git/trees/d944d056ef75cf92f81a9dc2c9969913a9d9aca8\",\\n      \"html\": \"https://github.com/WCRP-CMIP/CMIP7-CVs/tree/main/src-data/project\"\\n    }\\n  }\\n]', '')\n"
     ]
    },
    {
     "ename": "TypeError",
     "evalue": "the JSON object must be str, bytes or bytearray, not tuple",
     "output_type": "error",
     "traceback": [
      "\u001b[0;31m---------------------------------------------------------------------------\u001b[0m",
      "\u001b[0;31mTypeError\u001b[0m                                 Traceback (most recent call last)",
      "Cell \u001b[0;32mIn[6], line 4\u001b[0m\n\u001b[1;32m      2\u001b[0m \u001b[38;5;28;01mfrom\u001b[39;00m\u001b[38;5;250m \u001b[39m\u001b[38;5;21;01mcmipld\u001b[39;00m\u001b[38;5;21;01m.\u001b[39;00m\u001b[38;5;21;01mutils\u001b[39;00m\u001b[38;5;21;01m.\u001b[39;00m\u001b[38;5;21;01mgit\u001b[39;00m\u001b[38;5;250m \u001b[39m\u001b[38;5;28;01mimport\u001b[39;00m list_repo_files\n\u001b[1;32m      3\u001b[0m \u001b[38;5;28;01mimport\u001b[39;00m\u001b[38;5;250m \u001b[39m\u001b[38;5;21;01mjson\u001b[39;00m\n\u001b[0;32m----> 4\u001b[0m json\u001b[38;5;241m.\u001b[39mloads(\u001b[43mlist_repo_files\u001b[49m\u001b[43m(\u001b[49m\u001b[38;5;124;43m'\u001b[39;49m\u001b[38;5;124;43mWCRP-CMIP\u001b[39;49m\u001b[38;5;124;43m'\u001b[39;49m\u001b[43m,\u001b[49m\u001b[38;5;124;43m'\u001b[39;49m\u001b[38;5;124;43mCMIP7-CVs\u001b[39;49m\u001b[38;5;124;43m'\u001b[39;49m\u001b[43m,\u001b[49m\u001b[43mpath\u001b[49m\u001b[38;5;241;43m=\u001b[39;49m\u001b[38;5;124;43m'\u001b[39;49m\u001b[38;5;124;43msrc-data\u001b[39;49m\u001b[38;5;124;43m'\u001b[39;49m\u001b[43m)\u001b[49m)\n",
      "File \u001b[0;32m~/WIPwork/CMIP-LD/cmipld/utils/git/git_repo_metadata.py:13\u001b[0m, in \u001b[0;36mlist_repo_files\u001b[0;34m(owner, repo, branch, path)\u001b[0m\n\u001b[1;32m     11\u001b[0m \u001b[38;5;28mprint\u001b[39m(\u001b[38;5;28mstr\u001b[39m(result))\n\u001b[1;32m     12\u001b[0m \u001b[38;5;66;03m# result = subprocess.run(cmd, capture_output=True, text=True, check=True)\u001b[39;00m\n\u001b[0;32m---> 13\u001b[0m items \u001b[38;5;241m=\u001b[39m \u001b[43mjson\u001b[49m\u001b[38;5;241;43m.\u001b[39;49m\u001b[43mloads\u001b[49m\u001b[43m(\u001b[49m\u001b[43mresult\u001b[49m\u001b[43m)\u001b[49m\n\u001b[1;32m     15\u001b[0m \u001b[38;5;28;01mreturn\u001b[39;00m [{\u001b[38;5;124m'\u001b[39m\u001b[38;5;124mname\u001b[39m\u001b[38;5;124m'\u001b[39m: i[\u001b[38;5;124m'\u001b[39m\u001b[38;5;124mname\u001b[39m\u001b[38;5;124m'\u001b[39m], \u001b[38;5;124m'\u001b[39m\u001b[38;5;124mtype\u001b[39m\u001b[38;5;124m'\u001b[39m: i[\u001b[38;5;124m'\u001b[39m\u001b[38;5;124mtype\u001b[39m\u001b[38;5;124m'\u001b[39m], \u001b[38;5;124m'\u001b[39m\u001b[38;5;124mpath\u001b[39m\u001b[38;5;124m'\u001b[39m: i[\u001b[38;5;124m'\u001b[39m\u001b[38;5;124mpath\u001b[39m\u001b[38;5;124m'\u001b[39m]} \u001b[38;5;28;01mfor\u001b[39;00m i \u001b[38;5;129;01min\u001b[39;00m (items \u001b[38;5;28;01mif\u001b[39;00m \u001b[38;5;28misinstance\u001b[39m(items, \u001b[38;5;28mlist\u001b[39m) \u001b[38;5;28;01melse\u001b[39;00m [items])]\n",
      "File \u001b[0;32m~/customlib/homebrew/Caskroom/mambaforge/base/lib/python3.10/json/__init__.py:339\u001b[0m, in \u001b[0;36mloads\u001b[0;34m(s, cls, object_hook, parse_float, parse_int, parse_constant, object_pairs_hook, **kw)\u001b[0m\n\u001b[1;32m    337\u001b[0m \u001b[38;5;28;01melse\u001b[39;00m:\n\u001b[1;32m    338\u001b[0m     \u001b[38;5;28;01mif\u001b[39;00m \u001b[38;5;129;01mnot\u001b[39;00m \u001b[38;5;28misinstance\u001b[39m(s, (\u001b[38;5;28mbytes\u001b[39m, \u001b[38;5;28mbytearray\u001b[39m)):\n\u001b[0;32m--> 339\u001b[0m         \u001b[38;5;28;01mraise\u001b[39;00m \u001b[38;5;167;01mTypeError\u001b[39;00m(\u001b[38;5;124mf\u001b[39m\u001b[38;5;124m'\u001b[39m\u001b[38;5;124mthe JSON object must be str, bytes or bytearray, \u001b[39m\u001b[38;5;124m'\u001b[39m\n\u001b[1;32m    340\u001b[0m                         \u001b[38;5;124mf\u001b[39m\u001b[38;5;124m'\u001b[39m\u001b[38;5;124mnot \u001b[39m\u001b[38;5;132;01m{\u001b[39;00ms\u001b[38;5;241m.\u001b[39m\u001b[38;5;18m__class__\u001b[39m\u001b[38;5;241m.\u001b[39m\u001b[38;5;18m__name__\u001b[39m\u001b[38;5;132;01m}\u001b[39;00m\u001b[38;5;124m'\u001b[39m)\n\u001b[1;32m    341\u001b[0m     s \u001b[38;5;241m=\u001b[39m s\u001b[38;5;241m.\u001b[39mdecode(detect_encoding(s), \u001b[38;5;124m'\u001b[39m\u001b[38;5;124msurrogatepass\u001b[39m\u001b[38;5;124m'\u001b[39m)\n\u001b[1;32m    343\u001b[0m \u001b[38;5;28;01mif\u001b[39;00m (\u001b[38;5;28mcls\u001b[39m \u001b[38;5;129;01mis\u001b[39;00m \u001b[38;5;28;01mNone\u001b[39;00m \u001b[38;5;129;01mand\u001b[39;00m object_hook \u001b[38;5;129;01mis\u001b[39;00m \u001b[38;5;28;01mNone\u001b[39;00m \u001b[38;5;129;01mand\u001b[39;00m\n\u001b[1;32m    344\u001b[0m         parse_int \u001b[38;5;129;01mis\u001b[39;00m \u001b[38;5;28;01mNone\u001b[39;00m \u001b[38;5;129;01mand\u001b[39;00m parse_float \u001b[38;5;129;01mis\u001b[39;00m \u001b[38;5;28;01mNone\u001b[39;00m \u001b[38;5;129;01mand\u001b[39;00m\n\u001b[1;32m    345\u001b[0m         parse_constant \u001b[38;5;129;01mis\u001b[39;00m \u001b[38;5;28;01mNone\u001b[39;00m \u001b[38;5;129;01mand\u001b[39;00m object_pairs_hook \u001b[38;5;129;01mis\u001b[39;00m \u001b[38;5;28;01mNone\u001b[39;00m \u001b[38;5;129;01mand\u001b[39;00m \u001b[38;5;129;01mnot\u001b[39;00m kw):\n",
      "\u001b[0;31mTypeError\u001b[0m: the JSON object must be str, bytes or bytearray, not tuple"
     ]
    }
   ],
   "source": [
    "import cmipld\n",
    "from cmipld.utils.git import list_repo_files\n",
    "import json\n",
    "json.loads(list_repo_files('WCRP-CMIP','CMIP7-CVs',path='src-data'))"
   ]
  },
  {
   "cell_type": "code",
   "execution_count": null,
   "id": "ed473a83",
   "metadata": {},
   "outputs": [],
   "source": []
  }
 ],
 "metadata": {
  "kernelspec": {
   "display_name": "base",
   "language": "python",
   "name": "python3"
  },
  "language_info": {
   "codemirror_mode": {
    "name": "ipython",
    "version": 3
   },
   "file_extension": ".py",
   "mimetype": "text/x-python",
   "name": "python",
   "nbconvert_exporter": "python",
   "pygments_lexer": "ipython3",
   "version": "3.10.10"
  }
 },
 "nbformat": 4,
 "nbformat_minor": 5
}
