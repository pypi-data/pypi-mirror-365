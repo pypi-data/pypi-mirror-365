{
  "nbformat": 4,
  "nbformat_minor": 0,
  "metadata": {
    "colab": {
      "provenance": [],
      "authorship_tag": "ABX9TyPDoM6c8XjeEu1TN7E++3zS",
      "include_colab_link": true
    },
    "kernelspec": {
      "name": "python3",
      "display_name": "Python 3"
    },
    "language_info": {
      "name": "python"
    }
  },
  "cells": [
    {
      "cell_type": "markdown",
      "metadata": {
        "id": "view-in-github",
        "colab_type": "text"
      },
      "source": [
        "<a href=\"https://colab.research.google.com/github/WCRP-CMIP/CMIPLD/blob/main/notebooks/LocalCopyOfflineMode.ipynb\" target=\"_parent\"><img src=\"https://colab.research.google.com/assets/colab-badge.svg\" alt=\"Open In Colab\"/></a>"
      ]
    },
    {
      "cell_type": "markdown",
      "source": [
        "# How to load the current repository and resolve it using offline mode.\n",
        "\n",
        "This is useful when updating files, or simply if you want recursive substitution or prefix resolution."
      ],
      "metadata": {
        "id": "hNQWQOo5nm2k"
      }
    },
    {
      "cell_type": "code",
      "execution_count": null,
      "metadata": {
        "collapsed": true,
        "id": "jN_kUsWhniTe"
      },
      "outputs": [],
      "source": [
        "!pip install cmipld"
      ]
    },
    {
      "cell_type": "markdown",
      "source": [
        "## Get the current repo information. It is reccomended to start at the src-data directory for simplicty"
      ],
      "metadata": {
        "id": "r0X4VyvNoGzr"
      }
    },
    {
      "cell_type": "code",
      "source": [
        "import cmipld, os\n",
        "\n",
        "repo = cmipld.utils.git.get_repo_url()\n",
        "\n",
        "prefix = cmipld.reverse_direct[repo]\n",
        "\n",
        "io_link = cmipld.mapping[prefix]\n",
        "\n",
        "location = os.getcwd()\n",
        "\n",
        "print(f'The repo we are looking at is {repo}\\n  - This has the prefix: {prefix}\\n - And pages link for loading files: {io_link} \\n - The files which will be emulated from this link are found in {location}')"
      ],
      "metadata": {
        "id": "nliFfi7aoR6M"
      },
      "execution_count": null,
      "outputs": []
    },
    {
      "cell_type": "markdown",
      "source": [
        "## Now we want to set up the loader to add the offline files."
      ],
      "metadata": {
        "id": "wEOKRfyKpR6C"
      }
    },
    {
      "cell_type": "code",
      "source": [
        "from cmipld.utils.server_tools.offline_patched import LD_server\n",
        "import os\n",
        "\n",
        "# if there are multiple repositories we can add them as tuples within the list.\n",
        "local = [(location,cmipld.mapping[prefix], prefix)]\n",
        "\n",
        "# start the server and set up the redirects.\n",
        "server = LD_server(copy=local, use_ssl=False)\n",
        "\n",
        "url = server.start_server(port=8081)"
      ],
      "metadata": {
        "id": "Iusz7-GOo223"
      },
      "execution_count": null,
      "outputs": []
    },
    {
      "cell_type": "markdown",
      "source": [
        "## Now we are able to read the files as we would normally with cmipld or jsonld functions\n",
        "- This allows links to resolve and can do prefix redirects"
      ],
      "metadata": {
        "id": "8BxIwISzqTjA"
      }
    },
    {
      "cell_type": "code",
      "source": [
        "from pyld import jsonld\n",
        "\n",
        "jsonld.expand(f'{prefix}:path/to/your file')"
      ],
      "metadata": {
        "id": "GabJ_Bn6qRmQ"
      },
      "execution_count": null,
      "outputs": []
    }
  ]
}