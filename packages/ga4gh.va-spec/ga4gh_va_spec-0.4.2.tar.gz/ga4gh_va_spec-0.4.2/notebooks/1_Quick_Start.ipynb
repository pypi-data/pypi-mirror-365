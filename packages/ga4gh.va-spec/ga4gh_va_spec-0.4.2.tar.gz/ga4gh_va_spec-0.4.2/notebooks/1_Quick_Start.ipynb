{
 "cells": [
  {
   "cell_type": "code",
   "execution_count": 1,
   "metadata": {},
   "outputs": [],
   "source": [
    "from ga4gh.va_spec.base.domain_entities import TherapyGroup"
   ]
  },
  {
   "cell_type": "code",
   "execution_count": 2,
   "metadata": {},
   "outputs": [],
   "source": [
    "tg_dict = {\n",
    "    \"id\": \"civic.theragroup:e1090\",\n",
    "    \"therapies\": [\n",
    "        {\n",
    "            \"primaryCoding\": {\n",
    "                \"code\": \"ncit:C1005\",\n",
    "                \"system\": \"ncit\"\n",
    "            },\n",
    "            \"name\": \"Arsenic Trioxide\"\n",
    "        },\n",
    "        {\n",
    "            \"primaryCoding\": {\n",
    "                \"code\": \"C900\",\n",
    "                \"system\": \"ncit\"\n",
    "            },\n",
    "            \"name\": \"Tretinoin\"\n",
    "        }\n",
    "    ],\n",
    "    \"membershipOperator\": \"AND\"\n",
    "}"
   ]
  },
  {
   "cell_type": "code",
   "execution_count": 3,
   "metadata": {},
   "outputs": [
    {
     "data": {
      "text/plain": [
       "TherapyGroup(id='civic.theragroup:e1090', extensions=None, therapies=[MappableConcept(id=None, extensions=None, conceptType=None, name='Arsenic Trioxide', primaryCoding=Coding(id=None, extensions=None, name=None, system='ncit', systemVersion=None, code=code(root='ncit:C1005'), iris=None), mappings=None), MappableConcept(id=None, extensions=None, conceptType=None, name='Tretinoin', primaryCoding=Coding(id=None, extensions=None, name=None, system='ncit', systemVersion=None, code=code(root='C900'), iris=None), mappings=None)], membershipOperator='AND')"
      ]
     },
     "execution_count": 3,
     "metadata": {},
     "output_type": "execute_result"
    }
   ],
   "source": [
    "tg = TherapyGroup(**tg_dict)\n",
    "tg"
   ]
  },
  {
   "cell_type": "code",
   "execution_count": 4,
   "metadata": {},
   "outputs": [
    {
     "data": {
      "text/plain": [
       "{'id': 'civic.theragroup:e1090',\n",
       " 'therapies': [{'name': 'Arsenic Trioxide',\n",
       "   'primaryCoding': {'system': 'ncit', 'code': 'ncit:C1005'}},\n",
       "  {'name': 'Tretinoin', 'primaryCoding': {'system': 'ncit', 'code': 'C900'}}],\n",
       " 'membershipOperator': 'AND'}"
      ]
     },
     "execution_count": 4,
     "metadata": {},
     "output_type": "execute_result"
    }
   ],
   "source": [
    "tg.model_dump(exclude_none=True)"
   ]
  }
 ],
 "metadata": {
  "kernelspec": {
   "display_name": "venv",
   "language": "python",
   "name": "python3"
  },
  "language_info": {
   "codemirror_mode": {
    "name": "ipython",
    "version": 3
   },
   "file_extension": ".py",
   "mimetype": "text/x-python",
   "name": "python",
   "nbconvert_exporter": "python",
   "pygments_lexer": "ipython3",
   "version": "3.12.2"
  }
 },
 "nbformat": 4,
 "nbformat_minor": 2
}
