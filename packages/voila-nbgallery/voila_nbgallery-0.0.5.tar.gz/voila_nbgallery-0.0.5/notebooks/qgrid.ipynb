{
 "cells": [
  {
   "cell_type": "markdown",
   "metadata": {},
   "source": [
    "# Qgrid test notebook\n",
    "\n",
    "To install:\n",
    "\n",
    "```\n",
    "pip install qgrid pandas\n",
    "jupyter nbextension enable --py --sys-prefix qgrid\n",
    "```\n",
    "\n",
    "Add `--VoilaConfiguration.enable_nbextensions=True` to try to serve locally before falling back to CDN (unpkg.com).\n",
    "\n",
    "Relevant issues:\n",
    " * https://github.com/voila-dashboards/voila/issues/72\n",
    " * https://github.com/quantopian/qgrid/issues/291\n",
    " * https://github.com/quantopian/qgrid/issues/298\n",
    " * https://github.com/quantopian/qgrid/issues/312\n",
    " * https://github.com/quantopian/qgrid/issues/327\n"
   ]
  },
  {
   "cell_type": "code",
   "execution_count": null,
   "metadata": {
    "ExecuteTime": {
     "end_time": "2021-04-05T15:13:18.093719Z",
     "start_time": "2021-04-05T15:13:17.500210Z"
    }
   },
   "outputs": [],
   "source": [
    "import numpy as np\n",
    "import pandas as pd\n",
    "import qgrid\n",
    "\n",
    "\n",
    "np.random.seed(0)\n",
    "n = 200\n",
    "x = np.linspace(0.0, 10.0, n)\n",
    "y = np.cumsum(np.random.randn(n))\n",
    "df = pd.DataFrame({'x': x, 'y':y})\n",
    "\n",
    "tableOut = qgrid.QgridWidget(df=df, show_toolbar=True)\n",
    "tableOut"
   ]
  },
  {
   "cell_type": "code",
   "execution_count": null,
   "metadata": {
    "ExecuteTime": {
     "end_time": "2021-04-05T15:13:18.968608Z",
     "start_time": "2021-04-05T15:13:18.856390Z"
    }
   },
   "outputs": [],
   "source": [
    "df2 = pd.DataFrame([\n",
    "    {'a': 'apple', 'b': 'banana', 'c':'carrot'},\n",
    "    {'a': 'apricot', 'b': 'blood range', 'c':'cucumber'},\n",
    "    {'a': 'asparagus', 'b': 'bok choi', 'c': 'cauliflower'}\n",
    "])\n",
    "qgrid.QgridWidget(df=df2, show_toolbar=True)"
   ]
  },
  {
   "cell_type": "code",
   "execution_count": null,
   "metadata": {},
   "outputs": [],
   "source": []
  }
 ],
 "metadata": {
  "kernelspec": {
   "display_name": "Python 3",
   "language": "python",
   "name": "python3"
  },
  "language_info": {
   "codemirror_mode": {
    "name": "ipython",
    "version": 3
   },
   "file_extension": ".py",
   "mimetype": "text/x-python",
   "name": "python",
   "nbconvert_exporter": "python",
   "pygments_lexer": "ipython3",
   "version": "3.8.6"
  },
  "toc": {
   "base_numbering": 1,
   "nav_menu": {},
   "number_sections": true,
   "sideBar": true,
   "skip_h1_title": false,
   "title_cell": "Table of Contents",
   "title_sidebar": "Contents",
   "toc_cell": false,
   "toc_position": {},
   "toc_section_display": true,
   "toc_window_display": false
  }
 },
 "nbformat": 4,
 "nbformat_minor": 4
}
