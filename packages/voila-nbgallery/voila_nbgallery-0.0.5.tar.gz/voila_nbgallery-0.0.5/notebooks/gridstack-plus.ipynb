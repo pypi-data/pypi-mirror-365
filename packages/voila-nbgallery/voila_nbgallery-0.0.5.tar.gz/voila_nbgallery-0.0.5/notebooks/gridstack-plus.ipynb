{
 "cells": [
  {
   "cell_type": "markdown",
   "metadata": {
    "extensions": {
     "jupyter_dashboards": {
      "version": 1,
      "views": {
       "default_view": {
        "col": 0,
        "height": 2,
        "hidden": false,
        "row": 0,
        "width": 12
       }
      }
     }
    }
   },
   "source": [
    "# Gridstack test notebook"
   ]
  },
  {
   "cell_type": "code",
   "execution_count": null,
   "metadata": {
    "ExecuteTime": {
     "end_time": "2021-01-13T22:21:02.564945Z",
     "start_time": "2021-01-13T22:21:02.561545Z"
    },
    "extensions": {
     "jupyter_dashboards": {
      "version": 1,
      "views": {
       "default_view": {
        "col": 0,
        "height": 2,
        "hidden": true,
        "row": 8,
        "width": 12
       }
      }
     }
    }
   },
   "outputs": [],
   "source": [
    "import ipywidgets as widgets\n",
    "from IPython.display import display\n",
    "\n",
    "import numpy as np\n",
    "import pandas as pd\n",
    "import qgrid"
   ]
  },
  {
   "cell_type": "code",
   "execution_count": null,
   "metadata": {
    "ExecuteTime": {
     "end_time": "2021-01-13T22:21:02.577285Z",
     "start_time": "2021-01-13T22:21:02.571492Z"
    },
    "extensions": {
     "jupyter_dashboards": {
      "version": 1,
      "views": {
       "default_view": {
        "col": 0,
        "height": 2,
        "hidden": false,
        "row": 2,
        "width": 8
       }
      }
     }
    }
   },
   "outputs": [],
   "source": [
    "print(\"hello world; a button should appear to the right --->\")"
   ]
  },
  {
   "cell_type": "code",
   "execution_count": null,
   "metadata": {
    "ExecuteTime": {
     "end_time": "2021-01-13T22:21:02.598828Z",
     "start_time": "2021-01-13T22:21:02.579834Z"
    },
    "extensions": {
     "jupyter_dashboards": {
      "version": 1,
      "views": {
       "default_view": {
        "col": 8,
        "height": 2,
        "hidden": false,
        "row": 2,
        "width": 4
       }
      }
     }
    }
   },
   "outputs": [],
   "source": [
    "widgets.Button(description='a button')"
   ]
  },
  {
   "cell_type": "markdown",
   "metadata": {
    "extensions": {
     "jupyter_dashboards": {
      "version": 1,
      "views": {
       "default_view": {
        "col": 4,
        "height": 4,
        "hidden": false,
        "row": 4,
        "width": 7
       }
      }
     }
    }
   },
   "source": [
    "## some more markdown\n",
    "\n",
    "hello world\n",
    "\n",
    "<--- a number should appear to the left"
   ]
  },
  {
   "cell_type": "code",
   "execution_count": null,
   "metadata": {
    "ExecuteTime": {
     "end_time": "2021-01-13T22:21:02.616173Z",
     "start_time": "2021-01-13T22:21:02.602010Z"
    },
    "extensions": {
     "jupyter_dashboards": {
      "version": 1,
      "views": {
       "default_view": {
        "col": 0,
        "height": 4,
        "hidden": false,
        "row": 4,
        "width": 4
       }
      }
     }
    }
   },
   "outputs": [],
   "source": [
    "1 + 2 + 3"
   ]
  },
  {
   "cell_type": "markdown",
   "metadata": {
    "extensions": {
     "jupyter_dashboards": {
      "version": 1,
      "views": {
       "default_view": {
        "col": 0,
        "height": 2,
        "hidden": false,
        "row": 8,
        "width": 12
       }
      }
     }
    }
   },
   "source": [
    "## other tests"
   ]
  },
  {
   "cell_type": "markdown",
   "metadata": {
    "extensions": {
     "jupyter_dashboards": {
      "version": 1,
      "views": {
       "default_view": {
        "col": 0,
        "height": 2,
        "hidden": false,
        "row": 10,
        "width": 4
       }
      }
     }
    }
   },
   "source": [
    "### font-awesome"
   ]
  },
  {
   "cell_type": "code",
   "execution_count": null,
   "metadata": {
    "ExecuteTime": {
     "end_time": "2021-01-13T22:21:02.664141Z",
     "start_time": "2021-01-13T22:21:02.619205Z"
    },
    "extensions": {
     "jupyter_dashboards": {
      "version": 1,
      "views": {
       "default_view": {
        "col": 0,
        "height": 5,
        "hidden": false,
        "row": 12,
        "width": 4
       }
      }
     }
    }
   },
   "outputs": [],
   "source": [
    "import ipywidgets as widgets\n",
    "\n",
    "display(widgets.Button(description='search', icon='search'))\n",
    "display(widgets.Button(description='retweet', icon='retweet', button_style='success'))\n",
    "display(widgets.Button(description='filter', icon='filter', button_style='danger'))"
   ]
  },
  {
   "cell_type": "markdown",
   "metadata": {
    "extensions": {
     "jupyter_dashboards": {
      "version": 1,
      "views": {
       "default_view": {
        "col": 4,
        "height": 2,
        "hidden": false,
        "row": 10,
        "width": 8
       }
      }
     }
    }
   },
   "source": [
    "### qgrid"
   ]
  },
  {
   "cell_type": "code",
   "execution_count": null,
   "metadata": {
    "ExecuteTime": {
     "end_time": "2021-01-13T22:21:02.716064Z",
     "start_time": "2021-01-13T22:21:02.666518Z"
    },
    "extensions": {
     "jupyter_dashboards": {
      "version": 1,
      "views": {
       "default_view": {
        "col": 4,
        "height": 5,
        "hidden": false,
        "row": 12,
        "width": 8
       }
      }
     }
    }
   },
   "outputs": [],
   "source": [
    "np.random.seed(0)\n",
    "n = 200\n",
    "x = np.linspace(0.0, 10.0, n)\n",
    "y = np.cumsum(np.random.randn(n))\n",
    "df = pd.DataFrame({'x': x, 'y':y})\n",
    "\n",
    "tableOut = qgrid.QgridWidget(df=df, show_toolbar=True)\n",
    "tableOut"
   ]
  },
  {
   "cell_type": "code",
   "execution_count": null,
   "metadata": {
    "extensions": {
     "jupyter_dashboards": {
      "version": 1,
      "views": {
       "default_view": {
        "hidden": true
       }
      }
     }
    }
   },
   "outputs": [],
   "source": []
  }
 ],
 "metadata": {
  "extensions": {
   "jupyter_dashboards": {
    "activeView": "default_view",
    "version": 1,
    "views": {
     "default_view": {
      "cellMargin": 10,
      "defaultCellHeight": 40,
      "maxColumns": 12,
      "name": "active_view",
      "type": "grid"
     }
    }
   }
  },
  "kernelspec": {
   "display_name": "Python 3",
   "language": "python",
   "name": "python3"
  },
  "language_info": {
   "codemirror_mode": {
    "name": "ipython",
    "version": 3
   },
   "file_extension": ".py",
   "mimetype": "text/x-python",
   "name": "python",
   "nbconvert_exporter": "python",
   "pygments_lexer": "ipython3",
   "version": "3.8.6"
  },
  "toc": {
   "base_numbering": 1,
   "nav_menu": {},
   "number_sections": true,
   "sideBar": true,
   "skip_h1_title": false,
   "title_cell": "Table of Contents",
   "title_sidebar": "Contents",
   "toc_cell": false,
   "toc_position": {},
   "toc_section_display": true,
   "toc_window_display": false
  }
 },
 "nbformat": 4,
 "nbformat_minor": 4
}
