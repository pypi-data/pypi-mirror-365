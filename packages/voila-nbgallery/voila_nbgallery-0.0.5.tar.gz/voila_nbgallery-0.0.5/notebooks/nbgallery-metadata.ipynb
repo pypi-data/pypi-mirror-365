{
 "cells": [
  {
   "cell_type": "code",
   "execution_count": null,
   "metadata": {},
   "outputs": [],
   "source": [
    "import os\n",
    "import time\n",
    "\n",
    "import ipywidgets as widgets"
   ]
  },
  {
   "cell_type": "markdown",
   "metadata": {},
   "source": [
    "### Use the sleep button to test the kernel-busy indicator"
   ]
  },
  {
   "cell_type": "code",
   "execution_count": null,
   "metadata": {},
   "outputs": [],
   "source": [
    "def sleep_callback(b):\n",
    "    time.sleep(3)\n",
    "\n",
    "sleep_button = widgets.Button(description='sleep')\n",
    "sleep_button.on_click(sleep_callback)\n",
    "sleep_button"
   ]
  },
  {
   "cell_type": "markdown",
   "metadata": {},
   "source": [
    "### Check whether nbgallery environment variables were set by the template\n",
    "\n",
    "This won't work in standalone voila because execute requests are blocked."
   ]
  },
  {
   "cell_type": "code",
   "execution_count": null,
   "metadata": {},
   "outputs": [],
   "source": [
    "output = widgets.Output()\n",
    "button = widgets.Button(description='check env')\n",
    "\n",
    "@output.capture()\n",
    "def check_env(b):\n",
    "    for k in ('NBGALLERY_UUID', 'NBGALLERY_GIT_COMMIT_ID'):\n",
    "        print(f\"{k} = {os.getenv(k)}\")\n",
    "        \n",
    "button.on_click(check_env)\n",
    "widgets.VBox([button, output])"
   ]
  },
  {
   "cell_type": "code",
   "execution_count": null,
   "metadata": {},
   "outputs": [],
   "source": []
  }
 ],
 "metadata": {
  "gallery": {
   "description": "This notebook contains notional nbgallery metadata for testing the custom Voila template.",
   "gallery_url": "http://localhost:3000/",
   "git_commit_id": "dbdf855c-b2e6-4d55-b8f8-e7fae068e66f",
   "owner_name": "John Doe",
   "owner_url": "http://localhost:3000/users/1-john-doe",
   "url": "http://localhost:3000/notebooks/1-nbgallery-metadata",
   "uuid": "669def73-5b6e-442f-9802-7b8d15878c67"
  },
  "kernelspec": {
   "display_name": "Python 3",
   "language": "python",
   "name": "python3"
  },
  "language_info": {
   "codemirror_mode": {
    "name": "ipython",
    "version": 3
   },
   "file_extension": ".py",
   "mimetype": "text/x-python",
   "name": "python",
   "nbconvert_exporter": "python",
   "pygments_lexer": "ipython3",
   "version": "3.8.6"
  },
  "toc": {
   "base_numbering": 1,
   "nav_menu": {},
   "number_sections": true,
   "sideBar": true,
   "skip_h1_title": false,
   "title_cell": "Table of Contents",
   "title_sidebar": "Contents",
   "toc_cell": false,
   "toc_position": {},
   "toc_section_display": true,
   "toc_window_display": false
  }
 },
 "nbformat": 4,
 "nbformat_minor": 4
}
