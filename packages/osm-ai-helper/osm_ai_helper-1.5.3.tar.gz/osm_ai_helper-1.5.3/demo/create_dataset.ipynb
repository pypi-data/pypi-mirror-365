{
 "cells": [
  {
   "cell_type": "markdown",
   "metadata": {
    "id": "wjT73ITlZM4o"
   },
   "source": [
    "# Create dataset from OpenStreetMap data and Mapbox tiles"
   ]
  },
  {
   "cell_type": "markdown",
   "metadata": {
    "id": "I4wmCTlNZJk4"
   },
   "source": [
    "## Dependencies"
   ]
  },
  {
   "cell_type": "code",
   "execution_count": null,
   "metadata": {
    "id": "glngzI8Wtnuz"
   },
   "outputs": [],
   "source": [
    "%pip install --quiet git+https://github.com/mozilla-ai/osm-ai-helper.git"
   ]
  },
  {
   "cell_type": "markdown",
   "metadata": {
    "id": "p8BziLQHZOJo"
   },
   "source": [
    "## Download data from OpenStreetMap"
   ]
  },
  {
   "cell_type": "code",
   "execution_count": null,
   "metadata": {
    "id": "IrANDMa7tm3v"
   },
   "outputs": [],
   "source": [
    "from osm_ai_helper.download_osm import download_osm"
   ]
  },
  {
   "cell_type": "markdown",
   "metadata": {
    "id": "GbgMiZL0ZsVz"
   },
   "source": [
    "- `TRAIN_AREA` / `VAL_AREA`\n",
    "\n",
    "Pick values that don't geographically overlap.\n",
    "\n",
    "Can be city, state, country, etc.\n",
    "\n",
    "Uses the [Nominatim API](https://nominatim.org/release-docs/develop/api/Search/).\n",
    "\n",
    "- `SELECTOR`\n",
    "\n",
    "OpenStreetMap tag to select elements.\n",
    "Check some examples of [OpenStreetMap tags](https://wiki.openstreetmap.org/wiki/Map_features).\n",
    "\n",
    "Uses the [Overpass API](https://wiki.openstreetmap.org/wiki/Overpass_API/Language_Guide).\n",
    "\n",
    "The example uses [\"leisure=swimming_pool\"](https://wiki.openstreetmap.org/wiki/Tag:leisure%3Dswimming_pool)\n",
    "\n",
    "- `DISCARD`\n",
    "\n",
    "Elements matching any of the given key/value pairs will be discarded.\n",
    "\n",
    "The chosen `SELECTOR` might pull elements that are not revelant for training, so\n",
    "you can use this to filter unwanted elements.\n",
    "\n",
    "The example uses `{\"location\": \"indoor\"}` to filter swimming pools that are not\n",
    "visible in the satellite image.\n"
   ]
  },
  {
   "cell_type": "code",
   "execution_count": null,
   "metadata": {
    "id": "jFGECxlebTTV"
   },
   "outputs": [],
   "source": [
    "TRAIN_AREA = \"Galicia\"\n",
    "VAL_AREA = \"Viana do Castelo\"\n",
    "SELECTOR = \"leisure=swimming_pool\"\n",
    "DISCARD = {\"location\": \"indoor\"}\n",
    "CLASS_NAME = \"swimming_pool\""
   ]
  },
  {
   "cell_type": "code",
   "execution_count": null,
   "metadata": {
    "id": "MfyKnOb8-Hfb"
   },
   "outputs": [],
   "source": [
    "download_osm(\n",
    "    area=TRAIN_AREA,\n",
    "    output_dir=\"datasets\",\n",
    "    selector=SELECTOR,\n",
    "    discard=DISCARD,\n",
    ")"
   ]
  },
  {
   "cell_type": "code",
   "execution_count": null,
   "metadata": {
    "id": "frI7ZZWf-H3r"
   },
   "outputs": [],
   "source": [
    "download_osm(\n",
    "    area=VAL_AREA,\n",
    "    output_dir=\"datasets\",\n",
    "    selector=SELECTOR,\n",
    "    discard=DISCARD,\n",
    ")"
   ]
  },
  {
   "cell_type": "markdown",
   "metadata": {
    "id": "m6BJL28qb77o"
   },
   "source": [
    "## Download tiles from Mapbox"
   ]
  },
  {
   "cell_type": "code",
   "execution_count": null,
   "metadata": {
    "id": "nFCrbArktm3z"
   },
   "outputs": [],
   "source": [
    "from google.colab import userdata\n",
    "\n",
    "from osm_ai_helper.group_elements_and_download_tiles import (\n",
    "    group_elements_and_download_tiles,\n",
    ")"
   ]
  },
  {
   "cell_type": "markdown",
   "metadata": {
    "id": "OctiwC1ScHul"
   },
   "source": [
    "- `ZOOM`\n",
    "\n",
    "An appropriate [`zoom` level](https://docs.mapbox.com/help/glossary/zoom-level/)\n",
    "\n",
    "There is a tradeoff between easier detection (higher zoom levels) and covering a wider area on each tile (lower zoom levels).\n",
    "\n",
    "The example uses `18` for swimming pools."
   ]
  },
  {
   "cell_type": "code",
   "execution_count": null,
   "metadata": {
    "id": "tVPo2m4TcBl7"
   },
   "outputs": [],
   "source": [
    "ZOOM = 18"
   ]
  },
  {
   "cell_type": "markdown",
   "metadata": {
    "id": "EYypMU_Jd7Y_"
   },
   "source": [
    "You need to set the `MAPBOX_TOKEN` Colab secret:\n",
    "\n",
    "- Create an account: https://console.mapbox.com/\n",
    "- Follow this guide to obtain your [Default Public Token](https://docs.mapbox.com/help/getting-started/access-tokens/#your-default-public-token)."
   ]
  },
  {
   "cell_type": "code",
   "execution_count": null,
   "metadata": {
    "id": "Gx7GlfJhtm31"
   },
   "outputs": [],
   "source": [
    "group_elements_and_download_tiles(\n",
    "    f\"datasets/{TRAIN_AREA}.json\",\n",
    "    f\"datasets/{TRAIN_AREA}\",\n",
    "    userdata.get(\"MAPBOX_TOKEN\"),\n",
    "    zoom=ZOOM,\n",
    ")"
   ]
  },
  {
   "cell_type": "code",
   "execution_count": null,
   "metadata": {
    "id": "FwuGbRsg-Jpx"
   },
   "outputs": [],
   "source": [
    "group_elements_and_download_tiles(\n",
    "    f\"datasets/{VAL_AREA}.json\",\n",
    "    f\"datasets/{VAL_AREA}\",\n",
    "    userdata.get(\"MAPBOX_TOKEN\"),\n",
    "    zoom=ZOOM,\n",
    ")"
   ]
  },
  {
   "cell_type": "markdown",
   "metadata": {
    "id": "b3OJrI7EcUbp"
   },
   "source": [
    "## Convert to YOLO dataset"
   ]
  },
  {
   "cell_type": "markdown",
   "metadata": {
    "id": "gN64VeZDccTm"
   },
   "source": [
    "We are going to use the dataset to train a YOLO model from https://www.ultralytics.com/ so we need to convert the dataset to [the expected format](https://docs.ultralytics.com/datasets/detect/)"
   ]
  },
  {
   "cell_type": "code",
   "execution_count": null,
   "metadata": {
    "id": "aWEnpkBctm31"
   },
   "outputs": [],
   "source": [
    "from osm_ai_helper.convert_to_yolo_dataset import convert_to_yolo_dataset"
   ]
  },
  {
   "cell_type": "code",
   "execution_count": null,
   "metadata": {
    "id": "ZIueAXLqtm32"
   },
   "outputs": [],
   "source": [
    "convert_to_yolo_dataset(f\"datasets/{TRAIN_AREA}\")"
   ]
  },
  {
   "cell_type": "code",
   "execution_count": null,
   "metadata": {
    "id": "cGJqL558-THJ"
   },
   "outputs": [],
   "source": [
    "convert_to_yolo_dataset(f\"datasets/{VAL_AREA}\")"
   ]
  },
  {
   "cell_type": "markdown",
   "metadata": {
    "id": "wM4AZ38se8I3"
   },
   "source": [
    "# Check out of the box predictions"
   ]
  },
  {
   "cell_type": "code",
   "execution_count": null,
   "metadata": {
    "id": "Ee-qYBFje8I4"
   },
   "outputs": [],
   "source": [
    "from pathlib import Path\n",
    "from ultralytics import YOLO"
   ]
  },
  {
   "cell_type": "code",
   "execution_count": null,
   "metadata": {
    "id": "QRdKuCYWe8I4"
   },
   "outputs": [],
   "source": [
    "yolo = YOLO(\"yolo11m.pt\")"
   ]
  },
  {
   "cell_type": "code",
   "execution_count": null,
   "metadata": {
    "id": "l1c3v6Rme8I5"
   },
   "outputs": [],
   "source": [
    "yolo.predict(list(Path(f\"datasets/{VAL_AREA}\").glob(\"*.jpg\"))[0], save=True)"
   ]
  },
  {
   "cell_type": "code",
   "execution_count": null,
   "metadata": {
    "id": "CsnSax6Qxo_4"
   },
   "outputs": [],
   "source": [
    "from PIL import Image\n",
    "\n",
    "Image.open(list(Path(\"runs/detect/predict\").glob(\"*.jpg\"))[0])"
   ]
  },
  {
   "cell_type": "markdown",
   "metadata": {
    "id": "9O_CgwA3e8I5"
   },
   "source": [
    "# Upload Dataset"
   ]
  },
  {
   "cell_type": "markdown",
   "metadata": {
    "id": "bczc1R9WdX7S"
   },
   "source": [
    "The dataset will be uploaded to the [HuggingFace Hub Datasets](https://huggingface.co/docs/hub/datasets).\n",
    "\n",
    "You need to set the `HF_TOKEN` Colab secret:\n",
    "\n",
    "- Create an account: https://huggingface.co/join\n",
    "- Follow this guide about [`User Access Tokens`](https://huggingface.co/docs/hub/security-tokens)\n",
    "\n"
   ]
  },
  {
   "cell_type": "code",
   "execution_count": null,
   "metadata": {
    "id": "m4Jt9Vskx3KW"
   },
   "outputs": [],
   "source": [
    "!rm \"datasets/{TRAIN_AREA}\"/*.json"
   ]
  },
  {
   "cell_type": "code",
   "execution_count": null,
   "metadata": {
    "id": "I1bcYgnbx622"
   },
   "outputs": [],
   "source": [
    "!rm \"datasets/{VAL_AREA}\"/*.json"
   ]
  },
  {
   "cell_type": "code",
   "execution_count": null,
   "metadata": {
    "id": "PFshqJtJx0ZR"
   },
   "outputs": [],
   "source": [
    "!zip -r -q train.zip \"datasets/{TRAIN_AREA}\""
   ]
  },
  {
   "cell_type": "code",
   "execution_count": null,
   "metadata": {
    "id": "iOlKM1YZyJdc"
   },
   "outputs": [],
   "source": [
    "!zip -r -q val.zip \"datasets/{VAL_AREA}\""
   ]
  },
  {
   "cell_type": "code",
   "execution_count": null,
   "metadata": {
    "id": "1wQCigske8I5"
   },
   "outputs": [],
   "source": [
    "USER = \"mozilla-ai\"\n",
    "REPO = \"osm-swimming-pools\""
   ]
  },
  {
   "cell_type": "markdown",
   "metadata": {
    "id": "5kM-K8nQe8I5"
   },
   "source": [
    "Create the yaml config used by YOLO"
   ]
  },
  {
   "cell_type": "code",
   "execution_count": null,
   "metadata": {
    "id": "rN3I8ukd_cup"
   },
   "outputs": [],
   "source": [
    "Path(\"yolo_dataset.yaml\").write_text(\n",
    "    f\"\"\"\n",
    "path: .\n",
    "train: {TRAIN_AREA}\n",
    "val: {VAL_AREA}\n",
    "\n",
    "names:\n",
    "  0: {CLASS_NAME}\n",
    "\"\"\"\n",
    ")"
   ]
  },
  {
   "cell_type": "code",
   "execution_count": null,
   "metadata": {
    "id": "3uFZAgpehBYf"
   },
   "outputs": [],
   "source": [
    "Path(\"README.md\").write_text(\n",
    "    f\"\"\"\n",
    "---\n",
    "task_categories:\n",
    "- object-detection\n",
    "---\n",
    "\n",
    "# {REPO}\n",
    "\n",
    "Detect {CLASS_NAME}s in satellite images.\n",
    "\n",
    "Created with [osm-ai-helper](https://github.com/mozilla-ai/osm-ai-helper).\n",
    "\n",
    "## Ground Truth Bounding Boxes\n",
    "\n",
    "Downloaded from [OpenStreetMap](https://www.openstreetmap.org). LICENSE: https://www.openstreetmap.org/copyright\n",
    "\n",
    "Used the `{SELECTOR}` [OpenStreetMap tags](https://wiki.openstreetmap.org/wiki/Map_features). Discarded the elements matching `{DISCARD}`.\n",
    "\n",
    "## Satellite Images\n",
    "\n",
    "Downloaded from [Mapbox](https://www.mapbox.com/). LICENSE: https://docs.mapbox.com/data/tilesets/guides/imagery/#trace-satellite-imagery\n",
    "\n",
    "Used a [zoom level](https://docs.mapbox.com/help/glossary/zoom-level/) of `{ZOOM}`.\n",
    "\"\"\"\n",
    ")"
   ]
  },
  {
   "cell_type": "code",
   "execution_count": null,
   "metadata": {
    "id": "vhHuBREHAkap"
   },
   "outputs": [],
   "source": [
    "from huggingface_hub import HfApi"
   ]
  },
  {
   "cell_type": "code",
   "execution_count": null,
   "metadata": {
    "id": "V9EAJyQXAfmh"
   },
   "outputs": [],
   "source": [
    "api = HfApi()"
   ]
  },
  {
   "cell_type": "code",
   "execution_count": null,
   "metadata": {
    "id": "E30UlYaiBFm4"
   },
   "outputs": [],
   "source": [
    "api.create_repo(f\"{USER}/{REPO}\", token=userdata.get(\"HF_TOKEN\"), repo_type=\"dataset\")"
   ]
  },
  {
   "cell_type": "code",
   "execution_count": null,
   "metadata": {
    "id": "B0Op9-72e8I7"
   },
   "outputs": [],
   "source": [
    "api.upload_file(\n",
    "    token=userdata.get(\"HF_TOKEN\"),\n",
    "    path_or_fileobj=\"train.zip\",\n",
    "    path_in_repo=\"train.zip\",\n",
    "    repo_id=f\"{USER}/{REPO}\",\n",
    "    repo_type=\"dataset\",\n",
    ")"
   ]
  },
  {
   "cell_type": "code",
   "execution_count": null,
   "metadata": {
    "id": "rJe4_QTEyZQV"
   },
   "outputs": [],
   "source": [
    "api.upload_file(\n",
    "    token=userdata.get(\"HF_TOKEN\"),\n",
    "    path_or_fileobj=\"val.zip\",\n",
    "    path_in_repo=\"val.zip\",\n",
    "    repo_id=f\"{USER}/{REPO}\",\n",
    "    repo_type=\"dataset\",\n",
    ")"
   ]
  },
  {
   "cell_type": "code",
   "execution_count": null,
   "metadata": {
    "id": "uznQ72N0yepr"
   },
   "outputs": [],
   "source": [
    "api.upload_file(\n",
    "    token=userdata.get(\"HF_TOKEN\"),\n",
    "    path_or_fileobj=\"yolo_dataset.yaml\",\n",
    "    path_in_repo=\"yolo_dataset.yaml\",\n",
    "    repo_id=f\"{USER}/{REPO}\",\n",
    "    repo_type=\"dataset\",\n",
    ")"
   ]
  },
  {
   "cell_type": "code",
   "execution_count": null,
   "metadata": {
    "id": "XvOV-VkXiDo4"
   },
   "outputs": [],
   "source": [
    "api.upload_file(\n",
    "    token=userdata.get(\"HF_TOKEN\"),\n",
    "    path_or_fileobj=\"README.md\",\n",
    "    path_in_repo=\"README.md\",\n",
    "    repo_id=f\"{USER}/{REPO}\",\n",
    "    repo_type=\"dataset\",\n",
    ")"
   ]
  },
  {
   "cell_type": "code",
   "execution_count": null,
   "metadata": {
    "id": "co-rllvSiK1J"
   },
   "outputs": [],
   "source": []
  }
 ],
 "metadata": {
  "colab": {
   "provenance": []
  },
  "kernelspec": {
   "display_name": "Python 3",
   "name": "python3"
  },
  "language_info": {
   "codemirror_mode": {
    "name": "ipython",
    "version": 3
   },
   "file_extension": ".py",
   "mimetype": "text/x-python",
   "name": "python",
   "nbconvert_exporter": "python",
   "pygments_lexer": "ipython3",
   "version": "3.10.12"
  }
 },
 "nbformat": 4,
 "nbformat_minor": 0
}
