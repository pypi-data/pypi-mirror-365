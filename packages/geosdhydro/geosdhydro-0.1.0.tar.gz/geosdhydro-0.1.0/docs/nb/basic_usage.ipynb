{
 "cells": [
  {
   "cell_type": "markdown",
   "id": "eee95664-88f5-41fc-bc81-f066e5aa7189",
   "metadata": {},
   "source": [
    "# Generating swift catchment structure\n"
   ]
  },
  {
   "cell_type": "code",
   "execution_count": 1,
   "id": "10",
   "metadata": {},
   "outputs": [],
   "source": [
    "import geopandas as gpd"
   ]
  },
  {
   "cell_type": "code",
   "execution_count": 2,
   "id": "11",
   "metadata": {},
   "outputs": [],
   "source": [
    "from pathlib import Path"
   ]
  },
  {
   "cell_type": "code",
   "execution_count": 3,
   "id": "2bf29872-22b4-421e-abd0-72d9060546b1",
   "metadata": {},
   "outputs": [],
   "source": [
    "fpath = Path.home() / \"data/wnsw/Abercrombie/Abercrombie_links4swift.shp\""
   ]
  },
  {
   "cell_type": "code",
   "execution_count": 4,
   "id": "bd381577-573c-4678-9c18-9070e7663198",
   "metadata": {},
   "outputs": [
    {
     "data": {
      "text/plain": [
       "True"
      ]
     },
     "execution_count": 4,
     "metadata": {},
     "output_type": "execute_result"
    }
   ],
   "source": [
    "fpath.exists()"
   ]
  },
  {
   "cell_type": "code",
   "execution_count": 5,
   "id": "0b4568c2-6417-4cc2-a902-a9448af50a9f",
   "metadata": {},
   "outputs": [
    {
     "name": "stdout",
     "output_type": "stream",
     "text": [
      "   OBJECTID  Shape_Leng  LinkID  FromNodeID  ToNodeID  HeadLink  SPathCnt  \\\n",
      "0        14    0.063634      14    43408481  43346081         0        11   \n",
      "1        15    0.139247      15    43352571  43346081         0        11   \n",
      "2        16    0.133341      16    43349393  43346081         0        18   \n",
      "3        17    0.135098      17    43636314  43346081         0        14   \n",
      "4        18    0.323005      18    43408465  43346081         0        40   \n",
      "\n",
      "   LPathCnt      SPathLen      LPathLen        DArea  Prim_Link  SWIFT_ID  \\\n",
      "0        11  12423.789416  12423.789416          1.0          0      1801   \n",
      "1        11  24712.339973  24712.339973          1.0          0      1804   \n",
      "2        18  26499.836521  26499.836521          1.0          0      1805   \n",
      "3        14  34835.592042  34835.592042          1.0          0      1802   \n",
      "4        40  57889.009690  57889.009690  510940000.0          1        18   \n",
      "\n",
      "   ToNodeID2       DArea2                                           geometry  \n",
      "0          0         -1.0  LINESTRING (149.33174 -34.01786, 149.31528 -33...  \n",
      "1          0         -1.0  LINESTRING (149.45444 -33.95167, 149.31528 -33...  \n",
      "2          0         -1.0  LINESTRING (149.38417 -33.84222, 149.31528 -33...  \n",
      "3          0         -1.0  LINESTRING (149.41821 -34.04389, 149.31528 -33...  \n",
      "4   43346081  510940000.0  LINESTRING (149.59776 -34.11303, 149.31528 -33...  \n"
     ]
    }
   ],
   "source": [
    "link_specs = gpd.read_file(fpath)\n",
    "\n",
    "print(link_specs.head())"
   ]
  },
  {
   "cell_type": "code",
   "execution_count": 6,
   "id": "559812ca-64ea-4cfb-ab75-73229db74bf6",
   "metadata": {},
   "outputs": [
    {
     "data": {
      "text/plain": [
       "{'OBJECTID': dtype('int64'),\n",
       " 'Shape_Leng': dtype('float64'),\n",
       " 'LinkID': dtype('int64'),\n",
       " 'FromNodeID': dtype('int64'),\n",
       " 'ToNodeID': dtype('int64'),\n",
       " 'HeadLink': dtype('int32'),\n",
       " 'SPathCnt': dtype('int64'),\n",
       " 'LPathCnt': dtype('int64'),\n",
       " 'SPathLen': dtype('float64'),\n",
       " 'LPathLen': dtype('float64'),\n",
       " 'DArea': dtype('float64'),\n",
       " 'Prim_Link': dtype('int32'),\n",
       " 'SWIFT_ID': dtype('int32'),\n",
       " 'ToNodeID2': dtype('int64'),\n",
       " 'DArea2': dtype('float64'),\n",
       " 'geometry': <geopandas.array.GeometryDtype at 0x7f986ff22120>}"
      ]
     },
     "execution_count": 6,
     "metadata": {},
     "output_type": "execute_result"
    }
   ],
   "source": [
    "{x: link_specs[x].dtype for x in link_specs.columns}"
   ]
  },
  {
   "cell_type": "code",
   "execution_count": 7,
   "id": "06b9af41-89ec-4d10-8658-e33d369c43fd",
   "metadata": {},
   "outputs": [],
   "source": [
    "from geosdhydro.swift import ShapefileToSwiftConverter"
   ]
  },
  {
   "cell_type": "code",
   "execution_count": 8,
   "id": "b22de211-0f1a-41e7-bab7-b41eac0f090a",
   "metadata": {},
   "outputs": [],
   "source": [
    "converter = ShapefileToSwiftConverter(link_specs)\n",
    "result = converter.convert()\n"
   ]
  },
  {
   "cell_type": "code",
   "execution_count": 9,
   "id": "c2126950-6096-492b-9b39-4cedd5b79abd",
   "metadata": {},
   "outputs": [
    {
     "data": {
      "text/plain": [
       "'there are 29 links, 30 nodes, 17 subareas'"
      ]
     },
     "execution_count": 9,
     "metadata": {},
     "output_type": "execute_result"
    }
   ],
   "source": [
    "f\"there are {len(result[\"Links\"])} links, {len(result[\"Nodes\"])} nodes, {len(result[\"SubAreas\"])} subareas\""
   ]
  },
  {
   "cell_type": "markdown",
   "id": "7a6a150b-a6ab-4684-9557-aaab9479e550",
   "metadata": {},
   "source": [
    "The object `converter` has a `save_to_file` method, or you can use:"
   ]
  },
  {
   "cell_type": "code",
   "execution_count": 10,
   "id": "d1dc5a31-c23b-4cdb-a02b-9f86414aa612",
   "metadata": {},
   "outputs": [],
   "source": [
    "import json"
   ]
  },
  {
   "cell_type": "code",
   "execution_count": 11,
   "id": "9be127bf-5a7a-443f-9479-cf031ece7b2a",
   "metadata": {},
   "outputs": [],
   "source": [
    "fp = Path.home() / \"tmp\" / \"abercrombie_swift.json\"\n",
    "# with open(fp, \"w\") as f:\n",
    "#     json.dump(result, f, indent=2)\n"
   ]
  },
  {
   "cell_type": "code",
   "execution_count": null,
   "id": "43c48606-20a5-4fa2-8392-a485b42eff33",
   "metadata": {},
   "outputs": [],
   "source": []
  }
 ],
 "metadata": {
  "kernelspec": {
   "display_name": "geosdhydro",
   "language": "python",
   "name": "geosdhydro"
  },
  "language_info": {
   "codemirror_mode": {
    "name": "ipython",
    "version": 3
   },
   "file_extension": ".py",
   "mimetype": "text/x-python",
   "name": "python",
   "nbconvert_exporter": "python",
   "pygments_lexer": "ipython3",
   "version": "3.13.0"
  }
 },
 "nbformat": 4,
 "nbformat_minor": 5
}
