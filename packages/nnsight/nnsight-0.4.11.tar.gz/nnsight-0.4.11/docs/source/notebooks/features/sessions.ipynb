{
 "cells": [
  {
   "cell_type": "markdown",
   "metadata": {},
   "source": [
    "# Sessions"
   ]
  },
  {
   "cell_type": "markdown",
   "metadata": {},
   "source": [
    "NDIF uses a queue to handle concurrent requests from multiple users. To optimize the execution of our experiments we can use the `session` context to efficiently package multiple interventions together as one single request to the server.\n",
    "\n",
    "This offers the following benefits: \n",
    "1) All interventions within a session will be executed one after another without additional wait in the queue\n",
    "2) All intermediate outputs of each intervention are stored on the server and can be accessed by other interventions in the same session without moving the data back and forth between NDIF and the local machine.\n",
    "\n",
    "Let's take a look:"
   ]
  },
  {
   "cell_type": "code",
   "execution_count": 6,
   "metadata": {},
   "outputs": [],
   "source": [
    "from nnsight import CONFIG\n",
    "import os\n",
    "\n",
    "# we are using Llama model remotely hosted on NDIF servers\n",
    "CONFIG.set_default_api_key(\"YOUR_API_KEY\") \n",
    "os.environ['HF_TOKEN'] = \"YOUR_HUGGING_FACE_TOKEN\""
   ]
  },
  {
   "cell_type": "code",
   "execution_count": 7,
   "metadata": {},
   "outputs": [],
   "source": [
    "from nnsight import LanguageModel\n",
    "model = LanguageModel(\"meta-llama/Meta-Llama-3.1-70B\")"
   ]
  },
  {
   "cell_type": "code",
   "execution_count": 8,
   "metadata": {},
   "outputs": [
    {
     "name": "stderr",
     "output_type": "stream",
     "text": [
      "2025-02-06 18:00:12,636 5771f5a0-fb88-4439-8a0e-66056ff86f1e - RECEIVED: Your job has been received and is waiting approval.\n",
      "2025-02-06 18:00:12,829 5771f5a0-fb88-4439-8a0e-66056ff86f1e - APPROVED: Your job was approved and is waiting to be run.\n",
      "2025-02-06 18:00:13,263 5771f5a0-fb88-4439-8a0e-66056ff86f1e - RUNNING: Your job has started running.\n",
      "2025-02-06 18:00:14,478 5771f5a0-fb88-4439-8a0e-66056ff86f1e - COMPLETED: Your job has been completed.\n",
      "Downloading result: 100%|██████████| 1.62k/1.62k [00:00<00:00, 2.37MB/s]"
     ]
    },
    {
     "name": "stdout",
     "output_type": "stream",
     "text": [
      "\n",
      "T1 - Original Prediction:   Paris\n",
      "T2 - Modified Prediction:   Paris\n"
     ]
    },
    {
     "name": "stderr",
     "output_type": "stream",
     "text": [
      "\n"
     ]
    }
   ],
   "source": [
    "with model.session(remote=True) as session:\n",
    "\n",
    "  with model.trace(\"The Eiffel Tower is in the city of\") as t1:\n",
    "    # capture the hidden state from layer 11 at the last token\n",
    "    hs_79 = model.model.layers[79].output[0][:, -1, :] # no .save()\n",
    "    t1_tokens_out = model.lm_head.output.argmax(dim=-1).save()\n",
    "\n",
    "  with model.trace(\"Buckingham Palace is in the city of\") as t2:\n",
    "    model.model.layers[1].output[0][:, -1, :] = hs_79[:]\n",
    "    t2_tokens_out = model.lm_head.output.argmax(dim=-1).save()\n",
    "\n",
    "print(\"\\nT1 - Original Prediction: \", model.tokenizer.decode(t1_tokens_out[0][-1]))\n",
    "print(\"T2 - Modified Prediction: \", model.tokenizer.decode(t2_tokens_out[0][-1]))"
   ]
  },
  {
   "cell_type": "markdown",
   "metadata": {},
   "source": [
    "In the example above, we are interested in replacing the hidden state of a later layer with an earlier one. Since we are using a `session`, we don't have to save the hidden state from Tracer 1 to reference it in Tracer 2.\n",
    "\n",
    "It is important to note that all the traces defined within the `session` context are executed sequentially, strictly following the order of definition (i.e. `t2` being executed after `t1` and `t3` after `t2` etc.)."
   ]
  },
  {
   "cell_type": "markdown",
   "metadata": {},
   "source": [
    "The `session` context object has its own methods to log values and be terminated early."
   ]
  },
  {
   "cell_type": "code",
   "execution_count": 12,
   "metadata": {},
   "outputs": [
    {
     "name": "stderr",
     "output_type": "stream",
     "text": [
      "2025-02-06 18:01:54,568 a2bdb5ac-9885-45db-ac45-8e5e4bdc4c29 - RECEIVED: Your job has been received and is waiting approval.\n",
      "2025-02-06 18:01:54,751 a2bdb5ac-9885-45db-ac45-8e5e4bdc4c29 - APPROVED: Your job was approved and is waiting to be run.\n",
      "2025-02-06 18:01:54,970 a2bdb5ac-9885-45db-ac45-8e5e4bdc4c29 - RUNNING: Your job has started running.\n",
      "2025-02-06 18:01:54,975 a2bdb5ac-9885-45db-ac45-8e5e4bdc4c29 - LOG: -- Early Stop --\n",
      "2025-02-06 18:01:55,635 a2bdb5ac-9885-45db-ac45-8e5e4bdc4c29 - COMPLETED: Your job has been completed.\n",
      "Downloading result: 100%|██████████| 928/928 [00:00<00:00, 6.14MB/s]\n"
     ]
    }
   ],
   "source": [
    "import nnsight\n",
    "with model.session(remote=True) as session:\n",
    "\n",
    "  nnsight.log(\"-- Early Stop --\")\n",
    "  nnsight.stop\n"
   ]
  },
  {
   "cell_type": "markdown",
   "metadata": {},
   "source": [
    "In addition to the benefits mentioned above, the `session` context also enables interesting experiments not possible with other `nnsight` tools - since every trace is run on its own model, it means that within one session we can run interventions between different models – for example, we can swap activations between vanilla and instruct versions of the Llama model and compare the outputs. And `session` can also be used to run experiments entirely locally! "
   ]
  }
 ],
 "metadata": {
  "kernelspec": {
   "display_name": "nnsight_local",
   "language": "python",
   "name": "python3"
  },
  "language_info": {
   "codemirror_mode": {
    "name": "ipython",
    "version": 3
   },
   "file_extension": ".py",
   "mimetype": "text/x-python",
   "name": "python",
   "nbconvert_exporter": "python",
   "pygments_lexer": "ipython3",
   "version": "3.10.13"
  }
 },
 "nbformat": 4,
 "nbformat_minor": 2
}
