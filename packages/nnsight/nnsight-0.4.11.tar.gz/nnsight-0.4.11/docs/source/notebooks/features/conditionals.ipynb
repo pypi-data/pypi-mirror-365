{
 "cells": [
  {
   "cell_type": "markdown",
   "metadata": {},
   "source": [
    "# Conditional Interventions"
   ]
  },
  {
   "cell_type": "markdown",
   "metadata": {},
   "source": [
    "Interventions can also be made conditional.\n",
    "\n",
    "Inside the tracing context, we can specify a conditional context:\n",
    "\n",
    "```\n",
    "with tracer.cond(Boolean):\n",
    "  pass\n",
    "```\n",
    "\n",
    "This context will only execute its contained interventions if the specified condition is met. Let's try an example!"
   ]
  },
  {
   "cell_type": "code",
   "execution_count": 3,
   "metadata": {},
   "outputs": [
    {
     "name": "stdout",
     "output_type": "stream",
     "text": [
      "Random Integer  tensor([4])  is Even\n"
     ]
    }
   ],
   "source": [
    "import torch\n",
    "from nnsight import LanguageModel\n",
    "\n",
    "model = LanguageModel('openai-community/gpt2', device_map='auto')\n",
    "\n",
    "with model.trace(\"The Eiffel Tower is in the city of\") as tracer:\n",
    "\n",
    "  rand_int = torch.randint(low=-10, high=10, size=(1,))\n",
    "\n",
    "  with tracer.cond(rand_int % 2 == 0):\n",
    "    tracer.log(\"Random Integer \", rand_int, \" is Even\")\n",
    "\n",
    "  with tracer.cond(rand_int % 2 == 1):\n",
    "    tracer.log(\"Random Integer \", rand_int, \" is Odd\")"
   ]
  },
  {
   "cell_type": "markdown",
   "metadata": {},
   "source": [
    "In the example above, we have two conditional contexts with mutually exclusive conditions, just like a usual `If`-`Else` statement."
   ]
  },
  {
   "cell_type": "markdown",
   "metadata": {},
   "source": [
    "Conditional contexts can also be nested, if we want our interventions to depend on more than one condition at a time."
   ]
  },
  {
   "cell_type": "code",
   "execution_count": 4,
   "metadata": {},
   "outputs": [
    {
     "name": "stdout",
     "output_type": "stream",
     "text": [
      "Rand Int  8  is Positive and Even\n"
     ]
    }
   ],
   "source": [
    "with model.trace(\"The Eiffel Tower is in the city of\") as tracer:\n",
    "\n",
    "  non_rand_int = 8\n",
    "  \n",
    "  with tracer.cond(non_rand_int > 0):\n",
    "    with tracer.cond(non_rand_int % 2 == 0):\n",
    "      tracer.log(\"Rand Int \", non_rand_int, \" is Positive and Even\")"
   ]
  },
  {
   "cell_type": "markdown",
   "metadata": {},
   "source": [
    "`nnsight 0.4` introduces support for native Python `if` statements within the tracing context! Simply create an `if` statement within a trace, and it should perform as `tracer.cond()`."
   ]
  },
  {
   "cell_type": "code",
   "execution_count": 6,
   "metadata": {},
   "outputs": [
    {
     "name": "stdout",
     "output_type": "stream",
     "text": [
      "Random Integer  tensor([0])  is Even\n"
     ]
    }
   ],
   "source": [
    "with model.trace(\"The Eiffel Tower is in the city of\") as tracer:\n",
    "\n",
    "  rand_int = torch.randint(low=-10, high=10, size=(1,))\n",
    "\n",
    "  # Since this if statement is inside the tracing context the if will\n",
    "  # create a conditional context and will only execute the intervention\n",
    "  # if this condition is met\n",
    "  if rand_int % 2 == 0:\n",
    "    tracer.log(\"Random Integer \", rand_int, \" is Even\")\n",
    "\n",
    "  if rand_int % 2 == 1:\n",
    "    tracer.log(\"Random Integer \", rand_int, \" is Odd\")"
   ]
  },
  {
   "cell_type": "markdown",
   "metadata": {},
   "source": [
    "## Considerations\n",
    "If you would like to turn off NNsight's support of native `if` statements, you can apply the following changes to `nnsight.CONFIG`\n",
    "\n",
    "This will not affect any of NNsight's `tracer.cond()` functionality."
   ]
  },
  {
   "cell_type": "code",
   "execution_count": null,
   "metadata": {},
   "outputs": [],
   "source": [
    "# Turn off support if/for statements within tracing context.\n",
    "import nnsight\n",
    "\n",
    "nnsight.CONFIG.APP.CONTROL_FLOW_HANDLING = False\n",
    "nnsight.CONFIG.save()"
   ]
  }
 ],
 "metadata": {
  "kernelspec": {
   "display_name": "nnsight_local",
   "language": "python",
   "name": "python3"
  },
  "language_info": {
   "codemirror_mode": {
    "name": "ipython",
    "version": 3
   },
   "file_extension": ".py",
   "mimetype": "text/x-python",
   "name": "python",
   "nbconvert_exporter": "python",
   "pygments_lexer": "ipython3",
   "version": "3.10.13"
  }
 },
 "nbformat": 4,
 "nbformat_minor": 2
}
