{
 "cells": [
  {
   "cell_type": "markdown",
   "metadata": {},
   "source": [
    "# Operations"
   ]
  },
  {
   "cell_type": "markdown",
   "metadata": {},
   "source": [
    "Most basic operations and torch operations work on proxies and are added to the computation graph.\n",
    "\n",
    "In this example we get the sum of the hidden states and add them to the hidden_states themselves (for whatever reason). By saving the various steps, we can see how the values change."
   ]
  },
  {
   "cell_type": "code",
   "execution_count": 1,
   "metadata": {},
   "outputs": [
    {
     "name": "stderr",
     "output_type": "stream",
     "text": [
      "/opt/anaconda3/envs/nnsight/lib/python3.10/site-packages/tqdm/auto.py:21: TqdmWarning: IProgress not found. Please update jupyter and ipywidgets. See https://ipywidgets.readthedocs.io/en/stable/user_install.html\n",
      "  from .autonotebook import tqdm as notebook_tqdm\n"
     ]
    }
   ],
   "source": [
    "from nnsight import LanguageModel\n",
    "import torch \n",
    "\n",
    "model = LanguageModel('openai-community/gpt2', device_map='auto')\n",
    "\n",
    "with model.trace('The Eiffel Tower is in the city of') as tracer:\n",
    "\n",
    "    hidden_states_pre = model.transformer.h[-1].output[0].save()\n",
    "\n",
    "    hs_sum = torch.sum(hidden_states_pre).save()\n",
    "\n",
    "    hs_edited = hidden_states_pre + hs_sum\n",
    "\n",
    "    hs_edited = hs_edited.save()"
   ]
  },
  {
   "cell_type": "code",
   "execution_count": 2,
   "metadata": {},
   "outputs": [
    {
     "name": "stdout",
     "output_type": "stream",
     "text": [
      "tensor([[[ 0.0505, -0.1728, -0.1690,  ..., -1.0096,  0.1280, -1.0687],\n",
      "         [ 8.7495,  2.9057,  5.3024,  ..., -8.0418,  1.2964, -2.8677],\n",
      "         [ 0.2960,  4.6686, -3.6642,  ...,  0.2391, -2.6064,  3.2263],\n",
      "         ...,\n",
      "         [ 2.1537,  6.8917,  3.8651,  ...,  0.0588, -1.9866,  5.9188],\n",
      "         [-0.4460,  7.4285, -9.3065,  ...,  2.0528, -2.7946,  0.5556],\n",
      "         [ 6.6286,  1.7258,  4.7969,  ...,  7.6714,  3.0682,  2.0481]]],\n",
      "       device='mps:0', grad_fn=<AddBackward0>)\n",
      "tensor(501.2962, device='mps:0', grad_fn=<SumBackward0>)\n",
      "tensor([[[501.3467, 501.1234, 501.1272,  ..., 500.2866, 501.4242, 500.2275],\n",
      "         [510.0457, 504.2019, 506.5986,  ..., 493.2544, 502.5926, 498.4285],\n",
      "         [501.5922, 505.9648, 497.6320,  ..., 501.5353, 498.6898, 504.5225],\n",
      "         ...,\n",
      "         [503.4499, 508.1880, 505.1613,  ..., 501.3550, 499.3096, 507.2150],\n",
      "         [500.8502, 508.7247, 491.9897,  ..., 503.3490, 498.5016, 501.8518],\n",
      "         [507.9248, 503.0220, 506.0931,  ..., 508.9676, 504.3644, 503.3443]]],\n",
      "       device='mps:0', grad_fn=<AddBackward0>)\n"
     ]
    }
   ],
   "source": [
    "print(hidden_states_pre)\n",
    "print(hs_sum)\n",
    "print(hs_edited)"
   ]
  }
 ],
 "metadata": {
  "kernelspec": {
   "display_name": "ndif",
   "language": "python",
   "name": "python3"
  },
  "language_info": {
   "codemirror_mode": {
    "name": "ipython",
    "version": 3
   },
   "file_extension": ".py",
   "mimetype": "text/x-python",
   "name": "python",
   "nbconvert_exporter": "python",
   "pygments_lexer": "ipython3",
   "version": "3.10.13"
  }
 },
 "nbformat": 4,
 "nbformat_minor": 2
}
