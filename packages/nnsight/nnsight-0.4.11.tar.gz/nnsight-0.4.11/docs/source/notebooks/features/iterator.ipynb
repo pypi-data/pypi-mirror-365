{
 "cells": [
  {
   "cell_type": "markdown",
   "metadata": {},
   "source": [
    "# Iterative Interventions"
   ]
  },
  {
   "cell_type": "markdown",
   "metadata": {},
   "source": [
    "NNsight's <b> iterator context </b> allows us to run an intervention loop at scale. It iteratively executes and updates a single intervention graph.\n",
    "\n",
    "Use a `session` to define the Iterator context and pass in a sequence of items that you want to loop over at each iteration:"
   ]
  },
  {
   "cell_type": "code",
   "execution_count": 7,
   "metadata": {},
   "outputs": [],
   "source": [
    "import nnsight\n",
    "from nnsight import LanguageModel\n",
    "\n",
    "model = LanguageModel('openai-community/gpt2', device_map='auto')\n",
    "\n",
    "\n",
    "with model.session() as session:\n",
    "\n",
    "  with session.iter([0, 1, 2]) as item:\n",
    "    # define intervention body here ...\n",
    "\n",
    "    with model.trace(\"_\"):\n",
    "      # define interventions here ...\n",
    "      pass\n",
    "\n",
    "    with model.trace(\"_\"):\n",
    "      # define interventions here ...\n",
    "      pass"
   ]
  },
  {
   "cell_type": "markdown",
   "metadata": {},
   "source": [
    "The Iterator context extends all the nnsight graph-based functionalities, but also closely mimics the conventional `for` loop statement in Python, which allows it to support all kind of iterative operations with a use of `as item` syntax.\n",
    "\n",
    "Beyond specifying iteration indices, you can also loop across an NNsight list object (`nnsight.list()`)."
   ]
  },
  {
   "cell_type": "code",
   "execution_count": 8,
   "metadata": {},
   "outputs": [
    {
     "name": "stdout",
     "output_type": "stream",
     "text": [
      "\n",
      "List:  [0, 1, 2]\n"
     ]
    }
   ],
   "source": [
    "with model.session() as session:\n",
    "\n",
    "  li = nnsight.list() # an NNsight built-in list object\n",
    "  [li.append([num]) for num in range(0, 3)] # adding [0], [1], [2] to the list\n",
    "  li2 = nnsight.list().save()\n",
    "\n",
    "  # You can create nested Iterator contexts\n",
    "  with session.iter(li) as item:\n",
    "    with session.iter(item) as item_2:\n",
    "      li2.append(item_2)\n",
    "\n",
    "print(\"\\nList: \", li2)"
   ]
  },
  {
   "cell_type": "markdown",
   "metadata": {},
   "source": [
    "`nnsight 0.4` introduces support for native Python for loops within a tracer context at scale!\n",
    "\n",
    "*NOTE: inline for loops (i.e., `[x for x in <Proxy object>]`) are not currently supported.*"
   ]
  },
  {
   "cell_type": "code",
   "execution_count": 9,
   "metadata": {},
   "outputs": [
    {
     "name": "stdout",
     "output_type": "stream",
     "text": [
      "\n",
      "List:  [0, 1, 2]\n"
     ]
    }
   ],
   "source": [
    "# New: Using Python for loops for iterative interventions\n",
    "with model.session() as session:\n",
    "\n",
    "    li = nnsight.list()\n",
    "    [li.append([num]) for num in range(0, 3)]\n",
    "    li2 = nnsight.list().save()\n",
    "\n",
    "    # Using regular for loops\n",
    "    for item in li:\n",
    "        for item_2 in item: # for loops can be nested!\n",
    "            li2.append(item_2)\n",
    "\n",
    "print(\"\\nList: \", li2)"
   ]
  },
  {
   "cell_type": "markdown",
   "metadata": {},
   "source": [
    "## Considerations"
   ]
  },
  {
   "cell_type": "markdown",
   "metadata": {},
   "source": [
    "If you would like to turn off NNsight's support of native `for` loops, you can apply the following changes to `nnsight.CONFIG`\n",
    "\n",
    "This will not affect any of NNsight's `.iter()` functionality."
   ]
  },
  {
   "cell_type": "code",
   "execution_count": 11,
   "metadata": {},
   "outputs": [],
   "source": [
    "# Turn off support if/for statements within tracing context.\n",
    "import nnsight\n",
    "\n",
    "nnsight.CONFIG.APP.CONTROL_FLOW_HANDLING = False\n",
    "nnsight.CONFIG.save()"
   ]
  }
 ],
 "metadata": {
  "kernelspec": {
   "display_name": "nnsight_local",
   "language": "python",
   "name": "python3"
  },
  "language_info": {
   "codemirror_mode": {
    "name": "ipython",
    "version": 3
   },
   "file_extension": ".py",
   "mimetype": "text/x-python",
   "name": "python",
   "nbconvert_exporter": "python",
   "pygments_lexer": "ipython3",
   "version": "3.10.13"
  }
 },
 "nbformat": 4,
 "nbformat_minor": 2
}
