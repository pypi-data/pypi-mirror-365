{
 "cells": [
  {
   "cell_type": "markdown",
   "id": "994dd930",
   "metadata": {},
   "source": [
    "# Using PCSS QAPI for ORCA-PT-1 "
   ]
  },
  {
   "cell_type": "markdown",
   "id": "8d992eb8",
   "metadata": {},
   "source": [
    "## Logging in"
   ]
  },
  {
   "cell_type": "code",
   "execution_count": 3,
   "id": "03500607",
   "metadata": {},
   "outputs": [
    {
     "name": "stdout",
     "output_type": "stream",
     "text": [
      "ℹ️ Using cached tokens. If you want to change the account use AuthorizationService.logout() first.\n"
     ]
    }
   ],
   "source": [
    "from pcss_qapi import AuthorizationService\n",
    "AuthorizationService.login()"
   ]
  },
  {
   "cell_type": "markdown",
   "id": "925d57fa",
   "metadata": {},
   "source": [
    "## Getting a provider"
   ]
  },
  {
   "cell_type": "code",
   "execution_count": 4,
   "id": "cf329b19",
   "metadata": {},
   "outputs": [],
   "source": [
    "from pcss_qapi.orca import OrcaProvider\n",
    "\n",
    "provider = OrcaProvider()"
   ]
  },
  {
   "cell_type": "markdown",
   "id": "6e22bc02",
   "metadata": {},
   "source": [
    "## Getting a backend\n",
    "\n",
    "A list of available backends can be fetched from the provider."
   ]
  },
  {
   "cell_type": "code",
   "execution_count": 5,
   "id": "a5ec92d4",
   "metadata": {},
   "outputs": [
    {
     "data": {
      "text/plain": [
       "['single_loop_simulator', 'multi_loop_simulator']"
      ]
     },
     "execution_count": 5,
     "metadata": {},
     "output_type": "execute_result"
    }
   ],
   "source": [
    "provider.available_backends(simulators=True)"
   ]
  },
  {
   "cell_type": "code",
   "execution_count": 6,
   "id": "dcc9557a",
   "metadata": {},
   "outputs": [
    {
     "data": {
      "text/plain": [
       "['ORCA-PT-1-A', 'ORCA-PT-1-B']"
      ]
     },
     "execution_count": 6,
     "metadata": {},
     "output_type": "execute_result"
    }
   ],
   "source": [
    "provider.available_backends(simulators=False)"
   ]
  },
  {
   "cell_type": "markdown",
   "id": "b325f14d",
   "metadata": {},
   "source": [
    "A backend can either be specified by name or automatically fetched based on the smallest queue length (real devices only)."
   ]
  },
  {
   "cell_type": "code",
   "execution_count": 7,
   "id": "a146e08d",
   "metadata": {},
   "outputs": [
    {
     "data": {
      "text/plain": [
       "OrcaBackend[single_loop_simulator]"
      ]
     },
     "execution_count": 7,
     "metadata": {},
     "output_type": "execute_result"
    }
   ],
   "source": [
    "backend = provider.get_backend('single_loop_simulator')\n",
    "backend"
   ]
  },
  {
   "cell_type": "code",
   "execution_count": 8,
   "id": "5bcf00c7",
   "metadata": {},
   "outputs": [
    {
     "data": {
      "text/plain": [
       "OrcaBackend[ORCA-PT-1-A]"
      ]
     },
     "execution_count": 8,
     "metadata": {},
     "output_type": "execute_result"
    }
   ],
   "source": [
    "backend = provider.least_busy()\n",
    "backend"
   ]
  },
  {
   "cell_type": "markdown",
   "id": "42fc4a13",
   "metadata": {},
   "source": [
    "## Using the ORCA-PT-1 quantum computer\n",
    "\n",
    "Each backend represents a single quantum computer (or simulator) and provides a few options of interacting with the device:\n",
    "- A simple TBI (Time Bin Inferometer) class for sampling\n",
    "- A PyTorch compatible layer for integrating the PT-1 into neural networks\n",
    "- A Binary Bosonic Solver class for solving combinatorial optimization problems"
   ]
  },
  {
   "cell_type": "markdown",
   "id": "f1e9c4c6",
   "metadata": {},
   "source": [
    "### TBI"
   ]
  },
  {
   "cell_type": "code",
   "execution_count": 9,
   "id": "712583f2",
   "metadata": {},
   "outputs": [
    {
     "data": {
      "text/plain": [
       "{(0, 0, 1): 39, (0, 1, 0): 7, (1, 0, 0): 154}"
      ]
     },
     "execution_count": 9,
     "metadata": {},
     "output_type": "execute_result"
    }
   ],
   "source": [
    "backend = provider.get_backend(\"ORCA-PT-1-A\")\n",
    "\n",
    "tbi = backend.get_tbi(n_loops=1,loop_lengths=[1])\n",
    "tbi.sample(\n",
    "    input_state=[0,1,0],\n",
    "    theta_list=[1,2],\n",
    "    n_samples=200,\n",
    "    n_tiling=1\n",
    "    )"
   ]
  },
  {
   "cell_type": "markdown",
   "id": "79234724",
   "metadata": {},
   "source": [
    "### PTLayer (PyTorch compatible)"
   ]
  },
  {
   "cell_type": "code",
   "execution_count": 10,
   "id": "d82ef0e3",
   "metadata": {},
   "outputs": [
    {
     "data": {
      "text/plain": [
       "tensor([[0.7225, 0.0975, 0.1800]])"
      ]
     },
     "execution_count": 10,
     "metadata": {},
     "output_type": "execute_result"
    }
   ],
   "source": [
    "import torch\n",
    "\n",
    "ptlayer = backend.get_ptlayer(in_features=2)\n",
    "ptlayer(torch.tensor([[1.0,-1.0]],dtype=torch.float32))\n"
   ]
  },
  {
   "cell_type": "markdown",
   "id": "fe5476d8",
   "metadata": {},
   "source": [
    "### Binary Bosonic Solver"
   ]
  },
  {
   "cell_type": "code",
   "execution_count": 11,
   "id": "e5f17949",
   "metadata": {},
   "outputs": [
    {
     "name": "stdout",
     "output_type": "stream",
     "text": [
      "Training loop 1: loss is -0.46\n",
      "Training loop 2: loss is -0.53\n"
     ]
    }
   ],
   "source": [
    "bbs = backend.get_bbs(2, lambda x: -x[0])\n",
    "\n",
    "bbs.train(updates=2,print_frequency=1)\n"
   ]
  }
 ],
 "metadata": {
  "kernelspec": {
   "display_name": "pcss-python-api",
   "language": "python",
   "name": "python3"
  },
  "language_info": {
   "codemirror_mode": {
    "name": "ipython",
    "version": 3
   },
   "file_extension": ".py",
   "mimetype": "text/x-python",
   "name": "python",
   "nbconvert_exporter": "python",
   "pygments_lexer": "ipython3",
   "version": "3.11.11"
  }
 },
 "nbformat": 4,
 "nbformat_minor": 5
}
