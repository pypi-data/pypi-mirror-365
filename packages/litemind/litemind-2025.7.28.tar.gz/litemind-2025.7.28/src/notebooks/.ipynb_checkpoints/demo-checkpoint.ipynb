{
 "cells": [
  {
   "cell_type": "code",
   "id": "initial_id",
   "metadata": {
    "collapsed": true,
    "ExecuteTime": {
     "end_time": "2025-04-09T15:39:10.750542Z",
     "start_time": "2025-04-09T15:39:03.413823Z"
    }
   },
   "source": [
    "from litemind import OpenAIApi\n",
    "from litemind.agent.agent import Agent\n",
    "\n",
    "# Initialize the OpenAI API\n",
    "api = OpenAIApi()\n",
    "\n",
    "# Create an agent\n",
    "agent = Agent(api=api)\n",
    "\n",
    "# Add a system message to guide the agent's behavior\n",
    "agent.append_system_message(\"You are a helpful assistant.\")\n",
    "\n",
    "# Ask a question\n",
    "response = agent(\"What is the capital of France?\")\n",
    "\n",
    "# Print the response\n",
    "print(\"Simple Agent Response:\", response)\n"
   ],
   "outputs": [
    {
     "name": "stdout",
     "output_type": "stream",
     "text": [
      "├ OpenAI API is available.\n",
      "├ Ollama API is available.\n",
      "├ Gemini API is available.\n",
      "├ Gemini API is available.\n",
      "├ FFmpeg is available.\n",
      "├╗ Calling agent: 'Agent'\n",
      "│├╗ API and model:\n",
      "││├ API: OpenAIApi\n",
      "││├ Model: gpt-4.5-preview\n",
      "││┴« 2.52 milliseconds\n",
      "││\n",
      "│├╗ Available tools\n",
      "││├ No tools available\n",
      "││┴« 900.03 microseconds\n",
      "││\n",
      "│├╗ Available augmentations\n",
      "││├ No augmentations available\n",
      "││┴« 870.23 microseconds\n",
      "││\n",
      "│├╗ Last message in conversation:\n",
      "││├ *user*:\n",
      "│││ What is the capital of France?\n",
      "││┴« 1.91 milliseconds\n",
      "││\n",
      "│├╗ Reponse:\n",
      "││├ *assistant*:\n",
      "│││ The capital of France is Paris.\n",
      "││┴« 1.97 milliseconds\n",
      "││\n",
      "│┴« 1.54 seconds\n",
      "│\n",
      "Simple Agent Response: [*assistant*:\n",
      "The capital of France is Paris.\n",
      "]\n"
     ]
    }
   ],
   "execution_count": 1
  },
  {
   "metadata": {},
   "cell_type": "code",
   "outputs": [],
   "execution_count": null,
   "source": "",
   "id": "4247b552229782ba"
  },
  {
   "metadata": {},
   "cell_type": "markdown",
   "source": "",
   "id": "79d9037ec6b154d0"
  }
 ],
 "metadata": {
  "kernelspec": {
   "display_name": "Python 3",
   "language": "python",
   "name": "python3"
  },
  "language_info": {
   "codemirror_mode": {
    "name": "ipython",
    "version": 2
   },
   "file_extension": ".py",
   "mimetype": "text/x-python",
   "name": "python",
   "nbconvert_exporter": "python",
   "pygments_lexer": "ipython2",
   "version": "2.7.6"
  }
 },
 "nbformat": 4,
 "nbformat_minor": 5
}
