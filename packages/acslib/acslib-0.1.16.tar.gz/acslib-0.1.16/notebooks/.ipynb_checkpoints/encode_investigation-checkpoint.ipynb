{
 "cells": [
  {
   "cell_type": "code",
   "execution_count": 1,
   "id": "2c39a8f1-16d7-46d8-8d4e-a38870bdf9b3",
   "metadata": {},
   "outputs": [],
   "source": [
    "import os, sys\n",
    "from pathlib import Path\n",
    "PROJECTPATH = str(Path().parent.absolute())\n",
    "sys.path.insert(0, PROJECTPATH)\n",
    "os.chdir(PROJECTPATH)"
   ]
  },
  {
   "cell_type": "code",
   "execution_count": 2,
   "id": "4521ec54-884b-4c19-adcf-e3169e3bfe4f",
   "metadata": {},
   "outputs": [],
   "source": [
    "from acslib import CcureAPI\n",
    "from acslib.ccure.search import ClearanceFilter, NFUZZ\n",
    "ccure_api = CcureAPI()\n",
    "response = ccure_api.clearance.search(terms=[\"8897\"], search_filter=ClearanceFilter(lookups={\"ObjectID\": NFUZZ}))"
   ]
  },
  {
   "cell_type": "code",
   "execution_count": 3,
   "id": "af388e2c-fb70-4cf9-b95b-d9313fda648f",
   "metadata": {},
   "outputs": [
    {
     "data": {
      "text/plain": [
       "[{'*state': 2,\n",
       "  'ClassType': 'SoftwareHouse.NextGen.Common.SecurityObjects.Clearance',\n",
       "  'GUID': 'c36dcb53-cd66-414e-8b43-d555e088a305',\n",
       "  'Name': 'VRB-Module 2 Exteriors-DEPT',\n",
       "  'ObjectID': 8897,\n",
       "  'PartitionID': 1,\n",
       "  'ApplicationServer': {'Name': 'vrb-c9k-02',\n",
       "   'Status': {'TypeName': 'ACVS.Enterprise.Common.Services.ApplicationServerStatus',\n",
       "    'Value': 1,\n",
       "    'DisplayName': 'Online',\n",
       "    '__propertyType': 'enum'}},\n",
       "  '*appServer': 'VRB-C9K-02'}]"
      ]
     },
     "execution_count": 3,
     "metadata": {},
     "output_type": "execute_result"
    }
   ],
   "source": [
    "response"
   ]
  },
  {
   "cell_type": "code",
   "execution_count": null,
   "id": "9648a15f-2912-4604-8df0-04d95cea3053",
   "metadata": {},
   "outputs": [],
   "source": []
  }
 ],
 "metadata": {
  "kernelspec": {
   "display_name": "Python 3 (ipykernel)",
   "language": "python",
   "name": "python3"
  },
  "language_info": {
   "codemirror_mode": {
    "name": "ipython",
    "version": 3
   },
   "file_extension": ".py",
   "mimetype": "text/x-python",
   "name": "python",
   "nbconvert_exporter": "python",
   "pygments_lexer": "ipython3",
   "version": "3.10.6"
  }
 },
 "nbformat": 4,
 "nbformat_minor": 5
}
