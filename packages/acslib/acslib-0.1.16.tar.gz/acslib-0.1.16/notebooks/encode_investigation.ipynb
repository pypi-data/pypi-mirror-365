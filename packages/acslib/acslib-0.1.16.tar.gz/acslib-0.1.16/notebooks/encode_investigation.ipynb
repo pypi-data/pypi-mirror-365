{
 "cells": [
  {
   "cell_type": "code",
   "execution_count": 1,
   "id": "2c39a8f1-16d7-46d8-8d4e-a38870bdf9b3",
   "metadata": {},
   "outputs": [],
   "source": [
    "import os, sys\n",
    "from pathlib import Path\n",
    "PROJECTPATH = str(Path().cwd().parent.absolute())\n",
    "sys.path.insert(0, PROJECTPATH)\n",
    "os.chdir(PROJECTPATH)"
   ]
  },
  {
   "cell_type": "code",
   "execution_count": 2,
   "id": "b06c2388-86de-417d-8161-a02c61136c55",
   "metadata": {},
   "outputs": [
    {
     "data": {
      "text/plain": [
       "'/home/jmgibso3/ncstate/projects/acslib'"
      ]
     },
     "execution_count": 2,
     "metadata": {},
     "output_type": "execute_result"
    }
   ],
   "source": [
    "PROJECTPATH"
   ]
  },
  {
   "cell_type": "code",
   "execution_count": 3,
   "id": "4521ec54-884b-4c19-adcf-e3169e3bfe4f",
   "metadata": {},
   "outputs": [],
   "source": [
    "from acslib import CcureAPI\n",
    "from acslib.ccure.search_filtering import ClearanceFilter, NFUZZ\n",
    "from acslib.ccure.types import CredentialCreateData, ObjectTypes\n",
    "ccure_api = CcureAPI()"
   ]
  },
  {
   "cell_type": "code",
   "execution_count": 4,
   "id": "af388e2c-fb70-4cf9-b95b-d9313fda648f",
   "metadata": {},
   "outputs": [
    {
     "data": {
      "text/plain": [
       "'SoftwareHouse.NextGen.Common.SecurityObjects.Door'"
      ]
     },
     "execution_count": 4,
     "metadata": {},
     "output_type": "execute_result"
    }
   ],
   "source": [
    "ObjectTypes.DOOR.complete"
   ]
  },
  {
   "cell_type": "code",
   "execution_count": 5,
   "id": "9648a15f-2912-4604-8df0-04d95cea3053",
   "metadata": {},
   "outputs": [
    {
     "data": {
      "text/plain": [
       "[{'*state': 1,\n",
       "  'ClassType': 'SoftwareHouse.NextGen.Common.SecurityObjects.Credential',\n",
       "  'GUID': '633a874a-3021-465b-8478-23c423c652cc',\n",
       "  'Name': 'Gibson, Jeremy',\n",
       "  'PersonnelID': 68180,\n",
       "  'ProcessingOrder': None,\n",
       "  'NumberOfChangesThisTransaction': None,\n",
       "  'ParentIsDeleted': None,\n",
       "  'BLEEnabled': False,\n",
       "  'ObjectID': 5003,\n",
       "  '*appServer': 'VRB-C9K-02',\n",
       "  '*PK': ['ObjectID']}]"
      ]
     },
     "execution_count": 5,
     "metadata": {},
     "output_type": "execute_result"
    }
   ],
   "source": [
    "response"
   ]
  },
  {
   "cell_type": "code",
   "execution_count": 4,
   "id": "fd9a153b-89d4-428a-9dbe-5d80572a29af",
   "metadata": {},
   "outputs": [],
   "source": [
    "credential = CredentialCreateData(CardNumber=984763, CHUID=\"984763\", FacilityCode=2, Name=\"Roddy Piper\")"
   ]
  },
  {
   "cell_type": "code",
   "execution_count": 5,
   "id": "f0428781-2952-4820-b0c7-7bef2d1b3242",
   "metadata": {},
   "outputs": [
    {
     "data": {
      "text/plain": [
       "'{\"CHUID\":\"984763\",\"CardNumber\":984763,\"FacilityCode\":2,\"Name\":\"Roddy Piper\"}'"
      ]
     },
     "execution_count": 5,
     "metadata": {},
     "output_type": "execute_result"
    }
   ],
   "source": [
    "credential.model_dump_json()"
   ]
  },
  {
   "cell_type": "code",
   "execution_count": 6,
   "id": "c42843a1-0e9a-46a7-a920-d392c78ea89d",
   "metadata": {},
   "outputs": [
    {
     "name": "stdout",
     "output_type": "stream",
     "text": [
      "> \u001b[0;32m/home/jmgibso3/ncstate/projects/acslib/acslib/ccure/crud.py\u001b[0m(202)\u001b[0;36mcreate\u001b[0;34m()\u001b[0m\n",
      "\u001b[0;32m    200 \u001b[0;31m        }\n",
      "\u001b[0m\u001b[0;32m    201 \u001b[0;31m        \u001b[0;32mimport\u001b[0m \u001b[0mpdb\u001b[0m\u001b[0;34m;\u001b[0m \u001b[0mpdb\u001b[0m\u001b[0;34m.\u001b[0m\u001b[0mset_trace\u001b[0m\u001b[0;34m(\u001b[0m\u001b[0;34m)\u001b[0m\u001b[0;34m\u001b[0m\u001b[0;34m\u001b[0m\u001b[0m\n",
      "\u001b[0m\u001b[0;32m--> 202 \u001b[0;31m        return self.connection.request(\n",
      "\u001b[0m\u001b[0;32m    203 \u001b[0;31m            \u001b[0mACSRequestMethod\u001b[0m\u001b[0;34m.\u001b[0m\u001b[0mPOST\u001b[0m\u001b[0;34m,\u001b[0m\u001b[0;34m\u001b[0m\u001b[0;34m\u001b[0m\u001b[0m\n",
      "\u001b[0m\u001b[0;32m    204 \u001b[0;31m            request_data=ACSRequestData(\n",
      "\u001b[0m\n"
     ]
    },
    {
     "name": "stdin",
     "output_type": "stream",
     "text": [
      "ipdb>  import requests\n",
      "ipdb>  import json\n",
      "ipdb>  json_data = json.dumps(request_data)\n",
      "ipdb>  json_data\n"
     ]
    },
    {
     "name": "stdout",
     "output_type": "stream",
     "text": [
      "'{\"type\": \"SoftwareHouse.NextGen.Common.SecurityObjects.Personnel\", \"ID\": 23421987, \"Children\": [{\"Type\": \"SoftwareHouse.NextGen.Common.SecurityObjects.Credential\", \"PropertyNames\": [\"CHUID\", \"CardNumber\", \"FacilityCode\", \"Name\"], \"PropertyValues\": [\"984763\", 984763, 2, \"Roddy Piper\"]}]}'\n"
     ]
    },
    {
     "name": "stdin",
     "output_type": "stream",
     "text": [
      "ipdb>  url = self.config.base_url + self.config.endpoints.PERSIST_TO_CONTAINER\n",
      "ipdb>  url\n"
     ]
    },
    {
     "name": "stdout",
     "output_type": "stream",
     "text": [
      "'https://c9k.dev.ehps.ncsu.edu/victorwebservice/api/Objects/PersistToContainer'\n"
     ]
    },
    {
     "name": "stdin",
     "output_type": "stream",
     "text": [
      "ipdb>  response = request.post(url, json=json_data)\n"
     ]
    },
    {
     "name": "stdout",
     "output_type": "stream",
     "text": [
      "*** NameError: name 'request' is not defined\n"
     ]
    },
    {
     "name": "stdin",
     "output_type": "stream",
     "text": [
      "ipdb>  response = requests.post(url, json=json_data)\n",
      "ipdb>  response.status_code\n"
     ]
    },
    {
     "name": "stdout",
     "output_type": "stream",
     "text": [
      "401\n"
     ]
    },
    {
     "name": "stdin",
     "output_type": "stream",
     "text": [
      "ipdb>  response.request.body\n"
     ]
    },
    {
     "name": "stdout",
     "output_type": "stream",
     "text": [
      "b'\"{\\\\\"type\\\\\": \\\\\"SoftwareHouse.NextGen.Common.SecurityObjects.Personnel\\\\\", \\\\\"ID\\\\\": 23421987, \\\\\"Children\\\\\": [{\\\\\"Type\\\\\": \\\\\"SoftwareHouse.NextGen.Common.SecurityObjects.Credential\\\\\", \\\\\"PropertyNames\\\\\": [\\\\\"CHUID\\\\\", \\\\\"CardNumber\\\\\", \\\\\"FacilityCode\\\\\", \\\\\"Name\\\\\"], \\\\\"PropertyValues\\\\\": [\\\\\"984763\\\\\", 984763, 2, \\\\\"Roddy Piper\\\\\"]}]}\"'\n"
     ]
    },
    {
     "name": "stdin",
     "output_type": "stream",
     "text": [
      "ipdb>  json_data\n"
     ]
    },
    {
     "name": "stdout",
     "output_type": "stream",
     "text": [
      "'{\"type\": \"SoftwareHouse.NextGen.Common.SecurityObjects.Personnel\", \"ID\": 23421987, \"Children\": [{\"Type\": \"SoftwareHouse.NextGen.Common.SecurityObjects.Credential\", \"PropertyNames\": [\"CHUID\", \"CardNumber\", \"FacilityCode\", \"Name\"], \"PropertyValues\": [\"984763\", 984763, 2, \"Roddy Piper\"]}]}'\n"
     ]
    },
    {
     "name": "stdin",
     "output_type": "stream",
     "text": [
      "ipdb>  response.__dict__\n"
     ]
    },
    {
     "name": "stdout",
     "output_type": "stream",
     "text": [
      "{'_content': b'', '_content_consumed': True, '_next': None, 'status_code': 401, 'headers': {'Cache-Control': 'no-cache', 'Pragma': 'no-cache', 'Expires': '-1', 'Server': 'Microsoft-IIS/10.0', 'X-AspNet-Version': '4.0.30319', 'X-Powered-By': 'ASP.NET', 'Access-Control-Allow-Origin': '*', 'Access-Control-Allow-Headers': 'Content-Type, Authorization, Content-Length, X-Requested-With, Access-Control-Expose-Headers, session-id', 'Access-Control-Expose-Headers': 'session-id', 'Date': 'Mon, 11 Mar 2024 16:51:10 GMT', 'Content-Length': '0'}, 'raw': <urllib3.response.HTTPResponse object at 0x727d49da1690>, 'url': 'https://c9k.dev.ehps.ncsu.edu/victorwebservice/api/Objects/PersistToContainer', 'encoding': None, 'history': [], 'reason': 'Unauthorized', 'cookies': <RequestsCookieJar[]>, 'elapsed': datetime.timedelta(microseconds=233973), 'request': <PreparedRequest [POST]>, 'connection': <requests.adapters.HTTPAdapter object at 0x727d49da0ca0>}\n"
     ]
    },
    {
     "name": "stdin",
     "output_type": "stream",
     "text": [
      "ipdb>  c\n"
     ]
    },
    {
     "name": "stdout",
     "output_type": "stream",
     "text": [
      "> \u001b[0;32m/home/jmgibso3/ncstate/projects/acslib/acslib/base/connection.py\u001b[0m(127)\u001b[0;36m_make_request\u001b[0;34m()\u001b[0m\n",
      "\u001b[0;32m    125 \u001b[0;31m        \u001b[0;32mif\u001b[0m \u001b[0mreq\u001b[0m \u001b[0;34m:=\u001b[0m \u001b[0mself\u001b[0m\u001b[0;34m.\u001b[0m\u001b[0mREQUEST_TYPE\u001b[0m\u001b[0;34m.\u001b[0m\u001b[0mget\u001b[0m\u001b[0;34m(\u001b[0m\u001b[0mrequests_method\u001b[0m\u001b[0;34m)\u001b[0m\u001b[0;34m:\u001b[0m\u001b[0;34m\u001b[0m\u001b[0;34m\u001b[0m\u001b[0m\n",
      "\u001b[0m\u001b[0;32m    126 \u001b[0;31m            \u001b[0;32mreturn\u001b[0m \u001b[0mreq\u001b[0m\u001b[0;34m(\u001b[0m\u001b[0;34m**\u001b[0m\u001b[0mrequest_data_map\u001b[0m\u001b[0;34m,\u001b[0m \u001b[0mtimeout\u001b[0m\u001b[0;34m=\u001b[0m\u001b[0mself\u001b[0m\u001b[0;34m.\u001b[0m\u001b[0mtimeout\u001b[0m\u001b[0;34m)\u001b[0m\u001b[0;34m\u001b[0m\u001b[0;34m\u001b[0m\u001b[0m\n",
      "\u001b[0m\u001b[0;32m--> 127 \u001b[0;31m        \u001b[0;32mraise\u001b[0m \u001b[0mACSConnectionException\u001b[0m\u001b[0;34m(\u001b[0m\u001b[0;34mf\"Invalid request method: {requests_method}\"\u001b[0m\u001b[0;34m)\u001b[0m\u001b[0;34m\u001b[0m\u001b[0;34m\u001b[0m\u001b[0m\n",
      "\u001b[0m\u001b[0;32m    128 \u001b[0;31m\u001b[0;34m\u001b[0m\u001b[0m\n",
      "\u001b[0m\u001b[0;32m    129 \u001b[0;31m    def request(\n",
      "\u001b[0m\n"
     ]
    },
    {
     "name": "stdin",
     "output_type": "stream",
     "text": [
      "ipdb>  c\n"
     ]
    },
    {
     "name": "stdout",
     "output_type": "stream",
     "text": [
      "> \u001b[0;32m/home/jmgibso3/ncstate/projects/acslib/acslib/base/connection.py\u001b[0m(127)\u001b[0;36m_make_request\u001b[0;34m()\u001b[0m\n",
      "\u001b[0;32m    125 \u001b[0;31m        \u001b[0;32mif\u001b[0m \u001b[0mreq\u001b[0m \u001b[0;34m:=\u001b[0m \u001b[0mself\u001b[0m\u001b[0;34m.\u001b[0m\u001b[0mREQUEST_TYPE\u001b[0m\u001b[0;34m.\u001b[0m\u001b[0mget\u001b[0m\u001b[0;34m(\u001b[0m\u001b[0mrequests_method\u001b[0m\u001b[0;34m)\u001b[0m\u001b[0;34m:\u001b[0m\u001b[0;34m\u001b[0m\u001b[0;34m\u001b[0m\u001b[0m\n",
      "\u001b[0m\u001b[0;32m    126 \u001b[0;31m            \u001b[0;32mreturn\u001b[0m \u001b[0mreq\u001b[0m\u001b[0;34m(\u001b[0m\u001b[0;34m**\u001b[0m\u001b[0mrequest_data_map\u001b[0m\u001b[0;34m,\u001b[0m \u001b[0mtimeout\u001b[0m\u001b[0;34m=\u001b[0m\u001b[0mself\u001b[0m\u001b[0;34m.\u001b[0m\u001b[0mtimeout\u001b[0m\u001b[0;34m)\u001b[0m\u001b[0;34m\u001b[0m\u001b[0;34m\u001b[0m\u001b[0m\n",
      "\u001b[0m\u001b[0;32m--> 127 \u001b[0;31m        \u001b[0;32mraise\u001b[0m \u001b[0mACSConnectionException\u001b[0m\u001b[0;34m(\u001b[0m\u001b[0;34mf\"Invalid request method: {requests_method}\"\u001b[0m\u001b[0;34m)\u001b[0m\u001b[0;34m\u001b[0m\u001b[0;34m\u001b[0m\u001b[0m\n",
      "\u001b[0m\u001b[0;32m    128 \u001b[0;31m\u001b[0;34m\u001b[0m\u001b[0m\n",
      "\u001b[0m\u001b[0;32m    129 \u001b[0;31m    def request(\n",
      "\u001b[0m\n"
     ]
    },
    {
     "name": "stdin",
     "output_type": "stream",
     "text": [
      "ipdb>  exit\n"
     ]
    }
   ],
   "source": [
    "ccure_api.credential.create(personnel_id=23421987, create_data=credential)\n"
   ]
  },
  {
   "cell_type": "code",
   "execution_count": 7,
   "id": "ffedb81d-48c9-41f5-aec6-8a4fa2cbfd04",
   "metadata": {},
   "outputs": [
    {
     "data": {
      "text/plain": [
       "'DEVREADER'"
      ]
     },
     "execution_count": 7,
     "metadata": {},
     "output_type": "execute_result"
    }
   ],
   "source": []
  },
  {
   "cell_type": "code",
   "execution_count": null,
   "id": "0b28c08f-1468-4164-88b8-0181de861685",
   "metadata": {},
   "outputs": [],
   "source": [
    "from "
   ]
  }
 ],
 "metadata": {
  "kernelspec": {
   "display_name": "Python 3 (ipykernel)",
   "language": "python",
   "name": "python3"
  },
  "language_info": {
   "codemirror_mode": {
    "name": "ipython",
    "version": 3
   },
   "file_extension": ".py",
   "mimetype": "text/x-python",
   "name": "python",
   "nbconvert_exporter": "python",
   "pygments_lexer": "ipython3",
   "version": "3.10.6"
  }
 },
 "nbformat": 4,
 "nbformat_minor": 5
}
