{
 "cells": [
  {
   "cell_type": "code",
   "execution_count": null,
   "id": "94bfddcc-6092-4a36-a0eb-7117280785e2",
   "metadata": {},
   "outputs": [
    {
     "data": {
      "application/vnd.jupyter.widget-view+json": {
       "model_id": "3cd90e48295d4061a2d4d3ea8ae853fb",
       "version_major": 2,
       "version_minor": 0
      },
      "text/plain": [
       "Canvas(height=1200, width=1200)"
      ]
     },
     "metadata": {},
     "output_type": "display_data"
    },
    {
     "data": {
      "application/vnd.jupyter.widget-view+json": {
       "model_id": "625ee64630fa4580865e0f37ce7a6d69",
       "version_major": 2,
       "version_minor": 0
      },
      "text/plain": [
       "Output(outputs=({'output_type': 'stream', 'name': 'stdout', 'text': \"Stopping previous frontend's main loop.\\n…"
      ]
     },
     "metadata": {},
     "output_type": "display_data"
    }
   ],
   "source": [
    "import pyb2d3 as b2d\n",
    "from pyb2d3.samples import SampleBase\n",
    "\n",
    "\n",
    "import random\n",
    "import math\n",
    "\n",
    "\n",
    "class Raycast(SampleBase):\n",
    "    def __init__(self):\n",
    "        super().__init__(gravity=(0, 0))\n",
    "        self.box_radius = 10\n",
    "\n",
    "        # attach the chain shape to a static body\n",
    "        self.box_body = self.world.create_static_body(position=(0, 0))\n",
    "        chain_def = b2d.chain_box(center=(0, 0), hx=self.box_radius, hy=self.box_radius)\n",
    "        chain_def.filter = b2d.make_filter(category_bits=0x0001, mask_bits=0x0001)\n",
    "        self.box_body.create_chain(\n",
    "            b2d.chain_box(center=(0, 0), hx=self.box_radius, hy=self.box_radius)\n",
    "        )\n",
    "\n",
    "        # a ball\n",
    "        self.ball_body = self.world.create_dynamic_body(\n",
    "            position=(0, 0), linear_damping=10, angular_damping=10.0\n",
    "        )\n",
    "        self.ball_body.create_shape(\n",
    "            b2d.shape_def(density=1, material=b2d.surface_material(restitution=0.5)),\n",
    "            b2d.circle(radius=1),\n",
    "        )\n",
    "\n",
    "        # n random boxes\n",
    "        for _ in range(10):\n",
    "            x = random.uniform(-self.box_radius, self.box_radius)\n",
    "            y = random.uniform(-self.box_radius, self.box_radius)\n",
    "            random_angle = random.uniform(0, 2 * math.pi)\n",
    "            box_body = self.world.create_dynamic_body(\n",
    "                position=(x, y),\n",
    "                linear_damping=10.0,\n",
    "                angular_damping=10.0,\n",
    "                rotation=random_angle,\n",
    "            )\n",
    "            box_body.create_shape(\n",
    "                b2d.shape_def(\n",
    "                    density=1, material=b2d.surface_material(restitution=0.5)\n",
    "                ),\n",
    "                b2d.make_box(hx=0.5, hy=1.0),\n",
    "            )\n",
    "\n",
    "        # we make the mouse joint(created in the base class) more stiff\n",
    "        self.mouse_joint_hertz = 10000\n",
    "        self.mouse_joint_force_multiplier = 10000.0\n",
    "\n",
    "    def aabb(self):\n",
    "        return b2d.aabb(\n",
    "            lower_bound=(-self.box_radius, -self.box_radius),\n",
    "            upper_bound=(self.box_radius, self.box_radius),\n",
    "        )\n",
    "\n",
    "    def post_update(self, dt):\n",
    "        pos = self.ball_body.position\n",
    "        body_angle = self.ball_body.angle\n",
    "        # print(f\"Ball position: {pos}\")\n",
    "\n",
    "        # cast N radidal rays from the ball position\n",
    "        n_rays = 500\n",
    "        ray_length = self.box_radius * 2 * math.sqrt(2)\n",
    "        for i in range(n_rays):\n",
    "            angle = body_angle + 2 * math.pi * i / n_rays\n",
    "            translation = (math.cos(angle) * ray_length, math.sin(angle) * ray_length)\n",
    "\n",
    "            ray_result = self.world.cast_ray_closest(\n",
    "                origin=pos, translation=translation\n",
    "            )\n",
    "            if ray_result.hit:\n",
    "                self.debug_draw.draw_line(\n",
    "                    pos,\n",
    "                    ray_result.point,\n",
    "                    color=(255, 255, 125),\n",
    "                    line_width=5,\n",
    "                    width_in_pixels=True,\n",
    "                )\n",
    "\n",
    "\n",
    "if __name__ == \"__main__\":\n",
    "    Raycast.run()"
   ]
  },
  {
   "cell_type": "code",
   "execution_count": null,
   "id": "39d81e59-71a6-400f-a191-3f971f153792",
   "metadata": {},
   "outputs": [],
   "source": []
  }
 ],
 "metadata": {
  "kernelspec": {
   "display_name": "Python 3 (ipykernel)",
   "language": "python",
   "name": "python3"
  },
  "language_info": {
   "codemirror_mode": {
    "name": "ipython",
    "version": 3
   },
   "file_extension": ".py",
   "mimetype": "text/x-python",
   "name": "python",
   "nbconvert_exporter": "python",
   "pygments_lexer": "ipython3",
   "version": "3.13.3"
  }
 },
 "nbformat": 4,
 "nbformat_minor": 5
}
