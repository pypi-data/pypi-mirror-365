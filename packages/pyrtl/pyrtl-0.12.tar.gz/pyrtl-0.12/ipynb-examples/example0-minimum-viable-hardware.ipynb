{
 "cells": [
  {
   "cell_type": "markdown",
   "metadata": {},
   "source": [
    " # A simple combinational logic example.\n",
    "\n",
    " Create an 8-bit adder that adds `a` and `b`. Check if the sum is greater than `5`.\n"
   ]
  },
  {
   "cell_type": "code",
   "execution_count": null,
   "metadata": {
    "collapsed": true
   },
   "outputs": [],
   "source": [
    "%pip install pyrtl\n",
    "\n",
    "import pyrtl\n",
    "\n",
    "pyrtl.reset_working_block()\n"
   ]
  },
  {
   "cell_type": "markdown",
   "metadata": {},
   "source": [
    " Define [Inputs](https://pyrtl.readthedocs.io/en/latest/basic.html#pyrtl.Input) and [Outputs](https://pyrtl.readthedocs.io/en/latest/basic.html#pyrtl.Output).\n"
   ]
  },
  {
   "cell_type": "code",
   "execution_count": null,
   "metadata": {
    "collapsed": true
   },
   "outputs": [],
   "source": [
    "a = pyrtl.Input(bitwidth=8, name=\"a\")\n",
    "b = pyrtl.Input(bitwidth=8, name=\"b\")\n",
    "\n",
    "q = pyrtl.Output(bitwidth=8, name=\"q\")\n",
    "gt5 = pyrtl.Output(bitwidth=1, name=\"gt5\")\n"
   ]
  },
  {
   "cell_type": "markdown",
   "metadata": {},
   "source": [
    " Define the logic that connects the [Inputs](https://pyrtl.readthedocs.io/en/latest/basic.html#pyrtl.Input) to the [Outputs](https://pyrtl.readthedocs.io/en/latest/basic.html#pyrtl.Output).\n"
   ]
  },
  {
   "cell_type": "code",
   "execution_count": null,
   "metadata": {
    "collapsed": true
   },
   "outputs": [],
   "source": [
    "sum = a + b  # Makes an 8-bit adder.\n",
    "q <<= sum  # Connects the adder's output to the `q` output pin.\n",
    "gt5 <<= sum > 5  # Does a comparison and connects the result to the `gt5` output pin.\n"
   ]
  },
  {
   "cell_type": "markdown",
   "metadata": {},
   "source": [
    " Simulate various values for `a` and `b` over 5 cycles.\n"
   ]
  },
  {
   "cell_type": "code",
   "execution_count": null,
   "metadata": {
    "collapsed": true
   },
   "outputs": [],
   "source": [
    "sim = pyrtl.Simulation()\n",
    "sim.step_multiple({\"a\": [0, 1, 2, 3, 4], \"b\": [2, 2, 3, 3, 4]})\n"
   ]
  },
  {
   "cell_type": "markdown",
   "metadata": {},
   "source": [
    " Display simulation traces as waveforms.\n"
   ]
  },
  {
   "cell_type": "code",
   "execution_count": null,
   "metadata": {
    "collapsed": true
   },
   "outputs": [],
   "source": [
    "sim.tracer.render_trace()\n"
   ]
  }
 ],
 "metadata": {
  "kernelspec": {
   "display_name": "Python 3",
   "language": "python",
   "name": "python3"
  },
  "language_info": {
   "codemirror_mode": {
    "name": "ipython",
    "version": 3
   },
   "file_extension": ".py",
   "mimetype": "text/x-python",
   "name": "python",
   "nbconvert_exporter": "python",
   "pygments_lexer": "ipython3",
   "version": "3.6.4"
  }
 },
 "nbformat": 4,
 "nbformat_minor": 2
}