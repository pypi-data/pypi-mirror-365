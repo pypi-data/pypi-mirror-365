{
 "cells": [
  {
   "cell_type": "markdown",
   "metadata": {},
   "source": [
    " # Example 6: Memories in PyRTL\n",
    "\n",
    " One important part of many circuits is the ability to have data in locations that are\n",
    " persistent over clock cycles. Previous examples have used [Register](https://pyrtl.readthedocs.io/en/latest/basic.html#pyrtl.Register) [WireVectors](https://pyrtl.readthedocs.io/en/latest/basic.html#pyrtl.WireVector),\n",
    " which are great for storing a small amount of data for a single clock cycle. However,\n",
    " PyRTL also has other ways to store data, namely [MemBlocks](https://pyrtl.readthedocs.io/en/latest/regmem.html#pyrtl.MemBlock) and [RomBlocks](https://pyrtl.readthedocs.io/en/latest/regmem.html#pyrtl.RomBlock).\n"
   ]
  },
  {
   "cell_type": "code",
   "execution_count": null,
   "metadata": {
    "collapsed": true
   },
   "outputs": [],
   "source": [
    "%pip install pyrtl\n",
    "\n",
    "import random\n",
    "\n",
    "import pyrtl\n",
    "\n",
    "pyrtl.reset_working_block()\n"
   ]
  },
  {
   "cell_type": "markdown",
   "metadata": {},
   "source": [
    " ## Part 1: [MemBlocks](https://pyrtl.readthedocs.io/en/latest/regmem.html#pyrtl.MemBlock)\n",
    "\n",
    " [MemBlocks](https://pyrtl.readthedocs.io/en/latest/regmem.html#pyrtl.MemBlock) are a way to store multiple sets of data for extended periods of time.\n",
    " Below we will make two [MemBlocks](https://pyrtl.readthedocs.io/en/latest/regmem.html#pyrtl.MemBlock) and test that they behave identically given the\n",
    " same inputs.\n"
   ]
  },
  {
   "cell_type": "code",
   "execution_count": null,
   "metadata": {
    "collapsed": true
   },
   "outputs": [],
   "source": [
    "mem1 = pyrtl.MemBlock(bitwidth=32, addrwidth=3, name=\"mem1\")\n",
    "mem2 = pyrtl.MemBlock(32, 3, \"mem2\")\n"
   ]
  },
  {
   "cell_type": "markdown",
   "metadata": {},
   "source": [
    " One memory will receive the write address from an [Input](https://pyrtl.readthedocs.io/en/latest/basic.html#pyrtl.Input), the other, a [Register](https://pyrtl.readthedocs.io/en/latest/basic.html#pyrtl.Register):\n"
   ]
  },
  {
   "cell_type": "code",
   "execution_count": null,
   "metadata": {
    "collapsed": true
   },
   "outputs": [],
   "source": [
    "waddr = pyrtl.Input(3, \"waddr\")\n",
    "count = pyrtl.Register(3, \"count\")\n"
   ]
  },
  {
   "cell_type": "markdown",
   "metadata": {},
   "source": [
    " To make sure that the two memories take the same [Inputs](https://pyrtl.readthedocs.io/en/latest/basic.html#pyrtl.Input), we will use same write\n",
    " data, write enable, and read addr values:\n"
   ]
  },
  {
   "cell_type": "code",
   "execution_count": null,
   "metadata": {
    "collapsed": true
   },
   "outputs": [],
   "source": [
    "wdata = pyrtl.Input(32, \"wdata\")\n",
    "we = pyrtl.Input(1, \"we\")\n",
    "raddr = pyrtl.Input(3, \"raddr\")\n"
   ]
  },
  {
   "cell_type": "markdown",
   "metadata": {},
   "source": [
    " We will be grabbing data from each of the two [MemBlocks](https://pyrtl.readthedocs.io/en/latest/regmem.html#pyrtl.MemBlock) so we need two different\n",
    " output wires to see the results:\n"
   ]
  },
  {
   "cell_type": "code",
   "execution_count": null,
   "metadata": {
    "collapsed": true
   },
   "outputs": [],
   "source": [
    "rdata1 = pyrtl.Output(32, \"rdata1\")\n",
    "rdata2 = pyrtl.Output(32, \"rdata2\")\n"
   ]
  },
  {
   "cell_type": "markdown",
   "metadata": {},
   "source": [
    " ### Ports\n",
    "\n",
    " Data is read from and written to [MemBlocks](https://pyrtl.readthedocs.io/en/latest/regmem.html#pyrtl.MemBlock) via ports. There are two types of ports:\n",
    " read ports and write ports. Each memory can have multiple read and write ports, but a\n",
    " [MemBlock](https://pyrtl.readthedocs.io/en/latest/regmem.html#pyrtl.MemBlock) must have at least one of each. Below, we will make one read port for each\n",
    " of the two memories:\n"
   ]
  },
  {
   "cell_type": "code",
   "execution_count": null,
   "metadata": {
    "collapsed": true
   },
   "outputs": [],
   "source": [
    "rdata1 <<= mem1[raddr]\n",
    "rdata2 <<= mem2[raddr]\n"
   ]
  },
  {
   "cell_type": "markdown",
   "metadata": {},
   "source": [
    " ### Write Enable Bit\n",
    "\n",
    " For the write ports, we will do something different. Sometimes you don't want the\n",
    " memories to always accept the data and address on the write port. The write enable bit\n",
    " allows us to disable the write port as long as the enable bit's value is zero, giving\n",
    " us complete control over whether the [MemBlock](https://pyrtl.readthedocs.io/en/latest/regmem.html#pyrtl.MemBlock) will accept the data.\n"
   ]
  },
  {
   "cell_type": "code",
   "execution_count": null,
   "metadata": {
    "collapsed": true
   },
   "outputs": [],
   "source": [
    "mem1[waddr] <<= pyrtl.MemBlock.EnabledWrite(wdata, we)  # Uses input wire\n",
    "mem2[count] <<= pyrtl.MemBlock.EnabledWrite(wdata, we)  # Uses count register\n"
   ]
  },
  {
   "cell_type": "markdown",
   "metadata": {},
   "source": [
    " Now we will finish up the circuit. We will increment the `count` register on each\n",
    " write\n"
   ]
  },
  {
   "cell_type": "code",
   "execution_count": null,
   "metadata": {
    "collapsed": true
   },
   "outputs": [],
   "source": [
    "count.next <<= pyrtl.select(we, truecase=count + 1, falsecase=count)\n"
   ]
  },
  {
   "cell_type": "markdown",
   "metadata": {},
   "source": [
    " We will also verify that the two write addresses are always the same\n"
   ]
  },
  {
   "cell_type": "code",
   "execution_count": null,
   "metadata": {
    "collapsed": true
   },
   "outputs": [],
   "source": [
    "validate = pyrtl.Output(1, \"validate\")\n",
    "validate <<= waddr == count\n"
   ]
  },
  {
   "cell_type": "markdown",
   "metadata": {},
   "source": [
    " Now it is time to simulate the circuit. First we will set up the values for all of the\n",
    " inputs. Write 1 through 8 into the eight addresses (`addrwidth == 3`), then read the\n",
    " data back out:\n"
   ]
  },
  {
   "cell_type": "code",
   "execution_count": null,
   "metadata": {
    "collapsed": true
   },
   "outputs": [],
   "source": [
    "simvals = {\n",
    "    \"we\": \"00111111110000000000000000\",\n",
    "    \"waddr\": \"00012345670000000000000000\",\n",
    "    \"wdata\": \"00123456789990000000000000\",\n",
    "    \"raddr\": \"00000000000000000123456777\",\n",
    "}\n"
   ]
  },
  {
   "cell_type": "markdown",
   "metadata": {},
   "source": [
    " For simulation purposes, we can give the spots in memory an initial value. Note that\n",
    " in the actual circuit, the values are initially undefined. Below, we are building the\n",
    " data with which to initialize memory.\n"
   ]
  },
  {
   "cell_type": "code",
   "execution_count": null,
   "metadata": {
    "collapsed": true
   },
   "outputs": [],
   "source": [
    "mem1_init = dict.fromkeys(range(8), 9)\n",
    "mem2_init = dict.fromkeys(range(8), 9)\n",
    "memvals = {mem1: mem1_init, mem2: mem2_init}\n"
   ]
  },
  {
   "cell_type": "markdown",
   "metadata": {},
   "source": [
    " Now run the simulation like before. Note the adding of the `memory_value_map`.\n"
   ]
  },
  {
   "cell_type": "code",
   "execution_count": null,
   "metadata": {
    "collapsed": true
   },
   "outputs": [],
   "source": [
    "print(\"---------MemBlocks----------\")\n",
    "print(pyrtl.working_block())\n",
    "sim = pyrtl.Simulation(memory_value_map=memvals)\n",
    "sim.step_multiple(simvals)\n",
    "sim.tracer.render_trace()\n"
   ]
  },
  {
   "cell_type": "markdown",
   "metadata": {},
   "source": [
    " Cleanup in preparation for the [RomBlock](https://pyrtl.readthedocs.io/en/latest/regmem.html#pyrtl.RomBlock) example\n"
   ]
  },
  {
   "cell_type": "code",
   "execution_count": null,
   "metadata": {
    "collapsed": true
   },
   "outputs": [],
   "source": [
    "pyrtl.reset_working_block()\n"
   ]
  },
  {
   "cell_type": "markdown",
   "metadata": {},
   "source": [
    " ## Part 2: RomBlocks\n",
    "\n",
    " [RomBlocks](https://pyrtl.readthedocs.io/en/latest/regmem.html#pyrtl.RomBlock) are another type of memory. Unlike [MemBlocks](https://pyrtl.readthedocs.io/en/latest/regmem.html#pyrtl.MemBlock), [RomBlocks](https://pyrtl.readthedocs.io/en/latest/regmem.html#pyrtl.RomBlock) are read-only\n",
    " and therefore only have read ports. They are used to store predefined data.\n",
    "\n",
    " There are two different ways to define the data stored in a [RomBlock](https://pyrtl.readthedocs.io/en/latest/regmem.html#pyrtl.RomBlock), either through\n",
    " passing a function or though a list or tuple:\n"
   ]
  },
  {
   "cell_type": "code",
   "execution_count": null,
   "metadata": {
    "collapsed": true
   },
   "outputs": [],
   "source": [
    "def rom_data_func(address: int) -> int:\n",
    "    return 31 - 2 * address\n",
    "\n",
    "\n",
    "rom_data_array = [rom_data_func(a) for a in range(16)]\n"
   ]
  },
  {
   "cell_type": "markdown",
   "metadata": {},
   "source": [
    " Now we will make the [RomBlocks](https://pyrtl.readthedocs.io/en/latest/regmem.html#pyrtl.RomBlock). [RomBlocks](https://pyrtl.readthedocs.io/en/latest/regmem.html#pyrtl.RomBlock) are similar to [MemBlocks](https://pyrtl.readthedocs.io/en/latest/regmem.html#pyrtl.MemBlock), but because\n",
    " they are read-only, they also need to be passed a set of data to be initialized as.\n"
   ]
  },
  {
   "cell_type": "code",
   "execution_count": null,
   "metadata": {
    "collapsed": true
   },
   "outputs": [],
   "source": [
    "rom1 = pyrtl.RomBlock(bitwidth=5, addrwidth=4, romdata=rom_data_func)\n",
    "rom2 = pyrtl.RomBlock(5, 4, rom_data_array)\n",
    "\n",
    "rom_add_1, rom_add_2 = pyrtl.Input(4, \"rom_in\"), pyrtl.Input(4, \"rom_in_2\")\n",
    "\n",
    "rom_out_1, rom_out_2 = pyrtl.Output(5, \"rom_out_1\"), pyrtl.Output(5, \"rom_out_2\")\n",
    "rom_out_3, cmp_out = pyrtl.Output(5, \"rom_out_3\"), pyrtl.Output(1, \"cmp_out\")\n"
   ]
  },
  {
   "cell_type": "markdown",
   "metadata": {},
   "source": [
    " Because [Output](https://pyrtl.readthedocs.io/en/latest/basic.html#pyrtl.Output) [WireVectors](https://pyrtl.readthedocs.io/en/latest/basic.html#pyrtl.WireVector) cannot be used as the source for other nets, in order\n",
    " to use the [RomBlock](https://pyrtl.readthedocs.io/en/latest/regmem.html#pyrtl.RomBlock) outputs in two different places, we must instead assign them to\n",
    " a temporary variable.\n"
   ]
  },
  {
   "cell_type": "code",
   "execution_count": null,
   "metadata": {
    "collapsed": true
   },
   "outputs": [],
   "source": [
    "temp1 = rom1[rom_add_1]\n",
    "temp2 = rom2[rom_add_1]\n",
    "\n",
    "rom_out_3 <<= rom2[rom_add_2]\n"
   ]
  },
  {
   "cell_type": "markdown",
   "metadata": {},
   "source": [
    " Now we connect the rest of the outputs together:\n"
   ]
  },
  {
   "cell_type": "code",
   "execution_count": null,
   "metadata": {
    "collapsed": true
   },
   "outputs": [],
   "source": [
    "rom_out_1 <<= temp1\n",
    "rom_out_2 <<= temp2\n",
    "\n",
    "cmp_out <<= temp1 == temp2\n"
   ]
  },
  {
   "cell_type": "markdown",
   "metadata": {},
   "source": [
    " Repeatability is very useful, but we also don't want the hassle of typing out a set of\n",
    " values to test. One approach is to use a fixed `random` seed:\n"
   ]
  },
  {
   "cell_type": "code",
   "execution_count": null,
   "metadata": {
    "collapsed": true
   },
   "outputs": [],
   "source": [
    "print(\"\\n---------RomBlocks----------\")\n",
    "print(pyrtl.working_block())\n",
    "random.seed(4839483)\n"
   ]
  },
  {
   "cell_type": "markdown",
   "metadata": {},
   "source": [
    " Now we will create a new set of simulation values. In this case, since we want to use\n",
    " simulation values that are larger than `9` we cannot use the trick used in previous\n",
    " examples to parse values, so we pass lists of integers instead.\n"
   ]
  },
  {
   "cell_type": "code",
   "execution_count": null,
   "metadata": {
    "collapsed": true
   },
   "outputs": [],
   "source": [
    "simvals = {\n",
    "    \"rom_in\": [1, 11, 4, 2, 7, 8, 2, 4, 5, 13, 15, 3, 4, 4, 4, 8, 12, 13, 2, 1],\n",
    "    \"rom_in_2\": [random.randrange(16) for i in range(20)],\n",
    "}\n"
   ]
  },
  {
   "cell_type": "markdown",
   "metadata": {},
   "source": [
    " Now run the simulation like before. Note that for [RomBlocks](https://pyrtl.readthedocs.io/en/latest/regmem.html#pyrtl.RomBlock), we do not supply a\n",
    " `memory_value_map` because [RomBlock](https://pyrtl.readthedocs.io/en/latest/regmem.html#pyrtl.RomBlock) get their data when they are constructed via\n",
    " `romdata`.\n"
   ]
  },
  {
   "cell_type": "code",
   "execution_count": null,
   "metadata": {
    "collapsed": true
   },
   "outputs": [],
   "source": [
    "sim = pyrtl.Simulation()\n",
    "sim.step_multiple(simvals)\n",
    "sim.tracer.render_trace()\n"
   ]
  }
 ],
 "metadata": {
  "kernelspec": {
   "display_name": "Python 3",
   "language": "python",
   "name": "python3"
  },
  "language_info": {
   "codemirror_mode": {
    "name": "ipython",
    "version": 3
   },
   "file_extension": ".py",
   "mimetype": "text/x-python",
   "name": "python",
   "nbconvert_exporter": "python",
   "pygments_lexer": "ipython3",
   "version": "3.6.4"
  }
 },
 "nbformat": 4,
 "nbformat_minor": 2
}