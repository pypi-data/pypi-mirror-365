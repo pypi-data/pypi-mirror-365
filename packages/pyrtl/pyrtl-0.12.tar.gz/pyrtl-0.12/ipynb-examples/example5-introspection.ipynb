{
 "cells": [
  {
   "cell_type": "markdown",
   "metadata": {},
   "source": [
    " # Example 5: Making use of PyRTL and Introspection.\n"
   ]
  },
  {
   "cell_type": "code",
   "execution_count": null,
   "metadata": {
    "collapsed": true
   },
   "outputs": [],
   "source": [
    "%pip install pyrtl\n",
    "\n",
    "import pyrtl\n",
    "\n",
    "\n",
    "pyrtl.reset_working_block()\n"
   ]
  },
  {
   "cell_type": "markdown",
   "metadata": {},
   "source": [
    " The following example shows how PyRTL can be used to make some interesting hardware\n",
    " structures using Python introspection. In particular, this example makes a N-stage\n",
    " pipeline structure. Any specific pipeline is then a derived class of `SimplePipeline`\n",
    " where methods with names starting with `stage` are stages, and new members with names\n",
    " not starting with `_` are to be registered for the next stage.\n",
    "\n",
    " ## Pipeline builder with auto generation of pipeline registers.\n"
   ]
  },
  {
   "cell_type": "code",
   "execution_count": null,
   "metadata": {
    "collapsed": true
   },
   "outputs": [],
   "source": [
    "class SimplePipeline:\n",
    "    def __init__(self):\n",
    "        self._pipeline_register_map = {}\n",
    "        self._current_stage_num = 0\n",
    "        stage_list = [method for method in dir(self) if method.startswith(\"stage\")]\n",
    "        for stage in sorted(stage_list):\n",
    "            stage_method = getattr(self, stage)\n",
    "            stage_method()\n",
    "            self._current_stage_num += 1\n",
    "\n",
    "    def __getattr__(self, name):\n",
    "        try:\n",
    "            return self._pipeline_register_map[self._current_stage_num][name]\n",
    "        except KeyError as exc:\n",
    "            msg = (\n",
    "                f'error, no pipeline register \"{name}\" defined for stage '\n",
    "                f\"{self._current_stage_num}\"\n",
    "            )\n",
    "            raise pyrtl.PyrtlError(msg) from exc\n",
    "\n",
    "    def __setattr__(self, name, value):\n",
    "        if name.startswith(\"_\"):\n",
    "            # do not do anything tricky with variables starting with '_'\n",
    "            object.__setattr__(self, name, value)\n",
    "        else:\n",
    "            next_stage = self._current_stage_num + 1\n",
    "            pipereg_id = f\"{self._current_stage_num} to {next_stage}\"\n",
    "            rname = f\"pipereg_{pipereg_id}_name\"\n",
    "            new_pipereg = pyrtl.Register(bitwidth=len(value), name=rname)\n",
    "            if next_stage not in self._pipeline_register_map:\n",
    "                self._pipeline_register_map[next_stage] = {}\n",
    "            self._pipeline_register_map[next_stage][name] = new_pipereg\n",
    "            new_pipereg.next <<= value\n"
   ]
  },
  {
   "cell_type": "markdown",
   "metadata": {},
   "source": [
    " ## A very simple pipeline to show how registers are inferred.\n"
   ]
  },
  {
   "cell_type": "code",
   "execution_count": null,
   "metadata": {
    "collapsed": true
   },
   "outputs": [],
   "source": [
    "class SimplePipelineExample(SimplePipeline):\n",
    "    def __init__(self):\n",
    "        self._loopback = pyrtl.WireVector(1, \"loopback\")\n",
    "        super().__init__()\n",
    "\n",
    "    def stage0(self):\n",
    "        self.n = ~self._loopback\n",
    "\n",
    "    def stage1(self):\n",
    "        self.n = self.n\n",
    "\n",
    "    def stage2(self):\n",
    "        self.n = self.n\n",
    "\n",
    "    def stage3(self):\n",
    "        self.n = self.n\n",
    "\n",
    "    def stage4(self):\n",
    "        self._loopback <<= self.n\n",
    "\n",
    "\n",
    "simplepipeline = SimplePipelineExample()\n",
    "print(pyrtl.working_block())\n"
   ]
  },
  {
   "cell_type": "markdown",
   "metadata": {},
   "source": [
    " ## Simulation of the core\n"
   ]
  },
  {
   "cell_type": "code",
   "execution_count": null,
   "metadata": {
    "collapsed": true
   },
   "outputs": [],
   "source": [
    "sim = pyrtl.Simulation()\n",
    "sim.step_multiple({}, nsteps=15)\n",
    "sim.tracer.render_trace()\n"
   ]
  }
 ],
 "metadata": {
  "kernelspec": {
   "display_name": "Python 3",
   "language": "python",
   "name": "python3"
  },
  "language_info": {
   "codemirror_mode": {
    "name": "ipython",
    "version": 3
   },
   "file_extension": ".py",
   "mimetype": "text/x-python",
   "name": "python",
   "nbconvert_exporter": "python",
   "pygments_lexer": "ipython3",
   "version": "3.6.4"
  }
 },
 "nbformat": 4,
 "nbformat_minor": 2
}