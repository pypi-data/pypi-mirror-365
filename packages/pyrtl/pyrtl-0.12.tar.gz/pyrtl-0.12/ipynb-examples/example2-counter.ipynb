{
 "cells": [
  {
   "cell_type": "markdown",
   "metadata": {},
   "source": [
    " # Example 2: A Counter with Ripple Carry Adder.\n",
    "\n",
    " This next example shows how you make stateful things with registers and more complex\n",
    " hardware structures with functions. We generate a 3-bit ripple carry adder, building\n",
    " off of the 1-bit adder from Example 1, and then hook it to a register to count\n",
    " up modulo 8.\n"
   ]
  },
  {
   "cell_type": "code",
   "execution_count": null,
   "metadata": {
    "collapsed": true
   },
   "outputs": [],
   "source": [
    "%pip install pyrtl\n",
    "\n",
    "import pyrtl\n",
    "\n",
    "\n",
    "pyrtl.reset_working_block()\n"
   ]
  },
  {
   "cell_type": "markdown",
   "metadata": {},
   "source": [
    " Let's just dive right in.\n",
    "\n",
    " A function in PyRTL is nothing special -- it just so happens that the statements it\n",
    " encapsulate tell PyRTL to build some hardware.\n"
   ]
  },
  {
   "cell_type": "code",
   "execution_count": null,
   "metadata": {
    "collapsed": true
   },
   "outputs": [],
   "source": [
    "def one_bit_add(\n",
    "    a: pyrtl.WireVector, b: pyrtl.WireVector, carry_in: pyrtl.WireVector\n",
    ") -> tuple[pyrtl.WireVector, pyrtl.WireVector]:\n",
    "    assert len(a) == len(b) == 1  # len returns the bitwidth\n",
    "    sum = a ^ b ^ carry_in\n",
    "    carry_out = a & b | a & carry_in | b & carry_in\n",
    "    return sum, carry_out\n"
   ]
  },
  {
   "cell_type": "markdown",
   "metadata": {},
   "source": [
    " If we call `one_bit_add` above with the arguments `x`, `y`, and `z`, it will make a\n",
    " one-bit adder to add those values together, returning [WireVectors](https://pyrtl.readthedocs.io/en/latest/basic.html#pyrtl.WireVector) for `sum` and\n",
    " `carry_out` as applied to `x`, `y`, and `z`. If I call it again on `i`, `j`, and `k`\n",
    " it will build a new one-bit adder for those inputs and return the resulting `sum` and\n",
    " `carry_out` for that adder.\n",
    "\n",
    " While PyRTL actually provides an `+` operator for [WireVectors](https://pyrtl.readthedocs.io/en/latest/basic.html#pyrtl.WireVector) which generates\n",
    " adders, a ripple carry adder is something people can understand easily but has enough\n",
    " structure to be mildly interesting. Let's define an adder of arbitrary length\n",
    " recursively and (hopefully) Pythonically. More comments after the code.\n"
   ]
  },
  {
   "cell_type": "code",
   "execution_count": null,
   "metadata": {
    "collapsed": true
   },
   "outputs": [],
   "source": [
    "def ripple_add(\n",
    "    a: pyrtl.WireVector, b: pyrtl.WireVector, carry_in: pyrtl.WireVector = 0\n",
    ") -> tuple[pyrtl.WireVector, pyrtl.WireVector]:\n",
    "    a, b = pyrtl.match_bitwidth(a, b)\n",
    "    # This function is a function that allows us to match the bitwidth of multiple\n",
    "    # different wires. By default, it zero extends the shorter bits\n",
    "    if len(a) == 1:\n",
    "        return one_bit_add(a, b, carry_in)\n",
    "    lsb, ripple_carry = one_bit_add(a[0], b[0], carry_in)\n",
    "    msbits, carry_out = ripple_add(a[1:], b[1:], ripple_carry)\n",
    "    return pyrtl.concat(msbits, lsb), carry_out\n"
   ]
  },
  {
   "cell_type": "markdown",
   "metadata": {},
   "source": [
    " ## The above code breaks down into two cases:\n",
    "\n",
    " 1. If `a` is one-bit wide, just do a `one_bit_add`.\n",
    " 2. Otherwise, do a `one_bit_add` on the least significant bits, `ripple_add` the rest,\n",
    "    and then stick the results back together into one [WireVector](https://pyrtl.readthedocs.io/en/latest/basic.html#pyrtl.WireVector).\n",
    "\n",
    " ## A couple interesting features of PyRTL can be seen here:\n",
    "\n",
    " * WireVectors can be indexed like lists, with `[0]` accessing the least significant\n",
    "   bit and `[1:]` accessing the remaining bits. Python slicing is supported, with the\n",
    "   usual `start:stop:stop` syntax.\n",
    " * While you can add two lists together in Python, a [WireVector](https://pyrtl.readthedocs.io/en/latest/basic.html#pyrtl.WireVector) + [WireVector](https://pyrtl.readthedocs.io/en/latest/basic.html#pyrtl.WireVector) means\n",
    "   \"make an adder\". To concatenate the bits of two [WireVectors](https://pyrtl.readthedocs.io/en/latest/basic.html#pyrtl.WireVector) one needs to use\n",
    "   [concat()](https://pyrtl.readthedocs.io/en/latest/helpers.html#pyrtl.concat).\n",
    " * Finally, if we look at `carry_in` it seems to have a default value of the integer\n",
    "   `0` but is a [WireVector](https://pyrtl.readthedocs.io/en/latest/basic.html#pyrtl.WireVector) at other times. Python supports polymorphism throughout\n",
    "   and PyRTL will cast integers and some other types to [WireVectors](https://pyrtl.readthedocs.io/en/latest/basic.html#pyrtl.WireVector) when it can.\n",
    "\n",
    " Now let's build a 3-bit counter from our N-bit ripple carry adder.\n"
   ]
  },
  {
   "cell_type": "code",
   "execution_count": null,
   "metadata": {
    "collapsed": true
   },
   "outputs": [],
   "source": [
    "counter = pyrtl.Register(bitwidth=3, name=\"counter\")\n",
    "sum, carry_out = ripple_add(counter, pyrtl.Const(\"1'b1\"))\n",
    "counter.next <<= sum\n"
   ]
  },
  {
   "cell_type": "markdown",
   "metadata": {},
   "source": [
    " ## A few new things in the above code:\n",
    "\n",
    " * The two remaining types of basic [WireVectors](https://pyrtl.readthedocs.io/en/latest/basic.html#pyrtl.WireVector), [Const](https://pyrtl.readthedocs.io/en/latest/basic.html#pyrtl.Const) and [Register](https://pyrtl.readthedocs.io/en/latest/basic.html#pyrtl.Register), both appear.\n",
    "   [Const](https://pyrtl.readthedocs.io/en/latest/basic.html#pyrtl.Const), unsurprisingly, is just for holding constants (such as the `0` in\n",
    "   `ripple_add`), but here we create one explicitly with a Verilog-like string which\n",
    "   includes both the value and the bitwidth.\n",
    " * [Registers](https://pyrtl.readthedocs.io/en/latest/basic.html#pyrtl.Register) are just like [WireVectors](https://pyrtl.readthedocs.io/en/latest/basic.html#pyrtl.WireVector), except their updates are delayed to the\n",
    "   next clock cycle. This is made explicit in the syntax through the property `.next`\n",
    "   which should always be set for registers.\n",
    " * In this simple example, we make the counter's value on the next cycle equal to the\n",
    "   counter's value this cycle plus one.\n",
    "\n",
    " Now let's run the bugger. No need for [Inputs](https://pyrtl.readthedocs.io/en/latest/basic.html#pyrtl.Input), as this circuit doesn't have any.\n",
    " Finally we'll print the trace to the screen and check that it counts up correctly.\n"
   ]
  },
  {
   "cell_type": "code",
   "execution_count": null,
   "metadata": {
    "collapsed": true
   },
   "outputs": [],
   "source": [
    "sim = pyrtl.Simulation()\n",
    "for cycle in range(15):\n",
    "    sim.step()\n",
    "    assert sim.value[counter] == cycle % 8\n",
    "sim.tracer.render_trace()\n"
   ]
  }
 ],
 "metadata": {
  "kernelspec": {
   "display_name": "Python 3",
   "language": "python",
   "name": "python3"
  },
  "language_info": {
   "codemirror_mode": {
    "name": "ipython",
    "version": 3
   },
   "file_extension": ".py",
   "mimetype": "text/x-python",
   "name": "python",
   "nbconvert_exporter": "python",
   "pygments_lexer": "ipython3",
   "version": "3.6.4"
  }
 },
 "nbformat": 4,
 "nbformat_minor": 2
}