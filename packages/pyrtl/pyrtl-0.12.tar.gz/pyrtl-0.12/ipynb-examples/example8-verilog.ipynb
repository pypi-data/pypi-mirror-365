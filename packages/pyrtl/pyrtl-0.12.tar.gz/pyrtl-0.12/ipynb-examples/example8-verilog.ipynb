{
 "cells": [
  {
   "cell_type": "markdown",
   "metadata": {},
   "source": [
    " # Example 8: Interfacing with Verilog.\n",
    "\n",
    " PyRTL provides utilities to import from, and export to, Verilog. Simulation traces can\n",
    " also be exported to `vcd` files.\n"
   ]
  },
  {
   "cell_type": "code",
   "execution_count": null,
   "metadata": {
    "collapsed": true
   },
   "outputs": [],
   "source": [
    "%pip install pyrtl pyparsing\n",
    "\n",
    "import io\n",
    "import random\n",
    "\n",
    "import pyrtl\n",
    "\n",
    "pyrtl.reset_working_block()\n"
   ]
  },
  {
   "cell_type": "markdown",
   "metadata": {},
   "source": [
    " ## Importing From Verilog\n",
    "\n",
    " Sometimes it is useful to pull in components written in Verilog to be used as\n",
    " subcomponents of PyRTL designs, or for analysis in PyRTL. PyRTL supports the standard\n",
    " `blif` format: https://www.ece.cmu.edu/~ee760/760docs/blif.pdf\n",
    "\n",
    " Many tools support outputting hardware designs to `blif`, including the open source\n",
    " project `yosys`. `blif` files can then be imported either as a string or directly from\n",
    " a file name by the function [input_from_blif()](https://pyrtl.readthedocs.io/en/latest/export.html#pyrtl.input_from_blif). Here is a simple example of a 1-bit\n",
    " full adder imported and then simulated from `blif`:\n"
   ]
  },
  {
   "cell_type": "code",
   "execution_count": null,
   "metadata": {
    "collapsed": true
   },
   "outputs": [],
   "source": [
    "full_adder_blif = \"\"\"\n",
    ".model full_adder\n",
    ".inputs x y cin\n",
    ".outputs sum cout\n",
    ".names $false\n",
    ".names $true\n",
    "1\n",
    ".names y $not$FA.v:12$3_Y\n",
    "0 1\n",
    ".names x $not$FA.v:11$1_Y\n",
    "0 1\n",
    ".names cin $not$FA.v:15$6_Y\n",
    "0 1\n",
    ".names ind3 ind4 sum\n",
    "1- 1\n",
    "-1 1\n",
    ".names $not$FA.v:15$6_Y ind2 ind3\n",
    "11 1\n",
    ".names x $not$FA.v:12$3_Y ind1\n",
    "11 1\n",
    ".names ind2 $not$FA.v:16$8_Y\n",
    "0 1\n",
    ".names cin $not$FA.v:16$8_Y ind4\n",
    "11 1\n",
    ".names x y $and$FA.v:19$11_Y\n",
    "11 1\n",
    ".names ind0 ind1 ind2\n",
    "1- 1\n",
    "-1 1\n",
    ".names cin ind2 $and$FA.v:19$12_Y\n",
    "11 1\n",
    ".names $and$FA.v:19$11_Y $and$FA.v:19$12_Y cout\n",
    "1- 1\n",
    "-1 1\n",
    ".names $not$FA.v:11$1_Y y ind0\n",
    "11 1\n",
    ".end\n",
    "\"\"\"\n",
    "\n",
    "pyrtl.input_from_blif(full_adder_blif)\n"
   ]
  },
  {
   "cell_type": "markdown",
   "metadata": {},
   "source": [
    " Find the [WireVectors](https://pyrtl.readthedocs.io/en/latest/basic.html#pyrtl.WireVector) corresponding to wires named in the `blif` file.\n"
   ]
  },
  {
   "cell_type": "code",
   "execution_count": null,
   "metadata": {
    "collapsed": true
   },
   "outputs": [],
   "source": [
    "x, y, cin = [pyrtl.working_block().get_wirevector_by_name(s) for s in [\"x\", \"y\", \"cin\"]]\n"
   ]
  },
  {
   "cell_type": "markdown",
   "metadata": {},
   "source": [
    " Simulate the logic with random input values:\n"
   ]
  },
  {
   "cell_type": "code",
   "execution_count": null,
   "metadata": {
    "collapsed": true
   },
   "outputs": [],
   "source": [
    "sim = pyrtl.Simulation()\n",
    "for _cycle in range(15):\n",
    "    sim.step(\n",
    "        {\"x\": random.randrange(2), \"y\": random.randrange(2), \"cin\": random.randrange(2)}\n",
    "    )\n"
   ]
  },
  {
   "cell_type": "markdown",
   "metadata": {},
   "source": [
    " Only display the [Input](https://pyrtl.readthedocs.io/en/latest/basic.html#pyrtl.Input) and [Output](https://pyrtl.readthedocs.io/en/latest/basic.html#pyrtl.Output) [WireVectors](https://pyrtl.readthedocs.io/en/latest/basic.html#pyrtl.WireVector) for clarity.\n"
   ]
  },
  {
   "cell_type": "code",
   "execution_count": null,
   "metadata": {
    "collapsed": true
   },
   "outputs": [],
   "source": [
    "input_vectors = pyrtl.working_block().wirevector_subset(pyrtl.Input)\n",
    "output_vectors = pyrtl.working_block().wirevector_subset(pyrtl.Output)\n",
    "sim.tracer.render_trace(trace_list=[*input_vectors, *output_vectors], symbol_len=2)\n"
   ]
  },
  {
   "cell_type": "markdown",
   "metadata": {},
   "source": [
    " ## Exporting to Verilog\n",
    "\n",
    " To demonstrate Verilog export, we create a simple 3-bit counter. This is like the\n",
    " counter in `example2`, except this one can be reset at any time by asserting `zero`.\n"
   ]
  },
  {
   "cell_type": "code",
   "execution_count": null,
   "metadata": {
    "collapsed": true
   },
   "outputs": [],
   "source": [
    "pyrtl.reset_working_block()\n",
    "\n",
    "zero = pyrtl.Input(1, \"zero\")\n",
    "counter_output = pyrtl.Output(3, \"counter_output\")\n",
    "counter = pyrtl.Register(3, \"counter\")\n",
    "counter.next <<= pyrtl.select(zero, 0, counter + 1)\n",
    "counter_output <<= counter\n"
   ]
  },
  {
   "cell_type": "markdown",
   "metadata": {},
   "source": [
    " The `select()` statement resets the `counter` to `0` in the next cycle when the `zero`\n",
    " signal goes high, otherwise the `counter`'s next value is just `counter + 1`.\n",
    "\n",
    " The constants `0` and `1` are automatically [zero_extended()](https://pyrtl.readthedocs.io/en/latest/basic.html#pyrtl.WireVector.zero_extended) to the proper length.\n",
    " Let's export this resettable counter to a Verilog file and see what is looks like\n",
    " (here we are using `StringIO` just to print it to a string for demo purposes; most\n",
    " likely you will want to pass a normal `open` file).\n"
   ]
  },
  {
   "cell_type": "code",
   "execution_count": null,
   "metadata": {
    "collapsed": true
   },
   "outputs": [],
   "source": [
    "print(\"\\n--- PyRTL Representation ---\")\n",
    "print(pyrtl.working_block())\n",
    "\n",
    "print(\"\\n--- Verilog for the Counter ---\")\n",
    "with io.StringIO() as verilog_file:\n",
    "    pyrtl.output_to_verilog(verilog_file)\n",
    "    print(verilog_file.getvalue())\n",
    "\n",
    "print(\"\\n--- Simulation Results ---\")\n",
    "sim = pyrtl.Simulation(tracer=pyrtl.SimulationTrace([counter_output, zero]))\n",
    "for _cycle in range(15):\n",
    "    sim.step({\"zero\": random.choice([0, 0, 0, 1])})\n",
    "sim.tracer.render_trace()\n"
   ]
  },
  {
   "cell_type": "markdown",
   "metadata": {},
   "source": [
    " We already did the \"hard\" work of generating a test input for this simulation, so we\n",
    " might want to reuse that work when we take this design through a Verilog toolchain.\n",
    " [output_verilog_testbench()](https://pyrtl.readthedocs.io/en/latest/export.html#pyrtl.output_verilog_testbench) grabs the [Inputs](https://pyrtl.readthedocs.io/en/latest/basic.html#pyrtl.Input) used in the [SimulationTrace](https://pyrtl.readthedocs.io/en/latest/simtest.html#pyrtl.SimulationTrace) and sets\n",
    " them up in a standard Verilog testbench.\n"
   ]
  },
  {
   "cell_type": "code",
   "execution_count": null,
   "metadata": {
    "collapsed": true
   },
   "outputs": [],
   "source": [
    "print(\"\\n--- Verilog for the TestBench (first 10 lines) ---\")\n",
    "with io.StringIO() as testbench_file:\n",
    "    pyrtl.output_verilog_testbench(\n",
    "        dest_file=testbench_file, simulation_trace=sim.tracer\n",
    "    )\n",
    "    for i, line in enumerate(testbench_file.getvalue().split(\"\\n\")):\n",
    "        if i == 10:\n",
    "            break\n",
    "        print(line)\n",
    "    print(\"...\")\n"
   ]
  },
  {
   "cell_type": "markdown",
   "metadata": {},
   "source": [
    " ## Transformations\n",
    "\n",
    " Now let's talk about transformations of the hardware block. Many times when you are\n",
    " doing some hardware-level analysis you might wish to ignore higher level things like\n",
    " multi-bit wirevectors, adds, concatenation, etc, and just think about wires and basic\n",
    " gates. PyRTL supports \"lowering\" of designs into this more restricted set of\n",
    " functionality though the function [synthesize()](https://pyrtl.readthedocs.io/en/latest/analysis.html#pyrtl.synthesize). Once we lower a design to this form\n",
    " we can then apply basic optimizations like constant propagation and dead wire\n",
    " elimination as well. By printing it out to Verilog we can see exactly how the design\n",
    " changed.\n"
   ]
  },
  {
   "cell_type": "code",
   "execution_count": null,
   "metadata": {
    "collapsed": true
   },
   "outputs": [],
   "source": [
    "print(\"\\n--- Optimized Single-bit Verilog for the Counter ---\")\n",
    "pyrtl.synthesize()\n",
    "pyrtl.optimize()\n",
    "\n",
    "with io.StringIO() as verilog_file:\n",
    "    pyrtl.output_to_verilog(verilog_file)\n",
    "    print(verilog_file.getvalue())\n"
   ]
  }
 ],
 "metadata": {
  "kernelspec": {
   "display_name": "Python 3",
   "language": "python",
   "name": "python3"
  },
  "language_info": {
   "codemirror_mode": {
    "name": "ipython",
    "version": 3
   },
   "file_extension": ".py",
   "mimetype": "text/x-python",
   "name": "python",
   "nbconvert_exporter": "python",
   "pygments_lexer": "ipython3",
   "version": "3.6.4"
  }
 },
 "nbformat": 4,
 "nbformat_minor": 2
}