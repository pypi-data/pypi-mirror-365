{
 "cells": [
  {
   "cell_type": "markdown",
   "metadata": {},
   "source": [
    " # Example 4: Debugging\n",
    "\n",
    " Debugging is half the coding process in software, and in PyRTL, it's no different.\n",
    " PyRTL provides some additional challenges when it comes to debugging, as a problem may\n",
    " surface long after the error was made. Fortunately, PyRTL comes with various features\n",
    " to help you find mistakes.\n"
   ]
  },
  {
   "cell_type": "code",
   "execution_count": null,
   "metadata": {
    "collapsed": true
   },
   "outputs": [],
   "source": [
    "%pip install pyrtl\n",
    "\n",
    "import io\n",
    "import random\n",
    "\n",
    "import pyrtl\n",
    "from pyrtl.rtllib.adders import kogge_stone\n",
    "from pyrtl.rtllib.multipliers import tree_multiplier\n",
    "\n",
    "pyrtl.reset_working_block()\n"
   ]
  },
  {
   "cell_type": "markdown",
   "metadata": {},
   "source": [
    " This example covers debugging strategies for PyRTL. For general Python debugging, we\n",
    " recommend healthy use of the `assert` statement, and use of `pdb` for tracking down\n",
    " bugs. However, PyRTL introduces some new complexities because the place where\n",
    " functionality is defined (when you construct and operate on PyRTL classes) is separate\n",
    " in time from where that functionality is executed (i.e. during [Simulation](https://pyrtl.readthedocs.io/en/latest/simtest.html#pyrtl.Simulation)). Thus,\n",
    " sometimes it hard to track down where a [WireVector](https://pyrtl.readthedocs.io/en/latest/basic.html#pyrtl.WireVector) might have come from, or what\n",
    " exactly it is doing.\n",
    "\n",
    " In this example, we build a circuit that adds up three [Input](https://pyrtl.readthedocs.io/en/latest/basic.html#pyrtl.Input) values. However,\n",
    " instead of building an add function ourselves or using the built-in \"+\" function in\n",
    " PyRTL, we will instead use the [kogge_stone()](https://pyrtl.readthedocs.io/en/latest/rtllib.html#pyrtl.rtllib.adders.kogge_stone) adders in `rtllib`, PyRTL's standard\n",
    " library.\n"
   ]
  },
  {
   "cell_type": "code",
   "execution_count": null,
   "metadata": {
    "collapsed": true
   },
   "outputs": [],
   "source": [
    "in1 = pyrtl.Input(8, \"in1\")\n",
    "in2 = pyrtl.Input(8, \"in2\")\n",
    "in3 = pyrtl.Input(8, \"in3\")\n",
    "\n",
    "out = pyrtl.Output(10, \"out\")\n",
    "\n",
    "add1_out = kogge_stone(in1, in2)\n",
    "add2_out = kogge_stone(add1_out, in2)\n",
    "out <<= add2_out\n"
   ]
  },
  {
   "cell_type": "markdown",
   "metadata": {},
   "source": [
    " The most basic way of debugging PyRTL is to connect a value to an output wire and use\n",
    " [Simulation](https://pyrtl.readthedocs.io/en/latest/simtest.html#pyrtl.Simulation) to trace the output. A simple `print` statement won't work because the\n",
    " [WireVectors](https://pyrtl.readthedocs.io/en/latest/basic.html#pyrtl.WireVector) do not carry values while we are building the hardware.\n",
    "\n",
    " If we want to check the result of the first addition, we can connect an [Output](https://pyrtl.readthedocs.io/en/latest/basic.html#pyrtl.Output) wire\n",
    " to the result wire of the first adder:\n"
   ]
  },
  {
   "cell_type": "code",
   "execution_count": null,
   "metadata": {
    "collapsed": true
   },
   "outputs": [],
   "source": [
    "debug_out = pyrtl.Output(9, \"debug_out\")\n",
    "debug_out <<= add1_out\n"
   ]
  },
  {
   "cell_type": "markdown",
   "metadata": {},
   "source": [
    " Now simulate the circuit.  Let's create some random inputs to feed our adder.\n"
   ]
  },
  {
   "cell_type": "code",
   "execution_count": null,
   "metadata": {
    "collapsed": true
   },
   "outputs": [],
   "source": [
    "random.seed(93729473)  # used to make random calls deterministic for this example\n",
    "vals1 = [random.randrange(256) for _ in range(20)]\n",
    "vals2 = [random.randrange(256) for _ in range(20)]\n",
    "vals3 = [random.randrange(256) for _ in range(20)]\n",
    "\n",
    "sim = pyrtl.Simulation()\n",
    "sim.step_multiple({\"in1\": vals1, \"in2\": vals2, \"in3\": vals3})\n"
   ]
  },
  {
   "cell_type": "markdown",
   "metadata": {},
   "source": [
    " In order to get the result data, you do not need to print a waveform of the trace. You\n",
    " always have the option to just pull the data out of the [Simulation](https://pyrtl.readthedocs.io/en/latest/simtest.html#pyrtl.Simulation)'s `tracer`\n",
    " directly:\n"
   ]
  },
  {
   "cell_type": "code",
   "execution_count": null,
   "metadata": {
    "collapsed": true
   },
   "outputs": [],
   "source": [
    "print(\"---- Inputs and debug_out ----\")\n",
    "print(\"in1:       \", sim.tracer.trace[\"in1\"])\n",
    "print(\"in2:       \", sim.tracer.trace[\"in2\"])\n",
    "print(\"debug_out: \", sim.tracer.trace[\"debug_out\"])\n",
    "print(\"\\n\")\n"
   ]
  },
  {
   "cell_type": "markdown",
   "metadata": {},
   "source": [
    " Below, I am using the ability to directly retrieve the trace data to verify the\n",
    " correctness of the first adder\n"
   ]
  },
  {
   "cell_type": "code",
   "execution_count": null,
   "metadata": {
    "collapsed": true
   },
   "outputs": [],
   "source": [
    "for cycle in range(len(vals1)):\n",
    "    actual = sim.tracer.trace[\"debug_out\"][cycle]\n",
    "    expected = sim.tracer.trace[\"in1\"][cycle] + sim.tracer.trace[\"in2\"][cycle]\n",
    "    assert actual == expected\n"
   ]
  },
  {
   "cell_type": "markdown",
   "metadata": {},
   "source": [
    " ## [probe()](https://pyrtl.readthedocs.io/en/latest/helpers.html#pyrtl.probe)\n",
    "\n",
    " Now that we have built some stuff, let's clear it so we can try again in a different\n",
    " way. We can start by clearing all of the hardware from the current working block with\n",
    " [reset_working_block()](https://pyrtl.readthedocs.io/en/latest/blocks.html#pyrtl.reset_working_block). The working block is a global structure that keeps track of\n",
    " all the hardware you have built thus far. A \"reset\" will clear it so we can start\n",
    " fresh.\n"
   ]
  },
  {
   "cell_type": "code",
   "execution_count": null,
   "metadata": {
    "collapsed": true
   },
   "outputs": [],
   "source": [
    "pyrtl.reset_working_block()\n"
   ]
  },
  {
   "cell_type": "markdown",
   "metadata": {},
   "source": [
    " In this example, we will be multiplying two numbers using [tree_multiplier()](https://pyrtl.readthedocs.io/en/latest/rtllib.html#pyrtl.rtllib.multipliers.tree_multiplier). Again,\n",
    " create the two inputs and an output\n"
   ]
  },
  {
   "cell_type": "code",
   "execution_count": null,
   "metadata": {
    "collapsed": true
   },
   "outputs": [],
   "source": [
    "in1 = pyrtl.Input(8, \"in1\")\n",
    "in2 = pyrtl.Input(8, \"in2\")\n",
    "\n",
    "out1 = pyrtl.Output(8, \"out1\")\n",
    "out2 = pyrtl.Output(8, \"out2\")\n",
    "\n",
    "multout = tree_multiplier(in1, in2)\n"
   ]
  },
  {
   "cell_type": "markdown",
   "metadata": {},
   "source": [
    " The following line will create a [probe()](https://pyrtl.readthedocs.io/en/latest/helpers.html#pyrtl.probe) named `std_probe` for later use, like an\n",
    " output.\n"
   ]
  },
  {
   "cell_type": "code",
   "execution_count": null,
   "metadata": {
    "collapsed": true
   },
   "outputs": [],
   "source": [
    "pyrtl.probe(multout, \"std_probe\")\n"
   ]
  },
  {
   "cell_type": "markdown",
   "metadata": {},
   "source": [
    " We could also do the same thing during assignment. The next command will create a\n",
    " [probe()](https://pyrtl.readthedocs.io/en/latest/helpers.html#pyrtl.probe) (named `stdout_probe`) that refers to `multout`, and returns the wire\n",
    " `multout`. This achieves virtually the same thing as the [probe()](https://pyrtl.readthedocs.io/en/latest/helpers.html#pyrtl.probe) above, but it is\n",
    " done during assignment, so we skip a step by probing the wire before the\n",
    " multiplication. The [probe()](https://pyrtl.readthedocs.io/en/latest/helpers.html#pyrtl.probe) returns `multout`, the original wire, and `out1` will be\n",
    " assigned `multout * 2`.\n"
   ]
  },
  {
   "cell_type": "code",
   "execution_count": null,
   "metadata": {
    "collapsed": true
   },
   "outputs": [],
   "source": [
    "out1 <<= pyrtl.probe(multout, \"stdout_probe\") * 2\n"
   ]
  },
  {
   "cell_type": "markdown",
   "metadata": {},
   "source": [
    " [probe()](https://pyrtl.readthedocs.io/en/latest/helpers.html#pyrtl.probe) can also be used with other operations like this:\n"
   ]
  },
  {
   "cell_type": "code",
   "execution_count": null,
   "metadata": {
    "collapsed": true
   },
   "outputs": [],
   "source": [
    "pyrtl.probe(multout + 32, \"adder_probe\")\n"
   ]
  },
  {
   "cell_type": "markdown",
   "metadata": {},
   "source": [
    " or this:\n"
   ]
  },
  {
   "cell_type": "code",
   "execution_count": null,
   "metadata": {
    "collapsed": true
   },
   "outputs": [],
   "source": [
    "pyrtl.probe(multout[2:7], \"select_probe\")\n"
   ]
  },
  {
   "cell_type": "markdown",
   "metadata": {},
   "source": [
    " or, similarly:\n",
    " (this will create a probe of `multout` while passing `multout[2:16]` to `out2`)\n"
   ]
  },
  {
   "cell_type": "code",
   "execution_count": null,
   "metadata": {
    "collapsed": true
   },
   "outputs": [],
   "source": [
    "out2 <<= pyrtl.probe(multout)[2:16]  # notice probe names are not absolutely necessary\n"
   ]
  },
  {
   "cell_type": "markdown",
   "metadata": {},
   "source": [
    " As one can see, [probe()](https://pyrtl.readthedocs.io/en/latest/helpers.html#pyrtl.probe) can be used on any wire any time, such as before or during\n",
    " its operation, assignment, etc.\n",
    "\n",
    " Now on to the simulation... For variation, we'll recreate the random inputs:\n"
   ]
  },
  {
   "cell_type": "code",
   "execution_count": null,
   "metadata": {
    "collapsed": true
   },
   "outputs": [],
   "source": [
    "vals1 = [random.randrange(10) for _ in range(10)]\n",
    "vals2 = [random.randrange(10) for _ in range(10)]\n",
    "\n",
    "sim = pyrtl.Simulation()\n",
    "sim.step_multiple({\"in1\": vals1, \"in2\": vals2})\n"
   ]
  },
  {
   "cell_type": "markdown",
   "metadata": {},
   "source": [
    " Now we will show the values of the inputs and probes and look at that, we didn't need\n",
    " to make any outputs! (although [probe()](https://pyrtl.readthedocs.io/en/latest/helpers.html#pyrtl.probe) did).\n"
   ]
  },
  {
   "cell_type": "code",
   "execution_count": null,
   "metadata": {
    "collapsed": true
   },
   "outputs": [],
   "source": [
    "print(\"---- Using Probes ----\")\n",
    "sim.tracer.render_trace(repr_func=str)\n",
    "sim.tracer.print_trace()\n"
   ]
  },
  {
   "cell_type": "markdown",
   "metadata": {},
   "source": [
    " Say we wanted more information about one of those probes above at declaration. We\n",
    " could have used [set_debug_mode()](https://pyrtl.readthedocs.io/en/latest/helpers.html#pyrtl.set_debug_mode) before their creation, like so:\n"
   ]
  },
  {
   "cell_type": "code",
   "execution_count": null,
   "metadata": {
    "collapsed": true
   },
   "outputs": [],
   "source": [
    "print(\"\\n--- Probe w/ debugging: ---\")\n",
    "pyrtl.set_debug_mode()\n",
    "pyrtl.probe(multout - 16, \"debugsubtr_probe\")\n",
    "pyrtl.set_debug_mode(debug=False)\n"
   ]
  },
  {
   "cell_type": "markdown",
   "metadata": {},
   "source": [
    " ## [WireVector](https://pyrtl.readthedocs.io/en/latest/basic.html#pyrtl.WireVector) Stack Trace\n",
    "\n",
    " Another case that might arise is that a certain wire is causing an error to occur in\n",
    " your program. [WireVector](https://pyrtl.readthedocs.io/en/latest/basic.html#pyrtl.WireVector) Stack Traces allow you to find out more about where a\n",
    " particular [WireVector](https://pyrtl.readthedocs.io/en/latest/basic.html#pyrtl.WireVector) was made in your code. With this enabled the [WireVector](https://pyrtl.readthedocs.io/en/latest/basic.html#pyrtl.WireVector) will\n",
    " store exactly were it was created, which should help with issues where there is a\n",
    " problem with an identified wire.\n",
    "\n",
    " Like above, just add the following line before the relevant [WireVector](https://pyrtl.readthedocs.io/en/latest/basic.html#pyrtl.WireVector) might be made\n",
    " or at the beginning of the program.\n"
   ]
  },
  {
   "cell_type": "code",
   "execution_count": null,
   "metadata": {
    "collapsed": true
   },
   "outputs": [],
   "source": [
    "pyrtl.set_debug_mode()\n",
    "\n",
    "test_out = pyrtl.Output(9, \"test_out\")\n",
    "test_out <<= kogge_stone(in1, in2)\n"
   ]
  },
  {
   "cell_type": "markdown",
   "metadata": {},
   "source": [
    " Now to retrieve information\n"
   ]
  },
  {
   "cell_type": "code",
   "execution_count": null,
   "metadata": {
    "collapsed": true
   },
   "outputs": [],
   "source": [
    "wire_trace = test_out.init_call_stack\n"
   ]
  },
  {
   "cell_type": "markdown",
   "metadata": {},
   "source": [
    " This data is generated using the `traceback.format_stack()` call from the Python\n",
    " standard library's `traceback` module (look at the Python standard library docs for\n",
    " details on the function). Therefore, the stack traces are stored as a list with the\n",
    " outermost call first.\n"
   ]
  },
  {
   "cell_type": "code",
   "execution_count": null,
   "metadata": {
    "collapsed": true
   },
   "outputs": [],
   "source": [
    "print(\"---- Stack Trace ----\")\n",
    "for frame in wire_trace:\n",
    "    print(frame)\n"
   ]
  },
  {
   "cell_type": "markdown",
   "metadata": {},
   "source": [
    " ### Storage of Additional Debug Data\n",
    "\n",
    " WARNING: the debug information generated by the following two processes are not\n",
    " guaranteed to be preserved when functions (eg. [synthesize()](https://pyrtl.readthedocs.io/en/latest/analysis.html#pyrtl.synthesize)) are done over the\n",
    " [Block](https://pyrtl.readthedocs.io/en/latest/blocks.html#pyrtl.Block).\n",
    "\n",
    " However, if the stack trace does not give you enough information about the\n",
    " [WireVector](https://pyrtl.readthedocs.io/en/latest/basic.html#pyrtl.WireVector), you can also embed additional information into the wire itself. Two ways\n",
    " of doing so are by changing the name of the [WireVector](https://pyrtl.readthedocs.io/en/latest/basic.html#pyrtl.WireVector), or by adding your own custom\n",
    " metadata to the [WireVector](https://pyrtl.readthedocs.io/en/latest/basic.html#pyrtl.WireVector).\n",
    "\n",
    " So far, each [Input](https://pyrtl.readthedocs.io/en/latest/basic.html#pyrtl.Input) and [Output](https://pyrtl.readthedocs.io/en/latest/basic.html#pyrtl.Output) WireVector` have been given their own names, but\n",
    " normal [WireVectors](https://pyrtl.readthedocs.io/en/latest/basic.html#pyrtl.WireVector) can also be given names by supplying the name argument to the\n",
    " constructor.\n"
   ]
  },
  {
   "cell_type": "code",
   "execution_count": null,
   "metadata": {
    "collapsed": true
   },
   "outputs": [],
   "source": [
    "dummy_wv = pyrtl.WireVector(1, name=\"blah\")\n"
   ]
  },
  {
   "cell_type": "markdown",
   "metadata": {},
   "source": [
    " A [WireVector](https://pyrtl.readthedocs.io/en/latest/basic.html#pyrtl.WireVector)'s `name` can also be changed later:\n"
   ]
  },
  {
   "cell_type": "code",
   "execution_count": null,
   "metadata": {
    "collapsed": true
   },
   "outputs": [],
   "source": [
    "dummy_wv.name = \"argh\"\n"
   ]
  },
  {
   "cell_type": "markdown",
   "metadata": {},
   "source": [
    " Also, because of the flexible nature of Python, you can also add custom properties to\n",
    " the [WireVector](https://pyrtl.readthedocs.io/en/latest/basic.html#pyrtl.WireVector):\n"
   ]
  },
  {
   "cell_type": "code",
   "execution_count": null,
   "metadata": {
    "collapsed": true
   },
   "outputs": [],
   "source": [
    "dummy_wv.my_custom_property_name = \"John Clow is great\"\n",
    "dummy_wv.custom_value_028493 = 13\n"
   ]
  },
  {
   "cell_type": "markdown",
   "metadata": {},
   "source": [
    " Remove the [WireVector](https://pyrtl.readthedocs.io/en/latest/basic.html#pyrtl.WireVector) from the [Block](https://pyrtl.readthedocs.io/en/latest/blocks.html#pyrtl.Block) to prevent problems with the rest of this\n",
    " example.\n"
   ]
  },
  {
   "cell_type": "code",
   "execution_count": null,
   "metadata": {
    "collapsed": true
   },
   "outputs": [],
   "source": [
    "pyrtl.working_block().remove_wirevector(dummy_wv)\n"
   ]
  },
  {
   "cell_type": "markdown",
   "metadata": {},
   "source": [
    " ## Trivial Graph Format\n",
    "\n",
    " Finally, there is a handy way to view your hardware creations as a graph. The function\n",
    " [output_to_trivialgraph()](https://pyrtl.readthedocs.io/en/latest/export.html#pyrtl.output_to_trivialgraph) will render your hardware in a format that you can then\n",
    " open with the free software \"yEd\" (http://en.wikipedia.org/wiki/YEd). There are\n",
    " options under the \"hierarchical\" rendering to draw something that looks quite like a\n",
    " circuit.\n",
    "\n",
    " Also see [output_to_svg()](https://pyrtl.readthedocs.io/en/latest/export.html#pyrtl.block_to_svg).\n"
   ]
  },
  {
   "cell_type": "code",
   "execution_count": null,
   "metadata": {
    "collapsed": true
   },
   "outputs": [],
   "source": [
    "pyrtl.working_block().sanity_check()\n"
   ]
  },
  {
   "cell_type": "markdown",
   "metadata": {},
   "source": [
    " So that `output_to_trivial_graph()` will work.\n"
   ]
  },
  {
   "cell_type": "code",
   "execution_count": null,
   "metadata": {
    "collapsed": true
   },
   "outputs": [],
   "source": [
    "pyrtl.passes._remove_unused_wires(pyrtl.working_block())\n",
    "\n",
    "print(\"\\n--- Trivial Graph Format (first 10 lines) ---\")\n",
    "with io.StringIO() as tgf:\n",
    "    pyrtl.output_to_trivialgraph(tgf)\n",
    "    for i, line in enumerate(tgf.getvalue().split(\"\\n\")):\n",
    "        if i == 10:\n",
    "            break\n",
    "        print(line)\n",
    "\n",
    "    print(\"...\")\n"
   ]
  }
 ],
 "metadata": {
  "kernelspec": {
   "display_name": "Python 3",
   "language": "python",
   "name": "python3"
  },
  "language_info": {
   "codemirror_mode": {
    "name": "ipython",
    "version": 3
   },
   "file_extension": ".py",
   "mimetype": "text/x-python",
   "name": "python",
   "nbconvert_exporter": "python",
   "pygments_lexer": "ipython3",
   "version": "3.6.4"
  }
 },
 "nbformat": 4,
 "nbformat_minor": 2
}