{
 "cells": [
  {
   "cell_type": "markdown",
   "metadata": {},
   "source": [
    " # Example 7: Timing Analysis and Optimization\n",
    "\n",
    " After building a circuit, one might want to analyze or simplify the hardware. PyRTL\n",
    " provides this functionality, as demonstrated by this example.\n"
   ]
  },
  {
   "cell_type": "code",
   "execution_count": null,
   "metadata": {
    "collapsed": true
   },
   "outputs": [],
   "source": [
    "%pip install pyrtl\n",
    "\n",
    "import pyrtl\n",
    "\n",
    "pyrtl.reset_working_block()\n"
   ]
  },
  {
   "cell_type": "markdown",
   "metadata": {},
   "source": [
    " ## Part 1: Timing Analysis\n",
    "\n",
    " Timing and area usage are key considerations of any hardware block that one makes.\n",
    " PyRTL provides functions to do these operations.\n",
    "\n",
    " Creating a sample hardware block\n"
   ]
  },
  {
   "cell_type": "code",
   "execution_count": null,
   "metadata": {
    "collapsed": true
   },
   "outputs": [],
   "source": [
    "pyrtl.reset_working_block()\n",
    "const_wire = pyrtl.Const(6, bitwidth=4)\n",
    "in_wire2 = pyrtl.Input(bitwidth=4, name=\"input2\")\n",
    "out_wire = pyrtl.Output(bitwidth=5, name=\"output\")\n",
    "out_wire <<= const_wire + in_wire2\n"
   ]
  },
  {
   "cell_type": "markdown",
   "metadata": {},
   "source": [
    " Now we will do the timing analysis as well as print out the critical path\n",
    "\n",
    " Generating timing analysis information\n"
   ]
  },
  {
   "cell_type": "code",
   "execution_count": null,
   "metadata": {
    "collapsed": true
   },
   "outputs": [],
   "source": [
    "print(\"Pre Synthesis:\")\n",
    "timing = pyrtl.TimingAnalysis()\n",
    "timing.print_max_length()\n"
   ]
  },
  {
   "cell_type": "markdown",
   "metadata": {},
   "source": [
    " We are also able to print out the critical paths as well as get them back as an array.\n"
   ]
  },
  {
   "cell_type": "code",
   "execution_count": null,
   "metadata": {
    "collapsed": true
   },
   "outputs": [],
   "source": [
    "critical_path_info = timing.critical_path()\n"
   ]
  },
  {
   "cell_type": "markdown",
   "metadata": {},
   "source": [
    " ## Part 2: Area Analysis\n",
    "\n",
    " PyRTL also provides estimates for the area that would be used up if the circuit was\n",
    " printed as an ASIC.\n"
   ]
  },
  {
   "cell_type": "code",
   "execution_count": null,
   "metadata": {
    "collapsed": true
   },
   "outputs": [],
   "source": [
    "logic_area, mem_area = pyrtl.area_estimation(tech_in_nm=65)\n",
    "est_area = logic_area + mem_area\n",
    "print(\"Estimated Area of block\", est_area, \"sq mm\")\n"
   ]
  },
  {
   "cell_type": "markdown",
   "metadata": {},
   "source": [
    " ## Part 3: Synthesis\n",
    "\n",
    " Synthesis is the operation of reducing the circuit into simpler components. The base\n",
    " synthesis function breaks down the more complex logic operations into logic gates\n",
    " (keeping registers and memories intact) as well as reduces all combinatorial logic\n",
    " into operations that only use 1-bitwidth wires.\n",
    "\n",
    " This synthesis allows for PyRTL to make optimizations to the net structure as well as\n",
    " prepares it for further transformations on the PyRTL toolchain.\n"
   ]
  },
  {
   "cell_type": "code",
   "execution_count": null,
   "metadata": {
    "collapsed": true
   },
   "outputs": [],
   "source": [
    "pyrtl.synthesize()\n",
    "\n",
    "print(\"\\nPre Optimization:\")\n",
    "timing = pyrtl.TimingAnalysis()\n",
    "timing.print_max_length()\n",
    "for net in pyrtl.working_block().logic:\n",
    "    print(str(net))\n"
   ]
  },
  {
   "cell_type": "markdown",
   "metadata": {},
   "source": [
    " ## Part 4: Optimization\n",
    "\n",
    " PyRTL has functions built-in to eliminate unnecessary logic from the circuit. These\n",
    " functions are all done with a simple call:\n"
   ]
  },
  {
   "cell_type": "code",
   "execution_count": null,
   "metadata": {
    "collapsed": true
   },
   "outputs": [],
   "source": [
    "_ = pyrtl.optimize()\n"
   ]
  },
  {
   "cell_type": "markdown",
   "metadata": {},
   "source": [
    " Now to see the difference\n"
   ]
  },
  {
   "cell_type": "code",
   "execution_count": null,
   "metadata": {
    "collapsed": true
   },
   "outputs": [],
   "source": [
    "print(\"\\nPost Optimization:\")\n",
    "timing = pyrtl.TimingAnalysis()\n",
    "timing.print_max_length()\n",
    "\n",
    "for net in pyrtl.working_block().logic:\n",
    "    print(str(net))\n"
   ]
  },
  {
   "cell_type": "markdown",
   "metadata": {},
   "source": [
    " As we can see, the number of nets in the circuit was drastically reduced by the\n",
    " optimization algorithm.\n"
   ]
  }
 ],
 "metadata": {
  "kernelspec": {
   "display_name": "Python 3",
   "language": "python",
   "name": "python3"
  },
  "language_info": {
   "codemirror_mode": {
    "name": "ipython",
    "version": 3
   },
   "file_extension": ".py",
   "mimetype": "text/x-python",
   "name": "python",
   "nbconvert_exporter": "python",
   "pygments_lexer": "ipython3",
   "version": "3.6.4"
  }
 },
 "nbformat": 4,
 "nbformat_minor": 2
}