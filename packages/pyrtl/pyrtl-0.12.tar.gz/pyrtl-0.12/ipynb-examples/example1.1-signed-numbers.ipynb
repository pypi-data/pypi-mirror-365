{
 "cells": [
  {
   "cell_type": "markdown",
   "metadata": {},
   "source": [
    " # Example 1.1: Working with signed integers.\n",
    "\n",
    " This example demonstrates:\n",
    " * Correct addition of signed integers with [signed_add()](https://pyrtl.readthedocs.io/en/latest/helpers.html#pyrtl.signed_add).\n",
    " * Displaying signed integers in traces with [val_to_signed_integer()](https://pyrtl.readthedocs.io/en/latest/helpers.html#pyrtl.val_to_signed_integer).\n",
    "\n",
    " Signed integers are represented in two's complement.\n",
    " https://en.wikipedia.org/wiki/Two%27s_complement\n"
   ]
  },
  {
   "cell_type": "code",
   "execution_count": null,
   "metadata": {
    "collapsed": true
   },
   "outputs": [],
   "source": [
    "%pip install pyrtl\n",
    "\n",
    "import pyrtl\n",
    "\n",
    "pyrtl.reset_working_block()\n"
   ]
  },
  {
   "cell_type": "markdown",
   "metadata": {},
   "source": [
    " ## Let's start with unsigned addition.\n",
    "\n",
    " Add all combinations of two unsigned 2-bit inputs.\n"
   ]
  },
  {
   "cell_type": "code",
   "execution_count": null,
   "metadata": {
    "collapsed": true
   },
   "outputs": [],
   "source": [
    "a = pyrtl.Input(bitwidth=2, name=\"a\")\n",
    "b = pyrtl.Input(bitwidth=2, name=\"b\")\n",
    "\n",
    "unsigned_sum = pyrtl.Output(bitwidth=3, name=\"unsigned_sum\")\n",
    "unsigned_sum <<= a + b\n"
   ]
  },
  {
   "cell_type": "markdown",
   "metadata": {},
   "source": [
    " Try all combinations of {0, 1, 2, 3} + {0, 1, 2, 3}.\n"
   ]
  },
  {
   "cell_type": "code",
   "execution_count": null,
   "metadata": {
    "collapsed": true
   },
   "outputs": [],
   "source": [
    "unsigned_inputs = {\n",
    "    \"a\": [0, 0, 0, 0, 1, 1, 1, 1, 2, 2, 2, 2, 3, 3, 3, 3],\n",
    "    \"b\": [0, 1, 2, 3, 0, 1, 2, 3, 0, 1, 2, 3, 0, 1, 2, 3],\n",
    "}\n",
    "\n",
    "sim = pyrtl.Simulation()\n",
    "sim.step_multiple(provided_inputs=unsigned_inputs)\n"
   ]
  },
  {
   "cell_type": "markdown",
   "metadata": {},
   "source": [
    " In this trace, `unsigned_sum` is the sum of all combinations of\n",
    " {0, 1, 2, 3} + {0, 1, 2, 3}. For example:\n",
    " * cycle  0 shows 0 + 0 = 0\n",
    " * cycle  1 shows 0 + 1 = 1\n",
    " * cycle 15 shows 3 + 3 = 6\n"
   ]
  },
  {
   "cell_type": "code",
   "execution_count": null,
   "metadata": {
    "collapsed": true
   },
   "outputs": [],
   "source": [
    "print(\n",
    "    \"Unsigned addition. Each cycle adds a different combination of numbers.\\n\"\n",
    "    \"unsigned_sum == a + b\"\n",
    ")\n",
    "sim.tracer.render_trace(repr_func=int)\n"
   ]
  },
  {
   "cell_type": "markdown",
   "metadata": {},
   "source": [
    " ## Re-interpreting `a`, `b`, and `unsigned_sum` as signed is **incorrect**.\n",
    "\n",
    " Use [val_to_signed_integer()](https://pyrtl.readthedocs.io/en/latest/helpers.html#pyrtl.val_to_signed_integer) to re-interpret the previous simulation results\n",
    " as signed integers. But the results are **INCORRECT**, because `unsigned_sum`\n",
    " performed unsigned addition with `+`. For example:\n",
    "\n",
    " * cycle  2 shows 0 + -2 = 2\n",
    " * cycle 13 shows -1 + 1 = -4\n",
    "\n",
    " `unsigned_sum` is incorrect because PyRTL must extend `a` and `b` to the\n",
    " sum's bitwidth before adding, but PyRTL zero-extends by default, instead of\n",
    " sign-extending. Zero-extending is correct when `a` and `b` are unsigned, but\n",
    " sign-extending is correct when `a` and `b` are signed. Use [signed_add()](https://pyrtl.readthedocs.io/en/latest/helpers.html#pyrtl.signed_add) to\n",
    " sign-extend `a` and `b`, as demonstrated next.\n"
   ]
  },
  {
   "cell_type": "code",
   "execution_count": null,
   "metadata": {
    "collapsed": true
   },
   "outputs": [],
   "source": [
    "print(\n",
    "    \"\\nUse `val_to_signed_integer()` to re-interpret the previous simulation results as\"\n",
    "    \"\\nsigned integers. But re-interpreting the previous trace as signed integers \\n\"\n",
    "    \"produces INCORRECT RESULTS!\"\n",
    ")\n",
    "sim.tracer.render_trace(repr_func=pyrtl.val_to_signed_integer)\n"
   ]
  },
  {
   "cell_type": "markdown",
   "metadata": {},
   "source": [
    " ## Use [signed_add()](https://pyrtl.readthedocs.io/en/latest/helpers.html#pyrtl.signed_add) to correctly add signed integers.\n",
    "\n",
    " [signed_add()](https://pyrtl.readthedocs.io/en/latest/helpers.html#pyrtl.signed_add) works by sign-extending its inputs to the sum's bitwidth before\n",
    " adding. There are many `signed_*` functions for signed operations, like\n",
    " [signed_sub()](https://pyrtl.readthedocs.io/en/latest/helpers.html#pyrtl.signed_sub), [signed_mult()](https://pyrtl.readthedocs.io/en/latest/helpers.html#pyrtl.signed_mult), [signed_lt()](https://pyrtl.readthedocs.io/en/latest/helpers.html#pyrtl.signed_lt), and so on.\n"
   ]
  },
  {
   "cell_type": "code",
   "execution_count": null,
   "metadata": {
    "collapsed": true
   },
   "outputs": [],
   "source": [
    "pyrtl.reset_working_block()\n",
    "\n",
    "a = pyrtl.Input(bitwidth=2, name=\"a\")\n",
    "b = pyrtl.Input(bitwidth=2, name=\"b\")\n",
    "\n",
    "signed_sum = pyrtl.Output(bitwidth=3, name=\"signed_sum\")\n",
    "signed_sum <<= pyrtl.signed_add(a, b)\n"
   ]
  },
  {
   "cell_type": "markdown",
   "metadata": {},
   "source": [
    " Try all combinations of {-2, -1, 0, 1} + {-2, -1, 0, 1}.\n"
   ]
  },
  {
   "cell_type": "code",
   "execution_count": null,
   "metadata": {
    "collapsed": true
   },
   "outputs": [],
   "source": [
    "signed_inputs = {\n",
    "    \"a\": [-2, -2, -2, -2, -1, -1, -1, -1, 0, 0, 0, 0, 1, 1, 1, 1],\n",
    "    \"b\": [-2, -1, 0, 1, -2, -1, 0, 1, -2, -1, 0, 1, -2, -1, 0, 1],\n",
    "}\n",
    "sim = pyrtl.Simulation()\n",
    "sim.step_multiple(provided_inputs=signed_inputs)\n"
   ]
  },
  {
   "cell_type": "markdown",
   "metadata": {},
   "source": [
    " In this trace, `signed_sum` is the sum of all combinations of\n",
    " {-2, -1, 0, 1} + {-2, -1, 0, 1}. For example:\n",
    " * cycle  0 shows -2 + -2 = -4\n",
    " * cycle  1 shows -2 + -1 = -3\n",
    " * cycle 15 shows 1 + 1 = 2\n"
   ]
  },
  {
   "cell_type": "code",
   "execution_count": null,
   "metadata": {
    "collapsed": true
   },
   "outputs": [],
   "source": [
    "print(\n",
    "    \"\\nReset the simulation and use `signed_add()` to correctly add signed integers.\\n\"\n",
    "    \"signed_sum == signed_add(a, b)\"\n",
    ")\n",
    "sim.tracer.render_trace(repr_func=pyrtl.val_to_signed_integer)\n"
   ]
  },
  {
   "cell_type": "markdown",
   "metadata": {},
   "source": [
    " ## Manually sign-extend inputs to correctly add signed integers with `+`.\n",
    "\n",
    " Instead of using [signed_add()](https://pyrtl.readthedocs.io/en/latest/helpers.html#pyrtl.signed_add), we can manually sign-extend the inputs with\n",
    " [sign_extended()](https://pyrtl.readthedocs.io/en/latest/basic.html#pyrtl.WireVector.sign_extended) and [truncate()](https://pyrtl.readthedocs.io/en/latest/basic.html#pyrtl.WireVector.truncate) the output to correctly add signed integers with\n",
    " `+`. Use this trick to implement other signed arithmetic operations.\n"
   ]
  },
  {
   "cell_type": "code",
   "execution_count": null,
   "metadata": {
    "collapsed": true
   },
   "outputs": [],
   "source": [
    "pyrtl.reset_working_block()\n",
    "\n",
    "a = pyrtl.Input(bitwidth=2, name=\"a\")\n",
    "b = pyrtl.Input(bitwidth=2, name=\"b\")\n"
   ]
  },
  {
   "cell_type": "markdown",
   "metadata": {},
   "source": [
    " Using `+` produces the correct result for signed addition here because we\n",
    " manually extend `a` and `b` to 3 bits. The result of\n",
    "\n",
    "```python\n",
    "a.sign_extended(3) + b.sign_extended(3)\n",
    "```\n",
    "\n",
    " is now 4 bits, but we truncate it to 3 bits. This truncation is subtle, but important!\n",
    " The addition's full 4 bit result would not be correct.\n"
   ]
  },
  {
   "cell_type": "code",
   "execution_count": null,
   "metadata": {
    "collapsed": true
   },
   "outputs": [],
   "source": [
    "sign_extended_sum = pyrtl.Output(bitwidth=3, name=\"sign_extended_sum\")\n",
    "extended_a = a.sign_extended(bitwidth=3)\n",
    "extended_b = b.sign_extended(bitwidth=3)\n",
    "sign_extended_sum <<= (extended_a + extended_b).truncate(bitwidth=3)\n"
   ]
  },
  {
   "cell_type": "markdown",
   "metadata": {},
   "source": [
    " Try all combinations of {-2, -1, 0, 1} + {-2, -1, 0, 1}.\n"
   ]
  },
  {
   "cell_type": "code",
   "execution_count": null,
   "metadata": {
    "collapsed": true
   },
   "outputs": [],
   "source": [
    "signed_inputs = {\n",
    "    \"a\": [-2, -2, -2, -2, -1, -1, -1, -1, 0, 0, 0, 0, 1, 1, 1, 1],\n",
    "    \"b\": [-2, -1, 0, 1, -2, -1, 0, 1, -2, -1, 0, 1, -2, -1, 0, 1],\n",
    "}\n",
    "sim = pyrtl.Simulation()\n",
    "sim.step_multiple(provided_inputs=signed_inputs)\n",
    "\n",
    "print(\n",
    "    \"\\nInstead of using `signed_add()`, we can also manually sign extend the inputs to\"\n",
    "    \"\\ncorrectly add signed integers with `+`.\\nsign_extended_sum == \"\n",
    "    \"(a.sign_extended(3) + b.sign_extended(3)).truncate(3)\"\n",
    ")\n",
    "sim.tracer.render_trace(repr_func=pyrtl.val_to_signed_integer)\n"
   ]
  }
 ],
 "metadata": {
  "kernelspec": {
   "display_name": "Python 3",
   "language": "python",
   "name": "python3"
  },
  "language_info": {
   "codemirror_mode": {
    "name": "ipython",
    "version": 3
   },
   "file_extension": ".py",
   "mimetype": "text/x-python",
   "name": "python",
   "nbconvert_exporter": "python",
   "pygments_lexer": "ipython3",
   "version": "3.6.4"
  }
 },
 "nbformat": 4,
 "nbformat_minor": 2
}