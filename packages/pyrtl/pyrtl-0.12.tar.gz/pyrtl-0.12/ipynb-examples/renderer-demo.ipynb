{
 "cells": [
  {
   "cell_type": "markdown",
   "metadata": {},
   "source": [
    " # Render traces with various `WaveRenderer` options.\n"
   ]
  },
  {
   "cell_type": "markdown",
   "metadata": {},
   "source": [
    " Run this demo to see which options work well in your terminal.\n"
   ]
  },
  {
   "cell_type": "code",
   "execution_count": null,
   "metadata": {
    "collapsed": true
   },
   "outputs": [],
   "source": [
    "%pip install pyrtl\n",
    "\n",
    "import pyrtl\n",
    "\n",
    "\n",
    "pyrtl.reset_working_block()\n"
   ]
  },
  {
   "cell_type": "markdown",
   "metadata": {},
   "source": [
    " Make some clock dividers and counters.\n"
   ]
  },
  {
   "cell_type": "code",
   "execution_count": null,
   "metadata": {
    "collapsed": true
   },
   "outputs": [],
   "source": [
    "def make_clock(period: int):\n",
    "    \"\"\"Make a clock signal that inverts every `period` cycles.\"\"\"\n",
    "    assert period > 0\n",
    "\n",
    "    # Build a chain of registers.\n",
    "    first_reg = pyrtl.Register(bitwidth=1, name=f\"clock_0_{period}\", reset_value=1)\n",
    "    last_reg = first_reg\n",
    "    for offset in range(1, period):\n",
    "        reg = pyrtl.Register(bitwidth=1, name=f\"clock_{offset}_{period}\")\n",
    "        reg.next <<= last_reg\n",
    "        last_reg = reg\n",
    "\n",
    "    # The first register's input is the inverse of the last register's output.\n",
    "    first_reg.next <<= ~last_reg\n",
    "    return last_reg\n",
    "\n",
    "\n",
    "def make_counter(period: int, bitwidth: int = 2):\n",
    "    \"\"\"Make a counter that increments every `period` cycles.\"\"\"\n",
    "    assert period > 0\n",
    "\n",
    "    # Build a chain of registers.\n",
    "    first_reg = pyrtl.Register(bitwidth=bitwidth, name=f\"counter_0_{period}\")\n",
    "    last_reg = first_reg\n",
    "    for offset in range(1, period):\n",
    "        reg = pyrtl.Register(bitwidth=bitwidth, name=f\"counter_{offset}_{period}\")\n",
    "        reg.next <<= last_reg\n",
    "        last_reg = reg\n",
    "\n",
    "    # The first register's input is the last register's output plus 1.\n",
    "    first_reg.next <<= last_reg + pyrtl.Const(1)\n",
    "    return last_reg\n",
    "\n",
    "\n",
    "make_clock(period=1)\n",
    "make_clock(period=2)\n",
    "make_counter(period=1)\n",
    "make_counter(period=2)\n"
   ]
  },
  {
   "cell_type": "markdown",
   "metadata": {},
   "source": [
    " Simulate 20 cycles.\n"
   ]
  },
  {
   "cell_type": "code",
   "execution_count": null,
   "metadata": {
    "collapsed": true
   },
   "outputs": [],
   "source": [
    "sim = pyrtl.Simulation()\n",
    "sim.step_multiple(nsteps=20)\n"
   ]
  },
  {
   "cell_type": "markdown",
   "metadata": {},
   "source": [
    " Render the trace with a variety of rendering options.\n"
   ]
  },
  {
   "cell_type": "code",
   "execution_count": null,
   "metadata": {
    "collapsed": true
   },
   "outputs": [],
   "source": [
    "renderers = {\n",
    "    \"powerline\": (\n",
    "        pyrtl.simulation.PowerlineRendererConstants(),\n",
    "        \"Requires a font with powerline glyphs\",\n",
    "    ),\n",
    "    \"utf-8\": (\n",
    "        pyrtl.simulation.Utf8RendererConstants(),\n",
    "        \"Unicode, default non-Windows renderer\",\n",
    "    ),\n",
    "    \"utf-8-alt\": (\n",
    "        pyrtl.simulation.Utf8AltRendererConstants(),\n",
    "        \"Unicode, alternate display option\",\n",
    "    ),\n",
    "    \"cp437\": (\n",
    "        pyrtl.simulation.Cp437RendererConstants(),\n",
    "        \"Code page 437 (8-bit ASCII), default Windows renderer\",\n",
    "    ),\n",
    "    \"ascii\": (pyrtl.simulation.AsciiRendererConstants(), \"Basic 7-bit ASCII renderer\"),\n",
    "}\n",
    "\n",
    "for name, (constants, notes) in renderers.items():\n",
    "    print(f\"# {notes}\")\n",
    "    print(f\"export PYRTL_RENDERER={name}\\n\")\n",
    "    sim.tracer.render_trace(\n",
    "        renderer=pyrtl.simulation.WaveRenderer(constants), repr_func=int\n",
    "    )\n",
    "    print()\n"
   ]
  }
 ],
 "metadata": {
  "kernelspec": {
   "display_name": "Python 3",
   "language": "python",
   "name": "python3"
  },
  "language_info": {
   "codemirror_mode": {
    "name": "ipython",
    "version": 3
   },
   "file_extension": ".py",
   "mimetype": "text/x-python",
   "name": "python",
   "nbconvert_exporter": "python",
   "pygments_lexer": "ipython3",
   "version": "3.6.4"
  }
 },
 "nbformat": 4,
 "nbformat_minor": 2
}