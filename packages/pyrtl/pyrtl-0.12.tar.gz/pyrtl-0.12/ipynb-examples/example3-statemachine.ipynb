{
 "cells": [
  {
   "cell_type": "markdown",
   "metadata": {},
   "source": [
    " # Example 3: A State Machine built with [conditional_assignment](https://pyrtl.readthedocs.io/en/latest/basic.html#conditional-assignment)\n",
    "\n",
    " In this example we describe how [conditional_assignment](https://pyrtl.readthedocs.io/en/latest/basic.html#conditional-assignment) works in the context of a\n",
    " vending machine that will dispense an item when it has received 4 tokens. If a refund\n",
    " is requested, it returns the tokens.\n"
   ]
  },
  {
   "cell_type": "code",
   "execution_count": null,
   "metadata": {
    "collapsed": true
   },
   "outputs": [],
   "source": [
    "%pip install pyrtl\n",
    "\n",
    "import enum\n",
    "\n",
    "import pyrtl\n",
    "\n",
    "pyrtl.reset_working_block()\n"
   ]
  },
  {
   "cell_type": "markdown",
   "metadata": {},
   "source": [
    " Define [Inputs](https://pyrtl.readthedocs.io/en/latest/basic.html#pyrtl.Input), [Outputs](https://pyrtl.readthedocs.io/en/latest/basic.html#pyrtl.Output), and a [Register](https://pyrtl.readthedocs.io/en/latest/basic.html#pyrtl.Register) to keep track of the vending machine's\n",
    " current state.\n"
   ]
  },
  {
   "cell_type": "code",
   "execution_count": null,
   "metadata": {
    "collapsed": true
   },
   "outputs": [],
   "source": [
    "token_in = pyrtl.Input(1, \"token_in\")\n",
    "req_refund = pyrtl.Input(1, \"req_refund\")\n",
    "\n",
    "dispense = pyrtl.Output(1, \"dispense\")\n",
    "refund = pyrtl.Output(1, \"refund\")\n",
    "\n",
    "state = pyrtl.Register(3, \"state\")\n"
   ]
  },
  {
   "cell_type": "markdown",
   "metadata": {},
   "source": [
    " First new step, let's enumerate a set of constants to serve as our states\n"
   ]
  },
  {
   "cell_type": "code",
   "execution_count": null,
   "metadata": {
    "collapsed": true
   },
   "outputs": [],
   "source": [
    "class State(enum.IntEnum):\n",
    "    WAIT = 0  # Waiting for first token.\n",
    "    TOK1 = 1  # Received first token, waiting for second token.\n",
    "    TOK2 = 2  # Received second token, waiting for third token.\n",
    "    TOK3 = 3  # Received third token, waiting for fourth token.\n",
    "    DISP = 4  # Received fourth token, dispense item.\n",
    "    RFND = 5  # Issue refund.\n"
   ]
  },
  {
   "cell_type": "markdown",
   "metadata": {},
   "source": [
    " Now we could build a state machine using just the [Registers](https://pyrtl.readthedocs.io/en/latest/basic.html#pyrtl.Register) and logic discussed in\n",
    " prior examples, but doing operations **conditionally** on some input is a pretty\n",
    " fundamental operation in hardware design. PyRTL provides [conditional_assignment](https://pyrtl.readthedocs.io/en/latest/basic.html#conditional-assignment) to\n",
    " provide a predicated update to [Registers](https://pyrtl.readthedocs.io/en/latest/basic.html#pyrtl.Register), [WireVectors](https://pyrtl.readthedocs.io/en/latest/basic.html#pyrtl.WireVector), and [MemBlocks](https://pyrtl.readthedocs.io/en/latest/regmem.html#pyrtl.MemBlock).\n",
    "\n",
    " [conditional_assignments](https://pyrtl.readthedocs.io/en/latest/basic.html#conditional-assignment) are specified with the `|=` operator instead of the usual\n",
    " `<<=` operator. The [conditional_assignment](https://pyrtl.readthedocs.io/en/latest/basic.html#conditional-assignment) is only valid in the context of a\n",
    " condition, and updates to those values only happens when that condition is `True`. In\n",
    " hardware this is implemented with a simple [mux()](https://pyrtl.readthedocs.io/en/latest/helpers.html#pyrtl.mux) -- for people coming from software\n",
    " it is important to remember that this is describing a big logic function, **NOT** an\n",
    " \"if-then-else\" clause. The [conditional_assignment](https://pyrtl.readthedocs.io/en/latest/basic.html#conditional-assignment) below just builds hardware\n",
    " multiplexers. Nothing conditional actually happens until the [Simulation](https://pyrtl.readthedocs.io/en/latest/simtest.html#pyrtl.Simulation) is run.\n",
    "\n",
    " One more thing: [conditional_assignment](https://pyrtl.readthedocs.io/en/latest/basic.html#conditional-assignment) might not always be the best solution. For\n",
    " simple updates, a regular\n",
    "\n",
    "```python\n",
    "select(sel_wire, truecase=t_wire, falsecase=f_wire)\n",
    "```\n",
    "\n",
    " can be easier to read.\n"
   ]
  },
  {
   "cell_type": "code",
   "execution_count": null,
   "metadata": {
    "collapsed": true
   },
   "outputs": [],
   "source": [
    "with pyrtl.conditional_assignment:\n",
    "    with req_refund:  # signal of highest precedence\n",
    "        state.next |= State.RFND\n",
    "    with token_in:  # if token received, advance state in counter sequence\n",
    "        with state == State.WAIT:\n",
    "            state.next |= State.TOK1\n",
    "        with state == State.TOK1:\n",
    "            state.next |= State.TOK2\n",
    "        with state == State.TOK2:\n",
    "            state.next |= State.TOK3\n",
    "        with state == State.TOK3:\n",
    "            state.next |= State.DISP  # 4th token received, go to dispense\n",
    "        with pyrtl.otherwise:  # token received in unsupported state\n",
    "            state.next |= State.RFND\n",
    "    # unconditional transition from these two states back to wait state\n",
    "\n",
    "    # NOTE: the parens are needed because in Python the \"|\" operator is lower\n",
    "    # precedence than the \"==\" operator!\n",
    "    with (state == State.DISP) | (state == State.RFND):\n",
    "        state.next |= State.WAIT\n",
    "\n",
    "dispense <<= state == State.DISP\n",
    "refund <<= state == State.RFND\n"
   ]
  },
  {
   "cell_type": "markdown",
   "metadata": {},
   "source": [
    " A few more notes:\n",
    "\n",
    " 1. A condition can be nested within another condition and the implied hardware is that\n",
    "    the left-hand-side should only get that value if ALL of the encompassing conditions\n",
    "    are satisfied.\n",
    " 2. Only one conditional at each level can be `True`, so all conditions imply that NONE\n",
    "    of the prior conditions at the same level are `True`. The highest priority\n",
    "    condition is listed first, and in a sense you can think about each other condition\n",
    "    as an `elif`.\n",
    " 3. If a [WireVector](https://pyrtl.readthedocs.io/en/latest/basic.html#pyrtl.WireVector)'s value is not specified for some combination of conditions,\n",
    "    [conditional_assignment](https://pyrtl.readthedocs.io/en/latest/basic.html#conditional-assignment) will supply a default value. By default,[Registers](https://pyrtl.readthedocs.io/en/latest/basic.html#pyrtl.Register) will\n",
    "    retain their value from the prior cycle (\"state.next |= state\" in this example).\n",
    "    [WireVectors](https://pyrtl.readthedocs.io/en/latest/basic.html#pyrtl.WireVector) default to `0`.\n",
    " 4. There is a way to specify something like an `else` instead of `elif` and that is\n",
    "    with an [otherwise](https://pyrtl.readthedocs.io/en/latest/basic.html#pyrtl.otherwise) (as seen on the line above \"state.next <<= State.RFND\"). This\n",
    "    condition will be `True` if none of the other conditions at the same level were\n",
    "    also `True`. For this example specifically, `state.next` will get `RFND` when\n",
    "    `req_refund==0`, and `token_in==1`, and state is not any of {`WAIT`, `TOK1`,\n",
    "    `TOK2`, or `TOK3`}.\n",
    " 5. Not shown here, but you can update multiple [Registers](https://pyrtl.readthedocs.io/en/latest/basic.html#pyrtl.Register), [WireVectors](https://pyrtl.readthedocs.io/en/latest/basic.html#pyrtl.WireVector), and\n",
    "    [MemBlocks](https://pyrtl.readthedocs.io/en/latest/regmem.html#pyrtl.MemBlock) within one [conditional_assignment](https://pyrtl.readthedocs.io/en/latest/basic.html#conditional-assignment).\n",
    "\n",
    " A more artificial example might make it even more clear how these rules interact:\n",
    "\n",
    "```python\n",
    "with a:\n",
    "    r.next |= 1        # \u2190 When `a` is `True`.\n",
    "    with d:\n",
    "        r2.next |= 2   # \u2190 When `a` is `True` and `d` is `True`.\n",
    "    with pyrtl.otherwise:\n",
    "        r2.next |= 3   # \u2190 When `a` is `True` and `d` is `False`.\n",
    "with b == c:\n",
    "    r.next |= 0        # \u2190 When `a` is `False` and `b == c`.\n",
    "```\n",
    "\n",
    " Now let's build and test our state machine.\n"
   ]
  },
  {
   "cell_type": "code",
   "execution_count": null,
   "metadata": {
    "collapsed": true
   },
   "outputs": [],
   "source": [
    "sim = pyrtl.Simulation()\n"
   ]
  },
  {
   "cell_type": "markdown",
   "metadata": {},
   "source": [
    " Rather than just give some random inputs, let's specify some specific 1-bit values. To\n",
    " make it easier to `Simulate` over several steps, we'll use [step_multiple()](https://pyrtl.readthedocs.io/en/latest/simtest.html#pyrtl.Simulation.step_multiple), which\n",
    " takes in a `dict` mapping each [Input](https://pyrtl.readthedocs.io/en/latest/basic.html#pyrtl.Input) to its value in each cycle.\n"
   ]
  },
  {
   "cell_type": "code",
   "execution_count": null,
   "metadata": {
    "collapsed": true
   },
   "outputs": [],
   "source": [
    "sim_inputs = {\"token_in\": \"0010100111010000\", \"req_refund\": \"1100010000000000\"}\n",
    "sim.step_multiple(sim_inputs)\n"
   ]
  },
  {
   "cell_type": "markdown",
   "metadata": {},
   "source": [
    " Also, to make our input/output easy to reason about let's specify an order to the\n",
    " traces with `trace_list`. We also use `enum_name` to display the state names (`WAIT`,\n",
    " `TOK1`, ...) rather than their numbers (0, 1, ...).\n"
   ]
  },
  {
   "cell_type": "code",
   "execution_count": null,
   "metadata": {
    "collapsed": true
   },
   "outputs": [],
   "source": [
    "sim.tracer.render_trace(\n",
    "    trace_list=[\"token_in\", \"req_refund\", \"state\", \"dispense\", \"refund\"],\n",
    "    repr_per_name={\"state\": pyrtl.enum_name(State)},\n",
    ")\n"
   ]
  },
  {
   "cell_type": "markdown",
   "metadata": {},
   "source": [
    " Finally, suppose you want to simulate your design and verify its output matches your\n",
    " expectations. [step_multiple()](https://pyrtl.readthedocs.io/en/latest/simtest.html#pyrtl.Simulation.step_multiple) also accepts as a second argument a `dict` mapping\n",
    " output wires to their expected value in each cycle. If during the [Simulation](https://pyrtl.readthedocs.io/en/latest/simtest.html#pyrtl.Simulation) the\n",
    " actual and expected values differ, it will be reported to you! This might be useful if\n",
    " you have a working design which, after some tweaks, you'd like to test for functional\n",
    " equivalence, or as a basic sanity check.\n"
   ]
  },
  {
   "cell_type": "code",
   "execution_count": null,
   "metadata": {
    "collapsed": true
   },
   "outputs": [],
   "source": [
    "expected_sim_outputs = {\"dispense\": \"0000000000001000\", \"refund\": \"0111001000000000\"}\n",
    "sim = pyrtl.Simulation()\n",
    "sim.step_multiple(sim_inputs, expected_sim_outputs)\n"
   ]
  }
 ],
 "metadata": {
  "kernelspec": {
   "display_name": "Python 3",
   "language": "python",
   "name": "python3"
  },
  "language_info": {
   "codemirror_mode": {
    "name": "ipython",
    "version": 3
   },
   "file_extension": ".py",
   "mimetype": "text/x-python",
   "name": "python",
   "nbconvert_exporter": "python",
   "pygments_lexer": "ipython3",
   "version": "3.6.4"
  }
 },
 "nbformat": 4,
 "nbformat_minor": 2
}