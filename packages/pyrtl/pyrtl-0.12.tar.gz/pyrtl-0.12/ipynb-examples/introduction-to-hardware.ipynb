{
 "cells": [
  {
   "cell_type": "markdown",
   "metadata": {},
   "source": [
    " # Introduction to Hardware Design\n"
   ]
  },
  {
   "cell_type": "markdown",
   "metadata": {},
   "source": [
    " This code works through the hardware design process with the audience of software\n",
    " developers more in mind. We start with the simple problem of designing a Fibonacci\n",
    " sequence calculator (http://oeis.org/A000045).\n"
   ]
  },
  {
   "cell_type": "code",
   "execution_count": null,
   "metadata": {
    "collapsed": true
   },
   "outputs": [],
   "source": [
    "%pip install pyrtl\n",
    "\n",
    "import pyrtl\n",
    "\n",
    "\n",
    "pyrtl.reset_working_block()\n"
   ]
  },
  {
   "cell_type": "markdown",
   "metadata": {},
   "source": [
    " ## Software Fibonacci implementation\n"
   ]
  },
  {
   "cell_type": "code",
   "execution_count": null,
   "metadata": {
    "collapsed": true
   },
   "outputs": [],
   "source": [
    "def software_fibonacci(n: int):\n",
    "    \"\"\"An ordinary Python function to return the `n`th Fibonacci number.\"\"\"\n",
    "    a = 0\n",
    "    b = 1\n",
    "    for _ in range(n):\n",
    "        a, b = b, a + b\n",
    "    return a\n"
   ]
  },
  {
   "cell_type": "markdown",
   "metadata": {},
   "source": [
    " `software_fibonacci` is an iterative Fibonacci implementation. It repeatedly adds `a`\n",
    " and `b` to calculate the `n`th number in the sequence.\n"
   ]
  },
  {
   "cell_type": "code",
   "execution_count": null,
   "metadata": {
    "collapsed": true
   },
   "outputs": [],
   "source": [
    "print(\"n   software_fibonacci(n)\")\n",
    "print(\"\u2500\u2500\u2500\u2500\u2500\u2500\u2500\u2500\u2500\u2500\u2500\u2500\u2500\u2500\u2500\u2500\u2500\u2500\u2500\u2500\u2500\u2500\u2500\u2500\u2500\")\n",
    "for n in range(10):\n",
    "    print(n, \" \", software_fibonacci(n))\n"
   ]
  },
  {
   "cell_type": "markdown",
   "metadata": {},
   "source": [
    " ## Hardware Fibonacci implementation, first attempt\n",
    "\n",
    " So let's convert this into some hardware that computes the same thing. Our first go\n",
    " will be to just replace the `0` and `1` with [WireVectors](https://pyrtl.readthedocs.io/en/latest/basic.html#pyrtl.WireVector) to see what happens.\n"
   ]
  },
  {
   "cell_type": "code",
   "execution_count": null,
   "metadata": {
    "collapsed": true
   },
   "outputs": [],
   "source": [
    "def attempt1_hardware_fibonacci(n: int) -> pyrtl.WireVector:\n",
    "    a = pyrtl.Const(0)\n",
    "    b = pyrtl.Const(1)\n",
    "    for _ in range(n):\n",
    "        a, b = b, a + b\n",
    "    return a\n"
   ]
  },
  {
   "cell_type": "markdown",
   "metadata": {},
   "source": [
    " The above looks really nice but does not really represent a hardware implementation\n",
    " of Fibonacci. Let's reason through the code, line by line, to figure out what\n",
    " it would actually build.\n",
    "\n",
    "```python\n",
    "a = pyrtl.Const(0)      # \u2190 This makes a `WireVector` with `bitwidth=1` that is\n",
    "                        #   driven by a zero.  Thus `a` is a `WireVector`.  Seems\n",
    "                        #   good.\n",
    "b = pyrtl.Const(1)      # \u2190 Just like above, `b` is a `WireVector` driven by `1`.\n",
    "   for i in range(n):   # \u2190 Okay, here is where things start to go off the rails a\n",
    "                        #   bit. This says to perform the following code `n`\n",
    "                        #   times, but the value `n` is passed as an argument and\n",
    "                        #   is not something that is evaluated in the hardware; it\n",
    "                        #   is evaluated when you run the PyRTL program which\n",
    "                        #   generates (or more specifically elaborates) the\n",
    "                        #   hardware. Thus the hardware we are building will have\n",
    "                        #   the value of `n` built into the hardware and won't\n",
    "                        #   actually be a run-time parameter. Loops are useful for\n",
    "                        #   building large repetitive hardware structures, but\n",
    "                        #   they CAN'T be used to represent hardware that should\n",
    "                        #   do a computation iteratively. Instead we will need\n",
    "                        #   some `Registers` to build a state machine.\n",
    "       a, b = b, a + b  # \u2190 Let's break this apart. In the first cycle, `a` is\n",
    "                        #   `Const(0) and `b` is `Const(1)`, so `(a + b)` builds\n",
    "                        #   an adder with `Const(0)` and `Const(1)` as inputs.\n",
    "                        #   So `(b, a + b)` in the first iteration evaluates to:\n",
    "                        #   `(Const(1), result_of_adding(Const(0), Const(1)))`.\n",
    "                        #   At the end of the first iteration, `a` and `b` refer\n",
    "                        #   to those two constant values. In each following\n",
    "                        #   iteration more adders are built and the Python\n",
    "                        #   variables `a` and `b` are bound to larger and larger\n",
    "                        #   trees of adders. But all the adder inputs are\n",
    "                        #   constants!\n",
    "   return a             # \u2190 The final thing that is returned then is the last\n",
    "                        #   output from this tree of adders which all have\n",
    "                        #   `Consts` as inputs. Thus this hardware is hard-wired\n",
    "                        #   to produce only the exact the value of the `n`th\n",
    "                        #   Fibonacci number, where `n` is hard-coded into the\n",
    "                        #   design! This is most likely not what you want.\n",
    "```\n",
    "\n",
    " ## Hardware Fibonacci implementation, second attempt\n",
    "\n",
    " So let's try a different approach. Let's specify two registers (`a` and `b`) and then\n",
    " we can update those values as we iteratively compute the `n`th Fibonacci number cycle\n",
    " by cycle.\n"
   ]
  },
  {
   "cell_type": "code",
   "execution_count": null,
   "metadata": {
    "collapsed": true
   },
   "outputs": [],
   "source": [
    "def attempt2_hardware_fibonacci(bitwidth: int) -> pyrtl.WireVector:\n",
    "    a = pyrtl.Register(bitwidth, \"a\")\n",
    "    b = pyrtl.Register(bitwidth, \"b\")\n",
    "\n",
    "    a.next <<= b\n",
    "    b.next <<= a + b\n",
    "\n",
    "    return a\n"
   ]
  },
  {
   "cell_type": "markdown",
   "metadata": {},
   "source": [
    " This is looking much better. Two registers, `a` and `b`, store the values from which\n",
    " we can compute the series. The line `a.next <<= b` means that the value of `a` in the\n",
    " next cycle should be simply be `b` from the current cycle. The line `b.next <<= a + b`\n",
    " says to build an adder with inputs of `a` and `b` from the current cycle and assign\n",
    " the value to `b` in the next cycle. A visual representation of the hardware built is\n",
    " as such:\n",
    "\n",
    "```python\n",
    "   \u250c\u2500\u2500\u2500\u2500\u2500\u2510     \u250c\u2500\u2500\u2500\u2500\u2500\u2510\n",
    "   \u2502     \u2502     \u2502     \u2502\n",
    "   \u25bc     \u2502     \u25bc     \u2502\n",
    "\u2595\u2594\u2594\u2594\u2594\u2594\u258f  \u2502  \u2595\u2594\u2594\u2594\u2594\u2594\u258f  \u2502\n",
    "\u2595  a  \u258f  \u2502  \u2595  b  \u258f  \u2502\n",
    "\u2595\u2581\u2581\u2581\u2581\u2581\u258f  \u2502  \u2595\u2581\u2581\u2581\u2581\u2581\u258f  \u2502\n",
    "   \u2502     \u2502     \u2502     \u2502\n",
    "   \u2502     \u2514\u2500\u2500\u2500\u2500\u2500\u2524     \u2502\n",
    "   \u2502           \u2502     \u2502\n",
    "   \u25bc           \u25bc     \u2502\n",
    " \u2572\u2594\u2594\u2594\u2594\u2594\u2594\u2594\u2594\u2594\u2594\u2594\u2594\u2594\u2594\u2594\u2571   \u2502\n",
    "  \u2572    adder    \u2571    \u2502\n",
    "   \u2572\u2581\u2581\u2581\u2581\u2581\u2581\u2581\u2581\u2581\u2581\u2581\u2571     \u2502\n",
    "         \u2502           \u2502\n",
    "         \u2514\u2500\u2500\u2500\u2500\u2500\u2500\u2500\u2500\u2500\u2500\u2500\u2518\n",
    "```\n",
    "\n",
    " Note that in the picture the register `a` and `b` each have a [WireVector](https://pyrtl.readthedocs.io/en/latest/basic.html#pyrtl.WireVector) which is\n",
    " the current value (shown flowing out of the bottom of the register) and an \"input\"\n",
    " which is giving the value that should be the value of the register in the following\n",
    " cycle (shown flowing into the top of the register) which are `b` and `a + b`\n",
    " respectively. When we say `return a` what we are returning is a reference to the\n",
    " register `a` in the picture above.\n",
    "\n",
    " ## Hardware Fibonacci implementation, third attempt\n",
    "\n",
    " Of course one problem is that we don't know when we are done. How do we know we\n",
    " reached the `n`th number in the sequence? Well, we need to add a [Register](https://pyrtl.readthedocs.io/en/latest/basic.html#pyrtl.Register) to keep\n",
    " count and see if we are done.\n"
   ]
  },
  {
   "cell_type": "code",
   "execution_count": null,
   "metadata": {
    "collapsed": true
   },
   "outputs": [],
   "source": [
    "def attempt3_hardware_fibonacci(\n",
    "    n: pyrtl.WireVector,\n",
    ") -> tuple[pyrtl.WireVector, pyrtl.WireVector]:\n",
    "    a = pyrtl.Register(bitwidth=n.bitwidth, name=\"a\")\n",
    "    b = pyrtl.Register(bitwidth=n.bitwidth, name=\"b\")\n",
    "    counter = pyrtl.Register(bitwidth=n.bitwidth, name=\"counter\")\n",
    "\n",
    "    counter.next <<= counter + 1\n",
    "    a.next <<= b\n",
    "    b.next <<= a + b\n",
    "\n",
    "    return a, counter == n\n"
   ]
  },
  {
   "cell_type": "markdown",
   "metadata": {},
   "source": [
    " This is very similar to the example before, except that now we have a register\n",
    " `counter` which keeps track of the iteration that we are on:\n",
    "```python\n",
    "counter.next <<= counter + 1\n",
    "```\n",
    " The function now returns two values, a reference to the register `a` and a reference\n",
    " to a single bit that tells us if we are done. That bit is calculated by comparing\n",
    " `counter` to the to a WireVector `n` that is passed in to see if they are the same.\n",
    "\n",
    " ## Hardware Fibonacci implementation, fourth attempt\n",
    "\n",
    " Finally, we need a way to indicate that we want a new Fibonacci number. We'll add\n",
    " another input, `start`, which when high sets our `local_n` register and resets the\n",
    " others. Now our ending condition occurs when the current iteration `counter` is equal\n",
    " to the locally stored `local_n`.\n"
   ]
  },
  {
   "cell_type": "code",
   "execution_count": null,
   "metadata": {
    "collapsed": true
   },
   "outputs": [],
   "source": [
    "def attempt4_hardware_fibonacci(\n",
    "    n: pyrtl.WireVector, start: pyrtl.WireVector\n",
    ") -> tuple[pyrtl.WireVector, pyrtl.WireVector]:\n",
    "    a = pyrtl.Register(bitwidth=n.bitwidth, name=\"a\")\n",
    "    b = pyrtl.Register(bitwidth=n.bitwidth, name=\"b\")\n",
    "    counter = pyrtl.Register(bitwidth=n.bitwidth, name=\"counter\")\n",
    "    local_n = pyrtl.Register(bitwidth=n.bitwidth, name=\"local_n\")\n",
    "    local_done = pyrtl.WireVector(bitwidth=1, name=\"local_done\")\n",
    "\n",
    "    with pyrtl.conditional_assignment:\n",
    "        with start:\n",
    "            local_n.next |= n\n",
    "            counter.next |= 0\n",
    "            a.next |= 0\n",
    "            b.next |= 1\n",
    "        with pyrtl.otherwise:\n",
    "            counter.next |= counter + 1\n",
    "            a.next |= b\n",
    "            b.next |= a + b\n",
    "    local_done <<= counter == local_n\n",
    "    return a, local_done\n"
   ]
  },
  {
   "cell_type": "markdown",
   "metadata": {},
   "source": [
    " ## Simulating the hardware Fibonacci implementation\n",
    "\n",
    " This is now far enough along that we can simulate the design and see what happens. We\n",
    " begin by connecting our input and output wires to the implementation, stepping once\n",
    " with the `start` signal high to signify we're starting a new Fibonacci request, and\n",
    " then continuing to [step()](https://pyrtl.readthedocs.io/en/latest/simtest.html#pyrtl.Simulation.step) until `done` is asserted. Note that although the Fibonacci\n",
    " implementation only uses the value of `n` when `start` is high, we must still provide\n",
    " a value for `n` (and all other [Inputs](https://pyrtl.readthedocs.io/en/latest/basic.html#pyrtl.Input) tracked by the [Simulation](https://pyrtl.readthedocs.io/en/latest/simtest.html#pyrtl.Simulation)) for each\n",
    " [step()](https://pyrtl.readthedocs.io/en/latest/simtest.html#pyrtl.Simulation.step).\n"
   ]
  },
  {
   "cell_type": "code",
   "execution_count": null,
   "metadata": {
    "collapsed": true
   },
   "outputs": [],
   "source": [
    "print(\"\\nHardware Fibonacci Simulation:\")\n",
    "n = pyrtl.Input(bitwidth=8, name=\"n\")\n",
    "start = pyrtl.Input(bitwidth=1, name=\"start\")\n",
    "fib_out = pyrtl.Output(bitwidth=8, name=\"fib\")\n",
    "done_out = pyrtl.Output(bitwidth=1, name=\"done\")\n",
    "\n",
    "fib, done = attempt4_hardware_fibonacci(n, start)\n",
    "fib_out <<= fib\n",
    "done_out <<= done\n",
    "\n",
    "sim = pyrtl.Simulation()\n",
    "\n",
    "sim.step({\"n\": 7, \"start\": 1})\n",
    "\n",
    "sim.step({\"n\": 0, \"start\": 0})\n",
    "while not sim.inspect(\"done\"):\n",
    "    sim.step({\"n\": 0, \"start\": 0})\n",
    "\n",
    "sim.tracer.render_trace(\n",
    "    trace_list=[\"n\", \"start\", \"counter\", \"fib\", \"done\"], repr_func=int\n",
    ")\n",
    "\n",
    "assert sim.inspect(\"fib\") == software_fibonacci(7)\n"
   ]
  }
 ],
 "metadata": {
  "kernelspec": {
   "display_name": "Python 3",
   "language": "python",
   "name": "python3"
  },
  "language_info": {
   "codemirror_mode": {
    "name": "ipython",
    "version": 3
   },
   "file_extension": ".py",
   "mimetype": "text/x-python",
   "name": "python",
   "nbconvert_exporter": "python",
   "pygments_lexer": "ipython3",
   "version": "3.6.4"
  }
 },
 "nbformat": 4,
 "nbformat_minor": 2
}