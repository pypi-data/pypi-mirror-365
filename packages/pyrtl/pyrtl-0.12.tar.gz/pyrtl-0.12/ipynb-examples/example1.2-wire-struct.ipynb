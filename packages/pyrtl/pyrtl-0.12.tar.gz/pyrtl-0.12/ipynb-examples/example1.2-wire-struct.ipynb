{
 "cells": [
  {
   "cell_type": "markdown",
   "metadata": {},
   "source": [
    " # Example 1.2: [wire_struct](https://pyrtl.readthedocs.io/en/latest/helpers.html#pyrtl.wire_struct) and [wire_matrix()](https://pyrtl.readthedocs.io/en/latest/helpers.html#pyrtl.wire_matrix).\n",
    "\n",
    " This example demonstrates named slicing with [wire_struct](https://pyrtl.readthedocs.io/en/latest/helpers.html#pyrtl.wire_struct) and [wire_matrix()](https://pyrtl.readthedocs.io/en/latest/helpers.html#pyrtl.wire_matrix):\n",
    " * [wire_struct](https://pyrtl.readthedocs.io/en/latest/helpers.html#pyrtl.wire_struct): Named [WireVector](https://pyrtl.readthedocs.io/en/latest/basic.html#pyrtl.WireVector) slices. Names are alphanumeric, like a Python\n",
    "   namedtuple.\n",
    " * [wire_matrix()](https://pyrtl.readthedocs.io/en/latest/helpers.html#pyrtl.wire_matrix): Indexed [WireVector](https://pyrtl.readthedocs.io/en/latest/basic.html#pyrtl.WireVector) slices. Indices are integers, like a Python\n",
    "   list.\n"
   ]
  },
  {
   "cell_type": "code",
   "execution_count": null,
   "metadata": {
    "collapsed": true
   },
   "outputs": [],
   "source": [
    "%pip install pyrtl\n",
    "\n",
    "import inspect\n",
    "\n",
    "import pyrtl\n",
    "\n",
    "pyrtl.reset_working_block()\n"
   ]
  },
  {
   "cell_type": "markdown",
   "metadata": {},
   "source": [
    " ## Motivation\n",
    "\n",
    " [wire_struct](https://pyrtl.readthedocs.io/en/latest/helpers.html#pyrtl.wire_struct) and [wire_matrix()](https://pyrtl.readthedocs.io/en/latest/helpers.html#pyrtl.wire_matrix) are syntactic sugar. They make PyRTL code easier to\n",
    " read and write, but they do not introduce any new functionality. We start with a\n",
    " motivating example that does not use [wire_struct](https://pyrtl.readthedocs.io/en/latest/helpers.html#pyrtl.wire_struct) or [wire_matrix()](https://pyrtl.readthedocs.io/en/latest/helpers.html#pyrtl.wire_matrix), point out some\n",
    " common problems, then rewrite the example with [wire_struct](https://pyrtl.readthedocs.io/en/latest/helpers.html#pyrtl.wire_struct) to address those\n",
    " problems.\n",
    "\n",
    " This example deals with 24-bit pixel data. These 24 bits are composed of three\n",
    " concatenated components:\n",
    "\n",
    "```python\n",
    "pixel:\n",
    " \u250c\u2500\u2500\u2500\u2500\u2500\u2500\u2500\u252c\u2500\u2500\u2500\u2500\u2500\u2500\u2500\u252c\u2500\u2500\u2500\u2500\u2500\u2500\u2500\u2510\n",
    " \u2502  red  \u2502 green \u2502 blue  \u2502\n",
    " \u2514\u252c\u2500\u2500\u2500\u2500\u2500\u252c\u2534\u252c\u2500\u2500\u2500\u2500\u2500\u252c\u2534\u252c\u2500\u2500\u2500\u2500\u2500\u252c\u2518\n",
    " 23    16 15    8 7     0\n",
    "```\n",
    "\n",
    " In other words:\n",
    " * The `red` component is in `pixel[16:24]`\n",
    " * The `green` component is in `pixel[8:16]`\n",
    " * And the `blue` component is in `pixel[0:8]`\n",
    "\n",
    " Accept a 24-bit pixel as a PyRTL [Input](https://pyrtl.readthedocs.io/en/latest/basic.html#pyrtl.Input):\n"
   ]
  },
  {
   "cell_type": "code",
   "execution_count": null,
   "metadata": {
    "collapsed": true
   },
   "outputs": [],
   "source": [
    "pixel_in = pyrtl.Input(name=\"pixel_in\", bitwidth=24)\n"
   ]
  },
  {
   "cell_type": "markdown",
   "metadata": {},
   "source": [
    " Split the pixel data into `red`, `green`, and `blue` components. The indices are\n",
    " manually calculated and hardcoded below. These calculations are prone to off-by-one\n",
    " errors. If we wanted to change the pixel data format (for example, adding an 8-bit\n",
    " `alpha` channel), we may need to update all these indices.\n"
   ]
  },
  {
   "cell_type": "code",
   "execution_count": null,
   "metadata": {
    "collapsed": true
   },
   "outputs": [],
   "source": [
    "red_in = pixel_in[16:24]\n",
    "red_in.name = \"red_in\"\n",
    "green_in = pixel_in[8:16]\n",
    "green_in.name = \"green_in\"\n",
    "blue_in = pixel_in[0:8]\n",
    "blue_in.name = \"blue_in\"\n"
   ]
  },
  {
   "cell_type": "markdown",
   "metadata": {},
   "source": [
    " Do some calculations on the individual components:\n"
   ]
  },
  {
   "cell_type": "code",
   "execution_count": null,
   "metadata": {
    "collapsed": true
   },
   "outputs": [],
   "source": [
    "red_out = red_in + 0x11\n",
    "green_out = green_in + 0x22\n",
    "blue_out = blue_in + 0x33\n"
   ]
  },
  {
   "cell_type": "markdown",
   "metadata": {},
   "source": [
    " `red_out`, `green_out`, and `blue_out` are 9 bits wide, so they must be truncated back\n",
    " down to 8 bits before concatenating.\n"
   ]
  },
  {
   "cell_type": "code",
   "execution_count": null,
   "metadata": {
    "collapsed": true
   },
   "outputs": [],
   "source": [
    "assert red_out.bitwidth == 9\n",
    "assert green_out.bitwidth == 9\n",
    "assert blue_out.bitwidth == 9\n"
   ]
  },
  {
   "cell_type": "markdown",
   "metadata": {},
   "source": [
    " Now [concat()](https://pyrtl.readthedocs.io/en/latest/helpers.html#pyrtl.concat) the processed components into a new output pixel. The components must\n",
    " be specified in the correct order, and we must [truncate()](https://pyrtl.readthedocs.io/en/latest/basic.html#pyrtl.WireVector.truncate) them to the correct\n",
    " bitwidth.\n"
   ]
  },
  {
   "cell_type": "code",
   "execution_count": null,
   "metadata": {
    "collapsed": true
   },
   "outputs": [],
   "source": [
    "pixel_out = pyrtl.concat(\n",
    "    red_out.truncate(8), green_out.truncate(8), blue_out.truncate(8)\n",
    ")\n",
    "assert pixel_out.bitwidth == 24\n",
    "pixel_out.name = \"pixel_out\"\n"
   ]
  },
  {
   "cell_type": "markdown",
   "metadata": {},
   "source": [
    " Test this slicing and concatenation logic.\n"
   ]
  },
  {
   "cell_type": "code",
   "execution_count": null,
   "metadata": {
    "collapsed": true
   },
   "outputs": [],
   "source": [
    "print(\"Pixel slicing and concatenation without wire_struct:\")\n",
    "sim = pyrtl.Simulation()\n",
    "sim.step_multiple(provided_inputs={\"pixel_in\": [0x112233, 0xAABBCC]})\n",
    "sim.tracer.render_trace(\n",
    "    trace_list=[\"pixel_in\", \"red_in\", \"green_in\", \"blue_in\", \"pixel_out\"]\n",
    ")\n"
   ]
  },
  {
   "cell_type": "markdown",
   "metadata": {},
   "source": [
    " ## Introducing [wire_struct](https://pyrtl.readthedocs.io/en/latest/helpers.html#pyrtl.wire_struct)\n",
    "\n",
    " Start over, and rebuild the example with [wire_struct](https://pyrtl.readthedocs.io/en/latest/helpers.html#pyrtl.wire_struct).\n"
   ]
  },
  {
   "cell_type": "code",
   "execution_count": null,
   "metadata": {
    "collapsed": true
   },
   "outputs": [],
   "source": [
    "pyrtl.reset_working_block()\n"
   ]
  },
  {
   "cell_type": "markdown",
   "metadata": {},
   "source": [
    " This `Pixel` class is the single source of truth that specifies how the `red`,\n",
    " `green`, and `blue` components are packed into 24 bits. A `Pixel` instance can do one\n",
    " of two things:\n",
    "\n",
    " 1. Slice a 24-bit value into `red`, `green`, and `blue` components, OR\n",
    " 2. Pack `red`, `green`, and `blue` components into a 24-bit value.\n",
    "\n",
    " Because this definition is the single source of truth, we can change the pixel data\n",
    " format just by changing this class definition. For example, try making the `red`\n",
    " component the last component, instead of the first component.\n"
   ]
  },
  {
   "cell_type": "code",
   "execution_count": null,
   "metadata": {
    "collapsed": true
   },
   "outputs": [],
   "source": [
    "@pyrtl.wire_struct\n",
    "class Pixel:\n",
    "    # The most significant bits are specified first, so the `red` component is the 8\n",
    "    # most significant bits, indices 16..23\n",
    "    red: 8\n",
    "    # The `green` component is the 8 middle bits, indices 8..15\n",
    "    green: 8\n",
    "    # The `blue` component is the 8 least significant bits, indices 0..7\n",
    "    blue: 8\n"
   ]
  },
  {
   "cell_type": "markdown",
   "metadata": {},
   "source": [
    " `pixel_in` is a `Pixel` constructed from a 24-bit [Input](https://pyrtl.readthedocs.io/en/latest/basic.html#pyrtl.Input), option (1) above. The\n",
    " 24-bit [Input](https://pyrtl.readthedocs.io/en/latest/basic.html#pyrtl.Input) will be sliced into 8-bit components, and those components can be\n",
    " manipulated as `pixel_in.red`, `pixel_in.green`, and `pixel_in.blue` in the Python\n",
    " code below.\n",
    "\n",
    " Because this `Pixel` has a name, the 8-bit components will be assigned the names\n",
    " `\"pixel_in.red\"`, `\"pixel_in.green\"`, and `\"pixel_in.blue\"`. These component names are\n",
    " included in the `trace_list` below.\n"
   ]
  },
  {
   "cell_type": "code",
   "execution_count": null,
   "metadata": {
    "collapsed": true
   },
   "outputs": [],
   "source": [
    "pixel_in = Pixel(name=\"pixel_in\", concatenated_type=pyrtl.Input)\n",
    "assert pixel_in.bitwidth == 24\n",
    "assert pixel_in.red.bitwidth == 8\n",
    "assert pixel_in.green.bitwidth == 8\n",
    "assert pixel_in.blue.bitwidth == 8\n"
   ]
  },
  {
   "cell_type": "markdown",
   "metadata": {},
   "source": [
    " Repeat our calculations with the named components. Components are accessed with \"dot\"\n",
    " notation (`.green`), like a Python namedtuple. There are no more hardcoded indices\n",
    " like `[8:16]` in this example.\n"
   ]
  },
  {
   "cell_type": "code",
   "execution_count": null,
   "metadata": {
    "collapsed": true
   },
   "outputs": [],
   "source": [
    "red_out = pixel_in.red + 0x11\n",
    "green_out = pixel_in.green + 0x22\n",
    "blue_out = pixel_in.blue + 0x33\n"
   ]
  },
  {
   "cell_type": "markdown",
   "metadata": {},
   "source": [
    " `pixel_out` is a `Pixel` constructed from components, option (2) above. Components\n",
    " with more than 8 bits are implicitly truncated to 8 bits.\n",
    "\n",
    " Python keyword arguments are used for `red`, `green`, and `blue` here, so the order\n",
    " does not matter. We arbitrarily provide the value of the `green` component first.\n"
   ]
  },
  {
   "cell_type": "code",
   "execution_count": null,
   "metadata": {
    "collapsed": true
   },
   "outputs": [],
   "source": [
    "pixel_out = Pixel(name=\"pixel_out\", green=green_out, red=red_out, blue=blue_out)\n",
    "assert pixel_out.bitwidth == 24\n"
   ]
  },
  {
   "cell_type": "markdown",
   "metadata": {},
   "source": [
    " Test this new version of our slicing and concatenation logic.\n"
   ]
  },
  {
   "cell_type": "code",
   "execution_count": null,
   "metadata": {
    "collapsed": true
   },
   "outputs": [],
   "source": [
    "print(\"\\nPixel slicing and concatenation with wire_struct:\")\n",
    "sim = pyrtl.Simulation()\n",
    "sim.step_multiple(provided_inputs={\"pixel_in\": [0x112233, 0xAABBCC]})\n",
    "sim.tracer.render_trace(\n",
    "    trace_list=[\n",
    "        \"pixel_in\",\n",
    "        \"pixel_in.red\",\n",
    "        \"pixel_in.green\",\n",
    "        \"pixel_in.blue\",\n",
    "        \"pixel_out\",\n",
    "    ]\n",
    ")\n"
   ]
  },
  {
   "cell_type": "markdown",
   "metadata": {},
   "source": [
    " ## Introducing [wire_matrix()](https://pyrtl.readthedocs.io/en/latest/helpers.html#pyrtl.wire_matrix)\n",
    "\n",
    " [wire_matrix()](https://pyrtl.readthedocs.io/en/latest/helpers.html#pyrtl.wire_matrix) is like [wire_struct](https://pyrtl.readthedocs.io/en/latest/helpers.html#pyrtl.wire_struct), except the components are indexed by integers,\n",
    " like a list.\n",
    "\n",
    " Start over.\n"
   ]
  },
  {
   "cell_type": "code",
   "execution_count": null,
   "metadata": {
    "collapsed": true
   },
   "outputs": [],
   "source": [
    "pyrtl.reset_working_block()\n"
   ]
  },
  {
   "cell_type": "markdown",
   "metadata": {},
   "source": [
    " `PixelPair` is a pair of two `Pixels`. This also shows how [wire_matrix()](https://pyrtl.readthedocs.io/en/latest/helpers.html#pyrtl.wire_matrix) and\n",
    " [wire_struct](https://pyrtl.readthedocs.io/en/latest/helpers.html#pyrtl.wire_struct) work together - `PixelPair` is a [wire_struct](https://pyrtl.readthedocs.io/en/latest/helpers.html#pyrtl.wire_struct) nested in a\n",
    " [wire_matrix()](https://pyrtl.readthedocs.io/en/latest/helpers.html#pyrtl.wire_matrix).\n"
   ]
  },
  {
   "cell_type": "code",
   "execution_count": null,
   "metadata": {
    "collapsed": true
   },
   "outputs": [],
   "source": [
    "PixelPair = pyrtl.wire_matrix(component_schema=Pixel, size=2)\n"
   ]
  },
  {
   "cell_type": "markdown",
   "metadata": {},
   "source": [
    " [wire_matrix()](https://pyrtl.readthedocs.io/en/latest/helpers.html#pyrtl.wire_matrix) returns a class!\n"
   ]
  },
  {
   "cell_type": "code",
   "execution_count": null,
   "metadata": {
    "collapsed": true
   },
   "outputs": [],
   "source": [
    "assert inspect.isclass(PixelPair)\n"
   ]
  },
  {
   "cell_type": "markdown",
   "metadata": {},
   "source": [
    " Create a `PixelPair` that decomposes a 48-bit input into two 24-bit `Pixels`. Each\n",
    " 24-bit `Pixel` can be further decomposed into 8-bit `red`, `green`, and `blue`\n",
    " components. This `PixelPair` has been assigned a name, so all its components are\n",
    " named, as seen in the simulation trace below.\n"
   ]
  },
  {
   "cell_type": "code",
   "execution_count": null,
   "metadata": {
    "collapsed": true
   },
   "outputs": [],
   "source": [
    "pixel_pair_in = PixelPair(name=\"pixel_pair_in\", concatenated_type=pyrtl.Input)\n",
    "assert pixel_pair_in.bitwidth == 48\n",
    "assert pixel_pair_in[0].bitwidth == 24\n",
    "assert pixel_pair_in[0].red.bitwidth == 8\n"
   ]
  },
  {
   "cell_type": "markdown",
   "metadata": {},
   "source": [
    " Do some calculations on the `Pixel` components. Components are accessed with\n",
    " square-bracket notation (`[1]`), like a Python list.\n"
   ]
  },
  {
   "cell_type": "code",
   "execution_count": null,
   "metadata": {
    "collapsed": true
   },
   "outputs": [],
   "source": [
    "pixel_pair_out_values = [\n",
    "    Pixel(\n",
    "        red=pixel_pair_in[0].red + 0x10,\n",
    "        green=pixel_pair_in[0].green,\n",
    "        blue=pixel_pair_in[0].blue,\n",
    "    ),\n",
    "    pixel_pair_in[1] + 1,\n",
    "]\n"
   ]
  },
  {
   "cell_type": "markdown",
   "metadata": {},
   "source": [
    " Pack the new component values into a new `PixelPair`.\n"
   ]
  },
  {
   "cell_type": "code",
   "execution_count": null,
   "metadata": {
    "collapsed": true
   },
   "outputs": [],
   "source": [
    "pixel_pair_out = PixelPair(name=\"pixel_pair_out\", values=pixel_pair_out_values)\n"
   ]
  },
  {
   "cell_type": "markdown",
   "metadata": {},
   "source": [
    " Test out `PixelPair`.\n"
   ]
  },
  {
   "cell_type": "code",
   "execution_count": null,
   "metadata": {
    "collapsed": true
   },
   "outputs": [],
   "source": [
    "print(\"\\nPixelPair slicing and concatenating with wire_matrix:\")\n",
    "sim = pyrtl.Simulation()\n",
    "sim.step_multiple(provided_inputs={\"pixel_pair_in\": [0x112233AABBCC, 0x445566778899]})\n",
    "sim.tracer.render_trace(\n",
    "    trace_list=[\n",
    "        \"pixel_pair_in\",\n",
    "        \"pixel_pair_in[0]\",\n",
    "        \"pixel_pair_in[0].red\",\n",
    "        \"pixel_pair_in[0].green\",\n",
    "        \"pixel_pair_in[0].blue\",\n",
    "        \"pixel_pair_in[1]\",\n",
    "        \"pixel_pair_in[1].red\",\n",
    "        \"pixel_pair_in[1].green\",\n",
    "        \"pixel_pair_in[1].blue\",\n",
    "        \"pixel_pair_out\",\n",
    "    ]\n",
    ")\n"
   ]
  },
  {
   "cell_type": "markdown",
   "metadata": {},
   "source": [
    " These examples hopefully show how [wire_matrix()](https://pyrtl.readthedocs.io/en/latest/helpers.html#pyrtl.wire_matrix) and [wire_struct](https://pyrtl.readthedocs.io/en/latest/helpers.html#pyrtl.wire_struct) result in code\n",
    " that's easier to write correctly and easier to read.\n",
    "\n",
    " [wire_struct](https://pyrtl.readthedocs.io/en/latest/helpers.html#pyrtl.wire_struct) and [wire_matrix()](https://pyrtl.readthedocs.io/en/latest/helpers.html#pyrtl.wire_matrix) have many more features, but this example should\n",
    " demonstrate the main ideas. See the documentation for more details:\n",
    "\n",
    " https://pyrtl.readthedocs.io/en/latest/helpers.html#pyrtl.wire_struct\n",
    "\n",
    " https://pyrtl.readthedocs.io/en/latest/helpers.html#pyrtl.wire_matrix\n"
   ]
  }
 ],
 "metadata": {
  "kernelspec": {
   "display_name": "Python 3",
   "language": "python",
   "name": "python3"
  },
  "language_info": {
   "codemirror_mode": {
    "name": "ipython",
    "version": 3
   },
   "file_extension": ".py",
   "mimetype": "text/x-python",
   "name": "python",
   "nbconvert_exporter": "python",
   "pygments_lexer": "ipython3",
   "version": "3.6.4"
  }
 },
 "nbformat": 4,
 "nbformat_minor": 2
}