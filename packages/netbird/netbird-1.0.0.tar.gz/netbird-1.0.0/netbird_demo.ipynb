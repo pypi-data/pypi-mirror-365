{
 "cells": [
  {
   "cell_type": "markdown",
   "metadata": {},
   "source": [
    "# 🚀 NetBird Python Client Demo\n",
    "\n",
    "This notebook demonstrates how to use the NetBird Python client to manage your NetBird network.\n",
    "\n",
    "## 📋 What you'll learn:\n",
    "- ✅ Connect to NetBird API\n",
    "- ✅ Manage users, peers, and groups\n",
    "- ✅ Configure policies and routes\n",
    "- ✅ Monitor network activity\n",
    "- ✅ Handle errors gracefully"
   ]
  },
  {
   "cell_type": "markdown",
   "metadata": {},
   "source": [
    "## 🔧 Setup\n",
    "\n",
    "First, let's import the NetBird client and set up authentication."
   ]
  },
  {
   "cell_type": "code",
   "execution_count": 30,
   "metadata": {},
   "outputs": [
    {
     "name": "stdout",
     "output_type": "stream",
     "text": [
      "✅ NetBird Python client imported successfully!\n"
     ]
    }
   ],
   "source": [
    "# Import the NetBird client\n",
    "from netbird import APIClient\n",
    "from netbird.exceptions import NetBirdAPIError, NetBirdNotFoundError\n",
    "import os\n",
    "from pprint import pprint\n",
    "import json\n",
    "\n",
    "print(\"✅ NetBird Python client imported successfully!\")"
   ]
  },
  {
   "cell_type": "code",
   "execution_count": 31,
   "metadata": {},
   "outputs": [
    {
     "name": "stdout",
     "output_type": "stream",
     "text": [
      "✅ Using NetBird server: https://netbird.oci.cloudpoet.in:33073\n",
      "✅ Token configured: nbp_x3XhFU...\n"
     ]
    }
   ],
   "source": [
    "# Set up your NetBird credentials\n",
    "# Option 1: Set environment variables (recommended)\n",
    "NETBIRD_HOST = os.getenv(\"NETBIRD_HOST\", \"api.netbird.io\")\n",
    "NETBIRD_TOKEN = os.getenv(\"NETBIRD_API_TOKEN\")\n",
    "\n",
    "# Option 2: Set directly (for demo only - don't commit tokens!)\n",
    "# NETBIRD_HOST = \"your-netbird-server.com\"\n",
    "# NETBIRD_TOKEN = \"your-api-token-here\"\n",
    "\n",
    "if not NETBIRD_TOKEN:\n",
    "    print(\"⚠️  No API token found. Set NETBIRD_API_TOKEN environment variable.\")\n",
    "    print(\"   Example: export NETBIRD_API_TOKEN='your-token-here'\")\n",
    "else:\n",
    "    print(f\"✅ Using NetBird server: {NETBIRD_HOST}\")\n",
    "    print(f\"✅ Token configured: {NETBIRD_TOKEN[:10]}...\")"
   ]
  },
  {
   "cell_type": "code",
   "execution_count": 32,
   "metadata": {},
   "outputs": [
    {
     "data": {
      "text/plain": [
       "{'auto_groups': [],\n",
       " 'email': 'bhushan.rane@cloudpoet.in',\n",
       " 'id': '103489590992358909976',\n",
       " 'is_blocked': False,\n",
       " 'is_current': True,\n",
       " 'is_service_user': False,\n",
       " 'issued': 'api',\n",
       " 'last_login': '2025-07-21T16:56:05.42356783Z',\n",
       " 'name': 'Bhushan Rane',\n",
       " 'permissions': {'is_restricted': False,\n",
       "  'modules': {'accounts': {'create': True,\n",
       "    'delete': True,\n",
       "    'read': True,\n",
       "    'update': True},\n",
       "   'dns': {'create': True, 'delete': True, 'read': True, 'update': True},\n",
       "   'events': {'create': True, 'delete': True, 'read': True, 'update': True},\n",
       "   'groups': {'create': True, 'delete': True, 'read': True, 'update': True},\n",
       "   'nameservers': {'create': True,\n",
       "    'delete': True,\n",
       "    'read': True,\n",
       "    'update': True},\n",
       "   'networks': {'create': True, 'delete': True, 'read': True, 'update': True},\n",
       "   'pats': {'create': True, 'delete': True, 'read': True, 'update': True},\n",
       "   'peers': {'create': True, 'delete': True, 'read': True, 'update': True},\n",
       "   'policies': {'create': True, 'delete': True, 'read': True, 'update': True},\n",
       "   'routes': {'create': True, 'delete': True, 'read': True, 'update': True},\n",
       "   'settings': {'create': True, 'delete': True, 'read': True, 'update': True},\n",
       "   'setup_keys': {'create': True,\n",
       "    'delete': True,\n",
       "    'read': True,\n",
       "    'update': True},\n",
       "   'users': {'create': True, 'delete': True, 'read': True, 'update': True}}},\n",
       " 'role': 'owner',\n",
       " 'status': 'active'}"
      ]
     },
     "execution_count": 32,
     "metadata": {},
     "output_type": "execute_result"
    }
   ],
   "source": [
    "import requests\n",
    "import json\n",
    "\n",
    "url = f\"{NETBIRD_HOST}/api/users/current\"\n",
    "\n",
    "headers = {     \n",
    "  'Accept': 'application/json',\n",
    "  'Authorization': f'Token {NETBIRD_TOKEN}'\n",
    "}\n",
    "\n",
    "response = requests.request(\"GET\", url, headers=headers)\n",
    "\n",
    "(response.json())\n"
   ]
  },
  {
   "cell_type": "markdown",
   "metadata": {},
   "source": [
    "## 🌐 Connect to NetBird\n",
    "\n",
    "Create a client connection to your NetBird server."
   ]
  },
  {
   "cell_type": "code",
   "execution_count": 33,
   "metadata": {},
   "outputs": [
    {
     "name": "stdout",
     "output_type": "stream",
     "text": [
      "🔗 Connected to: https://netbird.oci.cloudpoet.in:33073/api\n",
      "🔐 Authentication: Token configured\n",
      "⏱️  Timeout: 30.0 seconds\n"
     ]
    }
   ],
   "source": [
    "# Create NetBird client\n",
    "client = APIClient(\n",
    "    host=NETBIRD_HOST,\n",
    "    api_token=NETBIRD_TOKEN,\n",
    "    timeout=30.0\n",
    ")\n",
    "\n",
    "print(f\"🔗 Connected to: {client.base_url}\")\n",
    "print(f\"🔐 Authentication: Token configured\")\n",
    "print(f\"⏱️  Timeout: {client.timeout} seconds\")"
   ]
  },
  {
   "cell_type": "markdown",
   "metadata": {},
   "source": [
    "## 👤 User Management\n",
    "\n",
    "Let's start by exploring users in your NetBird network."
   ]
  },
  {
   "cell_type": "code",
   "execution_count": 34,
   "metadata": {},
   "outputs": [
    {
     "name": "stdout",
     "output_type": "stream",
     "text": [
      "👤 Current User:\n",
      "   Name: Bhushan Rane\n",
      "   Email: bhushan.rane@cloudpoet.in\n",
      "   Role: owner\n",
      "   Status: active\n",
      "   Last Login: 2025-07-21T16:56:05.42356783Z\n"
     ]
    }
   ],
   "source": [
    "# Get current user information\n",
    "try:\n",
    "    current_user = client.users.get_current()\n",
    "    print(\"👤 Current User:\")\n",
    "    print(f\"   Name: {current_user['name']}\")\n",
    "    print(f\"   Email: {current_user['email']}\")\n",
    "    print(f\"   Role: {current_user['role']}\")\n",
    "    print(f\"   Status: {current_user['status']}\")\n",
    "    print(f\"   Last Login: {current_user['last_login']}\")\n",
    "except NetBirdAPIError as e:\n",
    "    print(f\"❌ Error getting current user: {e}\")"
   ]
  },
  {
   "cell_type": "code",
   "execution_count": 35,
   "metadata": {},
   "outputs": [
    {
     "name": "stdout",
     "output_type": "stream",
     "text": [
      "👥 Found 4 users:\n",
      "\n",
      "   📧 bhushan.rane@cloudpoet.in\n",
      "      Role: owner | Status: active\n",
      "      Service User: False | Blocked: False\n",
      "\n",
      "   📧 No email\n",
      "      Role: admin | Status: active\n",
      "      Service User: True | Blocked: False\n",
      "\n",
      "   📧 shreya.fegade@cloudpoet.in\n",
      "      Role: user | Status: active\n",
      "      Service User: False | Blocked: False\n",
      "\n",
      "   📧 mahendra.bendale@cloudpoet.in\n",
      "      Role: admin | Status: active\n",
      "      Service User: False | Blocked: False\n",
      "\n"
     ]
    }
   ],
   "source": [
    "# List all users\n",
    "try:\n",
    "    users = client.users.list()\n",
    "    print(f\"👥 Found {len(users)} users:\")\n",
    "    print()\n",
    "    \n",
    "    for user in users:\n",
    "        print(f\"   📧 {user['email'] or 'No email'}\")\n",
    "        print(f\"      Role: {user['role']} | Status: {user['status']}\")\n",
    "        print(f\"      Service User: {user['is_service_user']} | Blocked: {user['is_blocked']}\")\n",
    "        print()\n",
    "        \n",
    "except NetBirdAPIError as e:\n",
    "    print(f\"❌ Error listing users: {e}\")"
   ]
  },
  {
   "cell_type": "markdown",
   "metadata": {},
   "source": [
    "## 🖥️ Peer Management\n",
    "\n",
    "Explore the devices (peers) connected to your NetBird network."
   ]
  },
  {
   "cell_type": "code",
   "execution_count": 36,
   "metadata": {},
   "outputs": [
    {
     "name": "stdout",
     "output_type": "stream",
     "text": [
      "🖥️  Found 4 peers:\n",
      "\n",
      "   🟢 Online rb-oci-k8s\n",
      "      IP: 100.107.174.91 | OS: Alpine Linux 3.21.3\n",
      "      Version: 0.50.1 | Last Seen: 2025-07-15T07:44:28.888472203Z\n",
      "      Location: Mumbai, IN\n",
      "      Groups: All, rb-oci\n",
      "\n",
      "   🔴 Offline BHUSHAN-RANE.local\n",
      "      IP: 100.107.206.151 | OS: Darwin 15.5\n",
      "      Version: 0.50.0 | Last Seen: 2025-07-21T17:09:45.41439433Z\n",
      "      Location: Pune, IN\n",
      "      Groups: All\n",
      "\n",
      "   🔴 Offline DESKTOP-I6AVTGU\n",
      "      IP: 100.107.114.89 | OS: Windows 10\n",
      "      Version: 0.50.2 | Last Seen: 2025-07-11T16:26:57.190228067Z\n",
      "      Location: Pune, IN\n",
      "      Groups: All\n",
      "\n",
      "   🟢 Online homelab-docker\n",
      "      IP: 100.107.146.58 | OS: Alpine Linux 3.21.3\n",
      "      Version: 0.50.1 | Last Seen: 2025-07-26T23:25:28.771849315Z\n",
      "      Location: Pune, IN\n",
      "      Groups: All, homelab\n",
      "\n"
     ]
    }
   ],
   "source": [
    "# List all peers\n",
    "try:\n",
    "    peers = client.peers.list()\n",
    "    print(f\"🖥️  Found {len(peers)} peers:\")\n",
    "    print()\n",
    "    \n",
    "    for peer in peers:\n",
    "        status = \"🟢 Online\" if peer['connected'] else \"🔴 Offline\"\n",
    "        print(f\"   {status} {peer['name']}\")\n",
    "        print(f\"      IP: {peer['ip']} | OS: {peer['os']}\")\n",
    "        print(f\"      Version: {peer['version']} | Last Seen: {peer['last_seen']}\")\n",
    "        \n",
    "        # Show geographic info if available\n",
    "        if peer.get('city_name') and peer.get('country_code'):\n",
    "            print(f\"      Location: {peer['city_name']}, {peer['country_code']}\")\n",
    "        \n",
    "        # Show groups\n",
    "        if peer.get('groups'):\n",
    "            group_names = [g.get('name', 'Unknown') for g in peer['groups']]\n",
    "            print(f\"      Groups: {', '.join(group_names)}\")\n",
    "        \n",
    "        print()\n",
    "        \n",
    "except NetBirdAPIError as e:\n",
    "    print(f\"❌ Error listing peers: {e}\")"
   ]
  },
  {
   "cell_type": "markdown",
   "metadata": {},
   "source": [
    "## 👥 Group Management\n",
    "\n",
    "Manage groups to organize your network peers."
   ]
  },
  {
   "cell_type": "code",
   "execution_count": 37,
   "metadata": {},
   "outputs": [
    {
     "name": "stdout",
     "output_type": "stream",
     "text": [
      "👥 Found 4 groups:\n",
      "\n",
      "   📁 All\n",
      "      ID: d1ip995aofms73a23dp0\n",
      "      Peers: 4\n",
      "      Resources: 1\n",
      "      Members: rb-oci-k8s, BHUSHAN-RANE.local, DESKTOP-I6AVTGU, homelab-docker\n",
      "\n",
      "   📁 ac-oci\n",
      "      ID: d1mclvtaofms738ms6ng\n",
      "      Peers: 0\n",
      "      Resources: 1\n",
      "\n",
      "   📁 homelab\n",
      "      ID: d1mcm7taofms738ms6og\n",
      "      Peers: 1\n",
      "      Resources: 1\n",
      "      Members: homelab-docker\n",
      "\n",
      "   📁 rb-oci\n",
      "      ID: d1mcn8daofms738ms6pg\n",
      "      Peers: 1\n",
      "      Resources: 2\n",
      "      Members: rb-oci-k8s\n",
      "\n"
     ]
    }
   ],
   "source": [
    "# List all groups\n",
    "try:\n",
    "    groups = client.groups.list()\n",
    "    print(f\"👥 Found {len(groups)} groups:\")\n",
    "    print()\n",
    "    \n",
    "    for group in groups:\n",
    "        print(f\"   📁 {group['name']}\")\n",
    "        print(f\"      ID: {group['id']}\")\n",
    "        print(f\"      Peers: {group['peers_count']}\")\n",
    "        print(f\"      Resources: {group.get('resources_count', 0)}\")\n",
    "        \n",
    "        # Show peer details if available\n",
    "        if group.get('peers') and len(group['peers']) <= 5:  # Don't show too many\n",
    "            peer_names = [p.get('name', 'Unknown') for p in group['peers']]\n",
    "            print(f\"      Members: {', '.join(peer_names)}\")\n",
    "        \n",
    "        print()\n",
    "        \n",
    "except NetBirdAPIError as e:\n",
    "    print(f\"❌ Error listing groups: {e}\")"
   ]
  },
  {
   "cell_type": "markdown",
   "metadata": {},
   "source": [
    "## 🔐 Policy Management\n",
    "\n",
    "View and manage network access policies."
   ]
  },
  {
   "cell_type": "code",
   "execution_count": 38,
   "metadata": {},
   "outputs": [
    {
     "name": "stdout",
     "output_type": "stream",
     "text": [
      "🔐 Found 4 policies:\n",
      "\n",
      "   ✅ Enabled Default\n",
      "      Description: This is a default rule that allows connections between all the resources\n",
      "      Rules: 1\n",
      "        🟢 Allow Default\n",
      "          Protocol: all\n",
      "          From: All\n",
      "          To: All\n",
      "\n",
      "   ✅ Enabled admins\n",
      "      Description: No description\n",
      "      Rules: 1\n",
      "        🟢 Allow admins\n",
      "          Protocol: all\n",
      "          From: All\n",
      "          To: ac-oci, homelab\n",
      "\n",
      "   ✅ Enabled test-policy-a40116dd\n",
      "      Description: Integration test policy\n",
      "      Rules: 1\n",
      "        🟢 Allow Allow all\n",
      "          Protocol: all\n",
      "\n",
      "   ✅ Enabled test-policy-94e9b44d\n",
      "      Description: Integration test policy\n",
      "      Rules: 1\n",
      "        🟢 Allow Allow all\n",
      "          Protocol: all\n",
      "\n"
     ]
    }
   ],
   "source": [
    "# List all policies\n",
    "try:\n",
    "    policies = client.policies.list()\n",
    "    print(f\"🔐 Found {len(policies)} policies:\")\n",
    "    print()\n",
    "    \n",
    "    for policy in policies:\n",
    "        status = \"✅ Enabled\" if policy['enabled'] else \"❌ Disabled\"\n",
    "        print(f\"   {status} {policy['name']}\")\n",
    "        print(f\"      Description: {policy.get('description') or 'No description'}\")\n",
    "        print(f\"      Rules: {len(policy.get('rules', []))}\")\n",
    "        \n",
    "        # Show rule details\n",
    "        if policy.get('rules'):\n",
    "            for rule in policy['rules'][:2]:  # Show first 2 rules\n",
    "                action = \"🟢 Allow\" if rule.get('action') == 'accept' else \"🔴 Deny\"\n",
    "                print(f\"        {action} {rule.get('name', 'Unnamed rule')}\")\n",
    "                print(f\"          Protocol: {rule.get('protocol', 'any')}\")\n",
    "                \n",
    "                # Show sources and destinations\n",
    "                sources = rule.get('sources', [])\n",
    "                destinations = rule.get('destinations', [])\n",
    "                if sources:\n",
    "                    src_names = [s.get('name', 'Unknown') for s in sources[:2]]\n",
    "                    print(f\"          From: {', '.join(src_names)}\")\n",
    "                if destinations:\n",
    "                    dst_names = [d.get('name', 'Unknown') for d in destinations[:2]]\n",
    "                    print(f\"          To: {', '.join(dst_names)}\")\n",
    "        \n",
    "        print()\n",
    "        \n",
    "except NetBirdAPIError as e:\n",
    "    print(f\"❌ Error listing policies: {e}\")"
   ]
  },
  {
   "cell_type": "markdown",
   "metadata": {},
   "source": [
    "## 🌐 Network Information\n",
    "\n",
    "View network configurations and routes."
   ]
  },
  {
   "cell_type": "code",
   "execution_count": 39,
   "metadata": {},
   "outputs": [
    {
     "name": "stdout",
     "output_type": "stream",
     "text": [
      "🌐 Found 3 networks:\n",
      "\n",
      "   📡 ac-oracle-cloud\n",
      "      Description: No description\n",
      "      Routers: 1\n",
      "      Resources: 1\n",
      "      Policies: 1\n",
      "      Routing Peers: 0\n",
      "\n",
      "   📡 homelab\n",
      "      Description: No description\n",
      "      Routers: 1\n",
      "      Resources: 1\n",
      "      Policies: 1\n",
      "      Routing Peers: 1\n",
      "\n",
      "   📡 rb-oracle-cloud\n",
      "      Description: No description\n",
      "      Routers: 1\n",
      "      Resources: 2\n",
      "      Policies: 2\n",
      "      Routing Peers: 1\n",
      "\n"
     ]
    }
   ],
   "source": [
    "# List networks\n",
    "try:\n",
    "    networks = client.networks.list()\n",
    "    print(f\"🌐 Found {len(networks)} networks:\")\n",
    "    print()\n",
    "    \n",
    "    for network in networks:\n",
    "        print(f\"   📡 {network['name']}\")\n",
    "        print(f\"      Description: {network.get('description') or 'No description'}\")\n",
    "        print(f\"      Routers: {len(network.get('routers', []))}\")\n",
    "        print(f\"      Resources: {len(network.get('resources', []))}\")\n",
    "        print(f\"      Policies: {len(network.get('policies', []))}\")\n",
    "        print(f\"      Routing Peers: {network.get('routing_peers_count', 0)}\")\n",
    "        print()\n",
    "        \n",
    "except NetBirdAPIError as e:\n",
    "    print(f\"❌ Error listing networks: {e}\")"
   ]
  },
  {
   "cell_type": "code",
   "execution_count": 19,
   "metadata": {},
   "outputs": [
    {
     "name": "stdout",
     "output_type": "stream",
     "text": [
      "🛣️  Found 0 routes:\n",
      "   No routes configured.\n"
     ]
    }
   ],
   "source": [
    "# List routes\n",
    "try:\n",
    "    routes = client.routes.list()\n",
    "    print(f\"🛣️  Found {len(routes)} routes:\")\n",
    "    \n",
    "    if routes:\n",
    "        print()\n",
    "        for route in routes:\n",
    "            status = \"✅ Enabled\" if route['enabled'] else \"❌ Disabled\"\n",
    "            print(f\"   {status} {route.get('description') or 'Unnamed route'}\")\n",
    "            print(f\"      Network: {route['network_id']}\")\n",
    "            print(f\"      Metric: {route['metric']}\")\n",
    "            print()\n",
    "    else:\n",
    "        print(\"   No routes configured.\")\n",
    "        \n",
    "except NetBirdAPIError as e:\n",
    "    print(f\"❌ Error listing routes: {e}\")"
   ]
  },
  {
   "cell_type": "markdown",
   "metadata": {},
   "source": [
    "## 🔑 Setup Keys\n",
    "\n",
    "Manage setup keys for adding new devices."
   ]
  },
  {
   "cell_type": "code",
   "execution_count": 20,
   "metadata": {},
   "outputs": [
    {
     "name": "stdout",
     "output_type": "stream",
     "text": [
      "🔑 Found 3 setup keys:\n",
      "\n",
      "   ✅ Valid rb-oracle-cloud\n",
      "      Type: reusable\n",
      "      Used: 1 times\n",
      "      Limit: Unlimited\n",
      "      Expires: 0001-01-01T00:00:00Z\n",
      "      Last Used: 2025-07-08T07:45:45.878095804Z\n",
      "      Auto Groups: 1 groups\n",
      "\n",
      "   ✅ Valid ac-oracle-cloud\n",
      "      Type: reusable\n",
      "      Used: 3 times\n",
      "      Limit: Unlimited\n",
      "      Expires: 0001-01-01T00:00:00Z\n",
      "      Last Used: 2025-07-08T08:02:03.433632539Z\n",
      "      Auto Groups: 1 groups\n",
      "\n",
      "   ✅ Valid homelab\n",
      "      Type: reusable\n",
      "      Used: 2 times\n",
      "      Limit: Unlimited\n",
      "      Expires: 0001-01-01T00:00:00Z\n",
      "      Last Used: 2025-07-24T11:26:22.631984411Z\n",
      "      Auto Groups: 1 groups\n",
      "\n"
     ]
    }
   ],
   "source": [
    "# List setup keys\n",
    "try:\n",
    "    setup_keys = client.setup_keys.list()\n",
    "    print(f\"🔑 Found {len(setup_keys)} setup keys:\")\n",
    "    print()\n",
    "    \n",
    "    for key in setup_keys:\n",
    "        status = \"✅ Valid\" if key['valid'] and not key['revoked'] else \"❌ Invalid\"\n",
    "        print(f\"   {status} {key['name']}\")\n",
    "        print(f\"      Type: {key['type']}\")\n",
    "        print(f\"      Used: {key['used_times']} times\")\n",
    "        print(f\"      Limit: {key.get('usage_limit') or 'Unlimited'}\")\n",
    "        print(f\"      Expires: {key.get('expires') or 'Never'}\")\n",
    "        print(f\"      Last Used: {key.get('last_used') or 'Never'}\")\n",
    "        \n",
    "        if key.get('auto_groups'):\n",
    "            print(f\"      Auto Groups: {len(key['auto_groups'])} groups\")\n",
    "        \n",
    "        print()\n",
    "        \n",
    "except NetBirdAPIError as e:\n",
    "    print(f\"❌ Error listing setup keys: {e}\")"
   ]
  },
  {
   "cell_type": "markdown",
   "metadata": {},
   "source": [
    "## 🏢 Account Information\n",
    "\n",
    "View account settings and configuration."
   ]
  },
  {
   "cell_type": "code",
   "execution_count": 21,
   "metadata": {},
   "outputs": [
    {
     "name": "stdout",
     "output_type": "stream",
     "text": [
      "🏢 Found 1 accounts:\n",
      "\n",
      "   🏷️  netbird.oci.cloudpoet.in\n",
      "      Category: private\n",
      "      Created: 2025-07-02T20:20:52.230069272Z\n",
      "      Created By: 103489590992358909976\n",
      "      Settings:\n",
      "        Login Expiration: True\n",
      "        Group Propagation: True\n",
      "        Lazy Connection: False\n",
      "\n"
     ]
    }
   ],
   "source": [
    "# List accounts\n",
    "try:\n",
    "    accounts = client.accounts.list()\n",
    "    print(f\"🏢 Found {len(accounts)} accounts:\")\n",
    "    print()\n",
    "    \n",
    "    for account in accounts:\n",
    "        print(f\"   🏷️  {account['domain']}\")\n",
    "        print(f\"      Category: {account['domain_category']}\")\n",
    "        print(f\"      Created: {account['created_at']}\")\n",
    "        print(f\"      Created By: {account['created_by']}\")\n",
    "        \n",
    "        # Show settings if available\n",
    "        if account.get('settings'):\n",
    "            settings = account['settings']\n",
    "            print(f\"      Settings:\")\n",
    "            \n",
    "            # Show key settings\n",
    "            if isinstance(settings, dict):\n",
    "                if 'peer_login_expiration_enabled' in settings:\n",
    "                    print(f\"        Login Expiration: {settings['peer_login_expiration_enabled']}\")\n",
    "                if 'groups_propagation_enabled' in settings:\n",
    "                    print(f\"        Group Propagation: {settings['groups_propagation_enabled']}\")\n",
    "                if 'lazy_connection_enabled' in settings:\n",
    "                    print(f\"        Lazy Connection: {settings['lazy_connection_enabled']}\")\n",
    "        \n",
    "        print()\n",
    "        \n",
    "except NetBirdAPIError as e:\n",
    "    print(f\"❌ Error listing accounts: {e}\")"
   ]
  },
  {
   "cell_type": "markdown",
   "metadata": {},
   "source": [
    "## 📊 Activity & Events\n",
    "\n",
    "Monitor network activity and audit events."
   ]
  },
  {
   "cell_type": "code",
   "execution_count": 22,
   "metadata": {},
   "outputs": [
    {
     "name": "stdout",
     "output_type": "stream",
     "text": [
      "📊 Found 594 recent events:\n",
      "\n",
      "   📅 2025-07-28T00:20:09.234574696Z\n",
      "      Activity: Group deleted\n",
      "      Initiator: Bhushan Rane\n",
      "      Email: bhushan.rane@cloudpoet.in\n",
      "\n",
      "   📅 2025-07-28T00:20:08.718745583Z\n",
      "      Activity: Group created\n",
      "      Initiator: Bhushan Rane\n",
      "      Email: bhushan.rane@cloudpoet.in\n",
      "\n",
      "   📅 2025-07-28T00:20:08.63418721Z\n",
      "      Activity: Group deleted\n",
      "      Initiator: Bhushan Rane\n",
      "      Email: bhushan.rane@cloudpoet.in\n",
      "\n",
      "   📅 2025-07-28T00:20:08.594269606Z\n",
      "      Activity: Group created\n",
      "      Initiator: Bhushan Rane\n",
      "      Email: bhushan.rane@cloudpoet.in\n",
      "\n",
      "   📅 2025-07-28T00:20:06.98574139Z\n",
      "      Activity: Group deleted\n",
      "      Initiator: Bhushan Rane\n",
      "      Email: bhushan.rane@cloudpoet.in\n",
      "\n"
     ]
    }
   ],
   "source": [
    "# Get recent audit events\n",
    "try:\n",
    "    events = client.events.get_audit_events()\n",
    "    print(f\"📊 Found {len(events)} recent events:\")\n",
    "    print()\n",
    "    \n",
    "    # Show last 5 events\n",
    "    for event in events[:5]:\n",
    "        print(f\"   📅 {event['timestamp']}\")\n",
    "        print(f\"      Activity: {event['activity']}\")\n",
    "        \n",
    "        if event.get('initiator_name'):\n",
    "            print(f\"      Initiator: {event['initiator_name']}\")\n",
    "        if event.get('initiator_email'):\n",
    "            print(f\"      Email: {event['initiator_email']}\")\n",
    "        \n",
    "        print()\n",
    "        \n",
    "except NetBirdAPIError as e:\n",
    "    print(f\"❌ Error getting events: {e}\")"
   ]
  },
  {
   "cell_type": "markdown",
   "metadata": {},
   "source": [
    "## 🔧 DNS Management\n",
    "\n",
    "Configure DNS settings for your network."
   ]
  },
  {
   "cell_type": "code",
   "execution_count": 23,
   "metadata": {},
   "outputs": [
    {
     "name": "stdout",
     "output_type": "stream",
     "text": [
      "🔧 DNS Settings:\n",
      "   Disabled Management Groups: 0\n",
      "\n"
     ]
    }
   ],
   "source": [
    "# Get DNS settings\n",
    "try:\n",
    "    dns_settings = client.dns.get_settings()\n",
    "    print(\"🔧 DNS Settings:\")\n",
    "    print(f\"   Disabled Management Groups: {len(dns_settings.get('disabled_management_groups', []))}\")\n",
    "    print()\n",
    "    \n",
    "except NetBirdAPIError as e:\n",
    "    print(f\"❌ Error getting DNS settings: {e}\")\n",
    "    print()"
   ]
  },
  {
   "cell_type": "code",
   "execution_count": 24,
   "metadata": {},
   "outputs": [
    {
     "name": "stdout",
     "output_type": "stream",
     "text": [
      "🌐 Found 0 DNS nameserver groups:\n",
      "   No DNS nameserver groups configured.\n"
     ]
    }
   ],
   "source": [
    "# List DNS nameserver groups\n",
    "try:\n",
    "    nameserver_groups = client.dns.list_nameserver_groups()\n",
    "    print(f\"🌐 Found {len(nameserver_groups)} DNS nameserver groups:\")\n",
    "    \n",
    "    if nameserver_groups:\n",
    "        print()\n",
    "        for group in nameserver_groups:\n",
    "            status = \"✅ Enabled\" if group['enabled'] else \"❌ Disabled\"\n",
    "            print(f\"   {status} {group['name']}\")\n",
    "            print(f\"      Nameservers: {', '.join(group['nameservers'])}\")\n",
    "            if group.get('description'):\n",
    "                print(f\"      Description: {group['description']}\")\n",
    "            print()\n",
    "    else:\n",
    "        print(\"   No DNS nameserver groups configured.\")\n",
    "        \n",
    "except NetBirdAPIError as e:\n",
    "    print(f\"❌ Error listing DNS nameserver groups: {e}\")"
   ]
  },
  {
   "cell_type": "markdown",
   "metadata": {},
   "source": [
    "## 🎯 Create/Update Operations\n",
    "\n",
    "Demonstrate how to create and update resources (use with caution!)."
   ]
  },
  {
   "cell_type": "code",
   "execution_count": 25,
   "metadata": {},
   "outputs": [
    {
     "name": "stdout",
     "output_type": "stream",
     "text": [
      "✅ Created group: Demo-Group-from-Jupyter (ID: d23depdaofms73c1pfag)\n",
      "🗑️  Deleted test group: Demo-Group-from-Jupyter\n",
      "💡 Uncomment the code above to test group creation/deletion\n"
     ]
    }
   ],
   "source": [
    "# Example: Create a new group (uncomment to run)\n",
    "from netbird.models import GroupCreate\n",
    "\n",
    "# UNCOMMENT THE LINES BELOW TO CREATE A TEST GROUP:\n",
    "try:\n",
    "    # Create a test group\n",
    "    group_data = GroupCreate(\n",
    "        name=\"Demo-Group-from-Jupyter\",\n",
    "        peers=[]  # Start with no peers\n",
    "    )\n",
    "    \n",
    "    new_group = client.groups.create(group_data)\n",
    "    print(f\"✅ Created group: {new_group['name']} (ID: {new_group['id']})\")\n",
    "    \n",
    "    # Clean up - delete the group immediately\n",
    "    client.groups.delete(new_group['id'])\n",
    "    print(f\"🗑️  Deleted test group: {new_group['name']}\")\n",
    "    \n",
    "except NetBirdAPIError as e:\n",
    "    print(f\"❌ Error with group operations: {e}\")\n",
    "\n",
    "print(\"💡 Uncomment the code above to test group creation/deletion\")"
   ]
  },
  {
   "cell_type": "markdown",
   "metadata": {},
   "source": [
    "## 🛡️ Error Handling Examples\n",
    "\n",
    "Demonstrate proper error handling patterns."
   ]
  },
  {
   "cell_type": "code",
   "execution_count": 26,
   "metadata": {},
   "outputs": [
    {
     "name": "stdout",
     "output_type": "stream",
     "text": [
      "🧪 Testing error handling:\n",
      "🔍 Get invalid group: Resource not found\n",
      "✅ List users: Success\n",
      "\n",
      "💡 Use this pattern in your production code!\n"
     ]
    }
   ],
   "source": [
    "# Example: Handling different types of errors\n",
    "from netbird.exceptions import (\n",
    "    NetBirdAPIError,\n",
    "    NetBirdNotFoundError,\n",
    "    NetBirdAuthenticationError,\n",
    "    NetBirdValidationError\n",
    ")\n",
    "\n",
    "def safe_api_call(operation_name, api_function, *args, **kwargs):\n",
    "    \"\"\"Safely execute an API call with proper error handling.\"\"\"\n",
    "    try:\n",
    "        result = api_function(*args, **kwargs)\n",
    "        print(f\"✅ {operation_name}: Success\")\n",
    "        return result\n",
    "    \n",
    "    except NetBirdAuthenticationError as e:\n",
    "        print(f\"🔐 {operation_name}: Authentication failed - check your API token\")\n",
    "        return None\n",
    "    \n",
    "    except NetBirdNotFoundError as e:\n",
    "        print(f\"🔍 {operation_name}: Resource not found\")\n",
    "        return None\n",
    "    \n",
    "    except NetBirdValidationError as e:\n",
    "        print(f\"📝 {operation_name}: Validation error - {e}\")\n",
    "        return None\n",
    "    \n",
    "    except NetBirdAPIError as e:\n",
    "        print(f\"⚠️  {operation_name}: API error (status {e.status_code}) - {e}\")\n",
    "        return None\n",
    "    \n",
    "    except Exception as e:\n",
    "        print(f\"💥 {operation_name}: Unexpected error - {e}\")\n",
    "        return None\n",
    "\n",
    "# Test error handling\n",
    "print(\"🧪 Testing error handling:\")\n",
    "\n",
    "# This should fail - invalid group ID\n",
    "result = safe_api_call(\n",
    "    \"Get invalid group\",\n",
    "    client.groups.get,\n",
    "    \"invalid-group-id-12345\"\n",
    ")\n",
    "\n",
    "# This should succeed - list users\n",
    "result = safe_api_call(\n",
    "    \"List users\",\n",
    "    client.users.list\n",
    ")\n",
    "\n",
    "print(\"\\n💡 Use this pattern in your production code!\")"
   ]
  },
  {
   "cell_type": "markdown",
   "metadata": {},
   "source": [
    "## 📈 Network Statistics Summary\n",
    "\n",
    "Get a complete overview of your NetBird network."
   ]
  },
  {
   "cell_type": "code",
   "execution_count": 27,
   "metadata": {},
   "outputs": [
    {
     "name": "stdout",
     "output_type": "stream",
     "text": [
      "📈 NetBird Network Summary\n",
      "==================================================\n",
      "👥 Users:          4 total, 2 admins, 4 active\n",
      "🖥️  Peers:          4 total, 2 online, 2 offline\n",
      "👥 Groups:         4\n",
      "🔐 Policies:       4 total, 4 enabled\n",
      "🛣️  Routes:         0\n",
      "🔑 Setup Keys:     3 total, 3 valid\n",
      "\n",
      "✅ NetBird Python Client Demo Complete!\n"
     ]
    }
   ],
   "source": [
    "# Generate network summary\n",
    "print(\"📈 NetBird Network Summary\")\n",
    "print(\"=\" * 50)\n",
    "\n",
    "summary = {}\n",
    "\n",
    "# Collect statistics\n",
    "try:\n",
    "    users = client.users.list()\n",
    "    summary['total_users'] = len(users)\n",
    "    summary['admin_users'] = len([u for u in users if u['role'] == 'admin'])\n",
    "    summary['active_users'] = len([u for u in users if u['status'] == 'active'])\n",
    "except:\n",
    "    summary['total_users'] = 'Error'\n",
    "\n",
    "try:\n",
    "    peers = client.peers.list()\n",
    "    summary['total_peers'] = len(peers)\n",
    "    summary['online_peers'] = len([p for p in peers if p['connected']])\n",
    "    summary['offline_peers'] = len([p for p in peers if not p['connected']])\n",
    "except:\n",
    "    summary['total_peers'] = 'Error'\n",
    "\n",
    "try:\n",
    "    groups = client.groups.list()\n",
    "    summary['total_groups'] = len(groups)\n",
    "except:\n",
    "    summary['total_groups'] = 'Error'\n",
    "\n",
    "try:\n",
    "    policies = client.policies.list()\n",
    "    summary['total_policies'] = len(policies)\n",
    "    summary['enabled_policies'] = len([p for p in policies if p['enabled']])\n",
    "except:\n",
    "    summary['total_policies'] = 'Error'\n",
    "\n",
    "try:\n",
    "    routes = client.routes.list()\n",
    "    summary['total_routes'] = len(routes)\n",
    "except:\n",
    "    summary['total_routes'] = 'Error'\n",
    "\n",
    "try:\n",
    "    setup_keys = client.setup_keys.list()\n",
    "    summary['total_setup_keys'] = len(setup_keys)\n",
    "    summary['valid_setup_keys'] = len([k for k in setup_keys if k['valid'] and not k['revoked']])\n",
    "except:\n",
    "    summary['total_setup_keys'] = 'Error'\n",
    "\n",
    "# Display summary\n",
    "print(f\"👥 Users:          {summary.get('total_users', 'N/A')} total, {summary.get('admin_users', 'N/A')} admins, {summary.get('active_users', 'N/A')} active\")\n",
    "print(f\"🖥️  Peers:          {summary.get('total_peers', 'N/A')} total, {summary.get('online_peers', 'N/A')} online, {summary.get('offline_peers', 'N/A')} offline\")\n",
    "print(f\"👥 Groups:         {summary.get('total_groups', 'N/A')}\")\n",
    "print(f\"🔐 Policies:       {summary.get('total_policies', 'N/A')} total, {summary.get('enabled_policies', 'N/A')} enabled\")\n",
    "print(f\"🛣️  Routes:         {summary.get('total_routes', 'N/A')}\")\n",
    "print(f\"🔑 Setup Keys:     {summary.get('total_setup_keys', 'N/A')} total, {summary.get('valid_setup_keys', 'N/A')} valid\")\n",
    "\n",
    "print(\"\\n✅ NetBird Python Client Demo Complete!\")"
   ]
  },
  {
   "cell_type": "markdown",
   "metadata": {},
   "source": [
    "## 🎓 Next Steps\n",
    "\n",
    "Now that you've seen the NetBird Python client in action, here are some ideas for your own projects:\n",
    "\n",
    "### 🔧 Automation Scripts\n",
    "- Automatically add new devices to specific groups\n",
    "- Monitor peer connectivity and send alerts\n",
    "- Backup and restore network configurations\n",
    "\n",
    "### 📊 Monitoring & Analytics\n",
    "- Generate network usage reports\n",
    "- Track peer connection patterns\n",
    "- Monitor policy effectiveness\n",
    "\n",
    "### 🌐 Integration Projects\n",
    "- Integrate with infrastructure automation tools\n",
    "- Build custom dashboards\n",
    "- Create API webhooks for real-time updates\n",
    "\n",
    "### 📚 Resources\n",
    "- **Documentation**: Check the `/tests/` folder for more examples\n",
    "- **API Reference**: NetBird API documentation\n",
    "- **GitHub**: Contribute to the project or report issues\n",
    "\n",
    "---\n",
    "\n",
    "**Happy networking with NetBird! 🚀**"
   ]
  },
  {
   "cell_type": "code",
   "execution_count": 28,
   "metadata": {},
   "outputs": [
    {
     "data": {
      "text/plain": [
       "[{'auto_groups': [],\n",
       "  'email': 'bhushan.rane@cloudpoet.in',\n",
       "  'id': '103489590992358909976',\n",
       "  'is_blocked': False,\n",
       "  'is_current': True,\n",
       "  'is_service_user': False,\n",
       "  'issued': 'api',\n",
       "  'last_login': '2025-07-21T16:56:05.42356783Z',\n",
       "  'name': 'Bhushan Rane',\n",
       "  'role': 'owner',\n",
       "  'status': 'active'},\n",
       " {'auto_groups': [],\n",
       "  'email': '',\n",
       "  'id': '6edb741a-5c62-40be-9143-7e514dbc7c7a',\n",
       "  'is_blocked': False,\n",
       "  'is_current': False,\n",
       "  'is_service_user': True,\n",
       "  'issued': '',\n",
       "  'last_login': '0001-01-01T00:00:00Z',\n",
       "  'name': 'terraform-admin',\n",
       "  'role': 'admin',\n",
       "  'status': 'active'},\n",
       " {'auto_groups': [],\n",
       "  'email': 'shreya.fegade@cloudpoet.in',\n",
       "  'id': '109338223303262796331',\n",
       "  'is_blocked': False,\n",
       "  'is_current': False,\n",
       "  'is_service_user': False,\n",
       "  'issued': 'api',\n",
       "  'last_login': '2025-07-07T17:35:05.689222142Z',\n",
       "  'name': 'Shreya Fegade',\n",
       "  'role': 'user',\n",
       "  'status': 'active'},\n",
       " {'auto_groups': [],\n",
       "  'email': 'mahendra.bendale@cloudpoet.in',\n",
       "  'id': '105863599789504595500',\n",
       "  'is_blocked': False,\n",
       "  'is_current': False,\n",
       "  'is_service_user': False,\n",
       "  'issued': 'api',\n",
       "  'last_login': '2025-07-10T16:26:57.076611862Z',\n",
       "  'name': 'Mahendra Bendale',\n",
       "  'role': 'admin',\n",
       "  'status': 'active'}]"
      ]
     },
     "execution_count": 28,
     "metadata": {},
     "output_type": "execute_result"
    }
   ],
   "source": [
    "users"
   ]
  },
  {
   "cell_type": "code",
   "execution_count": 29,
   "metadata": {},
   "outputs": [
    {
     "data": {
      "text/plain": [
       "[{'accessible_peers_count': 0,\n",
       "  'approval_required': False,\n",
       "  'city_name': 'Mumbai',\n",
       "  'connected': True,\n",
       "  'connection_ip': '144.24.116.110',\n",
       "  'country_code': 'IN',\n",
       "  'dns_label': 'rb-oci-k8s.netbird.selfhosted',\n",
       "  'ephemeral': False,\n",
       "  'extra_dns_labels': [],\n",
       "  'geoname_id': 1275339,\n",
       "  'groups': [{'id': 'd1ip995aofms73a23dp0',\n",
       "    'name': 'All',\n",
       "    'peers_count': 4,\n",
       "    'resources_count': 1},\n",
       "   {'id': 'd1mcn8daofms738ms6pg',\n",
       "    'name': 'rb-oci',\n",
       "    'peers_count': 1,\n",
       "    'resources_count': 2}],\n",
       "  'hostname': 'rb-oci-k8s',\n",
       "  'id': 'd1mcpadaofms738ms6r0',\n",
       "  'inactivity_expiration_enabled': False,\n",
       "  'ip': '100.107.174.91',\n",
       "  'kernel_version': '6.8.0-1025-oracle',\n",
       "  'last_login': '2025-07-08T07:45:45.868423035Z',\n",
       "  'last_seen': '2025-07-15T07:44:28.888472203Z',\n",
       "  'login_expiration_enabled': False,\n",
       "  'login_expired': False,\n",
       "  'name': 'rb-oci-k8s',\n",
       "  'os': 'Alpine Linux 3.21.3',\n",
       "  'serial_number': '',\n",
       "  'ssh_enabled': False,\n",
       "  'ui_version': '',\n",
       "  'user_id': '',\n",
       "  'version': '0.50.1'},\n",
       " {'accessible_peers_count': 0,\n",
       "  'approval_required': False,\n",
       "  'city_name': 'Pune',\n",
       "  'connected': False,\n",
       "  'connection_ip': '106.221.223.54',\n",
       "  'country_code': 'IN',\n",
       "  'dns_label': 'bhushan-rane.netbird.selfhosted',\n",
       "  'ephemeral': False,\n",
       "  'extra_dns_labels': [],\n",
       "  'geoname_id': 1259229,\n",
       "  'groups': [{'id': 'd1ip995aofms73a23dp0',\n",
       "    'name': 'All',\n",
       "    'peers_count': 4,\n",
       "    'resources_count': 1}],\n",
       "  'hostname': 'BHUSHAN-RANE.local',\n",
       "  'id': 'd1mdfelaofms738ms700',\n",
       "  'inactivity_expiration_enabled': True,\n",
       "  'ip': '100.107.206.151',\n",
       "  'kernel_version': '24.5.0',\n",
       "  'last_login': '2025-07-21T16:56:05.42356783Z',\n",
       "  'last_seen': '2025-07-21T17:09:45.41439433Z',\n",
       "  'login_expiration_enabled': True,\n",
       "  'login_expired': True,\n",
       "  'name': 'BHUSHAN-RANE.local',\n",
       "  'os': 'Darwin 15.5',\n",
       "  'serial_number': 'C02G90WCQ6LR',\n",
       "  'ssh_enabled': False,\n",
       "  'ui_version': 'netbird-desktop-ui/0.50.0',\n",
       "  'user_id': '103489590992358909976',\n",
       "  'version': '0.50.0'},\n",
       " {'accessible_peers_count': 0,\n",
       "  'approval_required': False,\n",
       "  'city_name': 'Pune',\n",
       "  'connected': False,\n",
       "  'connection_ip': '223.233.83.203',\n",
       "  'country_code': 'IN',\n",
       "  'dns_label': 'desktop-i6avtgu.netbird.selfhosted',\n",
       "  'ephemeral': False,\n",
       "  'extra_dns_labels': [],\n",
       "  'geoname_id': 1259229,\n",
       "  'groups': [{'id': 'd1ip995aofms73a23dp0',\n",
       "    'name': 'All',\n",
       "    'peers_count': 4,\n",
       "    'resources_count': 1}],\n",
       "  'hostname': 'DESKTOP-I6AVTGU',\n",
       "  'id': 'd1nujkdaofms738ms720',\n",
       "  'inactivity_expiration_enabled': True,\n",
       "  'ip': '100.107.114.89',\n",
       "  'kernel_version': '10.0.18363.719',\n",
       "  'last_login': '2025-07-10T16:26:57.076611862Z',\n",
       "  'last_seen': '2025-07-11T16:26:57.190228067Z',\n",
       "  'login_expiration_enabled': True,\n",
       "  'login_expired': True,\n",
       "  'name': 'DESKTOP-I6AVTGU',\n",
       "  'os': 'Windows 10',\n",
       "  'serial_number': '9VSH4BS',\n",
       "  'ssh_enabled': False,\n",
       "  'ui_version': 'netbird-desktop-ui/0.50.2',\n",
       "  'user_id': '105863599789504595500',\n",
       "  'version': '0.50.2'},\n",
       " {'accessible_peers_count': 0,\n",
       "  'approval_required': False,\n",
       "  'city_name': 'Pune',\n",
       "  'connected': True,\n",
       "  'connection_ip': '58.84.63.133',\n",
       "  'country_code': 'IN',\n",
       "  'dns_label': 'homelab-docker.netbird.selfhosted',\n",
       "  'ephemeral': False,\n",
       "  'extra_dns_labels': [],\n",
       "  'geoname_id': 1259229,\n",
       "  'groups': [{'id': 'd1ip995aofms73a23dp0',\n",
       "    'name': 'All',\n",
       "    'peers_count': 4,\n",
       "    'resources_count': 1},\n",
       "   {'id': 'd1mcm7taofms738ms6og',\n",
       "    'name': 'homelab',\n",
       "    'peers_count': 1,\n",
       "    'resources_count': 1}],\n",
       "  'hostname': 'homelab-docker',\n",
       "  'id': 'd211gnlaofms73c1pdbg',\n",
       "  'inactivity_expiration_enabled': False,\n",
       "  'ip': '100.107.146.58',\n",
       "  'kernel_version': '6.12.11-amd64',\n",
       "  'last_login': '2025-07-24T11:26:22.630943801Z',\n",
       "  'last_seen': '2025-07-26T23:25:28.771849315Z',\n",
       "  'login_expiration_enabled': False,\n",
       "  'login_expired': False,\n",
       "  'name': 'homelab-docker',\n",
       "  'os': 'Alpine Linux 3.21.3',\n",
       "  'serial_number': 'LR0BMQBT',\n",
       "  'ssh_enabled': False,\n",
       "  'ui_version': '',\n",
       "  'user_id': '',\n",
       "  'version': '0.50.1'}]"
      ]
     },
     "execution_count": 29,
     "metadata": {},
     "output_type": "execute_result"
    }
   ],
   "source": [
    "peers"
   ]
  },
  {
   "cell_type": "code",
   "execution_count": null,
   "metadata": {},
   "outputs": [],
   "source": []
  },
  {
   "cell_type": "code",
   "execution_count": null,
   "metadata": {},
   "outputs": [],
   "source": []
  },
  {
   "cell_type": "code",
   "execution_count": null,
   "metadata": {},
   "outputs": [],
   "source": []
  },
  {
   "cell_type": "code",
   "execution_count": null,
   "metadata": {},
   "outputs": [],
   "source": []
  },
  {
   "cell_type": "code",
   "execution_count": null,
   "metadata": {},
   "outputs": [],
   "source": []
  },
  {
   "cell_type": "code",
   "execution_count": null,
   "metadata": {},
   "outputs": [],
   "source": []
  },
  {
   "cell_type": "code",
   "execution_count": null,
   "metadata": {},
   "outputs": [],
   "source": []
  }
 ],
 "metadata": {
  "kernelspec": {
   "display_name": "Python 3 (ipykernel)",
   "language": "python",
   "name": "python3"
  },
  "language_info": {
   "codemirror_mode": {
    "name": "ipython",
    "version": 3
   },
   "file_extension": ".py",
   "mimetype": "text/x-python",
   "name": "python",
   "nbconvert_exporter": "python",
   "pygments_lexer": "ipython3",
   "version": "3.12.10"
  }
 },
 "nbformat": 4,
 "nbformat_minor": 4
}
