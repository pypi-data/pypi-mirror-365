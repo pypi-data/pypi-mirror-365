{
 "cells": [
  {
   "cell_type": "markdown",
   "metadata": {},
   "source": [
    "# Validation\n",
    "\n",
    "This page shows how different datasets (for 2024) perform at reproducing various official statistics when used with the PolicyEngine US microsimulation model.\n",
    "\n",
    "Note that the Enhanced CPS dataset is explicitly calibrated to these official statistics, so it is expected to perform well. Since these statistics are large in number and diverse, we expect this to improve the dataset's performance at predicting reform impacts."
   ]
  },
  {
   "cell_type": "code",
   "execution_count": null,
   "metadata": {},
   "outputs": [
    {
     "name": "stderr",
     "output_type": "stream",
     "text": [
      "INFO:root:Targeting Medicaid enrollment for AK with target 231577k\n",
      "INFO:root:Targeting Medicaid enrollment for AL with target 766009k\n",
      "INFO:root:Targeting Medicaid enrollment for AR with target 733561k\n",
      "INFO:root:Targeting Medicaid enrollment for AZ with target 1778734k\n",
      "INFO:root:Targeting Medicaid enrollment for CA with target 12172695k\n",
      "INFO:root:Targeting Medicaid enrollment for CO with target 1058326k\n",
      "INFO:root:Targeting Medicaid enrollment for CT with target 904321k\n",
      "INFO:root:Targeting Medicaid enrollment for DC with target 240020k\n",
      "INFO:root:Targeting Medicaid enrollment for DE with target 236840k\n",
      "INFO:root:Targeting Medicaid enrollment for FL with target 3568648k\n",
      "INFO:root:Targeting Medicaid enrollment for GA with target 1699279k\n",
      "INFO:root:Targeting Medicaid enrollment for HI with target 376318k\n",
      "INFO:root:Targeting Medicaid enrollment for IA with target 586748k\n",
      "INFO:root:Targeting Medicaid enrollment for ID with target 296968k\n",
      "INFO:root:Targeting Medicaid enrollment for IL with target 2918179k\n",
      "INFO:root:Targeting Medicaid enrollment for IN with target 1623361k\n",
      "INFO:root:Targeting Medicaid enrollment for KS with target 335902k\n",
      "INFO:root:Targeting Medicaid enrollment for KY with target 1244822k\n",
      "INFO:root:Targeting Medicaid enrollment for LA with target 1377806k\n",
      "INFO:root:Targeting Medicaid enrollment for MA with target 1453344k\n",
      "INFO:root:Targeting Medicaid enrollment for MD with target 1280697k\n",
      "INFO:root:Targeting Medicaid enrollment for ME with target 322306k\n",
      "INFO:root:Targeting Medicaid enrollment for MI with target 2194067k\n",
      "INFO:root:Targeting Medicaid enrollment for MN with target 1146667k\n",
      "INFO:root:Targeting Medicaid enrollment for MO with target 1118780k\n",
      "INFO:root:Targeting Medicaid enrollment for MS with target 514730k\n",
      "INFO:root:Targeting Medicaid enrollment for MT with target 193278k\n",
      "INFO:root:Targeting Medicaid enrollment for NC with target 2469712k\n",
      "INFO:root:Targeting Medicaid enrollment for ND with target 100543k\n",
      "INFO:root:Targeting Medicaid enrollment for NE with target 302971k\n",
      "INFO:root:Targeting Medicaid enrollment for NH with target 166813k\n",
      "INFO:root:Targeting Medicaid enrollment for NJ with target 1506239k\n",
      "INFO:root:Targeting Medicaid enrollment for NM with target 686825k\n",
      "INFO:root:Targeting Medicaid enrollment for NV with target 713936k\n",
      "INFO:root:Targeting Medicaid enrollment for NY with target 5946806k\n",
      "INFO:root:Targeting Medicaid enrollment for OH with target 2596879k\n",
      "INFO:root:Targeting Medicaid enrollment for OK with target 894911k\n",
      "INFO:root:Targeting Medicaid enrollment for OR with target 1123313k\n",
      "INFO:root:Targeting Medicaid enrollment for PA with target 2783389k\n",
      "INFO:root:Targeting Medicaid enrollment for RI with target 273400k\n",
      "INFO:root:Targeting Medicaid enrollment for SC with target 932515k\n",
      "INFO:root:Targeting Medicaid enrollment for SD with target 126952k\n",
      "INFO:root:Targeting Medicaid enrollment for TN with target 1268904k\n",
      "INFO:root:Targeting Medicaid enrollment for TX with target 3821806k\n",
      "INFO:root:Targeting Medicaid enrollment for UT with target 300742k\n",
      "INFO:root:Targeting Medicaid enrollment for VA with target 1596777k\n",
      "INFO:root:Targeting Medicaid enrollment for VT with target 151833k\n",
      "INFO:root:Targeting Medicaid enrollment for WA with target 1776116k\n",
      "INFO:root:Targeting Medicaid enrollment for WI with target 1108320k\n",
      "INFO:root:Targeting Medicaid enrollment for WV with target 467632k\n",
      "INFO:root:Targeting Medicaid enrollment for WY with target 57320k\n"
     ]
    }
   ],
   "source": [
    "from policyengine_us_data.datasets import CPS_2024, PUF_2024, EnhancedCPS_2024\n",
    "from policyengine_us_data.utils import build_loss_matrix\n",
    "from policyengine_us import Microsimulation\n",
    "import pandas as pd\n",
    "import plotly.express as px\n",
    "import numpy as np\n",
    "\n",
    "\n",
    "def compare_datasets():\n",
    "    comparison_combined = pd.DataFrame()\n",
    "    for dataset in [CPS_2024, PUF_2024, EnhancedCPS_2024]:\n",
    "        sim = Microsimulation(dataset=dataset)\n",
    "        weights = sim.calculate(\"household_weight\").values\n",
    "        loss_matrix, targets_array = build_loss_matrix(dataset, 2024)\n",
    "        target_names = loss_matrix.columns\n",
    "        estimates = weights @ loss_matrix.values\n",
    "        comparison = pd.DataFrame(\n",
    "            {\n",
    "                \"name\": target_names,\n",
    "                \"estimate\": estimates,\n",
    "                \"actual\": targets_array,\n",
    "            }\n",
    "        )\n",
    "        comparison[\"error\"] = comparison[\"estimate\"] - comparison[\"actual\"]\n",
    "        comparison[\"rel_error\"] = comparison[\"error\"] / comparison[\"actual\"]\n",
    "        comparison[\"abs_error\"] = comparison[\"error\"].abs()\n",
    "        comparison[\"abs_rel_error\"] = (\n",
    "            (comparison[\"abs_error\"] / comparison[\"actual\"].abs())\n",
    "            .replace([np.inf, -np.inf], np.nan)\n",
    "            .fillna(0)\n",
    "        )\n",
    "        comparison[\"dataset\"] = dataset.label\n",
    "        comparison_combined = pd.concat([comparison_combined, comparison])\n",
    "\n",
    "    return comparison_combined\n",
    "\n",
    "df = compare_datasets()\n",
    "\n",
    "merged = pd.merge(\n",
    "    df[df.dataset == \"CPS 2024 (2022-based)\"],\n",
    "    df[df.dataset == \"Enhanced CPS 2024\"],\n",
    "    on=[\"name\"],\n",
    "    suffixes=(\"_cps\", \"_ecps\"),\n",
    ")\n",
    "merged = pd.merge(\n",
    "    merged,\n",
    "    df[df.dataset == \"PUF 2024 (2015-based)\"].rename(columns={col: col + \"_puf\" for col in df.columns if col != \"name\"}),\n",
    "    on=[\"name\"],\n",
    ")\n",
    "import pandas as pd\n",
    "from itables import init_notebook_mode\n",
    "import itables.options as opt\n",
    "init_notebook_mode(all_interactive=True)\n",
    "opt.maxBytes = \"1MB\"\n",
    "# Set max cols to inf\n",
    "merged[\"ecps_abs_rel_error_change_over_cps\"] = merged[\"abs_rel_error_ecps\"] - merged[\"abs_rel_error_cps\"]\n",
    "merged[\"ecps_abs_rel_error_change_over_puf\"] = merged[\"abs_rel_error_ecps\"] - merged[\"abs_rel_error_puf\"]\n",
    "merged[\"ecps_abs_rel_error_change_over_prev_best\"] = merged[\"abs_rel_error_ecps\"] - np.minimum(merged[\"abs_rel_error_cps\"], merged[\"abs_rel_error_puf\"])\n",
    "pd.set_option('display.max_columns', None)\n",
    "merged.rename(columns={\n",
    "    \"actual_cps\": \"actual\"\n",
    "})[[\n",
    "    \"name\", \"actual\",\n",
    "    \"estimate_cps\",\n",
    "    \"estimate_puf\",\n",
    "    \"estimate_ecps\",\n",
    "    \"abs_rel_error_cps\",\n",
    "    \"abs_rel_error_puf\",\n",
    "    \"abs_rel_error_ecps\",\n",
    "    \"ecps_abs_rel_error_change_over_cps\",\n",
    "    \"ecps_abs_rel_error_change_over_puf\",\n",
    "    \"ecps_abs_rel_error_change_over_prev_best\",\n",
    "]]"
   ]
  },
  {
   "cell_type": "code",
   "execution_count": null,
   "metadata": {},
   "outputs": [],
   "source": [
    "from IPython.display import Markdown\n",
    "\n",
    "ecps_outperforms_puf = merged[\"ecps_abs_rel_error_change_over_puf\"] < 0\n",
    "ecps_outperforms_cps = merged[\"ecps_abs_rel_error_change_over_cps\"] < 0\n",
    "\n",
    "Markdown(f\"Overall, the ECPS outperforms the Census' CPS in **{ecps_outperforms_cps.mean():.1%}** of the targets and the IRS' PUF in **{ecps_outperforms_puf.mean():.1%}** of the targets.\")"
   ]
  },
  {
   "cell_type": "markdown",
   "metadata": {},
   "source": [
    "The below histogram shows the distribution of 'relative error change under the ECPS', comparing each metric's ECPS performance to the best of either the CPS or the PUF."
   ]
  },
  {
   "cell_type": "code",
   "execution_count": null,
   "metadata": {},
   "outputs": [],
   "source": [
    "from utils import show\n",
    "import plotly.express as px\n",
    "\n",
    "clipped = merged[\"ecps_abs_rel_error_change_over_prev_best\"].clip(-1, 1)\n",
    "\n",
    "fig = px.histogram(clipped, nbins=100, title=\"ECPS improvement over best of CPS and PUF\").update_layout(\n",
    "    xaxis_range=[-1, 1],\n",
    "    showlegend=False,\n",
    "    xaxis_title=\"Absolute relative error change\",\n",
    "    xaxis_tickformat=\".0%\",\n",
    "    yaxis_title=\"Count\",\n",
    ")\n",
    "show(fig)"
   ]
  },
  {
   "cell_type": "markdown",
   "metadata": {},
   "source": [
    "There is also a sparse model implementation of the model that was fit with L0 regularization. This was motivated by the method described in the paper [LEARNING SPARSE NEURAL NETWORKS\n",
    "THROUGH L0 REGULARIZATION](https://arxiv.org/pdf/1712.01312). An example follows."
   ]
  },
  {
   "cell_type": "code",
   "execution_count": null,
   "metadata": {},
   "outputs": [],
   "source": [
    "from policyengine_core.data import Dataset\n",
    "from policyengine_us_data.storage import STORAGE_FOLDER\n",
    "\n",
    "sparse_dataset = Dataset.from_file(STORAGE_FOLDER / \"sparse_enhanced_cps_2024.h5\")\n",
    "sparse_sim = Microsimulation(dataset=sparse_dataset)\n",
    "tip_estimate_sparse_model = sparse_sim.calculate(\"tip_income\").sum()"
   ]
  }
 ],
 "metadata": {
  "kernelspec": {
   "display_name": "Python 3 (ipykernel)",
   "language": "python",
   "name": "python3"
  },
  "language_info": {
   "codemirror_mode": {
    "name": "ipython",
    "version": 3
   },
   "file_extension": ".py",
   "mimetype": "text/x-python",
   "name": "python",
   "nbconvert_exporter": "python",
   "pygments_lexer": "ipython3",
   "version": "3.11.12"
  }
 },
 "nbformat": 4,
 "nbformat_minor": 4
}
