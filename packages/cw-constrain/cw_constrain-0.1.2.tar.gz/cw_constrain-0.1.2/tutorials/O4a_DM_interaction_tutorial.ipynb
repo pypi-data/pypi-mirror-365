{
 "cells": [
  {
   "cell_type": "markdown",
   "id": "66cf9453",
   "metadata": {},
   "source": [
    "# Constraining Dark Matter Interactions with Gravitational-Wave Detectors\n",
    "\n",
    "In this notebook, we will learn how to constrain the interaction strength of three ultralight dark matter (DM) candidates using gravitational-wave strain data:\n",
    "\n",
    "- **Scalar Dilaton Dark Matter**\n",
    "- **Dark Photon Dark Matter**\n",
    "- **Tensor Boson Dark Matter**\n",
    "\n",
    "These models leave distinctive imprints on the detector through their interactions with standard-model particles. The detector essentially oscillates at a frequency fixed by the mass of the ultralight dark matter and with an ampiltude that depends on the coupling strength between DM and the standard model. By analyzing the amplitudes of such signals (or upper limits), we can place constraints on the couplings between dark matter and Standard Model fields.\n",
    "\n",
    "## Getting Started\n",
    "\n",
    "Before running this tutorial, ensure you have the `cw_constrain` package installed and properly set up. See the `README.md` for installation instructions.\n",
    "\n",
    "Or, open in google collab: [![Open In Colab](https://colab.research.google.com/assets/colab-badge.svg)](https://colab.research.google.com/github/andrew-l-miller/cw_constrain/blob/main/tutorials/O4a_DM_interaction_tutorial.ipynb)"
   ]
  },
  {
   "cell_type": "code",
   "execution_count": null,
   "id": "a4b6b96f",
   "metadata": {},
   "outputs": [],
   "source": [
    "try:\n",
    "    import google.colab\n",
    "    IN_COLAB = True\n",
    "except ImportError:\n",
    "    IN_COLAB = False\n",
    "    \n",
    "if IN_COLAB:\n",
    "    !pip install cw-constrain\n"
   ]
  },
  {
   "cell_type": "code",
   "execution_count": null,
   "id": "9e3420a5",
   "metadata": {},
   "outputs": [],
   "source": [
    "import numpy as np\n",
    "import matplotlib.pyplot as plt\n",
    "import pandas as pd\n",
    "import matplotlib.ticker as mticker\n",
    "from cw_constrain.DM_constrain.dm_constrain import *"
   ]
  },
  {
   "cell_type": "markdown",
   "id": "a3f3d564",
   "metadata": {},
   "source": [
    "# Load upper limits on dimensionless strain amplitude $h_0$ from O4a\n",
    "\n",
    "$h_0$ is a function of mass in eV, or frequency in Hz"
   ]
  },
  {
   "cell_type": "code",
   "execution_count": 13,
   "id": "46859804",
   "metadata": {},
   "outputs": [],
   "source": [
    "file_path_ep = '/Users/andrewmiller/Desktop/O4/O4a_DM_upper_limits.txt'\n",
    "\n",
    "# Read the tab-delimited file with headers\n",
    "df = pd.read_csv(file_path_ep, delimiter='\\t')\n",
    "\n",
    "fs_ep = df['frequency (Hz)']\n",
    "ms_ep = df['mass (eV)']\n",
    "h0s_ep = df['h0']"
   ]
  },
  {
   "cell_type": "markdown",
   "id": "a9fe517e",
   "metadata": {},
   "source": [
    "## Get a sense of the upper limits"
   ]
  },
  {
   "cell_type": "markdown",
   "id": "c038cb11",
   "metadata": {},
   "source": [
    "### Exercise 1\n",
    "Make a plot of h0s_ep vs. fs_ep and ms_ep\n",
    "\n",
    "What are the minimum and maximum strain amplitudes? \n",
    "\n",
    "What displacement does that correspond to in the detector?"
   ]
  },
  {
   "cell_type": "markdown",
   "id": "a90c3925",
   "metadata": {},
   "source": [
    "## Scalar Dilaton Dark Matter\n",
    "\n",
    "In scalar dilaton models, the presence of dark matter induces oscillations in fundamental constants, such as the fine-structure constant. These variations in turn affect the optical path length of interferometers. The effect appears primarily due to the difference in thickness of the LIGO mirrors, and the fact that the beam splitter itself is changing in size. The model introduces a dimensionless coupling strength \\( \\Lambda^{-1} \\), which can be constrained by upper limits on strain."
   ]
  },
  {
   "cell_type": "code",
   "execution_count": 66,
   "id": "68ad6681",
   "metadata": {},
   "outputs": [],
   "source": [
    "lambdas = sb_get_constraint_from_h0s(fs_ep, h0s_ep,'O4a','LLO')"
   ]
  },
  {
   "cell_type": "markdown",
   "id": "cd5d06cb",
   "metadata": {},
   "source": [
    "### Exercise 2\n",
    "Make a plot of lambdas vs. fs_ep and ms_ep\n",
    "\n",
    "What are the minimum and maximum coupling strengths? "
   ]
  },
  {
   "cell_type": "markdown",
   "id": "98605ab5",
   "metadata": {},
   "source": [
    "## Dark Photon Dark Matter\n",
    "\n",
    "Dark photons couple to the baryon number of Standard Model particles, creating an oscillating force on test masses. This leads to a strain-like signature. The dimensionless coupling constant $\\epsilon$ characterizes the strength of this interaction.\n",
    "\n",
    "There is an additional effect due to the fact that light takes a finite amount of time to move from the input mirror to the end mirror. This is also called a \"common-mode motion effect\". During this time, the mirrors will have moved in response to the DM field, which enhances the strength of the DM/standard model interaction signal.\n"
   ]
  },
  {
   "cell_type": "code",
   "execution_count": 67,
   "id": "9703e93c",
   "metadata": {},
   "outputs": [],
   "source": [
    "fact_eps = dp_finite_travel_factor(ms_ep)\n",
    "\n",
    "epsilon = dp_calc_eps_from_h0(ms_ep,h0s_ep) / fact_eps"
   ]
  },
  {
   "cell_type": "markdown",
   "id": "3aface62",
   "metadata": {},
   "source": [
    "### Exercise 3\n",
    "Make a plot of epsilon vs. fs_ep and ms_ep\n",
    "\n",
    "What are the minimum and maximum coupling strengths? \n",
    "\n",
    "How much does the finite light travel time improve the limits by? Is this frequency-dependent? Why?"
   ]
  },
  {
   "cell_type": "markdown",
   "id": "219f8c9e",
   "metadata": {},
   "source": [
    "##  Tensor Boson Dark Matter\n",
    "\n",
    "Tensor bosons (massive spin-2 fields) modify spacetime geometry, directly sourcing gravitational-wave-like signals. The dimensionless coupling $\\alpha$ can be derived from strain measurements using a known dark matter energy density.\n"
   ]
  },
  {
   "cell_type": "code",
   "execution_count": 68,
   "id": "b137a7fc",
   "metadata": {},
   "outputs": [],
   "source": [
    "alpha = tb_get_constraint_from_h0s(fs_ep,h0s_ep)"
   ]
  },
  {
   "cell_type": "markdown",
   "id": "34440011",
   "metadata": {},
   "source": [
    "### Exercise 4\n",
    "Make a plot of alpha vs. fs_ep and ms_ep\n",
    "\n",
    "What are the minimum and maximum coupling strengths? \n",
    "\n",
    "How does this result compare with fifth-force constraints?"
   ]
  },
  {
   "cell_type": "markdown",
   "id": "daa5a220",
   "metadata": {},
   "source": [
    "##  Implement Your Own DM Model Function\n",
    "\n",
    "The `cw_constrain` package is modular and extensible. If you are working on a new DM candidate, you can write a function that takes in frequencies and strain amplitudes and returns the corresponding coupling strength. Use the structure of the provided `sb_`, `dp_`, and `tb_` functions as a template. Your function can live in a new submodule like `your_model_constrain.py`.\n"
   ]
  },
  {
   "cell_type": "code",
   "execution_count": null,
   "id": "22c85b94",
   "metadata": {},
   "outputs": [],
   "source": [
    "def constrain_my_DM_model(masses,h0s):\n",
    "    \"\"\"\n",
    "    User-implemented function to constrain a particular DM model given upper limits from a search.\n",
    "\n",
    "    masses: dark-matter mass array\n",
    "    h0s:    strain amplitude upper limits from a real search\n",
    "    \n",
    "    You need to compute:\n",
    "    1. How does DM interact with the GW detector?\n",
    "    2. What is the observable strain induced by the DM on the detector?\n",
    "    3. How long would the signal last?\n",
    "    4. \n",
    "        \n",
    "    \"\"\"\n",
    "    raise NotImplementedError(\"You must implement this function based on your ellipticity and/or frequency PDFs.\")\n",
    "\n",
    "    \n"
   ]
  },
  {
   "cell_type": "code",
   "execution_count": 69,
   "id": "8fe3b8d7",
   "metadata": {},
   "outputs": [
    {
     "name": "stdout",
     "output_type": "stream",
     "text": [
      "Comparing lambda_inv:\n",
      "  Max absolute difference: 8.171e-21\n",
      "  Mean absolute difference: 9.643e-23\n",
      "  Max relative difference: 9.966e-05\n",
      "  Mean relative difference: 9.966e-05\n",
      "Comparing epsilon:\n",
      "  Max absolute difference: 1.655e-24\n",
      "  Mean absolute difference: 2.321e-26\n",
      "  Max relative difference: 7.462e-04\n",
      "  Mean relative difference: 7.426e-04\n",
      "Comparing alpha:\n",
      "  Max absolute difference: 1.397e-07\n",
      "  Mean absolute difference: 1.575e-09\n",
      "  Max relative difference: 9.966e-05\n",
      "  Mean relative difference: 9.966e-05\n"
     ]
    }
   ],
   "source": [
    "# ## Verifying python functions produce same results as matlab ones\n",
    "\n",
    "# # lambda_i_inv_ep = df['lambda_inv (1/GeV)']\n",
    "# # epsilon_ep = df['epsilon']\n",
    "# # tb_alpha_ep = df['alpha']\n",
    "\n",
    "# def compare_arrays(name, actual, theor, rel_tol=1e-8, abs_tol=1e-12):\n",
    "#     ## arr2: the \"theoretical e\"\n",
    "#     diff = actual - theor\n",
    "#     rel_diff = diff / np.where(theor != 0, theor, 1)  # avoid div by zero\n",
    "\n",
    "#     print(f\"Comparing {name}:\")\n",
    "#     print(f\"  Max absolute difference: {np.max(np.abs(diff)):.3e}\")\n",
    "#     print(f\"  Mean absolute difference: {np.mean(np.abs(diff)):.3e}\")\n",
    "#     print(f\"  Max relative difference: {np.max(np.abs(rel_diff)):.3e}\")\n",
    "#     print(f\"  Mean relative difference: {np.mean(np.abs(rel_diff)):.3e}\")\n",
    "\n",
    "\n",
    "# test_lambdas = sb_get_constraint_from_h0s(fs_ep, h0s_ep,'O4a','LLO')\n",
    "\n",
    "# fact_eps,_ = dp_finite_travel_factor(ms_ep)\n",
    "\n",
    "# test_epsilon = dp_calc_eps_from_h0(ms_ep,h0s_ep) / fact_eps\n",
    "# test_alpha = tb_get_constraint_from_h0s(fs_ep,h0s_ep)\n",
    "\n",
    "\n",
    "# compare_arrays('lambda_inv', test_lambdas, df['lambda_inv (1/GeV)'])\n",
    "# compare_arrays('epsilon', test_epsilon, df['epsilon'])\n",
    "# compare_arrays('alpha', test_alpha, df['alpha'])"
   ]
  }
 ],
 "metadata": {
  "kernelspec": {
   "display_name": "Python 3 (ipykernel)",
   "language": "python",
   "name": "python3"
  },
  "language_info": {
   "codemirror_mode": {
    "name": "ipython",
    "version": 3
   },
   "file_extension": ".py",
   "mimetype": "text/x-python",
   "name": "python",
   "nbconvert_exporter": "python",
   "pygments_lexer": "ipython3",
   "version": "3.9.13"
  }
 },
 "nbformat": 4,
 "nbformat_minor": 5
}
