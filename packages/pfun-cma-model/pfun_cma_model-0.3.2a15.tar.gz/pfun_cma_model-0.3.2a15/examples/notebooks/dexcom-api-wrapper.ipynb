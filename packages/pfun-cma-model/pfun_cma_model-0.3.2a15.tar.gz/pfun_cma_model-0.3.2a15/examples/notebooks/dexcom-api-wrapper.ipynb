{
 "cells": [
  {
   "cell_type": "code",
   "execution_count": 1,
   "metadata": {},
   "outputs": [
    {
     "name": "stdout",
     "output_type": "stream",
     "text": [
      "Requirement already satisfied: flask in /home/robertc/Git/pfun-cma-model/.venv/lib/python3.10/site-packages (2.2.5)\n",
      "Requirement already satisfied: requests in /home/robertc/Git/pfun-cma-model/.venv/lib/python3.10/site-packages (2.31.0)\n",
      "Requirement already satisfied: flask_oauthlib in /home/robertc/Git/pfun-cma-model/.venv/lib/python3.10/site-packages (0.9.6)\n",
      "Requirement already satisfied: Werkzeug>=2.2.2 in /home/robertc/Git/pfun-cma-model/.venv/lib/python3.10/site-packages (from flask) (2.2.3)\n",
      "Requirement already satisfied: Jinja2>=3.0 in /home/robertc/Git/pfun-cma-model/.venv/lib/python3.10/site-packages (from flask) (3.1.2)\n",
      "Requirement already satisfied: itsdangerous>=2.0 in /home/robertc/Git/pfun-cma-model/.venv/lib/python3.10/site-packages (from flask) (2.1.2)\n",
      "Requirement already satisfied: click>=8.0 in /home/robertc/Git/pfun-cma-model/.venv/lib/python3.10/site-packages (from flask) (8.1.7)\n",
      "Requirement already satisfied: charset-normalizer<4,>=2 in /home/robertc/Git/pfun-cma-model/.venv/lib/python3.10/site-packages (from requests) (3.3.0)\n",
      "Requirement already satisfied: idna<4,>=2.5 in /home/robertc/Git/pfun-cma-model/.venv/lib/python3.10/site-packages (from requests) (3.4)\n",
      "Requirement already satisfied: urllib3<3,>=1.21.1 in /home/robertc/Git/pfun-cma-model/.venv/lib/python3.10/site-packages (from requests) (1.26.17)\n",
      "Requirement already satisfied: certifi>=2017.4.17 in /home/robertc/Git/pfun-cma-model/.venv/lib/python3.10/site-packages (from requests) (2023.7.22)\n",
      "Requirement already satisfied: oauthlib!=2.0.3,!=2.0.4,!=2.0.5,<3.0.0,>=1.1.2 in /home/robertc/Git/pfun-cma-model/.venv/lib/python3.10/site-packages (from flask_oauthlib) (2.1.0)\n",
      "Requirement already satisfied: requests-oauthlib<1.2.0,>=0.6.2 in /home/robertc/Git/pfun-cma-model/.venv/lib/python3.10/site-packages (from flask_oauthlib) (1.1.0)\n",
      "Requirement already satisfied: cachelib in /home/robertc/Git/pfun-cma-model/.venv/lib/python3.10/site-packages (from flask_oauthlib) (0.10.2)\n",
      "Requirement already satisfied: MarkupSafe>=2.0 in /home/robertc/Git/pfun-cma-model/.venv/lib/python3.10/site-packages (from Jinja2>=3.0->flask) (2.1.3)\n",
      "Note: you may need to restart the kernel to use updated packages.\n"
     ]
    }
   ],
   "source": [
    "%pip install flask requests flask_oauthlib"
   ]
  },
  {
   "cell_type": "code",
   "execution_count": 2,
   "metadata": {},
   "outputs": [],
   "source": [
    "import os\n",
    "import json\n",
    "creds = json.loads(open(os.path.expanduser('~/.credentials/dexcom_pfun-app_glucose.json')).read())\n",
    "os.environ['DEXCOM_CLIENT_ID'] = creds['client_id']\n",
    "os.environ['DEXCOM_CLIENT_SECRET'] = creds['client_secret']"
   ]
  },
  {
   "cell_type": "code",
   "execution_count": 4,
   "metadata": {},
   "outputs": [
    {
     "name": "stdout",
     "output_type": "stream",
     "text": [
      " * Serving Flask app '__main__'\n",
      " * Debug mode: on\n"
     ]
    },
    {
     "name": "stderr",
     "output_type": "stream",
     "text": [
      "\u001b[31m\u001b[1mWARNING: This is a development server. Do not use it in a production deployment. Use a production WSGI server instead.\u001b[0m\n",
      " * Running on http://127.0.0.1:5000\n",
      "\u001b[33mPress CTRL+C to quit\u001b[0m\n",
      " * Restarting with stat\n",
      "Traceback (most recent call last):\n",
      "  File \"/home/robertc/Git/pfun-cma-model/.venv/lib/python3.10/site-packages/ipykernel_launcher.py\", line 17, in <module>\n",
      "    app.launch_new_instance()\n",
      "  File \"/home/robertc/Git/pfun-cma-model/.venv/lib/python3.10/site-packages/traitlets/config/application.py\", line 1052, in launch_instance\n",
      "    app.initialize(argv)\n",
      "  File \"/home/robertc/Git/pfun-cma-model/.venv/lib/python3.10/site-packages/traitlets/config/application.py\", line 117, in inner\n",
      "    return method(app, *args, **kwargs)\n",
      "  File \"/home/robertc/Git/pfun-cma-model/.venv/lib/python3.10/site-packages/ipykernel/kernelapp.py\", line 689, in initialize\n",
      "    self.init_sockets()\n",
      "  File \"/home/robertc/Git/pfun-cma-model/.venv/lib/python3.10/site-packages/ipykernel/kernelapp.py\", line 328, in init_sockets\n",
      "    self.shell_port = self._bind_socket(self.shell_socket, self.shell_port)\n",
      "  File \"/home/robertc/Git/pfun-cma-model/.venv/lib/python3.10/site-packages/ipykernel/kernelapp.py\", line 252, in _bind_socket\n",
      "    return self._try_bind_socket(s, port)\n",
      "  File \"/home/robertc/Git/pfun-cma-model/.venv/lib/python3.10/site-packages/ipykernel/kernelapp.py\", line 228, in _try_bind_socket\n",
      "    s.bind(\"tcp://%s:%i\" % (self.ip, port))\n",
      "  File \"/home/robertc/Git/pfun-cma-model/.venv/lib/python3.10/site-packages/zmq/sugar/socket.py\", line 302, in bind\n",
      "    super().bind(addr)\n",
      "  File \"zmq/backend/cython/socket.pyx\", line 564, in zmq.backend.cython.socket.Socket.bind\n",
      "  File \"zmq/backend/cython/checkrc.pxd\", line 28, in zmq.backend.cython.checkrc._check_rc\n",
      "zmq.error.ZMQError: Address already in use (addr='tcp://127.0.0.1:9060')\n"
     ]
    },
    {
     "ename": "SystemExit",
     "evalue": "1",
     "output_type": "error",
     "traceback": [
      "An exception has occurred, use %tb to see the full traceback.\n",
      "\u001b[0;31mSystemExit\u001b[0m\u001b[0;31m:\u001b[0m 1\n"
     ]
    },
    {
     "name": "stderr",
     "output_type": "stream",
     "text": [
      "/home/robertc/Git/pfun-cma-model/.venv/lib/python3.10/site-packages/IPython/core/interactiveshell.py:3534: UserWarning: To exit: use 'exit', 'quit', or Ctrl-D.\n",
      "  warn(\"To exit: use 'exit', 'quit', or Ctrl-D.\", stacklevel=1)\n"
     ]
    }
   ],
   "source": [
    "import os\n",
    "from flask import Flask, redirect, url_for, session\n",
    "from flask_oauthlib.client import OAuth\n",
    "\n",
    "app = Flask(__name__)\n",
    "app.secret_key = 'random_secret_key'  # Change this to a random secret key\n",
    "oauth = OAuth(app)\n",
    "\n",
    "dexcom = oauth.remote_app(\n",
    "    'dexcom',\n",
    "    consumer_key=os.getenv('DEXCOM_CLIENT_ID'),\n",
    "    consumer_secret=os.getenv('DEXCOM_CLIENT_SECRET'),\n",
    "    request_token_params={\n",
    "        'redirect_uri': 'http://localhost:5000/login/authorized'\n",
    "    },\n",
    "    base_url='https://api.dexcom.com/v2/',\n",
    "    request_token_url=None,\n",
    "    access_token_method='POST',\n",
    "    access_token_url='https://api.dexcom.com/v2/oauth2/token',\n",
    "    authorize_url='https://api.dexcom.com/v2/oauth2/login'\n",
    ")\n",
    "\n",
    "@app.route('/')\n",
    "def index():\n",
    "    return 'Welcome to Dexcom Wrapper! <a href=\"/login\">Login with Dexcom</a>'\n",
    "\n",
    "@app.route('/login')\n",
    "def login():\n",
    "    return dexcom.authorize(callback=url_for('authorized', _external=True))\n",
    "\n",
    "@app.route('/login/authorized')\n",
    "def authorized():\n",
    "    response = dexcom.authorized_response()\n",
    "    if response is None or response.get('access_token') is None:\n",
    "        return 'Access denied: reason={} error={}'.format(\n",
    "            request.args['error_reason'],\n",
    "            request.args['error_description']\n",
    "        )\n",
    "\n",
    "    session['dexcom_token'] = (response['access_token'], '')\n",
    "    me = dexcom.get('users/self')\n",
    "    return 'Logged in as: {}'.format(me.data)\n",
    "\n",
    "@dexcom.tokengetter\n",
    "def get_dexcom_oauth_token():\n",
    "    return session.get('dexcom_token')\n",
    "\n",
    "if __name__ == '__main__':\n",
    "    app.run(debug=True, port=5000)\n"
   ]
  },
  {
   "cell_type": "code",
   "execution_count": null,
   "metadata": {},
   "outputs": [],
   "source": []
  }
 ],
 "metadata": {
  "kernelspec": {
   "display_name": ".venv",
   "language": "python",
   "name": "python3"
  },
  "language_info": {
   "codemirror_mode": {
    "name": "ipython",
    "version": 3
   },
   "file_extension": ".py",
   "mimetype": "text/x-python",
   "name": "python",
   "nbconvert_exporter": "python",
   "pygments_lexer": "ipython3",
   "version": "3.10.13"
  },
  "orig_nbformat": 4
 },
 "nbformat": 4,
 "nbformat_minor": 2
}
