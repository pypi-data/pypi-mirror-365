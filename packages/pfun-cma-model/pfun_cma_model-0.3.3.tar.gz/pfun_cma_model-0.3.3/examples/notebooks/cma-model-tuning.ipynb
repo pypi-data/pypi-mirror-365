{
 "cells": [
  {
   "cell_type": "code",
   "execution_count": 1,
   "metadata": {},
   "outputs": [
    {
     "name": "stdout",
     "output_type": "stream",
     "text": [
      "Requirement already satisfied: dash in /home/robbiec/.cache/pypoetry/virtualenvs/pfun-cma-model-G02tHj_2-py3.11/lib/python3.11/site-packages (2.18.2)\n",
      "Requirement already satisfied: dash-core-components in /home/robbiec/.cache/pypoetry/virtualenvs/pfun-cma-model-G02tHj_2-py3.11/lib/python3.11/site-packages (2.0.0)\n",
      "Requirement already satisfied: dash-html-components in /home/robbiec/.cache/pypoetry/virtualenvs/pfun-cma-model-G02tHj_2-py3.11/lib/python3.11/site-packages (2.0.0)\n",
      "Requirement already satisfied: Flask<3.1,>=1.0.4 in /home/robbiec/.cache/pypoetry/virtualenvs/pfun-cma-model-G02tHj_2-py3.11/lib/python3.11/site-packages (from dash) (3.0.3)\n",
      "Requirement already satisfied: Werkzeug<3.1 in /home/robbiec/.cache/pypoetry/virtualenvs/pfun-cma-model-G02tHj_2-py3.11/lib/python3.11/site-packages (from dash) (3.0.6)\n",
      "Requirement already satisfied: plotly>=5.0.0 in /home/robbiec/.cache/pypoetry/virtualenvs/pfun-cma-model-G02tHj_2-py3.11/lib/python3.11/site-packages (from dash) (5.24.1)\n",
      "Requirement already satisfied: dash-table==5.0.0 in /home/robbiec/.cache/pypoetry/virtualenvs/pfun-cma-model-G02tHj_2-py3.11/lib/python3.11/site-packages (from dash) (5.0.0)\n",
      "Requirement already satisfied: importlib-metadata in /home/robbiec/.cache/pypoetry/virtualenvs/pfun-cma-model-G02tHj_2-py3.11/lib/python3.11/site-packages (from dash) (8.7.0)\n",
      "Requirement already satisfied: typing-extensions>=4.1.1 in /home/robbiec/.cache/pypoetry/virtualenvs/pfun-cma-model-G02tHj_2-py3.11/lib/python3.11/site-packages (from dash) (4.13.2)\n",
      "Requirement already satisfied: requests in /home/robbiec/.cache/pypoetry/virtualenvs/pfun-cma-model-G02tHj_2-py3.11/lib/python3.11/site-packages (from dash) (2.32.3)\n",
      "Requirement already satisfied: retrying in /home/robbiec/.cache/pypoetry/virtualenvs/pfun-cma-model-G02tHj_2-py3.11/lib/python3.11/site-packages (from dash) (1.3.4)\n",
      "Requirement already satisfied: nest-asyncio in /home/robbiec/.cache/pypoetry/virtualenvs/pfun-cma-model-G02tHj_2-py3.11/lib/python3.11/site-packages (from dash) (1.6.0)\n",
      "Requirement already satisfied: setuptools in /home/robbiec/.cache/pypoetry/virtualenvs/pfun-cma-model-G02tHj_2-py3.11/lib/python3.11/site-packages (from dash) (68.2.2)\n",
      "Requirement already satisfied: Jinja2>=3.1.2 in /home/robbiec/.cache/pypoetry/virtualenvs/pfun-cma-model-G02tHj_2-py3.11/lib/python3.11/site-packages (from Flask<3.1,>=1.0.4->dash) (3.1.6)\n",
      "Requirement already satisfied: itsdangerous>=2.1.2 in /home/robbiec/.cache/pypoetry/virtualenvs/pfun-cma-model-G02tHj_2-py3.11/lib/python3.11/site-packages (from Flask<3.1,>=1.0.4->dash) (2.2.0)\n",
      "Requirement already satisfied: click>=8.1.3 in /home/robbiec/.cache/pypoetry/virtualenvs/pfun-cma-model-G02tHj_2-py3.11/lib/python3.11/site-packages (from Flask<3.1,>=1.0.4->dash) (8.2.1)\n",
      "Requirement already satisfied: blinker>=1.6.2 in /home/robbiec/.cache/pypoetry/virtualenvs/pfun-cma-model-G02tHj_2-py3.11/lib/python3.11/site-packages (from Flask<3.1,>=1.0.4->dash) (1.9.0)\n",
      "Requirement already satisfied: MarkupSafe>=2.1.1 in /home/robbiec/.cache/pypoetry/virtualenvs/pfun-cma-model-G02tHj_2-py3.11/lib/python3.11/site-packages (from Werkzeug<3.1->dash) (3.0.2)\n",
      "Requirement already satisfied: tenacity>=6.2.0 in /home/robbiec/.cache/pypoetry/virtualenvs/pfun-cma-model-G02tHj_2-py3.11/lib/python3.11/site-packages (from plotly>=5.0.0->dash) (9.1.2)\n",
      "Requirement already satisfied: packaging in /home/robbiec/.cache/pypoetry/virtualenvs/pfun-cma-model-G02tHj_2-py3.11/lib/python3.11/site-packages (from plotly>=5.0.0->dash) (25.0)\n",
      "Requirement already satisfied: zipp>=3.20 in /home/robbiec/.cache/pypoetry/virtualenvs/pfun-cma-model-G02tHj_2-py3.11/lib/python3.11/site-packages (from importlib-metadata->dash) (3.22.0)\n",
      "Requirement already satisfied: charset-normalizer<4,>=2 in /home/robbiec/.cache/pypoetry/virtualenvs/pfun-cma-model-G02tHj_2-py3.11/lib/python3.11/site-packages (from requests->dash) (3.4.2)\n",
      "Requirement already satisfied: idna<4,>=2.5 in /home/robbiec/.cache/pypoetry/virtualenvs/pfun-cma-model-G02tHj_2-py3.11/lib/python3.11/site-packages (from requests->dash) (3.10)\n",
      "Requirement already satisfied: urllib3<3,>=1.21.1 in /home/robbiec/.cache/pypoetry/virtualenvs/pfun-cma-model-G02tHj_2-py3.11/lib/python3.11/site-packages (from requests->dash) (2.4.0)\n",
      "Requirement already satisfied: certifi>=2017.4.17 in /home/robbiec/.cache/pypoetry/virtualenvs/pfun-cma-model-G02tHj_2-py3.11/lib/python3.11/site-packages (from requests->dash) (2025.4.26)\n",
      "Requirement already satisfied: six>=1.7.0 in /home/robbiec/.cache/pypoetry/virtualenvs/pfun-cma-model-G02tHj_2-py3.11/lib/python3.11/site-packages (from retrying->dash) (1.17.0)\n",
      "Note: you may need to restart the kernel to use updated packages.\n"
     ]
    }
   ],
   "source": [
    "%pip install dash dash-core-components dash-html-components"
   ]
  },
  {
   "cell_type": "markdown",
   "metadata": {},
   "source": [
    "# CMA Model Tuning"
   ]
  },
  {
   "cell_type": "code",
   "execution_count": 4,
   "metadata": {},
   "outputs": [
    {
     "name": "stderr",
     "output_type": "stream",
     "text": [
      "2025-05-31 17:30:25,702 - WARNING - Failed to append package path to sys.path. Please check your package name and directory location.\n"
     ]
    },
    {
     "name": "stdout",
     "output_type": "stream",
     "text": [
      "Dash is running on http://0.0.0.0:8050/\n",
      "\n"
     ]
    },
    {
     "name": "stderr",
     "output_type": "stream",
     "text": [
      "2025-05-31 17:30:26,692 - INFO - Dash is running on http://0.0.0.0:8050/\n",
      "\n"
     ]
    },
    {
     "name": "stdout",
     "output_type": "stream",
     "text": [
      " * Serving Flask app 'ui'\n",
      " * Debug mode: on\n"
     ]
    },
    {
     "name": "stderr",
     "output_type": "stream",
     "text": [
      "Address already in use\n",
      "Port 8050 is in use by another program. Either identify and stop that program, or start the server with a different port.\n"
     ]
    },
    {
     "ename": "CalledProcessError",
     "evalue": "Command 'b'\\npython ../dash_ui/ui.py\\n'' returned non-zero exit status 1.",
     "output_type": "error",
     "traceback": [
      "\u001b[0;31m---------------------------------------------------------------------------\u001b[0m",
      "\u001b[0;31mCalledProcessError\u001b[0m                        Traceback (most recent call last)",
      "Cell \u001b[0;32mIn[4], line 1\u001b[0m\n\u001b[0;32m----> 1\u001b[0m \u001b[43mget_ipython\u001b[49m\u001b[43m(\u001b[49m\u001b[43m)\u001b[49m\u001b[38;5;241;43m.\u001b[39;49m\u001b[43mrun_cell_magic\u001b[49m\u001b[43m(\u001b[49m\u001b[38;5;124;43m'\u001b[39;49m\u001b[38;5;124;43msh\u001b[39;49m\u001b[38;5;124;43m'\u001b[39;49m\u001b[43m,\u001b[49m\u001b[43m \u001b[49m\u001b[38;5;124;43m'\u001b[39;49m\u001b[38;5;124;43m'\u001b[39;49m\u001b[43m,\u001b[49m\u001b[43m \u001b[49m\u001b[38;5;124;43m'\u001b[39;49m\u001b[38;5;130;43;01m\\n\u001b[39;49;00m\u001b[38;5;124;43mpython ../dash_ui/ui.py\u001b[39;49m\u001b[38;5;130;43;01m\\n\u001b[39;49;00m\u001b[38;5;124;43m'\u001b[39;49m\u001b[43m)\u001b[49m\n",
      "File \u001b[0;32m~/.cache/pypoetry/virtualenvs/pfun-cma-model-G02tHj_2-py3.11/lib/python3.11/site-packages/IPython/core/interactiveshell.py:2543\u001b[0m, in \u001b[0;36mInteractiveShell.run_cell_magic\u001b[0;34m(self, magic_name, line, cell)\u001b[0m\n\u001b[1;32m   2541\u001b[0m \u001b[38;5;28;01mwith\u001b[39;00m \u001b[38;5;28mself\u001b[39m\u001b[38;5;241m.\u001b[39mbuiltin_trap:\n\u001b[1;32m   2542\u001b[0m     args \u001b[38;5;241m=\u001b[39m (magic_arg_s, cell)\n\u001b[0;32m-> 2543\u001b[0m     result \u001b[38;5;241m=\u001b[39m \u001b[43mfn\u001b[49m\u001b[43m(\u001b[49m\u001b[38;5;241;43m*\u001b[39;49m\u001b[43margs\u001b[49m\u001b[43m,\u001b[49m\u001b[43m \u001b[49m\u001b[38;5;241;43m*\u001b[39;49m\u001b[38;5;241;43m*\u001b[39;49m\u001b[43mkwargs\u001b[49m\u001b[43m)\u001b[49m\n\u001b[1;32m   2545\u001b[0m \u001b[38;5;66;03m# The code below prevents the output from being displayed\u001b[39;00m\n\u001b[1;32m   2546\u001b[0m \u001b[38;5;66;03m# when using magics with decorator @output_can_be_silenced\u001b[39;00m\n\u001b[1;32m   2547\u001b[0m \u001b[38;5;66;03m# when the last Python token in the expression is a ';'.\u001b[39;00m\n\u001b[1;32m   2548\u001b[0m \u001b[38;5;28;01mif\u001b[39;00m \u001b[38;5;28mgetattr\u001b[39m(fn, magic\u001b[38;5;241m.\u001b[39mMAGIC_OUTPUT_CAN_BE_SILENCED, \u001b[38;5;28;01mFalse\u001b[39;00m):\n",
      "File \u001b[0;32m~/.cache/pypoetry/virtualenvs/pfun-cma-model-G02tHj_2-py3.11/lib/python3.11/site-packages/IPython/core/magics/script.py:159\u001b[0m, in \u001b[0;36mScriptMagics._make_script_magic.<locals>.named_script_magic\u001b[0;34m(line, cell)\u001b[0m\n\u001b[1;32m    157\u001b[0m \u001b[38;5;28;01melse\u001b[39;00m:\n\u001b[1;32m    158\u001b[0m     line \u001b[38;5;241m=\u001b[39m script\n\u001b[0;32m--> 159\u001b[0m \u001b[38;5;28;01mreturn\u001b[39;00m \u001b[38;5;28;43mself\u001b[39;49m\u001b[38;5;241;43m.\u001b[39;49m\u001b[43mshebang\u001b[49m\u001b[43m(\u001b[49m\u001b[43mline\u001b[49m\u001b[43m,\u001b[49m\u001b[43m \u001b[49m\u001b[43mcell\u001b[49m\u001b[43m)\u001b[49m\n",
      "File \u001b[0;32m~/.cache/pypoetry/virtualenvs/pfun-cma-model-G02tHj_2-py3.11/lib/python3.11/site-packages/IPython/core/magics/script.py:336\u001b[0m, in \u001b[0;36mScriptMagics.shebang\u001b[0;34m(self, line, cell)\u001b[0m\n\u001b[1;32m    331\u001b[0m \u001b[38;5;28;01mif\u001b[39;00m args\u001b[38;5;241m.\u001b[39mraise_error \u001b[38;5;129;01mand\u001b[39;00m p\u001b[38;5;241m.\u001b[39mreturncode \u001b[38;5;241m!=\u001b[39m \u001b[38;5;241m0\u001b[39m:\n\u001b[1;32m    332\u001b[0m     \u001b[38;5;66;03m# If we get here and p.returncode is still None, we must have\u001b[39;00m\n\u001b[1;32m    333\u001b[0m     \u001b[38;5;66;03m# killed it but not yet seen its return code. We don't wait for it,\u001b[39;00m\n\u001b[1;32m    334\u001b[0m     \u001b[38;5;66;03m# in case it's stuck in uninterruptible sleep. -9 = SIGKILL\u001b[39;00m\n\u001b[1;32m    335\u001b[0m     rc \u001b[38;5;241m=\u001b[39m p\u001b[38;5;241m.\u001b[39mreturncode \u001b[38;5;129;01mor\u001b[39;00m \u001b[38;5;241m-\u001b[39m\u001b[38;5;241m9\u001b[39m\n\u001b[0;32m--> 336\u001b[0m     \u001b[38;5;28;01mraise\u001b[39;00m CalledProcessError(rc, cell)\n",
      "\u001b[0;31mCalledProcessError\u001b[0m: Command 'b'\\npython ../dash_ui/ui.py\\n'' returned non-zero exit status 1."
     ]
    }
   ],
   "source": [
    "%%sh\n",
    "\n",
    "python ../dash_ui/ui.py"
   ]
  },
  {
   "cell_type": "code",
   "execution_count": null,
   "metadata": {},
   "outputs": [],
   "source": []
  }
 ],
 "metadata": {
  "kernelspec": {
   "display_name": "pfun-cma-model-G02tHj_2-py3.11",
   "language": "python",
   "name": "python3"
  },
  "language_info": {
   "codemirror_mode": {
    "name": "ipython",
    "version": 3
   },
   "file_extension": ".py",
   "mimetype": "text/x-python",
   "name": "python",
   "nbconvert_exporter": "python",
   "pygments_lexer": "ipython3",
   "version": "3.11.2"
  },
  "orig_nbformat": 4
 },
 "nbformat": 4,
 "nbformat_minor": 2
}
