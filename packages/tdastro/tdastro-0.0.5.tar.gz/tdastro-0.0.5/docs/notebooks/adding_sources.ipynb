{
 "cells": [
  {
   "cell_type": "markdown",
   "metadata": {},
   "source": [
    "# Adding New Sources\n",
    "\n",
    "A major goal of TDAstro is to be easily extensible so that users can create and analyze their own source models. In this tutorial we look at how a user can add a custom source to simulate an astronomical phenomenon that is not already supported by TDAstro. \n",
    "\n",
    "## Creating a new model node\n",
    "\n",
    "All sources are subclasses of the `PhysicalModel` class in `src/tdastro/sources/physical_models.py`. This class implements a bunch of helper functions to handle parameters and simulate the output of an object, but users only need to override two of them to create a new subclass:\n",
    "\n",
    "  * The `__init__()` method sets up the parameters.\n",
    "  * The `compute_flux()` draws effect-free observations for the object in the object's rest frame.\n",
    "\n",
    "If the object has a redshift value, the `PhysicalModel` class takes care of accounting for the shift in both times and wavelengths from the observer's frame to the rest frame (and back). So each source only needs to worry about generating fluxes in their rest frame.\n",
    "\n",
    "Similarly effects are applied within the `PhysicalModel` helper functions, so you do not need to worry about calling them from `compute_flux()`.\n",
    "\n",
    "### Parameterization\n",
    "\n",
    "As discussed in the introduction_demo notebook, all nodes in TDAStro accept dynamic parameterization. These are parameters that change with each sampling run. For example if we have a node modeling the source's output as a sin wave, we may want to include two parameters: the peak `brightness` of the object and the `frequency` of the underlying wave.  We specify both of these parameters with the `ParameterizedNode`'s `add_parameter()` function. Behind the scenes this function does the heavy lifting to understand how the parameter is actually set during each run (from a constant, another `ParameterizedNode`, the computation of a function, etc.).\n",
    "\n",
    "### Example Model Node\n",
    "\n",
    "Consider the example below, which implements the sin wave model.  There are some details in the implementation below that we do not cover immediately (such as the `get_local_params()` function), but will describe below. "
   ]
  },
  {
   "cell_type": "code",
   "execution_count": null,
   "metadata": {},
   "outputs": [],
   "source": [
    "import numpy as np\n",
    "\n",
    "from tdastro.sources.physical_model import PhysicalModel\n",
    "\n",
    "\n",
    "class SinSource(PhysicalModel):\n",
    "    \"\"\"A source that emits a sine wave:\n",
    "\n",
    "    flux = brightness * sin(2 * pi * frequency * (time - t0))\n",
    "\n",
    "    Parameters\n",
    "    ----------\n",
    "    brightness : `float`\n",
    "        The inherent brightness\n",
    "    frequency : `float`\n",
    "        The frequence of the sine wave.\n",
    "    **kwargs : `dict`, optional\n",
    "        Any additional keyword arguments.\n",
    "    \"\"\"\n",
    "\n",
    "    def __init__(self, brightness, frequency, **kwargs):\n",
    "        super().__init__(**kwargs)\n",
    "        self.add_parameter(\"brightness\", brightness, **kwargs)\n",
    "        self.add_parameter(\"frequency\", frequency, **kwargs)\n",
    "\n",
    "    def compute_flux(self, times, wavelengths, graph_state, **kwargs):\n",
    "        \"\"\"Draw effect-free observations for this object.\n",
    "\n",
    "        Parameters\n",
    "        ----------\n",
    "        times : `numpy.ndarray`\n",
    "            A length T array of rest frame timestamps.\n",
    "        wavelengths : `numpy.ndarray`, optional\n",
    "            A length N array of wavelengths (in angstroms).\n",
    "        graph_state : `GraphState`\n",
    "            An object mapping graph parameters to their values.\n",
    "        **kwargs : `dict`, optional\n",
    "            Any additional keyword arguments.\n",
    "\n",
    "        Returns\n",
    "        -------\n",
    "        flux_density : `numpy.ndarray`\n",
    "            A length T x N matrix of SED values (in nJy).\n",
    "        \"\"\"\n",
    "        params = self.get_local_params(graph_state)\n",
    "        phases = 2.0 * np.pi * params[\"frequency\"] * (times - params[\"t0\"])\n",
    "        single_wave = params[\"brightness\"] * np.sin(phases)\n",
    "        return np.tile(single_wave[:, np.newaxis], (1, len(wavelengths)))"
   ]
  },
  {
   "cell_type": "markdown",
   "metadata": {},
   "source": [
    "As described above, the `__init__()` function adds two parameters `brightness` and `frequency`. These are set from the input arguments of the same name, but, as we will see below, could be set by a variety of inputs. In each parameterized node inherits the parameters set by its parent node. For the `PhysicalModel` class this includes: `dec`, `distance`, `ra`, `redshift`, `t0`, and `white_noise_sigma`.\n",
    "\n",
    "We can create a model node and request information about its settable parameters."
   ]
  },
  {
   "cell_type": "code",
   "execution_count": null,
   "metadata": {},
   "outputs": [],
   "source": [
    "model = SinSource(brightness=15.0, frequency=1.0, t0=0.0)\n",
    "print(model.list_params())"
   ]
  },
  {
   "cell_type": "markdown",
   "metadata": {},
   "source": [
    "### Accessing a Node's Parameters\n",
    "\n",
    "Each `ParameterizedNode` is stateless by design, so it does **not** store the values for any of its parameters. Instead it stores information on how to get those values when sampled. Thus the `compute_flux()` function must take a `GraphState` object that contains the parameter information. This is usually generated with a call to `sample_parameters()`, but will also be automatically generated internally if the `evaluate()` function is called without this information.\n",
    "\n",
    "The `compute_flux()` function can use the `self.get_local_params(graph_state)` to extract the current node's parameters from the `GraphState` object. This function returns a dictionary mapping the parameter's name to its value.\n",
    "\n",
    "### Evaluating the Node\n",
    "\n",
    "The actual evaluation (computation of the SED) of the source occurs through the object's `evaluate()` function, which internally calls the `compute_flux()` function. Users of the node should call `evaluate()` since that function performs the necessary pre- and post- computations, such as shifting the wavelengths according to the redshift. The developer of a new source only needs to implement the `compute_flux()` function, though.\n",
    "\n",
    "**Note:** TDAstro is set up to be modular with the foundation code performing most of the heavy listing. This includes most of the functions in `PhysicalModel`, because the base class is set up to consistently apply transformations and effects to all its subclasses.  New effects can be added by creating new subclasses of `EffectModel`. Thus the developers of new sources should avoid overloading or modifying the `evaluate()` function unless they need to fundamentally change how effects are applied."
   ]
  },
  {
   "cell_type": "code",
   "execution_count": null,
   "metadata": {},
   "outputs": [],
   "source": [
    "import matplotlib.pyplot as plt\n",
    "\n",
    "times = np.arange(0, 4.0, 0.1)\n",
    "wavelengths = np.array([100.0, 200.0])\n",
    "\n",
    "values = model.evaluate(times, wavelengths)\n",
    "\n",
    "plt.plot(times, values[:, 0], color=\"blue\", marker=\"o\", linewidth=0)\n",
    "plt.plot(times, 15.0 * np.sin(2.0 * np.pi * times), color=\"black\", linewidth=1, linestyle=\"--\", markersize=0)\n",
    "plt.xlabel(\"Time\")\n",
    "plt.ylabel(\"Flux Density\")"
   ]
  },
  {
   "cell_type": "markdown",
   "metadata": {},
   "source": [
    "Here our new `SinSource` is sampling the parameters to create a `GraphState` object and then passing that through to `compute_flux()` to produce a T by W matrix where T is the number of times to sample and W is the number of wavelengths to sample.\n",
    "\n",
    "If our node's parameters are not constant, such as brightness being generated randomly [10.0, 11.0], then we will get different results each time we call `evaluate()`.\n",
    "\n",
    "Next we use TDAstro's built-in `NumpyRandomFunc` node to generate the input for another node's parameter. The underlying source is still the same `SinSource` class. However we have changed how we specify the parameter. Instead of assigning a constant, we assign the **output** of another node. In this case, the `NumpyRandomFunc` node wraps numpy's random number generator and returns samples from it. As shown in the plot each of the samples comes from a sin wave with a different brightness (max value) and frequency.  The legend shows the values for each curve."
   ]
  },
  {
   "cell_type": "code",
   "execution_count": null,
   "metadata": {},
   "outputs": [],
   "source": [
    "from tdastro.math_nodes.np_random import NumpyRandomFunc\n",
    "\n",
    "model = SinSource(\n",
    "    brightness=NumpyRandomFunc(\"uniform\", low=10.0, high=20.0),\n",
    "    frequency=NumpyRandomFunc(\"uniform\", low=0.5, high=1.5),\n",
    "    t0=0.0,\n",
    "    node_label=\"model\",\n",
    ")\n",
    "\n",
    "# Plot three random draws from the model\n",
    "for color in [\"blue\", \"red\", \"green\"]:\n",
    "    sample = model.sample_parameters()\n",
    "\n",
    "    # Extract the sampled parameters to use in the legend\n",
    "    brightness = sample[\"model\"][\"brightness\"]\n",
    "    frequency = sample[\"model\"][\"frequency\"]\n",
    "\n",
    "    # Evaluate the model (using the sampled parameters) and plot the result.\n",
    "    values = model.evaluate(times, wavelengths, sample)\n",
    "    plt.plot(\n",
    "        times,\n",
    "        values[:, 0],\n",
    "        color=color,\n",
    "        marker=\"o\",\n",
    "        linewidth=0,\n",
    "        label=f\"b={brightness:.2f}, f={frequency:.2f}\",\n",
    "    )\n",
    "    plt.plot(\n",
    "        times,\n",
    "        brightness * np.sin(2.0 * np.pi * frequency * times),\n",
    "        color=color,\n",
    "        linewidth=1,\n",
    "        linestyle=\"--\",\n",
    "        markersize=0,\n",
    "    )\n",
    "plt.legend()\n",
    "plt.xlabel(\"Time\")\n",
    "plt.ylabel(\"Flux Density\")"
   ]
  },
  {
   "cell_type": "markdown",
   "metadata": {},
   "source": [
    "## Using Internal Functions\n",
    "\n",
    "In the last example above, we used the `NumpyRandomFunc` node to generate a uniform value from [10.0, 11.0]. This provides an example of how nodes in the graph can depend on each other. But what about cases where some information in the node depends on other information provided to the node?\n",
    "\n",
    "An example of this might be a model of an AGN where the parameterization depends on the mass of the central blackhole (`blackhole_mass`).  We define another parameter as a function of that given parameter: `accretion_rate` is computed from the blackhole mass. For this second parameter, we feed information from other parameters into a function and return the result. \n",
    "\n",
    "TDAstro's `FunctionNode` class provides a wrapper for such functions. The constructor takes in the function and a list of parameters. It can then be referenced directly to use its output to set parameters in other parts of the model. While the function we show below is simple (only one variable), we can use these types of function nodes to capture complex interactions.  For example the `PhysicalModel` function has the ability to compute an estimated distance from a given redshift and cosmological model."
   ]
  },
  {
   "cell_type": "code",
   "execution_count": null,
   "metadata": {},
   "outputs": [],
   "source": [
    "from astropy import constants\n",
    "\n",
    "from tdastro.base_models import FunctionNode\n",
    "\n",
    "\n",
    "class ToyAGN(PhysicalModel):\n",
    "    \"\"\"A toy AGN model.\n",
    "\n",
    "    Parameters\n",
    "    ----------\n",
    "    blackhole_mass : float\n",
    "        The black hole mass in g.\n",
    "    **kwargs : `dict`, optional\n",
    "        Any additional keyword arguments.\n",
    "    \"\"\"\n",
    "\n",
    "    def __init__(self, blackhole_mass, **kwargs):\n",
    "        super().__init__(**kwargs)\n",
    "\n",
    "        # Add the given parameters.\n",
    "        self.add_parameter(\"blackhole_mass\", blackhole_mass, **kwargs)\n",
    "\n",
    "        # Add the derived parameters using FunctionNodes built from the object's methods.\n",
    "        # Each of these will be computed for each sample value of the input parameters.\n",
    "        self.add_parameter(\n",
    "            \"accretion_rate\",\n",
    "            FunctionNode(self._compute_accretion_rate, blackhole_mass=self.blackhole_mass),\n",
    "            **kwargs,\n",
    "        )\n",
    "\n",
    "    def _compute_accretion_rate(self, blackhole_mass):\n",
    "        return 1.4e18 * blackhole_mass / constants.M_sun.cgs.value\n",
    "\n",
    "    def compute_flux(self, times, wavelengths, graph_state, **kwargs):\n",
    "        \"\"\"Draw effect-free observations for this object.\n",
    "\n",
    "        Parameters\n",
    "        ----------\n",
    "        times : `numpy.ndarray`\n",
    "            A length T array of rest frame timestamps.\n",
    "        wavelengths : `numpy.ndarray`, optional\n",
    "            A length N array of wavelengths (in angstroms).\n",
    "        graph_state : `GraphState`\n",
    "            An object mapping graph parameters to their values.\n",
    "        **kwargs : `dict`, optional\n",
    "            Any additional keyword arguments.\n",
    "\n",
    "        Returns\n",
    "        -------\n",
    "        flux_density : `numpy.ndarray`\n",
    "            A length T x N matrix of SED values (in nJy).\n",
    "        \"\"\"\n",
    "        params = self.get_local_params(graph_state)\n",
    "        return np.full((len(times), len(wavelengths)), params[\"accretion_rate\"])"
   ]
  },
  {
   "cell_type": "markdown",
   "metadata": {},
   "source": [
    "To see how this works, let's create a model where the blackhole mass is generated using a Gaussian distribution (centered on 1000x the sun's mass with a standard deviation of 50) and look at the sampled parameters."
   ]
  },
  {
   "cell_type": "code",
   "execution_count": null,
   "metadata": {},
   "outputs": [],
   "source": [
    "agn_model = ToyAGN(\n",
    "    blackhole_mass=NumpyRandomFunc(\n",
    "        \"normal\", loc=1000.0 * constants.M_sun.cgs.value, scale=50.0 * constants.M_sun.cgs.value\n",
    "    ),\n",
    "    node_label=\"toy_agn\",\n",
    ")\n",
    "\n",
    "samples = agn_model.sample_parameters(num_samples=5)\n",
    "print(samples)"
   ]
  },
  {
   "cell_type": "markdown",
   "metadata": {},
   "source": [
    "What we see in the output is list of nodes, each with a corresponding list of parameters with one entry for each sample. The entries under the node=`toy_agn` and parameter=`blackhole_mass` show the five **independent** samples generated for the blackhole mass by the Gaussian function. Each of these serves as top level input to the model.  Note that some of the parameters are `None`, such as the source's RA, dec, distance, and redshift, because we did not set them.\n",
    "\n",
    "In contrast to parameters like `blackhole_mass` which are generated independently from a Gaussian, other parameters are generated conditioned on existing parameters in the model. Consider the relationship between the input data and the accretion rate. From the `_compute_accretion_rate()` function, we can see that the accretion rate is proportional to the blackhole mass.  The values of each `accretion_rate` sample is set **deterministically** from the corresponding sample of the `blackhole_mass`. In other words, the parameters for each sample are mathematically consistent within the sample.\n",
    "\n",
    "Note that in addition to explicitly provided parameters we can see inherited parameters (e.g. `toy_agn.ra`) and internal bookkeeping parameters. An example of the latter type is the parameter `function_node_result` which stores a function's computed results so it can be passed to later nodes."
   ]
  },
  {
   "cell_type": "markdown",
   "metadata": {},
   "source": [
    "## More Complex Compute Functions\n",
    "\n",
    "The heart of each source is it's `compute_flux()` function, which determines how the node is actually simulated.\n",
    "\n",
    "While the examples above are relatively simplistic (a sin wave or a constant output), we can made arbitrarily complicated sources. We suggest that developers of new models to look at the examples in `src/tdastro/sources/` for examples."
   ]
  }
 ],
 "metadata": {
  "kernelspec": {
   "display_name": "tdastro",
   "language": "python",
   "name": "python3"
  },
  "language_info": {
   "codemirror_mode": {
    "name": "ipython",
    "version": 3
   },
   "file_extension": ".py",
   "mimetype": "text/x-python",
   "name": "python",
   "nbconvert_exporter": "python",
   "pygments_lexer": "ipython3",
   "version": "3.10.4"
  }
 },
 "nbformat": 4,
 "nbformat_minor": 2
}
