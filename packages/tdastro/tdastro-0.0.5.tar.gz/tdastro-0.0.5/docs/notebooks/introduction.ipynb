{
 "cells": [
  {
   "cell_type": "markdown",
   "metadata": {},
   "source": [
    "# Introduction\n",
    "\n",
    "TDAstro is a package for large-scale, time-domain forward-modeling of astronomical light curve data. Simulations incorporate realistic effects, including survey cadence, dust extinction, and instrument noise models. TDAstro is designed to enable user extensibility, such as adding new source models, effects, and instruments, while ensuring scalability.\n",
    "\n",
    "In this tutorial, we discuss the overall flow of TDAstro and how to use it to run simulations. The goal is to get a new user started and allow them to explore the package.\n",
    "\n",
    "Later tutorials cover topics in more depth, including:\n",
    "  - Sampling Parameters (sampling.ipynb) - Provides an introduction to parameters and how they are sampled within a simulation run.\n",
    "  - Adding new source types (adding_sources.ipynb) - Provides a more in-depth discussion of ``PhysicalModel`` subclasses and how to add new sources.\n",
    "  - Add new effect types (addings_effects.ipynb) - Provides a discussion of the ``EffectModel`` class, how it is used, and how to create new subclasses.\n",
    "  - Working directly with passbands (passband-demo.ipynb)\n",
    "  - Working directly with OpSims (opsim_notebook.ipynb)\n",
    "\n",
    "## Program Flow\n",
    "\n",
    "TDAstro generates synthetic light curves using the flow shown in the illustration below. A `PhysicalModel` (the model of a source) and information about the parameter distributions is used to sample fake sources. These are combined with information from an `OpSim` (or other survey information) to generate sample flux densities at a given set of times and wavelengths (or passbands), accounting for effects such as redshift. The simulator also applies other relevant effects to the rest frame flux densities (e.g. dust extinction) and the observer frame flux densities (detector noise). At the end the code outputs a series of samples."
   ]
  },
  {
   "cell_type": "code",
   "execution_count": null,
   "metadata": {},
   "outputs": [],
   "source": [
    "from IPython.display import Image\n",
    "\n",
    "Image(\"../_static/tdastro-intro.png\")"
   ]
  },
  {
   "cell_type": "markdown",
   "metadata": {},
   "source": [
    "## Sources\n",
    "\n",
    "All light curves are generated from source objects that are a subclass of the `PhysicalModel` class. These source objects provide mechanisms for:\n",
    "  - Sampling their parameters from given distributions,\n",
    "  - Generating flux densities at given times and wavelengths (or passbands), and\n",
    "  - Applying noise and other effects to the observations.\n",
    "\n",
    "A major goal of TDAstro is to be easily extensible so that users can create and analyze their own source models. See the `adding_sources.ipynb` notebook for examples of how to add a new type of source.\n",
    "\n",
    "Each \"sample\" of the data consists of a new sampling of the source's parameters and a generation of flux densities from those parameters. Thus, when a user generates a hundred samples, they are generating 100 light curves from 100 sample sources. For a detailed description of how sampling works, see the `sampling.ipynb` notebook.\n",
    "\n",
    "We can demonstrate this simulation flow using `SinWaveSource`, a toy model that generates fluxes using a sin wave. The `SinWaveSource` object uses multiple parameters to generate its flux, so we need to speccify how to set these. For some parameters we may have a fixed value, such as a brightness of 100.0. But in most simulations we will want to values of the parameters themselves to vary. We can set these from other nodes (any object that generates or uses parameters). Below we set two of the model's parameters (`frequency` and `t0`) from uniform distributions and two (`RA` and `dec`) are chosen from a Gaussian that matches the toy survey information we will load later in this notebook.\n",
    "\n",
    "TDAstro provides tools for generating parameters from a range of sources and distributions. For example we can sample (RA, dec) directly from the survey data itself. For more information on how to define the parameter settings, see the `sampling.ipynb` notebook."
   ]
  },
  {
   "cell_type": "code",
   "execution_count": null,
   "metadata": {},
   "outputs": [],
   "source": [
    "from tdastro.math_nodes.np_random import NumpyRandomFunc\n",
    "from tdastro.sources.basic_sources import SinWaveSource\n",
    "\n",
    "source_model = SinWaveSource(\n",
    "    brightness=100.0,\n",
    "    frequency=NumpyRandomFunc(\"uniform\", low=1.0, high=5.0),\n",
    "    t0=NumpyRandomFunc(\"uniform\", low=0.0, high=10.0),\n",
    "    ra=NumpyRandomFunc(\"normal\", loc=200.5, scale=0.01),\n",
    "    dec=NumpyRandomFunc(\"normal\", loc=-50.0, scale=0.01),\n",
    "    node_label=\"sin_wave_source\",\n",
    ")"
   ]
  },
  {
   "cell_type": "markdown",
   "metadata": {},
   "source": [
    "We use the sources, such as `SinWaveSource`, to generate flux densities from the sampled input parameters. We can manually evalute a source model using the `evaluate()` function where we provide the wavelengths and times to sample:"
   ]
  },
  {
   "cell_type": "code",
   "execution_count": null,
   "metadata": {},
   "outputs": [],
   "source": [
    "import matplotlib.pyplot as plt\n",
    "import numpy as np\n",
    "\n",
    "times = np.arange(100.0)\n",
    "wavelengths = np.array([7000.0])\n",
    "fluxes = source_model.evaluate(times, wavelengths)\n",
    "\n",
    "plt.plot(times, fluxes)\n",
    "plt.xlabel(\"Time\")\n",
    "plt.ylabel(\"Flux\")\n",
    "plt.show()"
   ]
  },
  {
   "cell_type": "markdown",
   "metadata": {},
   "source": [
    "The power of the simulation software is that we can generate a large number of light curves from a distribution of sources. We start by using a `PhysicalModel` object's `sample_parameters` function to sample the parameters can create this distribution of source object. \n",
    "\n",
    "Let's start with generating 5 source objects. We save the samples in a `GraphState` object. Users will not need to deal with this object directly, but it can be used to peak at the underlying parameters."
   ]
  },
  {
   "cell_type": "code",
   "execution_count": null,
   "metadata": {},
   "outputs": [],
   "source": [
    "state = source_model.sample_parameters(num_samples=3)\n",
    "print(state)"
   ]
  },
  {
   "cell_type": "markdown",
   "metadata": {},
   "source": [
    "Most users will not need to interact directly with the `GraphState` object, but at a very high level it can be viewed as a nested dictionary where parameters are indexed by two levels. First, a node label tells the code which Python object is storing the parameter. This level of identification is necessary to allow different stages to use parameters with the same name. Second, the parameter name maps to its stored values.\n",
    "\n",
    "Each (node name, parameter name) combination corresponds to a list of sample values for that parameter. Parameters are sampled together so that the i-th entires of each parameter represent a single, mutually consistent sampling of parameter space. For example you may want to generate all the parameters for a Type Ia supernova given information about the host galaxy. For a lot more detail see the `GraphState` section in the `sampling.ipynb` notebook. For now it is sufficient to know that `state` is tracking the sampled parameters.\n",
    "\n",
    "By passing the sampled state into `evaluate()` we can generate multiple light curves (one for each source) at once:"
   ]
  },
  {
   "cell_type": "code",
   "execution_count": null,
   "metadata": {},
   "outputs": [],
   "source": [
    "fluxes = source_model.evaluate(times, wavelengths, state)\n",
    "\n",
    "plt.plot(times, fluxes[0, :], color=\"blue\")\n",
    "plt.plot(times, fluxes[1, :], color=\"green\")\n",
    "plt.plot(times, fluxes[2, :], color=\"red\")\n",
    "plt.xlabel(\"Time\")\n",
    "plt.ylabel(\"Flux\")\n",
    "plt.show()"
   ]
  },
  {
   "cell_type": "markdown",
   "metadata": {},
   "source": [
    "## Effects\n",
    "\n",
    "Users can add effects to `PhysicalModel` objects to account for real world aspects such as noise and dust extinction. For more detail on effects, including how to define your own, see the `adding_effects.ipynb` notebook.\n",
    "\n",
    "Note: Detector noise and redshift are not added effects, but rather automatically applied. Redshift effects are applied based on the `PhysicalModel` object's `redshift` parameter. Detector noise is applied from the `OpSim` information (see the `OpSim` section below for more details).\n",
    "\n",
    "For this demo, we add a simple white noise effect to the source (rest frame). For real simulations we would want to add a range of effects, such as dust extinction."
   ]
  },
  {
   "cell_type": "code",
   "execution_count": null,
   "metadata": {},
   "outputs": [],
   "source": [
    "from tdastro.effects.white_noise import WhiteNoise\n",
    "\n",
    "# Create the white noise effect.\n",
    "white_noise = WhiteNoise(white_noise_sigma=10.0)\n",
    "source_model.add_effect(white_noise)\n",
    "\n",
    "# Evaluate the model with white noise applied (a single sample).\n",
    "flux = source_model.evaluate(times, wavelengths)\n",
    "plt.plot(times, flux)\n",
    "plt.xlabel(\"Time\")\n",
    "plt.ylabel(\"Flux\")\n",
    "plt.show()"
   ]
  },
  {
   "cell_type": "markdown",
   "metadata": {},
   "source": [
    "## OpSim and Passbands\n",
    "\n",
    "To generate a reasonable simulation we need to provide instrument and survey information. We use two classes `OpSim` and `PassbandGroup` to load and work with this information.\n",
    "\n",
    "### OpSim\n",
    "\n",
    "The `OpSim` object is used to store survey information, including pointings and weather conditions. It is named after Rubin’s simulated operations database (OpSim), but will be extended to support real survey information from a range of surveys. For more detail on the `OpSim` class, its capabilities, and how to work with it, see the `opsim_notebook.ipynb` notebook.\n",
    "\n",
    "The `OpSim` class is also used to extract information about the detector for modeling detector noise.\n",
    "\n",
    "For this demo we load a small example database included with the code."
   ]
  },
  {
   "cell_type": "code",
   "execution_count": null,
   "metadata": {},
   "outputs": [],
   "source": [
    "from tdastro.opsim.opsim import OpSim\n",
    "\n",
    "opsim_file = \"../../tests/tdastro/data/opsim_shorten.db\"\n",
    "ops_data = OpSim.from_db(opsim_file)\n",
    "\n",
    "print(f\"Loaded an opsim database with {len(ops_data)} entries.\")\n",
    "print(f\"Columns: {ops_data.columns}\")"
   ]
  },
  {
   "cell_type": "markdown",
   "metadata": {},
   "source": [
    "### PassbandGroup\n",
    "\n",
    "The `PassbandGroup` object provides a mechanism for loading and applying the instrument’s passband information. Users can manually specify the passband values, load from given files, or load from a preset (which will download the files if needed). For more detail on the `PassbandGroup` class, see the `passband-demo.ipynb` notebook.\n",
    "\n",
    "For this demo, we load in the preset LSST filters. When loading from a preset, we provide the option to specify the directory in which the cached passbands are stored. We use a test data directory in this notebook, but in many cases you will want to use `data/passbands/` from the root directory."
   ]
  },
  {
   "cell_type": "code",
   "execution_count": null,
   "metadata": {},
   "outputs": [],
   "source": [
    "from tdastro.astro_utils.passbands import PassbandGroup\n",
    "\n",
    "# Use a (possibly older) cached version of the passbands to avoid downloading them.\n",
    "table_dir = \"../../tests/tdastro/data/passbands\"\n",
    "passband_group = PassbandGroup.from_preset(preset=\"LSST\", table_dir=table_dir)\n",
    "print(passband_group)"
   ]
  },
  {
   "cell_type": "markdown",
   "metadata": {},
   "source": [
    "## Generate the simulations\n",
    "\n",
    "The simulation itself is run using a call to the `simulate_lightcurves()` function. This function will perform the parameter sampling, query the source, and apply any effects. It applies both source effects (as described in the “Effects” section) and detector noise (as described in the “OpSim” section). \n",
    "\n",
    "The data from `simulate_lightcurves()` is returned as a [nested-pandas dataframe](https://github.com/lincc-frameworks/nested-pandas) for easy analysis. Each row corresponds to a single source. The nested columns include the time series information for the light curves."
   ]
  },
  {
   "cell_type": "code",
   "execution_count": null,
   "metadata": {},
   "outputs": [],
   "source": [
    "from tdastro.simulate import simulate_lightcurves\n",
    "\n",
    "lightcurves = simulate_lightcurves(\n",
    "    source_model,  # The source to simulate (including effects).\n",
    "    1_000,  # The number of lightcurves to simulate.\n",
    "    ops_data,  # The survey information.\n",
    "    passband_group,  # The passband information.\n",
    ")\n",
    "print(lightcurves)"
   ]
  },
  {
   "cell_type": "markdown",
   "metadata": {},
   "source": [
    "We can drill down into a single row of the results (e.g. source number 0)"
   ]
  },
  {
   "cell_type": "code",
   "execution_count": null,
   "metadata": {},
   "outputs": [],
   "source": [
    "print(lightcurves.iloc[0])"
   ]
  },
  {
   "cell_type": "markdown",
   "metadata": {},
   "source": [
    "and view the light curve for that source"
   ]
  },
  {
   "cell_type": "code",
   "execution_count": null,
   "metadata": {},
   "outputs": [],
   "source": [
    "print(lightcurves.iloc[0].lightcurve)"
   ]
  },
  {
   "cell_type": "markdown",
   "metadata": {},
   "source": [
    "As shown each row in the `lightcurves` table includes all the information for that source and an embedded table containing the source's lightcurve according to the survey strategy.\n",
    "\n",
    "Finally we can extract the parameters used to generate the source (the `GraphState`) from the \"params\" column:"
   ]
  },
  {
   "cell_type": "code",
   "execution_count": null,
   "metadata": {},
   "outputs": [],
   "source": [
    "print(lightcurves.iloc[0].params)"
   ]
  },
  {
   "cell_type": "markdown",
   "metadata": {},
   "source": [
    "## Conclusion\n",
    "\n",
    "This tutorial barely scratches the surface on what TDAstro can do and how it operates. The goal is to provide an overview. Interested users are encouraged to explore the other tutorial notebooks or reach out directly to the team."
   ]
  }
 ],
 "metadata": {
  "kernelspec": {
   "display_name": "tdastro",
   "language": "python",
   "name": "python3"
  },
  "language_info": {
   "codemirror_mode": {
    "name": "ipython",
    "version": 3
   },
   "file_extension": ".py",
   "mimetype": "text/x-python",
   "name": "python",
   "nbconvert_exporter": "python",
   "pygments_lexer": "ipython3",
   "version": "3.10.4"
  }
 },
 "nbformat": 4,
 "nbformat_minor": 2
}
