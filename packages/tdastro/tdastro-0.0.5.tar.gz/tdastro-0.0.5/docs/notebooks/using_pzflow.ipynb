{
 "cells": [
  {
   "cell_type": "markdown",
   "metadata": {},
   "source": [
    "# pzflow\n",
    "\n",
    "In this notebook we show how we can use the [pzflow package](https://jfcrenshaw.github.io/pzflow/) to generate data from joint distributions that have been learned from real data. Sampling with `pzflow` creates Pandas tables of values.\n",
    "\n",
    "We start by generating a toy model (not physically based) of _brightness_ as dependent on _redshift_, where the _brightness_ is drawn as a Gaussian with the mean = 10.0 + 2.0 / _redshift_ and the standard deviation = 0.5/_redshift_. This toy distribution gives us something we can easily visualize and reason about. "
   ]
  },
  {
   "cell_type": "code",
   "execution_count": null,
   "metadata": {},
   "outputs": [],
   "source": [
    "import matplotlib.pyplot as plt\n",
    "import numpy as np\n",
    "import pandas as pd\n",
    "from pzflow import Flow\n",
    "\n",
    "# Generate the data to use for training the flow model.\n",
    "num_samples = 10_000\n",
    "redshift = np.random.uniform(0.01, 0.25, size=num_samples)\n",
    "brightness = np.random.normal(loc=(10.0 + 2.0 / redshift), scale=0.5 / redshift, size=num_samples)\n",
    "\n",
    "plt.scatter(redshift, brightness, s=1)\n",
    "plt.xlabel(\"Redshift\")\n",
    "plt.ylabel(\"Brightness\")\n",
    "plt.show()"
   ]
  },
  {
   "cell_type": "markdown",
   "metadata": {},
   "source": [
    "We can train a pzflow model based on this toy distribution by: 1) putting the data into a Pandas DataFrame, 2) creating a flow object that tells it which columns to model, and 3) using the `train` function."
   ]
  },
  {
   "cell_type": "code",
   "execution_count": null,
   "metadata": {},
   "outputs": [],
   "source": [
    "data = pd.DataFrame({\"redshift\": redshift, \"brightness\": brightness})\n",
    "flow = Flow([\"brightness\", \"redshift\"])\n",
    "losses = flow.train(data, verbose=False)"
   ]
  },
  {
   "cell_type": "markdown",
   "metadata": {},
   "source": [
    "The `Flow` object is now a model of the distribution. We can sample new observations from the flow using its `sample()` method."
   ]
  },
  {
   "cell_type": "code",
   "execution_count": null,
   "metadata": {},
   "outputs": [],
   "source": [
    "new_data = flow.sample(1000)\n",
    "\n",
    "plt.scatter(new_data[\"redshift\"], new_data[\"brightness\"], s=1)\n",
    "plt.xlabel(\"Redshift\")\n",
    "plt.ylabel(\"Brightness\")\n",
    "plt.show()"
   ]
  },
  {
   "cell_type": "markdown",
   "metadata": {},
   "source": [
    "## Loading Saved Flows\n",
    "\n",
    "The pzflow package provides helper functions to load saved flows from files.  This allows the user to run many simulations with the same model and without having to do a lot of unnecessary re-training."
   ]
  },
  {
   "cell_type": "code",
   "execution_count": null,
   "metadata": {},
   "outputs": [],
   "source": [
    "flow_from_file = Flow(file=\"../../tests/tdastro/data/test_flow.pkl\")\n",
    "flow_from_file.sample(nsamples=10)"
   ]
  },
  {
   "cell_type": "markdown",
   "metadata": {},
   "source": [
    "## PZFlow Nodes\n",
    "\n",
    "To incorporate pzflow models into a simulation's parameter distribution, we need to wrap the flow model in a `ParameterizedNode` object. The `PZFlowNode` class provides a mechanism for using pzflow models as part of the sampling logic. These nodes are function nodes that take (optional) input and generate one or more outputs from the pzflow. The names of output parameters are automatically determined from the underling model.  We can access each column from the node using the same `.` notation as with other other parameters, allowing us to use a consistent set of values from multiple variables.\n",
    "\n",
    "For example we can create a `PZFlowNode` from the `flow` object defined earlier in this notebook. The constructor analyzes the input flow and determines that there are two outputs \"redshift\" and \"brightness\".  These outputs can be used as inputs for later nodes, such as a `StaticSource`."
   ]
  },
  {
   "cell_type": "code",
   "execution_count": null,
   "metadata": {},
   "outputs": [],
   "source": [
    "from tdastro.astro_utils.pzflow_node import PZFlowNode\n",
    "from tdastro.sources.basic_sources import StaticSource\n",
    "\n",
    "# Create the pzflow node.\n",
    "pz_node = PZFlowNode(flow, node_label=\"pznode\")\n",
    "\n",
    "# Create a static source that draws parameters from the pzflow node.\n",
    "source = StaticSource(\n",
    "    brightness=pz_node.brightness,\n",
    "    redshift=pz_node.redshift,\n",
    "    node_label=\"source\",\n",
    ")"
   ]
  },
  {
   "cell_type": "markdown",
   "metadata": {},
   "source": [
    "The pznode and any nodes the use it fit seamlessly into the simulation workflow and can be sampled with the normal method (`sample_parameters`). The `PZFlowNode` automatically handles extracting parameters from the resulting Panda's DataFrame and loading them into the appropriate places in the `GraphState`. As expected, all samples from the `PZFlowNode` are consistent, meaning that all parameters for the `i`-th sample are generated together from the pznodes joint distribution."
   ]
  },
  {
   "cell_type": "code",
   "execution_count": null,
   "metadata": {},
   "outputs": [],
   "source": [
    "state = source.sample_parameters(num_samples=100)\n",
    "\n",
    "plt.scatter(state[\"source\"][\"redshift\"], state[\"source\"][\"brightness\"], s=1)\n",
    "plt.xlabel(\"Redshift\")\n",
    "plt.ylabel(\"Brightness\")\n",
    "plt.show()"
   ]
  },
  {
   "cell_type": "markdown",
   "metadata": {},
   "source": [
    "## PZFlow Nodes from Flow Files\n",
    "\n",
    "The `PZFlowNode` class also provides a helper function to create the node directly from a flow file. This allows a user to access a saved flow without a lot of overhead."
   ]
  },
  {
   "cell_type": "code",
   "execution_count": null,
   "metadata": {},
   "outputs": [],
   "source": [
    "file_node = PZFlowNode.from_file(\n",
    "    \"../../tests/tdastro/data/test_flow.pkl\",\n",
    "    node_label=\"pznode_from_file\",\n",
    ")"
   ]
  },
  {
   "cell_type": "markdown",
   "metadata": {},
   "source": [
    "## Conditional Flows in PZFlow\n",
    "\n",
    "We can construct a conditional flow where the brightness values are conditional on the sampled redshift. In fact our toy data earlier was drawn such that `brightness` depended on `redshift`. We can have pzflow enforce this conditional relationship by breaking the input into tables data columns (which are the output) and conditional columns (which are the input).  The data is generated _conditional_ on the conditional columns."
   ]
  },
  {
   "cell_type": "code",
   "execution_count": null,
   "metadata": {},
   "outputs": [],
   "source": [
    "data = pd.DataFrame({\"redshift\": redshift, \"brightness\": brightness})\n",
    "conditional_flow = Flow(data_columns=[\"brightness\"], conditional_columns=[\"redshift\"])\n",
    "losses = conditional_flow.train(data, verbose=False)"
   ]
  },
  {
   "cell_type": "markdown",
   "metadata": {},
   "source": [
    "If we sample from the flow, we see the same distribution of data.  Note that in order to sample this flow we need a pandas table that has the redshift data defined.\n",
    "\n",
    "The sampling parameters for conditional models are also defined slightly differently. The `conditional_flow.sample(num_samples, conditions=new_data)` will generate `num_samples` for **each** row of `new_data`. In the case of TDAstro, we would like the size of the output to equal the size of the input, so we use 1 sample per input row."
   ]
  },
  {
   "cell_type": "code",
   "execution_count": null,
   "metadata": {},
   "outputs": [],
   "source": [
    "new_redshift = np.random.uniform(0.01, 0.25, size=1000)\n",
    "new_data = pd.DataFrame({\"redshift\": new_redshift})\n",
    "new_data = conditional_flow.sample(1, conditions=new_data)\n",
    "\n",
    "plt.scatter(new_data[\"redshift\"], new_data[\"brightness\"], s=1)\n",
    "plt.xlabel(\"Redshift\")\n",
    "plt.ylabel(\"Brightness\")\n",
    "plt.show()"
   ]
  },
  {
   "cell_type": "markdown",
   "metadata": {},
   "source": [
    "Note that the conditional flow above is also saved as tests/tdastro/data/test_conditional_flow.pkl."
   ]
  },
  {
   "cell_type": "markdown",
   "metadata": {},
   "source": [
    "## PZFlow Nodes with Conditional Flows\n",
    "\n",
    "The `PZFlowNode` automatically handles conditional flows without additional set up. The node examines the incoming `Flow` object and determines what information is needed. Each input column **must** be specified as an input parameter for the object.\n",
    "\n",
    "For example we could sample the redshifts using a random node and then feed that into our conditional pzflow to generate brightnesses."
   ]
  },
  {
   "cell_type": "code",
   "execution_count": null,
   "metadata": {},
   "outputs": [],
   "source": [
    "from tdastro.math_nodes.np_random import NumpyRandomFunc\n",
    "\n",
    "redshift_node = NumpyRandomFunc(\n",
    "    \"uniform\",\n",
    "    low=0.01,\n",
    "    high=0.25,\n",
    "    node_label=\"redshift_node\",\n",
    ")\n",
    "\n",
    "brightness_node = PZFlowNode(\n",
    "    conditional_flow,\n",
    "    node_label=\"pzflow_node\",\n",
    "    redshift=redshift_node,  # REQUIRED\n",
    ")\n",
    "\n",
    "source2 = StaticSource(\n",
    "    brightness=brightness_node.brightness,\n",
    "    redshift=redshift_node,\n",
    "    node_label=\"source2\",\n",
    ")"
   ]
  },
  {
   "cell_type": "code",
   "execution_count": null,
   "metadata": {},
   "outputs": [],
   "source": [
    "state2 = source2.sample_parameters(num_samples=500)\n",
    "\n",
    "plt.scatter(state2[\"source2\"][\"redshift\"], state2[\"source2\"][\"brightness\"], s=1)\n",
    "plt.xlabel(\"Redshift\")\n",
    "plt.ylabel(\"Brightness\")\n",
    "plt.show()"
   ]
  }
 ],
 "metadata": {
  "kernelspec": {
   "display_name": "tdastro",
   "language": "python",
   "name": "python3"
  },
  "language_info": {
   "codemirror_mode": {
    "name": "ipython",
    "version": 3
   },
   "file_extension": ".py",
   "mimetype": "text/x-python",
   "name": "python",
   "nbconvert_exporter": "python",
   "pygments_lexer": "ipython3",
   "version": "3.10.4"
  }
 },
 "nbformat": 4,
 "nbformat_minor": 2
}
