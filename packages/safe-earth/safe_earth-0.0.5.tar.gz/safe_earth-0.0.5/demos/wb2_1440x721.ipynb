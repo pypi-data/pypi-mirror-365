{
 "cells": [
  {
   "cell_type": "code",
   "execution_count": 1,
   "metadata": {},
   "outputs": [],
   "source": [
    "# install the SAFE package\n",
    "!pip install safe-earth -q"
   ]
  },
  {
   "cell_type": "code",
   "execution_count": 2,
   "metadata": {},
   "outputs": [],
   "source": [
    "# !pip install typing-extensions -q\n",
    "import safe_earth as safe\n",
    "import pandas as pd\n",
    "import numpy as np\n",
    "import pickle"
   ]
  },
  {
   "cell_type": "code",
   "execution_count": 5,
   "metadata": {},
   "outputs": [
    {
     "ename": "ValueError",
     "evalue": "Resolution 1440x721 is not supported",
     "output_type": "error",
     "traceback": [
      "\u001b[31m---------------------------------------------------------------------------\u001b[39m",
      "\u001b[31mValueError\u001b[39m                                Traceback (most recent call last)",
      "\u001b[36mCell\u001b[39m\u001b[36m \u001b[39m\u001b[32mIn[5]\u001b[39m\u001b[32m, line 4\u001b[39m\n\u001b[32m      2\u001b[39m resolution = \u001b[33m'\u001b[39m\u001b[33m1440x721\u001b[39m\u001b[33m'\u001b[39m\n\u001b[32m      3\u001b[39m lead_times = [np.timedelta64(x, \u001b[33m'\u001b[39m\u001b[33mh\u001b[39m\u001b[33m'\u001b[39m) \u001b[38;5;28;01mfor\u001b[39;00m x \u001b[38;5;129;01min\u001b[39;00m \u001b[38;5;28mrange\u001b[39m(\u001b[32m12\u001b[39m, \u001b[32m241\u001b[39m, \u001b[32m12\u001b[39m)]\n\u001b[32m----> \u001b[39m\u001b[32m4\u001b[39m era5 = safe.data.climate.era5.get_era5(resolution)\n\u001b[32m      5\u001b[39m data = []\n",
      "\u001b[36mFile \u001b[39m\u001b[32m~/.conda/envs/faireenvconda/lib/python3.12/site-packages/safe_earth/data/climate/era5.py:28\u001b[39m, in \u001b[36mget_era5\u001b[39m\u001b[34m(resolution, time)\u001b[39m\n\u001b[32m     22\u001b[39m \u001b[38;5;250m\u001b[39m\u001b[33;03m'''\u001b[39;00m\n\u001b[32m     23\u001b[39m \u001b[33;03mGet ERA5 data from the WeatherBench 2 API, by default gets data for 2020\u001b[39;00m\n\u001b[32m     24\u001b[39m \u001b[33;03mplus 10 days to accommodate lead times up to 10 days.\u001b[39;00m\n\u001b[32m     25\u001b[39m \u001b[33;03m'''\u001b[39;00m\n\u001b[32m     27\u001b[39m \u001b[38;5;28;01mif\u001b[39;00m \u001b[38;5;129;01mnot\u001b[39;00m resolution \u001b[38;5;129;01min\u001b[39;00m wb2_stores.era5:\n\u001b[32m---> \u001b[39m\u001b[32m28\u001b[39m     \u001b[38;5;28;01mraise\u001b[39;00m \u001b[38;5;167;01mValueError\u001b[39;00m(\u001b[33mf\u001b[39m\u001b[33m'\u001b[39m\u001b[33mResolution \u001b[39m\u001b[38;5;132;01m{\u001b[39;00mresolution\u001b[38;5;132;01m}\u001b[39;00m\u001b[33m is not supported\u001b[39m\u001b[33m'\u001b[39m)\n\u001b[32m     29\u001b[39m \u001b[38;5;28;01melse\u001b[39;00m:\n\u001b[32m     30\u001b[39m     store = wb2_stores.era5[resolution]\n",
      "\u001b[31mValueError\u001b[39m: Resolution 1440x721 is not supported"
     ]
    }
   ],
   "source": [
    "models = ['graphcast', 'pangu', 'fuxi']\n",
    "resolution = '1440x721'\n",
    "lead_times = [np.timedelta64(x, 'h') for x in range(12, 241, 12)]\n",
    "era5 = safe.data.climate.era5.get_era5(resolution)\n",
    "data = []"
   ]
  },
  {
   "cell_type": "code",
   "execution_count": 6,
   "metadata": {},
   "outputs": [
    {
     "ename": "ValueError",
     "evalue": "Resolution 1440x721 is not supported",
     "output_type": "error",
     "traceback": [
      "\u001b[31m---------------------------------------------------------------------------\u001b[39m",
      "\u001b[31mValueError\u001b[39m                                Traceback (most recent call last)",
      "\u001b[36mCell\u001b[39m\u001b[36m \u001b[39m\u001b[32mIn[6]\u001b[39m\u001b[32m, line 1\u001b[39m\n\u001b[32m----> \u001b[39m\u001b[32m1\u001b[39m era5 = safe.data.climate.era5.get_era5(resolution)\n",
      "\u001b[36mFile \u001b[39m\u001b[32m~/.conda/envs/faireenvconda/lib/python3.12/site-packages/safe_earth/data/climate/era5.py:28\u001b[39m, in \u001b[36mget_era5\u001b[39m\u001b[34m(resolution, time)\u001b[39m\n\u001b[32m     22\u001b[39m \u001b[38;5;250m\u001b[39m\u001b[33;03m'''\u001b[39;00m\n\u001b[32m     23\u001b[39m \u001b[33;03mGet ERA5 data from the WeatherBench 2 API, by default gets data for 2020\u001b[39;00m\n\u001b[32m     24\u001b[39m \u001b[33;03mplus 10 days to accommodate lead times up to 10 days.\u001b[39;00m\n\u001b[32m     25\u001b[39m \u001b[33;03m'''\u001b[39;00m\n\u001b[32m     27\u001b[39m \u001b[38;5;28;01mif\u001b[39;00m \u001b[38;5;129;01mnot\u001b[39;00m resolution \u001b[38;5;129;01min\u001b[39;00m wb2_stores.era5:\n\u001b[32m---> \u001b[39m\u001b[32m28\u001b[39m     \u001b[38;5;28;01mraise\u001b[39;00m \u001b[38;5;167;01mValueError\u001b[39;00m(\u001b[33mf\u001b[39m\u001b[33m'\u001b[39m\u001b[33mResolution \u001b[39m\u001b[38;5;132;01m{\u001b[39;00mresolution\u001b[38;5;132;01m}\u001b[39;00m\u001b[33m is not supported\u001b[39m\u001b[33m'\u001b[39m)\n\u001b[32m     29\u001b[39m \u001b[38;5;28;01melse\u001b[39;00m:\n\u001b[32m     30\u001b[39m     store = wb2_stores.era5[resolution]\n",
      "\u001b[31mValueError\u001b[39m: Resolution 1440x721 is not supported"
     ]
    }
   ],
   "source": [
    "era5 = safe.data.climate.era5.get_era5(resolution)"
   ]
  }
 ],
 "metadata": {
  "kernelspec": {
   "display_name": "faireenvconda",
   "language": "python",
   "name": "python3"
  },
  "language_info": {
   "codemirror_mode": {
    "name": "ipython",
    "version": 3
   },
   "file_extension": ".py",
   "mimetype": "text/x-python",
   "name": "python",
   "nbconvert_exporter": "python",
   "pygments_lexer": "ipython3",
   "version": "3.12.10"
  }
 },
 "nbformat": 4,
 "nbformat_minor": 2
}
