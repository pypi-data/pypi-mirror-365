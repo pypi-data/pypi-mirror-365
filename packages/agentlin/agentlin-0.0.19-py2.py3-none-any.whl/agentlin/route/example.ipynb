{
 "cells": [
  {
   "cell_type": "markdown",
   "id": "bc5aac09",
   "metadata": {},
   "source": [
    "# Code for Interpreter"
   ]
  },
  {
   "cell_type": "code",
   "execution_count": null,
   "id": "fdae13c0",
   "metadata": {},
   "outputs": [],
   "source": [
    "import json\n",
    "from fastmcp import Client\n",
    "\n",
    "\n",
    "config_str = \"\"\"\n",
    "{code_mcp_config}\n",
    "\"\"\"\n",
    "config = json.loads(config_str)\n",
    "client = Client(config)\n",
    "\n",
    "async with client:\n",
    "    tools = await client.list_tools()\n",
    "    print(\"Connected to MCP server with tools:\", [tool.name for tool in tools])\n",
    "    print(\"\\n\".join([str(tool) for tool in tools]))\n"
   ]
  },
  {
   "cell_type": "markdown",
   "id": "712927cc",
   "metadata": {},
   "source": [
    "# Code for Agent"
   ]
  },
  {
   "cell_type": "code",
   "execution_count": null,
   "id": "a78d6294",
   "metadata": {},
   "outputs": [],
   "source": [
    "import json\n",
    "from fastmcp import Client\n",
    "\n",
    "\n",
    "config_str = \"\"\"\n",
    "{code_mcp_config}\n",
    "\"\"\"\n",
    "config = json.loads(config_str)\n",
    "client = Client(config)\n",
    "\n",
    "async with client:\n",
    "    tools = await client.list_tools()\n",
    "    print(\"Connected to MCP server with tools:\", [tool.name for tool in tools])\n",
    "    print(\"\\n\".join([str(tool) for tool in tools]))\n"
   ]
  },
  {
   "cell_type": "markdown",
   "id": "eb8f2f43",
   "metadata": {},
   "source": [
    "# 调试"
   ]
  },
  {
   "cell_type": "code",
   "execution_count": null,
   "id": "c8c0902e",
   "metadata": {},
   "outputs": [],
   "source": [
    "import json\n",
    "from fastmcp import Client\n",
    "\n",
    "config = {\n",
    "    \"mcpServers\": {\n",
    "        \"aime_sse_server\": {\"url\": \"http://localhost:7778/mcp\"},\n",
    "    }\n",
    "}\n",
    "client = Client(config)\n",
    "\n",
    "async with client:\n",
    "    tools = await client.list_tools()\n",
    "    print(\"Connected to MCP server with tools:\", [tool.name for tool in tools])\n",
    "    print(tools)\n"
   ]
  },
  {
   "cell_type": "code",
   "execution_count": null,
   "id": "583f5c9e",
   "metadata": {},
   "outputs": [],
   "source": []
  }
 ],
 "metadata": {
  "kernelspec": {
   "display_name": "agent",
   "language": "python",
   "name": "python3"
  },
  "language_info": {
   "name": "python",
   "version": "3.11.5"
  }
 },
 "nbformat": 4,
 "nbformat_minor": 5
}
