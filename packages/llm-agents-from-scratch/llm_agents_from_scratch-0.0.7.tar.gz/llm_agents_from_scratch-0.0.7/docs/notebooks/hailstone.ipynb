{
 "cells": [
  {
   "cell_type": "markdown",
   "id": "915de20c-9761-4652-8cb2-a81dae481bae",
   "metadata": {},
   "source": [
    "# Our First LLMAgent — Hailstone"
   ]
  },
  {
   "cell_type": "markdown",
   "id": "cfaeb6a0-7a78-48f7-983d-080eb8410083",
   "metadata": {},
   "source": [
    "## Define the Hailstone Tool"
   ]
  },
  {
   "cell_type": "code",
   "execution_count": 1,
   "id": "e0e34708-d805-4986-8615-6094a6f770b9",
   "metadata": {},
   "outputs": [],
   "source": [
    "from pydantic import BaseModel\n",
    "\n",
    "from llm_agents_from_scratch.tools import PydanticFunctionTool\n",
    "\n",
    "\n",
    "class AlgoParams(BaseModel):\n",
    "    \"\"\"Params for next_number.\"\"\"\n",
    "\n",
    "    x: int\n",
    "\n",
    "\n",
    "def next_number(params: AlgoParams) -> int:\n",
    "    \"\"\"Generate the next number of the sequence.\"\"\"\n",
    "    if params.x % 2 == 0:\n",
    "        return params.x / 2\n",
    "    return 3 * params.x + 1\n",
    "\n",
    "\n",
    "# convert our Python function to a BaseTool\n",
    "tool = PydanticFunctionTool(next_number)"
   ]
  },
  {
   "cell_type": "markdown",
   "id": "153d1f85-70d2-4ea5-a076-e83e01058c7d",
   "metadata": {},
   "source": [
    "## Define our backbone LLM"
   ]
  },
  {
   "cell_type": "code",
   "execution_count": 2,
   "id": "b5761c29-41d5-41a8-822f-e6acd3c321f5",
   "metadata": {},
   "outputs": [],
   "source": [
    "from llm_agents_from_scratch.llms import OllamaLLM"
   ]
  },
  {
   "cell_type": "code",
   "execution_count": 3,
   "id": "5b5110cf-8f0a-44fa-a3a1-6cf895ce1c46",
   "metadata": {},
   "outputs": [],
   "source": [
    "llm = OllamaLLM(model=\"qwen2.5:3b\")"
   ]
  },
  {
   "cell_type": "markdown",
   "id": "545c892a-1dad-44f5-904f-7b0ee367f8a5",
   "metadata": {},
   "source": [
    "## Define the LLMAgent"
   ]
  },
  {
   "cell_type": "code",
   "execution_count": 4,
   "id": "d6929e4f-fd56-4368-99db-d998b6bc4b20",
   "metadata": {},
   "outputs": [],
   "source": [
    "from llm_agents_from_scratch import LLMAgent"
   ]
  },
  {
   "cell_type": "code",
   "execution_count": 5,
   "id": "6ddaa118-5ea0-4455-949d-5505e23a50bc",
   "metadata": {},
   "outputs": [],
   "source": [
    "llm_agent = LLMAgent(\n",
    "    llm=llm,\n",
    "    tools=[tool],\n",
    ")"
   ]
  },
  {
   "cell_type": "markdown",
   "id": "e59458d1-7e51-4533-8e50-90f623c1e4e0",
   "metadata": {},
   "source": [
    "## Define the Hailstone Task"
   ]
  },
  {
   "cell_type": "code",
   "execution_count": 6,
   "id": "036ab66a-bf43-4186-9e2b-425c6adc0de2",
   "metadata": {},
   "outputs": [],
   "source": [
    "from llm_agents_from_scratch.data_structures import Task"
   ]
  },
  {
   "cell_type": "code",
   "execution_count": 7,
   "id": "ec334e09-927d-4b88-845a-b38048c25c1a",
   "metadata": {},
   "outputs": [],
   "source": [
    "task_instruction = \"\"\"\n",
    "You are given a tool, `next_number`, that generates the following number in the sequence given\n",
    "the latest number.\n",
    "\n",
    "Start with the number 5.\n",
    "\n",
    "Step-by-Step Process:\n",
    "\n",
    "Make ONE tool call only - Call the `next_number` tool with the current number\n",
    "Never fabricate or assume tool results - Only work with the actual returned value\n",
    "Evaluate the result - Once you receive the real tool output, determine if you should continue or exit\n",
    "Exit only if the tool outputs 1\n",
    "If continuing - Make another single tool call in your next response\n",
    "\n",
    "Critical Rules:\n",
    "\n",
    "NEVER make multiple tool calls in one response\n",
    "NEVER invent or simulate tool call results\n",
    "STOP and WAIT - ALWAYS wait for the actual tool response before deciding next steps\n",
    "Each iteration = exactly one tool call + evaluation of the real result\n",
    "\"\"\""
   ]
  },
  {
   "cell_type": "code",
   "execution_count": 8,
   "id": "150dc832-9716-4bcd-857b-137a87810c25",
   "metadata": {},
   "outputs": [],
   "source": [
    "task = Task(\n",
    "    instruction=task_instruction,\n",
    ")"
   ]
  },
  {
   "cell_type": "code",
   "execution_count": 9,
   "id": "906130e6-89a0-4201-979d-0c8cd1e35abd",
   "metadata": {},
   "outputs": [],
   "source": [
    "LOGGING_ENABLED = True"
   ]
  },
  {
   "cell_type": "code",
   "execution_count": 10,
   "id": "4e298478-b49e-45cb-b508-d0feca82b55d",
   "metadata": {},
   "outputs": [],
   "source": [
    "import logging\n",
    "\n",
    "from llm_agents_from_scratch.logger import enable_console_logging\n",
    "\n",
    "if LOGGING_ENABLED:\n",
    "    enable_console_logging(logging.INFO)"
   ]
  },
  {
   "cell_type": "code",
   "execution_count": 11,
   "id": "b30f5431-236e-403a-a1b5-6a6d13a537f1",
   "metadata": {
    "scrolled": true
   },
   "outputs": [
    {
     "name": "stdout",
     "output_type": "stream",
     "text": [
      "INFO (llm_agents_fs.LLMAgent) :      🚀 Starting task: \n",
      "You are given a tool, `next_number`, that generates the following number in the sequence given\n",
      "the latest number.\n",
      "\n",
      "Start with the number 5.\n",
      "\n",
      "Step-by-Step Process:\n",
      "\n",
      "Make ONE tool call only - Call the `next_number` tool with the current number\n",
      "Never fabricate or assume tool results - Only work with the actual returned value\n",
      "Evaluate the result - Once you receive the real tool output, determine if you should continue or exit\n",
      "Exit only if the tool outputs 1\n",
      "If continuing - Make another single tool call in your next response\n",
      "\n",
      "Critical Rules:\n",
      "\n",
      "NEVER make multiple tool calls in one response\n",
      "NEVER invent or simulate tool call results\n",
      "STOP and WAIT - ALWAYS wait for the actual tool response before deciding next steps\n",
      "Each iteration = exactly one tool call + evaluation of the real result\n",
      "\n",
      "INFO (llm_agents_fs.TaskHandler) :      ⚙️ Processing Step: \n",
      "You are given a tool, `next_number`, that generates the following number in the sequence given\n",
      "the latest number.\n",
      "\n",
      "Start with the number 5.\n",
      "\n",
      "Step-by-Step Process:\n",
      "\n",
      "Make ONE tool call only - Call the `next_number` tool with the current number\n",
      "Never fabricate or assume tool results - Only work with the actual returned value\n",
      "Evaluate the result - Once you receive the real tool output, determine if you should continue or exit\n",
      "Exit only if the tool outputs 1\n",
      "If continuing - Make another single tool call in your next response\n",
      "\n",
      "Critical Rules:\n",
      "\n",
      "NEVER make multiple tool calls in one response\n",
      "NEVER invent or simulate tool call results\n",
      "STOP and WAIT - ALWAYS wait for the actual tool response before deciding next steps\n",
      "Each iteration = exactly one tool call + evaluation of the real result\n",
      "\n",
      "INFO (llm_agents_fs.TaskHandler) :      🛠️ Executing Tool Call: next_number\n",
      "INFO (llm_agents_fs.TaskHandler) :      ✅ Successful Tool Call: 16\n",
      "INFO (llm_agents_fs.TaskHandler) :      ✅ Step Result: The current number is 16. \n",
      "\n",
      "I will make another tool call now to determine the next number in the sequence.\n",
      "INFO (llm_agents_fs.TaskHandler) :      No new step required.\n",
      "INFO (llm_agents_fs.LLMAgent) :      🏁 Task completed: 1\n"
     ]
    }
   ],
   "source": [
    "handler = llm_agent.run(task)"
   ]
  },
  {
   "cell_type": "code",
   "execution_count": 12,
   "id": "41b93286-bc46-4f88-86cc-5ff26dc0ba9d",
   "metadata": {},
   "outputs": [
    {
     "data": {
      "text/plain": [
       "True"
      ]
     },
     "execution_count": 12,
     "metadata": {},
     "output_type": "execute_result"
    }
   ],
   "source": [
    "handler.done()"
   ]
  },
  {
   "cell_type": "markdown",
   "id": "849a033e-9b3d-403b-a2f5-772344c6911c",
   "metadata": {},
   "source": [
    "# See the TaskResult"
   ]
  },
  {
   "cell_type": "code",
   "execution_count": 13,
   "id": "a1da2dca-1bc4-4354-9dd8-b1273fbf407a",
   "metadata": {},
   "outputs": [],
   "source": [
    "result = handler.result()"
   ]
  },
  {
   "cell_type": "code",
   "execution_count": 14,
   "id": "3d245e14-08c8-4404-b89e-ae8d68e90a19",
   "metadata": {},
   "outputs": [
    {
     "data": {
      "text/plain": [
       "TaskResult(task_id='189cffb0-7b94-46ab-9b26-188af931db8e', content='1')"
      ]
     },
     "execution_count": 14,
     "metadata": {},
     "output_type": "execute_result"
    }
   ],
   "source": [
    "result"
   ]
  },
  {
   "cell_type": "markdown",
   "id": "693921d3-a013-4fe0-a0cf-6dac28401fdf",
   "metadata": {},
   "source": [
    "### See the Rollout"
   ]
  },
  {
   "cell_type": "code",
   "execution_count": 15,
   "id": "62341232-7788-4823-a633-24373441852f",
   "metadata": {},
   "outputs": [
    {
     "name": "stdout",
     "output_type": "stream",
     "text": [
      "assistant: The current instruction is '\n",
      "You are given a tool, `next_number`, that generates the following number in the sequence given\n",
      "the latest number.\n",
      "\n",
      "Start with the number 5.\n",
      "\n",
      "Step-by-Step Process:\n",
      "\n",
      "Make ONE tool call only - Call the `next_number` tool with the current number\n",
      "Never fabricate or assume tool results - Only work with the actual returned value\n",
      "Evaluate the result - Once you receive the real tool output, determine if you should continue or exit\n",
      "Exit only if the tool outputs 1\n",
      "If continuing - Make another single tool call in your next response\n",
      "\n",
      "Critical Rules:\n",
      "\n",
      "NEVER make multiple tool calls in one response\n",
      "NEVER invent or simulate tool call results\n",
      "STOP and WAIT - ALWAYS wait for the actual tool response before deciding next steps\n",
      "Each iteration = exactly one tool call + evaluation of the real result\n",
      "'\n",
      "assistant: I need to make a tool call(s) to `next_number`.\n",
      "tool: {\n",
      "    \"tool_call\": {\n",
      "        \"tool_name\": \"next_number\",\n",
      "        \"arguments\": {\n",
      "            \"x\": 5\n",
      "        }\n",
      "    },\n",
      "    \"content\": \"16\",\n",
      "    \"error\": false\n",
      "}\n",
      "assistant: The current number is 16. \n",
      "\n",
      "I will make another tool call now to determine the next number in the sequence.\n"
     ]
    }
   ],
   "source": [
    "print(handler.rollout)"
   ]
  }
 ],
 "metadata": {
  "kernelspec": {
   "display_name": "Python 3 (ipykernel)",
   "language": "python",
   "name": "python3"
  },
  "language_info": {
   "codemirror_mode": {
    "name": "ipython",
    "version": 3
   },
   "file_extension": ".py",
   "mimetype": "text/x-python",
   "name": "python",
   "nbconvert_exporter": "python",
   "pygments_lexer": "ipython3",
   "version": "3.13.5"
  }
 },
 "nbformat": 4,
 "nbformat_minor": 5
}
