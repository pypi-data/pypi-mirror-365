{
 "cells": [
  {
   "cell_type": "markdown",
   "id": "775491ad",
   "metadata": {},
   "source": [
    "# finden einer Lösung"
   ]
  },
  {
   "cell_type": "code",
   "execution_count": null,
   "id": "953cb2a3",
   "metadata": {},
   "outputs": [
    {
     "data": {
      "image/png": "[encoded data removed]",
      "text/plain": [
       "<Figure size 640x480 with 1 Axes>"
      ]
     },
     "metadata": {},
     "output_type": "display_data"
    },
    {
     "data": {
      "image/png": "[encoded data removed]",
      "text/plain": [
       "<Figure size 640x480 with 1 Axes>"
      ]
     },
     "metadata": {},
     "output_type": "display_data"
    },
    {
     "data": {
      "text/plain": [
       "[frozenset({(8, 7), (9, 6), (9, 7), (9, 8), (10, 7), (10, 8)}),\n",
       " frozenset({(6, 2), (7, 2), (7, 3), (8, 2), (8, 3), (9, 2)}),\n",
       " frozenset({(7, 4), (8, 4), (8, 5), (8, 6), (9, 4), (9, 5)}),\n",
       " frozenset({(9, 3), (10, 2), (10, 3), (10, 4), (10, 5), (10, 6)}),\n",
       " frozenset({(4, 2), (5, 0), (5, 1), (5, 2), (6, 0), (6, 1)}),\n",
       " frozenset({(3, 3), (4, 3), (5, 3), (6, 3), (6, 4), (6, 5)}),\n",
       " frozenset({(3, 4), (4, 4), (5, 4), (5, 5), (5, 6), (6, 6)}),\n",
       " frozenset({(2, 3), (2, 4), (2, 5), (2, 6), (3, 5), (3, 6)}),\n",
       " frozenset({(2, 0), (2, 1), (2, 2), (3, 0), (3, 1), (3, 2)})]"
      ]
     },
     "execution_count": 20,
     "metadata": {},
     "output_type": "execute_result"
    }
   ],
   "source": [
    "from tilingpuzzles.games.stone import Stone\n",
    "from tilingpuzzles.games.komino import Komino\n",
    "\n",
    "# Degree of the stones\n",
    "# k=5 => Pentomino\n",
    "k=6\n",
    "\n",
    "# The Universe of the Coverage problem\n",
    "U=\"\"\"\n",
    "#######\n",
    "#######\n",
    "  ###\n",
    "#######\n",
    "#######\n",
    "  ###\n",
    "  ######\n",
    "  #######\n",
    "  #######\n",
    "\"\"\"\n",
    "\n",
    "U=Stone.from_string(U)\n",
    "\n",
    "assert len(U)%k==0\n",
    "\n",
    "display(U)\n",
    "\n",
    "komi=Komino(U,k=k)\n",
    "# limits: number of times a stone of a certain shape can be used.\n",
    "komi.find_solution(limits=1)\n"
   ]
  },
  {
   "cell_type": "markdown",
   "id": "6ac3e29d",
   "metadata": {},
   "source": [
    "# Count Solutions \n",
    "Calculate the number of Solutions if every Stone can be used a unlimited amount of time\n",
    "\n"
   ]
  },
  {
   "cell_type": "code",
   "execution_count": null,
   "id": "74e465e6",
   "metadata": {},
   "outputs": [
    {
     "data": {
      "application/vnd.jupyter.widget-view+json": {
       "model_id": "b7a9d7fc72664bafae2d3664faff772a",
       "version_major": 2,
       "version_minor": 0
      },
      "text/plain": [
       "Level 0:   0%|          | 0/69 [00:00<?, ?it/s]"
      ]
     },
     "metadata": {},
     "output_type": "display_data"
    },
    {
     "data": {
      "application/vnd.jupyter.widget-view+json": {
       "model_id": "4fe9037f05cc45168cd5fc8f3284a492",
       "version_major": 2,
       "version_minor": 0
      },
      "text/plain": [
       "Level 1:   0%|          | 0/539 [00:00<?, ?it/s]"
      ]
     },
     "metadata": {},
     "output_type": "display_data"
    },
    {
     "data": {
      "application/vnd.jupyter.widget-view+json": {
       "model_id": "e7dcced0e39c4b40af437118481670c9",
       "version_major": 2,
       "version_minor": 0
      },
      "text/plain": [
       "Level 1:   0%|          | 0/440 [00:00<?, ?it/s]"
      ]
     },
     "metadata": {},
     "output_type": "display_data"
    },
    {
     "data": {
      "application/vnd.jupyter.widget-view+json": {
       "model_id": "5d427e80493240bd865c5f4492bb2bc4",
       "version_major": 2,
       "version_minor": 0
      },
      "text/plain": [
       "Level 1:   0%|          | 0/437 [00:00<?, ?it/s]"
      ]
     },
     "metadata": {},
     "output_type": "display_data"
    },
    {
     "data": {
      "application/vnd.jupyter.widget-view+json": {
       "model_id": "4223f8bb1ede4c4e99d57afa6d4c6ab1",
       "version_major": 2,
       "version_minor": 0
      },
      "text/plain": [
       "Level 1:   0%|          | 0/73 [00:00<?, ?it/s]"
      ]
     },
     "metadata": {},
     "output_type": "display_data"
    },
    {
     "data": {
      "application/vnd.jupyter.widget-view+json": {
       "model_id": "4532f33716e54753a3fb56e9997ea07e",
       "version_major": 2,
       "version_minor": 0
      },
      "text/plain": [
       "Level 1:   0%|          | 0/144 [00:00<?, ?it/s]"
      ]
     },
     "metadata": {},
     "output_type": "display_data"
    },
    {
     "data": {
      "application/vnd.jupyter.widget-view+json": {
       "model_id": "d72923f05e8c4e1db13c0e799652bb2e",
       "version_major": 2,
       "version_minor": 0
      },
      "text/plain": [
       "Level 1:   0%|          | 0/23 [00:00<?, ?it/s]"
      ]
     },
     "metadata": {},
     "output_type": "display_data"
    },
    {
     "data": {
      "application/vnd.jupyter.widget-view+json": {
       "model_id": "2683d02b41ef461c8cb0ca8937ed5c68",
       "version_major": 2,
       "version_minor": 0
      },
      "text/plain": [
       "Level 1:   0%|          | 0/43 [00:00<?, ?it/s]"
      ]
     },
     "metadata": {},
     "output_type": "display_data"
    },
    {
     "data": {
      "application/vnd.jupyter.widget-view+json": {
       "model_id": "c5ebacd3024c4adc8b8ac5bf71a3603f",
       "version_major": 2,
       "version_minor": 0
      },
      "text/plain": [
       "Level 1:   0%|          | 0/52 [00:00<?, ?it/s]"
      ]
     },
     "metadata": {},
     "output_type": "display_data"
    },
    {
     "data": {
      "application/vnd.jupyter.widget-view+json": {
       "model_id": "cbbd261fe0d04253bbff9699a42e4176",
       "version_major": 2,
       "version_minor": 0
      },
      "text/plain": [
       "Level 1:   0%|          | 0/16 [00:00<?, ?it/s]"
      ]
     },
     "metadata": {},
     "output_type": "display_data"
    },
    {
     "data": {
      "application/vnd.jupyter.widget-view+json": {
       "model_id": "1e78e9247bf244ab895924fb166e58ba",
       "version_major": 2,
       "version_minor": 0
      },
      "text/plain": [
       "Level 1:   0%|          | 0/128 [00:00<?, ?it/s]"
      ]
     },
     "metadata": {},
     "output_type": "display_data"
    },
    {
     "data": {
      "application/vnd.jupyter.widget-view+json": {
       "model_id": "5650ac067469406d918f59781b6de699",
       "version_major": 2,
       "version_minor": 0
      },
      "text/plain": [
       "Level 1:   0%|          | 0/67 [00:00<?, ?it/s]"
      ]
     },
     "metadata": {},
     "output_type": "display_data"
    },
    {
     "data": {
      "application/vnd.jupyter.widget-view+json": {
       "model_id": "5cf1da27c98f421c958ec9dab1db9150",
       "version_major": 2,
       "version_minor": 0
      },
      "text/plain": [
       "Level 1:   0%|          | 0/146 [00:00<?, ?it/s]"
      ]
     },
     "metadata": {},
     "output_type": "display_data"
    },
    {
     "data": {
      "application/vnd.jupyter.widget-view+json": {
       "model_id": "9c85268a5bd0452986c850072200516d",
       "version_major": 2,
       "version_minor": 0
      },
      "text/plain": [
       "Level 1:   0%|          | 0/158 [00:00<?, ?it/s]"
      ]
     },
     "metadata": {},
     "output_type": "display_data"
    },
    {
     "data": {
      "application/vnd.jupyter.widget-view+json": {
       "model_id": "0692616457224dae9675e0fa277b03d4",
       "version_major": 2,
       "version_minor": 0
      },
      "text/plain": [
       "Level 1:   0%|          | 0/160 [00:00<?, ?it/s]"
      ]
     },
     "metadata": {},
     "output_type": "display_data"
    },
    {
     "data": {
      "application/vnd.jupyter.widget-view+json": {
       "model_id": "91921831b4be453a88ea5aee915c730c",
       "version_major": 2,
       "version_minor": 0
      },
      "text/plain": [
       "Level 1:   0%|          | 0/53 [00:00<?, ?it/s]"
      ]
     },
     "metadata": {},
     "output_type": "display_data"
    },
    {
     "data": {
      "application/vnd.jupyter.widget-view+json": {
       "model_id": "f131b64181fc486ab70459dfb1e50363",
       "version_major": 2,
       "version_minor": 0
      },
      "text/plain": [
       "Level 1:   0%|          | 0/36 [00:00<?, ?it/s]"
      ]
     },
     "metadata": {},
     "output_type": "display_data"
    },
    {
     "data": {
      "application/vnd.jupyter.widget-view+json": {
       "model_id": "8eaf22a6049c40ecb9aae089f4aa5dd1",
       "version_major": 2,
       "version_minor": 0
      },
      "text/plain": [
       "Level 1:   0%|          | 0/35 [00:00<?, ?it/s]"
      ]
     },
     "metadata": {},
     "output_type": "display_data"
    },
    {
     "data": {
      "application/vnd.jupyter.widget-view+json": {
       "model_id": "3b73204501ab4bd1a3ddd79f432b0f33",
       "version_major": 2,
       "version_minor": 0
      },
      "text/plain": [
       "Level 1:   0%|          | 0/56 [00:00<?, ?it/s]"
      ]
     },
     "metadata": {},
     "output_type": "display_data"
    },
    {
     "data": {
      "application/vnd.jupyter.widget-view+json": {
       "model_id": "91ead49928b04d9e867b2afbfe3c4224",
       "version_major": 2,
       "version_minor": 0
      },
      "text/plain": [
       "Level 1:   0%|          | 0/20 [00:00<?, ?it/s]"
      ]
     },
     "metadata": {},
     "output_type": "display_data"
    },
    {
     "data": {
      "application/vnd.jupyter.widget-view+json": {
       "model_id": "47393b0b93f646a19e75a756a4943866",
       "version_major": 2,
       "version_minor": 0
      },
      "text/plain": [
       "Level 1:   0%|          | 0/63 [00:00<?, ?it/s]"
      ]
     },
     "metadata": {},
     "output_type": "display_data"
    },
    {
     "data": {
      "text/plain": [
       "115373"
      ]
     },
     "execution_count": 19,
     "metadata": {},
     "output_type": "execute_result"
    }
   ],
   "source": [
    "\n",
    "komi.count_solutions(limits=None,progressLevel=0)\n",
    "\n"
   ]
  }
 ],
 "metadata": {
  "kernelspec": {
   "display_name": ".venv",
   "language": "python",
   "name": "python3"
  },
  "language_info": {
   "codemirror_mode": {
    "name": "ipython",
    "version": 3
   },
   "file_extension": ".py",
   "mimetype": "text/x-python",
   "name": "python",
   "nbconvert_exporter": "python",
   "pygments_lexer": "ipython3",
   "version": "3.11.11"
  }
 },
 "nbformat": 4,
 "nbformat_minor": 5
}
