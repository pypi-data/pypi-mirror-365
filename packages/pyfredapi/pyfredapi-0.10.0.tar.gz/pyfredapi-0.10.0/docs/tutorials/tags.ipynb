{
 "cells": [
  {
   "cell_type": "markdown",
   "metadata": {},
   "source": [
    "# FRED Tags\n",
    "\n"
   ]
  },
  {
   "cell_type": "markdown",
   "metadata": {},
   "source": [
    "## Setup"
   ]
  },
  {
   "cell_type": "code",
   "execution_count": 1,
   "metadata": {},
   "outputs": [],
   "source": [
    "import pyfredapi as pf"
   ]
  },
  {
   "cell_type": "markdown",
   "metadata": {},
   "source": [
    "## Get all tags"
   ]
  },
  {
   "cell_type": "code",
   "execution_count": 2,
   "metadata": {},
   "outputs": [],
   "source": [
    "tags = pf.get_tags()"
   ]
  },
  {
   "cell_type": "code",
   "execution_count": 3,
   "metadata": {},
   "outputs": [
    {
     "data": {
      "text/plain": [
       "[{'name': 'nsa',\n",
       "  'group_id': 'seas',\n",
       "  'notes': 'Not Seasonally Adjusted',\n",
       "  'created': '2012-02-27 10:18:19-06',\n",
       "  'popularity': 100,\n",
       "  'series_count': 728472},\n",
       " {'name': 'usa',\n",
       "  'group_id': 'geo',\n",
       "  'notes': 'United States of America',\n",
       "  'created': '2012-02-27 10:18:19-06',\n",
       "  'popularity': 100,\n",
       "  'series_count': 658320},\n",
       " {'name': 'public domain: citation requested',\n",
       "  'group_id': 'cc',\n",
       "  'notes': None,\n",
       "  'created': '2018-12-17 23:33:13-06',\n",
       "  'popularity': 99,\n",
       "  'series_count': 612154}]"
      ]
     },
     "execution_count": 3,
     "metadata": {},
     "output_type": "execute_result"
    }
   ],
   "source": [
    "tags[\"tags\"][0:3]"
   ]
  },
  {
   "cell_type": "markdown",
   "metadata": {},
   "source": [
    "## Get all series with matching tags\n",
    "\n",
    "If you want to find all series with certain tag you can use `get_series_matching_tags`.\n",
    "\n",
    "For example, you can find series that are published monthly."
   ]
  },
  {
   "cell_type": "code",
   "execution_count": 4,
   "metadata": {},
   "outputs": [],
   "source": [
    "monthly_series = pf.get_series_matching_tags(tag_names=\"monthly\")"
   ]
  },
  {
   "cell_type": "code",
   "execution_count": 5,
   "metadata": {},
   "outputs": [
    {
     "data": {
      "text/plain": [
       "1000"
      ]
     },
     "execution_count": 5,
     "metadata": {},
     "output_type": "execute_result"
    }
   ],
   "source": [
    "len(monthly_series[\"seriess\"])"
   ]
  }
 ],
 "metadata": {
  "kernelspec": {
   "display_name": ".venv",
   "language": "python",
   "name": "python3"
  },
  "language_info": {
   "codemirror_mode": {
    "name": "ipython",
    "version": 3
   },
   "file_extension": ".py",
   "mimetype": "text/x-python",
   "name": "python",
   "nbconvert_exporter": "python",
   "pygments_lexer": "ipython3",
   "version": "3.11.7"
  },
  "orig_nbformat": 4
 },
 "nbformat": 4,
 "nbformat_minor": 2
}
