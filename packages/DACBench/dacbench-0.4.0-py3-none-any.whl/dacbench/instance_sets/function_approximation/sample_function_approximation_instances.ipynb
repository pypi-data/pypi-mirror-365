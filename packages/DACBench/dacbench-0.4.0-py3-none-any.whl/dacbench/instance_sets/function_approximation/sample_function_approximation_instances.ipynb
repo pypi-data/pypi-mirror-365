{
 "cells": [
  {
   "cell_type": "code",
   "execution_count": 12,
   "id": "766ad99e",
   "metadata": {},
   "outputs": [],
   "source": [
    "from __future__ import annotations\n",
    "\n",
    "import numpy as np\n",
    "from scipy.stats import truncnorm"
   ]
  },
  {
   "cell_type": "code",
   "execution_count": 20,
   "id": "b4e44e9f",
   "metadata": {},
   "outputs": [],
   "source": [
    "def sample_sigmoid_instances(filename, p1_dist, p2_dist, n_actions=2, n_instances=100):\n",
    "    file_str = \"ID,\"\n",
    "    for i in range(n_actions):\n",
    "        file_str += f\"function_{i}_identifier,function_{i}_a,function_{i}_b,\"\n",
    "\n",
    "    with open(filename, \"a\") as f:\n",
    "        f.write(file_str[:-1] + \"\\n\")\n",
    "        for i in range(n_instances):\n",
    "            inst_string = str(i) + \",\"\n",
    "            for _ in range(n_actions):\n",
    "                inst_string += (\n",
    "                    \"sigmoid,\" + str(p1_dist.rvs()) + \",\" + str(p2_dist.rvs()) + \",\"\n",
    "                )\n",
    "            f.write(inst_string[:-1] + \"\\n\")"
   ]
  },
  {
   "cell_type": "code",
   "execution_count": 21,
   "id": "65a28a95",
   "metadata": {},
   "outputs": [],
   "source": [
    "shift_dist = truncnorm(-5, 5, 4, 2)\n",
    "slope_dist = truncnorm(-5, 5, 2, 4)\n",
    "sample_sigmoid_instances(\"new_sigmoid_set.csv\", shift_dist, slope_dist)"
   ]
  },
  {
   "cell_type": "code",
   "execution_count": 22,
   "id": "94135e6f",
   "metadata": {},
   "outputs": [],
   "source": [
    "def sample_mixed_instances(\n",
    "    filename, function_options, p1_dist, p2_dist, n_actions=2, n_instances=100\n",
    "):\n",
    "    file_str = \"ID,\"\n",
    "    for i in range(n_actions):\n",
    "        file_str += f\"function_{i}_identifier,function_{i}_a,function_{i}_b,\"\n",
    "\n",
    "    with open(filename, \"a\") as f:\n",
    "        f.write(file_str[:-1] + \"\\n\")\n",
    "        for i in range(n_instances):\n",
    "            inst_string = str(i) + \",\"\n",
    "            for _ in range(n_actions):\n",
    "                function = np.random.choice(function_options)\n",
    "                inst_string += (\n",
    "                    f\"{function},\" + str(p1_dist.rvs()) + \",\" + str(p2_dist.rvs()) + \",\"\n",
    "                )\n",
    "            f.write(inst_string[:-1] + \"\\n\")"
   ]
  },
  {
   "cell_type": "code",
   "execution_count": 23,
   "id": "c7e8c76d",
   "metadata": {},
   "outputs": [],
   "source": [
    "functions = [\"sigmoid\", \"linear\", \"quadratic\", \"polynomial\", \"constant\", \"logarithmic\"]\n",
    "shift_dist = truncnorm(-5, 5, 4, 2)\n",
    "slope_dist = truncnorm(-5, 5, 2, 4)\n",
    "sample_mixed_instances(\n",
    "    \"new_function_approximation_set.csv\", functions, shift_dist, slope_dist, 3\n",
    ")"
   ]
  },
  {
   "cell_type": "code",
   "execution_count": 35,
   "id": "0f269ea3",
   "metadata": {},
   "outputs": [],
   "source": [
    "def sample_mixed_instances_with_importances(\n",
    "    filename,\n",
    "    function_options,\n",
    "    importances,\n",
    "    p1_dist,\n",
    "    p2_dist,\n",
    "    n_actions=2,\n",
    "    n_instances=100,\n",
    "):\n",
    "    file_str = \"ID,\"\n",
    "    for i in range(n_actions):\n",
    "        file_str += f\"function_{i}_identifier,function_{i}_a,function_{i}_b,\"\n",
    "\n",
    "    for i in range(n_actions):\n",
    "        file_str += f\"importance_dim_{i},\"\n",
    "\n",
    "    with open(filename, \"a\") as f:\n",
    "        f.write(file_str[:-1] + \"\\n\")\n",
    "        for i in range(n_instances):\n",
    "            inst_string = str(i) + \",\"\n",
    "            for _ in range(n_actions):\n",
    "                function = np.random.choice(function_options)\n",
    "                inst_string += (\n",
    "                    f\"{function},\" + str(p1_dist.rvs()) + \",\" + str(p2_dist.rvs()) + \",\"\n",
    "                )\n",
    "            importance_combo = np.random.choice(np.arange(len(importances)))\n",
    "            for impo in importances[importance_combo]:\n",
    "                inst_string += str(impo) + \",\"\n",
    "            f.write(inst_string[:-1] + \"\\n\")"
   ]
  },
  {
   "cell_type": "code",
   "execution_count": 36,
   "id": "41952db2",
   "metadata": {},
   "outputs": [],
   "source": [
    "functions = [\"sigmoid\", \"linear\", \"quadratic\", \"polynomial\", \"constant\", \"logarithmic\"]\n",
    "importance_options = [[0.5, 0.5], [0.3, 0.7], [0.7, 0.3]]\n",
    "shift_dist = truncnorm(-5, 5, 4, 2)\n",
    "slope_dist = truncnorm(-5, 5, 2, 4)\n",
    "sample_mixed_instances_with_importances(\n",
    "    \"new_function_approximation_importance_set.csv\",\n",
    "    functions,\n",
    "    importance_options,\n",
    "    shift_dist,\n",
    "    slope_dist,\n",
    "    2,\n",
    ")"
   ]
  }
 ],
 "metadata": {
  "kernelspec": {
   "display_name": "dacbench",
   "language": "python",
   "name": "python3"
  },
  "language_info": {
   "codemirror_mode": {
    "name": "ipython",
    "version": 3
   },
   "file_extension": ".py",
   "mimetype": "text/x-python",
   "name": "python",
   "nbconvert_exporter": "python",
   "pygments_lexer": "ipython3",
   "version": "3.10.13"
  }
 },
 "nbformat": 4,
 "nbformat_minor": 5
}
