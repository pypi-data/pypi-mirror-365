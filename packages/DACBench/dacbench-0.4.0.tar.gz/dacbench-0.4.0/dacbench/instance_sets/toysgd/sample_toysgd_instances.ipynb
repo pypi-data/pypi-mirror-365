{
 "cells": [
  {
   "cell_type": "code",
   "execution_count": 1,
   "metadata": {},
   "outputs": [],
   "source": [
    "from __future__ import annotations\n",
    "\n",
    "import numpy as np\n",
    "from scipy.stats import truncnorm"
   ]
  },
  {
   "cell_type": "code",
   "execution_count": 2,
   "metadata": {},
   "outputs": [],
   "source": [
    "def sample_mixed_instances(\n",
    "    filename, function_options, p1_dist, p2_dist, n_instances=100\n",
    "):\n",
    "    file_str = \"ID,function_identifier,function_a,function_b,\"\n",
    "    with open(filename, \"a\") as f:\n",
    "        f.write(file_str[:-1] + \"\\n\")\n",
    "        for i in range(n_instances):\n",
    "            inst_string = str(i) + \",\"\n",
    "            function = np.random.choice(function_options)\n",
    "            inst_string += (\n",
    "                f\"{function},\" + str(p1_dist.rvs()) + \",\" + str(p2_dist.rvs()) + \",\"\n",
    "            )\n",
    "            f.write(inst_string[:-1] + \"\\n\")"
   ]
  },
  {
   "cell_type": "code",
   "execution_count": 5,
   "metadata": {},
   "outputs": [],
   "source": [
    "param_a = truncnorm(-2, 2, 0, 1)\n",
    "param_b = truncnorm(-2, 2, 0, 1)\n",
    "sample_mixed_instances(\"toysgd_default.csv\", [\"polynomial\"], param_a, param_b)"
   ]
  },
  {
   "cell_type": "code",
   "execution_count": 6,
   "metadata": {},
   "outputs": [],
   "source": [
    "functions = [\"sigmoid\", \"linear\", \"quadratic\", \"polynomial\", \"logarithmic\"]\n",
    "param_a = truncnorm(-5, 5, 0, 2)\n",
    "param_b = truncnorm(-5, 5, 0, 4)\n",
    "sample_mixed_instances(\"toysgd_mixed.csv\", functions, param_a, param_b)"
   ]
  },
  {
   "cell_type": "code",
   "execution_count": null,
   "metadata": {},
   "outputs": [],
   "source": [
    "functions = [\"sigmoid\", \"linear\", \"quadratic\", \"polynomial\", \"logarithmic\"]\n",
    "param_a = truncnorm(-5, 5, 4, 2)\n",
    "param_b = truncnorm(-5, 5, 2, 4)\n",
    "sample_mixed_instances(\"new_toysgd_set.csv\", functions, param_a, param_b)"
   ]
  }
 ],
 "metadata": {
  "kernelspec": {
   "display_name": "dacbench",
   "language": "python",
   "name": "python3"
  },
  "language_info": {
   "codemirror_mode": {
    "name": "ipython",
    "version": 3
   },
   "file_extension": ".py",
   "mimetype": "text/x-python",
   "name": "python",
   "nbconvert_exporter": "python",
   "pygments_lexer": "ipython3",
   "version": "3.10.13"
  }
 },
 "nbformat": 4,
 "nbformat_minor": 2
}
