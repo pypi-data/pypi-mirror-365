{
 "cells": [
  {
   "cell_type": "code",
   "execution_count": 27,
   "metadata": {},
   "outputs": [],
   "source": [
    "from rich.pretty import pprint"
   ]
  },
  {
   "cell_type": "markdown",
   "metadata": {},
   "source": [
    "## The Luby Benchmark\n",
    "Let's take a look at Luby. This is a toy benchmark to test sequence approximation. The task is to learn the luby sequence, meaning to learn the underlying pattern for this sequence. First, let's make a benchmark instance:"
   ]
  },
  {
   "cell_type": "code",
   "execution_count": 28,
   "metadata": {},
   "outputs": [],
   "source": [
    "from dacbench.benchmarks import LubyBenchmark\n",
    "bench = LubyBenchmark()"
   ]
  },
  {
   "cell_type": "markdown",
   "metadata": {},
   "source": [
    "Now let's take a look at the elements of the config in this benchmark:"
   ]
  },
  {
   "cell_type": "code",
   "execution_count": 29,
   "metadata": {},
   "outputs": [
    {
     "data": {
      "text/html": [
       "<pre style=\"white-space:pre;overflow-x:auto;line-height:normal;font-family:Menlo,'DejaVu Sans Mono',consolas,'Courier New',monospace\"><span style=\"font-weight: bold\">[</span>\n",
       "<span style=\"color: #7fbf7f; text-decoration-color: #7fbf7f\">│   </span><span style=\"color: #008000; text-decoration-color: #008000\">'config_space'</span>,\n",
       "<span style=\"color: #7fbf7f; text-decoration-color: #7fbf7f\">│   </span><span style=\"color: #008000; text-decoration-color: #008000\">'observation_space_class'</span>,\n",
       "<span style=\"color: #7fbf7f; text-decoration-color: #7fbf7f\">│   </span><span style=\"color: #008000; text-decoration-color: #008000\">'observation_space_type'</span>,\n",
       "<span style=\"color: #7fbf7f; text-decoration-color: #7fbf7f\">│   </span><span style=\"color: #008000; text-decoration-color: #008000\">'observation_space_args'</span>,\n",
       "<span style=\"color: #7fbf7f; text-decoration-color: #7fbf7f\">│   </span><span style=\"color: #008000; text-decoration-color: #008000\">'reward_range'</span>,\n",
       "<span style=\"color: #7fbf7f; text-decoration-color: #7fbf7f\">│   </span><span style=\"color: #008000; text-decoration-color: #008000\">'cutoff'</span>,\n",
       "<span style=\"color: #7fbf7f; text-decoration-color: #7fbf7f\">│   </span><span style=\"color: #008000; text-decoration-color: #008000\">'hist_length'</span>,\n",
       "<span style=\"color: #7fbf7f; text-decoration-color: #7fbf7f\">│   </span><span style=\"color: #008000; text-decoration-color: #008000\">'min_steps'</span>,\n",
       "<span style=\"color: #7fbf7f; text-decoration-color: #7fbf7f\">│   </span><span style=\"color: #008000; text-decoration-color: #008000\">'seed'</span>,\n",
       "<span style=\"color: #7fbf7f; text-decoration-color: #7fbf7f\">│   </span><span style=\"color: #008000; text-decoration-color: #008000\">'instance_set_path'</span>,\n",
       "<span style=\"color: #7fbf7f; text-decoration-color: #7fbf7f\">│   </span><span style=\"color: #008000; text-decoration-color: #008000\">'benchmark_info'</span>\n",
       "<span style=\"font-weight: bold\">]</span>\n",
       "</pre>\n"
      ],
      "text/plain": [
       "\u001b[1m[\u001b[0m\n",
       "\u001b[2;32m│   \u001b[0m\u001b[32m'config_space'\u001b[0m,\n",
       "\u001b[2;32m│   \u001b[0m\u001b[32m'observation_space_class'\u001b[0m,\n",
       "\u001b[2;32m│   \u001b[0m\u001b[32m'observation_space_type'\u001b[0m,\n",
       "\u001b[2;32m│   \u001b[0m\u001b[32m'observation_space_args'\u001b[0m,\n",
       "\u001b[2;32m│   \u001b[0m\u001b[32m'reward_range'\u001b[0m,\n",
       "\u001b[2;32m│   \u001b[0m\u001b[32m'cutoff'\u001b[0m,\n",
       "\u001b[2;32m│   \u001b[0m\u001b[32m'hist_length'\u001b[0m,\n",
       "\u001b[2;32m│   \u001b[0m\u001b[32m'min_steps'\u001b[0m,\n",
       "\u001b[2;32m│   \u001b[0m\u001b[32m'seed'\u001b[0m,\n",
       "\u001b[2;32m│   \u001b[0m\u001b[32m'instance_set_path'\u001b[0m,\n",
       "\u001b[2;32m│   \u001b[0m\u001b[32m'benchmark_info'\u001b[0m\n",
       "\u001b[1m]\u001b[0m\n"
      ]
     },
     "metadata": {},
     "output_type": "display_data"
    }
   ],
   "source": [
    "pprint(list(bench.config.keys()))"
   ]
  },
  {
   "cell_type": "markdown",
   "metadata": {},
   "source": [
    "The 'benchmark_info' tells us some things about this benchmark already:"
   ]
  },
  {
   "cell_type": "code",
   "execution_count": 30,
   "metadata": {},
   "outputs": [
    {
     "data": {
      "text/html": [
       "<pre style=\"white-space:pre;overflow-x:auto;line-height:normal;font-family:Menlo,'DejaVu Sans Mono',consolas,'Courier New',monospace\"><span style=\"font-weight: bold\">{</span>\n",
       "<span style=\"color: #7fbf7f; text-decoration-color: #7fbf7f\">│   </span><span style=\"color: #008000; text-decoration-color: #008000\">'identifier'</span>: <span style=\"color: #008000; text-decoration-color: #008000\">'Luby'</span>,\n",
       "<span style=\"color: #7fbf7f; text-decoration-color: #7fbf7f\">│   </span><span style=\"color: #008000; text-decoration-color: #008000\">'name'</span>: <span style=\"color: #008000; text-decoration-color: #008000\">'Luby Sequence Approximation'</span>,\n",
       "<span style=\"color: #7fbf7f; text-decoration-color: #7fbf7f\">│   </span><span style=\"color: #008000; text-decoration-color: #008000\">'reward'</span>: <span style=\"color: #008000; text-decoration-color: #008000\">'Boolean sucess indication'</span>,\n",
       "<span style=\"color: #7fbf7f; text-decoration-color: #7fbf7f\">│   </span><span style=\"color: #008000; text-decoration-color: #008000\">'state_description'</span>: <span style=\"font-weight: bold\">[</span>\n",
       "<span style=\"color: #7fbf7f; text-decoration-color: #7fbf7f\">│   │   </span><span style=\"color: #008000; text-decoration-color: #008000\">'Action t-2'</span>,\n",
       "<span style=\"color: #7fbf7f; text-decoration-color: #7fbf7f\">│   │   </span><span style=\"color: #008000; text-decoration-color: #008000\">'Step t-2'</span>,\n",
       "<span style=\"color: #7fbf7f; text-decoration-color: #7fbf7f\">│   │   </span><span style=\"color: #008000; text-decoration-color: #008000\">'Action t-1'</span>,\n",
       "<span style=\"color: #7fbf7f; text-decoration-color: #7fbf7f\">│   │   </span><span style=\"color: #008000; text-decoration-color: #008000\">'Step t-1'</span>,\n",
       "<span style=\"color: #7fbf7f; text-decoration-color: #7fbf7f\">│   │   </span><span style=\"color: #008000; text-decoration-color: #008000\">'Action t (current)'</span>,\n",
       "<span style=\"color: #7fbf7f; text-decoration-color: #7fbf7f\">│   │   </span><span style=\"color: #008000; text-decoration-color: #008000\">'Step t (current)'</span>\n",
       "<span style=\"color: #7fbf7f; text-decoration-color: #7fbf7f\">│   </span><span style=\"font-weight: bold\">]</span>\n",
       "<span style=\"font-weight: bold\">}</span>\n",
       "</pre>\n"
      ],
      "text/plain": [
       "\u001b[1m{\u001b[0m\n",
       "\u001b[2;32m│   \u001b[0m\u001b[32m'identifier'\u001b[0m: \u001b[32m'Luby'\u001b[0m,\n",
       "\u001b[2;32m│   \u001b[0m\u001b[32m'name'\u001b[0m: \u001b[32m'Luby Sequence Approximation'\u001b[0m,\n",
       "\u001b[2;32m│   \u001b[0m\u001b[32m'reward'\u001b[0m: \u001b[32m'Boolean sucess indication'\u001b[0m,\n",
       "\u001b[2;32m│   \u001b[0m\u001b[32m'state_description'\u001b[0m: \u001b[1m[\u001b[0m\n",
       "\u001b[2;32m│   │   \u001b[0m\u001b[32m'Action t-2'\u001b[0m,\n",
       "\u001b[2;32m│   │   \u001b[0m\u001b[32m'Step t-2'\u001b[0m,\n",
       "\u001b[2;32m│   │   \u001b[0m\u001b[32m'Action t-1'\u001b[0m,\n",
       "\u001b[2;32m│   │   \u001b[0m\u001b[32m'Step t-1'\u001b[0m,\n",
       "\u001b[2;32m│   │   \u001b[0m\u001b[32m'Action t \u001b[0m\u001b[32m(\u001b[0m\u001b[32mcurrent\u001b[0m\u001b[32m)\u001b[0m\u001b[32m'\u001b[0m,\n",
       "\u001b[2;32m│   │   \u001b[0m\u001b[32m'Step t \u001b[0m\u001b[32m(\u001b[0m\u001b[32mcurrent\u001b[0m\u001b[32m)\u001b[0m\u001b[32m'\u001b[0m\n",
       "\u001b[2;32m│   \u001b[0m\u001b[1m]\u001b[0m\n",
       "\u001b[1m}\u001b[0m\n"
      ]
     },
     "metadata": {},
     "output_type": "display_data"
    }
   ],
   "source": [
    "pprint(bench.config[\"benchmark_info\"])"
   ]
  },
  {
   "cell_type": "markdown",
   "metadata": {},
   "source": [
    "The 'config_space' specifies which actions are taken, i.e. which hyperparameters are configured. We can see that a single 'sequence_element' is configured. It is an integer between 0 and 6."
   ]
  },
  {
   "cell_type": "code",
   "execution_count": 31,
   "metadata": {},
   "outputs": [
    {
     "data": {
      "text/html": [
       "<pre style=\"white-space:pre;overflow-x:auto;line-height:normal;font-family:Menlo,'DejaVu Sans Mono',consolas,'Courier New',monospace\">Configuration space object:\n",
       "<span style=\"color: #7fbf7f; text-decoration-color: #7fbf7f\">  </span>Hyperparameters:\n",
       "<span style=\"color: #7fbf7f; text-decoration-color: #7fbf7f\">│   </span>sequence_element, Type: UniformInteger, Range: <span style=\"font-weight: bold\">[</span><span style=\"color: #008080; text-decoration-color: #008080; font-weight: bold\">0</span>, <span style=\"color: #008080; text-decoration-color: #008080; font-weight: bold\">6</span><span style=\"font-weight: bold\">]</span>, Default: <span style=\"color: #008080; text-decoration-color: #008080; font-weight: bold\">3</span>\n",
       "</pre>\n"
      ],
      "text/plain": [
       "Configuration space object:\n",
       "\u001b[2;32m  \u001b[0mHyperparameters:\n",
       "\u001b[2;32m│   \u001b[0msequence_element, Type: UniformInteger, Range: \u001b[1m[\u001b[0m\u001b[1;36m0\u001b[0m, \u001b[1;36m6\u001b[0m\u001b[1m]\u001b[0m, Default: \u001b[1;36m3\u001b[0m\n"
      ]
     },
     "metadata": {},
     "output_type": "display_data"
    }
   ],
   "source": [
    "pprint(bench.config[\"config_space\"])"
   ]
  },
  {
   "cell_type": "markdown",
   "metadata": {},
   "source": [
    "The reward in this task has the following reward range:"
   ]
  },
  {
   "cell_type": "code",
   "execution_count": 32,
   "metadata": {},
   "outputs": [
    {
     "data": {
      "text/html": [
       "<pre style=\"white-space:pre;overflow-x:auto;line-height:normal;font-family:Menlo,'DejaVu Sans Mono',consolas,'Courier New',monospace\"><span style=\"font-weight: bold\">(</span><span style=\"color: #008080; text-decoration-color: #008080; font-weight: bold\">-1</span>, <span style=\"color: #008080; text-decoration-color: #008080; font-weight: bold\">0</span><span style=\"font-weight: bold\">)</span>\n",
       "</pre>\n"
      ],
      "text/plain": [
       "\u001b[1m(\u001b[0m\u001b[1;36m-1\u001b[0m, \u001b[1;36m0\u001b[0m\u001b[1m)\u001b[0m\n"
      ]
     },
     "metadata": {},
     "output_type": "display_data"
    }
   ],
   "source": [
    "pprint(bench.config[\"reward_range\"])"
   ]
  },
  {
   "cell_type": "markdown",
   "metadata": {},
   "source": [
    "Finally, the cutoff shows how many steps of the sequence are necessary for solution:"
   ]
  },
  {
   "cell_type": "code",
   "execution_count": 33,
   "metadata": {},
   "outputs": [
    {
     "data": {
      "text/html": [
       "<pre style=\"white-space:pre;overflow-x:auto;line-height:normal;font-family:Menlo,'DejaVu Sans Mono',consolas,'Courier New',monospace\"><span style=\"color: #008080; text-decoration-color: #008080; font-weight: bold\">64</span>\n",
       "</pre>\n"
      ],
      "text/plain": [
       "\u001b[1;36m64\u001b[0m\n"
      ]
     },
     "metadata": {},
     "output_type": "display_data"
    }
   ],
   "source": [
    "pprint(bench.config[\"cutoff\"])"
   ]
  },
  {
   "cell_type": "markdown",
   "metadata": {},
   "source": [
    "The config also contains some standard keys like the seed, instance set or observation space config. The observation space usually does not need to be configured at all while the seed should be varied between runs. 'hist_len' and 'min_steps' are benchmark-specific options: 'hist_len' specifies how much of the history will be contained in the observation and 'min_steps' is the minimum sequence length for the Luby sequence."
   ]
  },
  {
   "cell_type": "markdown",
   "metadata": {},
   "source": [
    "## Luby Instances\n",
    "Now let's take a look at how a Luby instance looks. To do so, we first read the default instance set:"
   ]
  },
  {
   "cell_type": "code",
   "execution_count": 34,
   "metadata": {},
   "outputs": [
    {
     "data": {
      "text/html": [
       "<pre style=\"white-space:pre;overflow-x:auto;line-height:normal;font-family:Menlo,'DejaVu Sans Mono',consolas,'Courier New',monospace\"><span style=\"color: #008000; text-decoration-color: #008000\">'luby_default.csv'</span>\n",
       "</pre>\n"
      ],
      "text/plain": [
       "\u001b[32m'luby_default.csv'\u001b[0m\n"
      ]
     },
     "metadata": {},
     "output_type": "display_data"
    },
    {
     "data": {
      "text/html": [
       "<pre style=\"white-space:pre;overflow-x:auto;line-height:normal;font-family:Menlo,'DejaVu Sans Mono',consolas,'Courier New',monospace\"><span style=\"font-weight: bold\">{</span><span style=\"color: #008080; text-decoration-color: #008080; font-weight: bold\">0</span>: <span style=\"color: #800080; text-decoration-color: #800080; font-weight: bold\">LubyInstance</span><span style=\"font-weight: bold\">(</span><span style=\"color: #808000; text-decoration-color: #808000\">start_shift</span>=<span style=\"color: #008080; text-decoration-color: #008080; font-weight: bold\">0</span>, <span style=\"color: #808000; text-decoration-color: #808000\">sticky_shift</span>=<span style=\"color: #008080; text-decoration-color: #008080; font-weight: bold\">0</span><span style=\"font-weight: bold\">)}</span>\n",
       "</pre>\n"
      ],
      "text/plain": [
       "\u001b[1m{\u001b[0m\u001b[1;36m0\u001b[0m: \u001b[1;35mLubyInstance\u001b[0m\u001b[1m(\u001b[0m\u001b[33mstart_shift\u001b[0m=\u001b[1;36m0\u001b[0m, \u001b[33msticky_shift\u001b[0m=\u001b[1;36m0\u001b[0m\u001b[1m)\u001b[0m\u001b[1m}\u001b[0m\n"
      ]
     },
     "metadata": {},
     "output_type": "display_data"
    }
   ],
   "source": [
    "pprint(bench.config[\"instance_set_path\"])\n",
    "bench.read_instance_set()\n",
    "pprint(bench.config.instance_set)"
   ]
  },
  {
   "cell_type": "markdown",
   "metadata": {},
   "source": [
    "As you can see, the instance set contains a single instance with a 'start_shift' and 'sticky_shift' value of 0 each. 'start_shift' shifts the start of the proper luby sequence back while 'sticky_shift' adds a need for repetition of the current sequence element. These are not used by default since they make this task very hard to solve, but there are additional instance sets with both enabled we can load:"
   ]
  },
  {
   "cell_type": "code",
   "execution_count": 35,
   "metadata": {},
   "outputs": [
    {
     "data": {
      "text/html": [
       "<pre style=\"white-space:pre;overflow-x:auto;line-height:normal;font-family:Menlo,'DejaVu Sans Mono',consolas,'Courier New',monospace\"><span style=\"font-weight: bold\">{</span>\n",
       "<span style=\"color: #7fbf7f; text-decoration-color: #7fbf7f\">│   </span><span style=\"color: #008080; text-decoration-color: #008080; font-weight: bold\">0</span>: <span style=\"color: #800080; text-decoration-color: #800080; font-weight: bold\">LubyInstance</span><span style=\"font-weight: bold\">(</span><span style=\"color: #808000; text-decoration-color: #808000\">start_shift</span>=<span style=\"color: #008080; text-decoration-color: #008080; font-weight: bold\">34.0</span>, <span style=\"color: #808000; text-decoration-color: #808000\">sticky_shift</span>=<span style=\"color: #008080; text-decoration-color: #008080; font-weight: bold\">-0.07</span><span style=\"font-weight: bold\">)</span>,\n",
       "<span style=\"color: #7fbf7f; text-decoration-color: #7fbf7f\">│   </span><span style=\"color: #008080; text-decoration-color: #008080; font-weight: bold\">1</span>: <span style=\"color: #800080; text-decoration-color: #800080; font-weight: bold\">LubyInstance</span><span style=\"font-weight: bold\">(</span><span style=\"color: #808000; text-decoration-color: #808000\">start_shift</span>=<span style=\"color: #008080; text-decoration-color: #008080; font-weight: bold\">5.0</span>, <span style=\"color: #808000; text-decoration-color: #808000\">sticky_shift</span>=<span style=\"color: #008080; text-decoration-color: #008080; font-weight: bold\">-0.12</span><span style=\"font-weight: bold\">)</span>,\n",
       "<span style=\"color: #7fbf7f; text-decoration-color: #7fbf7f\">│   </span><span style=\"color: #008080; text-decoration-color: #008080; font-weight: bold\">2</span>: <span style=\"color: #800080; text-decoration-color: #800080; font-weight: bold\">LubyInstance</span><span style=\"font-weight: bold\">(</span><span style=\"color: #808000; text-decoration-color: #808000\">start_shift</span>=<span style=\"color: #008080; text-decoration-color: #008080; font-weight: bold\">16.0</span>, <span style=\"color: #808000; text-decoration-color: #808000\">sticky_shift</span>=<span style=\"color: #008080; text-decoration-color: #008080; font-weight: bold\">0.04</span><span style=\"font-weight: bold\">)</span>,\n",
       "<span style=\"color: #7fbf7f; text-decoration-color: #7fbf7f\">│   </span><span style=\"color: #008080; text-decoration-color: #008080; font-weight: bold\">3</span>: <span style=\"color: #800080; text-decoration-color: #800080; font-weight: bold\">LubyInstance</span><span style=\"font-weight: bold\">(</span><span style=\"color: #808000; text-decoration-color: #808000\">start_shift</span>=<span style=\"color: #008080; text-decoration-color: #008080; font-weight: bold\">39.0</span>, <span style=\"color: #808000; text-decoration-color: #808000\">sticky_shift</span>=<span style=\"color: #008080; text-decoration-color: #008080; font-weight: bold\">0.06</span><span style=\"font-weight: bold\">)</span>,\n",
       "<span style=\"color: #7fbf7f; text-decoration-color: #7fbf7f\">│   </span><span style=\"color: #008080; text-decoration-color: #008080; font-weight: bold\">4</span>: <span style=\"color: #800080; text-decoration-color: #800080; font-weight: bold\">LubyInstance</span><span style=\"font-weight: bold\">(</span><span style=\"color: #808000; text-decoration-color: #808000\">start_shift</span>=<span style=\"color: #008080; text-decoration-color: #008080; font-weight: bold\">23.0</span>, <span style=\"color: #808000; text-decoration-color: #808000\">sticky_shift</span>=<span style=\"color: #008080; text-decoration-color: #008080; font-weight: bold\">0.06</span><span style=\"font-weight: bold\">)</span>,\n",
       "<span style=\"color: #7fbf7f; text-decoration-color: #7fbf7f\">│   </span><span style=\"color: #008080; text-decoration-color: #008080; font-weight: bold\">5</span>: <span style=\"color: #800080; text-decoration-color: #800080; font-weight: bold\">LubyInstance</span><span style=\"font-weight: bold\">(</span><span style=\"color: #808000; text-decoration-color: #808000\">start_shift</span>=<span style=\"color: #008080; text-decoration-color: #008080; font-weight: bold\">23.0</span>, <span style=\"color: #808000; text-decoration-color: #808000\">sticky_shift</span>=<span style=\"color: #008080; text-decoration-color: #008080; font-weight: bold\">0.26</span><span style=\"font-weight: bold\">)</span>,\n",
       "<span style=\"color: #7fbf7f; text-decoration-color: #7fbf7f\">│   </span><span style=\"color: #008080; text-decoration-color: #008080; font-weight: bold\">6</span>: <span style=\"color: #800080; text-decoration-color: #800080; font-weight: bold\">LubyInstance</span><span style=\"font-weight: bold\">(</span><span style=\"color: #808000; text-decoration-color: #808000\">start_shift</span>=<span style=\"color: #008080; text-decoration-color: #008080; font-weight: bold\">0.0</span>, <span style=\"color: #808000; text-decoration-color: #808000\">sticky_shift</span>=<span style=\"color: #008080; text-decoration-color: #008080; font-weight: bold\">-0.19</span><span style=\"font-weight: bold\">)</span>,\n",
       "<span style=\"color: #7fbf7f; text-decoration-color: #7fbf7f\">│   </span><span style=\"color: #008080; text-decoration-color: #008080; font-weight: bold\">7</span>: <span style=\"color: #800080; text-decoration-color: #800080; font-weight: bold\">LubyInstance</span><span style=\"font-weight: bold\">(</span><span style=\"color: #808000; text-decoration-color: #808000\">start_shift</span>=<span style=\"color: #008080; text-decoration-color: #008080; font-weight: bold\">9.0</span>, <span style=\"color: #808000; text-decoration-color: #808000\">sticky_shift</span>=<span style=\"color: #008080; text-decoration-color: #008080; font-weight: bold\">0.06</span><span style=\"font-weight: bold\">)</span>,\n",
       "<span style=\"color: #7fbf7f; text-decoration-color: #7fbf7f\">│   </span><span style=\"color: #008080; text-decoration-color: #008080; font-weight: bold\">8</span>: <span style=\"color: #800080; text-decoration-color: #800080; font-weight: bold\">LubyInstance</span><span style=\"font-weight: bold\">(</span><span style=\"color: #808000; text-decoration-color: #808000\">start_shift</span>=<span style=\"color: #008080; text-decoration-color: #008080; font-weight: bold\">26.0</span>, <span style=\"color: #808000; text-decoration-color: #808000\">sticky_shift</span>=<span style=\"color: #008080; text-decoration-color: #008080; font-weight: bold\">0.17</span><span style=\"font-weight: bold\">)</span>,\n",
       "<span style=\"color: #7fbf7f; text-decoration-color: #7fbf7f\">│   </span><span style=\"color: #008080; text-decoration-color: #008080; font-weight: bold\">9</span>: <span style=\"color: #800080; text-decoration-color: #800080; font-weight: bold\">LubyInstance</span><span style=\"font-weight: bold\">(</span><span style=\"color: #808000; text-decoration-color: #808000\">start_shift</span>=<span style=\"color: #008080; text-decoration-color: #008080; font-weight: bold\">39.0</span>, <span style=\"color: #808000; text-decoration-color: #808000\">sticky_shift</span>=<span style=\"color: #008080; text-decoration-color: #008080; font-weight: bold\">0.09</span><span style=\"font-weight: bold\">)</span>,\n",
       "<span style=\"color: #7fbf7f; text-decoration-color: #7fbf7f\">│   </span><span style=\"color: #008080; text-decoration-color: #008080; font-weight: bold\">10</span>: <span style=\"color: #800080; text-decoration-color: #800080; font-weight: bold\">LubyInstance</span><span style=\"font-weight: bold\">(</span><span style=\"color: #808000; text-decoration-color: #808000\">start_shift</span>=<span style=\"color: #008080; text-decoration-color: #008080; font-weight: bold\">19.0</span>, <span style=\"color: #808000; text-decoration-color: #808000\">sticky_shift</span>=<span style=\"color: #008080; text-decoration-color: #008080; font-weight: bold\">0.09</span><span style=\"font-weight: bold\">)</span>,\n",
       "<span style=\"color: #7fbf7f; text-decoration-color: #7fbf7f\">│   </span><span style=\"color: #008080; text-decoration-color: #008080; font-weight: bold\">11</span>: <span style=\"color: #800080; text-decoration-color: #800080; font-weight: bold\">LubyInstance</span><span style=\"font-weight: bold\">(</span><span style=\"color: #808000; text-decoration-color: #808000\">start_shift</span>=<span style=\"color: #008080; text-decoration-color: #008080; font-weight: bold\">13.0</span>, <span style=\"color: #808000; text-decoration-color: #808000\">sticky_shift</span>=<span style=\"color: #008080; text-decoration-color: #008080; font-weight: bold\">-0.07</span><span style=\"font-weight: bold\">)</span>,\n",
       "<span style=\"color: #7fbf7f; text-decoration-color: #7fbf7f\">│   </span><span style=\"color: #008080; text-decoration-color: #008080; font-weight: bold\">12</span>: <span style=\"color: #800080; text-decoration-color: #800080; font-weight: bold\">LubyInstance</span><span style=\"font-weight: bold\">(</span><span style=\"color: #808000; text-decoration-color: #808000\">start_shift</span>=<span style=\"color: #008080; text-decoration-color: #008080; font-weight: bold\">13.0</span>, <span style=\"color: #808000; text-decoration-color: #808000\">sticky_shift</span>=<span style=\"color: #008080; text-decoration-color: #008080; font-weight: bold\">0.09</span><span style=\"font-weight: bold\">)</span>,\n",
       "<span style=\"color: #7fbf7f; text-decoration-color: #7fbf7f\">│   </span><span style=\"color: #008080; text-decoration-color: #008080; font-weight: bold\">13</span>: <span style=\"color: #800080; text-decoration-color: #800080; font-weight: bold\">LubyInstance</span><span style=\"font-weight: bold\">(</span><span style=\"color: #808000; text-decoration-color: #808000\">start_shift</span>=<span style=\"color: #008080; text-decoration-color: #008080; font-weight: bold\">50.0</span>, <span style=\"color: #808000; text-decoration-color: #808000\">sticky_shift</span>=<span style=\"color: #008080; text-decoration-color: #008080; font-weight: bold\">0.07</span><span style=\"font-weight: bold\">)</span>,\n",
       "<span style=\"color: #7fbf7f; text-decoration-color: #7fbf7f\">│   </span><span style=\"color: #008080; text-decoration-color: #008080; font-weight: bold\">14</span>: <span style=\"color: #800080; text-decoration-color: #800080; font-weight: bold\">LubyInstance</span><span style=\"font-weight: bold\">(</span><span style=\"color: #808000; text-decoration-color: #808000\">start_shift</span>=<span style=\"color: #008080; text-decoration-color: #008080; font-weight: bold\">25.0</span>, <span style=\"color: #808000; text-decoration-color: #808000\">sticky_shift</span>=<span style=\"color: #008080; text-decoration-color: #008080; font-weight: bold\">-0.14</span><span style=\"font-weight: bold\">)</span>,\n",
       "<span style=\"color: #7fbf7f; text-decoration-color: #7fbf7f\">│   </span><span style=\"color: #008080; text-decoration-color: #008080; font-weight: bold\">15</span>: <span style=\"color: #800080; text-decoration-color: #800080; font-weight: bold\">LubyInstance</span><span style=\"font-weight: bold\">(</span><span style=\"color: #808000; text-decoration-color: #808000\">start_shift</span>=<span style=\"color: #008080; text-decoration-color: #008080; font-weight: bold\">1.0</span>, <span style=\"color: #808000; text-decoration-color: #808000\">sticky_shift</span>=<span style=\"color: #008080; text-decoration-color: #008080; font-weight: bold\">0.13</span><span style=\"font-weight: bold\">)</span>,\n",
       "<span style=\"color: #7fbf7f; text-decoration-color: #7fbf7f\">│   </span><span style=\"color: #008080; text-decoration-color: #008080; font-weight: bold\">16</span>: <span style=\"color: #800080; text-decoration-color: #800080; font-weight: bold\">LubyInstance</span><span style=\"font-weight: bold\">(</span><span style=\"color: #808000; text-decoration-color: #808000\">start_shift</span>=<span style=\"color: #008080; text-decoration-color: #008080; font-weight: bold\">32.0</span>, <span style=\"color: #808000; text-decoration-color: #808000\">sticky_shift</span>=<span style=\"color: #008080; text-decoration-color: #008080; font-weight: bold\">-0.29</span><span style=\"font-weight: bold\">)</span>,\n",
       "<span style=\"color: #7fbf7f; text-decoration-color: #7fbf7f\">│   </span><span style=\"color: #008080; text-decoration-color: #008080; font-weight: bold\">17</span>: <span style=\"color: #800080; text-decoration-color: #800080; font-weight: bold\">LubyInstance</span><span style=\"font-weight: bold\">(</span><span style=\"color: #808000; text-decoration-color: #808000\">start_shift</span>=<span style=\"color: #008080; text-decoration-color: #008080; font-weight: bold\">14.0</span>, <span style=\"color: #808000; text-decoration-color: #808000\">sticky_shift</span>=<span style=\"color: #008080; text-decoration-color: #008080; font-weight: bold\">0.01</span><span style=\"font-weight: bold\">)</span>,\n",
       "<span style=\"color: #7fbf7f; text-decoration-color: #7fbf7f\">│   </span><span style=\"color: #008080; text-decoration-color: #008080; font-weight: bold\">18</span>: <span style=\"color: #800080; text-decoration-color: #800080; font-weight: bold\">LubyInstance</span><span style=\"font-weight: bold\">(</span><span style=\"color: #808000; text-decoration-color: #808000\">start_shift</span>=<span style=\"color: #008080; text-decoration-color: #008080; font-weight: bold\">17.0</span>, <span style=\"color: #808000; text-decoration-color: #808000\">sticky_shift</span>=<span style=\"color: #008080; text-decoration-color: #008080; font-weight: bold\">-0.24</span><span style=\"font-weight: bold\">)</span>,\n",
       "<span style=\"color: #7fbf7f; text-decoration-color: #7fbf7f\">│   </span><span style=\"color: #008080; text-decoration-color: #008080; font-weight: bold\">19</span>: <span style=\"color: #800080; text-decoration-color: #800080; font-weight: bold\">LubyInstance</span><span style=\"font-weight: bold\">(</span><span style=\"color: #808000; text-decoration-color: #808000\">start_shift</span>=<span style=\"color: #008080; text-decoration-color: #008080; font-weight: bold\">31.0</span>, <span style=\"color: #808000; text-decoration-color: #808000\">sticky_shift</span>=<span style=\"color: #008080; text-decoration-color: #008080; font-weight: bold\">0.09</span><span style=\"font-weight: bold\">)</span>,\n",
       "<span style=\"color: #7fbf7f; text-decoration-color: #7fbf7f\">│   </span><span style=\"color: #008080; text-decoration-color: #008080; font-weight: bold\">20</span>: <span style=\"color: #800080; text-decoration-color: #800080; font-weight: bold\">LubyInstance</span><span style=\"font-weight: bold\">(</span><span style=\"color: #808000; text-decoration-color: #808000\">start_shift</span>=<span style=\"color: #008080; text-decoration-color: #008080; font-weight: bold\">26.0</span>, <span style=\"color: #808000; text-decoration-color: #808000\">sticky_shift</span>=<span style=\"color: #008080; text-decoration-color: #008080; font-weight: bold\">0.0</span><span style=\"font-weight: bold\">)</span>,\n",
       "<span style=\"color: #7fbf7f; text-decoration-color: #7fbf7f\">│   </span><span style=\"color: #008080; text-decoration-color: #008080; font-weight: bold\">21</span>: <span style=\"color: #800080; text-decoration-color: #800080; font-weight: bold\">LubyInstance</span><span style=\"font-weight: bold\">(</span><span style=\"color: #808000; text-decoration-color: #808000\">start_shift</span>=<span style=\"color: #008080; text-decoration-color: #008080; font-weight: bold\">26.0</span>, <span style=\"color: #808000; text-decoration-color: #808000\">sticky_shift</span>=<span style=\"color: #008080; text-decoration-color: #008080; font-weight: bold\">-0.2</span><span style=\"font-weight: bold\">)</span>,\n",
       "<span style=\"color: #7fbf7f; text-decoration-color: #7fbf7f\">│   </span><span style=\"color: #008080; text-decoration-color: #008080; font-weight: bold\">22</span>: <span style=\"color: #800080; text-decoration-color: #800080; font-weight: bold\">LubyInstance</span><span style=\"font-weight: bold\">(</span><span style=\"color: #808000; text-decoration-color: #808000\">start_shift</span>=<span style=\"color: #008080; text-decoration-color: #008080; font-weight: bold\">6.0</span>, <span style=\"color: #808000; text-decoration-color: #808000\">sticky_shift</span>=<span style=\"color: #008080; text-decoration-color: #008080; font-weight: bold\">-0.1</span><span style=\"font-weight: bold\">)</span>,\n",
       "<span style=\"color: #7fbf7f; text-decoration-color: #7fbf7f\">│   </span><span style=\"color: #008080; text-decoration-color: #008080; font-weight: bold\">23</span>: <span style=\"color: #800080; text-decoration-color: #800080; font-weight: bold\">LubyInstance</span><span style=\"font-weight: bold\">(</span><span style=\"color: #808000; text-decoration-color: #808000\">start_shift</span>=<span style=\"color: #008080; text-decoration-color: #008080; font-weight: bold\">13.0</span>, <span style=\"color: #808000; text-decoration-color: #808000\">sticky_shift</span>=<span style=\"color: #008080; text-decoration-color: #008080; font-weight: bold\">-0.02</span><span style=\"font-weight: bold\">)</span>,\n",
       "<span style=\"color: #7fbf7f; text-decoration-color: #7fbf7f\">│   </span><span style=\"color: #008080; text-decoration-color: #008080; font-weight: bold\">24</span>: <span style=\"color: #800080; text-decoration-color: #800080; font-weight: bold\">LubyInstance</span><span style=\"font-weight: bold\">(</span><span style=\"color: #808000; text-decoration-color: #808000\">start_shift</span>=<span style=\"color: #008080; text-decoration-color: #008080; font-weight: bold\">21.0</span>, <span style=\"color: #808000; text-decoration-color: #808000\">sticky_shift</span>=<span style=\"color: #008080; text-decoration-color: #008080; font-weight: bold\">-0.14</span><span style=\"font-weight: bold\">)</span>,\n",
       "<span style=\"color: #7fbf7f; text-decoration-color: #7fbf7f\">│   </span><span style=\"color: #008080; text-decoration-color: #008080; font-weight: bold\">25</span>: <span style=\"color: #800080; text-decoration-color: #800080; font-weight: bold\">LubyInstance</span><span style=\"font-weight: bold\">(</span><span style=\"color: #808000; text-decoration-color: #808000\">start_shift</span>=<span style=\"color: #008080; text-decoration-color: #008080; font-weight: bold\">15.0</span>, <span style=\"color: #808000; text-decoration-color: #808000\">sticky_shift</span>=<span style=\"color: #008080; text-decoration-color: #008080; font-weight: bold\">-0.14</span><span style=\"font-weight: bold\">)</span>,\n",
       "<span style=\"color: #7fbf7f; text-decoration-color: #7fbf7f\">│   </span><span style=\"color: #008080; text-decoration-color: #008080; font-weight: bold\">26</span>: <span style=\"color: #800080; text-decoration-color: #800080; font-weight: bold\">LubyInstance</span><span style=\"font-weight: bold\">(</span><span style=\"color: #808000; text-decoration-color: #808000\">start_shift</span>=<span style=\"color: #008080; text-decoration-color: #008080; font-weight: bold\">24.0</span>, <span style=\"color: #808000; text-decoration-color: #808000\">sticky_shift</span>=<span style=\"color: #008080; text-decoration-color: #008080; font-weight: bold\">0.22</span><span style=\"font-weight: bold\">)</span>,\n",
       "<span style=\"color: #7fbf7f; text-decoration-color: #7fbf7f\">│   </span><span style=\"color: #008080; text-decoration-color: #008080; font-weight: bold\">27</span>: <span style=\"color: #800080; text-decoration-color: #800080; font-weight: bold\">LubyInstance</span><span style=\"font-weight: bold\">(</span><span style=\"color: #808000; text-decoration-color: #808000\">start_shift</span>=<span style=\"color: #008080; text-decoration-color: #008080; font-weight: bold\">18.0</span>, <span style=\"color: #808000; text-decoration-color: #808000\">sticky_shift</span>=<span style=\"color: #008080; text-decoration-color: #008080; font-weight: bold\">-0.16</span><span style=\"font-weight: bold\">)</span>,\n",
       "<span style=\"color: #7fbf7f; text-decoration-color: #7fbf7f\">│   </span><span style=\"color: #008080; text-decoration-color: #008080; font-weight: bold\">28</span>: <span style=\"color: #800080; text-decoration-color: #800080; font-weight: bold\">LubyInstance</span><span style=\"font-weight: bold\">(</span><span style=\"color: #808000; text-decoration-color: #808000\">start_shift</span>=<span style=\"color: #008080; text-decoration-color: #008080; font-weight: bold\">14.0</span>, <span style=\"color: #808000; text-decoration-color: #808000\">sticky_shift</span>=<span style=\"color: #008080; text-decoration-color: #008080; font-weight: bold\">-0.05</span><span style=\"font-weight: bold\">)</span>,\n",
       "<span style=\"color: #7fbf7f; text-decoration-color: #7fbf7f\">│   </span><span style=\"color: #008080; text-decoration-color: #008080; font-weight: bold\">29</span>: <span style=\"color: #800080; text-decoration-color: #800080; font-weight: bold\">LubyInstance</span><span style=\"font-weight: bold\">(</span><span style=\"color: #808000; text-decoration-color: #808000\">start_shift</span>=<span style=\"color: #008080; text-decoration-color: #008080; font-weight: bold\">28.0</span>, <span style=\"color: #808000; text-decoration-color: #808000\">sticky_shift</span>=<span style=\"color: #008080; text-decoration-color: #008080; font-weight: bold\">0.2</span><span style=\"font-weight: bold\">)</span>,\n",
       "<span style=\"color: #7fbf7f; text-decoration-color: #7fbf7f\">│   </span><span style=\"color: #008080; text-decoration-color: #008080; font-weight: bold\">30</span>: <span style=\"color: #800080; text-decoration-color: #800080; font-weight: bold\">LubyInstance</span><span style=\"font-weight: bold\">(</span><span style=\"color: #808000; text-decoration-color: #808000\">start_shift</span>=<span style=\"color: #008080; text-decoration-color: #008080; font-weight: bold\">11.0</span>, <span style=\"color: #808000; text-decoration-color: #808000\">sticky_shift</span>=<span style=\"color: #008080; text-decoration-color: #008080; font-weight: bold\">-0.07</span><span style=\"font-weight: bold\">)</span>,\n",
       "<span style=\"color: #7fbf7f; text-decoration-color: #7fbf7f\">│   </span><span style=\"color: #008080; text-decoration-color: #008080; font-weight: bold\">31</span>: <span style=\"color: #800080; text-decoration-color: #800080; font-weight: bold\">LubyInstance</span><span style=\"font-weight: bold\">(</span><span style=\"color: #808000; text-decoration-color: #808000\">start_shift</span>=<span style=\"color: #008080; text-decoration-color: #008080; font-weight: bold\">16.0</span>, <span style=\"color: #808000; text-decoration-color: #808000\">sticky_shift</span>=<span style=\"color: #008080; text-decoration-color: #008080; font-weight: bold\">-0.13</span><span style=\"font-weight: bold\">)</span>,\n",
       "<span style=\"color: #7fbf7f; text-decoration-color: #7fbf7f\">│   </span><span style=\"color: #008080; text-decoration-color: #008080; font-weight: bold\">32</span>: <span style=\"color: #800080; text-decoration-color: #800080; font-weight: bold\">LubyInstance</span><span style=\"font-weight: bold\">(</span><span style=\"color: #808000; text-decoration-color: #808000\">start_shift</span>=<span style=\"color: #008080; text-decoration-color: #008080; font-weight: bold\">4.0</span>, <span style=\"color: #808000; text-decoration-color: #808000\">sticky_shift</span>=<span style=\"color: #008080; text-decoration-color: #008080; font-weight: bold\">0.07</span><span style=\"font-weight: bold\">)</span>,\n",
       "<span style=\"color: #7fbf7f; text-decoration-color: #7fbf7f\">│   </span><span style=\"color: #008080; text-decoration-color: #008080; font-weight: bold\">33</span>: <span style=\"color: #800080; text-decoration-color: #800080; font-weight: bold\">LubyInstance</span><span style=\"font-weight: bold\">(</span><span style=\"color: #808000; text-decoration-color: #808000\">start_shift</span>=<span style=\"color: #008080; text-decoration-color: #008080; font-weight: bold\">25.0</span>, <span style=\"color: #808000; text-decoration-color: #808000\">sticky_shift</span>=<span style=\"color: #008080; text-decoration-color: #008080; font-weight: bold\">0.03</span><span style=\"font-weight: bold\">)</span>,\n",
       "<span style=\"color: #7fbf7f; text-decoration-color: #7fbf7f\">│   </span><span style=\"color: #008080; text-decoration-color: #008080; font-weight: bold\">34</span>: <span style=\"color: #800080; text-decoration-color: #800080; font-weight: bold\">LubyInstance</span><span style=\"font-weight: bold\">(</span><span style=\"color: #808000; text-decoration-color: #808000\">start_shift</span>=<span style=\"color: #008080; text-decoration-color: #008080; font-weight: bold\">41.0</span>, <span style=\"color: #808000; text-decoration-color: #808000\">sticky_shift</span>=<span style=\"color: #008080; text-decoration-color: #008080; font-weight: bold\">0.05</span><span style=\"font-weight: bold\">)</span>,\n",
       "<span style=\"color: #7fbf7f; text-decoration-color: #7fbf7f\">│   </span><span style=\"color: #008080; text-decoration-color: #008080; font-weight: bold\">35</span>: <span style=\"color: #800080; text-decoration-color: #800080; font-weight: bold\">LubyInstance</span><span style=\"font-weight: bold\">(</span><span style=\"color: #808000; text-decoration-color: #808000\">start_shift</span>=<span style=\"color: #008080; text-decoration-color: #008080; font-weight: bold\">31.0</span>, <span style=\"color: #808000; text-decoration-color: #808000\">sticky_shift</span>=<span style=\"color: #008080; text-decoration-color: #008080; font-weight: bold\">-0.0</span><span style=\"font-weight: bold\">)</span>,\n",
       "<span style=\"color: #7fbf7f; text-decoration-color: #7fbf7f\">│   </span><span style=\"color: #008080; text-decoration-color: #008080; font-weight: bold\">36</span>: <span style=\"color: #800080; text-decoration-color: #800080; font-weight: bold\">LubyInstance</span><span style=\"font-weight: bold\">(</span><span style=\"color: #808000; text-decoration-color: #808000\">start_shift</span>=<span style=\"color: #008080; text-decoration-color: #008080; font-weight: bold\">10.0</span>, <span style=\"color: #808000; text-decoration-color: #808000\">sticky_shift</span>=<span style=\"color: #008080; text-decoration-color: #008080; font-weight: bold\">0.08</span><span style=\"font-weight: bold\">)</span>,\n",
       "<span style=\"color: #7fbf7f; text-decoration-color: #7fbf7f\">│   </span><span style=\"color: #008080; text-decoration-color: #008080; font-weight: bold\">37</span>: <span style=\"color: #800080; text-decoration-color: #800080; font-weight: bold\">LubyInstance</span><span style=\"font-weight: bold\">(</span><span style=\"color: #808000; text-decoration-color: #808000\">start_shift</span>=<span style=\"color: #008080; text-decoration-color: #008080; font-weight: bold\">14.0</span>, <span style=\"color: #808000; text-decoration-color: #808000\">sticky_shift</span>=<span style=\"color: #008080; text-decoration-color: #008080; font-weight: bold\">-0.11</span><span style=\"font-weight: bold\">)</span>,\n",
       "<span style=\"color: #7fbf7f; text-decoration-color: #7fbf7f\">│   </span><span style=\"color: #008080; text-decoration-color: #008080; font-weight: bold\">38</span>: <span style=\"color: #800080; text-decoration-color: #800080; font-weight: bold\">LubyInstance</span><span style=\"font-weight: bold\">(</span><span style=\"color: #808000; text-decoration-color: #808000\">start_shift</span>=<span style=\"color: #008080; text-decoration-color: #008080; font-weight: bold\">7.0</span>, <span style=\"color: #808000; text-decoration-color: #808000\">sticky_shift</span>=<span style=\"color: #008080; text-decoration-color: #008080; font-weight: bold\">0.12</span><span style=\"font-weight: bold\">)</span>,\n",
       "<span style=\"color: #7fbf7f; text-decoration-color: #7fbf7f\">│   </span><span style=\"color: #008080; text-decoration-color: #008080; font-weight: bold\">39</span>: <span style=\"color: #800080; text-decoration-color: #800080; font-weight: bold\">LubyInstance</span><span style=\"font-weight: bold\">(</span><span style=\"color: #808000; text-decoration-color: #808000\">start_shift</span>=<span style=\"color: #008080; text-decoration-color: #008080; font-weight: bold\">14.0</span>, <span style=\"color: #808000; text-decoration-color: #808000\">sticky_shift</span>=<span style=\"color: #008080; text-decoration-color: #008080; font-weight: bold\">0.21</span><span style=\"font-weight: bold\">)</span>,\n",
       "<span style=\"color: #7fbf7f; text-decoration-color: #7fbf7f\">│   </span><span style=\"color: #008080; text-decoration-color: #008080; font-weight: bold\">40</span>: <span style=\"color: #800080; text-decoration-color: #800080; font-weight: bold\">LubyInstance</span><span style=\"font-weight: bold\">(</span><span style=\"color: #808000; text-decoration-color: #808000\">start_shift</span>=<span style=\"color: #008080; text-decoration-color: #008080; font-weight: bold\">36.0</span>, <span style=\"color: #808000; text-decoration-color: #808000\">sticky_shift</span>=<span style=\"color: #008080; text-decoration-color: #008080; font-weight: bold\">0.01</span><span style=\"font-weight: bold\">)</span>,\n",
       "<span style=\"color: #7fbf7f; text-decoration-color: #7fbf7f\">│   </span><span style=\"color: #008080; text-decoration-color: #008080; font-weight: bold\">41</span>: <span style=\"color: #800080; text-decoration-color: #800080; font-weight: bold\">LubyInstance</span><span style=\"font-weight: bold\">(</span><span style=\"color: #808000; text-decoration-color: #808000\">start_shift</span>=<span style=\"color: #008080; text-decoration-color: #008080; font-weight: bold\">7.0</span>, <span style=\"color: #808000; text-decoration-color: #808000\">sticky_shift</span>=<span style=\"color: #008080; text-decoration-color: #008080; font-weight: bold\">0.09</span><span style=\"font-weight: bold\">)</span>,\n",
       "<span style=\"color: #7fbf7f; text-decoration-color: #7fbf7f\">│   </span><span style=\"color: #008080; text-decoration-color: #008080; font-weight: bold\">42</span>: <span style=\"color: #800080; text-decoration-color: #800080; font-weight: bold\">LubyInstance</span><span style=\"font-weight: bold\">(</span><span style=\"color: #808000; text-decoration-color: #808000\">start_shift</span>=<span style=\"color: #008080; text-decoration-color: #008080; font-weight: bold\">11.0</span>, <span style=\"color: #808000; text-decoration-color: #808000\">sticky_shift</span>=<span style=\"color: #008080; text-decoration-color: #008080; font-weight: bold\">-0.0</span><span style=\"font-weight: bold\">)</span>,\n",
       "<span style=\"color: #7fbf7f; text-decoration-color: #7fbf7f\">│   </span><span style=\"color: #008080; text-decoration-color: #008080; font-weight: bold\">43</span>: <span style=\"color: #800080; text-decoration-color: #800080; font-weight: bold\">LubyInstance</span><span style=\"font-weight: bold\">(</span><span style=\"color: #808000; text-decoration-color: #808000\">start_shift</span>=<span style=\"color: #008080; text-decoration-color: #008080; font-weight: bold\">7.0</span>, <span style=\"color: #808000; text-decoration-color: #808000\">sticky_shift</span>=<span style=\"color: #008080; text-decoration-color: #008080; font-weight: bold\">-0.06</span><span style=\"font-weight: bold\">)</span>,\n",
       "<span style=\"color: #7fbf7f; text-decoration-color: #7fbf7f\">│   </span><span style=\"color: #008080; text-decoration-color: #008080; font-weight: bold\">44</span>: <span style=\"color: #800080; text-decoration-color: #800080; font-weight: bold\">LubyInstance</span><span style=\"font-weight: bold\">(</span><span style=\"color: #808000; text-decoration-color: #808000\">start_shift</span>=<span style=\"color: #008080; text-decoration-color: #008080; font-weight: bold\">19.0</span>, <span style=\"color: #808000; text-decoration-color: #808000\">sticky_shift</span>=<span style=\"color: #008080; text-decoration-color: #008080; font-weight: bold\">-0.07</span><span style=\"font-weight: bold\">)</span>,\n",
       "<span style=\"color: #7fbf7f; text-decoration-color: #7fbf7f\">│   </span><span style=\"color: #008080; text-decoration-color: #008080; font-weight: bold\">45</span>: <span style=\"color: #800080; text-decoration-color: #800080; font-weight: bold\">LubyInstance</span><span style=\"font-weight: bold\">(</span><span style=\"color: #808000; text-decoration-color: #808000\">start_shift</span>=<span style=\"color: #008080; text-decoration-color: #008080; font-weight: bold\">24.0</span>, <span style=\"color: #808000; text-decoration-color: #808000\">sticky_shift</span>=<span style=\"color: #008080; text-decoration-color: #008080; font-weight: bold\">0.12</span><span style=\"font-weight: bold\">)</span>,\n",
       "<span style=\"color: #7fbf7f; text-decoration-color: #7fbf7f\">│   </span><span style=\"color: #008080; text-decoration-color: #008080; font-weight: bold\">46</span>: <span style=\"color: #800080; text-decoration-color: #800080; font-weight: bold\">LubyInstance</span><span style=\"font-weight: bold\">(</span><span style=\"color: #808000; text-decoration-color: #808000\">start_shift</span>=<span style=\"color: #008080; text-decoration-color: #008080; font-weight: bold\">28.0</span>, <span style=\"color: #808000; text-decoration-color: #808000\">sticky_shift</span>=<span style=\"color: #008080; text-decoration-color: #008080; font-weight: bold\">0.25</span><span style=\"font-weight: bold\">)</span>,\n",
       "<span style=\"color: #7fbf7f; text-decoration-color: #7fbf7f\">│   </span><span style=\"color: #008080; text-decoration-color: #008080; font-weight: bold\">47</span>: <span style=\"color: #800080; text-decoration-color: #800080; font-weight: bold\">LubyInstance</span><span style=\"font-weight: bold\">(</span><span style=\"color: #808000; text-decoration-color: #808000\">start_shift</span>=<span style=\"color: #008080; text-decoration-color: #008080; font-weight: bold\">3.0</span>, <span style=\"color: #808000; text-decoration-color: #808000\">sticky_shift</span>=<span style=\"color: #008080; text-decoration-color: #008080; font-weight: bold\">0.2</span><span style=\"font-weight: bold\">)</span>,\n",
       "<span style=\"color: #7fbf7f; text-decoration-color: #7fbf7f\">│   </span><span style=\"color: #008080; text-decoration-color: #008080; font-weight: bold\">48</span>: <span style=\"color: #800080; text-decoration-color: #800080; font-weight: bold\">LubyInstance</span><span style=\"font-weight: bold\">(</span><span style=\"color: #808000; text-decoration-color: #808000\">start_shift</span>=<span style=\"color: #008080; text-decoration-color: #008080; font-weight: bold\">10.0</span>, <span style=\"color: #808000; text-decoration-color: #808000\">sticky_shift</span>=<span style=\"color: #008080; text-decoration-color: #008080; font-weight: bold\">0.14</span><span style=\"font-weight: bold\">)</span>,\n",
       "<span style=\"color: #7fbf7f; text-decoration-color: #7fbf7f\">│   </span><span style=\"color: #008080; text-decoration-color: #008080; font-weight: bold\">49</span>: <span style=\"color: #800080; text-decoration-color: #800080; font-weight: bold\">LubyInstance</span><span style=\"font-weight: bold\">(</span><span style=\"color: #808000; text-decoration-color: #808000\">start_shift</span>=<span style=\"color: #008080; text-decoration-color: #008080; font-weight: bold\">32.0</span>, <span style=\"color: #808000; text-decoration-color: #808000\">sticky_shift</span>=<span style=\"color: #008080; text-decoration-color: #008080; font-weight: bold\">-0.26</span><span style=\"font-weight: bold\">)</span>,\n",
       "<span style=\"color: #7fbf7f; text-decoration-color: #7fbf7f\">│   </span><span style=\"color: #008080; text-decoration-color: #008080; font-weight: bold\">50</span>: <span style=\"color: #800080; text-decoration-color: #800080; font-weight: bold\">LubyInstance</span><span style=\"font-weight: bold\">(</span><span style=\"color: #808000; text-decoration-color: #808000\">start_shift</span>=<span style=\"color: #008080; text-decoration-color: #008080; font-weight: bold\">6.0</span>, <span style=\"color: #808000; text-decoration-color: #808000\">sticky_shift</span>=<span style=\"color: #008080; text-decoration-color: #008080; font-weight: bold\">-0.08</span><span style=\"font-weight: bold\">)</span>,\n",
       "<span style=\"color: #7fbf7f; text-decoration-color: #7fbf7f\">│   </span><span style=\"color: #008080; text-decoration-color: #008080; font-weight: bold\">51</span>: <span style=\"color: #800080; text-decoration-color: #800080; font-weight: bold\">LubyInstance</span><span style=\"font-weight: bold\">(</span><span style=\"color: #808000; text-decoration-color: #808000\">start_shift</span>=<span style=\"color: #008080; text-decoration-color: #008080; font-weight: bold\">18.0</span>, <span style=\"color: #808000; text-decoration-color: #808000\">sticky_shift</span>=<span style=\"color: #008080; text-decoration-color: #008080; font-weight: bold\">-0.2</span><span style=\"font-weight: bold\">)</span>,\n",
       "<span style=\"color: #7fbf7f; text-decoration-color: #7fbf7f\">│   </span><span style=\"color: #008080; text-decoration-color: #008080; font-weight: bold\">52</span>: <span style=\"color: #800080; text-decoration-color: #800080; font-weight: bold\">LubyInstance</span><span style=\"font-weight: bold\">(</span><span style=\"color: #808000; text-decoration-color: #808000\">start_shift</span>=<span style=\"color: #008080; text-decoration-color: #008080; font-weight: bold\">4.0</span>, <span style=\"color: #808000; text-decoration-color: #808000\">sticky_shift</span>=<span style=\"color: #008080; text-decoration-color: #008080; font-weight: bold\">0.01</span><span style=\"font-weight: bold\">)</span>,\n",
       "<span style=\"color: #7fbf7f; text-decoration-color: #7fbf7f\">│   </span><span style=\"color: #008080; text-decoration-color: #008080; font-weight: bold\">53</span>: <span style=\"color: #800080; text-decoration-color: #800080; font-weight: bold\">LubyInstance</span><span style=\"font-weight: bold\">(</span><span style=\"color: #808000; text-decoration-color: #808000\">start_shift</span>=<span style=\"color: #008080; text-decoration-color: #008080; font-weight: bold\">21.0</span>, <span style=\"color: #808000; text-decoration-color: #808000\">sticky_shift</span>=<span style=\"color: #008080; text-decoration-color: #008080; font-weight: bold\">0.16</span><span style=\"font-weight: bold\">)</span>,\n",
       "<span style=\"color: #7fbf7f; text-decoration-color: #7fbf7f\">│   </span><span style=\"color: #008080; text-decoration-color: #008080; font-weight: bold\">54</span>: <span style=\"color: #800080; text-decoration-color: #800080; font-weight: bold\">LubyInstance</span><span style=\"font-weight: bold\">(</span><span style=\"color: #808000; text-decoration-color: #808000\">start_shift</span>=<span style=\"color: #008080; text-decoration-color: #008080; font-weight: bold\">19.0</span>, <span style=\"color: #808000; text-decoration-color: #808000\">sticky_shift</span>=<span style=\"color: #008080; text-decoration-color: #008080; font-weight: bold\">0.03</span><span style=\"font-weight: bold\">)</span>,\n",
       "<span style=\"color: #7fbf7f; text-decoration-color: #7fbf7f\">│   </span><span style=\"color: #008080; text-decoration-color: #008080; font-weight: bold\">55</span>: <span style=\"color: #800080; text-decoration-color: #800080; font-weight: bold\">LubyInstance</span><span style=\"font-weight: bold\">(</span><span style=\"color: #808000; text-decoration-color: #808000\">start_shift</span>=<span style=\"color: #008080; text-decoration-color: #008080; font-weight: bold\">21.0</span>, <span style=\"color: #808000; text-decoration-color: #808000\">sticky_shift</span>=<span style=\"color: #008080; text-decoration-color: #008080; font-weight: bold\">-0.1</span><span style=\"font-weight: bold\">)</span>,\n",
       "<span style=\"color: #7fbf7f; text-decoration-color: #7fbf7f\">│   </span><span style=\"color: #008080; text-decoration-color: #008080; font-weight: bold\">56</span>: <span style=\"color: #800080; text-decoration-color: #800080; font-weight: bold\">LubyInstance</span><span style=\"font-weight: bold\">(</span><span style=\"color: #808000; text-decoration-color: #808000\">start_shift</span>=<span style=\"color: #008080; text-decoration-color: #008080; font-weight: bold\">32.0</span>, <span style=\"color: #808000; text-decoration-color: #808000\">sticky_shift</span>=<span style=\"color: #008080; text-decoration-color: #008080; font-weight: bold\">-0.02</span><span style=\"font-weight: bold\">)</span>,\n",
       "<span style=\"color: #7fbf7f; text-decoration-color: #7fbf7f\">│   </span><span style=\"color: #008080; text-decoration-color: #008080; font-weight: bold\">57</span>: <span style=\"color: #800080; text-decoration-color: #800080; font-weight: bold\">LubyInstance</span><span style=\"font-weight: bold\">(</span><span style=\"color: #808000; text-decoration-color: #808000\">start_shift</span>=<span style=\"color: #008080; text-decoration-color: #008080; font-weight: bold\">1.0</span>, <span style=\"color: #808000; text-decoration-color: #808000\">sticky_shift</span>=<span style=\"color: #008080; text-decoration-color: #008080; font-weight: bold\">0.26</span><span style=\"font-weight: bold\">)</span>,\n",
       "<span style=\"color: #7fbf7f; text-decoration-color: #7fbf7f\">│   </span><span style=\"color: #008080; text-decoration-color: #008080; font-weight: bold\">58</span>: <span style=\"color: #800080; text-decoration-color: #800080; font-weight: bold\">LubyInstance</span><span style=\"font-weight: bold\">(</span><span style=\"color: #808000; text-decoration-color: #808000\">start_shift</span>=<span style=\"color: #008080; text-decoration-color: #008080; font-weight: bold\">19.0</span>, <span style=\"color: #808000; text-decoration-color: #808000\">sticky_shift</span>=<span style=\"color: #008080; text-decoration-color: #008080; font-weight: bold\">0.0</span><span style=\"font-weight: bold\">)</span>,\n",
       "<span style=\"color: #7fbf7f; text-decoration-color: #7fbf7f\">│   </span><span style=\"color: #008080; text-decoration-color: #008080; font-weight: bold\">59</span>: <span style=\"color: #800080; text-decoration-color: #800080; font-weight: bold\">LubyInstance</span><span style=\"font-weight: bold\">(</span><span style=\"color: #808000; text-decoration-color: #808000\">start_shift</span>=<span style=\"color: #008080; text-decoration-color: #008080; font-weight: bold\">20.0</span>, <span style=\"color: #808000; text-decoration-color: #808000\">sticky_shift</span>=<span style=\"color: #008080; text-decoration-color: #008080; font-weight: bold\">-0.0</span><span style=\"font-weight: bold\">)</span>,\n",
       "<span style=\"color: #7fbf7f; text-decoration-color: #7fbf7f\">│   </span><span style=\"color: #008080; text-decoration-color: #008080; font-weight: bold\">60</span>: <span style=\"color: #800080; text-decoration-color: #800080; font-weight: bold\">LubyInstance</span><span style=\"font-weight: bold\">(</span><span style=\"color: #808000; text-decoration-color: #808000\">start_shift</span>=<span style=\"color: #008080; text-decoration-color: #008080; font-weight: bold\">34.0</span>, <span style=\"color: #808000; text-decoration-color: #808000\">sticky_shift</span>=<span style=\"color: #008080; text-decoration-color: #008080; font-weight: bold\">0.01</span><span style=\"font-weight: bold\">)</span>,\n",
       "<span style=\"color: #7fbf7f; text-decoration-color: #7fbf7f\">│   </span><span style=\"color: #008080; text-decoration-color: #008080; font-weight: bold\">61</span>: <span style=\"color: #800080; text-decoration-color: #800080; font-weight: bold\">LubyInstance</span><span style=\"font-weight: bold\">(</span><span style=\"color: #808000; text-decoration-color: #808000\">start_shift</span>=<span style=\"color: #008080; text-decoration-color: #008080; font-weight: bold\">2.0</span>, <span style=\"color: #808000; text-decoration-color: #808000\">sticky_shift</span>=<span style=\"color: #008080; text-decoration-color: #008080; font-weight: bold\">0.03</span><span style=\"font-weight: bold\">)</span>,\n",
       "<span style=\"color: #7fbf7f; text-decoration-color: #7fbf7f\">│   </span><span style=\"color: #008080; text-decoration-color: #008080; font-weight: bold\">62</span>: <span style=\"color: #800080; text-decoration-color: #800080; font-weight: bold\">LubyInstance</span><span style=\"font-weight: bold\">(</span><span style=\"color: #808000; text-decoration-color: #808000\">start_shift</span>=<span style=\"color: #008080; text-decoration-color: #008080; font-weight: bold\">18.0</span>, <span style=\"color: #808000; text-decoration-color: #808000\">sticky_shift</span>=<span style=\"color: #008080; text-decoration-color: #008080; font-weight: bold\">0.23</span><span style=\"font-weight: bold\">)</span>,\n",
       "<span style=\"color: #7fbf7f; text-decoration-color: #7fbf7f\">│   </span><span style=\"color: #008080; text-decoration-color: #008080; font-weight: bold\">63</span>: <span style=\"color: #800080; text-decoration-color: #800080; font-weight: bold\">LubyInstance</span><span style=\"font-weight: bold\">(</span><span style=\"color: #808000; text-decoration-color: #808000\">start_shift</span>=<span style=\"color: #008080; text-decoration-color: #008080; font-weight: bold\">12.0</span>, <span style=\"color: #808000; text-decoration-color: #808000\">sticky_shift</span>=<span style=\"color: #008080; text-decoration-color: #008080; font-weight: bold\">-0.09</span><span style=\"font-weight: bold\">)</span>,\n",
       "<span style=\"color: #7fbf7f; text-decoration-color: #7fbf7f\">│   </span><span style=\"color: #008080; text-decoration-color: #008080; font-weight: bold\">64</span>: <span style=\"color: #800080; text-decoration-color: #800080; font-weight: bold\">LubyInstance</span><span style=\"font-weight: bold\">(</span><span style=\"color: #808000; text-decoration-color: #808000\">start_shift</span>=<span style=\"color: #008080; text-decoration-color: #008080; font-weight: bold\">3.0</span>, <span style=\"color: #808000; text-decoration-color: #808000\">sticky_shift</span>=<span style=\"color: #008080; text-decoration-color: #008080; font-weight: bold\">-0.01</span><span style=\"font-weight: bold\">)</span>,\n",
       "<span style=\"color: #7fbf7f; text-decoration-color: #7fbf7f\">│   </span><span style=\"color: #008080; text-decoration-color: #008080; font-weight: bold\">65</span>: <span style=\"color: #800080; text-decoration-color: #800080; font-weight: bold\">LubyInstance</span><span style=\"font-weight: bold\">(</span><span style=\"color: #808000; text-decoration-color: #808000\">start_shift</span>=<span style=\"color: #008080; text-decoration-color: #008080; font-weight: bold\">13.0</span>, <span style=\"color: #808000; text-decoration-color: #808000\">sticky_shift</span>=<span style=\"color: #008080; text-decoration-color: #008080; font-weight: bold\">-0.28</span><span style=\"font-weight: bold\">)</span>,\n",
       "<span style=\"color: #7fbf7f; text-decoration-color: #7fbf7f\">│   </span><span style=\"color: #008080; text-decoration-color: #008080; font-weight: bold\">66</span>: <span style=\"color: #800080; text-decoration-color: #800080; font-weight: bold\">LubyInstance</span><span style=\"font-weight: bold\">(</span><span style=\"color: #808000; text-decoration-color: #808000\">start_shift</span>=<span style=\"color: #008080; text-decoration-color: #008080; font-weight: bold\">21.0</span>, <span style=\"color: #808000; text-decoration-color: #808000\">sticky_shift</span>=<span style=\"color: #008080; text-decoration-color: #008080; font-weight: bold\">0.09</span><span style=\"font-weight: bold\">)</span>,\n",
       "<span style=\"color: #7fbf7f; text-decoration-color: #7fbf7f\">│   </span><span style=\"color: #008080; text-decoration-color: #008080; font-weight: bold\">67</span>: <span style=\"color: #800080; text-decoration-color: #800080; font-weight: bold\">LubyInstance</span><span style=\"font-weight: bold\">(</span><span style=\"color: #808000; text-decoration-color: #808000\">start_shift</span>=<span style=\"color: #008080; text-decoration-color: #008080; font-weight: bold\">22.0</span>, <span style=\"color: #808000; text-decoration-color: #808000\">sticky_shift</span>=<span style=\"color: #008080; text-decoration-color: #008080; font-weight: bold\">-0.03</span><span style=\"font-weight: bold\">)</span>,\n",
       "<span style=\"color: #7fbf7f; text-decoration-color: #7fbf7f\">│   </span><span style=\"color: #008080; text-decoration-color: #008080; font-weight: bold\">68</span>: <span style=\"color: #800080; text-decoration-color: #800080; font-weight: bold\">LubyInstance</span><span style=\"font-weight: bold\">(</span><span style=\"color: #808000; text-decoration-color: #808000\">start_shift</span>=<span style=\"color: #008080; text-decoration-color: #008080; font-weight: bold\">0.0</span>, <span style=\"color: #808000; text-decoration-color: #808000\">sticky_shift</span>=<span style=\"color: #008080; text-decoration-color: #008080; font-weight: bold\">0.2</span><span style=\"font-weight: bold\">)</span>,\n",
       "<span style=\"color: #7fbf7f; text-decoration-color: #7fbf7f\">│   </span><span style=\"color: #008080; text-decoration-color: #008080; font-weight: bold\">69</span>: <span style=\"color: #800080; text-decoration-color: #800080; font-weight: bold\">LubyInstance</span><span style=\"font-weight: bold\">(</span><span style=\"color: #808000; text-decoration-color: #808000\">start_shift</span>=<span style=\"color: #008080; text-decoration-color: #008080; font-weight: bold\">25.0</span>, <span style=\"color: #808000; text-decoration-color: #808000\">sticky_shift</span>=<span style=\"color: #008080; text-decoration-color: #008080; font-weight: bold\">-0.15</span><span style=\"font-weight: bold\">)</span>,\n",
       "<span style=\"color: #7fbf7f; text-decoration-color: #7fbf7f\">│   </span><span style=\"color: #008080; text-decoration-color: #008080; font-weight: bold\">70</span>: <span style=\"color: #800080; text-decoration-color: #800080; font-weight: bold\">LubyInstance</span><span style=\"font-weight: bold\">(</span><span style=\"color: #808000; text-decoration-color: #808000\">start_shift</span>=<span style=\"color: #008080; text-decoration-color: #008080; font-weight: bold\">9.0</span>, <span style=\"color: #808000; text-decoration-color: #808000\">sticky_shift</span>=<span style=\"color: #008080; text-decoration-color: #008080; font-weight: bold\">0.04</span><span style=\"font-weight: bold\">)</span>,\n",
       "<span style=\"color: #7fbf7f; text-decoration-color: #7fbf7f\">│   </span><span style=\"color: #008080; text-decoration-color: #008080; font-weight: bold\">71</span>: <span style=\"color: #800080; text-decoration-color: #800080; font-weight: bold\">LubyInstance</span><span style=\"font-weight: bold\">(</span><span style=\"color: #808000; text-decoration-color: #808000\">start_shift</span>=<span style=\"color: #008080; text-decoration-color: #008080; font-weight: bold\">10.0</span>, <span style=\"color: #808000; text-decoration-color: #808000\">sticky_shift</span>=<span style=\"color: #008080; text-decoration-color: #008080; font-weight: bold\">-0.15</span><span style=\"font-weight: bold\">)</span>,\n",
       "<span style=\"color: #7fbf7f; text-decoration-color: #7fbf7f\">│   </span><span style=\"color: #008080; text-decoration-color: #008080; font-weight: bold\">72</span>: <span style=\"color: #800080; text-decoration-color: #800080; font-weight: bold\">LubyInstance</span><span style=\"font-weight: bold\">(</span><span style=\"color: #808000; text-decoration-color: #808000\">start_shift</span>=<span style=\"color: #008080; text-decoration-color: #008080; font-weight: bold\">5.0</span>, <span style=\"color: #808000; text-decoration-color: #808000\">sticky_shift</span>=<span style=\"color: #008080; text-decoration-color: #008080; font-weight: bold\">0.17</span><span style=\"font-weight: bold\">)</span>,\n",
       "<span style=\"color: #7fbf7f; text-decoration-color: #7fbf7f\">│   </span><span style=\"color: #008080; text-decoration-color: #008080; font-weight: bold\">73</span>: <span style=\"color: #800080; text-decoration-color: #800080; font-weight: bold\">LubyInstance</span><span style=\"font-weight: bold\">(</span><span style=\"color: #808000; text-decoration-color: #808000\">start_shift</span>=<span style=\"color: #008080; text-decoration-color: #008080; font-weight: bold\">8.0</span>, <span style=\"color: #808000; text-decoration-color: #808000\">sticky_shift</span>=<span style=\"color: #008080; text-decoration-color: #008080; font-weight: bold\">0.03</span><span style=\"font-weight: bold\">)</span>,\n",
       "<span style=\"color: #7fbf7f; text-decoration-color: #7fbf7f\">│   </span><span style=\"color: #008080; text-decoration-color: #008080; font-weight: bold\">74</span>: <span style=\"color: #800080; text-decoration-color: #800080; font-weight: bold\">LubyInstance</span><span style=\"font-weight: bold\">(</span><span style=\"color: #808000; text-decoration-color: #808000\">start_shift</span>=<span style=\"color: #008080; text-decoration-color: #008080; font-weight: bold\">13.0</span>, <span style=\"color: #808000; text-decoration-color: #808000\">sticky_shift</span>=<span style=\"color: #008080; text-decoration-color: #008080; font-weight: bold\">-0.03</span><span style=\"font-weight: bold\">)</span>,\n",
       "<span style=\"color: #7fbf7f; text-decoration-color: #7fbf7f\">│   </span><span style=\"color: #008080; text-decoration-color: #008080; font-weight: bold\">75</span>: <span style=\"color: #800080; text-decoration-color: #800080; font-weight: bold\">LubyInstance</span><span style=\"font-weight: bold\">(</span><span style=\"color: #808000; text-decoration-color: #808000\">start_shift</span>=<span style=\"color: #008080; text-decoration-color: #008080; font-weight: bold\">30.0</span>, <span style=\"color: #808000; text-decoration-color: #808000\">sticky_shift</span>=<span style=\"color: #008080; text-decoration-color: #008080; font-weight: bold\">0.08</span><span style=\"font-weight: bold\">)</span>,\n",
       "<span style=\"color: #7fbf7f; text-decoration-color: #7fbf7f\">│   </span><span style=\"color: #008080; text-decoration-color: #008080; font-weight: bold\">76</span>: <span style=\"color: #800080; text-decoration-color: #800080; font-weight: bold\">LubyInstance</span><span style=\"font-weight: bold\">(</span><span style=\"color: #808000; text-decoration-color: #808000\">start_shift</span>=<span style=\"color: #008080; text-decoration-color: #008080; font-weight: bold\">8.0</span>, <span style=\"color: #808000; text-decoration-color: #808000\">sticky_shift</span>=<span style=\"color: #008080; text-decoration-color: #008080; font-weight: bold\">-0.23</span><span style=\"font-weight: bold\">)</span>,\n",
       "<span style=\"color: #7fbf7f; text-decoration-color: #7fbf7f\">│   </span><span style=\"color: #008080; text-decoration-color: #008080; font-weight: bold\">77</span>: <span style=\"color: #800080; text-decoration-color: #800080; font-weight: bold\">LubyInstance</span><span style=\"font-weight: bold\">(</span><span style=\"color: #808000; text-decoration-color: #808000\">start_shift</span>=<span style=\"color: #008080; text-decoration-color: #008080; font-weight: bold\">6.0</span>, <span style=\"color: #808000; text-decoration-color: #808000\">sticky_shift</span>=<span style=\"color: #008080; text-decoration-color: #008080; font-weight: bold\">0.22</span><span style=\"font-weight: bold\">)</span>,\n",
       "<span style=\"color: #7fbf7f; text-decoration-color: #7fbf7f\">│   </span><span style=\"color: #008080; text-decoration-color: #008080; font-weight: bold\">78</span>: <span style=\"color: #800080; text-decoration-color: #800080; font-weight: bold\">LubyInstance</span><span style=\"font-weight: bold\">(</span><span style=\"color: #808000; text-decoration-color: #808000\">start_shift</span>=<span style=\"color: #008080; text-decoration-color: #008080; font-weight: bold\">28.0</span>, <span style=\"color: #808000; text-decoration-color: #808000\">sticky_shift</span>=<span style=\"color: #008080; text-decoration-color: #008080; font-weight: bold\">0.25</span><span style=\"font-weight: bold\">)</span>,\n",
       "<span style=\"color: #7fbf7f; text-decoration-color: #7fbf7f\">│   </span><span style=\"color: #008080; text-decoration-color: #008080; font-weight: bold\">79</span>: <span style=\"color: #800080; text-decoration-color: #800080; font-weight: bold\">LubyInstance</span><span style=\"font-weight: bold\">(</span><span style=\"color: #808000; text-decoration-color: #808000\">start_shift</span>=<span style=\"color: #008080; text-decoration-color: #008080; font-weight: bold\">2.0</span>, <span style=\"color: #808000; text-decoration-color: #808000\">sticky_shift</span>=<span style=\"color: #008080; text-decoration-color: #008080; font-weight: bold\">0.03</span><span style=\"font-weight: bold\">)</span>,\n",
       "<span style=\"color: #7fbf7f; text-decoration-color: #7fbf7f\">│   </span><span style=\"color: #008080; text-decoration-color: #008080; font-weight: bold\">80</span>: <span style=\"color: #800080; text-decoration-color: #800080; font-weight: bold\">LubyInstance</span><span style=\"font-weight: bold\">(</span><span style=\"color: #808000; text-decoration-color: #808000\">start_shift</span>=<span style=\"color: #008080; text-decoration-color: #008080; font-weight: bold\">14.0</span>, <span style=\"color: #808000; text-decoration-color: #808000\">sticky_shift</span>=<span style=\"color: #008080; text-decoration-color: #008080; font-weight: bold\">-0.3</span><span style=\"font-weight: bold\">)</span>,\n",
       "<span style=\"color: #7fbf7f; text-decoration-color: #7fbf7f\">│   </span><span style=\"color: #008080; text-decoration-color: #008080; font-weight: bold\">81</span>: <span style=\"color: #800080; text-decoration-color: #800080; font-weight: bold\">LubyInstance</span><span style=\"font-weight: bold\">(</span><span style=\"color: #808000; text-decoration-color: #808000\">start_shift</span>=<span style=\"color: #008080; text-decoration-color: #008080; font-weight: bold\">11.0</span>, <span style=\"color: #808000; text-decoration-color: #808000\">sticky_shift</span>=<span style=\"color: #008080; text-decoration-color: #008080; font-weight: bold\">-0.03</span><span style=\"font-weight: bold\">)</span>,\n",
       "<span style=\"color: #7fbf7f; text-decoration-color: #7fbf7f\">│   </span><span style=\"color: #008080; text-decoration-color: #008080; font-weight: bold\">82</span>: <span style=\"color: #800080; text-decoration-color: #800080; font-weight: bold\">LubyInstance</span><span style=\"font-weight: bold\">(</span><span style=\"color: #808000; text-decoration-color: #808000\">start_shift</span>=<span style=\"color: #008080; text-decoration-color: #008080; font-weight: bold\">18.0</span>, <span style=\"color: #808000; text-decoration-color: #808000\">sticky_shift</span>=<span style=\"color: #008080; text-decoration-color: #008080; font-weight: bold\">0.07</span><span style=\"font-weight: bold\">)</span>,\n",
       "<span style=\"color: #7fbf7f; text-decoration-color: #7fbf7f\">│   </span><span style=\"color: #008080; text-decoration-color: #008080; font-weight: bold\">83</span>: <span style=\"color: #800080; text-decoration-color: #800080; font-weight: bold\">LubyInstance</span><span style=\"font-weight: bold\">(</span><span style=\"color: #808000; text-decoration-color: #808000\">start_shift</span>=<span style=\"color: #008080; text-decoration-color: #008080; font-weight: bold\">27.0</span>, <span style=\"color: #808000; text-decoration-color: #808000\">sticky_shift</span>=<span style=\"color: #008080; text-decoration-color: #008080; font-weight: bold\">0.12</span><span style=\"font-weight: bold\">)</span>,\n",
       "<span style=\"color: #7fbf7f; text-decoration-color: #7fbf7f\">│   </span><span style=\"color: #008080; text-decoration-color: #008080; font-weight: bold\">84</span>: <span style=\"color: #800080; text-decoration-color: #800080; font-weight: bold\">LubyInstance</span><span style=\"font-weight: bold\">(</span><span style=\"color: #808000; text-decoration-color: #808000\">start_shift</span>=<span style=\"color: #008080; text-decoration-color: #008080; font-weight: bold\">11.0</span>, <span style=\"color: #808000; text-decoration-color: #808000\">sticky_shift</span>=<span style=\"color: #008080; text-decoration-color: #008080; font-weight: bold\">0.12</span><span style=\"font-weight: bold\">)</span>,\n",
       "<span style=\"color: #7fbf7f; text-decoration-color: #7fbf7f\">│   </span><span style=\"color: #008080; text-decoration-color: #008080; font-weight: bold\">85</span>: <span style=\"color: #800080; text-decoration-color: #800080; font-weight: bold\">LubyInstance</span><span style=\"font-weight: bold\">(</span><span style=\"color: #808000; text-decoration-color: #808000\">start_shift</span>=<span style=\"color: #008080; text-decoration-color: #008080; font-weight: bold\">31.0</span>, <span style=\"color: #808000; text-decoration-color: #808000\">sticky_shift</span>=<span style=\"color: #008080; text-decoration-color: #008080; font-weight: bold\">-0.1</span><span style=\"font-weight: bold\">)</span>,\n",
       "<span style=\"color: #7fbf7f; text-decoration-color: #7fbf7f\">│   </span><span style=\"color: #008080; text-decoration-color: #008080; font-weight: bold\">86</span>: <span style=\"color: #800080; text-decoration-color: #800080; font-weight: bold\">LubyInstance</span><span style=\"font-weight: bold\">(</span><span style=\"color: #808000; text-decoration-color: #808000\">start_shift</span>=<span style=\"color: #008080; text-decoration-color: #008080; font-weight: bold\">47.0</span>, <span style=\"color: #808000; text-decoration-color: #808000\">sticky_shift</span>=<span style=\"color: #008080; text-decoration-color: #008080; font-weight: bold\">0.16</span><span style=\"font-weight: bold\">)</span>,\n",
       "<span style=\"color: #7fbf7f; text-decoration-color: #7fbf7f\">│   </span><span style=\"color: #008080; text-decoration-color: #008080; font-weight: bold\">87</span>: <span style=\"color: #800080; text-decoration-color: #800080; font-weight: bold\">LubyInstance</span><span style=\"font-weight: bold\">(</span><span style=\"color: #808000; text-decoration-color: #808000\">start_shift</span>=<span style=\"color: #008080; text-decoration-color: #008080; font-weight: bold\">22.0</span>, <span style=\"color: #808000; text-decoration-color: #808000\">sticky_shift</span>=<span style=\"color: #008080; text-decoration-color: #008080; font-weight: bold\">-0.06</span><span style=\"font-weight: bold\">)</span>,\n",
       "<span style=\"color: #7fbf7f; text-decoration-color: #7fbf7f\">│   </span><span style=\"color: #008080; text-decoration-color: #008080; font-weight: bold\">88</span>: <span style=\"color: #800080; text-decoration-color: #800080; font-weight: bold\">LubyInstance</span><span style=\"font-weight: bold\">(</span><span style=\"color: #808000; text-decoration-color: #808000\">start_shift</span>=<span style=\"color: #008080; text-decoration-color: #008080; font-weight: bold\">30.0</span>, <span style=\"color: #808000; text-decoration-color: #808000\">sticky_shift</span>=<span style=\"color: #008080; text-decoration-color: #008080; font-weight: bold\">0.17</span><span style=\"font-weight: bold\">)</span>,\n",
       "<span style=\"color: #7fbf7f; text-decoration-color: #7fbf7f\">│   </span><span style=\"color: #008080; text-decoration-color: #008080; font-weight: bold\">89</span>: <span style=\"color: #800080; text-decoration-color: #800080; font-weight: bold\">LubyInstance</span><span style=\"font-weight: bold\">(</span><span style=\"color: #808000; text-decoration-color: #808000\">start_shift</span>=<span style=\"color: #008080; text-decoration-color: #008080; font-weight: bold\">38.0</span>, <span style=\"color: #808000; text-decoration-color: #808000\">sticky_shift</span>=<span style=\"color: #008080; text-decoration-color: #008080; font-weight: bold\">-0.49</span><span style=\"font-weight: bold\">)</span>,\n",
       "<span style=\"color: #7fbf7f; text-decoration-color: #7fbf7f\">│   </span><span style=\"color: #008080; text-decoration-color: #008080; font-weight: bold\">90</span>: <span style=\"color: #800080; text-decoration-color: #800080; font-weight: bold\">LubyInstance</span><span style=\"font-weight: bold\">(</span><span style=\"color: #808000; text-decoration-color: #808000\">start_shift</span>=<span style=\"color: #008080; text-decoration-color: #008080; font-weight: bold\">1.0</span>, <span style=\"color: #808000; text-decoration-color: #808000\">sticky_shift</span>=<span style=\"color: #008080; text-decoration-color: #008080; font-weight: bold\">-0.07</span><span style=\"font-weight: bold\">)</span>,\n",
       "<span style=\"color: #7fbf7f; text-decoration-color: #7fbf7f\">│   </span><span style=\"color: #008080; text-decoration-color: #008080; font-weight: bold\">91</span>: <span style=\"color: #800080; text-decoration-color: #800080; font-weight: bold\">LubyInstance</span><span style=\"font-weight: bold\">(</span><span style=\"color: #808000; text-decoration-color: #808000\">start_shift</span>=<span style=\"color: #008080; text-decoration-color: #008080; font-weight: bold\">51.0</span>, <span style=\"color: #808000; text-decoration-color: #808000\">sticky_shift</span>=<span style=\"color: #008080; text-decoration-color: #008080; font-weight: bold\">-0.16</span><span style=\"font-weight: bold\">)</span>,\n",
       "<span style=\"color: #7fbf7f; text-decoration-color: #7fbf7f\">│   </span><span style=\"color: #008080; text-decoration-color: #008080; font-weight: bold\">92</span>: <span style=\"color: #800080; text-decoration-color: #800080; font-weight: bold\">LubyInstance</span><span style=\"font-weight: bold\">(</span><span style=\"color: #808000; text-decoration-color: #808000\">start_shift</span>=<span style=\"color: #008080; text-decoration-color: #008080; font-weight: bold\">5.0</span>, <span style=\"color: #808000; text-decoration-color: #808000\">sticky_shift</span>=<span style=\"color: #008080; text-decoration-color: #008080; font-weight: bold\">0.11</span><span style=\"font-weight: bold\">)</span>,\n",
       "<span style=\"color: #7fbf7f; text-decoration-color: #7fbf7f\">│   </span><span style=\"color: #008080; text-decoration-color: #008080; font-weight: bold\">93</span>: <span style=\"color: #800080; text-decoration-color: #800080; font-weight: bold\">LubyInstance</span><span style=\"font-weight: bold\">(</span><span style=\"color: #808000; text-decoration-color: #808000\">start_shift</span>=<span style=\"color: #008080; text-decoration-color: #008080; font-weight: bold\">2.0</span>, <span style=\"color: #808000; text-decoration-color: #808000\">sticky_shift</span>=<span style=\"color: #008080; text-decoration-color: #008080; font-weight: bold\">0.08</span><span style=\"font-weight: bold\">)</span>,\n",
       "<span style=\"color: #7fbf7f; text-decoration-color: #7fbf7f\">│   </span><span style=\"color: #008080; text-decoration-color: #008080; font-weight: bold\">94</span>: <span style=\"color: #800080; text-decoration-color: #800080; font-weight: bold\">LubyInstance</span><span style=\"font-weight: bold\">(</span><span style=\"color: #808000; text-decoration-color: #808000\">start_shift</span>=<span style=\"color: #008080; text-decoration-color: #008080; font-weight: bold\">13.0</span>, <span style=\"color: #808000; text-decoration-color: #808000\">sticky_shift</span>=<span style=\"color: #008080; text-decoration-color: #008080; font-weight: bold\">-0.35</span><span style=\"font-weight: bold\">)</span>,\n",
       "<span style=\"color: #7fbf7f; text-decoration-color: #7fbf7f\">│   </span><span style=\"color: #008080; text-decoration-color: #008080; font-weight: bold\">95</span>: <span style=\"color: #800080; text-decoration-color: #800080; font-weight: bold\">LubyInstance</span><span style=\"font-weight: bold\">(</span><span style=\"color: #808000; text-decoration-color: #808000\">start_shift</span>=<span style=\"color: #008080; text-decoration-color: #008080; font-weight: bold\">24.0</span>, <span style=\"color: #808000; text-decoration-color: #808000\">sticky_shift</span>=<span style=\"color: #008080; text-decoration-color: #008080; font-weight: bold\">0.12</span><span style=\"font-weight: bold\">)</span>,\n",
       "<span style=\"color: #7fbf7f; text-decoration-color: #7fbf7f\">│   </span><span style=\"color: #008080; text-decoration-color: #008080; font-weight: bold\">96</span>: <span style=\"color: #800080; text-decoration-color: #800080; font-weight: bold\">LubyInstance</span><span style=\"font-weight: bold\">(</span><span style=\"color: #808000; text-decoration-color: #808000\">start_shift</span>=<span style=\"color: #008080; text-decoration-color: #008080; font-weight: bold\">4.0</span>, <span style=\"color: #808000; text-decoration-color: #808000\">sticky_shift</span>=<span style=\"color: #008080; text-decoration-color: #008080; font-weight: bold\">-0.3</span><span style=\"font-weight: bold\">)</span>,\n",
       "<span style=\"color: #7fbf7f; text-decoration-color: #7fbf7f\">│   </span><span style=\"color: #008080; text-decoration-color: #008080; font-weight: bold\">97</span>: <span style=\"color: #800080; text-decoration-color: #800080; font-weight: bold\">LubyInstance</span><span style=\"font-weight: bold\">(</span><span style=\"color: #808000; text-decoration-color: #808000\">start_shift</span>=<span style=\"color: #008080; text-decoration-color: #008080; font-weight: bold\">24.0</span>, <span style=\"color: #808000; text-decoration-color: #808000\">sticky_shift</span>=<span style=\"color: #008080; text-decoration-color: #008080; font-weight: bold\">-0.11</span><span style=\"font-weight: bold\">)</span>,\n",
       "<span style=\"color: #7fbf7f; text-decoration-color: #7fbf7f\">│   </span><span style=\"color: #008080; text-decoration-color: #008080; font-weight: bold\">98</span>: <span style=\"color: #800080; text-decoration-color: #800080; font-weight: bold\">LubyInstance</span><span style=\"font-weight: bold\">(</span><span style=\"color: #808000; text-decoration-color: #808000\">start_shift</span>=<span style=\"color: #008080; text-decoration-color: #008080; font-weight: bold\">8.0</span>, <span style=\"color: #808000; text-decoration-color: #808000\">sticky_shift</span>=<span style=\"color: #008080; text-decoration-color: #008080; font-weight: bold\">-0.02</span><span style=\"font-weight: bold\">)</span>,\n",
       "<span style=\"color: #7fbf7f; text-decoration-color: #7fbf7f\">│   </span><span style=\"color: #008080; text-decoration-color: #008080; font-weight: bold\">99</span>: <span style=\"color: #800080; text-decoration-color: #800080; font-weight: bold\">LubyInstance</span><span style=\"font-weight: bold\">(</span><span style=\"color: #808000; text-decoration-color: #808000\">start_shift</span>=<span style=\"color: #008080; text-decoration-color: #008080; font-weight: bold\">7.0</span>, <span style=\"color: #808000; text-decoration-color: #808000\">sticky_shift</span>=<span style=\"color: #008080; text-decoration-color: #008080; font-weight: bold\">0.03</span><span style=\"font-weight: bold\">)</span>\n",
       "<span style=\"font-weight: bold\">}</span>\n",
       "</pre>\n"
      ],
      "text/plain": [
       "\u001b[1m{\u001b[0m\n",
       "\u001b[2;32m│   \u001b[0m\u001b[1;36m0\u001b[0m: \u001b[1;35mLubyInstance\u001b[0m\u001b[1m(\u001b[0m\u001b[33mstart_shift\u001b[0m=\u001b[1;36m34\u001b[0m\u001b[1;36m.0\u001b[0m, \u001b[33msticky_shift\u001b[0m=\u001b[1;36m-0.07\u001b[0m\u001b[1m)\u001b[0m,\n",
       "\u001b[2;32m│   \u001b[0m\u001b[1;36m1\u001b[0m: \u001b[1;35mLubyInstance\u001b[0m\u001b[1m(\u001b[0m\u001b[33mstart_shift\u001b[0m=\u001b[1;36m5\u001b[0m\u001b[1;36m.0\u001b[0m, \u001b[33msticky_shift\u001b[0m=\u001b[1;36m-0.12\u001b[0m\u001b[1m)\u001b[0m,\n",
       "\u001b[2;32m│   \u001b[0m\u001b[1;36m2\u001b[0m: \u001b[1;35mLubyInstance\u001b[0m\u001b[1m(\u001b[0m\u001b[33mstart_shift\u001b[0m=\u001b[1;36m16\u001b[0m\u001b[1;36m.0\u001b[0m, \u001b[33msticky_shift\u001b[0m=\u001b[1;36m0\u001b[0m\u001b[1;36m.04\u001b[0m\u001b[1m)\u001b[0m,\n",
       "\u001b[2;32m│   \u001b[0m\u001b[1;36m3\u001b[0m: \u001b[1;35mLubyInstance\u001b[0m\u001b[1m(\u001b[0m\u001b[33mstart_shift\u001b[0m=\u001b[1;36m39\u001b[0m\u001b[1;36m.0\u001b[0m, \u001b[33msticky_shift\u001b[0m=\u001b[1;36m0\u001b[0m\u001b[1;36m.06\u001b[0m\u001b[1m)\u001b[0m,\n",
       "\u001b[2;32m│   \u001b[0m\u001b[1;36m4\u001b[0m: \u001b[1;35mLubyInstance\u001b[0m\u001b[1m(\u001b[0m\u001b[33mstart_shift\u001b[0m=\u001b[1;36m23\u001b[0m\u001b[1;36m.0\u001b[0m, \u001b[33msticky_shift\u001b[0m=\u001b[1;36m0\u001b[0m\u001b[1;36m.06\u001b[0m\u001b[1m)\u001b[0m,\n",
       "\u001b[2;32m│   \u001b[0m\u001b[1;36m5\u001b[0m: \u001b[1;35mLubyInstance\u001b[0m\u001b[1m(\u001b[0m\u001b[33mstart_shift\u001b[0m=\u001b[1;36m23\u001b[0m\u001b[1;36m.0\u001b[0m, \u001b[33msticky_shift\u001b[0m=\u001b[1;36m0\u001b[0m\u001b[1;36m.26\u001b[0m\u001b[1m)\u001b[0m,\n",
       "\u001b[2;32m│   \u001b[0m\u001b[1;36m6\u001b[0m: \u001b[1;35mLubyInstance\u001b[0m\u001b[1m(\u001b[0m\u001b[33mstart_shift\u001b[0m=\u001b[1;36m0\u001b[0m\u001b[1;36m.0\u001b[0m, \u001b[33msticky_shift\u001b[0m=\u001b[1;36m-0.19\u001b[0m\u001b[1m)\u001b[0m,\n",
       "\u001b[2;32m│   \u001b[0m\u001b[1;36m7\u001b[0m: \u001b[1;35mLubyInstance\u001b[0m\u001b[1m(\u001b[0m\u001b[33mstart_shift\u001b[0m=\u001b[1;36m9\u001b[0m\u001b[1;36m.0\u001b[0m, \u001b[33msticky_shift\u001b[0m=\u001b[1;36m0\u001b[0m\u001b[1;36m.06\u001b[0m\u001b[1m)\u001b[0m,\n",
       "\u001b[2;32m│   \u001b[0m\u001b[1;36m8\u001b[0m: \u001b[1;35mLubyInstance\u001b[0m\u001b[1m(\u001b[0m\u001b[33mstart_shift\u001b[0m=\u001b[1;36m26\u001b[0m\u001b[1;36m.0\u001b[0m, \u001b[33msticky_shift\u001b[0m=\u001b[1;36m0\u001b[0m\u001b[1;36m.17\u001b[0m\u001b[1m)\u001b[0m,\n",
       "\u001b[2;32m│   \u001b[0m\u001b[1;36m9\u001b[0m: \u001b[1;35mLubyInstance\u001b[0m\u001b[1m(\u001b[0m\u001b[33mstart_shift\u001b[0m=\u001b[1;36m39\u001b[0m\u001b[1;36m.0\u001b[0m, \u001b[33msticky_shift\u001b[0m=\u001b[1;36m0\u001b[0m\u001b[1;36m.09\u001b[0m\u001b[1m)\u001b[0m,\n",
       "\u001b[2;32m│   \u001b[0m\u001b[1;36m10\u001b[0m: \u001b[1;35mLubyInstance\u001b[0m\u001b[1m(\u001b[0m\u001b[33mstart_shift\u001b[0m=\u001b[1;36m19\u001b[0m\u001b[1;36m.0\u001b[0m, \u001b[33msticky_shift\u001b[0m=\u001b[1;36m0\u001b[0m\u001b[1;36m.09\u001b[0m\u001b[1m)\u001b[0m,\n",
       "\u001b[2;32m│   \u001b[0m\u001b[1;36m11\u001b[0m: \u001b[1;35mLubyInstance\u001b[0m\u001b[1m(\u001b[0m\u001b[33mstart_shift\u001b[0m=\u001b[1;36m13\u001b[0m\u001b[1;36m.0\u001b[0m, \u001b[33msticky_shift\u001b[0m=\u001b[1;36m-0.07\u001b[0m\u001b[1m)\u001b[0m,\n",
       "\u001b[2;32m│   \u001b[0m\u001b[1;36m12\u001b[0m: \u001b[1;35mLubyInstance\u001b[0m\u001b[1m(\u001b[0m\u001b[33mstart_shift\u001b[0m=\u001b[1;36m13\u001b[0m\u001b[1;36m.0\u001b[0m, \u001b[33msticky_shift\u001b[0m=\u001b[1;36m0\u001b[0m\u001b[1;36m.09\u001b[0m\u001b[1m)\u001b[0m,\n",
       "\u001b[2;32m│   \u001b[0m\u001b[1;36m13\u001b[0m: \u001b[1;35mLubyInstance\u001b[0m\u001b[1m(\u001b[0m\u001b[33mstart_shift\u001b[0m=\u001b[1;36m50\u001b[0m\u001b[1;36m.0\u001b[0m, \u001b[33msticky_shift\u001b[0m=\u001b[1;36m0\u001b[0m\u001b[1;36m.07\u001b[0m\u001b[1m)\u001b[0m,\n",
       "\u001b[2;32m│   \u001b[0m\u001b[1;36m14\u001b[0m: \u001b[1;35mLubyInstance\u001b[0m\u001b[1m(\u001b[0m\u001b[33mstart_shift\u001b[0m=\u001b[1;36m25\u001b[0m\u001b[1;36m.0\u001b[0m, \u001b[33msticky_shift\u001b[0m=\u001b[1;36m-0.14\u001b[0m\u001b[1m)\u001b[0m,\n",
       "\u001b[2;32m│   \u001b[0m\u001b[1;36m15\u001b[0m: \u001b[1;35mLubyInstance\u001b[0m\u001b[1m(\u001b[0m\u001b[33mstart_shift\u001b[0m=\u001b[1;36m1\u001b[0m\u001b[1;36m.0\u001b[0m, \u001b[33msticky_shift\u001b[0m=\u001b[1;36m0\u001b[0m\u001b[1;36m.13\u001b[0m\u001b[1m)\u001b[0m,\n",
       "\u001b[2;32m│   \u001b[0m\u001b[1;36m16\u001b[0m: \u001b[1;35mLubyInstance\u001b[0m\u001b[1m(\u001b[0m\u001b[33mstart_shift\u001b[0m=\u001b[1;36m32\u001b[0m\u001b[1;36m.0\u001b[0m, \u001b[33msticky_shift\u001b[0m=\u001b[1;36m-0.29\u001b[0m\u001b[1m)\u001b[0m,\n",
       "\u001b[2;32m│   \u001b[0m\u001b[1;36m17\u001b[0m: \u001b[1;35mLubyInstance\u001b[0m\u001b[1m(\u001b[0m\u001b[33mstart_shift\u001b[0m=\u001b[1;36m14\u001b[0m\u001b[1;36m.0\u001b[0m, \u001b[33msticky_shift\u001b[0m=\u001b[1;36m0\u001b[0m\u001b[1;36m.01\u001b[0m\u001b[1m)\u001b[0m,\n",
       "\u001b[2;32m│   \u001b[0m\u001b[1;36m18\u001b[0m: \u001b[1;35mLubyInstance\u001b[0m\u001b[1m(\u001b[0m\u001b[33mstart_shift\u001b[0m=\u001b[1;36m17\u001b[0m\u001b[1;36m.0\u001b[0m, \u001b[33msticky_shift\u001b[0m=\u001b[1;36m-0.24\u001b[0m\u001b[1m)\u001b[0m,\n",
       "\u001b[2;32m│   \u001b[0m\u001b[1;36m19\u001b[0m: \u001b[1;35mLubyInstance\u001b[0m\u001b[1m(\u001b[0m\u001b[33mstart_shift\u001b[0m=\u001b[1;36m31\u001b[0m\u001b[1;36m.0\u001b[0m, \u001b[33msticky_shift\u001b[0m=\u001b[1;36m0\u001b[0m\u001b[1;36m.09\u001b[0m\u001b[1m)\u001b[0m,\n",
       "\u001b[2;32m│   \u001b[0m\u001b[1;36m20\u001b[0m: \u001b[1;35mLubyInstance\u001b[0m\u001b[1m(\u001b[0m\u001b[33mstart_shift\u001b[0m=\u001b[1;36m26\u001b[0m\u001b[1;36m.0\u001b[0m, \u001b[33msticky_shift\u001b[0m=\u001b[1;36m0\u001b[0m\u001b[1;36m.0\u001b[0m\u001b[1m)\u001b[0m,\n",
       "\u001b[2;32m│   \u001b[0m\u001b[1;36m21\u001b[0m: \u001b[1;35mLubyInstance\u001b[0m\u001b[1m(\u001b[0m\u001b[33mstart_shift\u001b[0m=\u001b[1;36m26\u001b[0m\u001b[1;36m.0\u001b[0m, \u001b[33msticky_shift\u001b[0m=\u001b[1;36m-0.2\u001b[0m\u001b[1m)\u001b[0m,\n",
       "\u001b[2;32m│   \u001b[0m\u001b[1;36m22\u001b[0m: \u001b[1;35mLubyInstance\u001b[0m\u001b[1m(\u001b[0m\u001b[33mstart_shift\u001b[0m=\u001b[1;36m6\u001b[0m\u001b[1;36m.0\u001b[0m, \u001b[33msticky_shift\u001b[0m=\u001b[1;36m-0.1\u001b[0m\u001b[1m)\u001b[0m,\n",
       "\u001b[2;32m│   \u001b[0m\u001b[1;36m23\u001b[0m: \u001b[1;35mLubyInstance\u001b[0m\u001b[1m(\u001b[0m\u001b[33mstart_shift\u001b[0m=\u001b[1;36m13\u001b[0m\u001b[1;36m.0\u001b[0m, \u001b[33msticky_shift\u001b[0m=\u001b[1;36m-0.02\u001b[0m\u001b[1m)\u001b[0m,\n",
       "\u001b[2;32m│   \u001b[0m\u001b[1;36m24\u001b[0m: \u001b[1;35mLubyInstance\u001b[0m\u001b[1m(\u001b[0m\u001b[33mstart_shift\u001b[0m=\u001b[1;36m21\u001b[0m\u001b[1;36m.0\u001b[0m, \u001b[33msticky_shift\u001b[0m=\u001b[1;36m-0.14\u001b[0m\u001b[1m)\u001b[0m,\n",
       "\u001b[2;32m│   \u001b[0m\u001b[1;36m25\u001b[0m: \u001b[1;35mLubyInstance\u001b[0m\u001b[1m(\u001b[0m\u001b[33mstart_shift\u001b[0m=\u001b[1;36m15\u001b[0m\u001b[1;36m.0\u001b[0m, \u001b[33msticky_shift\u001b[0m=\u001b[1;36m-0.14\u001b[0m\u001b[1m)\u001b[0m,\n",
       "\u001b[2;32m│   \u001b[0m\u001b[1;36m26\u001b[0m: \u001b[1;35mLubyInstance\u001b[0m\u001b[1m(\u001b[0m\u001b[33mstart_shift\u001b[0m=\u001b[1;36m24\u001b[0m\u001b[1;36m.0\u001b[0m, \u001b[33msticky_shift\u001b[0m=\u001b[1;36m0\u001b[0m\u001b[1;36m.22\u001b[0m\u001b[1m)\u001b[0m,\n",
       "\u001b[2;32m│   \u001b[0m\u001b[1;36m27\u001b[0m: \u001b[1;35mLubyInstance\u001b[0m\u001b[1m(\u001b[0m\u001b[33mstart_shift\u001b[0m=\u001b[1;36m18\u001b[0m\u001b[1;36m.0\u001b[0m, \u001b[33msticky_shift\u001b[0m=\u001b[1;36m-0.16\u001b[0m\u001b[1m)\u001b[0m,\n",
       "\u001b[2;32m│   \u001b[0m\u001b[1;36m28\u001b[0m: \u001b[1;35mLubyInstance\u001b[0m\u001b[1m(\u001b[0m\u001b[33mstart_shift\u001b[0m=\u001b[1;36m14\u001b[0m\u001b[1;36m.0\u001b[0m, \u001b[33msticky_shift\u001b[0m=\u001b[1;36m-0.05\u001b[0m\u001b[1m)\u001b[0m,\n",
       "\u001b[2;32m│   \u001b[0m\u001b[1;36m29\u001b[0m: \u001b[1;35mLubyInstance\u001b[0m\u001b[1m(\u001b[0m\u001b[33mstart_shift\u001b[0m=\u001b[1;36m28\u001b[0m\u001b[1;36m.0\u001b[0m, \u001b[33msticky_shift\u001b[0m=\u001b[1;36m0\u001b[0m\u001b[1;36m.2\u001b[0m\u001b[1m)\u001b[0m,\n",
       "\u001b[2;32m│   \u001b[0m\u001b[1;36m30\u001b[0m: \u001b[1;35mLubyInstance\u001b[0m\u001b[1m(\u001b[0m\u001b[33mstart_shift\u001b[0m=\u001b[1;36m11\u001b[0m\u001b[1;36m.0\u001b[0m, \u001b[33msticky_shift\u001b[0m=\u001b[1;36m-0.07\u001b[0m\u001b[1m)\u001b[0m,\n",
       "\u001b[2;32m│   \u001b[0m\u001b[1;36m31\u001b[0m: \u001b[1;35mLubyInstance\u001b[0m\u001b[1m(\u001b[0m\u001b[33mstart_shift\u001b[0m=\u001b[1;36m16\u001b[0m\u001b[1;36m.0\u001b[0m, \u001b[33msticky_shift\u001b[0m=\u001b[1;36m-0.13\u001b[0m\u001b[1m)\u001b[0m,\n",
       "\u001b[2;32m│   \u001b[0m\u001b[1;36m32\u001b[0m: \u001b[1;35mLubyInstance\u001b[0m\u001b[1m(\u001b[0m\u001b[33mstart_shift\u001b[0m=\u001b[1;36m4\u001b[0m\u001b[1;36m.0\u001b[0m, \u001b[33msticky_shift\u001b[0m=\u001b[1;36m0\u001b[0m\u001b[1;36m.07\u001b[0m\u001b[1m)\u001b[0m,\n",
       "\u001b[2;32m│   \u001b[0m\u001b[1;36m33\u001b[0m: \u001b[1;35mLubyInstance\u001b[0m\u001b[1m(\u001b[0m\u001b[33mstart_shift\u001b[0m=\u001b[1;36m25\u001b[0m\u001b[1;36m.0\u001b[0m, \u001b[33msticky_shift\u001b[0m=\u001b[1;36m0\u001b[0m\u001b[1;36m.03\u001b[0m\u001b[1m)\u001b[0m,\n",
       "\u001b[2;32m│   \u001b[0m\u001b[1;36m34\u001b[0m: \u001b[1;35mLubyInstance\u001b[0m\u001b[1m(\u001b[0m\u001b[33mstart_shift\u001b[0m=\u001b[1;36m41\u001b[0m\u001b[1;36m.0\u001b[0m, \u001b[33msticky_shift\u001b[0m=\u001b[1;36m0\u001b[0m\u001b[1;36m.05\u001b[0m\u001b[1m)\u001b[0m,\n",
       "\u001b[2;32m│   \u001b[0m\u001b[1;36m35\u001b[0m: \u001b[1;35mLubyInstance\u001b[0m\u001b[1m(\u001b[0m\u001b[33mstart_shift\u001b[0m=\u001b[1;36m31\u001b[0m\u001b[1;36m.0\u001b[0m, \u001b[33msticky_shift\u001b[0m=\u001b[1;36m-0.0\u001b[0m\u001b[1m)\u001b[0m,\n",
       "\u001b[2;32m│   \u001b[0m\u001b[1;36m36\u001b[0m: \u001b[1;35mLubyInstance\u001b[0m\u001b[1m(\u001b[0m\u001b[33mstart_shift\u001b[0m=\u001b[1;36m10\u001b[0m\u001b[1;36m.0\u001b[0m, \u001b[33msticky_shift\u001b[0m=\u001b[1;36m0\u001b[0m\u001b[1;36m.08\u001b[0m\u001b[1m)\u001b[0m,\n",
       "\u001b[2;32m│   \u001b[0m\u001b[1;36m37\u001b[0m: \u001b[1;35mLubyInstance\u001b[0m\u001b[1m(\u001b[0m\u001b[33mstart_shift\u001b[0m=\u001b[1;36m14\u001b[0m\u001b[1;36m.0\u001b[0m, \u001b[33msticky_shift\u001b[0m=\u001b[1;36m-0.11\u001b[0m\u001b[1m)\u001b[0m,\n",
       "\u001b[2;32m│   \u001b[0m\u001b[1;36m38\u001b[0m: \u001b[1;35mLubyInstance\u001b[0m\u001b[1m(\u001b[0m\u001b[33mstart_shift\u001b[0m=\u001b[1;36m7\u001b[0m\u001b[1;36m.0\u001b[0m, \u001b[33msticky_shift\u001b[0m=\u001b[1;36m0\u001b[0m\u001b[1;36m.12\u001b[0m\u001b[1m)\u001b[0m,\n",
       "\u001b[2;32m│   \u001b[0m\u001b[1;36m39\u001b[0m: \u001b[1;35mLubyInstance\u001b[0m\u001b[1m(\u001b[0m\u001b[33mstart_shift\u001b[0m=\u001b[1;36m14\u001b[0m\u001b[1;36m.0\u001b[0m, \u001b[33msticky_shift\u001b[0m=\u001b[1;36m0\u001b[0m\u001b[1;36m.21\u001b[0m\u001b[1m)\u001b[0m,\n",
       "\u001b[2;32m│   \u001b[0m\u001b[1;36m40\u001b[0m: \u001b[1;35mLubyInstance\u001b[0m\u001b[1m(\u001b[0m\u001b[33mstart_shift\u001b[0m=\u001b[1;36m36\u001b[0m\u001b[1;36m.0\u001b[0m, \u001b[33msticky_shift\u001b[0m=\u001b[1;36m0\u001b[0m\u001b[1;36m.01\u001b[0m\u001b[1m)\u001b[0m,\n",
       "\u001b[2;32m│   \u001b[0m\u001b[1;36m41\u001b[0m: \u001b[1;35mLubyInstance\u001b[0m\u001b[1m(\u001b[0m\u001b[33mstart_shift\u001b[0m=\u001b[1;36m7\u001b[0m\u001b[1;36m.0\u001b[0m, \u001b[33msticky_shift\u001b[0m=\u001b[1;36m0\u001b[0m\u001b[1;36m.09\u001b[0m\u001b[1m)\u001b[0m,\n",
       "\u001b[2;32m│   \u001b[0m\u001b[1;36m42\u001b[0m: \u001b[1;35mLubyInstance\u001b[0m\u001b[1m(\u001b[0m\u001b[33mstart_shift\u001b[0m=\u001b[1;36m11\u001b[0m\u001b[1;36m.0\u001b[0m, \u001b[33msticky_shift\u001b[0m=\u001b[1;36m-0.0\u001b[0m\u001b[1m)\u001b[0m,\n",
       "\u001b[2;32m│   \u001b[0m\u001b[1;36m43\u001b[0m: \u001b[1;35mLubyInstance\u001b[0m\u001b[1m(\u001b[0m\u001b[33mstart_shift\u001b[0m=\u001b[1;36m7\u001b[0m\u001b[1;36m.0\u001b[0m, \u001b[33msticky_shift\u001b[0m=\u001b[1;36m-0.06\u001b[0m\u001b[1m)\u001b[0m,\n",
       "\u001b[2;32m│   \u001b[0m\u001b[1;36m44\u001b[0m: \u001b[1;35mLubyInstance\u001b[0m\u001b[1m(\u001b[0m\u001b[33mstart_shift\u001b[0m=\u001b[1;36m19\u001b[0m\u001b[1;36m.0\u001b[0m, \u001b[33msticky_shift\u001b[0m=\u001b[1;36m-0.07\u001b[0m\u001b[1m)\u001b[0m,\n",
       "\u001b[2;32m│   \u001b[0m\u001b[1;36m45\u001b[0m: \u001b[1;35mLubyInstance\u001b[0m\u001b[1m(\u001b[0m\u001b[33mstart_shift\u001b[0m=\u001b[1;36m24\u001b[0m\u001b[1;36m.0\u001b[0m, \u001b[33msticky_shift\u001b[0m=\u001b[1;36m0\u001b[0m\u001b[1;36m.12\u001b[0m\u001b[1m)\u001b[0m,\n",
       "\u001b[2;32m│   \u001b[0m\u001b[1;36m46\u001b[0m: \u001b[1;35mLubyInstance\u001b[0m\u001b[1m(\u001b[0m\u001b[33mstart_shift\u001b[0m=\u001b[1;36m28\u001b[0m\u001b[1;36m.0\u001b[0m, \u001b[33msticky_shift\u001b[0m=\u001b[1;36m0\u001b[0m\u001b[1;36m.25\u001b[0m\u001b[1m)\u001b[0m,\n",
       "\u001b[2;32m│   \u001b[0m\u001b[1;36m47\u001b[0m: \u001b[1;35mLubyInstance\u001b[0m\u001b[1m(\u001b[0m\u001b[33mstart_shift\u001b[0m=\u001b[1;36m3\u001b[0m\u001b[1;36m.0\u001b[0m, \u001b[33msticky_shift\u001b[0m=\u001b[1;36m0\u001b[0m\u001b[1;36m.2\u001b[0m\u001b[1m)\u001b[0m,\n",
       "\u001b[2;32m│   \u001b[0m\u001b[1;36m48\u001b[0m: \u001b[1;35mLubyInstance\u001b[0m\u001b[1m(\u001b[0m\u001b[33mstart_shift\u001b[0m=\u001b[1;36m10\u001b[0m\u001b[1;36m.0\u001b[0m, \u001b[33msticky_shift\u001b[0m=\u001b[1;36m0\u001b[0m\u001b[1;36m.14\u001b[0m\u001b[1m)\u001b[0m,\n",
       "\u001b[2;32m│   \u001b[0m\u001b[1;36m49\u001b[0m: \u001b[1;35mLubyInstance\u001b[0m\u001b[1m(\u001b[0m\u001b[33mstart_shift\u001b[0m=\u001b[1;36m32\u001b[0m\u001b[1;36m.0\u001b[0m, \u001b[33msticky_shift\u001b[0m=\u001b[1;36m-0.26\u001b[0m\u001b[1m)\u001b[0m,\n",
       "\u001b[2;32m│   \u001b[0m\u001b[1;36m50\u001b[0m: \u001b[1;35mLubyInstance\u001b[0m\u001b[1m(\u001b[0m\u001b[33mstart_shift\u001b[0m=\u001b[1;36m6\u001b[0m\u001b[1;36m.0\u001b[0m, \u001b[33msticky_shift\u001b[0m=\u001b[1;36m-0.08\u001b[0m\u001b[1m)\u001b[0m,\n",
       "\u001b[2;32m│   \u001b[0m\u001b[1;36m51\u001b[0m: \u001b[1;35mLubyInstance\u001b[0m\u001b[1m(\u001b[0m\u001b[33mstart_shift\u001b[0m=\u001b[1;36m18\u001b[0m\u001b[1;36m.0\u001b[0m, \u001b[33msticky_shift\u001b[0m=\u001b[1;36m-0.2\u001b[0m\u001b[1m)\u001b[0m,\n",
       "\u001b[2;32m│   \u001b[0m\u001b[1;36m52\u001b[0m: \u001b[1;35mLubyInstance\u001b[0m\u001b[1m(\u001b[0m\u001b[33mstart_shift\u001b[0m=\u001b[1;36m4\u001b[0m\u001b[1;36m.0\u001b[0m, \u001b[33msticky_shift\u001b[0m=\u001b[1;36m0\u001b[0m\u001b[1;36m.01\u001b[0m\u001b[1m)\u001b[0m,\n",
       "\u001b[2;32m│   \u001b[0m\u001b[1;36m53\u001b[0m: \u001b[1;35mLubyInstance\u001b[0m\u001b[1m(\u001b[0m\u001b[33mstart_shift\u001b[0m=\u001b[1;36m21\u001b[0m\u001b[1;36m.0\u001b[0m, \u001b[33msticky_shift\u001b[0m=\u001b[1;36m0\u001b[0m\u001b[1;36m.16\u001b[0m\u001b[1m)\u001b[0m,\n",
       "\u001b[2;32m│   \u001b[0m\u001b[1;36m54\u001b[0m: \u001b[1;35mLubyInstance\u001b[0m\u001b[1m(\u001b[0m\u001b[33mstart_shift\u001b[0m=\u001b[1;36m19\u001b[0m\u001b[1;36m.0\u001b[0m, \u001b[33msticky_shift\u001b[0m=\u001b[1;36m0\u001b[0m\u001b[1;36m.03\u001b[0m\u001b[1m)\u001b[0m,\n",
       "\u001b[2;32m│   \u001b[0m\u001b[1;36m55\u001b[0m: \u001b[1;35mLubyInstance\u001b[0m\u001b[1m(\u001b[0m\u001b[33mstart_shift\u001b[0m=\u001b[1;36m21\u001b[0m\u001b[1;36m.0\u001b[0m, \u001b[33msticky_shift\u001b[0m=\u001b[1;36m-0.1\u001b[0m\u001b[1m)\u001b[0m,\n",
       "\u001b[2;32m│   \u001b[0m\u001b[1;36m56\u001b[0m: \u001b[1;35mLubyInstance\u001b[0m\u001b[1m(\u001b[0m\u001b[33mstart_shift\u001b[0m=\u001b[1;36m32\u001b[0m\u001b[1;36m.0\u001b[0m, \u001b[33msticky_shift\u001b[0m=\u001b[1;36m-0.02\u001b[0m\u001b[1m)\u001b[0m,\n",
       "\u001b[2;32m│   \u001b[0m\u001b[1;36m57\u001b[0m: \u001b[1;35mLubyInstance\u001b[0m\u001b[1m(\u001b[0m\u001b[33mstart_shift\u001b[0m=\u001b[1;36m1\u001b[0m\u001b[1;36m.0\u001b[0m, \u001b[33msticky_shift\u001b[0m=\u001b[1;36m0\u001b[0m\u001b[1;36m.26\u001b[0m\u001b[1m)\u001b[0m,\n",
       "\u001b[2;32m│   \u001b[0m\u001b[1;36m58\u001b[0m: \u001b[1;35mLubyInstance\u001b[0m\u001b[1m(\u001b[0m\u001b[33mstart_shift\u001b[0m=\u001b[1;36m19\u001b[0m\u001b[1;36m.0\u001b[0m, \u001b[33msticky_shift\u001b[0m=\u001b[1;36m0\u001b[0m\u001b[1;36m.0\u001b[0m\u001b[1m)\u001b[0m,\n",
       "\u001b[2;32m│   \u001b[0m\u001b[1;36m59\u001b[0m: \u001b[1;35mLubyInstance\u001b[0m\u001b[1m(\u001b[0m\u001b[33mstart_shift\u001b[0m=\u001b[1;36m20\u001b[0m\u001b[1;36m.0\u001b[0m, \u001b[33msticky_shift\u001b[0m=\u001b[1;36m-0.0\u001b[0m\u001b[1m)\u001b[0m,\n",
       "\u001b[2;32m│   \u001b[0m\u001b[1;36m60\u001b[0m: \u001b[1;35mLubyInstance\u001b[0m\u001b[1m(\u001b[0m\u001b[33mstart_shift\u001b[0m=\u001b[1;36m34\u001b[0m\u001b[1;36m.0\u001b[0m, \u001b[33msticky_shift\u001b[0m=\u001b[1;36m0\u001b[0m\u001b[1;36m.01\u001b[0m\u001b[1m)\u001b[0m,\n",
       "\u001b[2;32m│   \u001b[0m\u001b[1;36m61\u001b[0m: \u001b[1;35mLubyInstance\u001b[0m\u001b[1m(\u001b[0m\u001b[33mstart_shift\u001b[0m=\u001b[1;36m2\u001b[0m\u001b[1;36m.0\u001b[0m, \u001b[33msticky_shift\u001b[0m=\u001b[1;36m0\u001b[0m\u001b[1;36m.03\u001b[0m\u001b[1m)\u001b[0m,\n",
       "\u001b[2;32m│   \u001b[0m\u001b[1;36m62\u001b[0m: \u001b[1;35mLubyInstance\u001b[0m\u001b[1m(\u001b[0m\u001b[33mstart_shift\u001b[0m=\u001b[1;36m18\u001b[0m\u001b[1;36m.0\u001b[0m, \u001b[33msticky_shift\u001b[0m=\u001b[1;36m0\u001b[0m\u001b[1;36m.23\u001b[0m\u001b[1m)\u001b[0m,\n",
       "\u001b[2;32m│   \u001b[0m\u001b[1;36m63\u001b[0m: \u001b[1;35mLubyInstance\u001b[0m\u001b[1m(\u001b[0m\u001b[33mstart_shift\u001b[0m=\u001b[1;36m12\u001b[0m\u001b[1;36m.0\u001b[0m, \u001b[33msticky_shift\u001b[0m=\u001b[1;36m-0.09\u001b[0m\u001b[1m)\u001b[0m,\n",
       "\u001b[2;32m│   \u001b[0m\u001b[1;36m64\u001b[0m: \u001b[1;35mLubyInstance\u001b[0m\u001b[1m(\u001b[0m\u001b[33mstart_shift\u001b[0m=\u001b[1;36m3\u001b[0m\u001b[1;36m.0\u001b[0m, \u001b[33msticky_shift\u001b[0m=\u001b[1;36m-0.01\u001b[0m\u001b[1m)\u001b[0m,\n",
       "\u001b[2;32m│   \u001b[0m\u001b[1;36m65\u001b[0m: \u001b[1;35mLubyInstance\u001b[0m\u001b[1m(\u001b[0m\u001b[33mstart_shift\u001b[0m=\u001b[1;36m13\u001b[0m\u001b[1;36m.0\u001b[0m, \u001b[33msticky_shift\u001b[0m=\u001b[1;36m-0.28\u001b[0m\u001b[1m)\u001b[0m,\n",
       "\u001b[2;32m│   \u001b[0m\u001b[1;36m66\u001b[0m: \u001b[1;35mLubyInstance\u001b[0m\u001b[1m(\u001b[0m\u001b[33mstart_shift\u001b[0m=\u001b[1;36m21\u001b[0m\u001b[1;36m.0\u001b[0m, \u001b[33msticky_shift\u001b[0m=\u001b[1;36m0\u001b[0m\u001b[1;36m.09\u001b[0m\u001b[1m)\u001b[0m,\n",
       "\u001b[2;32m│   \u001b[0m\u001b[1;36m67\u001b[0m: \u001b[1;35mLubyInstance\u001b[0m\u001b[1m(\u001b[0m\u001b[33mstart_shift\u001b[0m=\u001b[1;36m22\u001b[0m\u001b[1;36m.0\u001b[0m, \u001b[33msticky_shift\u001b[0m=\u001b[1;36m-0.03\u001b[0m\u001b[1m)\u001b[0m,\n",
       "\u001b[2;32m│   \u001b[0m\u001b[1;36m68\u001b[0m: \u001b[1;35mLubyInstance\u001b[0m\u001b[1m(\u001b[0m\u001b[33mstart_shift\u001b[0m=\u001b[1;36m0\u001b[0m\u001b[1;36m.0\u001b[0m, \u001b[33msticky_shift\u001b[0m=\u001b[1;36m0\u001b[0m\u001b[1;36m.2\u001b[0m\u001b[1m)\u001b[0m,\n",
       "\u001b[2;32m│   \u001b[0m\u001b[1;36m69\u001b[0m: \u001b[1;35mLubyInstance\u001b[0m\u001b[1m(\u001b[0m\u001b[33mstart_shift\u001b[0m=\u001b[1;36m25\u001b[0m\u001b[1;36m.0\u001b[0m, \u001b[33msticky_shift\u001b[0m=\u001b[1;36m-0.15\u001b[0m\u001b[1m)\u001b[0m,\n",
       "\u001b[2;32m│   \u001b[0m\u001b[1;36m70\u001b[0m: \u001b[1;35mLubyInstance\u001b[0m\u001b[1m(\u001b[0m\u001b[33mstart_shift\u001b[0m=\u001b[1;36m9\u001b[0m\u001b[1;36m.0\u001b[0m, \u001b[33msticky_shift\u001b[0m=\u001b[1;36m0\u001b[0m\u001b[1;36m.04\u001b[0m\u001b[1m)\u001b[0m,\n",
       "\u001b[2;32m│   \u001b[0m\u001b[1;36m71\u001b[0m: \u001b[1;35mLubyInstance\u001b[0m\u001b[1m(\u001b[0m\u001b[33mstart_shift\u001b[0m=\u001b[1;36m10\u001b[0m\u001b[1;36m.0\u001b[0m, \u001b[33msticky_shift\u001b[0m=\u001b[1;36m-0.15\u001b[0m\u001b[1m)\u001b[0m,\n",
       "\u001b[2;32m│   \u001b[0m\u001b[1;36m72\u001b[0m: \u001b[1;35mLubyInstance\u001b[0m\u001b[1m(\u001b[0m\u001b[33mstart_shift\u001b[0m=\u001b[1;36m5\u001b[0m\u001b[1;36m.0\u001b[0m, \u001b[33msticky_shift\u001b[0m=\u001b[1;36m0\u001b[0m\u001b[1;36m.17\u001b[0m\u001b[1m)\u001b[0m,\n",
       "\u001b[2;32m│   \u001b[0m\u001b[1;36m73\u001b[0m: \u001b[1;35mLubyInstance\u001b[0m\u001b[1m(\u001b[0m\u001b[33mstart_shift\u001b[0m=\u001b[1;36m8\u001b[0m\u001b[1;36m.0\u001b[0m, \u001b[33msticky_shift\u001b[0m=\u001b[1;36m0\u001b[0m\u001b[1;36m.03\u001b[0m\u001b[1m)\u001b[0m,\n",
       "\u001b[2;32m│   \u001b[0m\u001b[1;36m74\u001b[0m: \u001b[1;35mLubyInstance\u001b[0m\u001b[1m(\u001b[0m\u001b[33mstart_shift\u001b[0m=\u001b[1;36m13\u001b[0m\u001b[1;36m.0\u001b[0m, \u001b[33msticky_shift\u001b[0m=\u001b[1;36m-0.03\u001b[0m\u001b[1m)\u001b[0m,\n",
       "\u001b[2;32m│   \u001b[0m\u001b[1;36m75\u001b[0m: \u001b[1;35mLubyInstance\u001b[0m\u001b[1m(\u001b[0m\u001b[33mstart_shift\u001b[0m=\u001b[1;36m30\u001b[0m\u001b[1;36m.0\u001b[0m, \u001b[33msticky_shift\u001b[0m=\u001b[1;36m0\u001b[0m\u001b[1;36m.08\u001b[0m\u001b[1m)\u001b[0m,\n",
       "\u001b[2;32m│   \u001b[0m\u001b[1;36m76\u001b[0m: \u001b[1;35mLubyInstance\u001b[0m\u001b[1m(\u001b[0m\u001b[33mstart_shift\u001b[0m=\u001b[1;36m8\u001b[0m\u001b[1;36m.0\u001b[0m, \u001b[33msticky_shift\u001b[0m=\u001b[1;36m-0.23\u001b[0m\u001b[1m)\u001b[0m,\n",
       "\u001b[2;32m│   \u001b[0m\u001b[1;36m77\u001b[0m: \u001b[1;35mLubyInstance\u001b[0m\u001b[1m(\u001b[0m\u001b[33mstart_shift\u001b[0m=\u001b[1;36m6\u001b[0m\u001b[1;36m.0\u001b[0m, \u001b[33msticky_shift\u001b[0m=\u001b[1;36m0\u001b[0m\u001b[1;36m.22\u001b[0m\u001b[1m)\u001b[0m,\n",
       "\u001b[2;32m│   \u001b[0m\u001b[1;36m78\u001b[0m: \u001b[1;35mLubyInstance\u001b[0m\u001b[1m(\u001b[0m\u001b[33mstart_shift\u001b[0m=\u001b[1;36m28\u001b[0m\u001b[1;36m.0\u001b[0m, \u001b[33msticky_shift\u001b[0m=\u001b[1;36m0\u001b[0m\u001b[1;36m.25\u001b[0m\u001b[1m)\u001b[0m,\n",
       "\u001b[2;32m│   \u001b[0m\u001b[1;36m79\u001b[0m: \u001b[1;35mLubyInstance\u001b[0m\u001b[1m(\u001b[0m\u001b[33mstart_shift\u001b[0m=\u001b[1;36m2\u001b[0m\u001b[1;36m.0\u001b[0m, \u001b[33msticky_shift\u001b[0m=\u001b[1;36m0\u001b[0m\u001b[1;36m.03\u001b[0m\u001b[1m)\u001b[0m,\n",
       "\u001b[2;32m│   \u001b[0m\u001b[1;36m80\u001b[0m: \u001b[1;35mLubyInstance\u001b[0m\u001b[1m(\u001b[0m\u001b[33mstart_shift\u001b[0m=\u001b[1;36m14\u001b[0m\u001b[1;36m.0\u001b[0m, \u001b[33msticky_shift\u001b[0m=\u001b[1;36m-0.3\u001b[0m\u001b[1m)\u001b[0m,\n",
       "\u001b[2;32m│   \u001b[0m\u001b[1;36m81\u001b[0m: \u001b[1;35mLubyInstance\u001b[0m\u001b[1m(\u001b[0m\u001b[33mstart_shift\u001b[0m=\u001b[1;36m11\u001b[0m\u001b[1;36m.0\u001b[0m, \u001b[33msticky_shift\u001b[0m=\u001b[1;36m-0.03\u001b[0m\u001b[1m)\u001b[0m,\n",
       "\u001b[2;32m│   \u001b[0m\u001b[1;36m82\u001b[0m: \u001b[1;35mLubyInstance\u001b[0m\u001b[1m(\u001b[0m\u001b[33mstart_shift\u001b[0m=\u001b[1;36m18\u001b[0m\u001b[1;36m.0\u001b[0m, \u001b[33msticky_shift\u001b[0m=\u001b[1;36m0\u001b[0m\u001b[1;36m.07\u001b[0m\u001b[1m)\u001b[0m,\n",
       "\u001b[2;32m│   \u001b[0m\u001b[1;36m83\u001b[0m: \u001b[1;35mLubyInstance\u001b[0m\u001b[1m(\u001b[0m\u001b[33mstart_shift\u001b[0m=\u001b[1;36m27\u001b[0m\u001b[1;36m.0\u001b[0m, \u001b[33msticky_shift\u001b[0m=\u001b[1;36m0\u001b[0m\u001b[1;36m.12\u001b[0m\u001b[1m)\u001b[0m,\n",
       "\u001b[2;32m│   \u001b[0m\u001b[1;36m84\u001b[0m: \u001b[1;35mLubyInstance\u001b[0m\u001b[1m(\u001b[0m\u001b[33mstart_shift\u001b[0m=\u001b[1;36m11\u001b[0m\u001b[1;36m.0\u001b[0m, \u001b[33msticky_shift\u001b[0m=\u001b[1;36m0\u001b[0m\u001b[1;36m.12\u001b[0m\u001b[1m)\u001b[0m,\n",
       "\u001b[2;32m│   \u001b[0m\u001b[1;36m85\u001b[0m: \u001b[1;35mLubyInstance\u001b[0m\u001b[1m(\u001b[0m\u001b[33mstart_shift\u001b[0m=\u001b[1;36m31\u001b[0m\u001b[1;36m.0\u001b[0m, \u001b[33msticky_shift\u001b[0m=\u001b[1;36m-0.1\u001b[0m\u001b[1m)\u001b[0m,\n",
       "\u001b[2;32m│   \u001b[0m\u001b[1;36m86\u001b[0m: \u001b[1;35mLubyInstance\u001b[0m\u001b[1m(\u001b[0m\u001b[33mstart_shift\u001b[0m=\u001b[1;36m47\u001b[0m\u001b[1;36m.0\u001b[0m, \u001b[33msticky_shift\u001b[0m=\u001b[1;36m0\u001b[0m\u001b[1;36m.16\u001b[0m\u001b[1m)\u001b[0m,\n",
       "\u001b[2;32m│   \u001b[0m\u001b[1;36m87\u001b[0m: \u001b[1;35mLubyInstance\u001b[0m\u001b[1m(\u001b[0m\u001b[33mstart_shift\u001b[0m=\u001b[1;36m22\u001b[0m\u001b[1;36m.0\u001b[0m, \u001b[33msticky_shift\u001b[0m=\u001b[1;36m-0.06\u001b[0m\u001b[1m)\u001b[0m,\n",
       "\u001b[2;32m│   \u001b[0m\u001b[1;36m88\u001b[0m: \u001b[1;35mLubyInstance\u001b[0m\u001b[1m(\u001b[0m\u001b[33mstart_shift\u001b[0m=\u001b[1;36m30\u001b[0m\u001b[1;36m.0\u001b[0m, \u001b[33msticky_shift\u001b[0m=\u001b[1;36m0\u001b[0m\u001b[1;36m.17\u001b[0m\u001b[1m)\u001b[0m,\n",
       "\u001b[2;32m│   \u001b[0m\u001b[1;36m89\u001b[0m: \u001b[1;35mLubyInstance\u001b[0m\u001b[1m(\u001b[0m\u001b[33mstart_shift\u001b[0m=\u001b[1;36m38\u001b[0m\u001b[1;36m.0\u001b[0m, \u001b[33msticky_shift\u001b[0m=\u001b[1;36m-0.49\u001b[0m\u001b[1m)\u001b[0m,\n",
       "\u001b[2;32m│   \u001b[0m\u001b[1;36m90\u001b[0m: \u001b[1;35mLubyInstance\u001b[0m\u001b[1m(\u001b[0m\u001b[33mstart_shift\u001b[0m=\u001b[1;36m1\u001b[0m\u001b[1;36m.0\u001b[0m, \u001b[33msticky_shift\u001b[0m=\u001b[1;36m-0.07\u001b[0m\u001b[1m)\u001b[0m,\n",
       "\u001b[2;32m│   \u001b[0m\u001b[1;36m91\u001b[0m: \u001b[1;35mLubyInstance\u001b[0m\u001b[1m(\u001b[0m\u001b[33mstart_shift\u001b[0m=\u001b[1;36m51\u001b[0m\u001b[1;36m.0\u001b[0m, \u001b[33msticky_shift\u001b[0m=\u001b[1;36m-0.16\u001b[0m\u001b[1m)\u001b[0m,\n",
       "\u001b[2;32m│   \u001b[0m\u001b[1;36m92\u001b[0m: \u001b[1;35mLubyInstance\u001b[0m\u001b[1m(\u001b[0m\u001b[33mstart_shift\u001b[0m=\u001b[1;36m5\u001b[0m\u001b[1;36m.0\u001b[0m, \u001b[33msticky_shift\u001b[0m=\u001b[1;36m0\u001b[0m\u001b[1;36m.11\u001b[0m\u001b[1m)\u001b[0m,\n",
       "\u001b[2;32m│   \u001b[0m\u001b[1;36m93\u001b[0m: \u001b[1;35mLubyInstance\u001b[0m\u001b[1m(\u001b[0m\u001b[33mstart_shift\u001b[0m=\u001b[1;36m2\u001b[0m\u001b[1;36m.0\u001b[0m, \u001b[33msticky_shift\u001b[0m=\u001b[1;36m0\u001b[0m\u001b[1;36m.08\u001b[0m\u001b[1m)\u001b[0m,\n",
       "\u001b[2;32m│   \u001b[0m\u001b[1;36m94\u001b[0m: \u001b[1;35mLubyInstance\u001b[0m\u001b[1m(\u001b[0m\u001b[33mstart_shift\u001b[0m=\u001b[1;36m13\u001b[0m\u001b[1;36m.0\u001b[0m, \u001b[33msticky_shift\u001b[0m=\u001b[1;36m-0.35\u001b[0m\u001b[1m)\u001b[0m,\n",
       "\u001b[2;32m│   \u001b[0m\u001b[1;36m95\u001b[0m: \u001b[1;35mLubyInstance\u001b[0m\u001b[1m(\u001b[0m\u001b[33mstart_shift\u001b[0m=\u001b[1;36m24\u001b[0m\u001b[1;36m.0\u001b[0m, \u001b[33msticky_shift\u001b[0m=\u001b[1;36m0\u001b[0m\u001b[1;36m.12\u001b[0m\u001b[1m)\u001b[0m,\n",
       "\u001b[2;32m│   \u001b[0m\u001b[1;36m96\u001b[0m: \u001b[1;35mLubyInstance\u001b[0m\u001b[1m(\u001b[0m\u001b[33mstart_shift\u001b[0m=\u001b[1;36m4\u001b[0m\u001b[1;36m.0\u001b[0m, \u001b[33msticky_shift\u001b[0m=\u001b[1;36m-0.3\u001b[0m\u001b[1m)\u001b[0m,\n",
       "\u001b[2;32m│   \u001b[0m\u001b[1;36m97\u001b[0m: \u001b[1;35mLubyInstance\u001b[0m\u001b[1m(\u001b[0m\u001b[33mstart_shift\u001b[0m=\u001b[1;36m24\u001b[0m\u001b[1;36m.0\u001b[0m, \u001b[33msticky_shift\u001b[0m=\u001b[1;36m-0.11\u001b[0m\u001b[1m)\u001b[0m,\n",
       "\u001b[2;32m│   \u001b[0m\u001b[1;36m98\u001b[0m: \u001b[1;35mLubyInstance\u001b[0m\u001b[1m(\u001b[0m\u001b[33mstart_shift\u001b[0m=\u001b[1;36m8\u001b[0m\u001b[1;36m.0\u001b[0m, \u001b[33msticky_shift\u001b[0m=\u001b[1;36m-0.02\u001b[0m\u001b[1m)\u001b[0m,\n",
       "\u001b[2;32m│   \u001b[0m\u001b[1;36m99\u001b[0m: \u001b[1;35mLubyInstance\u001b[0m\u001b[1m(\u001b[0m\u001b[33mstart_shift\u001b[0m=\u001b[1;36m7\u001b[0m\u001b[1;36m.0\u001b[0m, \u001b[33msticky_shift\u001b[0m=\u001b[1;36m0\u001b[0m\u001b[1;36m.03\u001b[0m\u001b[1m)\u001b[0m\n",
       "\u001b[1m}\u001b[0m\n"
      ]
     },
     "metadata": {},
     "output_type": "display_data"
    }
   ],
   "source": [
    "bench.config.instance_set_path = \"luby_train.csv\"\n",
    "bench.read_instance_set()\n",
    "pprint(bench.config.instance_set)"
   ]
  },
  {
   "cell_type": "markdown",
   "metadata": {},
   "source": [
    "## Running Luby\n",
    "Lastly, let's look at Luby in action - for this we'll use the benchmark version of this environment, i.e. the one proposed by Biedenkapp et al. in 2020. As we can see, we receive a state with 6 history values initialized at -1 at reset with no further additional information."
   ]
  },
  {
   "cell_type": "code",
   "execution_count": 36,
   "metadata": {},
   "outputs": [
    {
     "name": "stderr",
     "output_type": "stream",
     "text": [
      "/Users/theeimer/Documents/git/DACBench/dacbench/abstract_env.py:94: DeprecationWarning: Please use `list(space.values())`\n",
      "  actions = config[\"config_space\"].get_hyperparameters()\n"
     ]
    },
    {
     "data": {
      "text/html": [
       "<pre style=\"white-space:pre;overflow-x:auto;line-height:normal;font-family:Menlo,'DejaVu Sans Mono',consolas,'Courier New',monospace\"><span style=\"font-weight: bold\">(</span><span style=\"color: #800080; text-decoration-color: #800080; font-weight: bold\">array</span><span style=\"font-weight: bold\">([</span><span style=\"color: #008080; text-decoration-color: #008080; font-weight: bold\">-1</span>, <span style=\"color: #008080; text-decoration-color: #008080; font-weight: bold\">-1</span>, <span style=\"color: #008080; text-decoration-color: #008080; font-weight: bold\">-1</span>, <span style=\"color: #008080; text-decoration-color: #008080; font-weight: bold\">-1</span>, <span style=\"color: #008080; text-decoration-color: #008080; font-weight: bold\">-1</span>, <span style=\"color: #008080; text-decoration-color: #008080; font-weight: bold\">-1</span><span style=\"font-weight: bold\">])</span>, <span style=\"font-weight: bold\">{})</span>\n",
       "</pre>\n"
      ],
      "text/plain": [
       "\u001b[1m(\u001b[0m\u001b[1;35marray\u001b[0m\u001b[1m(\u001b[0m\u001b[1m[\u001b[0m\u001b[1;36m-1\u001b[0m, \u001b[1;36m-1\u001b[0m, \u001b[1;36m-1\u001b[0m, \u001b[1;36m-1\u001b[0m, \u001b[1;36m-1\u001b[0m, \u001b[1;36m-1\u001b[0m\u001b[1m]\u001b[0m\u001b[1m)\u001b[0m, \u001b[1m{\u001b[0m\u001b[1m}\u001b[0m\u001b[1m)\u001b[0m\n"
      ]
     },
     "metadata": {},
     "output_type": "display_data"
    }
   ],
   "source": [
    "env = bench.get_benchmark(seed=0)\n",
    "pprint(env.reset())"
   ]
  },
  {
   "cell_type": "markdown",
   "metadata": {},
   "source": [
    "If we take a step, we see the history is updated:"
   ]
  },
  {
   "cell_type": "code",
   "execution_count": 37,
   "metadata": {},
   "outputs": [
    {
     "data": {
      "text/html": [
       "<pre style=\"white-space:pre;overflow-x:auto;line-height:normal;font-family:Menlo,'DejaVu Sans Mono',consolas,'Courier New',monospace\"><span style=\"color: #800080; text-decoration-color: #800080; font-weight: bold\">array</span><span style=\"font-weight: bold\">([</span> <span style=\"color: #008080; text-decoration-color: #008080; font-weight: bold\">5</span>, <span style=\"color: #008080; text-decoration-color: #008080; font-weight: bold\">-1</span>, <span style=\"color: #008080; text-decoration-color: #008080; font-weight: bold\">-1</span>, <span style=\"color: #008080; text-decoration-color: #008080; font-weight: bold\">-1</span>, <span style=\"color: #008080; text-decoration-color: #008080; font-weight: bold\">-1</span>,  <span style=\"color: #008080; text-decoration-color: #008080; font-weight: bold\">0</span><span style=\"font-weight: bold\">])</span>\n",
       "</pre>\n"
      ],
      "text/plain": [
       "\u001b[1;35marray\u001b[0m\u001b[1m(\u001b[0m\u001b[1m[\u001b[0m \u001b[1;36m5\u001b[0m, \u001b[1;36m-1\u001b[0m, \u001b[1;36m-1\u001b[0m, \u001b[1;36m-1\u001b[0m, \u001b[1;36m-1\u001b[0m,  \u001b[1;36m0\u001b[0m\u001b[1m]\u001b[0m\u001b[1m)\u001b[0m\n"
      ]
     },
     "metadata": {},
     "output_type": "display_data"
    }
   ],
   "source": [
    "action = env.action_space.sample()\n",
    "state, reward, terminated, truncated, info = env.step(action)\n",
    "pprint(state)"
   ]
  },
  {
   "cell_type": "markdown",
   "metadata": {},
   "source": [
    "Furthermore, we also get a reward and termination and truncation signals. Truncation will be set to true after the number of steps exceeds the cutoff."
   ]
  },
  {
   "cell_type": "code",
   "execution_count": 38,
   "metadata": {},
   "outputs": [
    {
     "data": {
      "text/html": [
       "<pre style=\"white-space:pre;overflow-x:auto;line-height:normal;font-family:Menlo,'DejaVu Sans Mono',consolas,'Courier New',monospace\"><span style=\"color: #008000; text-decoration-color: #008000\">'Reward 0.6460785189514962'</span>\n",
       "</pre>\n"
      ],
      "text/plain": [
       "\u001b[32m'Reward 0.6460785189514962'\u001b[0m\n"
      ]
     },
     "metadata": {},
     "output_type": "display_data"
    },
    {
     "data": {
      "text/html": [
       "<pre style=\"white-space:pre;overflow-x:auto;line-height:normal;font-family:Menlo,'DejaVu Sans Mono',consolas,'Courier New',monospace\"><span style=\"color: #008000; text-decoration-color: #008000\">'Terminated False'</span>\n",
       "</pre>\n"
      ],
      "text/plain": [
       "\u001b[32m'Terminated False'\u001b[0m\n"
      ]
     },
     "metadata": {},
     "output_type": "display_data"
    },
    {
     "data": {
      "text/html": [
       "<pre style=\"white-space:pre;overflow-x:auto;line-height:normal;font-family:Menlo,'DejaVu Sans Mono',consolas,'Courier New',monospace\"><span style=\"color: #008000; text-decoration-color: #008000\">'Truncated False'</span>\n",
       "</pre>\n"
      ],
      "text/plain": [
       "\u001b[32m'Truncated False'\u001b[0m\n"
      ]
     },
     "metadata": {},
     "output_type": "display_data"
    }
   ],
   "source": [
    "pprint(f\"Reward {reward}\")\n",
    "pprint(f\"Terminated {terminated}\")\n",
    "pprint(f\"Truncated {truncated}\")"
   ]
  }
 ],
 "metadata": {
  "kernelspec": {
   "display_name": "dacbench",
   "language": "python",
   "name": "python3"
  },
  "language_info": {
   "codemirror_mode": {
    "name": "ipython",
    "version": 3
   },
   "file_extension": ".py",
   "mimetype": "text/x-python",
   "name": "python",
   "nbconvert_exporter": "python",
   "pygments_lexer": "ipython3",
   "version": "3.10.13"
  }
 },
 "nbformat": 4,
 "nbformat_minor": 2
}
