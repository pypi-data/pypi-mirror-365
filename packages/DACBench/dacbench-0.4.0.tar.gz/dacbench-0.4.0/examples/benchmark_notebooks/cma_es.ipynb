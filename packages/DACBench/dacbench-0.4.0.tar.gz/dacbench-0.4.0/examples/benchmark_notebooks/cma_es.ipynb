{
 "cells": [
  {
   "cell_type": "code",
   "execution_count": 1,
   "metadata": {},
   "outputs": [],
   "source": [
    "from rich.pretty import pprint"
   ]
  },
  {
   "cell_type": "markdown",
   "metadata": {},
   "source": [
    "## The CMA-ES Benchmark\n",
    "Let's take a look at CMA-ES. This is a benchmark for both step-size control and algorithm variation selection of CMA-ES. First, let's make in instance of the benchmark:"
   ]
  },
  {
   "cell_type": "code",
   "execution_count": 2,
   "metadata": {},
   "outputs": [],
   "source": [
    "from dacbench.benchmarks import CMAESBenchmark\n",
    "bench = CMAESBenchmark()"
   ]
  },
  {
   "cell_type": "markdown",
   "metadata": {},
   "source": [
    "Now let's take a look at the elements of the config in this benchmark:"
   ]
  },
  {
   "cell_type": "code",
   "execution_count": 3,
   "metadata": {},
   "outputs": [
    {
     "data": {
      "text/html": [
       "<pre style=\"white-space:pre;overflow-x:auto;line-height:normal;font-family:Menlo,'DejaVu Sans Mono',consolas,'Courier New',monospace\"><span style=\"font-weight: bold\">[</span>\n",
       "<span style=\"color: #7fbf7f; text-decoration-color: #7fbf7f\">│   </span><span style=\"color: #008000; text-decoration-color: #008000\">'config_space'</span>,\n",
       "<span style=\"color: #7fbf7f; text-decoration-color: #7fbf7f\">│   </span><span style=\"color: #008000; text-decoration-color: #008000\">'observation_space_class'</span>,\n",
       "<span style=\"color: #7fbf7f; text-decoration-color: #7fbf7f\">│   </span><span style=\"color: #008000; text-decoration-color: #008000\">'observation_space_args'</span>,\n",
       "<span style=\"color: #7fbf7f; text-decoration-color: #7fbf7f\">│   </span><span style=\"color: #008000; text-decoration-color: #008000\">'observation_space_type'</span>,\n",
       "<span style=\"color: #7fbf7f; text-decoration-color: #7fbf7f\">│   </span><span style=\"color: #008000; text-decoration-color: #008000\">'reward_range'</span>,\n",
       "<span style=\"color: #7fbf7f; text-decoration-color: #7fbf7f\">│   </span><span style=\"color: #008000; text-decoration-color: #008000\">'budget'</span>,\n",
       "<span style=\"color: #7fbf7f; text-decoration-color: #7fbf7f\">│   </span><span style=\"color: #008000; text-decoration-color: #008000\">'cutoff'</span>,\n",
       "<span style=\"color: #7fbf7f; text-decoration-color: #7fbf7f\">│   </span><span style=\"color: #008000; text-decoration-color: #008000\">'seed'</span>,\n",
       "<span style=\"color: #7fbf7f; text-decoration-color: #7fbf7f\">│   </span><span style=\"color: #008000; text-decoration-color: #008000\">'multi_agent'</span>,\n",
       "<span style=\"color: #7fbf7f; text-decoration-color: #7fbf7f\">│   </span><span style=\"color: #008000; text-decoration-color: #008000\">'instance_set_path'</span>,\n",
       "<span style=\"color: #7fbf7f; text-decoration-color: #7fbf7f\">│   </span><span style=\"color: #008000; text-decoration-color: #008000\">'test_set_path'</span>,\n",
       "<span style=\"color: #7fbf7f; text-decoration-color: #7fbf7f\">│   </span><span style=\"color: #008000; text-decoration-color: #008000\">'benchmark_info'</span>\n",
       "<span style=\"font-weight: bold\">]</span>\n",
       "</pre>\n"
      ],
      "text/plain": [
       "\u001b[1m[\u001b[0m\n",
       "\u001b[2;32m│   \u001b[0m\u001b[32m'config_space'\u001b[0m,\n",
       "\u001b[2;32m│   \u001b[0m\u001b[32m'observation_space_class'\u001b[0m,\n",
       "\u001b[2;32m│   \u001b[0m\u001b[32m'observation_space_args'\u001b[0m,\n",
       "\u001b[2;32m│   \u001b[0m\u001b[32m'observation_space_type'\u001b[0m,\n",
       "\u001b[2;32m│   \u001b[0m\u001b[32m'reward_range'\u001b[0m,\n",
       "\u001b[2;32m│   \u001b[0m\u001b[32m'budget'\u001b[0m,\n",
       "\u001b[2;32m│   \u001b[0m\u001b[32m'cutoff'\u001b[0m,\n",
       "\u001b[2;32m│   \u001b[0m\u001b[32m'seed'\u001b[0m,\n",
       "\u001b[2;32m│   \u001b[0m\u001b[32m'multi_agent'\u001b[0m,\n",
       "\u001b[2;32m│   \u001b[0m\u001b[32m'instance_set_path'\u001b[0m,\n",
       "\u001b[2;32m│   \u001b[0m\u001b[32m'test_set_path'\u001b[0m,\n",
       "\u001b[2;32m│   \u001b[0m\u001b[32m'benchmark_info'\u001b[0m\n",
       "\u001b[1m]\u001b[0m\n"
      ]
     },
     "metadata": {},
     "output_type": "display_data"
    }
   ],
   "source": [
    "pprint(list(bench.config.keys()))"
   ]
  },
  {
   "cell_type": "markdown",
   "metadata": {},
   "source": [
    "The 'benchmark_info' tells us some things about this benchmark already:"
   ]
  },
  {
   "cell_type": "code",
   "execution_count": 4,
   "metadata": {},
   "outputs": [
    {
     "data": {
      "text/html": [
       "<pre style=\"white-space:pre;overflow-x:auto;line-height:normal;font-family:Menlo,'DejaVu Sans Mono',consolas,'Courier New',monospace\"><span style=\"font-weight: bold\">{</span>\n",
       "<span style=\"color: #7fbf7f; text-decoration-color: #7fbf7f\">│   </span><span style=\"color: #008000; text-decoration-color: #008000\">'identifier'</span>: <span style=\"color: #008000; text-decoration-color: #008000\">'ModCMA'</span>,\n",
       "<span style=\"color: #7fbf7f; text-decoration-color: #7fbf7f\">│   </span><span style=\"color: #008000; text-decoration-color: #008000\">'name'</span>: <span style=\"color: #008000; text-decoration-color: #008000\">'Online Selection of CMA-ES Variants'</span>,\n",
       "<span style=\"color: #7fbf7f; text-decoration-color: #7fbf7f\">│   </span><span style=\"color: #008000; text-decoration-color: #008000\">'reward'</span>: <span style=\"color: #008000; text-decoration-color: #008000\">'Negative best function value'</span>,\n",
       "<span style=\"color: #7fbf7f; text-decoration-color: #7fbf7f\">│   </span><span style=\"color: #008000; text-decoration-color: #008000\">'state_description'</span>: <span style=\"font-weight: bold\">[</span><span style=\"color: #008000; text-decoration-color: #008000\">'Generation Size'</span>, <span style=\"color: #008000; text-decoration-color: #008000\">'Sigma'</span>, <span style=\"color: #008000; text-decoration-color: #008000\">'Remaining Budget'</span>, <span style=\"color: #008000; text-decoration-color: #008000\">'Function ID'</span>, <span style=\"color: #008000; text-decoration-color: #008000\">'Instance ID'</span><span style=\"font-weight: bold\">]</span>\n",
       "<span style=\"font-weight: bold\">}</span>\n",
       "</pre>\n"
      ],
      "text/plain": [
       "\u001b[1m{\u001b[0m\n",
       "\u001b[2;32m│   \u001b[0m\u001b[32m'identifier'\u001b[0m: \u001b[32m'ModCMA'\u001b[0m,\n",
       "\u001b[2;32m│   \u001b[0m\u001b[32m'name'\u001b[0m: \u001b[32m'Online Selection of CMA-ES Variants'\u001b[0m,\n",
       "\u001b[2;32m│   \u001b[0m\u001b[32m'reward'\u001b[0m: \u001b[32m'Negative best function value'\u001b[0m,\n",
       "\u001b[2;32m│   \u001b[0m\u001b[32m'state_description'\u001b[0m: \u001b[1m[\u001b[0m\u001b[32m'Generation Size'\u001b[0m, \u001b[32m'Sigma'\u001b[0m, \u001b[32m'Remaining Budget'\u001b[0m, \u001b[32m'Function ID'\u001b[0m, \u001b[32m'Instance ID'\u001b[0m\u001b[1m]\u001b[0m\n",
       "\u001b[1m}\u001b[0m\n"
      ]
     },
     "metadata": {},
     "output_type": "display_data"
    }
   ],
   "source": [
    "pprint(bench.config[\"benchmark_info\"])"
   ]
  },
  {
   "cell_type": "markdown",
   "metadata": {},
   "source": [
    "The 'config_space' specifies which actions are taken, i.e. which hyperparameters are configured. We can see that this is a large and complex configuration space with mainly categorical values and then the step size float."
   ]
  },
  {
   "cell_type": "code",
   "execution_count": 5,
   "metadata": {},
   "outputs": [
    {
     "data": {
      "text/html": [
       "<pre style=\"white-space:pre;overflow-x:auto;line-height:normal;font-family:Menlo,'DejaVu Sans Mono',consolas,'Courier New',monospace\">Configuration space object:\n",
       "<span style=\"color: #7fbf7f; text-decoration-color: #7fbf7f\">  </span>Hyperparameters:\n",
       "<span style=\"color: #7fbf7f; text-decoration-color: #7fbf7f\">│   </span>0_active, Type: Categorical, Choices: <span style=\"font-weight: bold\">{</span><span style=\"color: #00ff00; text-decoration-color: #00ff00; font-style: italic\">True</span>, <span style=\"color: #ff0000; text-decoration-color: #ff0000; font-style: italic\">False</span><span style=\"font-weight: bold\">}</span>, Default: <span style=\"color: #00ff00; text-decoration-color: #00ff00; font-style: italic\">True</span>\n",
       "<span style=\"color: #7fbf7f; text-decoration-color: #7fbf7f\">│   </span>1_elitist, Type: Categorical, Choices: <span style=\"font-weight: bold\">{</span><span style=\"color: #00ff00; text-decoration-color: #00ff00; font-style: italic\">True</span>, <span style=\"color: #ff0000; text-decoration-color: #ff0000; font-style: italic\">False</span><span style=\"font-weight: bold\">}</span>, Default: <span style=\"color: #00ff00; text-decoration-color: #00ff00; font-style: italic\">True</span>\n",
       "<span style=\"color: #7fbf7f; text-decoration-color: #7fbf7f\">│   </span>2_orthogonal, Type: Categorical, Choices: <span style=\"font-weight: bold\">{</span><span style=\"color: #00ff00; text-decoration-color: #00ff00; font-style: italic\">True</span>, <span style=\"color: #ff0000; text-decoration-color: #ff0000; font-style: italic\">False</span><span style=\"font-weight: bold\">}</span>, Default: <span style=\"color: #00ff00; text-decoration-color: #00ff00; font-style: italic\">True</span>\n",
       "<span style=\"color: #7fbf7f; text-decoration-color: #7fbf7f\">│   </span>3_sequential, Type: Categorical, Choices: <span style=\"font-weight: bold\">{</span><span style=\"color: #00ff00; text-decoration-color: #00ff00; font-style: italic\">True</span>, <span style=\"color: #ff0000; text-decoration-color: #ff0000; font-style: italic\">False</span><span style=\"font-weight: bold\">}</span>, Default: <span style=\"color: #00ff00; text-decoration-color: #00ff00; font-style: italic\">True</span>\n",
       "<span style=\"color: #7fbf7f; text-decoration-color: #7fbf7f\">│   </span>4_threshold_convergence, Type: Categorical, Choices: <span style=\"font-weight: bold\">{</span><span style=\"color: #00ff00; text-decoration-color: #00ff00; font-style: italic\">True</span>, <span style=\"color: #ff0000; text-decoration-color: #ff0000; font-style: italic\">False</span><span style=\"font-weight: bold\">}</span>, Default: <span style=\"color: #00ff00; text-decoration-color: #00ff00; font-style: italic\">True</span>\n",
       "<span style=\"color: #7fbf7f; text-decoration-color: #7fbf7f\">│   </span>5_step_size_adaptation, Type: Categorical, Choices: <span style=\"font-weight: bold\">{</span>csa, tpa, msr, xnes, m-xnes, lp-xnes, psr<span style=\"font-weight: bold\">}</span>, Default: csa\n",
       "<span style=\"color: #7fbf7f; text-decoration-color: #7fbf7f\">│   </span>6_mirrored, Type: Categorical, Choices: <span style=\"font-weight: bold\">{</span><span style=\"color: #800080; text-decoration-color: #800080; font-style: italic\">None</span>, mirrored, mirrored pairwise<span style=\"font-weight: bold\">}</span>, Default: <span style=\"color: #800080; text-decoration-color: #800080; font-style: italic\">None</span>\n",
       "<span style=\"color: #7fbf7f; text-decoration-color: #7fbf7f\">│   </span>7_base_sampler, Type: Categorical, Choices: <span style=\"font-weight: bold\">{</span>gaussian, sobol, halton<span style=\"font-weight: bold\">}</span>, Default: gaussian\n",
       "<span style=\"color: #7fbf7f; text-decoration-color: #7fbf7f\">│   </span>8_weights_option, Type: Categorical, Choices: <span style=\"font-weight: bold\">{</span>default, equal, <span style=\"color: #008080; text-decoration-color: #008080; font-weight: bold\">1</span>/<span style=\"color: #008080; text-decoration-color: #008080; font-weight: bold\">2</span>^lambda<span style=\"font-weight: bold\">}</span>, Default: default\n",
       "<span style=\"color: #7fbf7f; text-decoration-color: #7fbf7f\">│   </span>90_local_restart, Type: Categorical, Choices: <span style=\"font-weight: bold\">{</span><span style=\"color: #800080; text-decoration-color: #800080; font-style: italic\">None</span>, IPOP, BIPOP<span style=\"font-weight: bold\">}</span>, Default: <span style=\"color: #800080; text-decoration-color: #800080; font-style: italic\">None</span>\n",
       "<span style=\"color: #7fbf7f; text-decoration-color: #7fbf7f\">│   </span>91_bound_correction, Type: Categorical, Choices: <span style=\"font-weight: bold\">{</span><span style=\"color: #800080; text-decoration-color: #800080; font-style: italic\">None</span>, saturate, unif_resample, COTN, toroidal, mirror<span style=\"font-weight: bold\">}</span>, Default: <span style=\"color: #800080; text-decoration-color: #800080; font-style: italic\">None</span>\n",
       "<span style=\"color: #7fbf7f; text-decoration-color: #7fbf7f\">│   </span>92_step_size, Type: UniformFloat, Range: <span style=\"font-weight: bold\">[</span><span style=\"color: #008080; text-decoration-color: #008080; font-weight: bold\">0.0</span>, <span style=\"color: #008080; text-decoration-color: #008080; font-weight: bold\">10.0</span><span style=\"font-weight: bold\">]</span>, Default: <span style=\"color: #008080; text-decoration-color: #008080; font-weight: bold\">5.0</span>\n",
       "</pre>\n"
      ],
      "text/plain": [
       "Configuration space object:\n",
       "\u001b[2;32m  \u001b[0mHyperparameters:\n",
       "\u001b[2;32m│   \u001b[0m0_active, Type: Categorical, Choices: \u001b[1m{\u001b[0m\u001b[3;92mTrue\u001b[0m, \u001b[3;91mFalse\u001b[0m\u001b[1m}\u001b[0m, Default: \u001b[3;92mTrue\u001b[0m\n",
       "\u001b[2;32m│   \u001b[0m1_elitist, Type: Categorical, Choices: \u001b[1m{\u001b[0m\u001b[3;92mTrue\u001b[0m, \u001b[3;91mFalse\u001b[0m\u001b[1m}\u001b[0m, Default: \u001b[3;92mTrue\u001b[0m\n",
       "\u001b[2;32m│   \u001b[0m2_orthogonal, Type: Categorical, Choices: \u001b[1m{\u001b[0m\u001b[3;92mTrue\u001b[0m, \u001b[3;91mFalse\u001b[0m\u001b[1m}\u001b[0m, Default: \u001b[3;92mTrue\u001b[0m\n",
       "\u001b[2;32m│   \u001b[0m3_sequential, Type: Categorical, Choices: \u001b[1m{\u001b[0m\u001b[3;92mTrue\u001b[0m, \u001b[3;91mFalse\u001b[0m\u001b[1m}\u001b[0m, Default: \u001b[3;92mTrue\u001b[0m\n",
       "\u001b[2;32m│   \u001b[0m4_threshold_convergence, Type: Categorical, Choices: \u001b[1m{\u001b[0m\u001b[3;92mTrue\u001b[0m, \u001b[3;91mFalse\u001b[0m\u001b[1m}\u001b[0m, Default: \u001b[3;92mTrue\u001b[0m\n",
       "\u001b[2;32m│   \u001b[0m5_step_size_adaptation, Type: Categorical, Choices: \u001b[1m{\u001b[0mcsa, tpa, msr, xnes, m-xnes, lp-xnes, psr\u001b[1m}\u001b[0m, Default: csa\n",
       "\u001b[2;32m│   \u001b[0m6_mirrored, Type: Categorical, Choices: \u001b[1m{\u001b[0m\u001b[3;35mNone\u001b[0m, mirrored, mirrored pairwise\u001b[1m}\u001b[0m, Default: \u001b[3;35mNone\u001b[0m\n",
       "\u001b[2;32m│   \u001b[0m7_base_sampler, Type: Categorical, Choices: \u001b[1m{\u001b[0mgaussian, sobol, halton\u001b[1m}\u001b[0m, Default: gaussian\n",
       "\u001b[2;32m│   \u001b[0m8_weights_option, Type: Categorical, Choices: \u001b[1m{\u001b[0mdefault, equal, \u001b[1;36m1\u001b[0m/\u001b[1;36m2\u001b[0m^lambda\u001b[1m}\u001b[0m, Default: default\n",
       "\u001b[2;32m│   \u001b[0m90_local_restart, Type: Categorical, Choices: \u001b[1m{\u001b[0m\u001b[3;35mNone\u001b[0m, IPOP, BIPOP\u001b[1m}\u001b[0m, Default: \u001b[3;35mNone\u001b[0m\n",
       "\u001b[2;32m│   \u001b[0m91_bound_correction, Type: Categorical, Choices: \u001b[1m{\u001b[0m\u001b[3;35mNone\u001b[0m, saturate, unif_resample, COTN, toroidal, mirror\u001b[1m}\u001b[0m, Default: \u001b[3;35mNone\u001b[0m\n",
       "\u001b[2;32m│   \u001b[0m92_step_size, Type: UniformFloat, Range: \u001b[1m[\u001b[0m\u001b[1;36m0.0\u001b[0m, \u001b[1;36m10.0\u001b[0m\u001b[1m]\u001b[0m, Default: \u001b[1;36m5.0\u001b[0m\n"
      ]
     },
     "metadata": {},
     "output_type": "display_data"
    }
   ],
   "source": [
    "pprint(bench.config[\"config_space\"])"
   ]
  },
  {
   "cell_type": "markdown",
   "metadata": {},
   "source": [
    "The reward in this task has the following reward range:"
   ]
  },
  {
   "cell_type": "code",
   "execution_count": 6,
   "metadata": {},
   "outputs": [
    {
     "data": {
      "text/html": [
       "<pre style=\"white-space:pre;overflow-x:auto;line-height:normal;font-family:Menlo,'DejaVu Sans Mono',consolas,'Courier New',monospace\"><span style=\"font-weight: bold\">(</span><span style=\"color: #008080; text-decoration-color: #008080; font-weight: bold\">-1000000000000</span>, <span style=\"color: #008080; text-decoration-color: #008080; font-weight: bold\">0</span><span style=\"font-weight: bold\">)</span>\n",
       "</pre>\n"
      ],
      "text/plain": [
       "\u001b[1m(\u001b[0m\u001b[1;36m-1000000000000\u001b[0m, \u001b[1;36m0\u001b[0m\u001b[1m)\u001b[0m\n"
      ]
     },
     "metadata": {},
     "output_type": "display_data"
    }
   ],
   "source": [
    "pprint(bench.config[\"reward_range\"])"
   ]
  },
  {
   "cell_type": "markdown",
   "metadata": {},
   "source": [
    "Finally, the cutoff shows how many steps of the sequence are necessary for solution:"
   ]
  },
  {
   "cell_type": "code",
   "execution_count": 7,
   "metadata": {},
   "outputs": [
    {
     "data": {
      "text/html": [
       "<pre style=\"white-space:pre;overflow-x:auto;line-height:normal;font-family:Menlo,'DejaVu Sans Mono',consolas,'Courier New',monospace\"><span style=\"color: #008080; text-decoration-color: #008080; font-weight: bold\">1000000.0</span>\n",
       "</pre>\n"
      ],
      "text/plain": [
       "\u001b[1;36m1000000.0\u001b[0m\n"
      ]
     },
     "metadata": {},
     "output_type": "display_data"
    }
   ],
   "source": [
    "pprint(bench.config[\"cutoff\"])"
   ]
  },
  {
   "cell_type": "markdown",
   "metadata": {},
   "source": [
    "The config also contains some standard keys like the seed, instance set, multi agent mode or observation space config. The observation space usually does not need to be configured at all while the seed should be varied between runs. Multi agent mode has its own example which better shows how it works."
   ]
  },
  {
   "cell_type": "markdown",
   "metadata": {},
   "source": [
    "## CMA-ES Instances\n",
    "Now let's take a look at how a CMA-ES instance looks. To do so, we first read the default instance set and look at its first element:"
   ]
  },
  {
   "cell_type": "code",
   "execution_count": 12,
   "metadata": {},
   "outputs": [
    {
     "data": {
      "text/html": [
       "<pre style=\"white-space:pre;overflow-x:auto;line-height:normal;font-family:Menlo,'DejaVu Sans Mono',consolas,'Courier New',monospace\"><span style=\"color: #008000; text-decoration-color: #008000\">'../instance_sets/cma/cma_bbob_dim10_train.csv'</span>\n",
       "</pre>\n"
      ],
      "text/plain": [
       "\u001b[32m'../instance_sets/cma/cma_bbob_dim10_train.csv'\u001b[0m\n"
      ]
     },
     "metadata": {},
     "output_type": "display_data"
    },
    {
     "data": {
      "text/html": [
       "<pre style=\"white-space:pre;overflow-x:auto;line-height:normal;font-family:Menlo,'DejaVu Sans Mono',consolas,'Courier New',monospace\"><span style=\"color: #800080; text-decoration-color: #800080; font-weight: bold\">CMAESInstance</span><span style=\"font-weight: bold\">(</span>\n",
       "<span style=\"color: #7fbf7f; text-decoration-color: #7fbf7f\">│   </span><span style=\"color: #808000; text-decoration-color: #808000\">target_function</span>=<span style=\"font-weight: bold\">&lt;</span><span style=\"color: #ff00ff; text-decoration-color: #ff00ff; font-weight: bold\">dacbench.envs.env_utils.toy_functions.IOHFunction</span><span style=\"color: #000000; text-decoration-color: #000000\"> object at </span><span style=\"color: #008080; text-decoration-color: #008080; font-weight: bold\">0x1740b27d0</span><span style=\"font-weight: bold\">&gt;</span>,\n",
       "<span style=\"color: #7fbf7f; text-decoration-color: #7fbf7f\">│   </span><span style=\"color: #808000; text-decoration-color: #808000\">dim</span>=<span style=\"color: #008080; text-decoration-color: #008080; font-weight: bold\">10</span>,\n",
       "<span style=\"color: #7fbf7f; text-decoration-color: #7fbf7f\">│   </span><span style=\"color: #808000; text-decoration-color: #808000\">fid</span>=<span style=\"color: #008080; text-decoration-color: #008080; font-weight: bold\">3</span>,\n",
       "<span style=\"color: #7fbf7f; text-decoration-color: #7fbf7f\">│   </span><span style=\"color: #808000; text-decoration-color: #808000\">iid</span>=<span style=\"color: #008080; text-decoration-color: #008080; font-weight: bold\">1</span>,\n",
       "<span style=\"color: #7fbf7f; text-decoration-color: #7fbf7f\">│   </span><span style=\"color: #808000; text-decoration-color: #808000\">active</span>=<span style=\"color: #ff0000; text-decoration-color: #ff0000; font-style: italic\">False</span>,\n",
       "<span style=\"color: #7fbf7f; text-decoration-color: #7fbf7f\">│   </span><span style=\"color: #808000; text-decoration-color: #808000\">elitist</span>=<span style=\"color: #ff0000; text-decoration-color: #ff0000; font-style: italic\">False</span>,\n",
       "<span style=\"color: #7fbf7f; text-decoration-color: #7fbf7f\">│   </span><span style=\"color: #808000; text-decoration-color: #808000\">orthogonal</span>=<span style=\"color: #00ff00; text-decoration-color: #00ff00; font-style: italic\">True</span>,\n",
       "<span style=\"color: #7fbf7f; text-decoration-color: #7fbf7f\">│   </span><span style=\"color: #808000; text-decoration-color: #808000\">sequential</span>=<span style=\"color: #00ff00; text-decoration-color: #00ff00; font-style: italic\">True</span>,\n",
       "<span style=\"color: #7fbf7f; text-decoration-color: #7fbf7f\">│   </span><span style=\"color: #808000; text-decoration-color: #808000\">threshold_convergence</span>=<span style=\"color: #ff0000; text-decoration-color: #ff0000; font-style: italic\">False</span>,\n",
       "<span style=\"color: #7fbf7f; text-decoration-color: #7fbf7f\">│   </span><span style=\"color: #808000; text-decoration-color: #808000\">step_size_adaptation</span>=<span style=\"color: #008000; text-decoration-color: #008000\">'psr'</span>,\n",
       "<span style=\"color: #7fbf7f; text-decoration-color: #7fbf7f\">│   </span><span style=\"color: #808000; text-decoration-color: #808000\">mirrored</span>=<span style=\"color: #800080; text-decoration-color: #800080\">nan</span>,\n",
       "<span style=\"color: #7fbf7f; text-decoration-color: #7fbf7f\">│   </span><span style=\"color: #808000; text-decoration-color: #808000\">base_sampler</span>=<span style=\"color: #008000; text-decoration-color: #008000\">'sobol'</span>,\n",
       "<span style=\"color: #7fbf7f; text-decoration-color: #7fbf7f\">│   </span><span style=\"color: #808000; text-decoration-color: #808000\">weights_option</span>=<span style=\"color: #008000; text-decoration-color: #008000\">'1/2^lambda'</span>,\n",
       "<span style=\"color: #7fbf7f; text-decoration-color: #7fbf7f\">│   </span><span style=\"color: #808000; text-decoration-color: #808000\">local_restart</span>=<span style=\"color: #008000; text-decoration-color: #008000\">'IPOP'</span>,\n",
       "<span style=\"color: #7fbf7f; text-decoration-color: #7fbf7f\">│   </span><span style=\"color: #808000; text-decoration-color: #808000\">bound_correction</span>=<span style=\"color: #800080; text-decoration-color: #800080\">nan</span>\n",
       "<span style=\"font-weight: bold\">)</span>\n",
       "</pre>\n"
      ],
      "text/plain": [
       "\u001b[1;35mCMAESInstance\u001b[0m\u001b[1m(\u001b[0m\n",
       "\u001b[2;32m│   \u001b[0m\u001b[33mtarget_function\u001b[0m=\u001b[1m<\u001b[0m\u001b[1;95mdacbench.envs.env_utils.toy_functions.IOHFunction\u001b[0m\u001b[39m object at \u001b[0m\u001b[1;36m0x1740b27d0\u001b[0m\u001b[1m>\u001b[0m,\n",
       "\u001b[2;32m│   \u001b[0m\u001b[33mdim\u001b[0m=\u001b[1;36m10\u001b[0m,\n",
       "\u001b[2;32m│   \u001b[0m\u001b[33mfid\u001b[0m=\u001b[1;36m3\u001b[0m,\n",
       "\u001b[2;32m│   \u001b[0m\u001b[33miid\u001b[0m=\u001b[1;36m1\u001b[0m,\n",
       "\u001b[2;32m│   \u001b[0m\u001b[33mactive\u001b[0m=\u001b[3;91mFalse\u001b[0m,\n",
       "\u001b[2;32m│   \u001b[0m\u001b[33melitist\u001b[0m=\u001b[3;91mFalse\u001b[0m,\n",
       "\u001b[2;32m│   \u001b[0m\u001b[33morthogonal\u001b[0m=\u001b[3;92mTrue\u001b[0m,\n",
       "\u001b[2;32m│   \u001b[0m\u001b[33msequential\u001b[0m=\u001b[3;92mTrue\u001b[0m,\n",
       "\u001b[2;32m│   \u001b[0m\u001b[33mthreshold_convergence\u001b[0m=\u001b[3;91mFalse\u001b[0m,\n",
       "\u001b[2;32m│   \u001b[0m\u001b[33mstep_size_adaptation\u001b[0m=\u001b[32m'psr'\u001b[0m,\n",
       "\u001b[2;32m│   \u001b[0m\u001b[33mmirrored\u001b[0m=\u001b[35mnan\u001b[0m,\n",
       "\u001b[2;32m│   \u001b[0m\u001b[33mbase_sampler\u001b[0m=\u001b[32m'sobol'\u001b[0m,\n",
       "\u001b[2;32m│   \u001b[0m\u001b[33mweights_option\u001b[0m=\u001b[32m'1/2^lambda'\u001b[0m,\n",
       "\u001b[2;32m│   \u001b[0m\u001b[33mlocal_restart\u001b[0m=\u001b[32m'IPOP'\u001b[0m,\n",
       "\u001b[2;32m│   \u001b[0m\u001b[33mbound_correction\u001b[0m=\u001b[35mnan\u001b[0m\n",
       "\u001b[1m)\u001b[0m\n"
      ]
     },
     "metadata": {},
     "output_type": "display_data"
    },
    {
     "data": {
      "text/html": [
       "<pre style=\"white-space:pre;overflow-x:auto;line-height:normal;font-family:Menlo,'DejaVu Sans Mono',consolas,'Courier New',monospace\"><span style=\"color: #008000; text-decoration-color: #008000\">'Target function: &lt;RealSingleObjectiveProblem 14. DifferentPowers (iid=1 dim=10)&gt;'</span>\n",
       "</pre>\n"
      ],
      "text/plain": [
       "\u001b[32m'Target function: \u001b[0m\u001b[32m<\u001b[0m\u001b[32mRealSingleObjectiveProblem\u001b[0m\u001b[32m 14. DifferentPowers \u001b[0m\u001b[32m(\u001b[0m\u001b[32miid\u001b[0m\u001b[32m=\u001b[0m\u001b[32m1\u001b[0m\u001b[32m \u001b[0m\u001b[32mdim\u001b[0m\u001b[32m=\u001b[0m\u001b[32m10\u001b[0m\u001b[32m)\u001b[0m\u001b[32m>\u001b[0m\u001b[32m'\u001b[0m\n"
      ]
     },
     "metadata": {},
     "output_type": "display_data"
    }
   ],
   "source": [
    "pprint(bench.config[\"instance_set_path\"])\n",
    "bench.read_instance_set()\n",
    "pprint(bench.config.instance_set[0])\n",
    "pprint(f\"Target function: {bench.config.instance_set[0].target_function.function}\")"
   ]
  },
  {
   "cell_type": "markdown",
   "metadata": {},
   "source": [
    "As you can see, the instance contains the \"target_function\", in this case the DifferentPowers function with id 1 in dimension 10. Natively this benchmark supports BBOB functions via the \"read_instance_set\" method, but it could be overwritten by an IOHFunction. Furthermore it also contains default values for the algorithm component choices, e.g. \"active\" or \"elitist\". They serve as defaults in case only a subset of the configuration space is configured."
   ]
  },
  {
   "cell_type": "markdown",
   "metadata": {},
   "source": [
    "## Running CMA-ES\n",
    "Lastly, let's look at the CMA-ES benchmark in action. The state contains the size of the current generation, the current step size, the remaining budget, function ID and instance ID:"
   ]
  },
  {
   "cell_type": "code",
   "execution_count": 13,
   "metadata": {},
   "outputs": [
    {
     "data": {
      "text/html": [
       "<pre style=\"white-space:pre;overflow-x:auto;line-height:normal;font-family:Menlo,'DejaVu Sans Mono',consolas,'Courier New',monospace\"><span style=\"font-weight: bold\">(</span><span style=\"color: #800080; text-decoration-color: #800080; font-weight: bold\">array</span><span style=\"font-weight: bold\">([</span> <span style=\"color: #008080; text-decoration-color: #008080; font-weight: bold\">10</span>.,   <span style=\"color: #008080; text-decoration-color: #008080; font-weight: bold\">2</span>., <span style=\"color: #008080; text-decoration-color: #008080; font-weight: bold\">100</span>.,  <span style=\"color: #008080; text-decoration-color: #008080; font-weight: bold\">10</span>.,   <span style=\"color: #008080; text-decoration-color: #008080; font-weight: bold\">4</span>.<span style=\"font-weight: bold\">])</span>, <span style=\"font-weight: bold\">{})</span>\n",
       "</pre>\n"
      ],
      "text/plain": [
       "\u001b[1m(\u001b[0m\u001b[1;35marray\u001b[0m\u001b[1m(\u001b[0m\u001b[1m[\u001b[0m \u001b[1;36m10\u001b[0m.,   \u001b[1;36m2\u001b[0m., \u001b[1;36m100\u001b[0m.,  \u001b[1;36m10\u001b[0m.,   \u001b[1;36m4\u001b[0m.\u001b[1m]\u001b[0m\u001b[1m)\u001b[0m, \u001b[1m{\u001b[0m\u001b[1m}\u001b[0m\u001b[1m)\u001b[0m\n"
      ]
     },
     "metadata": {},
     "output_type": "display_data"
    }
   ],
   "source": [
    "env = bench.get_environment()\n",
    "pprint(env.reset())"
   ]
  },
  {
   "cell_type": "markdown",
   "metadata": {},
   "source": [
    "If we take a step, we see the updated step size and budget:"
   ]
  },
  {
   "cell_type": "code",
   "execution_count": 14,
   "metadata": {},
   "outputs": [
    {
     "data": {
      "text/html": [
       "<pre style=\"white-space:pre;overflow-x:auto;line-height:normal;font-family:Menlo,'DejaVu Sans Mono',consolas,'Courier New',monospace\"><span style=\"color: #800080; text-decoration-color: #800080; font-weight: bold\">array</span><span style=\"font-weight: bold\">([</span><span style=\"color: #008080; text-decoration-color: #008080; font-weight: bold\">10</span>.        ,  <span style=\"color: #008080; text-decoration-color: #008080; font-weight: bold\">9.34079924</span>, <span style=\"color: #008080; text-decoration-color: #008080; font-weight: bold\">94</span>.        , <span style=\"color: #008080; text-decoration-color: #008080; font-weight: bold\">10</span>.        ,  <span style=\"color: #008080; text-decoration-color: #008080; font-weight: bold\">4</span>.        <span style=\"font-weight: bold\">])</span>\n",
       "</pre>\n"
      ],
      "text/plain": [
       "\u001b[1;35marray\u001b[0m\u001b[1m(\u001b[0m\u001b[1m[\u001b[0m\u001b[1;36m10\u001b[0m.        ,  \u001b[1;36m9.34079924\u001b[0m, \u001b[1;36m94\u001b[0m.        , \u001b[1;36m10\u001b[0m.        ,  \u001b[1;36m4\u001b[0m.        \u001b[1m]\u001b[0m\u001b[1m)\u001b[0m\n"
      ]
     },
     "metadata": {},
     "output_type": "display_data"
    }
   ],
   "source": [
    "action = env.action_space.sample()\n",
    "state, reward, terminated, truncated, info = env.step(action)\n",
    "pprint(state)"
   ]
  },
  {
   "cell_type": "markdown",
   "metadata": {},
   "source": [
    "Furthermore, we also get a reward and termination and truncation signals. Truncation will be set to true after the number of steps exceeds the cutoff."
   ]
  },
  {
   "cell_type": "code",
   "execution_count": 15,
   "metadata": {},
   "outputs": [
    {
     "data": {
      "text/html": [
       "<pre style=\"white-space:pre;overflow-x:auto;line-height:normal;font-family:Menlo,'DejaVu Sans Mono',consolas,'Courier New',monospace\"><span style=\"color: #008000; text-decoration-color: #008000\">'Reward 0'</span>\n",
       "</pre>\n"
      ],
      "text/plain": [
       "\u001b[32m'Reward 0'\u001b[0m\n"
      ]
     },
     "metadata": {},
     "output_type": "display_data"
    },
    {
     "data": {
      "text/html": [
       "<pre style=\"white-space:pre;overflow-x:auto;line-height:normal;font-family:Menlo,'DejaVu Sans Mono',consolas,'Courier New',monospace\"><span style=\"color: #008000; text-decoration-color: #008000\">'Terminated False'</span>\n",
       "</pre>\n"
      ],
      "text/plain": [
       "\u001b[32m'Terminated False'\u001b[0m\n"
      ]
     },
     "metadata": {},
     "output_type": "display_data"
    },
    {
     "data": {
      "text/html": [
       "<pre style=\"white-space:pre;overflow-x:auto;line-height:normal;font-family:Menlo,'DejaVu Sans Mono',consolas,'Courier New',monospace\"><span style=\"color: #008000; text-decoration-color: #008000\">'Truncated False'</span>\n",
       "</pre>\n"
      ],
      "text/plain": [
       "\u001b[32m'Truncated False'\u001b[0m\n"
      ]
     },
     "metadata": {},
     "output_type": "display_data"
    }
   ],
   "source": [
    "pprint(f\"Reward {reward}\")\n",
    "pprint(f\"Terminated {terminated}\")\n",
    "pprint(f\"Truncated {truncated}\")"
   ]
  }
 ],
 "metadata": {
  "kernelspec": {
   "display_name": "dacbench",
   "language": "python",
   "name": "python3"
  },
  "language_info": {
   "codemirror_mode": {
    "name": "ipython",
    "version": 3
   },
   "file_extension": ".py",
   "mimetype": "text/x-python",
   "name": "python",
   "nbconvert_exporter": "python",
   "pygments_lexer": "ipython3",
   "version": "3.10.13"
  }
 },
 "nbformat": 4,
 "nbformat_minor": 2
}
