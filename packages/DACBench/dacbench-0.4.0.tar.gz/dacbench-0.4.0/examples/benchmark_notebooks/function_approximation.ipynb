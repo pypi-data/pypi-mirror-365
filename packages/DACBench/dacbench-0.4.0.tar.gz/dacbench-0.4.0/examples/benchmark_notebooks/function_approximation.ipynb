{
 "cells": [
  {
   "cell_type": "code",
   "execution_count": 14,
   "metadata": {},
   "outputs": [],
   "source": [
    "from rich.pretty import pprint\n",
    "import seaborn as sns"
   ]
  },
  {
   "cell_type": "markdown",
   "metadata": {},
   "source": [
    "## The Function Approximation Benchmark\n",
    "Let's take a look at function approximation. This is a toy benchmark to test simple function approximation. The task is to predict the value of afunction in each of n dimensions as specified by the instance. First, let's make a benchmark instance:"
   ]
  },
  {
   "cell_type": "code",
   "execution_count": 15,
   "metadata": {},
   "outputs": [],
   "source": [
    "from dacbench.benchmarks import FunctionApproximationBenchmark\n",
    "bench = FunctionApproximationBenchmark()"
   ]
  },
  {
   "cell_type": "markdown",
   "metadata": {},
   "source": [
    "Now let's take a look at the elements of the config in this benchmark:"
   ]
  },
  {
   "cell_type": "code",
   "execution_count": 16,
   "metadata": {},
   "outputs": [
    {
     "data": {
      "text/html": [
       "<pre style=\"white-space:pre;overflow-x:auto;line-height:normal;font-family:Menlo,'DejaVu Sans Mono',consolas,'Courier New',monospace\"><span style=\"font-weight: bold\">[</span>\n",
       "<span style=\"color: #7fbf7f; text-decoration-color: #7fbf7f\">│   </span><span style=\"color: #008000; text-decoration-color: #008000\">'config_space'</span>,\n",
       "<span style=\"color: #7fbf7f; text-decoration-color: #7fbf7f\">│   </span><span style=\"color: #008000; text-decoration-color: #008000\">'observation_space_class'</span>,\n",
       "<span style=\"color: #7fbf7f; text-decoration-color: #7fbf7f\">│   </span><span style=\"color: #008000; text-decoration-color: #008000\">'observation_space_type'</span>,\n",
       "<span style=\"color: #7fbf7f; text-decoration-color: #7fbf7f\">│   </span><span style=\"color: #008000; text-decoration-color: #008000\">'observation_space_args'</span>,\n",
       "<span style=\"color: #7fbf7f; text-decoration-color: #7fbf7f\">│   </span><span style=\"color: #008000; text-decoration-color: #008000\">'discrete'</span>,\n",
       "<span style=\"color: #7fbf7f; text-decoration-color: #7fbf7f\">│   </span><span style=\"color: #008000; text-decoration-color: #008000\">'reward_range'</span>,\n",
       "<span style=\"color: #7fbf7f; text-decoration-color: #7fbf7f\">│   </span><span style=\"color: #008000; text-decoration-color: #008000\">'cutoff'</span>,\n",
       "<span style=\"color: #7fbf7f; text-decoration-color: #7fbf7f\">│   </span><span style=\"color: #008000; text-decoration-color: #008000\">'seed'</span>,\n",
       "<span style=\"color: #7fbf7f; text-decoration-color: #7fbf7f\">│   </span><span style=\"color: #008000; text-decoration-color: #008000\">'multi_agent'</span>,\n",
       "<span style=\"color: #7fbf7f; text-decoration-color: #7fbf7f\">│   </span><span style=\"color: #008000; text-decoration-color: #008000\">'omit_instance_type'</span>,\n",
       "<span style=\"color: #7fbf7f; text-decoration-color: #7fbf7f\">│   </span><span style=\"color: #008000; text-decoration-color: #008000\">'instance_set_path'</span>,\n",
       "<span style=\"color: #7fbf7f; text-decoration-color: #7fbf7f\">│   </span><span style=\"color: #008000; text-decoration-color: #008000\">'test_set_path'</span>,\n",
       "<span style=\"color: #7fbf7f; text-decoration-color: #7fbf7f\">│   </span><span style=\"color: #008000; text-decoration-color: #008000\">'benchmark_info'</span>\n",
       "<span style=\"font-weight: bold\">]</span>\n",
       "</pre>\n"
      ],
      "text/plain": [
       "\u001b[1m[\u001b[0m\n",
       "\u001b[2;32m│   \u001b[0m\u001b[32m'config_space'\u001b[0m,\n",
       "\u001b[2;32m│   \u001b[0m\u001b[32m'observation_space_class'\u001b[0m,\n",
       "\u001b[2;32m│   \u001b[0m\u001b[32m'observation_space_type'\u001b[0m,\n",
       "\u001b[2;32m│   \u001b[0m\u001b[32m'observation_space_args'\u001b[0m,\n",
       "\u001b[2;32m│   \u001b[0m\u001b[32m'discrete'\u001b[0m,\n",
       "\u001b[2;32m│   \u001b[0m\u001b[32m'reward_range'\u001b[0m,\n",
       "\u001b[2;32m│   \u001b[0m\u001b[32m'cutoff'\u001b[0m,\n",
       "\u001b[2;32m│   \u001b[0m\u001b[32m'seed'\u001b[0m,\n",
       "\u001b[2;32m│   \u001b[0m\u001b[32m'multi_agent'\u001b[0m,\n",
       "\u001b[2;32m│   \u001b[0m\u001b[32m'omit_instance_type'\u001b[0m,\n",
       "\u001b[2;32m│   \u001b[0m\u001b[32m'instance_set_path'\u001b[0m,\n",
       "\u001b[2;32m│   \u001b[0m\u001b[32m'test_set_path'\u001b[0m,\n",
       "\u001b[2;32m│   \u001b[0m\u001b[32m'benchmark_info'\u001b[0m\n",
       "\u001b[1m]\u001b[0m\n"
      ]
     },
     "metadata": {},
     "output_type": "display_data"
    }
   ],
   "source": [
    "pprint(list(bench.config.keys()))"
   ]
  },
  {
   "cell_type": "markdown",
   "metadata": {},
   "source": [
    "The 'benchmark_info' tells us some things about this benchmark already:"
   ]
  },
  {
   "cell_type": "code",
   "execution_count": 17,
   "metadata": {},
   "outputs": [
    {
     "data": {
      "text/html": [
       "<pre style=\"white-space:pre;overflow-x:auto;line-height:normal;font-family:Menlo,'DejaVu Sans Mono',consolas,'Courier New',monospace\"><span style=\"font-weight: bold\">{</span>\n",
       "<span style=\"color: #7fbf7f; text-decoration-color: #7fbf7f\">│   </span><span style=\"color: #008000; text-decoration-color: #008000\">'identifier'</span>: <span style=\"color: #008000; text-decoration-color: #008000\">'FunctionApproximation'</span>,\n",
       "<span style=\"color: #7fbf7f; text-decoration-color: #7fbf7f\">│   </span><span style=\"color: #008000; text-decoration-color: #008000\">'name'</span>: <span style=\"color: #008000; text-decoration-color: #008000\">'Function Approximation'</span>,\n",
       "<span style=\"color: #7fbf7f; text-decoration-color: #7fbf7f\">│   </span><span style=\"color: #008000; text-decoration-color: #008000\">'reward'</span>: <span style=\"color: #008000; text-decoration-color: #008000\">'Multiplied Differences between Function and Action in each Dimension'</span>,\n",
       "<span style=\"color: #7fbf7f; text-decoration-color: #7fbf7f\">│   </span><span style=\"color: #008000; text-decoration-color: #008000\">'state_description'</span>: <span style=\"font-weight: bold\">[</span>\n",
       "<span style=\"color: #7fbf7f; text-decoration-color: #7fbf7f\">│   │   </span><span style=\"color: #008000; text-decoration-color: #008000\">'Remaining Budget'</span>,\n",
       "<span style=\"color: #7fbf7f; text-decoration-color: #7fbf7f\">│   │   </span><span style=\"color: #008000; text-decoration-color: #008000\">'Shift (dimension 1)'</span>,\n",
       "<span style=\"color: #7fbf7f; text-decoration-color: #7fbf7f\">│   │   </span><span style=\"color: #008000; text-decoration-color: #008000\">'Slope (dimension 1)'</span>,\n",
       "<span style=\"color: #7fbf7f; text-decoration-color: #7fbf7f\">│   │   </span><span style=\"color: #008000; text-decoration-color: #008000\">'Shift (dimension 2)'</span>,\n",
       "<span style=\"color: #7fbf7f; text-decoration-color: #7fbf7f\">│   │   </span><span style=\"color: #008000; text-decoration-color: #008000\">'Slope (dimension 2)'</span>,\n",
       "<span style=\"color: #7fbf7f; text-decoration-color: #7fbf7f\">│   │   </span><span style=\"color: #008000; text-decoration-color: #008000\">'Shift (dimension 3)'</span>,\n",
       "<span style=\"color: #7fbf7f; text-decoration-color: #7fbf7f\">│   │   </span><span style=\"color: #008000; text-decoration-color: #008000\">'Slope (dimension 3)'</span>,\n",
       "<span style=\"color: #7fbf7f; text-decoration-color: #7fbf7f\">│   │   </span><span style=\"color: #008000; text-decoration-color: #008000\">'Action 1'</span>,\n",
       "<span style=\"color: #7fbf7f; text-decoration-color: #7fbf7f\">│   │   </span><span style=\"color: #008000; text-decoration-color: #008000\">'Action 2'</span>,\n",
       "<span style=\"color: #7fbf7f; text-decoration-color: #7fbf7f\">│   │   </span><span style=\"color: #008000; text-decoration-color: #008000\">'Action 3'</span>\n",
       "<span style=\"color: #7fbf7f; text-decoration-color: #7fbf7f\">│   </span><span style=\"font-weight: bold\">]</span>\n",
       "<span style=\"font-weight: bold\">}</span>\n",
       "</pre>\n"
      ],
      "text/plain": [
       "\u001b[1m{\u001b[0m\n",
       "\u001b[2;32m│   \u001b[0m\u001b[32m'identifier'\u001b[0m: \u001b[32m'FunctionApproximation'\u001b[0m,\n",
       "\u001b[2;32m│   \u001b[0m\u001b[32m'name'\u001b[0m: \u001b[32m'Function Approximation'\u001b[0m,\n",
       "\u001b[2;32m│   \u001b[0m\u001b[32m'reward'\u001b[0m: \u001b[32m'Multiplied Differences between Function and Action in each Dimension'\u001b[0m,\n",
       "\u001b[2;32m│   \u001b[0m\u001b[32m'state_description'\u001b[0m: \u001b[1m[\u001b[0m\n",
       "\u001b[2;32m│   │   \u001b[0m\u001b[32m'Remaining Budget'\u001b[0m,\n",
       "\u001b[2;32m│   │   \u001b[0m\u001b[32m'Shift \u001b[0m\u001b[32m(\u001b[0m\u001b[32mdimension 1\u001b[0m\u001b[32m)\u001b[0m\u001b[32m'\u001b[0m,\n",
       "\u001b[2;32m│   │   \u001b[0m\u001b[32m'Slope \u001b[0m\u001b[32m(\u001b[0m\u001b[32mdimension 1\u001b[0m\u001b[32m)\u001b[0m\u001b[32m'\u001b[0m,\n",
       "\u001b[2;32m│   │   \u001b[0m\u001b[32m'Shift \u001b[0m\u001b[32m(\u001b[0m\u001b[32mdimension 2\u001b[0m\u001b[32m)\u001b[0m\u001b[32m'\u001b[0m,\n",
       "\u001b[2;32m│   │   \u001b[0m\u001b[32m'Slope \u001b[0m\u001b[32m(\u001b[0m\u001b[32mdimension 2\u001b[0m\u001b[32m)\u001b[0m\u001b[32m'\u001b[0m,\n",
       "\u001b[2;32m│   │   \u001b[0m\u001b[32m'Shift \u001b[0m\u001b[32m(\u001b[0m\u001b[32mdimension 3\u001b[0m\u001b[32m)\u001b[0m\u001b[32m'\u001b[0m,\n",
       "\u001b[2;32m│   │   \u001b[0m\u001b[32m'Slope \u001b[0m\u001b[32m(\u001b[0m\u001b[32mdimension 3\u001b[0m\u001b[32m)\u001b[0m\u001b[32m'\u001b[0m,\n",
       "\u001b[2;32m│   │   \u001b[0m\u001b[32m'Action 1'\u001b[0m,\n",
       "\u001b[2;32m│   │   \u001b[0m\u001b[32m'Action 2'\u001b[0m,\n",
       "\u001b[2;32m│   │   \u001b[0m\u001b[32m'Action 3'\u001b[0m\n",
       "\u001b[2;32m│   \u001b[0m\u001b[1m]\u001b[0m\n",
       "\u001b[1m}\u001b[0m\n"
      ]
     },
     "metadata": {},
     "output_type": "display_data"
    }
   ],
   "source": [
    "pprint(bench.config[\"benchmark_info\"])"
   ]
  },
  {
   "cell_type": "markdown",
   "metadata": {},
   "source": [
    "The 'config_space' specifies which actions are taken, i.e. which hyperparameters are configured. We can see that a float \"value_dim_1\" and an integer \"value_dim_2\" is configured."
   ]
  },
  {
   "cell_type": "code",
   "execution_count": 18,
   "metadata": {},
   "outputs": [
    {
     "data": {
      "text/html": [
       "<pre style=\"white-space:pre;overflow-x:auto;line-height:normal;font-family:Menlo,'DejaVu Sans Mono',consolas,'Courier New',monospace\">Configuration space object:\n",
       "<span style=\"color: #7fbf7f; text-decoration-color: #7fbf7f\">  </span>Hyperparameters:\n",
       "<span style=\"color: #7fbf7f; text-decoration-color: #7fbf7f\">│   </span>value_dim_1, Type: UniformFloat, Range: <span style=\"font-weight: bold\">[</span><span style=\"color: #008080; text-decoration-color: #008080; font-weight: bold\">0.0</span>, <span style=\"color: #008080; text-decoration-color: #008080; font-weight: bold\">1.0</span><span style=\"font-weight: bold\">]</span>, Default: <span style=\"color: #008080; text-decoration-color: #008080; font-weight: bold\">0.5</span>\n",
       "<span style=\"color: #7fbf7f; text-decoration-color: #7fbf7f\">│   </span>value_dim_2, Type: UniformInteger, Range: <span style=\"font-weight: bold\">[</span><span style=\"color: #008080; text-decoration-color: #008080; font-weight: bold\">0</span>, <span style=\"color: #008080; text-decoration-color: #008080; font-weight: bold\">10</span><span style=\"font-weight: bold\">]</span>, Default: <span style=\"color: #008080; text-decoration-color: #008080; font-weight: bold\">5</span>\n",
       "</pre>\n"
      ],
      "text/plain": [
       "Configuration space object:\n",
       "\u001b[2;32m  \u001b[0mHyperparameters:\n",
       "\u001b[2;32m│   \u001b[0mvalue_dim_1, Type: UniformFloat, Range: \u001b[1m[\u001b[0m\u001b[1;36m0.0\u001b[0m, \u001b[1;36m1.0\u001b[0m\u001b[1m]\u001b[0m, Default: \u001b[1;36m0.5\u001b[0m\n",
       "\u001b[2;32m│   \u001b[0mvalue_dim_2, Type: UniformInteger, Range: \u001b[1m[\u001b[0m\u001b[1;36m0\u001b[0m, \u001b[1;36m10\u001b[0m\u001b[1m]\u001b[0m, Default: \u001b[1;36m5\u001b[0m\n"
      ]
     },
     "metadata": {},
     "output_type": "display_data"
    }
   ],
   "source": [
    "pprint(bench.config[\"config_space\"])"
   ]
  },
  {
   "cell_type": "markdown",
   "metadata": {},
   "source": [
    "The reward in this task has the following reward range:"
   ]
  },
  {
   "cell_type": "code",
   "execution_count": 19,
   "metadata": {},
   "outputs": [
    {
     "data": {
      "text/html": [
       "<pre style=\"white-space:pre;overflow-x:auto;line-height:normal;font-family:Menlo,'DejaVu Sans Mono',consolas,'Courier New',monospace\"><span style=\"font-weight: bold\">(</span><span style=\"color: #008080; text-decoration-color: #008080; font-weight: bold\">0</span>, <span style=\"color: #008080; text-decoration-color: #008080; font-weight: bold\">1</span><span style=\"font-weight: bold\">)</span>\n",
       "</pre>\n"
      ],
      "text/plain": [
       "\u001b[1m(\u001b[0m\u001b[1;36m0\u001b[0m, \u001b[1;36m1\u001b[0m\u001b[1m)\u001b[0m\n"
      ]
     },
     "metadata": {},
     "output_type": "display_data"
    }
   ],
   "source": [
    "pprint(bench.config[\"reward_range\"])"
   ]
  },
  {
   "cell_type": "markdown",
   "metadata": {},
   "source": [
    "Finally, the cutoff shows how many steps of the sequence are necessary for solution:"
   ]
  },
  {
   "cell_type": "code",
   "execution_count": 20,
   "metadata": {},
   "outputs": [
    {
     "data": {
      "text/html": [
       "<pre style=\"white-space:pre;overflow-x:auto;line-height:normal;font-family:Menlo,'DejaVu Sans Mono',consolas,'Courier New',monospace\"><span style=\"color: #008080; text-decoration-color: #008080; font-weight: bold\">10</span>\n",
       "</pre>\n"
      ],
      "text/plain": [
       "\u001b[1;36m10\u001b[0m\n"
      ]
     },
     "metadata": {},
     "output_type": "display_data"
    }
   ],
   "source": [
    "pprint(bench.config[\"cutoff\"])"
   ]
  },
  {
   "cell_type": "markdown",
   "metadata": {},
   "source": [
    "The config also contains some standard keys like the seed, instance set, multi agent mode or observation space config. The observation space usually does not need to be configured at all while the seed should be varied between runs. Multi agent mode has its own example which better shows how it works. 'discrete' and 'omit_instance_type' are benchmark-specifi: 'discrete' specifies if in some dimensions only discrete values can be predicted to approximate that dimension's function while 'omit_instance_type' will not use the identifier in the observations if true (usually used if only a single function type is used)."
   ]
  },
  {
   "cell_type": "markdown",
   "metadata": {},
   "source": [
    "## Function Approximation Instances\n",
    "Now let's take a look at how a function approximation instance looks. To do so, we first read the default instance set and look at its first element:"
   ]
  },
  {
   "cell_type": "code",
   "execution_count": 21,
   "metadata": {},
   "outputs": [
    {
     "data": {
      "text/html": [
       "<pre style=\"white-space:pre;overflow-x:auto;line-height:normal;font-family:Menlo,'DejaVu Sans Mono',consolas,'Courier New',monospace\"><span style=\"color: #008000; text-decoration-color: #008000\">'sigmoid_2D3M_train.csv'</span>\n",
       "</pre>\n"
      ],
      "text/plain": [
       "\u001b[32m'sigmoid_2D3M_train.csv'\u001b[0m\n"
      ]
     },
     "metadata": {},
     "output_type": "display_data"
    },
    {
     "data": {
      "text/html": [
       "<pre style=\"white-space:pre;overflow-x:auto;line-height:normal;font-family:Menlo,'DejaVu Sans Mono',consolas,'Courier New',monospace\"><span style=\"color: #800080; text-decoration-color: #800080; font-weight: bold\">FunctionApproximationInstance</span><span style=\"font-weight: bold\">(</span>\n",
       "<span style=\"color: #7fbf7f; text-decoration-color: #7fbf7f\">│   </span><span style=\"color: #808000; text-decoration-color: #808000\">functions</span>=<span style=\"font-weight: bold\">[</span>\n",
       "<span style=\"color: #7fbf7f; text-decoration-color: #7fbf7f\">│   │   </span><span style=\"font-weight: bold\">&lt;</span><span style=\"color: #ff00ff; text-decoration-color: #ff00ff; font-weight: bold\">dacbench.envs.env_utils.toy_functions.SigmiodFunction</span><span style=\"color: #000000; text-decoration-color: #000000\"> object at </span><span style=\"color: #008080; text-decoration-color: #008080; font-weight: bold\">0x302a8f820</span><span style=\"color: #000000; text-decoration-color: #000000\">&gt;,</span>\n",
       "<span style=\"color: #7fbf7f; text-decoration-color: #7fbf7f\">│   │   </span><span style=\"color: #000000; text-decoration-color: #000000\">&lt;dacbench.envs.env_utils.toy_functions.SigmiodFunction object at </span><span style=\"color: #008080; text-decoration-color: #008080; font-weight: bold\">0x30355e410</span><span style=\"font-weight: bold\">&gt;</span>\n",
       "<span style=\"color: #7fbf7f; text-decoration-color: #7fbf7f\">│   </span><span style=\"font-weight: bold\">]</span>,\n",
       "<span style=\"color: #7fbf7f; text-decoration-color: #7fbf7f\">│   </span><span style=\"color: #808000; text-decoration-color: #808000\">dimension_importances</span>=<span style=\"font-weight: bold\">[</span><span style=\"color: #008080; text-decoration-color: #008080; font-weight: bold\">0.5</span>, <span style=\"color: #008080; text-decoration-color: #008080; font-weight: bold\">0.5</span><span style=\"font-weight: bold\">]</span>,\n",
       "<span style=\"color: #7fbf7f; text-decoration-color: #7fbf7f\">│   </span><span style=\"color: #808000; text-decoration-color: #808000\">discrete</span>=<span style=\"font-weight: bold\">(</span><span style=\"color: #ff0000; text-decoration-color: #ff0000; font-style: italic\">False</span>, <span style=\"color: #008080; text-decoration-color: #008080; font-weight: bold\">10</span><span style=\"font-weight: bold\">)</span>,\n",
       "<span style=\"color: #7fbf7f; text-decoration-color: #7fbf7f\">│   </span><span style=\"color: #808000; text-decoration-color: #808000\">omit_instance_type</span>=<span style=\"color: #ff0000; text-decoration-color: #ff0000; font-style: italic\">False</span>\n",
       "<span style=\"font-weight: bold\">)</span>\n",
       "</pre>\n"
      ],
      "text/plain": [
       "\u001b[1;35mFunctionApproximationInstance\u001b[0m\u001b[1m(\u001b[0m\n",
       "\u001b[2;32m│   \u001b[0m\u001b[33mfunctions\u001b[0m=\u001b[1m[\u001b[0m\n",
       "\u001b[2;32m│   │   \u001b[0m\u001b[1m<\u001b[0m\u001b[1;95mdacbench.envs.env_utils.toy_functions.SigmiodFunction\u001b[0m\u001b[39m object at \u001b[0m\u001b[1;36m0x302a8f820\u001b[0m\u001b[39m>,\u001b[0m\n",
       "\u001b[2;32m│   │   \u001b[0m\u001b[39m<dacbench.envs.env_utils.toy_functions.SigmiodFunction object at \u001b[0m\u001b[1;36m0x30355e410\u001b[0m\u001b[1m>\u001b[0m\n",
       "\u001b[2;32m│   \u001b[0m\u001b[1m]\u001b[0m,\n",
       "\u001b[2;32m│   \u001b[0m\u001b[33mdimension_importances\u001b[0m=\u001b[1m[\u001b[0m\u001b[1;36m0.5\u001b[0m, \u001b[1;36m0.5\u001b[0m\u001b[1m]\u001b[0m,\n",
       "\u001b[2;32m│   \u001b[0m\u001b[33mdiscrete\u001b[0m=\u001b[1m(\u001b[0m\u001b[3;91mFalse\u001b[0m, \u001b[1;36m10\u001b[0m\u001b[1m)\u001b[0m,\n",
       "\u001b[2;32m│   \u001b[0m\u001b[33momit_instance_type\u001b[0m=\u001b[3;91mFalse\u001b[0m\n",
       "\u001b[1m)\u001b[0m\n"
      ]
     },
     "metadata": {},
     "output_type": "display_data"
    }
   ],
   "source": [
    "pprint(bench.config[\"instance_set_path\"])\n",
    "bench.read_instance_set()\n",
    "pprint(bench.config.instance_set[0])"
   ]
  },
  {
   "cell_type": "markdown",
   "metadata": {},
   "source": [
    "As you can see, the instance contains 'discrete' and 'omit_instance_type' from the config again. Additionally, there are the actual 'functions' (in this case two sigmoids) to approximate and 'dimension_importances' which weight each function to imitate hyperparameter importances. Let's look at how the functions work:"
   ]
  },
  {
   "cell_type": "code",
   "execution_count": 22,
   "metadata": {},
   "outputs": [
    {
     "data": {
      "text/html": [
       "<pre style=\"white-space:pre;overflow-x:auto;line-height:normal;font-family:Menlo,'DejaVu Sans Mono',consolas,'Courier New',monospace\"><span style=\"color: #008000; text-decoration-color: #008000\">'Function 1 evaluated at 0: 3.99993384269159e-16'</span>\n",
       "</pre>\n"
      ],
      "text/plain": [
       "\u001b[32m'Function 1 evaluated at 0: 3.99993384269159e-16'\u001b[0m\n"
      ]
     },
     "metadata": {},
     "output_type": "display_data"
    },
    {
     "data": {
      "text/html": [
       "<pre style=\"white-space:pre;overflow-x:auto;line-height:normal;font-family:Menlo,'DejaVu Sans Mono',consolas,'Courier New',monospace\"><span style=\"color: #008000; text-decoration-color: #008000\">'Minimum of function 1: 0'</span>\n",
       "</pre>\n"
      ],
      "text/plain": [
       "\u001b[32m'Minimum of function 1: 0'\u001b[0m\n"
      ]
     },
     "metadata": {},
     "output_type": "display_data"
    },
    {
     "data": {
      "text/plain": [
       "<Axes: >"
      ]
     },
     "execution_count": 22,
     "metadata": {},
     "output_type": "execute_result"
    },
    {
     "data": {
      "image/png": "[encoded data removed]",
      "text/plain": [
       "<Figure size 640x480 with 1 Axes>"
      ]
     },
     "metadata": {},
     "output_type": "display_data"
    }
   ],
   "source": [
    "pprint(f\"Function 1 evaluated at 0: {bench.config.instance_set[0].functions[0](0)}\")\n",
    "pprint(f\"Minimum of function 1: {bench.config.instance_set[0].functions[0].fmin}\")\n",
    "values_f1 = bench.config.instance_set[0].functions[0]([0, 1, 2, 3, 4, 5, 6, 7, 8, 9])\n",
    "values_f2 = bench.config.instance_set[0].functions[1]([0, 1, 2, 3, 4, 5, 6, 7, 8, 9])\n",
    "sns.lineplot(x=[0, 1, 2, 3, 4, 5, 6, 7, 8, 9], y=values_f1, label=\"Function 1\")\n",
    "sns.lineplot(x=[0, 1, 2, 3, 4, 5, 6, 7, 8, 9], y=values_f2, label=\"Function 2\")"
   ]
  },
  {
   "cell_type": "markdown",
   "metadata": {},
   "source": [
    "The available functions for these instances are:\n",
    "- sigmoid\n",
    "- constant\n",
    "- logarithmic\n",
    "- quadratic\n",
    "- polynomial"
   ]
  },
  {
   "cell_type": "markdown",
   "metadata": {},
   "source": [
    "## Running Function Approximation\n",
    "Lastly, let's look at the function approximation benchmark in action - for this we'll use the benchmark version of this environment, i.e. the one proposed by Biedenkapp et al. in 2020. As we can see, we are tasked with approximating three sigmoids for each of which we are given three discrete values. The state tells us how many steps we have left, the scaling and inflection point of the sigmoid as well as the last guess initialized at -1:"
   ]
  },
  {
   "cell_type": "code",
   "execution_count": 23,
   "metadata": {},
   "outputs": [
    {
     "data": {
      "text/html": [
       "<pre style=\"white-space:pre;overflow-x:auto;line-height:normal;font-family:Menlo,'DejaVu Sans Mono',consolas,'Courier New',monospace\"><span style=\"color: #800080; text-decoration-color: #800080; font-weight: bold\">FunctionApproximationInstance</span><span style=\"font-weight: bold\">(</span>\n",
       "<span style=\"color: #7fbf7f; text-decoration-color: #7fbf7f\">│   </span><span style=\"color: #808000; text-decoration-color: #808000\">functions</span>=<span style=\"font-weight: bold\">[</span>\n",
       "<span style=\"color: #7fbf7f; text-decoration-color: #7fbf7f\">│   │   </span><span style=\"font-weight: bold\">&lt;</span><span style=\"color: #ff00ff; text-decoration-color: #ff00ff; font-weight: bold\">dacbench.envs.env_utils.toy_functions.SigmiodFunction</span><span style=\"color: #000000; text-decoration-color: #000000\"> object at </span><span style=\"color: #008080; text-decoration-color: #008080; font-weight: bold\">0x30355e920</span><span style=\"color: #000000; text-decoration-color: #000000\">&gt;,</span>\n",
       "<span style=\"color: #7fbf7f; text-decoration-color: #7fbf7f\">│   │   </span><span style=\"color: #000000; text-decoration-color: #000000\">&lt;dacbench.envs.env_utils.toy_functions.SigmiodFunction object at </span><span style=\"color: #008080; text-decoration-color: #008080; font-weight: bold\">0x30355fb20</span><span style=\"color: #000000; text-decoration-color: #000000\">&gt;,</span>\n",
       "<span style=\"color: #7fbf7f; text-decoration-color: #7fbf7f\">│   │   </span><span style=\"color: #000000; text-decoration-color: #000000\">&lt;dacbench.envs.env_utils.toy_functions.SigmiodFunction object at </span><span style=\"color: #008080; text-decoration-color: #008080; font-weight: bold\">0x30355fac0</span><span style=\"font-weight: bold\">&gt;</span>\n",
       "<span style=\"color: #7fbf7f; text-decoration-color: #7fbf7f\">│   </span><span style=\"font-weight: bold\">]</span>,\n",
       "<span style=\"color: #7fbf7f; text-decoration-color: #7fbf7f\">│   </span><span style=\"color: #808000; text-decoration-color: #808000\">dimension_importances</span>=<span style=\"font-weight: bold\">[</span><span style=\"color: #008080; text-decoration-color: #008080; font-weight: bold\">0.3333333333333333</span>, <span style=\"color: #008080; text-decoration-color: #008080; font-weight: bold\">0.3333333333333333</span>, <span style=\"color: #008080; text-decoration-color: #008080; font-weight: bold\">0.3333333333333333</span><span style=\"font-weight: bold\">]</span>,\n",
       "<span style=\"color: #7fbf7f; text-decoration-color: #7fbf7f\">│   </span><span style=\"color: #808000; text-decoration-color: #808000\">discrete</span>=<span style=\"font-weight: bold\">[</span><span style=\"color: #008080; text-decoration-color: #008080; font-weight: bold\">3</span>, <span style=\"color: #008080; text-decoration-color: #008080; font-weight: bold\">3</span>, <span style=\"color: #008080; text-decoration-color: #008080; font-weight: bold\">3</span><span style=\"font-weight: bold\">]</span>,\n",
       "<span style=\"color: #7fbf7f; text-decoration-color: #7fbf7f\">│   </span><span style=\"color: #808000; text-decoration-color: #808000\">omit_instance_type</span>=<span style=\"color: #00ff00; text-decoration-color: #00ff00; font-style: italic\">True</span>\n",
       "<span style=\"font-weight: bold\">)</span>\n",
       "</pre>\n"
      ],
      "text/plain": [
       "\u001b[1;35mFunctionApproximationInstance\u001b[0m\u001b[1m(\u001b[0m\n",
       "\u001b[2;32m│   \u001b[0m\u001b[33mfunctions\u001b[0m=\u001b[1m[\u001b[0m\n",
       "\u001b[2;32m│   │   \u001b[0m\u001b[1m<\u001b[0m\u001b[1;95mdacbench.envs.env_utils.toy_functions.SigmiodFunction\u001b[0m\u001b[39m object at \u001b[0m\u001b[1;36m0x30355e920\u001b[0m\u001b[39m>,\u001b[0m\n",
       "\u001b[2;32m│   │   \u001b[0m\u001b[39m<dacbench.envs.env_utils.toy_functions.SigmiodFunction object at \u001b[0m\u001b[1;36m0x30355fb20\u001b[0m\u001b[39m>,\u001b[0m\n",
       "\u001b[2;32m│   │   \u001b[0m\u001b[39m<dacbench.envs.env_utils.toy_functions.SigmiodFunction object at \u001b[0m\u001b[1;36m0x30355fac0\u001b[0m\u001b[1m>\u001b[0m\n",
       "\u001b[2;32m│   \u001b[0m\u001b[1m]\u001b[0m,\n",
       "\u001b[2;32m│   \u001b[0m\u001b[33mdimension_importances\u001b[0m=\u001b[1m[\u001b[0m\u001b[1;36m0.3333333333333333\u001b[0m, \u001b[1;36m0.3333333333333333\u001b[0m, \u001b[1;36m0.3333333333333333\u001b[0m\u001b[1m]\u001b[0m,\n",
       "\u001b[2;32m│   \u001b[0m\u001b[33mdiscrete\u001b[0m=\u001b[1m[\u001b[0m\u001b[1;36m3\u001b[0m, \u001b[1;36m3\u001b[0m, \u001b[1;36m3\u001b[0m\u001b[1m]\u001b[0m,\n",
       "\u001b[2;32m│   \u001b[0m\u001b[33momit_instance_type\u001b[0m=\u001b[3;92mTrue\u001b[0m\n",
       "\u001b[1m)\u001b[0m\n"
      ]
     },
     "metadata": {},
     "output_type": "display_data"
    },
    {
     "data": {
      "text/html": [
       "<pre style=\"white-space:pre;overflow-x:auto;line-height:normal;font-family:Menlo,'DejaVu Sans Mono',consolas,'Courier New',monospace\"><span style=\"font-weight: bold\">(</span>\n",
       "<span style=\"color: #7fbf7f; text-decoration-color: #7fbf7f\">│   </span><span style=\"color: #800080; text-decoration-color: #800080; font-weight: bold\">array</span><span style=\"font-weight: bold\">([</span><span style=\"color: #008080; text-decoration-color: #008080; font-weight: bold\">10</span>.        ,  <span style=\"color: #008080; text-decoration-color: #008080; font-weight: bold\">1.7862544</span> ,  <span style=\"color: #008080; text-decoration-color: #008080; font-weight: bold\">7.30629295</span>,  <span style=\"color: #008080; text-decoration-color: #008080; font-weight: bold\">1.53270746</span>,  <span style=\"color: #008080; text-decoration-color: #008080; font-weight: bold\">4.90764086</span>,\n",
       "<span style=\"color: #7fbf7f; text-decoration-color: #7fbf7f\">│   │   </span><span style=\"color: #008080; text-decoration-color: #008080; font-weight: bold\">4.01627273</span>, <span style=\"color: #008080; text-decoration-color: #008080; font-weight: bold\">11.160623</span>  , <span style=\"color: #008080; text-decoration-color: #008080; font-weight: bold\">-1</span>.        , <span style=\"color: #008080; text-decoration-color: #008080; font-weight: bold\">-1</span>.        , <span style=\"color: #008080; text-decoration-color: #008080; font-weight: bold\">-1</span>.        <span style=\"font-weight: bold\">])</span>,\n",
       "<span style=\"color: #7fbf7f; text-decoration-color: #7fbf7f\">│   </span><span style=\"font-weight: bold\">{}</span>\n",
       "<span style=\"font-weight: bold\">)</span>\n",
       "</pre>\n"
      ],
      "text/plain": [
       "\u001b[1m(\u001b[0m\n",
       "\u001b[2;32m│   \u001b[0m\u001b[1;35marray\u001b[0m\u001b[1m(\u001b[0m\u001b[1m[\u001b[0m\u001b[1;36m10\u001b[0m.        ,  \u001b[1;36m1.7862544\u001b[0m ,  \u001b[1;36m7.30629295\u001b[0m,  \u001b[1;36m1.53270746\u001b[0m,  \u001b[1;36m4.90764086\u001b[0m,\n",
       "\u001b[2;32m│   │   \u001b[0m\u001b[1;36m4.01627273\u001b[0m, \u001b[1;36m11.160623\u001b[0m  , \u001b[1;36m-1\u001b[0m.        , \u001b[1;36m-1\u001b[0m.        , \u001b[1;36m-1\u001b[0m.        \u001b[1m]\u001b[0m\u001b[1m)\u001b[0m,\n",
       "\u001b[2;32m│   \u001b[0m\u001b[1m{\u001b[0m\u001b[1m}\u001b[0m\n",
       "\u001b[1m)\u001b[0m\n"
      ]
     },
     "metadata": {},
     "output_type": "display_data"
    }
   ],
   "source": [
    "env = bench.get_benchmark(dimension=3, seed=0)\n",
    "pprint(env.instance)\n",
    "pprint(env.reset())"
   ]
  },
  {
   "cell_type": "markdown",
   "metadata": {},
   "source": [
    "If we take a step, we see the updated timestep and last action:"
   ]
  },
  {
   "cell_type": "code",
   "execution_count": 24,
   "metadata": {},
   "outputs": [
    {
     "data": {
      "text/html": [
       "<pre style=\"white-space:pre;overflow-x:auto;line-height:normal;font-family:Menlo,'DejaVu Sans Mono',consolas,'Courier New',monospace\"><span style=\"color: #800080; text-decoration-color: #800080; font-weight: bold\">array</span><span style=\"font-weight: bold\">([</span> <span style=\"color: #008080; text-decoration-color: #008080; font-weight: bold\">9</span>.        ,  <span style=\"color: #008080; text-decoration-color: #008080; font-weight: bold\">1.7862544</span> ,  <span style=\"color: #008080; text-decoration-color: #008080; font-weight: bold\">7.30629295</span>,  <span style=\"color: #008080; text-decoration-color: #008080; font-weight: bold\">1.53270746</span>,  <span style=\"color: #008080; text-decoration-color: #008080; font-weight: bold\">4.90764086</span>,\n",
       "<span style=\"color: #7fbf7f; text-decoration-color: #7fbf7f\">│   │   </span><span style=\"color: #008080; text-decoration-color: #008080; font-weight: bold\">4.01627273</span>, <span style=\"color: #008080; text-decoration-color: #008080; font-weight: bold\">11.160623</span>  ,  <span style=\"color: #008080; text-decoration-color: #008080; font-weight: bold\">1</span>.        ,  <span style=\"color: #008080; text-decoration-color: #008080; font-weight: bold\">1</span>.        ,  <span style=\"color: #008080; text-decoration-color: #008080; font-weight: bold\">0</span>.        <span style=\"font-weight: bold\">])</span>\n",
       "</pre>\n"
      ],
      "text/plain": [
       "\u001b[1;35marray\u001b[0m\u001b[1m(\u001b[0m\u001b[1m[\u001b[0m \u001b[1;36m9\u001b[0m.        ,  \u001b[1;36m1.7862544\u001b[0m ,  \u001b[1;36m7.30629295\u001b[0m,  \u001b[1;36m1.53270746\u001b[0m,  \u001b[1;36m4.90764086\u001b[0m,\n",
       "\u001b[2;32m│   │   \u001b[0m\u001b[1;36m4.01627273\u001b[0m, \u001b[1;36m11.160623\u001b[0m  ,  \u001b[1;36m1\u001b[0m.        ,  \u001b[1;36m1\u001b[0m.        ,  \u001b[1;36m0\u001b[0m.        \u001b[1m]\u001b[0m\u001b[1m)\u001b[0m\n"
      ]
     },
     "metadata": {},
     "output_type": "display_data"
    }
   ],
   "source": [
    "action = env.action_space.sample()\n",
    "state, reward, terminated, truncated, info = env.step(action)\n",
    "pprint(state)"
   ]
  },
  {
   "cell_type": "markdown",
   "metadata": {},
   "source": [
    "Furthermore, we also get a reward and termination and truncation signals. Truncation will be set to true after the number of steps exceeds the cutoff."
   ]
  },
  {
   "cell_type": "code",
   "execution_count": 25,
   "metadata": {},
   "outputs": [
    {
     "data": {
      "text/html": [
       "<pre style=\"white-space:pre;overflow-x:auto;line-height:normal;font-family:Menlo,'DejaVu Sans Mono',consolas,'Courier New',monospace\"><span style=\"color: #008000; text-decoration-color: #008000\">'Reward 8.524310378138883e-05'</span>\n",
       "</pre>\n"
      ],
      "text/plain": [
       "\u001b[32m'Reward 8.524310378138883e-05'\u001b[0m\n"
      ]
     },
     "metadata": {},
     "output_type": "display_data"
    },
    {
     "data": {
      "text/html": [
       "<pre style=\"white-space:pre;overflow-x:auto;line-height:normal;font-family:Menlo,'DejaVu Sans Mono',consolas,'Courier New',monospace\"><span style=\"color: #008000; text-decoration-color: #008000\">'Terminated False'</span>\n",
       "</pre>\n"
      ],
      "text/plain": [
       "\u001b[32m'Terminated False'\u001b[0m\n"
      ]
     },
     "metadata": {},
     "output_type": "display_data"
    },
    {
     "data": {
      "text/html": [
       "<pre style=\"white-space:pre;overflow-x:auto;line-height:normal;font-family:Menlo,'DejaVu Sans Mono',consolas,'Courier New',monospace\"><span style=\"color: #008000; text-decoration-color: #008000\">'Truncated False'</span>\n",
       "</pre>\n"
      ],
      "text/plain": [
       "\u001b[32m'Truncated False'\u001b[0m\n"
      ]
     },
     "metadata": {},
     "output_type": "display_data"
    }
   ],
   "source": [
    "pprint(f\"Reward {reward}\")\n",
    "pprint(f\"Terminated {terminated}\")\n",
    "pprint(f\"Truncated {truncated}\")"
   ]
  }
 ],
 "metadata": {
  "kernelspec": {
   "display_name": "dacbench",
   "language": "python",
   "name": "python3"
  },
  "language_info": {
   "codemirror_mode": {
    "name": "ipython",
    "version": 3
   },
   "file_extension": ".py",
   "mimetype": "text/x-python",
   "name": "python",
   "nbconvert_exporter": "python",
   "pygments_lexer": "ipython3",
   "version": "3.10.13"
  }
 },
 "nbformat": 4,
 "nbformat_minor": 2
}
