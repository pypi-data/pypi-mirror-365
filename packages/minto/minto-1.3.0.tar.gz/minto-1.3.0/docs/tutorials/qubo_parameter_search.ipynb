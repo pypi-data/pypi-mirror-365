{
 "cells": [
  {
   "cell_type": "markdown",
   "metadata": {},
   "source": [
    "# QUBO's hyper parameter search\n",
    "\n",
    "This notebook is a simple example of how to use `MINTO` to explore the hyperparameter space of a QUBO model.\n",
    "For this example, we will handle the Traveling Salesman Problem with quadratic assignment formulation. For more details about the Traveling Salesman Problem, please refer to other resources."
   ]
  },
  {
   "cell_type": "code",
   "execution_count": 1,
   "metadata": {},
   "outputs": [],
   "source": [
    "import minto\n",
    "import matplotlib.pyplot as plt\n",
    "import jijmodeling as jm"
   ]
  },
  {
   "cell_type": "code",
   "execution_count": 2,
   "metadata": {},
   "outputs": [
    {
     "data": {
      "text/latex": [
       "$$\\begin{array}{cccc}\\text{Problem:} & \\text{QuadTSP} & & \\\\& & \\min \\quad \\displaystyle \\sum_{i = 0}^{n - 1} \\sum_{j = 0}^{n - 1} d_{i, j} \\cdot \\sum_{t = 0}^{n - 1} x_{i, t} \\cdot x_{j, \\left(t + 1\\right) \\bmod n} & \\\\\\text{{s.t.}} & & & \\\\ & \\text{one-city} & \\displaystyle \\sum_{\\ast_{1} = 0}^{n - 1} x_{i, \\ast_{1}} = 1 & \\forall i \\in \\left\\{0,\\ldots,n - 1\\right\\} \\\\ & \\text{one-time} & \\displaystyle \\sum_{\\ast_{0} = 0}^{n - 1} x_{\\ast_{0}, t} = 1 & \\forall t \\in \\left\\{0,\\ldots,n - 1\\right\\} \\\\\\text{{where}} & & & \\\\& x & 2\\text{-dim binary variable}\\\\\\end{array}$$"
      ],
      "text/plain": [
       "<jijmodeling.Problem at 0x113c17720>"
      ]
     },
     "execution_count": 2,
     "metadata": {},
     "output_type": "execute_result"
    }
   ],
   "source": [
    "import minto.problems.tsp\n",
    "\n",
    "tsp = minto.problems.tsp.QuadTSP()\n",
    "tsp_problem = tsp.problem()\n",
    "\n",
    "n = 8\n",
    "tsp_data = tsp.data(n=n)\n",
    "\n",
    "tsp_problem"
   ]
  },
  {
   "cell_type": "code",
   "execution_count": 3,
   "metadata": {},
   "outputs": [],
   "source": [
    "interpreter = jm.Interpreter(tsp_data)\n",
    "instance = interpreter.eval_problem(tsp_problem)"
   ]
  },
  {
   "cell_type": "code",
   "execution_count": 4,
   "metadata": {},
   "outputs": [],
   "source": [
    "parametric_qubo = instance.uniform_penalty_method()"
   ]
  },
  {
   "cell_type": "markdown",
   "metadata": {},
   "source": [
    "$$\n",
    "E(x; A) = \\sum_{i=0}^{n-1} \\sum_{j=0}^{n-1} d_{ij} \\sum_{t=0}^{n-1} x_{it} x_{j, (t+1)\\mod n} \n",
    "+ A \\left[\n",
    "\\sum_i \\left(\\sum_{t} x_{i, t} - 1\\right)^2 + \\sum_t \\left(\\sum_{i} x_{i, t} - 1\\right)^2\n",
    "\\right]\n",
    "$$"
   ]
  },
  {
   "cell_type": "code",
   "execution_count": 5,
   "metadata": {},
   "outputs": [],
   "source": [
    "import ommx_openjij_adapter as oj_ad\n",
    "\n",
    "A = parametric_qubo.parameters[0]\n",
    "\n",
    "parameter_values = [0.4, 0.5, 0.6, 0.7, 0.8, 0.9, 1.0]\n",
    "\n",
    "experiment = minto.Experiment(auto_saving=False)\n",
    "for param in parameter_values:\n",
    "    with experiment.run():\n",
    "        qubo = parametric_qubo.with_parameters({A.id: param})\n",
    "        samples = oj_ad.sample_qubo_sa(qubo, num_reads=20)\n",
    "        ox_sampleset = qubo.evaluate_samples(samples)\n",
    "        experiment.log_sampleset(ox_sampleset)\n",
    "        experiment.log_parameter(\"A\", param)"
   ]
  },
  {
   "cell_type": "code",
   "execution_count": 6,
   "metadata": {},
   "outputs": [
    {
     "data": {
      "text/html": [
       "<div>\n",
       "<style scoped>\n",
       "    .dataframe tbody tr th:only-of-type {\n",
       "        vertical-align: middle;\n",
       "    }\n",
       "\n",
       "    .dataframe tbody tr th {\n",
       "        vertical-align: top;\n",
       "    }\n",
       "\n",
       "    .dataframe thead tr th {\n",
       "        text-align: left;\n",
       "    }\n",
       "\n",
       "    .dataframe thead tr:last-of-type th {\n",
       "        text-align: right;\n",
       "    }\n",
       "</style>\n",
       "<table border=\"1\" class=\"dataframe\">\n",
       "  <thead>\n",
       "    <tr>\n",
       "      <th></th>\n",
       "      <th colspan=\"8\" halign=\"left\">sampleset_0</th>\n",
       "      <th>parameter</th>\n",
       "      <th colspan=\"2\" halign=\"left\">metadata</th>\n",
       "    </tr>\n",
       "    <tr>\n",
       "      <th></th>\n",
       "      <th>num_samples</th>\n",
       "      <th>obj_mean</th>\n",
       "      <th>obj_std</th>\n",
       "      <th>obj_min</th>\n",
       "      <th>obj_max</th>\n",
       "      <th>feasible</th>\n",
       "      <th>feasible_unrelaxed</th>\n",
       "      <th>name</th>\n",
       "      <th>A</th>\n",
       "      <th>run_id</th>\n",
       "      <th>elapsed_time</th>\n",
       "    </tr>\n",
       "    <tr>\n",
       "      <th>run_id</th>\n",
       "      <th></th>\n",
       "      <th></th>\n",
       "      <th></th>\n",
       "      <th></th>\n",
       "      <th></th>\n",
       "      <th></th>\n",
       "      <th></th>\n",
       "      <th></th>\n",
       "      <th></th>\n",
       "      <th></th>\n",
       "      <th></th>\n",
       "    </tr>\n",
       "  </thead>\n",
       "  <tbody>\n",
       "    <tr>\n",
       "      <th>0</th>\n",
       "      <td>20</td>\n",
       "      <td>2.353298</td>\n",
       "      <td>0.128415</td>\n",
       "      <td>2.197453</td>\n",
       "      <td>2.562081</td>\n",
       "      <td>20</td>\n",
       "      <td>0</td>\n",
       "      <td>0</td>\n",
       "      <td>0.4</td>\n",
       "      <td>0</td>\n",
       "      <td>0.042719</td>\n",
       "    </tr>\n",
       "    <tr>\n",
       "      <th>1</th>\n",
       "      <td>20</td>\n",
       "      <td>2.621065</td>\n",
       "      <td>0.123054</td>\n",
       "      <td>2.403020</td>\n",
       "      <td>2.828407</td>\n",
       "      <td>20</td>\n",
       "      <td>5</td>\n",
       "      <td>0</td>\n",
       "      <td>0.5</td>\n",
       "      <td>1</td>\n",
       "      <td>0.037797</td>\n",
       "    </tr>\n",
       "    <tr>\n",
       "      <th>2</th>\n",
       "      <td>20</td>\n",
       "      <td>2.815103</td>\n",
       "      <td>0.170415</td>\n",
       "      <td>2.470182</td>\n",
       "      <td>3.086925</td>\n",
       "      <td>20</td>\n",
       "      <td>17</td>\n",
       "      <td>0</td>\n",
       "      <td>0.6</td>\n",
       "      <td>2</td>\n",
       "      <td>0.045210</td>\n",
       "    </tr>\n",
       "    <tr>\n",
       "      <th>3</th>\n",
       "      <td>20</td>\n",
       "      <td>2.902571</td>\n",
       "      <td>0.196432</td>\n",
       "      <td>2.470182</td>\n",
       "      <td>3.437990</td>\n",
       "      <td>20</td>\n",
       "      <td>20</td>\n",
       "      <td>0</td>\n",
       "      <td>0.7</td>\n",
       "      <td>3</td>\n",
       "      <td>0.029640</td>\n",
       "    </tr>\n",
       "    <tr>\n",
       "      <th>4</th>\n",
       "      <td>20</td>\n",
       "      <td>2.949916</td>\n",
       "      <td>0.233024</td>\n",
       "      <td>2.470182</td>\n",
       "      <td>3.382462</td>\n",
       "      <td>20</td>\n",
       "      <td>20</td>\n",
       "      <td>0</td>\n",
       "      <td>0.8</td>\n",
       "      <td>4</td>\n",
       "      <td>0.031473</td>\n",
       "    </tr>\n",
       "    <tr>\n",
       "      <th>5</th>\n",
       "      <td>20</td>\n",
       "      <td>2.949862</td>\n",
       "      <td>0.251585</td>\n",
       "      <td>2.567745</td>\n",
       "      <td>3.326603</td>\n",
       "      <td>20</td>\n",
       "      <td>20</td>\n",
       "      <td>0</td>\n",
       "      <td>0.9</td>\n",
       "      <td>5</td>\n",
       "      <td>0.027570</td>\n",
       "    </tr>\n",
       "    <tr>\n",
       "      <th>6</th>\n",
       "      <td>20</td>\n",
       "      <td>2.975748</td>\n",
       "      <td>0.323970</td>\n",
       "      <td>2.470182</td>\n",
       "      <td>3.931625</td>\n",
       "      <td>20</td>\n",
       "      <td>20</td>\n",
       "      <td>0</td>\n",
       "      <td>1.0</td>\n",
       "      <td>6</td>\n",
       "      <td>0.029543</td>\n",
       "    </tr>\n",
       "  </tbody>\n",
       "</table>\n",
       "</div>"
      ],
      "text/plain": [
       "       sampleset_0                                                   \\\n",
       "       num_samples  obj_mean   obj_std   obj_min   obj_max feasible   \n",
       "run_id                                                                \n",
       "0               20  2.353298  0.128415  2.197453  2.562081       20   \n",
       "1               20  2.621065  0.123054  2.403020  2.828407       20   \n",
       "2               20  2.815103  0.170415  2.470182  3.086925       20   \n",
       "3               20  2.902571  0.196432  2.470182  3.437990       20   \n",
       "4               20  2.949916  0.233024  2.470182  3.382462       20   \n",
       "5               20  2.949862  0.251585  2.567745  3.326603       20   \n",
       "6               20  2.975748  0.323970  2.470182  3.931625       20   \n",
       "\n",
       "                               parameter metadata               \n",
       "       feasible_unrelaxed name         A   run_id elapsed_time  \n",
       "run_id                                                          \n",
       "0                       0    0       0.4        0     0.042719  \n",
       "1                       5    0       0.5        1     0.037797  \n",
       "2                      17    0       0.6        2     0.045210  \n",
       "3                      20    0       0.7        3     0.029640  \n",
       "4                      20    0       0.8        4     0.031473  \n",
       "5                      20    0       0.9        5     0.027570  \n",
       "6                      20    0       1.0        6     0.029543  "
      ]
     },
     "execution_count": 6,
     "metadata": {},
     "output_type": "execute_result"
    }
   ],
   "source": [
    "table = experiment.get_run_table()\n",
    "table"
   ]
  },
  {
   "cell_type": "code",
   "execution_count": 7,
   "metadata": {},
   "outputs": [
    {
     "data": {
      "image/png": "[encoded data removed]",
      "text/plain": [
       "<Figure size 640x480 with 2 Axes>"
      ]
     },
     "metadata": {},
     "output_type": "display_data"
    }
   ],
   "source": [
    "fig, ax1 = plt.subplots()\n",
    "\n",
    "# First y-axis for objective value\n",
    "ax1.set_xlabel(\"Parameter A\")\n",
    "ax1.set_ylabel(\"Objective Value\", color=\"tab:blue\")\n",
    "ax1.plot(table[\"parameter\"][\"A\"], table[\"sampleset_0\"][\"obj_mean\"], \"-o\", color=\"tab:blue\")\n",
    "ax1.tick_params(axis=\"y\", labelcolor=\"tab:blue\")\n",
    "\n",
    "# Second y-axis for feasible count\n",
    "ax2 = ax1.twinx()\n",
    "ax2.set_ylabel(\"Feasible Count\", color=\"tab:orange\")\n",
    "ax2.plot(table[\"parameter\"][\"A\"], table[\"sampleset_0\"][\"feasible\"], \"-o\", color=\"tab:orange\")\n",
    "ax2.tick_params(axis=\"y\", labelcolor=\"tab:orange\")\n",
    "\n",
    "plt.title(\"Objective Value and Feasible Count vs Parameter A\")\n",
    "fig.tight_layout()"
   ]
  }
 ],
 "metadata": {
  "kernelspec": {
   "display_name": "minto-FuAFD3Cq-py3.10",
   "language": "python",
   "name": "python3"
  },
  "language_info": {
   "codemirror_mode": {
    "name": "ipython",
    "version": 3
   },
   "file_extension": ".py",
   "mimetype": "text/x-python",
   "name": "python",
   "nbconvert_exporter": "python",
   "pygments_lexer": "ipython3",
   "version": "3.10.13"
  }
 },
 "nbformat": 4,
 "nbformat_minor": 2
}
